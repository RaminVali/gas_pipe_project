{
 "cells": [
  {
   "cell_type": "markdown",
   "metadata": {},
   "source": [
    "# Exploring USA Gas Pipeline Accident Data\n",
    "\n",
    "The United States maintains over 3.2 million kilometers of natural gas distribution mains and pipelines, over 500,000 kilometers of gas transmission and gathering pipelines, over 180,000 kilometers hazardous liquid pipeline, and 114 active liquid natural gas plants that are connected to natural gas transmission and distribution systems [<sup>1</sup>](https://www.ncsl.org/research/energy/state-gas-pipelines.aspx#:~:text=The%20United%20States%20maintains%20about,gas%20transmission%20and%20distribution%20systems.). \n",
    "\n",
    "The pipeline system includes:\n",
    "\n",
    " * __Transmission lines__ to transport large quantities of natural gas or hazardous liquids over long distances from gathering lines or storage facilities to distribution centers, storage facilities, power plants, industrial customers and municipalities. Most transmission pipelines are located underground.\n",
    " \n",
    " * __Distribution lines__ to move gas to industrial customers. Smaller distribution lines connect businesses and homes. Distribution lines usually are installed in underground utility easements along streets. Gas pipeline *commodities* include natural gas, hydrogen gas, propane gas and synthetic gas. Almost all gas gathering lines are for natural gas. Distribution and transmission are mostly for natural gas, but include some propane and hydrogen.\n",
    " \n",
    "In this project we explore the incient data provided by the [Pipeline and Hazardous Materials Safety Administration](https://www.phmsa.dot.gov/data-and-statistics/pipeline/distribution-transmission-gathering-lng-and-liquid-accident-and-incident-data) to explore the locations, causes and asspcoated casualties of gas pipeline incidents in the United States over the last 10 years.We utilise [plotly](https://plotly.com/) to make interactive visualisations of the data. "
   ]
  },
  {
   "cell_type": "code",
   "execution_count": 2,
   "metadata": {},
   "outputs": [],
   "source": [
    "#importing the \n",
    "import pandas as pd\n",
    "\n",
    "#import wget\n",
    "\n",
    "#plotty things\n",
    "import plotly\n",
    "import plotly.graph_objects as go\n",
    "import plotly.offline as pyo\n",
    "from plotly.offline import init_notebook_mode\n",
    "import plotly.express as px\n",
    "\n",
    "import pyproj\n",
    "\n",
    "#mappy things\n",
    "#import geopandas as gpd\n",
    "#import shapely.geometry # to make the interactive plotly pipe shapes work \n",
    "#from shapely.geometry import Point  #To display lat-long locations on the maps\n",
    "\n",
    "\n",
    "pd.options.display.max_columns = 999\n"
   ]
  },
  {
   "cell_type": "markdown",
   "metadata": {},
   "source": [
    "# Pipeline Geographical Locations \n",
    "The figures below show the geographical locations of the gas pipelines. The data associated with these can viwed by hovering over the individual shape. \n",
    "The pipeline representations are in three parts, the __Transmission lines__, the __Distribution lines__, and finally the __Gulf of Mexico lines__. "
   ]
  },
  {
   "cell_type": "code",
   "execution_count": null,
   "metadata": {},
   "outputs": [],
   "source": [
    "# Loading the converted shape files. The shape files have to be converted from their geometric multiline representations to lat/lon \n",
    "# representations of the two ends of each of the segments. The algorithem to do this is in the previous versions of the code in the github repository. \n",
    "# You can simply uncomment each cell and have the .pkl variable constructed again. It just takes a little bit fo time, hence the \n",
    "# loading of the variable to save time.  \n",
    "geo_df_trans = pd.read_pickle('geo_df_trans.pkl') #Gas transmission lines file\n",
    "geo_df = pd.read_pickle('geo_df.pkl') # Gas distribution lines file, its the largest\n",
    "geo_df_mx = pd.read_pickle('geo_df_mx.pkl') #Gas pipelines in the Gulf of Mexico"
   ]
  },
  {
   "cell_type": "code",
   "execution_count": null,
   "metadata": {},
   "outputs": [],
   "source": [
    "#Plotting the dataframe we made with lats, lons and names etc form the HGL, Inter/Intra and Gulf of Mexico shape files, \n",
    "# we manipulate the hoverdata to display what we like.\n",
    "\n",
    "\n",
    "# GULF OF MEXICO\n",
    "fig = px.line_geo(geo_df_mx,lat = geo_df_mx.lats, lon = geo_df_mx.lons, hover_name = geo_df_mx.Operator_Name, locationmode=\"USA-states\", scope=\"usa\",\n",
    "                 hover_data={'lats':False, #remove latitude form hover data\n",
    "                             'lons':False, #remove longitude form hover data\n",
    "                             'Category':False, #remove category from hover data\n",
    "                              },\n",
    "                              color = 'Category' )\n",
    "\n",
    "fig.update_traces(line_color='#8723e3', line_width=0.25) #updating the default lines used for HGL piepes\n",
    "\n",
    "\n",
    "# #--------------------------------------\n",
    "#Inter/Intra State Pipelines\n",
    "fig2 = px.line_geo(geo_df,lat = geo_df.lats, lon = geo_df.lons, hover_name = geo_df.Operator_Name, locationmode=\"USA-states\", scope=\"usa\",\n",
    "                 hover_data={'lats':False, #remove latitude form hover data\n",
    "                             'lons':False, #remove longitude form hover data\n",
    "                             'Category':False, #remove category from hover data\n",
    "                            },\n",
    "                               color = 'Category' )\n",
    "fig2.update_traces(line_color='#293d6e', line_width=0.25) #updating the default lines used for HGL piepes\n",
    "# #--------------------------------------\n",
    "\n",
    "#HGL Transmission Lines\n",
    "#plotting the shape file onto the USA map using plotly\n",
    "fig3 = px.line_geo(geo_df_trans,lat = geo_df_trans.lats, lon = geo_df_trans.lons, hover_name = geo_df_trans.Pipe_Name, locationmode=\"USA-states\", scope=\"usa\",\n",
    "                 hover_data={'lats':False, #remove latitude form hover data\n",
    "                             'lons':False, #remove longitude form hover data\n",
    "                             'Operator_Name': True, \n",
    "                             'Category':False, #remove category from hover data\n",
    "                            },\n",
    "                               color = 'Category')\n",
    "fig3.update_traces(line_color='#000000', line_width=.75) #updating the default lines used for HGL piepes\n",
    "#\n",
    "#Adding all the traces together in one map\n",
    "fig.add_trace(fig2.data[0]) \n",
    "fig.add_trace(fig3.data[0]) \n",
    "# #--------------------------------------\n",
    "\n",
    "\n",
    "#fig.update_layout()\n",
    "fig.update_layout(title = 'USA Gas Pipelines',\n",
    "                  hovermode=\"closest\",\n",
    "                  margin={\"r\":0,\"t\":0,\"l\":0,\"b\":0},\n",
    "                  showlegend = True)\n",
    "\n",
    "\n",
    "fig.update_geos(\n",
    "    resolution=50,\n",
    "    showland=True, landcolor=\"#b1f699\",\n",
    "    showlakes=True, lakecolor=\"LightBlue\")\n",
    "\n",
    "fig.show()\n",
    "\n"
   ]
  },
  {
   "cell_type": "markdown",
   "metadata": {},
   "source": [
    "# Loading and Filtering the Gas Transmission Lines Incident Data\n",
    "\n",
    "Now that we have some knowledge about the location of the various types of gas pipelines, we take a closer look at the incident data associated with these.\n",
    "We start with the gas transmission pipelines. "
   ]
  },
  {
   "cell_type": "code",
   "execution_count": 3,
   "metadata": {},
   "outputs": [
    {
     "data": {
      "text/plain": [
       "(1521, 625)"
      ]
     },
     "execution_count": 3,
     "metadata": {},
     "output_type": "execute_result"
    }
   ],
   "source": [
    "#changed encoding by saving as csv file again, tab delimited\n",
    "HGL_trans_accidents = pd.read_csv('data/incident_gas_transmission_gathering_jan2010_present.csv',low_memory=False) \n",
    "HGL_trans_accidents.shape"
   ]
  },
  {
   "cell_type": "markdown",
   "metadata": {},
   "source": [
    "The data file we have has so many columns that are not useful, so I have made a .txt file of the columns required for our analysis. It is saved in the same directory."
   ]
  },
  {
   "cell_type": "code",
   "execution_count": 4,
   "metadata": {},
   "outputs": [
    {
     "data": {
      "text/html": [
       "<div>\n",
       "<style scoped>\n",
       "    .dataframe tbody tr th:only-of-type {\n",
       "        vertical-align: middle;\n",
       "    }\n",
       "\n",
       "    .dataframe tbody tr th {\n",
       "        vertical-align: top;\n",
       "    }\n",
       "\n",
       "    .dataframe thead th {\n",
       "        text-align: right;\n",
       "    }\n",
       "</style>\n",
       "<table border=\"1\" class=\"dataframe\">\n",
       "  <thead>\n",
       "    <tr style=\"text-align: right;\">\n",
       "      <th></th>\n",
       "      <th>REPORT_RECEIVED_DATE</th>\n",
       "      <th>IYEAR</th>\n",
       "      <th>REPORT_NUMBER</th>\n",
       "      <th>NAME</th>\n",
       "      <th>OPERATOR_STATE_ABBREVIATION</th>\n",
       "      <th>LOCATION_LATITUDE</th>\n",
       "      <th>LOCATION_LONGITUDE</th>\n",
       "      <th>COMMODITY_RELEASED_TYPE</th>\n",
       "      <th>UNINTENTIONAL_RELEASE</th>\n",
       "      <th>INTENTIONAL_RELEASE</th>\n",
       "      <th>ACCOMPANYING_LIQUID</th>\n",
       "      <th>CAUSE</th>\n",
       "      <th>CAUSE_DETAILS</th>\n",
       "      <th>FATALITY_IND</th>\n",
       "      <th>NUM_EMP_FATALITIES</th>\n",
       "      <th>NUM_CONTR_FATALITIES</th>\n",
       "      <th>NUM_ER_FATALITIES</th>\n",
       "      <th>NUM_WORKER_FATALITIES</th>\n",
       "      <th>NUM_GP_FATALITIES</th>\n",
       "      <th>FATAL</th>\n",
       "      <th>INJURY_IND</th>\n",
       "      <th>NUM_EMP_INJURIES</th>\n",
       "      <th>NUM_CONTR_INJURIES</th>\n",
       "      <th>NUM_ER_INJURIES</th>\n",
       "      <th>NUM_WORKER_INJURIES</th>\n",
       "      <th>NUM_GP_INJURIES</th>\n",
       "      <th>INJURE</th>\n",
       "      <th>GAS_CONSUMED_BY_FIRE_IN_MCF</th>\n",
       "      <th>EXPLODE_IND</th>\n",
       "      <th>INCIDENT_AREA_TYPE</th>\n",
       "      <th>SYSTEM_PART_INVOLVED</th>\n",
       "      <th>INSTALLATION_YEAR</th>\n",
       "      <th>ITEM_INVOLVED</th>\n",
       "      <th>PIPE_TYPE</th>\n",
       "      <th>PIPE_DIAMETER</th>\n",
       "      <th>PIPE_WALL_THICKNESS</th>\n",
       "      <th>PIPE_SMYS</th>\n",
       "      <th>PIPE_SPECIFICATION</th>\n",
       "      <th>PIPE_SEAM_TYPE</th>\n",
       "      <th>PIPE_MANUFACTURER</th>\n",
       "      <th>PIPE_COATING_TYPE</th>\n",
       "      <th>PIPE_COATING_DETAILS</th>\n",
       "      <th>COATING_APPLIED_IND</th>\n",
       "      <th>MATERIAL_INVOLVED</th>\n",
       "      <th>RELEASE_TYPE</th>\n",
       "      <th>LEAK_TYPE</th>\n",
       "      <th>RELEASE_TYPE_DETAILS</th>\n",
       "      <th>EST_COST_OPER_PAID</th>\n",
       "      <th>EST_COST_UNINTENTIONAL_RELEASE</th>\n",
       "      <th>EST_COST_INTENTIONAL_RELEASE</th>\n",
       "      <th>EST_COST_PROP_DAMAGE</th>\n",
       "      <th>EST_COST_EMERGENCY</th>\n",
       "      <th>EST_COST_OTHER</th>\n",
       "      <th>EST_COST_OTHER_DETAILS</th>\n",
       "      <th>GAS_COST_IN_MCF</th>\n",
       "      <th>NUM_PERSONS_HOSP_NOT_OVNGHT</th>\n",
       "      <th>NUM_INJURED_TREATED_BY_EMT</th>\n",
       "      <th>NUM_RESIDENT_BUILDING_AFFCTD</th>\n",
       "      <th>NUM_BUSINESS_BUILDING_AFFCTD</th>\n",
       "      <th>ACCIDENT_PSIG</th>\n",
       "      <th>GAS_FLOW_IN_PIPE_IN_MCF</th>\n",
       "    </tr>\n",
       "  </thead>\n",
       "  <tbody>\n",
       "    <tr>\n",
       "      <th>52</th>\n",
       "      <td>1/14/2022</td>\n",
       "      <td>2021</td>\n",
       "      <td>20220003</td>\n",
       "      <td>COLUMBIA GAS TRANSMISSION, LLC</td>\n",
       "      <td>TX</td>\n",
       "      <td>37.560520</td>\n",
       "      <td>-81.884680</td>\n",
       "      <td>NATURAL GAS</td>\n",
       "      <td>455.0</td>\n",
       "      <td>6857.0</td>\n",
       "      <td>0.0</td>\n",
       "      <td>OTHER INCIDENT CAUSE</td>\n",
       "      <td>UNKNOWN</td>\n",
       "      <td>NO</td>\n",
       "      <td>NaN</td>\n",
       "      <td>NaN</td>\n",
       "      <td>NaN</td>\n",
       "      <td>NaN</td>\n",
       "      <td>NaN</td>\n",
       "      <td>0</td>\n",
       "      <td>NO</td>\n",
       "      <td>NaN</td>\n",
       "      <td>NaN</td>\n",
       "      <td>NaN</td>\n",
       "      <td>NaN</td>\n",
       "      <td>NaN</td>\n",
       "      <td>0</td>\n",
       "      <td>NaN</td>\n",
       "      <td>NaN</td>\n",
       "      <td>UNDERGROUND</td>\n",
       "      <td>ONSHORE PIPELINE, INCLUDING VALVE SITES</td>\n",
       "      <td>1997</td>\n",
       "      <td>PIPE</td>\n",
       "      <td>PIPE BODY</td>\n",
       "      <td>24.0</td>\n",
       "      <td>0.312</td>\n",
       "      <td>65000</td>\n",
       "      <td>API 5L</td>\n",
       "      <td>LONGITUDINAL ERW - HIGH FREQUENCY</td>\n",
       "      <td>STUPP</td>\n",
       "      <td>EPOXY</td>\n",
       "      <td>NaN</td>\n",
       "      <td>NO</td>\n",
       "      <td>CARBON STEEL</td>\n",
       "      <td>LEAK</td>\n",
       "      <td>CRACK</td>\n",
       "      <td>NaN</td>\n",
       "      <td>0.0</td>\n",
       "      <td>2457.0</td>\n",
       "      <td>37028.0</td>\n",
       "      <td>122000.0</td>\n",
       "      <td>500.0</td>\n",
       "      <td>0.0</td>\n",
       "      <td>THERE WAS NO EMERGENCY RESPONSE; THIS WAS A GR...</td>\n",
       "      <td>5.40</td>\n",
       "      <td>0.0</td>\n",
       "      <td>0.0</td>\n",
       "      <td>0.0</td>\n",
       "      <td>0.0</td>\n",
       "      <td>800.0</td>\n",
       "      <td>73000.0</td>\n",
       "    </tr>\n",
       "    <tr>\n",
       "      <th>96</th>\n",
       "      <td>8/20/2021</td>\n",
       "      <td>2021</td>\n",
       "      <td>20210072</td>\n",
       "      <td>TENNESSEE GAS PIPELINE COMPANY</td>\n",
       "      <td>TX</td>\n",
       "      <td>38.270336</td>\n",
       "      <td>-82.576559</td>\n",
       "      <td>NATURAL GAS</td>\n",
       "      <td>92804.0</td>\n",
       "      <td>0.0</td>\n",
       "      <td>0.0</td>\n",
       "      <td>EQUIPMENT FAILURE</td>\n",
       "      <td>MALFUNCTION OF CONTROL/RELIEF EQUIPMENT</td>\n",
       "      <td>NO</td>\n",
       "      <td>NaN</td>\n",
       "      <td>NaN</td>\n",
       "      <td>NaN</td>\n",
       "      <td>NaN</td>\n",
       "      <td>NaN</td>\n",
       "      <td>0</td>\n",
       "      <td>NO</td>\n",
       "      <td>NaN</td>\n",
       "      <td>NaN</td>\n",
       "      <td>NaN</td>\n",
       "      <td>NaN</td>\n",
       "      <td>NaN</td>\n",
       "      <td>0</td>\n",
       "      <td>NaN</td>\n",
       "      <td>NaN</td>\n",
       "      <td>ABOVEGROUND</td>\n",
       "      <td>ONSHORE COMPRESSOR STATION EQUIPMENT AND PIPING</td>\n",
       "      <td>2015</td>\n",
       "      <td>ESD SYSTEM, BUT EXCLUDING PRODUCT DRAIN LINES ...</td>\n",
       "      <td>NaN</td>\n",
       "      <td>NaN</td>\n",
       "      <td>NaN</td>\n",
       "      <td>NaN</td>\n",
       "      <td>NaN</td>\n",
       "      <td>NaN</td>\n",
       "      <td>NaN</td>\n",
       "      <td>NaN</td>\n",
       "      <td>NaN</td>\n",
       "      <td>NaN</td>\n",
       "      <td>MATERIAL OTHER THAN CARBON STEEL OR PLASTIC</td>\n",
       "      <td>LEAK</td>\n",
       "      <td>SEAL OR PACKING</td>\n",
       "      <td>NaN</td>\n",
       "      <td>0.0</td>\n",
       "      <td>364720.0</td>\n",
       "      <td>0.0</td>\n",
       "      <td>950.0</td>\n",
       "      <td>635.0</td>\n",
       "      <td>650.0</td>\n",
       "      <td>INTERNAL LABOR COST TO CONDUCT INVESTIGATION;</td>\n",
       "      <td>3.93</td>\n",
       "      <td>0.0</td>\n",
       "      <td>0.0</td>\n",
       "      <td>0.0</td>\n",
       "      <td>0.0</td>\n",
       "      <td>758.0</td>\n",
       "      <td>950000.0</td>\n",
       "    </tr>\n",
       "    <tr>\n",
       "      <th>1197</th>\n",
       "      <td>9/26/2012</td>\n",
       "      <td>2012</td>\n",
       "      <td>20120095</td>\n",
       "      <td>TEXAS EASTERN TRANSMISSION LP (SPECTRA ENERGY ...</td>\n",
       "      <td>TX</td>\n",
       "      <td>29.615000</td>\n",
       "      <td>-88.775333</td>\n",
       "      <td>NATURAL GAS</td>\n",
       "      <td>1335.0</td>\n",
       "      <td>5000.0</td>\n",
       "      <td>0.0</td>\n",
       "      <td>CORROSION FAILURE</td>\n",
       "      <td>INTERNAL CORROSION</td>\n",
       "      <td>NO</td>\n",
       "      <td>NaN</td>\n",
       "      <td>NaN</td>\n",
       "      <td>NaN</td>\n",
       "      <td>NaN</td>\n",
       "      <td>NaN</td>\n",
       "      <td>0</td>\n",
       "      <td>NO</td>\n",
       "      <td>NaN</td>\n",
       "      <td>NaN</td>\n",
       "      <td>NaN</td>\n",
       "      <td>NaN</td>\n",
       "      <td>NaN</td>\n",
       "      <td>0</td>\n",
       "      <td>NaN</td>\n",
       "      <td>NO</td>\n",
       "      <td>NaN</td>\n",
       "      <td>OFFSHORE PIPELINE, INCLUDING RISER AND RISER BEND</td>\n",
       "      <td>1970</td>\n",
       "      <td>PIPE</td>\n",
       "      <td>PIPE BODY</td>\n",
       "      <td>16.0</td>\n",
       "      <td>0.500</td>\n",
       "      <td>46000</td>\n",
       "      <td>API-5L X-46</td>\n",
       "      <td>SEAMLESS</td>\n",
       "      <td>US STEEL</td>\n",
       "      <td>OTHER</td>\n",
       "      <td>CONCRETE AND SOMASTIC</td>\n",
       "      <td>NaN</td>\n",
       "      <td>CARBON STEEL</td>\n",
       "      <td>LEAK</td>\n",
       "      <td>PINHOLE</td>\n",
       "      <td>NaN</td>\n",
       "      <td>0.0</td>\n",
       "      <td>4005.0</td>\n",
       "      <td>15000.0</td>\n",
       "      <td>425908.0</td>\n",
       "      <td>0.0</td>\n",
       "      <td>0.0</td>\n",
       "      <td>NaN</td>\n",
       "      <td>NaN</td>\n",
       "      <td>NaN</td>\n",
       "      <td>NaN</td>\n",
       "      <td>NaN</td>\n",
       "      <td>NaN</td>\n",
       "      <td>938.0</td>\n",
       "      <td>NaN</td>\n",
       "    </tr>\n",
       "  </tbody>\n",
       "</table>\n",
       "</div>"
      ],
      "text/plain": [
       "     REPORT_RECEIVED_DATE  IYEAR  REPORT_NUMBER  \\\n",
       "52              1/14/2022   2021       20220003   \n",
       "96              8/20/2021   2021       20210072   \n",
       "1197            9/26/2012   2012       20120095   \n",
       "\n",
       "                                                   NAME  \\\n",
       "52                       COLUMBIA GAS TRANSMISSION, LLC   \n",
       "96                       TENNESSEE GAS PIPELINE COMPANY   \n",
       "1197  TEXAS EASTERN TRANSMISSION LP (SPECTRA ENERGY ...   \n",
       "\n",
       "     OPERATOR_STATE_ABBREVIATION  LOCATION_LATITUDE  LOCATION_LONGITUDE  \\\n",
       "52                            TX          37.560520          -81.884680   \n",
       "96                            TX          38.270336          -82.576559   \n",
       "1197                          TX          29.615000          -88.775333   \n",
       "\n",
       "     COMMODITY_RELEASED_TYPE  UNINTENTIONAL_RELEASE  INTENTIONAL_RELEASE  \\\n",
       "52               NATURAL GAS                  455.0               6857.0   \n",
       "96               NATURAL GAS                92804.0                  0.0   \n",
       "1197             NATURAL GAS                 1335.0               5000.0   \n",
       "\n",
       "      ACCOMPANYING_LIQUID                 CAUSE  \\\n",
       "52                    0.0  OTHER INCIDENT CAUSE   \n",
       "96                    0.0     EQUIPMENT FAILURE   \n",
       "1197                  0.0     CORROSION FAILURE   \n",
       "\n",
       "                                CAUSE_DETAILS FATALITY_IND  \\\n",
       "52                                    UNKNOWN           NO   \n",
       "96    MALFUNCTION OF CONTROL/RELIEF EQUIPMENT           NO   \n",
       "1197                       INTERNAL CORROSION           NO   \n",
       "\n",
       "      NUM_EMP_FATALITIES  NUM_CONTR_FATALITIES  NUM_ER_FATALITIES  \\\n",
       "52                   NaN                   NaN                NaN   \n",
       "96                   NaN                   NaN                NaN   \n",
       "1197                 NaN                   NaN                NaN   \n",
       "\n",
       "      NUM_WORKER_FATALITIES  NUM_GP_FATALITIES  FATAL INJURY_IND  \\\n",
       "52                      NaN                NaN      0         NO   \n",
       "96                      NaN                NaN      0         NO   \n",
       "1197                    NaN                NaN      0         NO   \n",
       "\n",
       "      NUM_EMP_INJURIES  NUM_CONTR_INJURIES  NUM_ER_INJURIES  \\\n",
       "52                 NaN                 NaN              NaN   \n",
       "96                 NaN                 NaN              NaN   \n",
       "1197               NaN                 NaN              NaN   \n",
       "\n",
       "      NUM_WORKER_INJURIES  NUM_GP_INJURIES  INJURE  \\\n",
       "52                    NaN              NaN       0   \n",
       "96                    NaN              NaN       0   \n",
       "1197                  NaN              NaN       0   \n",
       "\n",
       "      GAS_CONSUMED_BY_FIRE_IN_MCF EXPLODE_IND INCIDENT_AREA_TYPE  \\\n",
       "52                            NaN         NaN        UNDERGROUND   \n",
       "96                            NaN         NaN        ABOVEGROUND   \n",
       "1197                          NaN          NO                NaN   \n",
       "\n",
       "                                   SYSTEM_PART_INVOLVED INSTALLATION_YEAR  \\\n",
       "52              ONSHORE PIPELINE, INCLUDING VALVE SITES              1997   \n",
       "96      ONSHORE COMPRESSOR STATION EQUIPMENT AND PIPING              2015   \n",
       "1197  OFFSHORE PIPELINE, INCLUDING RISER AND RISER BEND              1970   \n",
       "\n",
       "                                          ITEM_INVOLVED  PIPE_TYPE  \\\n",
       "52                                                 PIPE  PIPE BODY   \n",
       "96    ESD SYSTEM, BUT EXCLUDING PRODUCT DRAIN LINES ...        NaN   \n",
       "1197                                               PIPE  PIPE BODY   \n",
       "\n",
       "      PIPE_DIAMETER  PIPE_WALL_THICKNESS PIPE_SMYS PIPE_SPECIFICATION  \\\n",
       "52             24.0                0.312     65000             API 5L   \n",
       "96              NaN                  NaN       NaN                NaN   \n",
       "1197           16.0                0.500     46000        API-5L X-46   \n",
       "\n",
       "                         PIPE_SEAM_TYPE PIPE_MANUFACTURER PIPE_COATING_TYPE  \\\n",
       "52    LONGITUDINAL ERW - HIGH FREQUENCY             STUPP             EPOXY   \n",
       "96                                  NaN               NaN               NaN   \n",
       "1197                           SEAMLESS          US STEEL             OTHER   \n",
       "\n",
       "       PIPE_COATING_DETAILS COATING_APPLIED_IND  \\\n",
       "52                      NaN                  NO   \n",
       "96                      NaN                 NaN   \n",
       "1197  CONCRETE AND SOMASTIC                 NaN   \n",
       "\n",
       "                                MATERIAL_INVOLVED RELEASE_TYPE  \\\n",
       "52                                   CARBON STEEL         LEAK   \n",
       "96    MATERIAL OTHER THAN CARBON STEEL OR PLASTIC         LEAK   \n",
       "1197                                 CARBON STEEL         LEAK   \n",
       "\n",
       "            LEAK_TYPE RELEASE_TYPE_DETAILS  EST_COST_OPER_PAID  \\\n",
       "52              CRACK                  NaN                 0.0   \n",
       "96    SEAL OR PACKING                  NaN                 0.0   \n",
       "1197          PINHOLE                  NaN                 0.0   \n",
       "\n",
       "      EST_COST_UNINTENTIONAL_RELEASE  EST_COST_INTENTIONAL_RELEASE  \\\n",
       "52                            2457.0                       37028.0   \n",
       "96                          364720.0                           0.0   \n",
       "1197                          4005.0                       15000.0   \n",
       "\n",
       "      EST_COST_PROP_DAMAGE  EST_COST_EMERGENCY  EST_COST_OTHER  \\\n",
       "52                122000.0               500.0             0.0   \n",
       "96                   950.0               635.0           650.0   \n",
       "1197              425908.0                 0.0             0.0   \n",
       "\n",
       "                                 EST_COST_OTHER_DETAILS  GAS_COST_IN_MCF  \\\n",
       "52    THERE WAS NO EMERGENCY RESPONSE; THIS WAS A GR...             5.40   \n",
       "96        INTERNAL LABOR COST TO CONDUCT INVESTIGATION;             3.93   \n",
       "1197                                                NaN              NaN   \n",
       "\n",
       "      NUM_PERSONS_HOSP_NOT_OVNGHT  NUM_INJURED_TREATED_BY_EMT  \\\n",
       "52                            0.0                         0.0   \n",
       "96                            0.0                         0.0   \n",
       "1197                          NaN                         NaN   \n",
       "\n",
       "      NUM_RESIDENT_BUILDING_AFFCTD  NUM_BUSINESS_BUILDING_AFFCTD  \\\n",
       "52                             0.0                           0.0   \n",
       "96                             0.0                           0.0   \n",
       "1197                           NaN                           NaN   \n",
       "\n",
       "      ACCIDENT_PSIG  GAS_FLOW_IN_PIPE_IN_MCF  \n",
       "52            800.0                  73000.0  \n",
       "96            758.0                 950000.0  \n",
       "1197          938.0                      NaN  "
      ]
     },
     "execution_count": 4,
     "metadata": {},
     "output_type": "execute_result"
    }
   ],
   "source": [
    "# Reading in the required columns form the text file. I have kept it as a text file so it is easy to modify for future uses. \n",
    "req_clmns = []\n",
    "\n",
    "#importing the list of required columns form the text file\n",
    "with open('data/Gas_Trans_required_columns.txt') as f: \n",
    "    lines = f.readlines()\n",
    "f.close()\n",
    "\n",
    "for l in lines:\n",
    "    req_clmns.append(l.strip()) #getting rid of the \"\\n\" escape character\n",
    "\n",
    "HGL_trans_acc = HGL_trans_accidents[req_clmns]\n",
    "# I have discovered some outliers that fall outside the continental USA, so I will explude those: \n",
    "HGL_trans_acc = HGL_trans_acc[(-140<HGL_trans_acc['LOCATION_LONGITUDE']) & (HGL_trans_acc['LOCATION_LONGITUDE']<-50)]\n",
    "HGL_trans_acc = HGL_trans_acc[HGL_trans_acc['LOCATION_LATITUDE']<50]\n",
    "\n",
    "HGL_trans_acc.shape # we moved from  625 columns to 61\n",
    "HGL_trans_acc.sample(3)\n"
   ]
  },
  {
   "cell_type": "code",
   "execution_count": 6,
   "metadata": {},
   "outputs": [
    {
     "data": {
      "text/plain": [
       "<bound method Series.unique of 0       20220056\n",
       "1       20220055\n",
       "2       20220054\n",
       "3       20220053\n",
       "4       20220049\n",
       "          ...   \n",
       "1516    20100001\n",
       "1517    20100010\n",
       "1518    20100019\n",
       "1519    20100002\n",
       "1520    20100011\n",
       "Name: REPORT_NUMBER, Length: 1512, dtype: int64>"
      ]
     },
     "execution_count": 6,
     "metadata": {},
     "output_type": "execute_result"
    }
   ],
   "source": [
    "HGL_trans_acc.REPORT_NUMBER.unique"
   ]
  },
  {
   "cell_type": "markdown",
   "metadata": {},
   "source": [
    "# Exploring the Incident Data Using Plotly\n",
    "To do this we make a plotly bar plot with incident count, year and state"
   ]
  },
  {
   "cell_type": "code",
   "execution_count": 9,
   "metadata": {},
   "outputs": [
    {
     "data": {
      "text/plain": [
       "1512"
      ]
     },
     "execution_count": 9,
     "metadata": {},
     "output_type": "execute_result"
    }
   ],
   "source": [
    "#Grouping the dataframe by year and then state counts, and sorting it.\n",
    "\n",
    "grouped_Year_State = HGL_trans_acc.groupby(['IYEAR','OPERATOR_STATE_ABBREVIATION']).count().sort_values(by = 'REPORT_NUMBER',  ascending=False).reset_index()\n",
    "grouped_Year_State.head()\n",
    "\n",
    "# The column report number (1 on 1 relationship) can be our incident count so:\n",
    "\n",
    "grouped_Year_State.rename(columns = {'IYEAR':'Incident Year','OPERATOR_STATE_ABBREVIATION':'Incident State', 'REPORT_NUMBER':'No of Incidents'}, inplace=True)\n",
    "grouped_Year_State.sample(3)\n",
    "grouped_Year_State['No of Incidents'].sum()"
   ]
  },
  {
   "cell_type": "code",
   "execution_count": 8,
   "metadata": {},
   "outputs": [
    {
     "data": {
      "application/vnd.plotly.v1+json": {
       "config": {
        "plotlyServerURL": "https://plot.ly"
       },
       "data": [
        {
         "alignmentgroup": "True",
         "hovertemplate": "Incident State=TX<br>No of Incidents=%{x}<br>Incident Year=%{y}<extra></extra>",
         "legendgroup": "TX",
         "marker": {
          "color": "rgb(39, 26, 44)",
          "pattern": {
           "shape": ""
          }
         },
         "name": "TX",
         "offsetgroup": "TX",
         "orientation": "h",
         "showlegend": true,
         "textposition": "auto",
         "type": "bar",
         "x": [
          96,
          84,
          82,
          81,
          76,
          72,
          71,
          64,
          64,
          63,
          62,
          55,
          22
         ],
         "xaxis": "x",
         "y": [
          2015,
          2020,
          2019,
          2014,
          2012,
          2017,
          2011,
          2013,
          2021,
          2010,
          2018,
          2016,
          2022
         ],
         "yaxis": "y"
        },
        {
         "alignmentgroup": "True",
         "hovertemplate": "Incident State=OK<br>No of Incidents=%{x}<br>Incident Year=%{y}<extra></extra>",
         "legendgroup": "OK",
         "marker": {
          "color": "rgb(54, 43, 77)",
          "pattern": {
           "shape": ""
          }
         },
         "name": "OK",
         "offsetgroup": "OK",
         "orientation": "h",
         "showlegend": true,
         "textposition": "auto",
         "type": "bar",
         "x": [
          22,
          22,
          21,
          21,
          19,
          13,
          12,
          12,
          12,
          11,
          11,
          11,
          10
         ],
         "xaxis": "x",
         "y": [
          2019,
          2010,
          2011,
          2017,
          2018,
          2015,
          2021,
          2014,
          2012,
          2020,
          2022,
          2016,
          2013
         ],
         "yaxis": "y"
        },
        {
         "alignmentgroup": "True",
         "hovertemplate": "Incident State=CA<br>No of Incidents=%{x}<br>Incident Year=%{y}<extra></extra>",
         "legendgroup": "CA",
         "marker": {
          "color": "rgb(64, 60, 115)",
          "pattern": {
           "shape": ""
          }
         },
         "name": "CA",
         "offsetgroup": "CA",
         "orientation": "h",
         "showlegend": true,
         "textposition": "auto",
         "type": "bar",
         "x": [
          12,
          10,
          8,
          6,
          6,
          6,
          6,
          6,
          4,
          3,
          3,
          2
         ],
         "xaxis": "x",
         "y": [
          2014,
          2017,
          2015,
          2013,
          2010,
          2016,
          2012,
          2011,
          2018,
          2020,
          2021,
          2019
         ],
         "yaxis": "y"
        },
        {
         "alignmentgroup": "True",
         "hovertemplate": "Incident State=KY<br>No of Incidents=%{x}<br>Incident Year=%{y}<extra></extra>",
         "legendgroup": "KY",
         "marker": {
          "color": "rgb(62, 82, 143)",
          "pattern": {
           "shape": ""
          }
         },
         "name": "KY",
         "offsetgroup": "KY",
         "orientation": "h",
         "showlegend": true,
         "textposition": "auto",
         "type": "bar",
         "x": [
          10,
          7,
          6,
          6,
          5,
          4,
          3,
          2,
          1,
          1,
          1,
          1,
          1
         ],
         "xaxis": "x",
         "y": [
          2014,
          2015,
          2013,
          2020,
          2021,
          2018,
          2011,
          2022,
          2012,
          2010,
          2017,
          2019,
          2016
         ],
         "yaxis": "y"
        },
        {
         "alignmentgroup": "True",
         "hovertemplate": "Incident State=NE<br>No of Incidents=%{x}<br>Incident Year=%{y}<extra></extra>",
         "legendgroup": "NE",
         "marker": {
          "color": "rgb(62, 108, 150)",
          "pattern": {
           "shape": ""
          }
         },
         "name": "NE",
         "offsetgroup": "NE",
         "orientation": "h",
         "showlegend": true,
         "textposition": "auto",
         "type": "bar",
         "x": [
          8,
          7,
          7,
          6,
          5,
          5,
          5,
          4,
          4,
          3,
          3,
          3,
          1
         ],
         "xaxis": "x",
         "y": [
          2014,
          2021,
          2018,
          2017,
          2016,
          2013,
          2011,
          2020,
          2012,
          2019,
          2015,
          2010,
          2022
         ],
         "yaxis": "y"
        },
        {
         "alignmentgroup": "True",
         "hovertemplate": "Incident State=UT<br>No of Incidents=%{x}<br>Incident Year=%{y}<extra></extra>",
         "legendgroup": "UT",
         "marker": {
          "color": "rgb(68, 130, 155)",
          "pattern": {
           "shape": ""
          }
         },
         "name": "UT",
         "offsetgroup": "UT",
         "orientation": "h",
         "showlegend": true,
         "textposition": "auto",
         "type": "bar",
         "x": [
          8,
          4,
          4,
          3,
          2,
          2,
          1,
          1
         ],
         "xaxis": "x",
         "y": [
          2011,
          2020,
          2013,
          2017,
          2019,
          2022,
          2010,
          2018
         ],
         "yaxis": "y"
        },
        {
         "alignmentgroup": "True",
         "hovertemplate": "Incident State=MI<br>No of Incidents=%{x}<br>Incident Year=%{y}<extra></extra>",
         "legendgroup": "MI",
         "marker": {
          "color": "rgb(76, 153, 160)",
          "pattern": {
           "shape": ""
          }
         },
         "name": "MI",
         "offsetgroup": "MI",
         "orientation": "h",
         "showlegend": true,
         "textposition": "auto",
         "type": "bar",
         "x": [
          7,
          6,
          6,
          6,
          5,
          5,
          5,
          4,
          2,
          2,
          2,
          2,
          1
         ],
         "xaxis": "x",
         "y": [
          2020,
          2016,
          2018,
          2014,
          2022,
          2019,
          2015,
          2017,
          2021,
          2013,
          2010,
          2012,
          2011
         ],
         "yaxis": "y"
        },
        {
         "alignmentgroup": "True",
         "hovertemplate": "Incident State=NY<br>No of Incidents=%{x}<br>Incident Year=%{y}<extra></extra>",
         "legendgroup": "NY",
         "marker": {
          "color": "rgb(86, 177, 163)",
          "pattern": {
           "shape": ""
          }
         },
         "name": "NY",
         "offsetgroup": "NY",
         "orientation": "h",
         "showlegend": true,
         "textposition": "auto",
         "type": "bar",
         "x": [
          4,
          3,
          2,
          2,
          2,
          1,
          1
         ],
         "xaxis": "x",
         "y": [
          2012,
          2018,
          2013,
          2011,
          2015,
          2022,
          2021
         ],
         "yaxis": "y"
        },
        {
         "alignmentgroup": "True",
         "hovertemplate": "Incident State=CO<br>No of Incidents=%{x}<br>Incident Year=%{y}<extra></extra>",
         "legendgroup": "CO",
         "marker": {
          "color": "rgb(111, 201, 163)",
          "pattern": {
           "shape": ""
          }
         },
         "name": "CO",
         "offsetgroup": "CO",
         "orientation": "h",
         "showlegend": true,
         "textposition": "auto",
         "type": "bar",
         "x": [
          4,
          4,
          3,
          2,
          2,
          2,
          2,
          1,
          1,
          1,
          1
         ],
         "xaxis": "x",
         "y": [
          2015,
          2013,
          2021,
          2019,
          2016,
          2020,
          2010,
          2012,
          2011,
          2017,
          2018
         ],
         "yaxis": "y"
        },
        {
         "alignmentgroup": "True",
         "hovertemplate": "Incident State=AL<br>No of Incidents=%{x}<br>Incident Year=%{y}<extra></extra>",
         "legendgroup": "AL",
         "marker": {
          "color": "rgb(156, 219, 165)",
          "pattern": {
           "shape": ""
          }
         },
         "name": "AL",
         "offsetgroup": "AL",
         "orientation": "h",
         "showlegend": true,
         "textposition": "auto",
         "type": "bar",
         "x": [
          4,
          2,
          1,
          1
         ],
         "xaxis": "x",
         "y": [
          2010,
          2018,
          2021,
          2013
         ],
         "yaxis": "y"
        },
        {
         "alignmentgroup": "True",
         "hovertemplate": "Incident State=ND<br>No of Incidents=%{x}<br>Incident Year=%{y}<extra></extra>",
         "legendgroup": "ND",
         "marker": {
          "color": "rgb(206, 236, 179)",
          "pattern": {
           "shape": ""
          }
         },
         "name": "ND",
         "offsetgroup": "ND",
         "orientation": "h",
         "showlegend": true,
         "textposition": "auto",
         "type": "bar",
         "x": [
          3,
          3,
          2,
          2,
          2,
          1,
          1
         ],
         "xaxis": "x",
         "y": [
          2014,
          2013,
          2021,
          2011,
          2010,
          2012,
          2016
         ],
         "yaxis": "y"
        },
        {
         "alignmentgroup": "True",
         "hovertemplate": "Incident State=NC<br>No of Incidents=%{x}<br>Incident Year=%{y}<extra></extra>",
         "legendgroup": "NC",
         "marker": {
          "color": "rgb(253, 253, 204)",
          "pattern": {
           "shape": ""
          }
         },
         "name": "NC",
         "offsetgroup": "NC",
         "orientation": "h",
         "showlegend": true,
         "textposition": "auto",
         "type": "bar",
         "x": [
          3,
          2,
          2,
          2,
          2,
          1,
          1,
          1,
          1,
          1,
          1
         ],
         "xaxis": "x",
         "y": [
          2022,
          2020,
          2021,
          2014,
          2010,
          2012,
          2017,
          2015,
          2016,
          2018,
          2013
         ],
         "yaxis": "y"
        },
        {
         "alignmentgroup": "True",
         "hovertemplate": "Incident State=OH<br>No of Incidents=%{x}<br>Incident Year=%{y}<extra></extra>",
         "legendgroup": "OH",
         "marker": {
          "color": "rgb(39, 26, 44)",
          "pattern": {
           "shape": ""
          }
         },
         "name": "OH",
         "offsetgroup": "OH",
         "orientation": "h",
         "showlegend": true,
         "textposition": "auto",
         "type": "bar",
         "x": [
          2,
          2,
          1,
          1,
          1,
          1,
          1,
          1,
          1
         ],
         "xaxis": "x",
         "y": [
          2016,
          2020,
          2019,
          2011,
          2021,
          2015,
          2014,
          2018,
          2013
         ],
         "yaxis": "y"
        },
        {
         "alignmentgroup": "True",
         "hovertemplate": "Incident State=WV<br>No of Incidents=%{x}<br>Incident Year=%{y}<extra></extra>",
         "legendgroup": "WV",
         "marker": {
          "color": "rgb(54, 43, 77)",
          "pattern": {
           "shape": ""
          }
         },
         "name": "WV",
         "offsetgroup": "WV",
         "orientation": "h",
         "showlegend": true,
         "textposition": "auto",
         "type": "bar",
         "x": [
          2,
          1,
          1,
          1,
          1
         ],
         "xaxis": "x",
         "y": [
          2018,
          2021,
          2012,
          2013,
          2017
         ],
         "yaxis": "y"
        },
        {
         "alignmentgroup": "True",
         "hovertemplate": "Incident State=FL<br>No of Incidents=%{x}<br>Incident Year=%{y}<extra></extra>",
         "legendgroup": "FL",
         "marker": {
          "color": "rgb(64, 60, 115)",
          "pattern": {
           "shape": ""
          }
         },
         "name": "FL",
         "offsetgroup": "FL",
         "orientation": "h",
         "showlegend": true,
         "textposition": "auto",
         "type": "bar",
         "x": [
          2,
          1,
          1,
          1
         ],
         "xaxis": "x",
         "y": [
          2018,
          2020,
          2022,
          2017
         ],
         "yaxis": "y"
        },
        {
         "alignmentgroup": "True",
         "hovertemplate": "Incident State=IN<br>No of Incidents=%{x}<br>Incident Year=%{y}<extra></extra>",
         "legendgroup": "IN",
         "marker": {
          "color": "rgb(62, 82, 143)",
          "pattern": {
           "shape": ""
          }
         },
         "name": "IN",
         "offsetgroup": "IN",
         "orientation": "h",
         "showlegend": true,
         "textposition": "auto",
         "type": "bar",
         "x": [
          2,
          1,
          1,
          1,
          1
         ],
         "xaxis": "x",
         "y": [
          2021,
          2019,
          2017,
          2015,
          2016
         ],
         "yaxis": "y"
        },
        {
         "alignmentgroup": "True",
         "hovertemplate": "Incident State=IA<br>No of Incidents=%{x}<br>Incident Year=%{y}<extra></extra>",
         "legendgroup": "IA",
         "marker": {
          "color": "rgb(62, 108, 150)",
          "pattern": {
           "shape": ""
          }
         },
         "name": "IA",
         "offsetgroup": "IA",
         "orientation": "h",
         "showlegend": true,
         "textposition": "auto",
         "type": "bar",
         "x": [
          2,
          1,
          1,
          1,
          1,
          1
         ],
         "xaxis": "x",
         "y": [
          2020,
          2012,
          2022,
          2017,
          2019,
          2013
         ],
         "yaxis": "y"
        },
        {
         "alignmentgroup": "True",
         "hovertemplate": "Incident State=IL<br>No of Incidents=%{x}<br>Incident Year=%{y}<extra></extra>",
         "legendgroup": "IL",
         "marker": {
          "color": "rgb(68, 130, 155)",
          "pattern": {
           "shape": ""
          }
         },
         "name": "IL",
         "offsetgroup": "IL",
         "orientation": "h",
         "showlegend": true,
         "textposition": "auto",
         "type": "bar",
         "x": [
          2,
          2,
          2,
          1,
          1,
          1
         ],
         "xaxis": "x",
         "y": [
          2011,
          2015,
          2010,
          2021,
          2016,
          2019
         ],
         "yaxis": "y"
        },
        {
         "alignmentgroup": "True",
         "hovertemplate": "Incident State=PA<br>No of Incidents=%{x}<br>Incident Year=%{y}<extra></extra>",
         "legendgroup": "PA",
         "marker": {
          "color": "rgb(76, 153, 160)",
          "pattern": {
           "shape": ""
          }
         },
         "name": "PA",
         "offsetgroup": "PA",
         "orientation": "h",
         "showlegend": true,
         "textposition": "auto",
         "type": "bar",
         "x": [
          2,
          1,
          1,
          1,
          1,
          1,
          1
         ],
         "xaxis": "x",
         "y": [
          2012,
          2019,
          2010,
          2016,
          2014,
          2018,
          2015
         ],
         "yaxis": "y"
        },
        {
         "alignmentgroup": "True",
         "hovertemplate": "Incident State=NV<br>No of Incidents=%{x}<br>Incident Year=%{y}<extra></extra>",
         "legendgroup": "NV",
         "marker": {
          "color": "rgb(86, 177, 163)",
          "pattern": {
           "shape": ""
          }
         },
         "name": "NV",
         "offsetgroup": "NV",
         "orientation": "h",
         "showlegend": true,
         "textposition": "auto",
         "type": "bar",
         "x": [
          2,
          1,
          1
         ],
         "xaxis": "x",
         "y": [
          2015,
          2019,
          2014
         ],
         "yaxis": "y"
        },
        {
         "alignmentgroup": "True",
         "hovertemplate": "Incident State=LA<br>No of Incidents=%{x}<br>Incident Year=%{y}<extra></extra>",
         "legendgroup": "LA",
         "marker": {
          "color": "rgb(111, 201, 163)",
          "pattern": {
           "shape": ""
          }
         },
         "name": "LA",
         "offsetgroup": "LA",
         "orientation": "h",
         "showlegend": true,
         "textposition": "auto",
         "type": "bar",
         "x": [
          2,
          1,
          1,
          1
         ],
         "xaxis": "x",
         "y": [
          2010,
          2012,
          2011,
          2018
         ],
         "yaxis": "y"
        },
        {
         "alignmentgroup": "True",
         "hovertemplate": "Incident State=MO<br>No of Incidents=%{x}<br>Incident Year=%{y}<extra></extra>",
         "legendgroup": "MO",
         "marker": {
          "color": "rgb(156, 219, 165)",
          "pattern": {
           "shape": ""
          }
         },
         "name": "MO",
         "offsetgroup": "MO",
         "orientation": "h",
         "showlegend": true,
         "textposition": "auto",
         "type": "bar",
         "x": [
          1,
          1,
          1
         ],
         "xaxis": "x",
         "y": [
          2011,
          2012,
          2019
         ],
         "yaxis": "y"
        },
        {
         "alignmentgroup": "True",
         "hovertemplate": "Incident State=NM<br>No of Incidents=%{x}<br>Incident Year=%{y}<extra></extra>",
         "legendgroup": "NM",
         "marker": {
          "color": "rgb(206, 236, 179)",
          "pattern": {
           "shape": ""
          }
         },
         "name": "NM",
         "offsetgroup": "NM",
         "orientation": "h",
         "showlegend": true,
         "textposition": "auto",
         "type": "bar",
         "x": [
          1,
          1
         ],
         "xaxis": "x",
         "y": [
          2020,
          2016
         ],
         "yaxis": "y"
        },
        {
         "alignmentgroup": "True",
         "hovertemplate": "Incident State=WI<br>No of Incidents=%{x}<br>Incident Year=%{y}<extra></extra>",
         "legendgroup": "WI",
         "marker": {
          "color": "rgb(253, 253, 204)",
          "pattern": {
           "shape": ""
          }
         },
         "name": "WI",
         "offsetgroup": "WI",
         "orientation": "h",
         "showlegend": true,
         "textposition": "auto",
         "type": "bar",
         "x": [
          1
         ],
         "xaxis": "x",
         "y": [
          2011
         ],
         "yaxis": "y"
        },
        {
         "alignmentgroup": "True",
         "hovertemplate": "Incident State=KS<br>No of Incidents=%{x}<br>Incident Year=%{y}<extra></extra>",
         "legendgroup": "KS",
         "marker": {
          "color": "rgb(39, 26, 44)",
          "pattern": {
           "shape": ""
          }
         },
         "name": "KS",
         "offsetgroup": "KS",
         "orientation": "h",
         "showlegend": true,
         "textposition": "auto",
         "type": "bar",
         "x": [
          1,
          1
         ],
         "xaxis": "x",
         "y": [
          2020,
          2011
         ],
         "yaxis": "y"
        },
        {
         "alignmentgroup": "True",
         "hovertemplate": "Incident State=MA<br>No of Incidents=%{x}<br>Incident Year=%{y}<extra></extra>",
         "legendgroup": "MA",
         "marker": {
          "color": "rgb(54, 43, 77)",
          "pattern": {
           "shape": ""
          }
         },
         "name": "MA",
         "offsetgroup": "MA",
         "orientation": "h",
         "showlegend": true,
         "textposition": "auto",
         "type": "bar",
         "x": [
          1
         ],
         "xaxis": "x",
         "y": [
          2011
         ],
         "yaxis": "y"
        },
        {
         "alignmentgroup": "True",
         "hovertemplate": "Incident State=SD<br>No of Incidents=%{x}<br>Incident Year=%{y}<extra></extra>",
         "legendgroup": "SD",
         "marker": {
          "color": "rgb(64, 60, 115)",
          "pattern": {
           "shape": ""
          }
         },
         "name": "SD",
         "offsetgroup": "SD",
         "orientation": "h",
         "showlegend": true,
         "textposition": "auto",
         "type": "bar",
         "x": [
          1
         ],
         "xaxis": "x",
         "y": [
          2020
         ],
         "yaxis": "y"
        },
        {
         "alignmentgroup": "True",
         "hovertemplate": "Incident State=AR<br>No of Incidents=%{x}<br>Incident Year=%{y}<extra></extra>",
         "legendgroup": "AR",
         "marker": {
          "color": "rgb(62, 82, 143)",
          "pattern": {
           "shape": ""
          }
         },
         "name": "AR",
         "offsetgroup": "AR",
         "orientation": "h",
         "showlegend": true,
         "textposition": "auto",
         "type": "bar",
         "x": [
          1
         ],
         "xaxis": "x",
         "y": [
          2016
         ],
         "yaxis": "y"
        },
        {
         "alignmentgroup": "True",
         "hovertemplate": "Incident State=CT<br>No of Incidents=%{x}<br>Incident Year=%{y}<extra></extra>",
         "legendgroup": "CT",
         "marker": {
          "color": "rgb(62, 108, 150)",
          "pattern": {
           "shape": ""
          }
         },
         "name": "CT",
         "offsetgroup": "CT",
         "orientation": "h",
         "showlegend": true,
         "textposition": "auto",
         "type": "bar",
         "x": [
          1,
          1,
          1
         ],
         "xaxis": "x",
         "y": [
          2010,
          2017,
          2019
         ],
         "yaxis": "y"
        },
        {
         "alignmentgroup": "True",
         "hovertemplate": "Incident State=TN<br>No of Incidents=%{x}<br>Incident Year=%{y}<extra></extra>",
         "legendgroup": "TN",
         "marker": {
          "color": "rgb(68, 130, 155)",
          "pattern": {
           "shape": ""
          }
         },
         "name": "TN",
         "offsetgroup": "TN",
         "orientation": "h",
         "showlegend": true,
         "textposition": "auto",
         "type": "bar",
         "x": [
          1
         ],
         "xaxis": "x",
         "y": [
          2010
         ],
         "yaxis": "y"
        },
        {
         "alignmentgroup": "True",
         "hovertemplate": "Incident State=VA<br>No of Incidents=%{x}<br>Incident Year=%{y}<extra></extra>",
         "legendgroup": "VA",
         "marker": {
          "color": "rgb(76, 153, 160)",
          "pattern": {
           "shape": ""
          }
         },
         "name": "VA",
         "offsetgroup": "VA",
         "orientation": "h",
         "showlegend": true,
         "textposition": "auto",
         "type": "bar",
         "x": [
          1,
          1
         ],
         "xaxis": "x",
         "y": [
          2010,
          2012
         ],
         "yaxis": "y"
        },
        {
         "alignmentgroup": "True",
         "hovertemplate": "Incident State=GA<br>No of Incidents=%{x}<br>Incident Year=%{y}<extra></extra>",
         "legendgroup": "GA",
         "marker": {
          "color": "rgb(86, 177, 163)",
          "pattern": {
           "shape": ""
          }
         },
         "name": "GA",
         "offsetgroup": "GA",
         "orientation": "h",
         "showlegend": true,
         "textposition": "auto",
         "type": "bar",
         "x": [
          1,
          1,
          1
         ],
         "xaxis": "x",
         "y": [
          2021,
          2015,
          2013
         ],
         "yaxis": "y"
        },
        {
         "alignmentgroup": "True",
         "hovertemplate": "Incident State=DC<br>No of Incidents=%{x}<br>Incident Year=%{y}<extra></extra>",
         "legendgroup": "DC",
         "marker": {
          "color": "rgb(111, 201, 163)",
          "pattern": {
           "shape": ""
          }
         },
         "name": "DC",
         "offsetgroup": "DC",
         "orientation": "h",
         "showlegend": true,
         "textposition": "auto",
         "type": "bar",
         "x": [
          1,
          1
         ],
         "xaxis": "x",
         "y": [
          2021,
          2017
         ],
         "yaxis": "y"
        },
        {
         "alignmentgroup": "True",
         "hovertemplate": "Incident State=SC<br>No of Incidents=%{x}<br>Incident Year=%{y}<extra></extra>",
         "legendgroup": "SC",
         "marker": {
          "color": "rgb(156, 219, 165)",
          "pattern": {
           "shape": ""
          }
         },
         "name": "SC",
         "offsetgroup": "SC",
         "orientation": "h",
         "showlegend": true,
         "textposition": "auto",
         "type": "bar",
         "x": [
          1,
          1
         ],
         "xaxis": "x",
         "y": [
          2014,
          2016
         ],
         "yaxis": "y"
        },
        {
         "alignmentgroup": "True",
         "hovertemplate": "Incident State=NJ<br>No of Incidents=%{x}<br>Incident Year=%{y}<extra></extra>",
         "legendgroup": "NJ",
         "marker": {
          "color": "rgb(206, 236, 179)",
          "pattern": {
           "shape": ""
          }
         },
         "name": "NJ",
         "offsetgroup": "NJ",
         "orientation": "h",
         "showlegend": true,
         "textposition": "auto",
         "type": "bar",
         "x": [
          1,
          1
         ],
         "xaxis": "x",
         "y": [
          2015,
          2014
         ],
         "yaxis": "y"
        }
       ],
       "layout": {
        "barmode": "relative",
        "legend": {
         "title": {
          "text": "Incident State"
         },
         "tracegroupgap": 0
        },
        "showlegend": true,
        "template": {
         "data": {
          "bar": [
           {
            "error_x": {
             "color": "#2a3f5f"
            },
            "error_y": {
             "color": "#2a3f5f"
            },
            "marker": {
             "line": {
              "color": "#E5ECF6",
              "width": 0.5
             },
             "pattern": {
              "fillmode": "overlay",
              "size": 10,
              "solidity": 0.2
             }
            },
            "type": "bar"
           }
          ],
          "barpolar": [
           {
            "marker": {
             "line": {
              "color": "#E5ECF6",
              "width": 0.5
             },
             "pattern": {
              "fillmode": "overlay",
              "size": 10,
              "solidity": 0.2
             }
            },
            "type": "barpolar"
           }
          ],
          "carpet": [
           {
            "aaxis": {
             "endlinecolor": "#2a3f5f",
             "gridcolor": "white",
             "linecolor": "white",
             "minorgridcolor": "white",
             "startlinecolor": "#2a3f5f"
            },
            "baxis": {
             "endlinecolor": "#2a3f5f",
             "gridcolor": "white",
             "linecolor": "white",
             "minorgridcolor": "white",
             "startlinecolor": "#2a3f5f"
            },
            "type": "carpet"
           }
          ],
          "choropleth": [
           {
            "colorbar": {
             "outlinewidth": 0,
             "ticks": ""
            },
            "type": "choropleth"
           }
          ],
          "contour": [
           {
            "colorbar": {
             "outlinewidth": 0,
             "ticks": ""
            },
            "colorscale": [
             [
              0,
              "#0d0887"
             ],
             [
              0.1111111111111111,
              "#46039f"
             ],
             [
              0.2222222222222222,
              "#7201a8"
             ],
             [
              0.3333333333333333,
              "#9c179e"
             ],
             [
              0.4444444444444444,
              "#bd3786"
             ],
             [
              0.5555555555555556,
              "#d8576b"
             ],
             [
              0.6666666666666666,
              "#ed7953"
             ],
             [
              0.7777777777777778,
              "#fb9f3a"
             ],
             [
              0.8888888888888888,
              "#fdca26"
             ],
             [
              1,
              "#f0f921"
             ]
            ],
            "type": "contour"
           }
          ],
          "contourcarpet": [
           {
            "colorbar": {
             "outlinewidth": 0,
             "ticks": ""
            },
            "type": "contourcarpet"
           }
          ],
          "heatmap": [
           {
            "colorbar": {
             "outlinewidth": 0,
             "ticks": ""
            },
            "colorscale": [
             [
              0,
              "#0d0887"
             ],
             [
              0.1111111111111111,
              "#46039f"
             ],
             [
              0.2222222222222222,
              "#7201a8"
             ],
             [
              0.3333333333333333,
              "#9c179e"
             ],
             [
              0.4444444444444444,
              "#bd3786"
             ],
             [
              0.5555555555555556,
              "#d8576b"
             ],
             [
              0.6666666666666666,
              "#ed7953"
             ],
             [
              0.7777777777777778,
              "#fb9f3a"
             ],
             [
              0.8888888888888888,
              "#fdca26"
             ],
             [
              1,
              "#f0f921"
             ]
            ],
            "type": "heatmap"
           }
          ],
          "heatmapgl": [
           {
            "colorbar": {
             "outlinewidth": 0,
             "ticks": ""
            },
            "colorscale": [
             [
              0,
              "#0d0887"
             ],
             [
              0.1111111111111111,
              "#46039f"
             ],
             [
              0.2222222222222222,
              "#7201a8"
             ],
             [
              0.3333333333333333,
              "#9c179e"
             ],
             [
              0.4444444444444444,
              "#bd3786"
             ],
             [
              0.5555555555555556,
              "#d8576b"
             ],
             [
              0.6666666666666666,
              "#ed7953"
             ],
             [
              0.7777777777777778,
              "#fb9f3a"
             ],
             [
              0.8888888888888888,
              "#fdca26"
             ],
             [
              1,
              "#f0f921"
             ]
            ],
            "type": "heatmapgl"
           }
          ],
          "histogram": [
           {
            "marker": {
             "pattern": {
              "fillmode": "overlay",
              "size": 10,
              "solidity": 0.2
             }
            },
            "type": "histogram"
           }
          ],
          "histogram2d": [
           {
            "colorbar": {
             "outlinewidth": 0,
             "ticks": ""
            },
            "colorscale": [
             [
              0,
              "#0d0887"
             ],
             [
              0.1111111111111111,
              "#46039f"
             ],
             [
              0.2222222222222222,
              "#7201a8"
             ],
             [
              0.3333333333333333,
              "#9c179e"
             ],
             [
              0.4444444444444444,
              "#bd3786"
             ],
             [
              0.5555555555555556,
              "#d8576b"
             ],
             [
              0.6666666666666666,
              "#ed7953"
             ],
             [
              0.7777777777777778,
              "#fb9f3a"
             ],
             [
              0.8888888888888888,
              "#fdca26"
             ],
             [
              1,
              "#f0f921"
             ]
            ],
            "type": "histogram2d"
           }
          ],
          "histogram2dcontour": [
           {
            "colorbar": {
             "outlinewidth": 0,
             "ticks": ""
            },
            "colorscale": [
             [
              0,
              "#0d0887"
             ],
             [
              0.1111111111111111,
              "#46039f"
             ],
             [
              0.2222222222222222,
              "#7201a8"
             ],
             [
              0.3333333333333333,
              "#9c179e"
             ],
             [
              0.4444444444444444,
              "#bd3786"
             ],
             [
              0.5555555555555556,
              "#d8576b"
             ],
             [
              0.6666666666666666,
              "#ed7953"
             ],
             [
              0.7777777777777778,
              "#fb9f3a"
             ],
             [
              0.8888888888888888,
              "#fdca26"
             ],
             [
              1,
              "#f0f921"
             ]
            ],
            "type": "histogram2dcontour"
           }
          ],
          "mesh3d": [
           {
            "colorbar": {
             "outlinewidth": 0,
             "ticks": ""
            },
            "type": "mesh3d"
           }
          ],
          "parcoords": [
           {
            "line": {
             "colorbar": {
              "outlinewidth": 0,
              "ticks": ""
             }
            },
            "type": "parcoords"
           }
          ],
          "pie": [
           {
            "automargin": true,
            "type": "pie"
           }
          ],
          "scatter": [
           {
            "marker": {
             "colorbar": {
              "outlinewidth": 0,
              "ticks": ""
             }
            },
            "type": "scatter"
           }
          ],
          "scatter3d": [
           {
            "line": {
             "colorbar": {
              "outlinewidth": 0,
              "ticks": ""
             }
            },
            "marker": {
             "colorbar": {
              "outlinewidth": 0,
              "ticks": ""
             }
            },
            "type": "scatter3d"
           }
          ],
          "scattercarpet": [
           {
            "marker": {
             "colorbar": {
              "outlinewidth": 0,
              "ticks": ""
             }
            },
            "type": "scattercarpet"
           }
          ],
          "scattergeo": [
           {
            "marker": {
             "colorbar": {
              "outlinewidth": 0,
              "ticks": ""
             }
            },
            "type": "scattergeo"
           }
          ],
          "scattergl": [
           {
            "marker": {
             "colorbar": {
              "outlinewidth": 0,
              "ticks": ""
             }
            },
            "type": "scattergl"
           }
          ],
          "scattermapbox": [
           {
            "marker": {
             "colorbar": {
              "outlinewidth": 0,
              "ticks": ""
             }
            },
            "type": "scattermapbox"
           }
          ],
          "scatterpolar": [
           {
            "marker": {
             "colorbar": {
              "outlinewidth": 0,
              "ticks": ""
             }
            },
            "type": "scatterpolar"
           }
          ],
          "scatterpolargl": [
           {
            "marker": {
             "colorbar": {
              "outlinewidth": 0,
              "ticks": ""
             }
            },
            "type": "scatterpolargl"
           }
          ],
          "scatterternary": [
           {
            "marker": {
             "colorbar": {
              "outlinewidth": 0,
              "ticks": ""
             }
            },
            "type": "scatterternary"
           }
          ],
          "surface": [
           {
            "colorbar": {
             "outlinewidth": 0,
             "ticks": ""
            },
            "colorscale": [
             [
              0,
              "#0d0887"
             ],
             [
              0.1111111111111111,
              "#46039f"
             ],
             [
              0.2222222222222222,
              "#7201a8"
             ],
             [
              0.3333333333333333,
              "#9c179e"
             ],
             [
              0.4444444444444444,
              "#bd3786"
             ],
             [
              0.5555555555555556,
              "#d8576b"
             ],
             [
              0.6666666666666666,
              "#ed7953"
             ],
             [
              0.7777777777777778,
              "#fb9f3a"
             ],
             [
              0.8888888888888888,
              "#fdca26"
             ],
             [
              1,
              "#f0f921"
             ]
            ],
            "type": "surface"
           }
          ],
          "table": [
           {
            "cells": {
             "fill": {
              "color": "#EBF0F8"
             },
             "line": {
              "color": "white"
             }
            },
            "header": {
             "fill": {
              "color": "#C8D4E3"
             },
             "line": {
              "color": "white"
             }
            },
            "type": "table"
           }
          ]
         },
         "layout": {
          "annotationdefaults": {
           "arrowcolor": "#2a3f5f",
           "arrowhead": 0,
           "arrowwidth": 1
          },
          "autotypenumbers": "strict",
          "coloraxis": {
           "colorbar": {
            "outlinewidth": 0,
            "ticks": ""
           }
          },
          "colorscale": {
           "diverging": [
            [
             0,
             "#8e0152"
            ],
            [
             0.1,
             "#c51b7d"
            ],
            [
             0.2,
             "#de77ae"
            ],
            [
             0.3,
             "#f1b6da"
            ],
            [
             0.4,
             "#fde0ef"
            ],
            [
             0.5,
             "#f7f7f7"
            ],
            [
             0.6,
             "#e6f5d0"
            ],
            [
             0.7,
             "#b8e186"
            ],
            [
             0.8,
             "#7fbc41"
            ],
            [
             0.9,
             "#4d9221"
            ],
            [
             1,
             "#276419"
            ]
           ],
           "sequential": [
            [
             0,
             "#0d0887"
            ],
            [
             0.1111111111111111,
             "#46039f"
            ],
            [
             0.2222222222222222,
             "#7201a8"
            ],
            [
             0.3333333333333333,
             "#9c179e"
            ],
            [
             0.4444444444444444,
             "#bd3786"
            ],
            [
             0.5555555555555556,
             "#d8576b"
            ],
            [
             0.6666666666666666,
             "#ed7953"
            ],
            [
             0.7777777777777778,
             "#fb9f3a"
            ],
            [
             0.8888888888888888,
             "#fdca26"
            ],
            [
             1,
             "#f0f921"
            ]
           ],
           "sequentialminus": [
            [
             0,
             "#0d0887"
            ],
            [
             0.1111111111111111,
             "#46039f"
            ],
            [
             0.2222222222222222,
             "#7201a8"
            ],
            [
             0.3333333333333333,
             "#9c179e"
            ],
            [
             0.4444444444444444,
             "#bd3786"
            ],
            [
             0.5555555555555556,
             "#d8576b"
            ],
            [
             0.6666666666666666,
             "#ed7953"
            ],
            [
             0.7777777777777778,
             "#fb9f3a"
            ],
            [
             0.8888888888888888,
             "#fdca26"
            ],
            [
             1,
             "#f0f921"
            ]
           ]
          },
          "colorway": [
           "#636efa",
           "#EF553B",
           "#00cc96",
           "#ab63fa",
           "#FFA15A",
           "#19d3f3",
           "#FF6692",
           "#B6E880",
           "#FF97FF",
           "#FECB52"
          ],
          "font": {
           "color": "#2a3f5f"
          },
          "geo": {
           "bgcolor": "white",
           "lakecolor": "white",
           "landcolor": "#E5ECF6",
           "showlakes": true,
           "showland": true,
           "subunitcolor": "white"
          },
          "hoverlabel": {
           "align": "left"
          },
          "hovermode": "closest",
          "mapbox": {
           "style": "light"
          },
          "paper_bgcolor": "white",
          "plot_bgcolor": "#E5ECF6",
          "polar": {
           "angularaxis": {
            "gridcolor": "white",
            "linecolor": "white",
            "ticks": ""
           },
           "bgcolor": "#E5ECF6",
           "radialaxis": {
            "gridcolor": "white",
            "linecolor": "white",
            "ticks": ""
           }
          },
          "scene": {
           "xaxis": {
            "backgroundcolor": "#E5ECF6",
            "gridcolor": "white",
            "gridwidth": 2,
            "linecolor": "white",
            "showbackground": true,
            "ticks": "",
            "zerolinecolor": "white"
           },
           "yaxis": {
            "backgroundcolor": "#E5ECF6",
            "gridcolor": "white",
            "gridwidth": 2,
            "linecolor": "white",
            "showbackground": true,
            "ticks": "",
            "zerolinecolor": "white"
           },
           "zaxis": {
            "backgroundcolor": "#E5ECF6",
            "gridcolor": "white",
            "gridwidth": 2,
            "linecolor": "white",
            "showbackground": true,
            "ticks": "",
            "zerolinecolor": "white"
           }
          },
          "shapedefaults": {
           "line": {
            "color": "#2a3f5f"
           }
          },
          "ternary": {
           "aaxis": {
            "gridcolor": "white",
            "linecolor": "white",
            "ticks": ""
           },
           "baxis": {
            "gridcolor": "white",
            "linecolor": "white",
            "ticks": ""
           },
           "bgcolor": "#E5ECF6",
           "caxis": {
            "gridcolor": "white",
            "linecolor": "white",
            "ticks": ""
           }
          },
          "title": {
           "x": 0.05
          },
          "xaxis": {
           "automargin": true,
           "gridcolor": "white",
           "linecolor": "white",
           "ticks": "",
           "title": {
            "standoff": 15
           },
           "zerolinecolor": "white",
           "zerolinewidth": 2
          },
          "yaxis": {
           "automargin": true,
           "gridcolor": "white",
           "linecolor": "white",
           "ticks": "",
           "title": {
            "standoff": 15
           },
           "zerolinecolor": "white",
           "zerolinewidth": 2
          }
         }
        },
        "title": {
         "text": "Number of Gas Transmission Line Incidents in Past 10 Years by State"
        },
        "xaxis": {
         "anchor": "y",
         "domain": [
          0,
          1
         ],
         "title": {
          "text": "No of Incidents"
         }
        },
        "yaxis": {
         "anchor": "x",
         "domain": [
          0,
          1
         ],
         "title": {
          "text": "Incident Year"
         }
        }
       }
      }
     },
     "metadata": {},
     "output_type": "display_data"
    }
   ],
   "source": [
    "# Plotting the data using plotly:\n",
    "fig = px.bar(data_frame=grouped_Year_State, y = 'Incident Year', x = 'No of Incidents',\n",
    "            color = 'Incident State', orientation='h', \n",
    "            color_discrete_sequence= px.colors.sequential.deep_r,\n",
    "            title='Number of Gas Transmission Line Incidents in Past 10 Years by State') #remove latitude form pipe)\n",
    "\n",
    "fig.update_layout(showlegend=True)\n",
    "fig.show()\n"
   ]
  },
  {
   "cell_type": "markdown",
   "metadata": {},
   "source": [
    "Good reference for the colour pallets. Only the sequential one works here. \n",
    "- dir(px.colors.qualitative)\n",
    "- dir(px.colors.diverging)\n",
    "- dir(px.colors.sequential)"
   ]
  },
  {
   "cell_type": "markdown",
   "metadata": {},
   "source": [
    "## Exploring the Injuries, Fatalities and Cuases of Gas Transmission Line Incidents\n",
    "### Fatalities and Injuries"
   ]
  },
  {
   "cell_type": "code",
   "execution_count": null,
   "metadata": {},
   "outputs": [],
   "source": [
    "# Calculating the number of fatalities\n",
    "fatality = HGL_trans_acc['FATAL'].value_counts().reset_index()\n",
    "fatality.rename(columns={'index':'Fatalities'}, inplace = True)\n",
    "fatality['deaths'] = fatality['Fatalities']*fatality['FATAL']\n",
    "# print('The fatality count is:')\n",
    "# print(fatality['deaths'].sum())\n",
    "Deaths = fatality['deaths'].sum()\n",
    "\n",
    "# Calculating the number of injuries\n",
    "injury = HGL_trans_acc['INJURE'].value_counts().reset_index()\n",
    "injury.rename(columns={'index':'Injuries'}, inplace = True)\n",
    "injury['injuries'] = injury['Injuries']*injury['INJURE']\n",
    "# print('The injury count is:')\n",
    "# print(injury['injuries'].sum())\n",
    "\n",
    "Injuries = injury['injuries'].sum()\n",
    "\n",
    "data = {'Death':fatality['deaths'].sum(),'Injury':injury['injuries'].sum()}\n",
    "Casualties=pd.DataFrame(data,index=['Number of Casualties'])\n",
    "\n",
    "Casualties"
   ]
  },
  {
   "cell_type": "markdown",
   "metadata": {},
   "source": [
    "We can see that over the last 10 years, a total of 31 deaths and 117 injuries have occured. Given that the transmission lines are generally not in populated areas and are not very widespeard, this low count is expected. We will compare this with the far more extensive and widespread distribution netwrok.\n",
    "\n",
    "### Causes of the Gas Transmission Line Incidents"
   ]
  },
  {
   "cell_type": "code",
   "execution_count": null,
   "metadata": {},
   "outputs": [],
   "source": [
    "Acc_Cause = HGL_trans_acc.groupby(['CAUSE','CAUSE_DETAILS']).count().reset_index()\n",
    "Acc_Cause.rename(columns = {'REPORT_NUMBER':'Number of Incidents','CAUSE':'Accident Cause', 'CAUSE_DETAILS':'Details'}, inplace=True) #each incident has a report number so its count is incident count\n",
    "\n",
    "Acc_Cause['Accident Cause'] = Acc_Cause['Accident Cause'].str.lower().str.title()\n",
    "Acc_Cause['Details'] = Acc_Cause['Details'].str.lower().str.capitalize()\n",
    "\n",
    "Acc_Cause.head(3)\n"
   ]
  },
  {
   "cell_type": "code",
   "execution_count": null,
   "metadata": {},
   "outputs": [],
   "source": [
    "\n",
    "# #trying with plotly express\n",
    "fig = px.bar(data_frame=Acc_Cause, y = 'Accident Cause', x = 'Number of Incidents', color = 'Details',\n",
    "            color_discrete_sequence= px.colors.sequential.Bluyl_r, orientation='h', \n",
    "            title='Causes of Gas Transmission Line Incidents in Past 10 Years',hover_data={'Accident Cause':False}) #remove latitude form pipe)\n",
    "fig.update_layout(showlegend=False)\n",
    "fig.show()\n"
   ]
  },
  {
   "cell_type": "markdown",
   "metadata": {},
   "source": [
    "We can see that the main cause for the incidents is equiment failure followed by corrosion failure. To get a better understanding of the share of each incident cause we can use a pie chart:"
   ]
  },
  {
   "cell_type": "code",
   "execution_count": null,
   "metadata": {},
   "outputs": [],
   "source": [
    "fig = px.pie(Acc_Cause, values='Number of Incidents', names='Accident Cause',\n",
    "             color_discrete_sequence= px.colors.sequential.Bluyl,\n",
    "             title = 'Gas Distribution Indicent Cause Breakown')\n",
    "fig.show()"
   ]
  },
  {
   "cell_type": "markdown",
   "metadata": {},
   "source": [
    "# Incidents in the Gas Distribution Network "
   ]
  },
  {
   "cell_type": "code",
   "execution_count": 10,
   "metadata": {},
   "outputs": [
    {
     "data": {
      "text/plain": [
       "(1314, 466)"
      ]
     },
     "execution_count": 10,
     "metadata": {},
     "output_type": "execute_result"
    }
   ],
   "source": [
    "# Working on Gas Distribution Accidents now:\n",
    "#changed encoding by saving as csv file again, tab delimited\n",
    "Gas_Dist_Accidents = pd.read_csv('data/incident_gas_distribution_jan2010_present.csv',low_memory=False) \n",
    "Gas_Dist_Accidents.sample(2)\n",
    "Gas_Dist_Accidents.shape\n"
   ]
  },
  {
   "cell_type": "code",
   "execution_count": 11,
   "metadata": {},
   "outputs": [
    {
     "data": {
      "text/html": [
       "<div>\n",
       "<style scoped>\n",
       "    .dataframe tbody tr th:only-of-type {\n",
       "        vertical-align: middle;\n",
       "    }\n",
       "\n",
       "    .dataframe tbody tr th {\n",
       "        vertical-align: top;\n",
       "    }\n",
       "\n",
       "    .dataframe thead th {\n",
       "        text-align: right;\n",
       "    }\n",
       "</style>\n",
       "<table border=\"1\" class=\"dataframe\">\n",
       "  <thead>\n",
       "    <tr style=\"text-align: right;\">\n",
       "      <th></th>\n",
       "      <th>REPORT_RECEIVED_DATE</th>\n",
       "      <th>IYEAR</th>\n",
       "      <th>NAME</th>\n",
       "      <th>LOCATION_STREET_ADDRESS</th>\n",
       "      <th>LOCATION_CITY_NAME</th>\n",
       "      <th>LOCATION_COUNTY_NAME</th>\n",
       "      <th>LOCATION_STATE_ABBREVIATION</th>\n",
       "      <th>LOCATION_POSTAL_CODE</th>\n",
       "      <th>LOCATION_LATITUDE</th>\n",
       "      <th>LOCATION_LONGITUDE</th>\n",
       "      <th>COMMODITY_RELEASED_TYPE</th>\n",
       "      <th>UNINTENTIONAL_RELEASE</th>\n",
       "      <th>INTENTIONAL_RELEASE</th>\n",
       "      <th>FATALITY_IND</th>\n",
       "      <th>NUM_EMP_FATALITIES</th>\n",
       "      <th>NUM_CONTR_FATALITIES</th>\n",
       "      <th>NUM_ER_FATALITIES</th>\n",
       "      <th>NUM_WORKER_FATALITIES</th>\n",
       "      <th>NUM_GP_FATALITIES</th>\n",
       "      <th>FATAL</th>\n",
       "      <th>INJURY_IND</th>\n",
       "      <th>NUM_EMP_INJURIES</th>\n",
       "      <th>NUM_CONTR_INJURIES</th>\n",
       "      <th>NUM_ER_INJURIES</th>\n",
       "      <th>NUM_WORKER_INJURIES</th>\n",
       "      <th>NUM_GP_INJURIES</th>\n",
       "      <th>INJURE</th>\n",
       "      <th>IGNITE_IND</th>\n",
       "      <th>IGNITE_DATETIME</th>\n",
       "      <th>HOW_EXTINGUISHED</th>\n",
       "      <th>GAS_CONSUMED_BY_FIRE_IN_MCF</th>\n",
       "      <th>EXPLODE_IND</th>\n",
       "      <th>NUM_PUB_EVACUATED</th>\n",
       "      <th>INCIDENT_AREA_TYPE</th>\n",
       "      <th>INCIDENT_AREA_SUBTYPE</th>\n",
       "      <th>INCIDENT_AREA_DETAILS</th>\n",
       "      <th>MATERIAL_INVOLVED</th>\n",
       "      <th>MATERIAL_DETAILS</th>\n",
       "      <th>RELEASE_TYPE</th>\n",
       "      <th>PUNCTURE_AXIAL</th>\n",
       "      <th>PUNCTURE_CIRCUM</th>\n",
       "      <th>CLASS_LOCATION_TYPE</th>\n",
       "      <th>EST_COST_OPER_PAID</th>\n",
       "      <th>EST_COST_PROP_DAMAGE</th>\n",
       "      <th>EST_COST_EMERGENCY</th>\n",
       "      <th>EST_COST_OTHER</th>\n",
       "      <th>GAS_COST_IN_MCF</th>\n",
       "      <th>EST_COST_UNINTENTIONAL_RELEASE</th>\n",
       "      <th>EST_COST_INTENTIONAL_RELEASE</th>\n",
       "      <th>CAUSE_DETAILS</th>\n",
       "      <th>CAUSE</th>\n",
       "    </tr>\n",
       "  </thead>\n",
       "  <tbody>\n",
       "    <tr>\n",
       "      <th>1226</th>\n",
       "      <td>10/29/2010</td>\n",
       "      <td>2010</td>\n",
       "      <td>DELMARVA POWER &amp; LIGHT COMPANY</td>\n",
       "      <td>COLONY NORTH &amp; LEA BLVD</td>\n",
       "      <td>WILMINGTON</td>\n",
       "      <td>NEW CASTLE COUNTY</td>\n",
       "      <td>DE</td>\n",
       "      <td>19802</td>\n",
       "      <td>39.756837</td>\n",
       "      <td>-75.517246</td>\n",
       "      <td>NATURAL GAS</td>\n",
       "      <td>80.0</td>\n",
       "      <td>NaN</td>\n",
       "      <td>NO</td>\n",
       "      <td>NaN</td>\n",
       "      <td>NaN</td>\n",
       "      <td>NaN</td>\n",
       "      <td>NaN</td>\n",
       "      <td>NaN</td>\n",
       "      <td>0</td>\n",
       "      <td>NO</td>\n",
       "      <td>NaN</td>\n",
       "      <td>NaN</td>\n",
       "      <td>NaN</td>\n",
       "      <td>NaN</td>\n",
       "      <td>NaN</td>\n",
       "      <td>0</td>\n",
       "      <td>NO</td>\n",
       "      <td>NaN</td>\n",
       "      <td>NaN</td>\n",
       "      <td>NaN</td>\n",
       "      <td>NO</td>\n",
       "      <td>0.0</td>\n",
       "      <td>UNDERGROUND</td>\n",
       "      <td>UNDER SOIL</td>\n",
       "      <td>NaN</td>\n",
       "      <td>STEEL</td>\n",
       "      <td>NaN</td>\n",
       "      <td>LEAK</td>\n",
       "      <td>NaN</td>\n",
       "      <td>NaN</td>\n",
       "      <td>CLASS 4 LOCATION</td>\n",
       "      <td>0.0</td>\n",
       "      <td>65000.0</td>\n",
       "      <td>450.0</td>\n",
       "      <td>30000.0</td>\n",
       "      <td>NaN</td>\n",
       "      <td>50.0</td>\n",
       "      <td>NaN</td>\n",
       "      <td>HEAVY RAINS/FLOODS</td>\n",
       "      <td>NATURAL FORCE DAMAGE</td>\n",
       "    </tr>\n",
       "    <tr>\n",
       "      <th>165</th>\n",
       "      <td>8/06/2020</td>\n",
       "      <td>2020</td>\n",
       "      <td>NORTHERN STATES POWER CO OF MINNESOTA</td>\n",
       "      <td>800 SIBLEY MEMORIAL HIGHWAY</td>\n",
       "      <td>MENDOTA HEIGHTS</td>\n",
       "      <td>DAKOTA</td>\n",
       "      <td>MN</td>\n",
       "      <td>55118</td>\n",
       "      <td>44.903122</td>\n",
       "      <td>-93.130992</td>\n",
       "      <td>NATURAL GAS</td>\n",
       "      <td>298.0</td>\n",
       "      <td>0.0</td>\n",
       "      <td>NO</td>\n",
       "      <td>NaN</td>\n",
       "      <td>NaN</td>\n",
       "      <td>NaN</td>\n",
       "      <td>NaN</td>\n",
       "      <td>NaN</td>\n",
       "      <td>0</td>\n",
       "      <td>NO</td>\n",
       "      <td>NaN</td>\n",
       "      <td>NaN</td>\n",
       "      <td>NaN</td>\n",
       "      <td>NaN</td>\n",
       "      <td>NaN</td>\n",
       "      <td>0</td>\n",
       "      <td>YES</td>\n",
       "      <td>7/06/2020 7:55</td>\n",
       "      <td>ALLOWED TO BURN OUT</td>\n",
       "      <td>298.0</td>\n",
       "      <td>NO</td>\n",
       "      <td>0.0</td>\n",
       "      <td>ABOVEGROUND</td>\n",
       "      <td>TYPICAL ABOVEGROUND FACILITY PIPING OR APPURTE...</td>\n",
       "      <td>NaN</td>\n",
       "      <td>STEEL</td>\n",
       "      <td>NaN</td>\n",
       "      <td>LEAK</td>\n",
       "      <td>NaN</td>\n",
       "      <td>NaN</td>\n",
       "      <td>CLASS 2 LOCATION</td>\n",
       "      <td>0.0</td>\n",
       "      <td>146000.0</td>\n",
       "      <td>5853.0</td>\n",
       "      <td>0.0</td>\n",
       "      <td>0.44</td>\n",
       "      <td>0.0</td>\n",
       "      <td>0.0</td>\n",
       "      <td>LIGHTNING</td>\n",
       "      <td>NATURAL FORCE DAMAGE</td>\n",
       "    </tr>\n",
       "    <tr>\n",
       "      <th>1241</th>\n",
       "      <td>8/31/2010</td>\n",
       "      <td>2010</td>\n",
       "      <td>METROPOLITAN UTILITIES DISTRICT</td>\n",
       "      <td>7812 EVANS STREET</td>\n",
       "      <td>OMAHA</td>\n",
       "      <td>DOUGLAS</td>\n",
       "      <td>NE</td>\n",
       "      <td>68134</td>\n",
       "      <td>41.292013</td>\n",
       "      <td>-96.033921</td>\n",
       "      <td>NATURAL GAS</td>\n",
       "      <td>12582.0</td>\n",
       "      <td>NaN</td>\n",
       "      <td>NO</td>\n",
       "      <td>NaN</td>\n",
       "      <td>NaN</td>\n",
       "      <td>NaN</td>\n",
       "      <td>NaN</td>\n",
       "      <td>NaN</td>\n",
       "      <td>0</td>\n",
       "      <td>NO</td>\n",
       "      <td>NaN</td>\n",
       "      <td>NaN</td>\n",
       "      <td>NaN</td>\n",
       "      <td>NaN</td>\n",
       "      <td>NaN</td>\n",
       "      <td>0</td>\n",
       "      <td>YES</td>\n",
       "      <td>NaN</td>\n",
       "      <td>NaN</td>\n",
       "      <td>NaN</td>\n",
       "      <td>NO</td>\n",
       "      <td>0.0</td>\n",
       "      <td>ABOVEGROUND</td>\n",
       "      <td>IN OTHER ENCLOSED SPACE</td>\n",
       "      <td>NaN</td>\n",
       "      <td>PLASTIC</td>\n",
       "      <td>NaN</td>\n",
       "      <td>OTHER</td>\n",
       "      <td>NaN</td>\n",
       "      <td>NaN</td>\n",
       "      <td>CLASS 1 LOCATION</td>\n",
       "      <td>0.0</td>\n",
       "      <td>4000.0</td>\n",
       "      <td>987.0</td>\n",
       "      <td>56000.0</td>\n",
       "      <td>NaN</td>\n",
       "      <td>57.0</td>\n",
       "      <td>NaN</td>\n",
       "      <td>DAMAGE BY CAR, TRUCK, OR OTHER MOTORIZED VEHIC...</td>\n",
       "      <td>OTHER OUTSIDE FORCE DAMAGE</td>\n",
       "    </tr>\n",
       "  </tbody>\n",
       "</table>\n",
       "</div>"
      ],
      "text/plain": [
       "     REPORT_RECEIVED_DATE  IYEAR                                   NAME  \\\n",
       "1226           10/29/2010   2010         DELMARVA POWER & LIGHT COMPANY   \n",
       "165             8/06/2020   2020  NORTHERN STATES POWER CO OF MINNESOTA   \n",
       "1241            8/31/2010   2010        METROPOLITAN UTILITIES DISTRICT   \n",
       "\n",
       "          LOCATION_STREET_ADDRESS LOCATION_CITY_NAME LOCATION_COUNTY_NAME  \\\n",
       "1226      COLONY NORTH & LEA BLVD         WILMINGTON    NEW CASTLE COUNTY   \n",
       "165   800 SIBLEY MEMORIAL HIGHWAY    MENDOTA HEIGHTS               DAKOTA   \n",
       "1241            7812 EVANS STREET              OMAHA              DOUGLAS   \n",
       "\n",
       "     LOCATION_STATE_ABBREVIATION LOCATION_POSTAL_CODE  LOCATION_LATITUDE  \\\n",
       "1226                          DE                19802          39.756837   \n",
       "165                           MN                55118          44.903122   \n",
       "1241                          NE                68134          41.292013   \n",
       "\n",
       "      LOCATION_LONGITUDE COMMODITY_RELEASED_TYPE  UNINTENTIONAL_RELEASE  \\\n",
       "1226          -75.517246             NATURAL GAS                   80.0   \n",
       "165           -93.130992             NATURAL GAS                  298.0   \n",
       "1241          -96.033921             NATURAL GAS                12582.0   \n",
       "\n",
       "      INTENTIONAL_RELEASE FATALITY_IND  NUM_EMP_FATALITIES  \\\n",
       "1226                  NaN           NO                 NaN   \n",
       "165                   0.0           NO                 NaN   \n",
       "1241                  NaN           NO                 NaN   \n",
       "\n",
       "      NUM_CONTR_FATALITIES  NUM_ER_FATALITIES  NUM_WORKER_FATALITIES  \\\n",
       "1226                   NaN                NaN                    NaN   \n",
       "165                    NaN                NaN                    NaN   \n",
       "1241                   NaN                NaN                    NaN   \n",
       "\n",
       "      NUM_GP_FATALITIES  FATAL INJURY_IND  NUM_EMP_INJURIES  \\\n",
       "1226                NaN      0         NO               NaN   \n",
       "165                 NaN      0         NO               NaN   \n",
       "1241                NaN      0         NO               NaN   \n",
       "\n",
       "      NUM_CONTR_INJURIES  NUM_ER_INJURIES  NUM_WORKER_INJURIES  \\\n",
       "1226                 NaN              NaN                  NaN   \n",
       "165                  NaN              NaN                  NaN   \n",
       "1241                 NaN              NaN                  NaN   \n",
       "\n",
       "      NUM_GP_INJURIES  INJURE IGNITE_IND IGNITE_DATETIME     HOW_EXTINGUISHED  \\\n",
       "1226              NaN       0         NO             NaN                  NaN   \n",
       "165               NaN       0        YES  7/06/2020 7:55  ALLOWED TO BURN OUT   \n",
       "1241              NaN       0        YES             NaN                  NaN   \n",
       "\n",
       "      GAS_CONSUMED_BY_FIRE_IN_MCF EXPLODE_IND  NUM_PUB_EVACUATED  \\\n",
       "1226                          NaN          NO                0.0   \n",
       "165                         298.0          NO                0.0   \n",
       "1241                          NaN          NO                0.0   \n",
       "\n",
       "     INCIDENT_AREA_TYPE                              INCIDENT_AREA_SUBTYPE  \\\n",
       "1226        UNDERGROUND                                         UNDER SOIL   \n",
       "165         ABOVEGROUND  TYPICAL ABOVEGROUND FACILITY PIPING OR APPURTE...   \n",
       "1241        ABOVEGROUND                            IN OTHER ENCLOSED SPACE   \n",
       "\n",
       "     INCIDENT_AREA_DETAILS MATERIAL_INVOLVED MATERIAL_DETAILS RELEASE_TYPE  \\\n",
       "1226                   NaN             STEEL              NaN         LEAK   \n",
       "165                    NaN             STEEL              NaN         LEAK   \n",
       "1241                   NaN           PLASTIC              NaN        OTHER   \n",
       "\n",
       "      PUNCTURE_AXIAL  PUNCTURE_CIRCUM CLASS_LOCATION_TYPE  EST_COST_OPER_PAID  \\\n",
       "1226             NaN              NaN    CLASS 4 LOCATION                 0.0   \n",
       "165              NaN              NaN    CLASS 2 LOCATION                 0.0   \n",
       "1241             NaN              NaN    CLASS 1 LOCATION                 0.0   \n",
       "\n",
       "      EST_COST_PROP_DAMAGE  EST_COST_EMERGENCY  EST_COST_OTHER  \\\n",
       "1226               65000.0               450.0         30000.0   \n",
       "165               146000.0              5853.0             0.0   \n",
       "1241                4000.0               987.0         56000.0   \n",
       "\n",
       "      GAS_COST_IN_MCF  EST_COST_UNINTENTIONAL_RELEASE  \\\n",
       "1226              NaN                            50.0   \n",
       "165              0.44                             0.0   \n",
       "1241              NaN                            57.0   \n",
       "\n",
       "      EST_COST_INTENTIONAL_RELEASE  \\\n",
       "1226                           NaN   \n",
       "165                            0.0   \n",
       "1241                           NaN   \n",
       "\n",
       "                                          CAUSE_DETAILS  \\\n",
       "1226                                 HEAVY RAINS/FLOODS   \n",
       "165                                           LIGHTNING   \n",
       "1241  DAMAGE BY CAR, TRUCK, OR OTHER MOTORIZED VEHIC...   \n",
       "\n",
       "                           CAUSE  \n",
       "1226        NATURAL FORCE DAMAGE  \n",
       "165         NATURAL FORCE DAMAGE  \n",
       "1241  OTHER OUTSIDE FORCE DAMAGE  "
      ]
     },
     "execution_count": 11,
     "metadata": {},
     "output_type": "execute_result"
    }
   ],
   "source": [
    "req_clmns =  []\n",
    "with open('data/Gas_Dist_required_columns.txt') as f: #importing the list of required columns form the text file\n",
    "    lines = f.readlines()\n",
    "f.close()\n",
    "for l in lines:\n",
    "    req_clmns.append(l.strip()) #getting rid of the \"\\n\" escape character\n",
    "Gas_Dist_Acc = Gas_Dist_Accidents[req_clmns]\n",
    "\n",
    "Gas_Dist_Acc.shape\n",
    "Gas_Dist_Acc.sample(3)"
   ]
  },
  {
   "cell_type": "markdown",
   "metadata": {},
   "source": [
    "There is an outlier in the longitude column (large negative number), so we find it and drop that whole row so we can do the plotting "
   ]
  },
  {
   "cell_type": "code",
   "execution_count": 12,
   "metadata": {},
   "outputs": [
    {
     "data": {
      "text/plain": [
       "(1314, 51)"
      ]
     },
     "execution_count": 12,
     "metadata": {},
     "output_type": "execute_result"
    }
   ],
   "source": [
    "drop_row_index = Gas_Dist_Acc['LOCATION_LONGITUDE'].idxmin() #getting the row index for the minimum oulier \n",
    "Gas_Dist_Acc.drop(Gas_Dist_Acc.index[drop_row_index])\n",
    "Gas_Dist_Acc.shape #So we dropped one row"
   ]
  },
  {
   "cell_type": "markdown",
   "metadata": {},
   "source": [
    "Gas Distribution netwrok Incidents' Geographical Locations"
   ]
  },
  {
   "cell_type": "code",
   "execution_count": null,
   "metadata": {},
   "outputs": [],
   "source": [
    "# I have discovered some outliers that fall outside the continental USA, so I will explude those: \n",
    "Gas_Dist_Acc = Gas_Dist_Acc[(-140<Gas_Dist_Acc['LOCATION_LONGITUDE']) & (Gas_Dist_Acc['LOCATION_LONGITUDE']<-50)]\n",
    "Gas_Dist_Acc = Gas_Dist_Acc[Gas_Dist_Acc['LOCATION_LATITUDE']<50]\n",
    "\n",
    "#Formatting  the hovertext\n",
    "Gas_Dist_Acc['hover_text'] = Gas_Dist_Acc[\"LOCATION_CITY_NAME\"].str.title()+\", \"+ Gas_Dist_Acc[\"LOCATION_STATE_ABBREVIATION\"]+ \", \"+\"Cause: \"+Gas_Dist_Acc['CAUSE'].str.lower().str.capitalize()+\", \" + Gas_Dist_Acc[\"IYEAR\"].astype(str)\n",
    "\n",
    "fig = go.Figure(data = go.Scattergeo(\n",
    "                    lat=Gas_Dist_Acc.LOCATION_LATITUDE, lon=Gas_Dist_Acc.LOCATION_LONGITUDE,\n",
    "                    text=Gas_Dist_Acc['hover_text'], \n",
    "                    mode = 'markers',\n",
    "                    marker = dict(\n",
    "                    size = 4,\n",
    "                    opacity = 0.8,\n",
    "                    reversescale = True,\n",
    "                    autocolorscale = False,\n",
    "                    symbol = 'circle', \n",
    "                    line = dict(\n",
    "                        width=1,\n",
    "                        color='rgba(219, 15, 15)'\n",
    "                    ),\n",
    "                    colorscale = 'Hot_r',\n",
    "                    cmin = 2010,\n",
    "                    color = Gas_Dist_Acc.IYEAR,\n",
    "                    cmax = Gas_Dist_Acc.IYEAR.max(),\n",
    "                    colorbar_title=\"Incident Year\")))\n",
    "\n",
    "fig.update_layout(\n",
    "        title = 'Gas distribution line incidents in the last 10 years',\n",
    "        geo_scope='usa',\n",
    "        hovermode=\"closest\",\n",
    "        margin={\"r\":0,\"t\":0,\"l\":10,\"b\":0},\n",
    "        showlegend = True\n",
    "    )\n",
    "\n",
    "\n",
    "fig.update_geos(\n",
    "    resolution=50,\n",
    "    showland=True, landcolor=\"#b1f699\",\n",
    "    showlakes=True, lakecolor=\"LightBlue\")\n",
    "\n",
    "fig.show()\n"
   ]
  },
  {
   "cell_type": "code",
   "execution_count": 13,
   "metadata": {},
   "outputs": [
    {
     "data": {
      "text/plain": [
       "(1314, 51)"
      ]
     },
     "execution_count": 13,
     "metadata": {},
     "output_type": "execute_result"
    }
   ],
   "source": [
    "Gas_Dist_Acc.shape #So we dropped one row"
   ]
  },
  {
   "cell_type": "code",
   "execution_count": null,
   "metadata": {},
   "outputs": [],
   "source": [
    "#Using Scatter Mapbox for a different type of location plot\n",
    "\n",
    "fig = px.scatter_mapbox(Gas_Dist_Acc, lat=\"LOCATION_LATITUDE\", lon=\"LOCATION_LONGITUDE\", hover_name=\"LOCATION_CITY_NAME\",\n",
    "                    hover_data=[\"CAUSE_DETAILS\", \"IYEAR\"],\n",
    "                    color_discrete_sequence=[\"red\"], zoom=3, height=600)\n",
    "\n",
    "fig.update_layout(mapbox_style=\"open-street-map\")\n",
    "fig.update_layout(margin={\"r\":0,\"t\":0,\"l\":0,\"b\":0})\n",
    "fig.show()"
   ]
  },
  {
   "cell_type": "code",
   "execution_count": null,
   "metadata": {},
   "outputs": [],
   "source": [
    "grouped_Year_State = Gas_Dist_Acc.groupby(['IYEAR','LOCATION_STATE_ABBREVIATION']).count().sort_values(by = 'NAME',  ascending=False).reset_index()\n",
    "\n",
    "#creating a data frame as the output of the groupby. The product of the groupby is a series, \n",
    "# so you do a to_frame to get the df and then reset the index to get a proper index\n",
    "# The column NAME (1 on 1 relationship) can be our incident count so:\n",
    "\n",
    "grouped_Year_State.rename(columns = {'IYEAR':'Incident Year','LOCATION_STATE_ABBREVIATION':'Incident State', 'NAME':'No of Incidents'}, inplace=True)\n",
    "#Sorting based on year\n",
    "grouped_Year_State=grouped_Year_State.sort_values(\"Incident Year\") # Make sure you sort the time horizon column in ascending order\n",
    "\n",
    "grouped_Year_State.sample(3)\n",
    "\n"
   ]
  },
  {
   "cell_type": "code",
   "execution_count": null,
   "metadata": {},
   "outputs": [],
   "source": [
    "#plotting using plotly:\n",
    "\n",
    "# #trying with plotly express\n",
    "fig = px.bar(data_frame=grouped_Year_State, y ='No of Incidents' , x = 'Incident State',\n",
    "            color = 'Incident Year', orientation='v', \n",
    "            color_continuous_scale=px.colors.sequential.OrRd_r,\n",
    "            title='Number of Gas Distribution Incidents in Past 10 Years by State') #remove latitude form pipe)\n",
    "\n",
    "fig.update_layout(showlegend=True)\n",
    "fig.show()\n"
   ]
  },
  {
   "cell_type": "markdown",
   "metadata": {},
   "source": []
  },
  {
   "cell_type": "markdown",
   "metadata": {},
   "source": [
    "The above is not very telling and difficult to interpret even with the hover text. So we do a Chorlopleth Map for every year. "
   ]
  },
  {
   "cell_type": "markdown",
   "metadata": {},
   "source": [
    "### Animated Chorlopleth Map to understand the gas distribution incident data better.\n",
    "https://towardsdatascience.com/simplest-way-of-creating-a-choropleth-map-by-u-s-states-in-python-f359ada7735e"
   ]
  },
  {
   "cell_type": "code",
   "execution_count": null,
   "metadata": {},
   "outputs": [],
   "source": [
    "import plotly.express as px\n",
    "fig = px.choropleth(grouped_Year_State,\n",
    "                    locations='Incident State', \n",
    "                    locationmode=\"USA-states\", \n",
    "                    scope=\"usa\",\n",
    "                    color='No of Incidents',\n",
    "                    color_continuous_scale=\"agsunset_r\", \n",
    "                    animation_frame='Incident Year' #make sure 'Incident Year' is string type and sorted in ascending order\n",
    "                    )\n",
    "fig.update_layout(margin={\"r\":0,\"t\":0,\"l\":0,\"b\":0})\n",
    "\n",
    "fig.show()"
   ]
  },
  {
   "cell_type": "markdown",
   "metadata": {},
   "source": [
    "# Explorting the Injuries, Fatalities and Cuases of the Gas Transmission Netwrok Incidents\n",
    "## Fatalities and Injuries"
   ]
  },
  {
   "cell_type": "code",
   "execution_count": null,
   "metadata": {},
   "outputs": [],
   "source": [
    "# Calculating the number of fatalities\n",
    "fatality = Gas_Dist_Acc['FATAL'].value_counts().reset_index()\n",
    "fatality.rename(columns={'index':'Fatalities'}, inplace = True)\n",
    "fatality['deaths'] = fatality['Fatalities']*fatality['FATAL']\n",
    "print('The fatality count is:')\n",
    "print(fatality['deaths'].sum())\n",
    "\n",
    "# Calculating the number of injuries\n",
    "injury = Gas_Dist_Acc['INJURE'].value_counts().reset_index()\n",
    "injury.rename(columns={'index':'Injuries'}, inplace = True)\n",
    "injury['injuries'] = injury['Injuries']*injury['INJURE']\n",
    "print('The injury count is:')\n",
    "print(injury['injuries'].sum())"
   ]
  },
  {
   "cell_type": "markdown",
   "metadata": {},
   "source": [
    "The injury/fatality rate is larger than the Gas Transmission lines injury/fatality, so this warrants a closer look. We combine the fatalities and the injuries into a new column \"Casualties\". The reason for the larger number of casualties, is that the gas distribution netwrok has a considerable presence in locations with higher population densities. As a result, the casualties are higher when there is an incident. "
   ]
  },
  {
   "cell_type": "code",
   "execution_count": null,
   "metadata": {},
   "outputs": [],
   "source": [
    "\n",
    "Casualties = Gas_Dist_Acc[(Gas_Dist_Acc['FATALITY_IND']=='YES')|(Gas_Dist_Acc['INJURY_IND']=='YES')]\n",
    "Casualties_by_State = Casualties.groupby(['LOCATION_STATE_ABBREVIATION', 'CAUSE', 'CAUSE_DETAILS']).sum()\n",
    "Casualties_by_State= Casualties_by_State.reset_index()\n",
    "Casualties_by_State.rename(columns = {'LOCATION_STATE_ABBREVIATION':'State',\n",
    "                                    'FATAL':'Number_Fatalities',\n",
    "                                    'CAUSE': 'Cause',\n",
    "                                    'CAUSE_DETAILS': 'Cause Details',\n",
    "                                    'INJURE':'Number_Injuried'}, inplace=True)\n",
    "\n",
    "\n",
    "Casualties_by_State['Cause'] = Casualties_by_State['Cause'].str.lower().str.capitalize()\n",
    "Casualties_by_State['Cause Details'] = Casualties_by_State['Cause Details'].str.lower().str.capitalize()\n",
    "Casualties_by_State['Casualties'] = Casualties_by_State['Number_Fatalities']+Casualties_by_State['Number_Injuried']\n",
    "\n",
    "Casualties_by_State.sample(3)"
   ]
  },
  {
   "cell_type": "code",
   "execution_count": null,
   "metadata": {},
   "outputs": [],
   "source": [
    "\n",
    "fig = px.bar(data_frame=Casualties_by_State, y ='Casualties' , x ='State' , color ='Cause' , #hover_data='CAUSE_DETAILS',\n",
    "            color_discrete_sequence= px.colors.sequential.Jet, orientation='v',\n",
    "            hover_data={'Cause Details'},\n",
    "            title='Casualties of Gas Distribution Line Incidents in Past 10 Years')\n",
    "fig.update_layout(showlegend=True)\n",
    "fig.show()\n",
    "\n"
   ]
  },
  {
   "cell_type": "markdown",
   "metadata": {},
   "source": [
    "Using a map to show the worst States in terms of the total casualties in the last 10 years. "
   ]
  },
  {
   "cell_type": "code",
   "execution_count": null,
   "metadata": {},
   "outputs": [],
   "source": [
    "Casualties_by_State =Casualties_by_State.groupby(['State']).sum().reset_index() #grouping based on States only for the heatmap"
   ]
  },
  {
   "cell_type": "code",
   "execution_count": null,
   "metadata": {},
   "outputs": [],
   "source": [
    "#Plotting the heatmap\n",
    "fig = px.choropleth(Casualties_by_State,\n",
    "                    locations='State', \n",
    "                    locationmode=\"USA-states\", \n",
    "                    scope=\"usa\",\n",
    "                    color='Casualties',\n",
    "                    color_continuous_scale=\"speed\", \n",
    "                    )\n",
    "\n",
    "fig.update_layout(margin={\"r\":0,\"t\":0,\"l\":0,\"b\":0})\n",
    "\n",
    "fig.show()"
   ]
  },
  {
   "cell_type": "markdown",
   "metadata": {},
   "source": [
    "# Conclusions\n",
    "\n",
    "In this project we explored the incient data provided by the [Pipeline and Hazardous Materials Safety Administration (PHMSA)](https://www.phmsa.dot.gov/data-and-statistics/pipeline/distribution-transmission-gathering-lng-and-liquid-accident-and-incident-data) and found some insights related to the locations, causes and associated casualties of gas pipeline incidents in the United States over the last 10 years. We utilised [plotly](https://plotly.com/) to make interactive visualisations of the data to help us understand the available data better. \n",
    "\n",
    "Causes, casualties, and incident locations are inherently different between gas transmission and gas distribution pipelines. \n",
    "\n",
    "The former has less casualities as its not distributed among the areas wiht large population, natually the highest number of incidents occure in Texas, Oklahoma and Gulf of mexico where the transmission lines are more pervalent. The number of incidets per year is stead around 100 incidents. The major causes for gas transmission lines are equipment failure, mainly vause of malfunctioning control and releif equipment, followed by corrosion issues. \n",
    "\n",
    "Gas distribution pipeline incidents on the oter hand occure in the locations with much larger population dentisy. As a result their casualty rates are higher. The pipeline netwrok itself is much more widespread as well, contributing to the higher incident and casualty rate. California has the highest number of gas distribution incidents in the last 10 years followed by New York, however, in temrs of casualties, the State of New York has the highest number of casualties. The main cotrnobuter to the incidents resulting in casulties is natural foce damage due to earth movement.\n",
    "\n"
   ]
  }
 ],
 "metadata": {
  "kernelspec": {
   "display_name": "Python 3.9.12 ('.pipe_env')",
   "language": "python",
   "name": "python3"
  },
  "language_info": {
   "codemirror_mode": {
    "name": "ipython",
    "version": 3
   },
   "file_extension": ".py",
   "mimetype": "text/x-python",
   "name": "python",
   "nbconvert_exporter": "python",
   "pygments_lexer": "ipython3",
   "version": "3.9.12"
  },
  "orig_nbformat": 4,
  "vscode": {
   "interpreter": {
    "hash": "a505bc6d14c1f7462254554f1370e471aa58cc5f448996c4ec2dee09ebd38da2"
   }
  }
 },
 "nbformat": 4,
 "nbformat_minor": 2
}
