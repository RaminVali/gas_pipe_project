{
 "cells": [
  {
   "cell_type": "markdown",
   "metadata": {},
   "source": [
    "## Pipeline Acceidents_v2\n",
    "\n",
    "Using Seaborn or Plotly to make better plots\n",
    "\n",
    "For making maps I used this: https://jcutrer.com/python/learn-geopandas-plotting-usmaps"
   ]
  },
  {
   "cell_type": "code",
   "execution_count": 1,
   "metadata": {},
   "outputs": [],
   "source": [
    "import pandas as pd\n",
    "import numpy as np\n",
    "\n",
    "#import wget\n",
    "\n",
    "#plotty things\n",
    "import matplotlib.pyplot as plt\n",
    "from matplotlib.pyplot import figure\n",
    "\n",
    "import plotly\n",
    "import plotly.graph_objects as go\n",
    "import plotly.offline as pyo\n",
    "from plotly.offline import init_notebook_mode\n",
    "import plotly.express as px\n",
    "\n",
    "import pyproj\n",
    "\n",
    "#mappy things\n",
    "import geopandas as gpd\n",
    "import shapely.geometry # to make the interactive plotly pipe shapes work \n",
    "from shapely.geometry import Point  #To display lat-long locations on the maps\n",
    "\n",
    "\n",
    "pd.options.display.max_columns = 999\n"
   ]
  },
  {
   "cell_type": "markdown",
   "metadata": {},
   "source": [
    "## Getting the shape data \n",
    "https://www.eia.gov/maps/layer_info-m.php for the shape files\n",
    "\n",
    "'''\n",
    "#### download a zipped shapefile\n",
    "wget.download(\"https://plotly.github.io/datasets/ne_50m_rivers_lake_centerlines.zip\")\n",
    "\n",
    "### open a zipped shapefile with the zip:// pseudo-protocol\n",
    "geo_df = gpd.read_file(\"zip://ne_50m_rivers_lake_centerlines.zip\")\n",
    "\n",
    "'''"
   ]
  },
  {
   "cell_type": "code",
   "execution_count": 2,
   "metadata": {},
   "outputs": [],
   "source": [
    "states = gpd.read_file('data/mapping/usa-states-census-2014.shp') #reading in the USA shape file \n",
    "\n",
    "# #using plotly to plot the USA states based on region\n",
    "# fig = px.choropleth(states,\n",
    "#                     locations='STUSPS', \n",
    "#                     locationmode=\"USA-states\", \n",
    "#                     scope=\"usa\",\n",
    "#                     color='region',\n",
    "#                     color_continuous_scale=\"Viridis_r\", \n",
    "                    \n",
    "#                     )\n",
    "# fig.show()"
   ]
  },
  {
   "cell_type": "code",
   "execution_count": 3,
   "metadata": {},
   "outputs": [],
   "source": [
    "## Reading in the HGL (Hydrocarbon Liquid Gass) transmission pieline data\n",
    "HGL_trans_pipe = gpd.read_file('data/mapping/HGL_Pipelines_US_202001.shp')\n",
    "\n",
    " #using the geopandas clip() function, and clipping the pipeline data to the continental USA boundaries.\n",
    "HGL_trans_pipe_clipped = gpd.clip(HGL_trans_pipe, states) \n",
    "\n",
    "#Gulf of Mexico Pipelines (undersea)\n",
    "#https://www.data.boem.gov/Main/Mapping.aspx\n",
    "Gulf_mexico_pipe = gpd.read_file('data/mapping/ppl_arcs.shp')\n",
    "\n",
    "#interstate and intrastate pipes\n",
    "inter_intra_pipe = gpd.read_file('data/mapping/NaturalGas_Pipelines_US_202001.shp')"
   ]
  },
  {
   "cell_type": "code",
   "execution_count": null,
   "metadata": {},
   "outputs": [],
   "source": [
    "HGL_trans_pipe.sample(2)"
   ]
  },
  {
   "cell_type": "markdown",
   "metadata": {},
   "source": [
    " Moral of the story, you have to give BOTH your data frame and the lat/long/name intot he line_geo, and then use the hover data and true flase dictionaries turn on or turn off what you like. "
   ]
  },
  {
   "cell_type": "code",
   "execution_count": 7,
   "metadata": {},
   "outputs": [
    {
     "data": {
      "text/html": [
       "<div>\n",
       "<style scoped>\n",
       "    .dataframe tbody tr th:only-of-type {\n",
       "        vertical-align: middle;\n",
       "    }\n",
       "\n",
       "    .dataframe tbody tr th {\n",
       "        vertical-align: top;\n",
       "    }\n",
       "\n",
       "    .dataframe thead th {\n",
       "        text-align: right;\n",
       "    }\n",
       "</style>\n",
       "<table border=\"1\" class=\"dataframe\">\n",
       "  <thead>\n",
       "    <tr style=\"text-align: right;\">\n",
       "      <th></th>\n",
       "      <th>lats</th>\n",
       "      <th>lons</th>\n",
       "      <th>Pipe_Name</th>\n",
       "      <th>Operator_Name</th>\n",
       "      <th>Category</th>\n",
       "    </tr>\n",
       "  </thead>\n",
       "  <tbody>\n",
       "    <tr>\n",
       "      <th>179</th>\n",
       "      <td>41.566257</td>\n",
       "      <td>-88.211819</td>\n",
       "      <td>North System</td>\n",
       "      <td>ONEOK</td>\n",
       "      <td>Major Gas Transmission Pipeline</td>\n",
       "    </tr>\n",
       "    <tr>\n",
       "      <th>518</th>\n",
       "      <td>40.533461</td>\n",
       "      <td>-81.100497</td>\n",
       "      <td>Utopia East</td>\n",
       "      <td>KINDER MORGAN</td>\n",
       "      <td>Major Gas Transmission Pipeline</td>\n",
       "    </tr>\n",
       "    <tr>\n",
       "      <th>1311</th>\n",
       "      <td>40.403082</td>\n",
       "      <td>-81.106865</td>\n",
       "      <td>Utica East Ohio Midstream</td>\n",
       "      <td>WILLIAMS</td>\n",
       "      <td>Major Gas Transmission Pipeline</td>\n",
       "    </tr>\n",
       "  </tbody>\n",
       "</table>\n",
       "</div>"
      ],
      "text/plain": [
       "           lats       lons                  Pipe_Name  Operator_Name  \\\n",
       "179   41.566257 -88.211819               North System          ONEOK   \n",
       "518   40.533461 -81.100497                Utopia East  KINDER MORGAN   \n",
       "1311  40.403082 -81.106865  Utica East Ohio Midstream       WILLIAMS   \n",
       "\n",
       "                             Category  \n",
       "179   Major Gas Transmission Pipeline  \n",
       "518   Major Gas Transmission Pipeline  \n",
       "1311  Major Gas Transmission Pipeline  "
      ]
     },
     "execution_count": 7,
     "metadata": {},
     "output_type": "execute_result"
    }
   ],
   "source": [
    "#geo_df_trans = pd.read_pickle('geo_df_trans.pkl')\n",
    "\n",
    "##uncomment if you dont hav pikle file\n",
    "\n",
    "# # Preparing the geo_dataframe we need from extracting point data fro the shape file. \n",
    "\n",
    "# lats = [] #latitude array\n",
    "# lons = [] #longitude array\n",
    "# names = [] #pipeline name\n",
    "# opnames = [] #pipeline operator name\n",
    "\n",
    "# #for each row of the geopandas get the linestrings, name and oprnames and then unpack the linestrings/multilinestrings into latlong points and add in the names, \n",
    "# for feature, name, opname in zip(HGL_trans_pipe_clipped.geometry, HGL_trans_pipe_clipped.Pipename, HGL_trans_pipe_clipped.Opername):\n",
    "#     if isinstance(feature, shapely.geometry.linestring.LineString):\n",
    "#         linestrings = [feature]\n",
    "#     elif isinstance(feature, shapely.geometry.multilinestring.MultiLineString):\n",
    "#         linestrings = feature.geoms\n",
    "#     else:\n",
    "#         continue\n",
    "#     for linestring in linestrings: #unpack the linestrings into lat/long\n",
    "#         x, y = linestring.xy\n",
    "#         lats = np.append(lats, y)\n",
    "#         lons = np.append(lons, x)\n",
    "#         names = np.append(names, [name]*len(y))\n",
    "#         opnames = np.append(opnames, [opname]*len(y))\n",
    "\n",
    "#         #need a NaN to stop plotly attaching the end of the pipelines together with arbitrary lines.\n",
    "#         lats = np.append(lats, None)\n",
    "#         lons = np.append(lons, None)\n",
    "#         names = np.append(names, None)\n",
    "#         opnames = np.append(opnames, None)\n",
    "\n",
    "# #putting the pipelines on the usa map, with pipeline name as the hover data\n",
    "# #You now need to make a df of the np arrays to give you flexibility with plotly (especially hover data manipulation)\n",
    "# numpy_array = np.vstack((lats, lons, names,opnames)) #vertically staking the np arrays to make data frames\n",
    "\n",
    "# geo_df_trans = pd.DataFrame(np.transpose(numpy_array), \n",
    "#              columns=['lats', \n",
    "#                       'lons', 'Pipe_Name','Operator_Name'])\n",
    "\n",
    "# geo_df_trans['Category'] = 'Major Gas Transmission Pipeline'\n",
    "# geo_df_trans.to_pickle('geo_df_trans.pkl')\n",
    "\n",
    "# geo_df_trans.sample(3)"
   ]
  },
  {
   "cell_type": "code",
   "execution_count": null,
   "metadata": {},
   "outputs": [],
   "source": [
    "#plotting the shape file onto the USA map using plotly\n",
    "fig = px.line_geo(geo_df_trans,lat = geo_df_trans.lats, lon = geo_df_trans.lons, hover_name = geo_df_trans.Pipe_Name, locationmode=\"USA-states\", scope=\"usa\",\n",
    "                 hover_data={'lats':False, #remove latitude form pipe\n",
    "                             'lons':False, #remove longitude form pipe\n",
    "                             'Operator_Name': True, \n",
    "                               })\n",
    "\n",
    "fig.update_traces(line_color='#000000', line_width=1) #updating the default lines used for HGL piepes\n",
    "\n",
    "\n",
    "fig.update_layout(title=\"Major Hydrocarbon Gas Liquid Transmission Pipelines\")\n",
    "#fig.update_layout(hovermode=\"closest\")\n",
    "\n",
    "fig.update_geos(\n",
    "    resolution=50,\n",
    "    showland=True, landcolor=\"#b1f699\",\n",
    "    showocean=False, oceancolor=\"LightBlue\",\n",
    "    showlakes=True, lakecolor=\"LightBlue\",\n",
    "    showrivers=False, rivercolor=\"LightBlue\")\n",
    "\n",
    "fig.update_layout(margin={\"r\":0,\"t\":0,\"l\":0,\"b\":0})\n",
    "fig.show()\n",
    "\n"
   ]
  },
  {
   "cell_type": "code",
   "execution_count": 9,
   "metadata": {},
   "outputs": [],
   "source": []
  },
  {
   "cell_type": "code",
   "execution_count": 11,
   "metadata": {},
   "outputs": [],
   "source": [
    "geo_df = pd.read_pickle('geo_df.pkl')\n",
    "\n",
    "##uncomment if you dont hav pikle file\n",
    "\n",
    "# # plotting inter_intra pipeline onto the USA map using plotly. \n",
    "\n",
    "# lats = [] #latitude array\n",
    "# lons = [] #longitude array\n",
    "# opnames = [] #pipeline operator name\n",
    "\n",
    "# #for each row of the geopandas get the linestrings, name and oprnames and then unpack the linestrings/multilinestrings into latlong points and add in the names, \n",
    "# for feature, opname in zip(inter_intra_pipe.geometry, inter_intra_pipe.Operator):\n",
    "#     if isinstance(feature, shapely.geometry.linestring.LineString):\n",
    "#         linestrings = [feature]\n",
    "#     elif isinstance(feature, shapely.geometry.multilinestring.MultiLineString):\n",
    "#         linestrings = feature.geoms\n",
    "#     else:\n",
    "#         continue\n",
    "#     for linestring in linestrings: #unpack the linestrings into lat/long\n",
    "#         x, y = linestring.xy\n",
    "#         lats = np.append(lats, y)\n",
    "#         lons = np.append(lons, x)\n",
    "#         opnames = np.append(opnames, [opname]*len(y))\n",
    "\n",
    "#         #need a NaN to stop plotly attaching the end of the pipelines together with arbitrary lines.\n",
    "#         lats = np.append(lats, None)\n",
    "#         lons = np.append(lons, None)\n",
    "#         opnames = np.append(opnames, None)\n",
    "\n",
    "# #putting the pipelines on the usa map, with pipeline name as the hover data\n",
    "# #You now need to make a df of the np arrays to give you flexibility with plotly (especially hover data manipulation)\n",
    "# numpy_array = np.vstack((lats, lons, opnames)) #vertically staking the np arrays to make data frames\n",
    "\n",
    "# geo_df = pd.DataFrame(np.transpose(numpy_array), \n",
    "#              columns=['lats', \n",
    "#                       'lons','Operator_Name'])\n",
    "\n",
    "# geo_df['Category'] = 'Inter/Intra State Distribution Pipeline'  \n",
    "# \n",
    "# geo_df.to_pickle('geo_df.pkl')                    \n"
   ]
  },
  {
   "cell_type": "code",
   "execution_count": null,
   "metadata": {},
   "outputs": [],
   "source": [
    "\n",
    "#finally plotting the dataframe we made with lats, longs and names etc form the HGL shape file, we manipulate the hoverdata to display what we like\n",
    "\n",
    "fig = px.line_geo(geo_df,lat = geo_df.lats, lon = geo_df.lons, hover_name = geo_df.Operator_Name, locationmode=\"USA-states\", scope=\"usa\",\n",
    "                 hover_data={'lats':False, #remove latitude form pipe\n",
    "                             'lons':False, #remove longitude form pipe\n",
    "                               })\n",
    "\n",
    "fig.update_traces(line_color='#BCBCBC', line_width=0.5) #updating the default lines used for HGL piepes\n",
    "\n",
    "\n",
    "fig.update_layout(title=\"Inter/Intra State Gas Pipelines\")\n",
    "#fig.update_layout(hovermode=\"closest\")\n",
    "\n",
    "fig.update_geos(\n",
    "    resolution=50,\n",
    "    showland=True, landcolor=\"#b1f699\",\n",
    "    showocean=False, oceancolor=\"LightBlue\",\n",
    "    showlakes=True, lakecolor=\"LightBlue\",\n",
    "    showrivers=False, rivercolor=\"LightBlue\")\n",
    "\n",
    "fig.update_layout(margin={\"r\":0,\"t\":0,\"l\":0,\"b\":0})\n",
    "\n",
    "fig.show()"
   ]
  },
  {
   "cell_type": "code",
   "execution_count": 4,
   "metadata": {},
   "outputs": [],
   "source": [
    "#geo_df_mx = pd.read_pickle('geo_df_mx.pkl')\n",
    "\n",
    "##uncomment if you dont hav pikle file\n",
    "\n",
    "# # plotting Gulf of Mexico pipeline onto the USA map using plotly. \n",
    "\n",
    "lats = [] #latitude array\n",
    "lons = [] #longitude array\n",
    "opnames = [] #pipeline operator name\n",
    "\n",
    "#for each row of the geopandas get the linestrings, name and oprnames and then unpack the linestrings/multilinestrings into latlong points and add in the names, \n",
    "for feature, opname in zip(Gulf_mexico_pipe.geometry, Gulf_mexico_pipe.SDE_COMPAN):\n",
    "    if isinstance(feature, shapely.geometry.linestring.LineString):\n",
    "        linestrings = [feature]\n",
    "    elif isinstance(feature, shapely.geometry.multilinestring.MultiLineString):\n",
    "        linestrings = feature.geoms\n",
    "    else:\n",
    "        continue\n",
    "    for linestring in linestrings: #unpack the linestrings into lat/long\n",
    "        x, y = linestring.xy\n",
    "        lats = np.append(lats, y)\n",
    "        lons = np.append(lons, x)\n",
    "        opnames = np.append(opnames, [opname]*len(y))\n",
    "\n",
    "        #need a NaN to stop plotly attaching the end of the pipelines together with arbitrary lines.\n",
    "        lats = np.append(lats, None)\n",
    "        lons = np.append(lons, None)\n",
    "        opnames = np.append(opnames, None)\n",
    "\n",
    "#putting the pipelines on the usa map, with pipeline name as the hover data\n",
    "#You now need to make a df of the np arrays to give you flexibility with plotly (especially hover data manipulation)\n",
    "numpy_array = np.vstack((lats, lons, opnames)) #vertically staking the np arrays to make data frames\n",
    "\n",
    "geo_df_mx = pd.DataFrame(np.transpose(numpy_array), \n",
    "             columns=['lats', \n",
    "                      'lons','Operator_Name'])\n",
    "\n",
    "geo_df_mx['Category'] = 'Gulf of Mexico Pipeline'\n",
    "\n",
    "geo_df_mx.to_pickle('geo_df_mx.pkl')"
   ]
  },
  {
   "cell_type": "code",
   "execution_count": null,
   "metadata": {},
   "outputs": [],
   "source": [
    "\n",
    "#finally plotting the dataframe we made with lats, longs and names etc form the HGL shape file, we manipulate the hoverdata to display what we like\n",
    "\n",
    "fig = px.line_geo(geo_df_mx,lat = geo_df_mx.lats, lon = geo_df_mx.lons, hover_name = geo_df_mx.Operator_Name, locationmode=\"USA-states\", scope=\"usa\",\n",
    "                 hover_data={'lats':False, #remove latitude form pipe\n",
    "                             'lons':False, #remove longitude form pipe\n",
    "                               })\n",
    "\n",
    "fig.update_traces(line_color='#8723e3', line_width=0.25) #updating the default lines used for HGL piepes\n",
    "\n",
    "\n",
    "fig.update_layout(title=\"Gulf of Mexico Gas Pipelines\")\n",
    "#fig.update_layout(hovermode=\"closest\")\n",
    "\n",
    "fig.update_geos(\n",
    "    resolution=50,\n",
    "    showland=True, landcolor=\"#b1f699\",\n",
    "    showocean=False, oceancolor=\"LightBlue\",\n",
    "    showlakes=True, lakecolor=\"LightGrey\",\n",
    "    showrivers=False, rivercolor=\"LightBlue\")\n",
    "\n",
    "fig.update_layout(margin={\"r\":0,\"t\":0,\"l\":0,\"b\":0})\n",
    "fig.show()\n",
    "\n"
   ]
  },
  {
   "cell_type": "code",
   "execution_count": null,
   "metadata": {},
   "outputs": [],
   "source": [
    "#Putting it all together\n",
    "\n",
    "states_map = states.plot(cmap='YlGn', figsize=(18, 81))\n",
    "#crude_pipe_clipped.plot(ax = states_map, color = 'black')\n",
    "HGL_trans_pipe_clipped.plot(ax =states_map, color = 'black', linewidth = 1)\n",
    "Gulf_mexico_pipe.plot(ax =states_map, color = 'purple', linewidth = 0.5)\n",
    "# #inter_intra_pipe_clipped = geopandas.clip(inter_intra_pipe, states)  #using the clip() function, and clipping the pipeline data to the continental USA boundaries.\n",
    "inter_intra_pipe.plot(ax = states_map, color = 'orange', linewidth = 0.5)\n",
    "\n",
    "#setting the plot limits instead of geopandas clipping as it is a lot faster\n",
    "\n",
    "plt.xlim(-130,-63)\n",
    "plt.ylim(23,50)\n",
    "\n",
    "plt.axis('off')"
   ]
  },
  {
   "cell_type": "markdown",
   "metadata": {},
   "source": [
    "# Next Step: Reading in the incident data"
   ]
  },
  {
   "cell_type": "code",
   "execution_count": 2,
   "metadata": {},
   "outputs": [
    {
     "data": {
      "text/plain": [
       "(1521, 625)"
      ]
     },
     "execution_count": 2,
     "metadata": {},
     "output_type": "execute_result"
    }
   ],
   "source": [
    "HGL_trans_accidents = pd.read_csv('data/incident_gas_transmission_gathering_jan2010_present.csv',low_memory=False) #changed encoding by saving as csv file again, tab delimited\n",
    "\n",
    "HGL_trans_accidents.shape"
   ]
  },
  {
   "cell_type": "markdown",
   "metadata": {},
   "source": [
    "The data file we have has so many columns that are not useful, so I have made a .txt file of the columns required for our analysis."
   ]
  },
  {
   "cell_type": "code",
   "execution_count": 3,
   "metadata": {},
   "outputs": [],
   "source": [
    "req_clmns = []\n",
    "\n",
    "with open('data/Gas_Trans_required_columns.txt') as f: #importing the list of required columns form the text file\n",
    "    lines = f.readlines()\n",
    "f.close()\n",
    "\n",
    "for l in lines:\n",
    "    req_clmns.append(l.strip()) #getting rid of the \"\\n\" escape character\n",
    "\n"
   ]
  },
  {
   "cell_type": "code",
   "execution_count": 4,
   "metadata": {},
   "outputs": [
    {
     "data": {
      "text/plain": [
       "(1512, 61)"
      ]
     },
     "execution_count": 4,
     "metadata": {},
     "output_type": "execute_result"
    }
   ],
   "source": [
    "HGL_trans_acc = HGL_trans_accidents[req_clmns]\n",
    "# I have discovered some outliers that fall outside the continental USA, so I will explude those: \n",
    "HGL_trans_acc = HGL_trans_acc[(-140<HGL_trans_acc['LOCATION_LONGITUDE']) & (HGL_trans_acc['LOCATION_LONGITUDE']<-50)]\n",
    "HGL_trans_acc = HGL_trans_acc[HGL_trans_acc['LOCATION_LATITUDE']<50]\n",
    "\n",
    "HGL_trans_acc.shape"
   ]
  },
  {
   "cell_type": "code",
   "execution_count": null,
   "metadata": {},
   "outputs": [],
   "source": [
    "HGL_trans_acc.sample(5)"
   ]
  },
  {
   "cell_type": "code",
   "execution_count": null,
   "metadata": {},
   "outputs": [],
   "source": [
    "#Putting it all together\n",
    "\n",
    "\n",
    "states_map = states.plot(cmap='summer', figsize=(81, 60))\n",
    "# #crude_pipe_clipped.plot(ax = states_map, color = 'black')\n",
    "# HGL_trans_pipe_clipped.plot(ax = states_map, color = 'blue')\n",
    "# Gulf_mexico_pipe.plot(ax = states_map, color = 'indigo')\n",
    "\n",
    "# #inter_intra_pipe_clipped = geopandas.clip(inter_intra_pipe, states)  #using the clip() function, and clipping the pipeline data to the continental USA boundaries.\n",
    "# #inter_intra_pipe_clipped.plot(ax = states_map, color = 'dimgrey')\n",
    "# inter_intra_pipe.plot(ax = states_map, color = 'dimgrey')\n",
    "\n",
    "\n",
    "\n",
    "# Creating lists for lat-long from the dataset\n",
    "long = HGL_trans_acc['LOCATION_LONGITUDE'].tolist()\n",
    "lat = HGL_trans_acc['LOCATION_LATITUDE'].tolist()\n",
    "\n",
    "#geenrating points for the map\n",
    "geometry = [Point(xy) for xy in zip(long,lat)]\n",
    "\n",
    "#Putting the generated points in a geopandas dataframe\n",
    "geo_df = gpd.GeoDataFrame(geometry = geometry)\n",
    "\n",
    "#Putting the dots on the map\n",
    "g = geo_df.plot(ax = states_map, markersize = 40, color = 'red',marker = '*')\n",
    "\n",
    "#setting the plot limits instead of geopandas clipping as it is a lot faster\n",
    "plt.xlim(-130,-63)\n",
    "plt.ylim(23,50)\n",
    "\n",
    "\n",
    "\n",
    "plt.show()"
   ]
  },
  {
   "cell_type": "markdown",
   "metadata": {},
   "source": [
    "# Getting a feel for the incident data using plotly"
   ]
  },
  {
   "cell_type": "code",
   "execution_count": 5,
   "metadata": {},
   "outputs": [
    {
     "data": {
      "text/html": [
       "<div>\n",
       "<style scoped>\n",
       "    .dataframe tbody tr th:only-of-type {\n",
       "        vertical-align: middle;\n",
       "    }\n",
       "\n",
       "    .dataframe tbody tr th {\n",
       "        vertical-align: top;\n",
       "    }\n",
       "\n",
       "    .dataframe thead th {\n",
       "        text-align: right;\n",
       "    }\n",
       "</style>\n",
       "<table border=\"1\" class=\"dataframe\">\n",
       "  <thead>\n",
       "    <tr style=\"text-align: right;\">\n",
       "      <th></th>\n",
       "      <th>REPORT_RECEIVED_DATE</th>\n",
       "      <th>IYEAR</th>\n",
       "      <th>REPORT_NUMBER</th>\n",
       "      <th>NAME</th>\n",
       "      <th>OPERATOR_STATE_ABBREVIATION</th>\n",
       "      <th>LOCATION_LATITUDE</th>\n",
       "      <th>LOCATION_LONGITUDE</th>\n",
       "      <th>COMMODITY_RELEASED_TYPE</th>\n",
       "      <th>UNINTENTIONAL_RELEASE</th>\n",
       "      <th>INTENTIONAL_RELEASE</th>\n",
       "      <th>ACCOMPANYING_LIQUID</th>\n",
       "      <th>CAUSE</th>\n",
       "      <th>CAUSE_DETAILS</th>\n",
       "      <th>FATALITY_IND</th>\n",
       "      <th>NUM_EMP_FATALITIES</th>\n",
       "      <th>NUM_CONTR_FATALITIES</th>\n",
       "      <th>NUM_ER_FATALITIES</th>\n",
       "      <th>NUM_WORKER_FATALITIES</th>\n",
       "      <th>NUM_GP_FATALITIES</th>\n",
       "      <th>FATAL</th>\n",
       "      <th>INJURY_IND</th>\n",
       "      <th>NUM_EMP_INJURIES</th>\n",
       "      <th>NUM_CONTR_INJURIES</th>\n",
       "      <th>NUM_ER_INJURIES</th>\n",
       "      <th>NUM_WORKER_INJURIES</th>\n",
       "      <th>NUM_GP_INJURIES</th>\n",
       "      <th>INJURE</th>\n",
       "      <th>GAS_CONSUMED_BY_FIRE_IN_MCF</th>\n",
       "      <th>EXPLODE_IND</th>\n",
       "      <th>INCIDENT_AREA_TYPE</th>\n",
       "      <th>SYSTEM_PART_INVOLVED</th>\n",
       "      <th>INSTALLATION_YEAR</th>\n",
       "      <th>ITEM_INVOLVED</th>\n",
       "      <th>PIPE_TYPE</th>\n",
       "      <th>PIPE_DIAMETER</th>\n",
       "      <th>PIPE_WALL_THICKNESS</th>\n",
       "      <th>PIPE_SMYS</th>\n",
       "      <th>PIPE_SPECIFICATION</th>\n",
       "      <th>PIPE_SEAM_TYPE</th>\n",
       "      <th>PIPE_MANUFACTURER</th>\n",
       "      <th>PIPE_COATING_TYPE</th>\n",
       "      <th>PIPE_COATING_DETAILS</th>\n",
       "      <th>COATING_APPLIED_IND</th>\n",
       "      <th>MATERIAL_INVOLVED</th>\n",
       "      <th>RELEASE_TYPE</th>\n",
       "      <th>LEAK_TYPE</th>\n",
       "      <th>RELEASE_TYPE_DETAILS</th>\n",
       "      <th>EST_COST_OPER_PAID</th>\n",
       "      <th>EST_COST_UNINTENTIONAL_RELEASE</th>\n",
       "      <th>EST_COST_INTENTIONAL_RELEASE</th>\n",
       "      <th>EST_COST_PROP_DAMAGE</th>\n",
       "      <th>EST_COST_EMERGENCY</th>\n",
       "      <th>EST_COST_OTHER</th>\n",
       "      <th>EST_COST_OTHER_DETAILS</th>\n",
       "      <th>GAS_COST_IN_MCF</th>\n",
       "      <th>NUM_PERSONS_HOSP_NOT_OVNGHT</th>\n",
       "      <th>NUM_INJURED_TREATED_BY_EMT</th>\n",
       "      <th>NUM_RESIDENT_BUILDING_AFFCTD</th>\n",
       "      <th>NUM_BUSINESS_BUILDING_AFFCTD</th>\n",
       "      <th>ACCIDENT_PSIG</th>\n",
       "      <th>GAS_FLOW_IN_PIPE_IN_MCF</th>\n",
       "    </tr>\n",
       "  </thead>\n",
       "  <tbody>\n",
       "    <tr>\n",
       "      <th>0</th>\n",
       "      <td>5/18/2022</td>\n",
       "      <td>2022</td>\n",
       "      <td>20220056</td>\n",
       "      <td>ENABLE GAS TRANSMISSION, LLC</td>\n",
       "      <td>OK</td>\n",
       "      <td>35.296780</td>\n",
       "      <td>-93.429780</td>\n",
       "      <td>NATURAL GAS</td>\n",
       "      <td>100.0</td>\n",
       "      <td>523.0</td>\n",
       "      <td>0.0</td>\n",
       "      <td>OTHER INCIDENT CAUSE</td>\n",
       "      <td>UNKNOWN</td>\n",
       "      <td>NO</td>\n",
       "      <td>NaN</td>\n",
       "      <td>NaN</td>\n",
       "      <td>NaN</td>\n",
       "      <td>NaN</td>\n",
       "      <td>NaN</td>\n",
       "      <td>0</td>\n",
       "      <td>NO</td>\n",
       "      <td>NaN</td>\n",
       "      <td>NaN</td>\n",
       "      <td>NaN</td>\n",
       "      <td>NaN</td>\n",
       "      <td>NaN</td>\n",
       "      <td>0</td>\n",
       "      <td>NaN</td>\n",
       "      <td>NaN</td>\n",
       "      <td>UNDERGROUND</td>\n",
       "      <td>ONSHORE PIPELINE, INCLUDING VALVE SITES</td>\n",
       "      <td>UNKNOWN</td>\n",
       "      <td>OTHER</td>\n",
       "      <td>NaN</td>\n",
       "      <td>NaN</td>\n",
       "      <td>NaN</td>\n",
       "      <td>NaN</td>\n",
       "      <td>NaN</td>\n",
       "      <td>NaN</td>\n",
       "      <td>NaN</td>\n",
       "      <td>NaN</td>\n",
       "      <td>NaN</td>\n",
       "      <td>NaN</td>\n",
       "      <td>CARBON STEEL</td>\n",
       "      <td>LEAK</td>\n",
       "      <td>PINHOLE</td>\n",
       "      <td>NaN</td>\n",
       "      <td>0.0</td>\n",
       "      <td>659.0</td>\n",
       "      <td>3447.0</td>\n",
       "      <td>466421.0</td>\n",
       "      <td>1000.0</td>\n",
       "      <td>0.0</td>\n",
       "      <td>NaN</td>\n",
       "      <td>6.59</td>\n",
       "      <td>0.0</td>\n",
       "      <td>0.0</td>\n",
       "      <td>0.0</td>\n",
       "      <td>0.0</td>\n",
       "      <td>700.0</td>\n",
       "      <td>6000.0</td>\n",
       "    </tr>\n",
       "    <tr>\n",
       "      <th>1</th>\n",
       "      <td>5/13/2022</td>\n",
       "      <td>2022</td>\n",
       "      <td>20220055</td>\n",
       "      <td>ARCHAEA ENERGY OPERATING, LLC</td>\n",
       "      <td>MI</td>\n",
       "      <td>35.319820</td>\n",
       "      <td>-97.360050</td>\n",
       "      <td>NATURAL GAS</td>\n",
       "      <td>961.0</td>\n",
       "      <td>0.0</td>\n",
       "      <td>0.0</td>\n",
       "      <td>INCORRECT OPERATION</td>\n",
       "      <td>OTHER INCORRECT OPERATION</td>\n",
       "      <td>NO</td>\n",
       "      <td>NaN</td>\n",
       "      <td>NaN</td>\n",
       "      <td>NaN</td>\n",
       "      <td>NaN</td>\n",
       "      <td>NaN</td>\n",
       "      <td>0</td>\n",
       "      <td>YES</td>\n",
       "      <td>1.0</td>\n",
       "      <td>0.0</td>\n",
       "      <td>0.0</td>\n",
       "      <td>0.0</td>\n",
       "      <td>0.0</td>\n",
       "      <td>1</td>\n",
       "      <td>961.0</td>\n",
       "      <td>NO</td>\n",
       "      <td>ABOVEGROUND</td>\n",
       "      <td>ONSHORE PIPELINE, INCLUDING VALVE SITES</td>\n",
       "      <td>2005</td>\n",
       "      <td>PIPE</td>\n",
       "      <td>PIPE BODY</td>\n",
       "      <td>12.0</td>\n",
       "      <td>0.25</td>\n",
       "      <td>24000</td>\n",
       "      <td>X-60</td>\n",
       "      <td>FURNACE BUTT WELDED</td>\n",
       "      <td>RED MAN PIPE AND SUPPLY COMPANY</td>\n",
       "      <td>EPOXY</td>\n",
       "      <td>NaN</td>\n",
       "      <td>NO</td>\n",
       "      <td>CARBON STEEL</td>\n",
       "      <td>OTHER</td>\n",
       "      <td>NaN</td>\n",
       "      <td>GAS RELEASED AND IGNITED DURING ROUTINE PIGGIN...</td>\n",
       "      <td>0.0</td>\n",
       "      <td>8072.0</td>\n",
       "      <td>0.0</td>\n",
       "      <td>80000.0</td>\n",
       "      <td>0.0</td>\n",
       "      <td>0.0</td>\n",
       "      <td>NaN</td>\n",
       "      <td>8.40</td>\n",
       "      <td>0.0</td>\n",
       "      <td>1.0</td>\n",
       "      <td>0.0</td>\n",
       "      <td>0.0</td>\n",
       "      <td>160.0</td>\n",
       "      <td>288.0</td>\n",
       "    </tr>\n",
       "    <tr>\n",
       "      <th>2</th>\n",
       "      <td>5/09/2022</td>\n",
       "      <td>2022</td>\n",
       "      <td>20220054</td>\n",
       "      <td>TRANSCONTINENTAL GAS PIPE LINE COMPANY</td>\n",
       "      <td>OK</td>\n",
       "      <td>32.204084</td>\n",
       "      <td>-87.949010</td>\n",
       "      <td>NATURAL GAS</td>\n",
       "      <td>53185.0</td>\n",
       "      <td>3424.0</td>\n",
       "      <td>0.0</td>\n",
       "      <td>OTHER INCIDENT CAUSE</td>\n",
       "      <td>UNKNOWN</td>\n",
       "      <td>NO</td>\n",
       "      <td>NaN</td>\n",
       "      <td>NaN</td>\n",
       "      <td>NaN</td>\n",
       "      <td>NaN</td>\n",
       "      <td>NaN</td>\n",
       "      <td>0</td>\n",
       "      <td>NO</td>\n",
       "      <td>NaN</td>\n",
       "      <td>NaN</td>\n",
       "      <td>NaN</td>\n",
       "      <td>NaN</td>\n",
       "      <td>NaN</td>\n",
       "      <td>0</td>\n",
       "      <td>NaN</td>\n",
       "      <td>NaN</td>\n",
       "      <td>UNDERGROUND</td>\n",
       "      <td>ONSHORE PIPELINE, INCLUDING VALVE SITES</td>\n",
       "      <td>1959</td>\n",
       "      <td>PIPE</td>\n",
       "      <td>PIPE SEAM</td>\n",
       "      <td>30.0</td>\n",
       "      <td>0.50</td>\n",
       "      <td>52000</td>\n",
       "      <td>API 5L</td>\n",
       "      <td>DSAW</td>\n",
       "      <td>UNKNOWN</td>\n",
       "      <td>COAL TAR</td>\n",
       "      <td>NaN</td>\n",
       "      <td>UNKNOWN</td>\n",
       "      <td>CARBON STEEL</td>\n",
       "      <td>RUPTURE</td>\n",
       "      <td>NaN</td>\n",
       "      <td>NaN</td>\n",
       "      <td>13000.0</td>\n",
       "      <td>239333.0</td>\n",
       "      <td>15408.0</td>\n",
       "      <td>0.0</td>\n",
       "      <td>0.0</td>\n",
       "      <td>0.0</td>\n",
       "      <td>TOTAL COSTS TBD.</td>\n",
       "      <td>4.50</td>\n",
       "      <td>0.0</td>\n",
       "      <td>0.0</td>\n",
       "      <td>1.0</td>\n",
       "      <td>0.0</td>\n",
       "      <td>779.0</td>\n",
       "      <td>40000.0</td>\n",
       "    </tr>\n",
       "    <tr>\n",
       "      <th>3</th>\n",
       "      <td>5/09/2022</td>\n",
       "      <td>2022</td>\n",
       "      <td>20220053</td>\n",
       "      <td>ENABLE GAS TRANSMISSION, LLC</td>\n",
       "      <td>OK</td>\n",
       "      <td>35.691940</td>\n",
       "      <td>-100.227520</td>\n",
       "      <td>NATURAL GAS</td>\n",
       "      <td>6975.0</td>\n",
       "      <td>0.0</td>\n",
       "      <td>0.0</td>\n",
       "      <td>EQUIPMENT FAILURE</td>\n",
       "      <td>MALFUNCTION OF CONTROL/RELIEF EQUIPMENT</td>\n",
       "      <td>NO</td>\n",
       "      <td>NaN</td>\n",
       "      <td>NaN</td>\n",
       "      <td>NaN</td>\n",
       "      <td>NaN</td>\n",
       "      <td>NaN</td>\n",
       "      <td>0</td>\n",
       "      <td>NO</td>\n",
       "      <td>NaN</td>\n",
       "      <td>NaN</td>\n",
       "      <td>NaN</td>\n",
       "      <td>NaN</td>\n",
       "      <td>NaN</td>\n",
       "      <td>0</td>\n",
       "      <td>NaN</td>\n",
       "      <td>NaN</td>\n",
       "      <td>ABOVEGROUND</td>\n",
       "      <td>ONSHORE REGULATOR/METERING STATION EQUIPMENT A...</td>\n",
       "      <td>1978</td>\n",
       "      <td>VALVE</td>\n",
       "      <td>NaN</td>\n",
       "      <td>NaN</td>\n",
       "      <td>NaN</td>\n",
       "      <td>NaN</td>\n",
       "      <td>NaN</td>\n",
       "      <td>NaN</td>\n",
       "      <td>NaN</td>\n",
       "      <td>NaN</td>\n",
       "      <td>NaN</td>\n",
       "      <td>NaN</td>\n",
       "      <td>CARBON STEEL</td>\n",
       "      <td>OTHER</td>\n",
       "      <td>NaN</td>\n",
       "      <td>PREMATURE GAS RELEASE</td>\n",
       "      <td>0.0</td>\n",
       "      <td>34178.0</td>\n",
       "      <td>0.0</td>\n",
       "      <td>1000.0</td>\n",
       "      <td>1000.0</td>\n",
       "      <td>0.0</td>\n",
       "      <td>NaN</td>\n",
       "      <td>4.90</td>\n",
       "      <td>0.0</td>\n",
       "      <td>0.0</td>\n",
       "      <td>0.0</td>\n",
       "      <td>0.0</td>\n",
       "      <td>967.0</td>\n",
       "      <td>2000.0</td>\n",
       "    </tr>\n",
       "    <tr>\n",
       "      <th>4</th>\n",
       "      <td>4/27/2022</td>\n",
       "      <td>2022</td>\n",
       "      <td>20220049</td>\n",
       "      <td>GULF SOUTH PIPELINE COMPANY, LLC</td>\n",
       "      <td>TX</td>\n",
       "      <td>32.028480</td>\n",
       "      <td>-90.142318</td>\n",
       "      <td>NATURAL GAS</td>\n",
       "      <td>3394.0</td>\n",
       "      <td>0.0</td>\n",
       "      <td>0.0</td>\n",
       "      <td>EQUIPMENT FAILURE</td>\n",
       "      <td>OTHER EQUIPMENT FAILURE</td>\n",
       "      <td>NO</td>\n",
       "      <td>NaN</td>\n",
       "      <td>NaN</td>\n",
       "      <td>NaN</td>\n",
       "      <td>NaN</td>\n",
       "      <td>NaN</td>\n",
       "      <td>0</td>\n",
       "      <td>NO</td>\n",
       "      <td>NaN</td>\n",
       "      <td>NaN</td>\n",
       "      <td>NaN</td>\n",
       "      <td>NaN</td>\n",
       "      <td>NaN</td>\n",
       "      <td>0</td>\n",
       "      <td>NaN</td>\n",
       "      <td>NaN</td>\n",
       "      <td>ABOVEGROUND</td>\n",
       "      <td>ONSHORE COMPRESSOR STATION EQUIPMENT AND PIPING</td>\n",
       "      <td>2007</td>\n",
       "      <td>ESD SYSTEM, BUT EXCLUDING PRODUCT DRAIN LINES ...</td>\n",
       "      <td>NaN</td>\n",
       "      <td>NaN</td>\n",
       "      <td>NaN</td>\n",
       "      <td>NaN</td>\n",
       "      <td>NaN</td>\n",
       "      <td>NaN</td>\n",
       "      <td>NaN</td>\n",
       "      <td>NaN</td>\n",
       "      <td>NaN</td>\n",
       "      <td>NaN</td>\n",
       "      <td>CARBON STEEL</td>\n",
       "      <td>OTHER</td>\n",
       "      <td>NaN</td>\n",
       "      <td>COMPRESSOR STATION ESD</td>\n",
       "      <td>0.0</td>\n",
       "      <td>18124.0</td>\n",
       "      <td>0.0</td>\n",
       "      <td>651.0</td>\n",
       "      <td>630.0</td>\n",
       "      <td>0.0</td>\n",
       "      <td>NaN</td>\n",
       "      <td>5.34</td>\n",
       "      <td>0.0</td>\n",
       "      <td>0.0</td>\n",
       "      <td>0.0</td>\n",
       "      <td>0.0</td>\n",
       "      <td>1424.0</td>\n",
       "      <td>2300.0</td>\n",
       "    </tr>\n",
       "  </tbody>\n",
       "</table>\n",
       "</div>"
      ],
      "text/plain": [
       "  REPORT_RECEIVED_DATE  IYEAR  REPORT_NUMBER  \\\n",
       "0            5/18/2022   2022       20220056   \n",
       "1            5/13/2022   2022       20220055   \n",
       "2            5/09/2022   2022       20220054   \n",
       "3            5/09/2022   2022       20220053   \n",
       "4            4/27/2022   2022       20220049   \n",
       "\n",
       "                                     NAME OPERATOR_STATE_ABBREVIATION  \\\n",
       "0            ENABLE GAS TRANSMISSION, LLC                          OK   \n",
       "1           ARCHAEA ENERGY OPERATING, LLC                          MI   \n",
       "2  TRANSCONTINENTAL GAS PIPE LINE COMPANY                          OK   \n",
       "3            ENABLE GAS TRANSMISSION, LLC                          OK   \n",
       "4        GULF SOUTH PIPELINE COMPANY, LLC                          TX   \n",
       "\n",
       "   LOCATION_LATITUDE  LOCATION_LONGITUDE COMMODITY_RELEASED_TYPE  \\\n",
       "0          35.296780          -93.429780             NATURAL GAS   \n",
       "1          35.319820          -97.360050             NATURAL GAS   \n",
       "2          32.204084          -87.949010             NATURAL GAS   \n",
       "3          35.691940         -100.227520             NATURAL GAS   \n",
       "4          32.028480          -90.142318             NATURAL GAS   \n",
       "\n",
       "   UNINTENTIONAL_RELEASE  INTENTIONAL_RELEASE  ACCOMPANYING_LIQUID  \\\n",
       "0                  100.0                523.0                  0.0   \n",
       "1                  961.0                  0.0                  0.0   \n",
       "2                53185.0               3424.0                  0.0   \n",
       "3                 6975.0                  0.0                  0.0   \n",
       "4                 3394.0                  0.0                  0.0   \n",
       "\n",
       "                  CAUSE                            CAUSE_DETAILS FATALITY_IND  \\\n",
       "0  OTHER INCIDENT CAUSE                                  UNKNOWN           NO   \n",
       "1   INCORRECT OPERATION               OTHER INCORRECT OPERATION            NO   \n",
       "2  OTHER INCIDENT CAUSE                                  UNKNOWN           NO   \n",
       "3     EQUIPMENT FAILURE  MALFUNCTION OF CONTROL/RELIEF EQUIPMENT           NO   \n",
       "4     EQUIPMENT FAILURE                  OTHER EQUIPMENT FAILURE           NO   \n",
       "\n",
       "   NUM_EMP_FATALITIES  NUM_CONTR_FATALITIES  NUM_ER_FATALITIES  \\\n",
       "0                 NaN                   NaN                NaN   \n",
       "1                 NaN                   NaN                NaN   \n",
       "2                 NaN                   NaN                NaN   \n",
       "3                 NaN                   NaN                NaN   \n",
       "4                 NaN                   NaN                NaN   \n",
       "\n",
       "   NUM_WORKER_FATALITIES  NUM_GP_FATALITIES  FATAL INJURY_IND  \\\n",
       "0                    NaN                NaN      0         NO   \n",
       "1                    NaN                NaN      0        YES   \n",
       "2                    NaN                NaN      0         NO   \n",
       "3                    NaN                NaN      0         NO   \n",
       "4                    NaN                NaN      0         NO   \n",
       "\n",
       "   NUM_EMP_INJURIES  NUM_CONTR_INJURIES  NUM_ER_INJURIES  NUM_WORKER_INJURIES  \\\n",
       "0               NaN                 NaN              NaN                  NaN   \n",
       "1               1.0                 0.0              0.0                  0.0   \n",
       "2               NaN                 NaN              NaN                  NaN   \n",
       "3               NaN                 NaN              NaN                  NaN   \n",
       "4               NaN                 NaN              NaN                  NaN   \n",
       "\n",
       "   NUM_GP_INJURIES  INJURE  GAS_CONSUMED_BY_FIRE_IN_MCF EXPLODE_IND  \\\n",
       "0              NaN       0                          NaN         NaN   \n",
       "1              0.0       1                        961.0          NO   \n",
       "2              NaN       0                          NaN         NaN   \n",
       "3              NaN       0                          NaN         NaN   \n",
       "4              NaN       0                          NaN         NaN   \n",
       "\n",
       "  INCIDENT_AREA_TYPE                               SYSTEM_PART_INVOLVED  \\\n",
       "0        UNDERGROUND            ONSHORE PIPELINE, INCLUDING VALVE SITES   \n",
       "1        ABOVEGROUND            ONSHORE PIPELINE, INCLUDING VALVE SITES   \n",
       "2        UNDERGROUND            ONSHORE PIPELINE, INCLUDING VALVE SITES   \n",
       "3        ABOVEGROUND  ONSHORE REGULATOR/METERING STATION EQUIPMENT A...   \n",
       "4        ABOVEGROUND    ONSHORE COMPRESSOR STATION EQUIPMENT AND PIPING   \n",
       "\n",
       "  INSTALLATION_YEAR                                      ITEM_INVOLVED  \\\n",
       "0           UNKNOWN                                              OTHER   \n",
       "1              2005                                               PIPE   \n",
       "2              1959                                               PIPE   \n",
       "3              1978                                              VALVE   \n",
       "4              2007  ESD SYSTEM, BUT EXCLUDING PRODUCT DRAIN LINES ...   \n",
       "\n",
       "   PIPE_TYPE  PIPE_DIAMETER  PIPE_WALL_THICKNESS PIPE_SMYS PIPE_SPECIFICATION  \\\n",
       "0        NaN            NaN                  NaN       NaN                NaN   \n",
       "1  PIPE BODY           12.0                 0.25     24000               X-60   \n",
       "2  PIPE SEAM           30.0                 0.50     52000             API 5L   \n",
       "3        NaN            NaN                  NaN       NaN                NaN   \n",
       "4        NaN            NaN                  NaN       NaN                NaN   \n",
       "\n",
       "        PIPE_SEAM_TYPE                PIPE_MANUFACTURER PIPE_COATING_TYPE  \\\n",
       "0                  NaN                              NaN               NaN   \n",
       "1  FURNACE BUTT WELDED  RED MAN PIPE AND SUPPLY COMPANY             EPOXY   \n",
       "2                 DSAW                          UNKNOWN          COAL TAR   \n",
       "3                  NaN                              NaN               NaN   \n",
       "4                  NaN                              NaN               NaN   \n",
       "\n",
       "  PIPE_COATING_DETAILS COATING_APPLIED_IND MATERIAL_INVOLVED RELEASE_TYPE  \\\n",
       "0                  NaN                 NaN      CARBON STEEL         LEAK   \n",
       "1                  NaN                  NO      CARBON STEEL        OTHER   \n",
       "2                  NaN             UNKNOWN      CARBON STEEL      RUPTURE   \n",
       "3                  NaN                 NaN      CARBON STEEL        OTHER   \n",
       "4                  NaN                 NaN      CARBON STEEL        OTHER   \n",
       "\n",
       "  LEAK_TYPE                               RELEASE_TYPE_DETAILS  \\\n",
       "0   PINHOLE                                                NaN   \n",
       "1       NaN  GAS RELEASED AND IGNITED DURING ROUTINE PIGGIN...   \n",
       "2       NaN                                                NaN   \n",
       "3       NaN                              PREMATURE GAS RELEASE   \n",
       "4       NaN                             COMPRESSOR STATION ESD   \n",
       "\n",
       "   EST_COST_OPER_PAID  EST_COST_UNINTENTIONAL_RELEASE  \\\n",
       "0                 0.0                           659.0   \n",
       "1                 0.0                          8072.0   \n",
       "2             13000.0                        239333.0   \n",
       "3                 0.0                         34178.0   \n",
       "4                 0.0                         18124.0   \n",
       "\n",
       "   EST_COST_INTENTIONAL_RELEASE  EST_COST_PROP_DAMAGE  EST_COST_EMERGENCY  \\\n",
       "0                        3447.0              466421.0              1000.0   \n",
       "1                           0.0               80000.0                 0.0   \n",
       "2                       15408.0                   0.0                 0.0   \n",
       "3                           0.0                1000.0              1000.0   \n",
       "4                           0.0                 651.0               630.0   \n",
       "\n",
       "   EST_COST_OTHER EST_COST_OTHER_DETAILS  GAS_COST_IN_MCF  \\\n",
       "0             0.0                    NaN             6.59   \n",
       "1             0.0                    NaN             8.40   \n",
       "2             0.0       TOTAL COSTS TBD.             4.50   \n",
       "3             0.0                    NaN             4.90   \n",
       "4             0.0                    NaN             5.34   \n",
       "\n",
       "   NUM_PERSONS_HOSP_NOT_OVNGHT  NUM_INJURED_TREATED_BY_EMT  \\\n",
       "0                          0.0                         0.0   \n",
       "1                          0.0                         1.0   \n",
       "2                          0.0                         0.0   \n",
       "3                          0.0                         0.0   \n",
       "4                          0.0                         0.0   \n",
       "\n",
       "   NUM_RESIDENT_BUILDING_AFFCTD  NUM_BUSINESS_BUILDING_AFFCTD  ACCIDENT_PSIG  \\\n",
       "0                           0.0                           0.0          700.0   \n",
       "1                           0.0                           0.0          160.0   \n",
       "2                           1.0                           0.0          779.0   \n",
       "3                           0.0                           0.0          967.0   \n",
       "4                           0.0                           0.0         1424.0   \n",
       "\n",
       "   GAS_FLOW_IN_PIPE_IN_MCF  \n",
       "0                   6000.0  \n",
       "1                    288.0  \n",
       "2                  40000.0  \n",
       "3                   2000.0  \n",
       "4                   2300.0  "
      ]
     },
     "execution_count": 5,
     "metadata": {},
     "output_type": "execute_result"
    }
   ],
   "source": [
    "HGL_trans_acc.head()"
   ]
  },
  {
   "cell_type": "markdown",
   "metadata": {},
   "source": [
    "### Make a plotly bar plot with incident count, year and state"
   ]
  },
  {
   "cell_type": "code",
   "execution_count": 6,
   "metadata": {},
   "outputs": [
    {
     "data": {
      "text/html": [
       "<div>\n",
       "<style scoped>\n",
       "    .dataframe tbody tr th:only-of-type {\n",
       "        vertical-align: middle;\n",
       "    }\n",
       "\n",
       "    .dataframe tbody tr th {\n",
       "        vertical-align: top;\n",
       "    }\n",
       "\n",
       "    .dataframe thead th {\n",
       "        text-align: right;\n",
       "    }\n",
       "</style>\n",
       "<table border=\"1\" class=\"dataframe\">\n",
       "  <thead>\n",
       "    <tr style=\"text-align: right;\">\n",
       "      <th></th>\n",
       "      <th>Incident Year</th>\n",
       "      <th>Incident State</th>\n",
       "      <th>REPORT_RECEIVED_DATE</th>\n",
       "      <th>No of Incidents</th>\n",
       "      <th>NAME</th>\n",
       "      <th>LOCATION_LATITUDE</th>\n",
       "      <th>LOCATION_LONGITUDE</th>\n",
       "      <th>COMMODITY_RELEASED_TYPE</th>\n",
       "      <th>UNINTENTIONAL_RELEASE</th>\n",
       "      <th>INTENTIONAL_RELEASE</th>\n",
       "      <th>ACCOMPANYING_LIQUID</th>\n",
       "      <th>CAUSE</th>\n",
       "      <th>CAUSE_DETAILS</th>\n",
       "      <th>FATALITY_IND</th>\n",
       "      <th>NUM_EMP_FATALITIES</th>\n",
       "      <th>NUM_CONTR_FATALITIES</th>\n",
       "      <th>NUM_ER_FATALITIES</th>\n",
       "      <th>NUM_WORKER_FATALITIES</th>\n",
       "      <th>NUM_GP_FATALITIES</th>\n",
       "      <th>FATAL</th>\n",
       "      <th>INJURY_IND</th>\n",
       "      <th>NUM_EMP_INJURIES</th>\n",
       "      <th>NUM_CONTR_INJURIES</th>\n",
       "      <th>NUM_ER_INJURIES</th>\n",
       "      <th>NUM_WORKER_INJURIES</th>\n",
       "      <th>NUM_GP_INJURIES</th>\n",
       "      <th>INJURE</th>\n",
       "      <th>GAS_CONSUMED_BY_FIRE_IN_MCF</th>\n",
       "      <th>EXPLODE_IND</th>\n",
       "      <th>INCIDENT_AREA_TYPE</th>\n",
       "      <th>SYSTEM_PART_INVOLVED</th>\n",
       "      <th>INSTALLATION_YEAR</th>\n",
       "      <th>ITEM_INVOLVED</th>\n",
       "      <th>PIPE_TYPE</th>\n",
       "      <th>PIPE_DIAMETER</th>\n",
       "      <th>PIPE_WALL_THICKNESS</th>\n",
       "      <th>PIPE_SMYS</th>\n",
       "      <th>PIPE_SPECIFICATION</th>\n",
       "      <th>PIPE_SEAM_TYPE</th>\n",
       "      <th>PIPE_MANUFACTURER</th>\n",
       "      <th>PIPE_COATING_TYPE</th>\n",
       "      <th>PIPE_COATING_DETAILS</th>\n",
       "      <th>COATING_APPLIED_IND</th>\n",
       "      <th>MATERIAL_INVOLVED</th>\n",
       "      <th>RELEASE_TYPE</th>\n",
       "      <th>LEAK_TYPE</th>\n",
       "      <th>RELEASE_TYPE_DETAILS</th>\n",
       "      <th>EST_COST_OPER_PAID</th>\n",
       "      <th>EST_COST_UNINTENTIONAL_RELEASE</th>\n",
       "      <th>EST_COST_INTENTIONAL_RELEASE</th>\n",
       "      <th>EST_COST_PROP_DAMAGE</th>\n",
       "      <th>EST_COST_EMERGENCY</th>\n",
       "      <th>EST_COST_OTHER</th>\n",
       "      <th>EST_COST_OTHER_DETAILS</th>\n",
       "      <th>GAS_COST_IN_MCF</th>\n",
       "      <th>NUM_PERSONS_HOSP_NOT_OVNGHT</th>\n",
       "      <th>NUM_INJURED_TREATED_BY_EMT</th>\n",
       "      <th>NUM_RESIDENT_BUILDING_AFFCTD</th>\n",
       "      <th>NUM_BUSINESS_BUILDING_AFFCTD</th>\n",
       "      <th>ACCIDENT_PSIG</th>\n",
       "      <th>GAS_FLOW_IN_PIPE_IN_MCF</th>\n",
       "    </tr>\n",
       "  </thead>\n",
       "  <tbody>\n",
       "    <tr>\n",
       "      <th>122</th>\n",
       "      <td>2012</td>\n",
       "      <td>CO</td>\n",
       "      <td>1</td>\n",
       "      <td>1</td>\n",
       "      <td>1</td>\n",
       "      <td>1</td>\n",
       "      <td>1</td>\n",
       "      <td>1</td>\n",
       "      <td>1</td>\n",
       "      <td>1</td>\n",
       "      <td>1</td>\n",
       "      <td>1</td>\n",
       "      <td>1</td>\n",
       "      <td>1</td>\n",
       "      <td>0</td>\n",
       "      <td>0</td>\n",
       "      <td>0</td>\n",
       "      <td>0</td>\n",
       "      <td>0</td>\n",
       "      <td>1</td>\n",
       "      <td>1</td>\n",
       "      <td>0</td>\n",
       "      <td>0</td>\n",
       "      <td>0</td>\n",
       "      <td>0</td>\n",
       "      <td>0</td>\n",
       "      <td>1</td>\n",
       "      <td>0</td>\n",
       "      <td>1</td>\n",
       "      <td>1</td>\n",
       "      <td>1</td>\n",
       "      <td>1</td>\n",
       "      <td>1</td>\n",
       "      <td>1</td>\n",
       "      <td>1</td>\n",
       "      <td>1</td>\n",
       "      <td>1</td>\n",
       "      <td>1</td>\n",
       "      <td>1</td>\n",
       "      <td>1</td>\n",
       "      <td>1</td>\n",
       "      <td>0</td>\n",
       "      <td>0</td>\n",
       "      <td>1</td>\n",
       "      <td>1</td>\n",
       "      <td>0</td>\n",
       "      <td>0</td>\n",
       "      <td>1</td>\n",
       "      <td>1</td>\n",
       "      <td>1</td>\n",
       "      <td>1</td>\n",
       "      <td>1</td>\n",
       "      <td>1</td>\n",
       "      <td>0</td>\n",
       "      <td>0</td>\n",
       "      <td>0</td>\n",
       "      <td>0</td>\n",
       "      <td>0</td>\n",
       "      <td>0</td>\n",
       "      <td>1</td>\n",
       "      <td>0</td>\n",
       "    </tr>\n",
       "    <tr>\n",
       "      <th>79</th>\n",
       "      <td>2016</td>\n",
       "      <td>CO</td>\n",
       "      <td>2</td>\n",
       "      <td>2</td>\n",
       "      <td>2</td>\n",
       "      <td>2</td>\n",
       "      <td>2</td>\n",
       "      <td>2</td>\n",
       "      <td>2</td>\n",
       "      <td>2</td>\n",
       "      <td>2</td>\n",
       "      <td>2</td>\n",
       "      <td>2</td>\n",
       "      <td>2</td>\n",
       "      <td>0</td>\n",
       "      <td>0</td>\n",
       "      <td>0</td>\n",
       "      <td>0</td>\n",
       "      <td>0</td>\n",
       "      <td>2</td>\n",
       "      <td>2</td>\n",
       "      <td>0</td>\n",
       "      <td>0</td>\n",
       "      <td>0</td>\n",
       "      <td>0</td>\n",
       "      <td>0</td>\n",
       "      <td>2</td>\n",
       "      <td>0</td>\n",
       "      <td>2</td>\n",
       "      <td>2</td>\n",
       "      <td>2</td>\n",
       "      <td>2</td>\n",
       "      <td>2</td>\n",
       "      <td>0</td>\n",
       "      <td>0</td>\n",
       "      <td>0</td>\n",
       "      <td>0</td>\n",
       "      <td>0</td>\n",
       "      <td>0</td>\n",
       "      <td>0</td>\n",
       "      <td>0</td>\n",
       "      <td>0</td>\n",
       "      <td>0</td>\n",
       "      <td>2</td>\n",
       "      <td>2</td>\n",
       "      <td>1</td>\n",
       "      <td>1</td>\n",
       "      <td>2</td>\n",
       "      <td>2</td>\n",
       "      <td>2</td>\n",
       "      <td>2</td>\n",
       "      <td>2</td>\n",
       "      <td>2</td>\n",
       "      <td>0</td>\n",
       "      <td>0</td>\n",
       "      <td>0</td>\n",
       "      <td>0</td>\n",
       "      <td>0</td>\n",
       "      <td>0</td>\n",
       "      <td>2</td>\n",
       "      <td>0</td>\n",
       "    </tr>\n",
       "    <tr>\n",
       "      <th>66</th>\n",
       "      <td>2019</td>\n",
       "      <td>NE</td>\n",
       "      <td>3</td>\n",
       "      <td>3</td>\n",
       "      <td>3</td>\n",
       "      <td>3</td>\n",
       "      <td>3</td>\n",
       "      <td>3</td>\n",
       "      <td>3</td>\n",
       "      <td>3</td>\n",
       "      <td>3</td>\n",
       "      <td>3</td>\n",
       "      <td>3</td>\n",
       "      <td>3</td>\n",
       "      <td>0</td>\n",
       "      <td>0</td>\n",
       "      <td>0</td>\n",
       "      <td>0</td>\n",
       "      <td>0</td>\n",
       "      <td>3</td>\n",
       "      <td>3</td>\n",
       "      <td>0</td>\n",
       "      <td>0</td>\n",
       "      <td>0</td>\n",
       "      <td>0</td>\n",
       "      <td>0</td>\n",
       "      <td>3</td>\n",
       "      <td>0</td>\n",
       "      <td>3</td>\n",
       "      <td>3</td>\n",
       "      <td>3</td>\n",
       "      <td>3</td>\n",
       "      <td>3</td>\n",
       "      <td>2</td>\n",
       "      <td>2</td>\n",
       "      <td>2</td>\n",
       "      <td>2</td>\n",
       "      <td>2</td>\n",
       "      <td>2</td>\n",
       "      <td>2</td>\n",
       "      <td>2</td>\n",
       "      <td>0</td>\n",
       "      <td>0</td>\n",
       "      <td>3</td>\n",
       "      <td>3</td>\n",
       "      <td>1</td>\n",
       "      <td>0</td>\n",
       "      <td>3</td>\n",
       "      <td>3</td>\n",
       "      <td>3</td>\n",
       "      <td>3</td>\n",
       "      <td>3</td>\n",
       "      <td>3</td>\n",
       "      <td>0</td>\n",
       "      <td>0</td>\n",
       "      <td>0</td>\n",
       "      <td>0</td>\n",
       "      <td>0</td>\n",
       "      <td>0</td>\n",
       "      <td>3</td>\n",
       "      <td>0</td>\n",
       "    </tr>\n",
       "  </tbody>\n",
       "</table>\n",
       "</div>"
      ],
      "text/plain": [
       "     Incident Year Incident State  REPORT_RECEIVED_DATE  No of Incidents  \\\n",
       "122           2012             CO                     1                1   \n",
       "79            2016             CO                     2                2   \n",
       "66            2019             NE                     3                3   \n",
       "\n",
       "     NAME  LOCATION_LATITUDE  LOCATION_LONGITUDE  COMMODITY_RELEASED_TYPE  \\\n",
       "122     1                  1                   1                        1   \n",
       "79      2                  2                   2                        2   \n",
       "66      3                  3                   3                        3   \n",
       "\n",
       "     UNINTENTIONAL_RELEASE  INTENTIONAL_RELEASE  ACCOMPANYING_LIQUID  CAUSE  \\\n",
       "122                      1                    1                    1      1   \n",
       "79                       2                    2                    2      2   \n",
       "66                       3                    3                    3      3   \n",
       "\n",
       "     CAUSE_DETAILS  FATALITY_IND  NUM_EMP_FATALITIES  NUM_CONTR_FATALITIES  \\\n",
       "122              1             1                   0                     0   \n",
       "79               2             2                   0                     0   \n",
       "66               3             3                   0                     0   \n",
       "\n",
       "     NUM_ER_FATALITIES  NUM_WORKER_FATALITIES  NUM_GP_FATALITIES  FATAL  \\\n",
       "122                  0                      0                  0      1   \n",
       "79                   0                      0                  0      2   \n",
       "66                   0                      0                  0      3   \n",
       "\n",
       "     INJURY_IND  NUM_EMP_INJURIES  NUM_CONTR_INJURIES  NUM_ER_INJURIES  \\\n",
       "122           1                 0                   0                0   \n",
       "79            2                 0                   0                0   \n",
       "66            3                 0                   0                0   \n",
       "\n",
       "     NUM_WORKER_INJURIES  NUM_GP_INJURIES  INJURE  \\\n",
       "122                    0                0       1   \n",
       "79                     0                0       2   \n",
       "66                     0                0       3   \n",
       "\n",
       "     GAS_CONSUMED_BY_FIRE_IN_MCF  EXPLODE_IND  INCIDENT_AREA_TYPE  \\\n",
       "122                            0            1                   1   \n",
       "79                             0            2                   2   \n",
       "66                             0            3                   3   \n",
       "\n",
       "     SYSTEM_PART_INVOLVED  INSTALLATION_YEAR  ITEM_INVOLVED  PIPE_TYPE  \\\n",
       "122                     1                  1              1          1   \n",
       "79                      2                  2              2          0   \n",
       "66                      3                  3              3          2   \n",
       "\n",
       "     PIPE_DIAMETER  PIPE_WALL_THICKNESS  PIPE_SMYS  PIPE_SPECIFICATION  \\\n",
       "122              1                    1          1                   1   \n",
       "79               0                    0          0                   0   \n",
       "66               2                    2          2                   2   \n",
       "\n",
       "     PIPE_SEAM_TYPE  PIPE_MANUFACTURER  PIPE_COATING_TYPE  \\\n",
       "122               1                  1                  1   \n",
       "79                0                  0                  0   \n",
       "66                2                  2                  2   \n",
       "\n",
       "     PIPE_COATING_DETAILS  COATING_APPLIED_IND  MATERIAL_INVOLVED  \\\n",
       "122                     0                    0                  1   \n",
       "79                      0                    0                  2   \n",
       "66                      0                    0                  3   \n",
       "\n",
       "     RELEASE_TYPE  LEAK_TYPE  RELEASE_TYPE_DETAILS  EST_COST_OPER_PAID  \\\n",
       "122             1          0                     0                   1   \n",
       "79              2          1                     1                   2   \n",
       "66              3          1                     0                   3   \n",
       "\n",
       "     EST_COST_UNINTENTIONAL_RELEASE  EST_COST_INTENTIONAL_RELEASE  \\\n",
       "122                               1                             1   \n",
       "79                                2                             2   \n",
       "66                                3                             3   \n",
       "\n",
       "     EST_COST_PROP_DAMAGE  EST_COST_EMERGENCY  EST_COST_OTHER  \\\n",
       "122                     1                   1               1   \n",
       "79                      2                   2               2   \n",
       "66                      3                   3               3   \n",
       "\n",
       "     EST_COST_OTHER_DETAILS  GAS_COST_IN_MCF  NUM_PERSONS_HOSP_NOT_OVNGHT  \\\n",
       "122                       0                0                            0   \n",
       "79                        0                0                            0   \n",
       "66                        0                0                            0   \n",
       "\n",
       "     NUM_INJURED_TREATED_BY_EMT  NUM_RESIDENT_BUILDING_AFFCTD  \\\n",
       "122                           0                             0   \n",
       "79                            0                             0   \n",
       "66                            0                             0   \n",
       "\n",
       "     NUM_BUSINESS_BUILDING_AFFCTD  ACCIDENT_PSIG  GAS_FLOW_IN_PIPE_IN_MCF  \n",
       "122                             0              1                        0  \n",
       "79                              0              2                        0  \n",
       "66                              0              3                        0  "
      ]
     },
     "execution_count": 6,
     "metadata": {},
     "output_type": "execute_result"
    }
   ],
   "source": [
    "grouped_Year_State = HGL_trans_acc.groupby(['IYEAR','OPERATOR_STATE_ABBREVIATION']).count().sort_values(by = 'REPORT_NUMBER',  ascending=False).reset_index()\n",
    "grouped_Year_State.head()\n",
    "\n",
    "# The column report number (1 on 1 relationship) can be our incident count so:\n",
    "\n",
    "grouped_Year_State.rename(columns = {'IYEAR':'Incident Year','OPERATOR_STATE_ABBREVIATION':'Incident State', 'REPORT_NUMBER':'No of Incidents'}, inplace=True)\n",
    "grouped_Year_State.sample(3)"
   ]
  },
  {
   "cell_type": "code",
   "execution_count": 7,
   "metadata": {},
   "outputs": [
    {
     "data": {
      "application/vnd.plotly.v1+json": {
       "config": {
        "plotlyServerURL": "https://plot.ly"
       },
       "data": [
        {
         "alignmentgroup": "True",
         "hovertemplate": "Incident State=TX<br>No of Incidents=%{x}<br>Incident Year=%{y}<extra></extra>",
         "legendgroup": "TX",
         "marker": {
          "color": "rgb(0,0,0)",
          "pattern": {
           "shape": ""
          }
         },
         "name": "TX",
         "offsetgroup": "TX",
         "orientation": "h",
         "showlegend": true,
         "textposition": "auto",
         "type": "bar",
         "x": [
          96,
          84,
          82,
          81,
          76,
          72,
          71,
          64,
          64,
          63,
          62,
          55,
          22
         ],
         "xaxis": "x",
         "y": [
          2015,
          2020,
          2019,
          2014,
          2012,
          2017,
          2011,
          2013,
          2021,
          2010,
          2018,
          2016,
          2022
         ],
         "yaxis": "y"
        },
        {
         "alignmentgroup": "True",
         "hovertemplate": "Incident State=OK<br>No of Incidents=%{x}<br>Incident Year=%{y}<extra></extra>",
         "legendgroup": "OK",
         "marker": {
          "color": "rgb(30,0,100)",
          "pattern": {
           "shape": ""
          }
         },
         "name": "OK",
         "offsetgroup": "OK",
         "orientation": "h",
         "showlegend": true,
         "textposition": "auto",
         "type": "bar",
         "x": [
          22,
          22,
          21,
          21,
          19,
          13,
          12,
          12,
          12,
          11,
          11,
          11,
          10
         ],
         "xaxis": "x",
         "y": [
          2019,
          2010,
          2011,
          2017,
          2018,
          2015,
          2021,
          2014,
          2012,
          2020,
          2022,
          2016,
          2013
         ],
         "yaxis": "y"
        },
        {
         "alignmentgroup": "True",
         "hovertemplate": "Incident State=CA<br>No of Incidents=%{x}<br>Incident Year=%{y}<extra></extra>",
         "legendgroup": "CA",
         "marker": {
          "color": "rgb(120,0,100)",
          "pattern": {
           "shape": ""
          }
         },
         "name": "CA",
         "offsetgroup": "CA",
         "orientation": "h",
         "showlegend": true,
         "textposition": "auto",
         "type": "bar",
         "x": [
          12,
          10,
          8,
          6,
          6,
          6,
          6,
          6,
          4,
          3,
          3,
          2
         ],
         "xaxis": "x",
         "y": [
          2014,
          2017,
          2015,
          2013,
          2010,
          2016,
          2012,
          2011,
          2018,
          2020,
          2021,
          2019
         ],
         "yaxis": "y"
        },
        {
         "alignmentgroup": "True",
         "hovertemplate": "Incident State=KY<br>No of Incidents=%{x}<br>Incident Year=%{y}<extra></extra>",
         "legendgroup": "KY",
         "marker": {
          "color": "rgb(160,90,0)",
          "pattern": {
           "shape": ""
          }
         },
         "name": "KY",
         "offsetgroup": "KY",
         "orientation": "h",
         "showlegend": true,
         "textposition": "auto",
         "type": "bar",
         "x": [
          10,
          7,
          6,
          6,
          5,
          4,
          3,
          2,
          1,
          1,
          1,
          1,
          1
         ],
         "xaxis": "x",
         "y": [
          2014,
          2015,
          2013,
          2020,
          2021,
          2018,
          2011,
          2022,
          2012,
          2010,
          2017,
          2019,
          2016
         ],
         "yaxis": "y"
        },
        {
         "alignmentgroup": "True",
         "hovertemplate": "Incident State=NE<br>No of Incidents=%{x}<br>Incident Year=%{y}<extra></extra>",
         "legendgroup": "NE",
         "marker": {
          "color": "rgb(230,200,0)",
          "pattern": {
           "shape": ""
          }
         },
         "name": "NE",
         "offsetgroup": "NE",
         "orientation": "h",
         "showlegend": true,
         "textposition": "auto",
         "type": "bar",
         "x": [
          8,
          7,
          7,
          6,
          5,
          5,
          5,
          4,
          4,
          3,
          3,
          3,
          1
         ],
         "xaxis": "x",
         "y": [
          2014,
          2021,
          2018,
          2017,
          2016,
          2013,
          2011,
          2020,
          2012,
          2019,
          2015,
          2010,
          2022
         ],
         "yaxis": "y"
        },
        {
         "alignmentgroup": "True",
         "hovertemplate": "Incident State=UT<br>No of Incidents=%{x}<br>Incident Year=%{y}<extra></extra>",
         "legendgroup": "UT",
         "marker": {
          "color": "rgb(255,250,220)",
          "pattern": {
           "shape": ""
          }
         },
         "name": "UT",
         "offsetgroup": "UT",
         "orientation": "h",
         "showlegend": true,
         "textposition": "auto",
         "type": "bar",
         "x": [
          8,
          4,
          4,
          3,
          2,
          2,
          1,
          1
         ],
         "xaxis": "x",
         "y": [
          2011,
          2020,
          2013,
          2017,
          2019,
          2022,
          2010,
          2018
         ],
         "yaxis": "y"
        },
        {
         "alignmentgroup": "True",
         "hovertemplate": "Incident State=MI<br>No of Incidents=%{x}<br>Incident Year=%{y}<extra></extra>",
         "legendgroup": "MI",
         "marker": {
          "color": "rgb(0,0,0)",
          "pattern": {
           "shape": ""
          }
         },
         "name": "MI",
         "offsetgroup": "MI",
         "orientation": "h",
         "showlegend": true,
         "textposition": "auto",
         "type": "bar",
         "x": [
          7,
          6,
          6,
          6,
          5,
          5,
          5,
          4,
          2,
          2,
          2,
          2,
          1
         ],
         "xaxis": "x",
         "y": [
          2020,
          2016,
          2018,
          2014,
          2022,
          2019,
          2015,
          2017,
          2021,
          2013,
          2010,
          2012,
          2011
         ],
         "yaxis": "y"
        },
        {
         "alignmentgroup": "True",
         "hovertemplate": "Incident State=NY<br>No of Incidents=%{x}<br>Incident Year=%{y}<extra></extra>",
         "legendgroup": "NY",
         "marker": {
          "color": "rgb(30,0,100)",
          "pattern": {
           "shape": ""
          }
         },
         "name": "NY",
         "offsetgroup": "NY",
         "orientation": "h",
         "showlegend": true,
         "textposition": "auto",
         "type": "bar",
         "x": [
          4,
          3,
          2,
          2,
          2,
          1,
          1
         ],
         "xaxis": "x",
         "y": [
          2012,
          2018,
          2013,
          2011,
          2015,
          2022,
          2021
         ],
         "yaxis": "y"
        },
        {
         "alignmentgroup": "True",
         "hovertemplate": "Incident State=CO<br>No of Incidents=%{x}<br>Incident Year=%{y}<extra></extra>",
         "legendgroup": "CO",
         "marker": {
          "color": "rgb(120,0,100)",
          "pattern": {
           "shape": ""
          }
         },
         "name": "CO",
         "offsetgroup": "CO",
         "orientation": "h",
         "showlegend": true,
         "textposition": "auto",
         "type": "bar",
         "x": [
          4,
          4,
          3,
          2,
          2,
          2,
          2,
          1,
          1,
          1,
          1
         ],
         "xaxis": "x",
         "y": [
          2015,
          2013,
          2021,
          2019,
          2016,
          2020,
          2010,
          2012,
          2011,
          2017,
          2018
         ],
         "yaxis": "y"
        },
        {
         "alignmentgroup": "True",
         "hovertemplate": "Incident State=AL<br>No of Incidents=%{x}<br>Incident Year=%{y}<extra></extra>",
         "legendgroup": "AL",
         "marker": {
          "color": "rgb(160,90,0)",
          "pattern": {
           "shape": ""
          }
         },
         "name": "AL",
         "offsetgroup": "AL",
         "orientation": "h",
         "showlegend": true,
         "textposition": "auto",
         "type": "bar",
         "x": [
          4,
          2,
          1,
          1
         ],
         "xaxis": "x",
         "y": [
          2010,
          2018,
          2021,
          2013
         ],
         "yaxis": "y"
        },
        {
         "alignmentgroup": "True",
         "hovertemplate": "Incident State=ND<br>No of Incidents=%{x}<br>Incident Year=%{y}<extra></extra>",
         "legendgroup": "ND",
         "marker": {
          "color": "rgb(230,200,0)",
          "pattern": {
           "shape": ""
          }
         },
         "name": "ND",
         "offsetgroup": "ND",
         "orientation": "h",
         "showlegend": true,
         "textposition": "auto",
         "type": "bar",
         "x": [
          3,
          3,
          2,
          2,
          2,
          1,
          1
         ],
         "xaxis": "x",
         "y": [
          2014,
          2013,
          2021,
          2011,
          2010,
          2012,
          2016
         ],
         "yaxis": "y"
        },
        {
         "alignmentgroup": "True",
         "hovertemplate": "Incident State=NC<br>No of Incidents=%{x}<br>Incident Year=%{y}<extra></extra>",
         "legendgroup": "NC",
         "marker": {
          "color": "rgb(255,250,220)",
          "pattern": {
           "shape": ""
          }
         },
         "name": "NC",
         "offsetgroup": "NC",
         "orientation": "h",
         "showlegend": true,
         "textposition": "auto",
         "type": "bar",
         "x": [
          3,
          2,
          2,
          2,
          2,
          1,
          1,
          1,
          1,
          1,
          1
         ],
         "xaxis": "x",
         "y": [
          2022,
          2020,
          2021,
          2014,
          2010,
          2012,
          2017,
          2015,
          2016,
          2018,
          2013
         ],
         "yaxis": "y"
        },
        {
         "alignmentgroup": "True",
         "hovertemplate": "Incident State=OH<br>No of Incidents=%{x}<br>Incident Year=%{y}<extra></extra>",
         "legendgroup": "OH",
         "marker": {
          "color": "rgb(0,0,0)",
          "pattern": {
           "shape": ""
          }
         },
         "name": "OH",
         "offsetgroup": "OH",
         "orientation": "h",
         "showlegend": true,
         "textposition": "auto",
         "type": "bar",
         "x": [
          2,
          2,
          1,
          1,
          1,
          1,
          1,
          1,
          1
         ],
         "xaxis": "x",
         "y": [
          2016,
          2020,
          2019,
          2011,
          2021,
          2015,
          2014,
          2018,
          2013
         ],
         "yaxis": "y"
        },
        {
         "alignmentgroup": "True",
         "hovertemplate": "Incident State=WV<br>No of Incidents=%{x}<br>Incident Year=%{y}<extra></extra>",
         "legendgroup": "WV",
         "marker": {
          "color": "rgb(30,0,100)",
          "pattern": {
           "shape": ""
          }
         },
         "name": "WV",
         "offsetgroup": "WV",
         "orientation": "h",
         "showlegend": true,
         "textposition": "auto",
         "type": "bar",
         "x": [
          2,
          1,
          1,
          1,
          1
         ],
         "xaxis": "x",
         "y": [
          2018,
          2021,
          2012,
          2013,
          2017
         ],
         "yaxis": "y"
        },
        {
         "alignmentgroup": "True",
         "hovertemplate": "Incident State=FL<br>No of Incidents=%{x}<br>Incident Year=%{y}<extra></extra>",
         "legendgroup": "FL",
         "marker": {
          "color": "rgb(120,0,100)",
          "pattern": {
           "shape": ""
          }
         },
         "name": "FL",
         "offsetgroup": "FL",
         "orientation": "h",
         "showlegend": true,
         "textposition": "auto",
         "type": "bar",
         "x": [
          2,
          1,
          1,
          1
         ],
         "xaxis": "x",
         "y": [
          2018,
          2020,
          2022,
          2017
         ],
         "yaxis": "y"
        },
        {
         "alignmentgroup": "True",
         "hovertemplate": "Incident State=IN<br>No of Incidents=%{x}<br>Incident Year=%{y}<extra></extra>",
         "legendgroup": "IN",
         "marker": {
          "color": "rgb(160,90,0)",
          "pattern": {
           "shape": ""
          }
         },
         "name": "IN",
         "offsetgroup": "IN",
         "orientation": "h",
         "showlegend": true,
         "textposition": "auto",
         "type": "bar",
         "x": [
          2,
          1,
          1,
          1,
          1
         ],
         "xaxis": "x",
         "y": [
          2021,
          2019,
          2017,
          2015,
          2016
         ],
         "yaxis": "y"
        },
        {
         "alignmentgroup": "True",
         "hovertemplate": "Incident State=IA<br>No of Incidents=%{x}<br>Incident Year=%{y}<extra></extra>",
         "legendgroup": "IA",
         "marker": {
          "color": "rgb(230,200,0)",
          "pattern": {
           "shape": ""
          }
         },
         "name": "IA",
         "offsetgroup": "IA",
         "orientation": "h",
         "showlegend": true,
         "textposition": "auto",
         "type": "bar",
         "x": [
          2,
          1,
          1,
          1,
          1,
          1
         ],
         "xaxis": "x",
         "y": [
          2020,
          2012,
          2022,
          2017,
          2019,
          2013
         ],
         "yaxis": "y"
        },
        {
         "alignmentgroup": "True",
         "hovertemplate": "Incident State=IL<br>No of Incidents=%{x}<br>Incident Year=%{y}<extra></extra>",
         "legendgroup": "IL",
         "marker": {
          "color": "rgb(255,250,220)",
          "pattern": {
           "shape": ""
          }
         },
         "name": "IL",
         "offsetgroup": "IL",
         "orientation": "h",
         "showlegend": true,
         "textposition": "auto",
         "type": "bar",
         "x": [
          2,
          2,
          2,
          1,
          1,
          1
         ],
         "xaxis": "x",
         "y": [
          2011,
          2015,
          2010,
          2021,
          2016,
          2019
         ],
         "yaxis": "y"
        },
        {
         "alignmentgroup": "True",
         "hovertemplate": "Incident State=PA<br>No of Incidents=%{x}<br>Incident Year=%{y}<extra></extra>",
         "legendgroup": "PA",
         "marker": {
          "color": "rgb(0,0,0)",
          "pattern": {
           "shape": ""
          }
         },
         "name": "PA",
         "offsetgroup": "PA",
         "orientation": "h",
         "showlegend": true,
         "textposition": "auto",
         "type": "bar",
         "x": [
          2,
          1,
          1,
          1,
          1,
          1,
          1
         ],
         "xaxis": "x",
         "y": [
          2012,
          2019,
          2010,
          2016,
          2014,
          2018,
          2015
         ],
         "yaxis": "y"
        },
        {
         "alignmentgroup": "True",
         "hovertemplate": "Incident State=NV<br>No of Incidents=%{x}<br>Incident Year=%{y}<extra></extra>",
         "legendgroup": "NV",
         "marker": {
          "color": "rgb(30,0,100)",
          "pattern": {
           "shape": ""
          }
         },
         "name": "NV",
         "offsetgroup": "NV",
         "orientation": "h",
         "showlegend": true,
         "textposition": "auto",
         "type": "bar",
         "x": [
          2,
          1,
          1
         ],
         "xaxis": "x",
         "y": [
          2015,
          2019,
          2014
         ],
         "yaxis": "y"
        },
        {
         "alignmentgroup": "True",
         "hovertemplate": "Incident State=LA<br>No of Incidents=%{x}<br>Incident Year=%{y}<extra></extra>",
         "legendgroup": "LA",
         "marker": {
          "color": "rgb(120,0,100)",
          "pattern": {
           "shape": ""
          }
         },
         "name": "LA",
         "offsetgroup": "LA",
         "orientation": "h",
         "showlegend": true,
         "textposition": "auto",
         "type": "bar",
         "x": [
          2,
          1,
          1,
          1
         ],
         "xaxis": "x",
         "y": [
          2010,
          2012,
          2011,
          2018
         ],
         "yaxis": "y"
        },
        {
         "alignmentgroup": "True",
         "hovertemplate": "Incident State=MO<br>No of Incidents=%{x}<br>Incident Year=%{y}<extra></extra>",
         "legendgroup": "MO",
         "marker": {
          "color": "rgb(160,90,0)",
          "pattern": {
           "shape": ""
          }
         },
         "name": "MO",
         "offsetgroup": "MO",
         "orientation": "h",
         "showlegend": true,
         "textposition": "auto",
         "type": "bar",
         "x": [
          1,
          1,
          1
         ],
         "xaxis": "x",
         "y": [
          2011,
          2012,
          2019
         ],
         "yaxis": "y"
        },
        {
         "alignmentgroup": "True",
         "hovertemplate": "Incident State=NM<br>No of Incidents=%{x}<br>Incident Year=%{y}<extra></extra>",
         "legendgroup": "NM",
         "marker": {
          "color": "rgb(230,200,0)",
          "pattern": {
           "shape": ""
          }
         },
         "name": "NM",
         "offsetgroup": "NM",
         "orientation": "h",
         "showlegend": true,
         "textposition": "auto",
         "type": "bar",
         "x": [
          1,
          1
         ],
         "xaxis": "x",
         "y": [
          2020,
          2016
         ],
         "yaxis": "y"
        },
        {
         "alignmentgroup": "True",
         "hovertemplate": "Incident State=WI<br>No of Incidents=%{x}<br>Incident Year=%{y}<extra></extra>",
         "legendgroup": "WI",
         "marker": {
          "color": "rgb(255,250,220)",
          "pattern": {
           "shape": ""
          }
         },
         "name": "WI",
         "offsetgroup": "WI",
         "orientation": "h",
         "showlegend": true,
         "textposition": "auto",
         "type": "bar",
         "x": [
          1
         ],
         "xaxis": "x",
         "y": [
          2011
         ],
         "yaxis": "y"
        },
        {
         "alignmentgroup": "True",
         "hovertemplate": "Incident State=KS<br>No of Incidents=%{x}<br>Incident Year=%{y}<extra></extra>",
         "legendgroup": "KS",
         "marker": {
          "color": "rgb(0,0,0)",
          "pattern": {
           "shape": ""
          }
         },
         "name": "KS",
         "offsetgroup": "KS",
         "orientation": "h",
         "showlegend": true,
         "textposition": "auto",
         "type": "bar",
         "x": [
          1,
          1
         ],
         "xaxis": "x",
         "y": [
          2020,
          2011
         ],
         "yaxis": "y"
        },
        {
         "alignmentgroup": "True",
         "hovertemplate": "Incident State=MA<br>No of Incidents=%{x}<br>Incident Year=%{y}<extra></extra>",
         "legendgroup": "MA",
         "marker": {
          "color": "rgb(30,0,100)",
          "pattern": {
           "shape": ""
          }
         },
         "name": "MA",
         "offsetgroup": "MA",
         "orientation": "h",
         "showlegend": true,
         "textposition": "auto",
         "type": "bar",
         "x": [
          1
         ],
         "xaxis": "x",
         "y": [
          2011
         ],
         "yaxis": "y"
        },
        {
         "alignmentgroup": "True",
         "hovertemplate": "Incident State=SD<br>No of Incidents=%{x}<br>Incident Year=%{y}<extra></extra>",
         "legendgroup": "SD",
         "marker": {
          "color": "rgb(120,0,100)",
          "pattern": {
           "shape": ""
          }
         },
         "name": "SD",
         "offsetgroup": "SD",
         "orientation": "h",
         "showlegend": true,
         "textposition": "auto",
         "type": "bar",
         "x": [
          1
         ],
         "xaxis": "x",
         "y": [
          2020
         ],
         "yaxis": "y"
        },
        {
         "alignmentgroup": "True",
         "hovertemplate": "Incident State=AR<br>No of Incidents=%{x}<br>Incident Year=%{y}<extra></extra>",
         "legendgroup": "AR",
         "marker": {
          "color": "rgb(160,90,0)",
          "pattern": {
           "shape": ""
          }
         },
         "name": "AR",
         "offsetgroup": "AR",
         "orientation": "h",
         "showlegend": true,
         "textposition": "auto",
         "type": "bar",
         "x": [
          1
         ],
         "xaxis": "x",
         "y": [
          2016
         ],
         "yaxis": "y"
        },
        {
         "alignmentgroup": "True",
         "hovertemplate": "Incident State=CT<br>No of Incidents=%{x}<br>Incident Year=%{y}<extra></extra>",
         "legendgroup": "CT",
         "marker": {
          "color": "rgb(230,200,0)",
          "pattern": {
           "shape": ""
          }
         },
         "name": "CT",
         "offsetgroup": "CT",
         "orientation": "h",
         "showlegend": true,
         "textposition": "auto",
         "type": "bar",
         "x": [
          1,
          1,
          1
         ],
         "xaxis": "x",
         "y": [
          2010,
          2017,
          2019
         ],
         "yaxis": "y"
        },
        {
         "alignmentgroup": "True",
         "hovertemplate": "Incident State=TN<br>No of Incidents=%{x}<br>Incident Year=%{y}<extra></extra>",
         "legendgroup": "TN",
         "marker": {
          "color": "rgb(255,250,220)",
          "pattern": {
           "shape": ""
          }
         },
         "name": "TN",
         "offsetgroup": "TN",
         "orientation": "h",
         "showlegend": true,
         "textposition": "auto",
         "type": "bar",
         "x": [
          1
         ],
         "xaxis": "x",
         "y": [
          2010
         ],
         "yaxis": "y"
        },
        {
         "alignmentgroup": "True",
         "hovertemplate": "Incident State=VA<br>No of Incidents=%{x}<br>Incident Year=%{y}<extra></extra>",
         "legendgroup": "VA",
         "marker": {
          "color": "rgb(0,0,0)",
          "pattern": {
           "shape": ""
          }
         },
         "name": "VA",
         "offsetgroup": "VA",
         "orientation": "h",
         "showlegend": true,
         "textposition": "auto",
         "type": "bar",
         "x": [
          1,
          1
         ],
         "xaxis": "x",
         "y": [
          2010,
          2012
         ],
         "yaxis": "y"
        },
        {
         "alignmentgroup": "True",
         "hovertemplate": "Incident State=GA<br>No of Incidents=%{x}<br>Incident Year=%{y}<extra></extra>",
         "legendgroup": "GA",
         "marker": {
          "color": "rgb(30,0,100)",
          "pattern": {
           "shape": ""
          }
         },
         "name": "GA",
         "offsetgroup": "GA",
         "orientation": "h",
         "showlegend": true,
         "textposition": "auto",
         "type": "bar",
         "x": [
          1,
          1,
          1
         ],
         "xaxis": "x",
         "y": [
          2021,
          2015,
          2013
         ],
         "yaxis": "y"
        },
        {
         "alignmentgroup": "True",
         "hovertemplate": "Incident State=DC<br>No of Incidents=%{x}<br>Incident Year=%{y}<extra></extra>",
         "legendgroup": "DC",
         "marker": {
          "color": "rgb(120,0,100)",
          "pattern": {
           "shape": ""
          }
         },
         "name": "DC",
         "offsetgroup": "DC",
         "orientation": "h",
         "showlegend": true,
         "textposition": "auto",
         "type": "bar",
         "x": [
          1,
          1
         ],
         "xaxis": "x",
         "y": [
          2021,
          2017
         ],
         "yaxis": "y"
        },
        {
         "alignmentgroup": "True",
         "hovertemplate": "Incident State=SC<br>No of Incidents=%{x}<br>Incident Year=%{y}<extra></extra>",
         "legendgroup": "SC",
         "marker": {
          "color": "rgb(160,90,0)",
          "pattern": {
           "shape": ""
          }
         },
         "name": "SC",
         "offsetgroup": "SC",
         "orientation": "h",
         "showlegend": true,
         "textposition": "auto",
         "type": "bar",
         "x": [
          1,
          1
         ],
         "xaxis": "x",
         "y": [
          2014,
          2016
         ],
         "yaxis": "y"
        },
        {
         "alignmentgroup": "True",
         "hovertemplate": "Incident State=NJ<br>No of Incidents=%{x}<br>Incident Year=%{y}<extra></extra>",
         "legendgroup": "NJ",
         "marker": {
          "color": "rgb(230,200,0)",
          "pattern": {
           "shape": ""
          }
         },
         "name": "NJ",
         "offsetgroup": "NJ",
         "orientation": "h",
         "showlegend": true,
         "textposition": "auto",
         "type": "bar",
         "x": [
          1,
          1
         ],
         "xaxis": "x",
         "y": [
          2015,
          2014
         ],
         "yaxis": "y"
        }
       ],
       "layout": {
        "barmode": "relative",
        "legend": {
         "title": {
          "text": "Incident State"
         },
         "tracegroupgap": 0
        },
        "showlegend": false,
        "template": {
         "data": {
          "bar": [
           {
            "error_x": {
             "color": "#2a3f5f"
            },
            "error_y": {
             "color": "#2a3f5f"
            },
            "marker": {
             "line": {
              "color": "#E5ECF6",
              "width": 0.5
             },
             "pattern": {
              "fillmode": "overlay",
              "size": 10,
              "solidity": 0.2
             }
            },
            "type": "bar"
           }
          ],
          "barpolar": [
           {
            "marker": {
             "line": {
              "color": "#E5ECF6",
              "width": 0.5
             },
             "pattern": {
              "fillmode": "overlay",
              "size": 10,
              "solidity": 0.2
             }
            },
            "type": "barpolar"
           }
          ],
          "carpet": [
           {
            "aaxis": {
             "endlinecolor": "#2a3f5f",
             "gridcolor": "white",
             "linecolor": "white",
             "minorgridcolor": "white",
             "startlinecolor": "#2a3f5f"
            },
            "baxis": {
             "endlinecolor": "#2a3f5f",
             "gridcolor": "white",
             "linecolor": "white",
             "minorgridcolor": "white",
             "startlinecolor": "#2a3f5f"
            },
            "type": "carpet"
           }
          ],
          "choropleth": [
           {
            "colorbar": {
             "outlinewidth": 0,
             "ticks": ""
            },
            "type": "choropleth"
           }
          ],
          "contour": [
           {
            "colorbar": {
             "outlinewidth": 0,
             "ticks": ""
            },
            "colorscale": [
             [
              0,
              "#0d0887"
             ],
             [
              0.1111111111111111,
              "#46039f"
             ],
             [
              0.2222222222222222,
              "#7201a8"
             ],
             [
              0.3333333333333333,
              "#9c179e"
             ],
             [
              0.4444444444444444,
              "#bd3786"
             ],
             [
              0.5555555555555556,
              "#d8576b"
             ],
             [
              0.6666666666666666,
              "#ed7953"
             ],
             [
              0.7777777777777778,
              "#fb9f3a"
             ],
             [
              0.8888888888888888,
              "#fdca26"
             ],
             [
              1,
              "#f0f921"
             ]
            ],
            "type": "contour"
           }
          ],
          "contourcarpet": [
           {
            "colorbar": {
             "outlinewidth": 0,
             "ticks": ""
            },
            "type": "contourcarpet"
           }
          ],
          "heatmap": [
           {
            "colorbar": {
             "outlinewidth": 0,
             "ticks": ""
            },
            "colorscale": [
             [
              0,
              "#0d0887"
             ],
             [
              0.1111111111111111,
              "#46039f"
             ],
             [
              0.2222222222222222,
              "#7201a8"
             ],
             [
              0.3333333333333333,
              "#9c179e"
             ],
             [
              0.4444444444444444,
              "#bd3786"
             ],
             [
              0.5555555555555556,
              "#d8576b"
             ],
             [
              0.6666666666666666,
              "#ed7953"
             ],
             [
              0.7777777777777778,
              "#fb9f3a"
             ],
             [
              0.8888888888888888,
              "#fdca26"
             ],
             [
              1,
              "#f0f921"
             ]
            ],
            "type": "heatmap"
           }
          ],
          "heatmapgl": [
           {
            "colorbar": {
             "outlinewidth": 0,
             "ticks": ""
            },
            "colorscale": [
             [
              0,
              "#0d0887"
             ],
             [
              0.1111111111111111,
              "#46039f"
             ],
             [
              0.2222222222222222,
              "#7201a8"
             ],
             [
              0.3333333333333333,
              "#9c179e"
             ],
             [
              0.4444444444444444,
              "#bd3786"
             ],
             [
              0.5555555555555556,
              "#d8576b"
             ],
             [
              0.6666666666666666,
              "#ed7953"
             ],
             [
              0.7777777777777778,
              "#fb9f3a"
             ],
             [
              0.8888888888888888,
              "#fdca26"
             ],
             [
              1,
              "#f0f921"
             ]
            ],
            "type": "heatmapgl"
           }
          ],
          "histogram": [
           {
            "marker": {
             "pattern": {
              "fillmode": "overlay",
              "size": 10,
              "solidity": 0.2
             }
            },
            "type": "histogram"
           }
          ],
          "histogram2d": [
           {
            "colorbar": {
             "outlinewidth": 0,
             "ticks": ""
            },
            "colorscale": [
             [
              0,
              "#0d0887"
             ],
             [
              0.1111111111111111,
              "#46039f"
             ],
             [
              0.2222222222222222,
              "#7201a8"
             ],
             [
              0.3333333333333333,
              "#9c179e"
             ],
             [
              0.4444444444444444,
              "#bd3786"
             ],
             [
              0.5555555555555556,
              "#d8576b"
             ],
             [
              0.6666666666666666,
              "#ed7953"
             ],
             [
              0.7777777777777778,
              "#fb9f3a"
             ],
             [
              0.8888888888888888,
              "#fdca26"
             ],
             [
              1,
              "#f0f921"
             ]
            ],
            "type": "histogram2d"
           }
          ],
          "histogram2dcontour": [
           {
            "colorbar": {
             "outlinewidth": 0,
             "ticks": ""
            },
            "colorscale": [
             [
              0,
              "#0d0887"
             ],
             [
              0.1111111111111111,
              "#46039f"
             ],
             [
              0.2222222222222222,
              "#7201a8"
             ],
             [
              0.3333333333333333,
              "#9c179e"
             ],
             [
              0.4444444444444444,
              "#bd3786"
             ],
             [
              0.5555555555555556,
              "#d8576b"
             ],
             [
              0.6666666666666666,
              "#ed7953"
             ],
             [
              0.7777777777777778,
              "#fb9f3a"
             ],
             [
              0.8888888888888888,
              "#fdca26"
             ],
             [
              1,
              "#f0f921"
             ]
            ],
            "type": "histogram2dcontour"
           }
          ],
          "mesh3d": [
           {
            "colorbar": {
             "outlinewidth": 0,
             "ticks": ""
            },
            "type": "mesh3d"
           }
          ],
          "parcoords": [
           {
            "line": {
             "colorbar": {
              "outlinewidth": 0,
              "ticks": ""
             }
            },
            "type": "parcoords"
           }
          ],
          "pie": [
           {
            "automargin": true,
            "type": "pie"
           }
          ],
          "scatter": [
           {
            "marker": {
             "colorbar": {
              "outlinewidth": 0,
              "ticks": ""
             }
            },
            "type": "scatter"
           }
          ],
          "scatter3d": [
           {
            "line": {
             "colorbar": {
              "outlinewidth": 0,
              "ticks": ""
             }
            },
            "marker": {
             "colorbar": {
              "outlinewidth": 0,
              "ticks": ""
             }
            },
            "type": "scatter3d"
           }
          ],
          "scattercarpet": [
           {
            "marker": {
             "colorbar": {
              "outlinewidth": 0,
              "ticks": ""
             }
            },
            "type": "scattercarpet"
           }
          ],
          "scattergeo": [
           {
            "marker": {
             "colorbar": {
              "outlinewidth": 0,
              "ticks": ""
             }
            },
            "type": "scattergeo"
           }
          ],
          "scattergl": [
           {
            "marker": {
             "colorbar": {
              "outlinewidth": 0,
              "ticks": ""
             }
            },
            "type": "scattergl"
           }
          ],
          "scattermapbox": [
           {
            "marker": {
             "colorbar": {
              "outlinewidth": 0,
              "ticks": ""
             }
            },
            "type": "scattermapbox"
           }
          ],
          "scatterpolar": [
           {
            "marker": {
             "colorbar": {
              "outlinewidth": 0,
              "ticks": ""
             }
            },
            "type": "scatterpolar"
           }
          ],
          "scatterpolargl": [
           {
            "marker": {
             "colorbar": {
              "outlinewidth": 0,
              "ticks": ""
             }
            },
            "type": "scatterpolargl"
           }
          ],
          "scatterternary": [
           {
            "marker": {
             "colorbar": {
              "outlinewidth": 0,
              "ticks": ""
             }
            },
            "type": "scatterternary"
           }
          ],
          "surface": [
           {
            "colorbar": {
             "outlinewidth": 0,
             "ticks": ""
            },
            "colorscale": [
             [
              0,
              "#0d0887"
             ],
             [
              0.1111111111111111,
              "#46039f"
             ],
             [
              0.2222222222222222,
              "#7201a8"
             ],
             [
              0.3333333333333333,
              "#9c179e"
             ],
             [
              0.4444444444444444,
              "#bd3786"
             ],
             [
              0.5555555555555556,
              "#d8576b"
             ],
             [
              0.6666666666666666,
              "#ed7953"
             ],
             [
              0.7777777777777778,
              "#fb9f3a"
             ],
             [
              0.8888888888888888,
              "#fdca26"
             ],
             [
              1,
              "#f0f921"
             ]
            ],
            "type": "surface"
           }
          ],
          "table": [
           {
            "cells": {
             "fill": {
              "color": "#EBF0F8"
             },
             "line": {
              "color": "white"
             }
            },
            "header": {
             "fill": {
              "color": "#C8D4E3"
             },
             "line": {
              "color": "white"
             }
            },
            "type": "table"
           }
          ]
         },
         "layout": {
          "annotationdefaults": {
           "arrowcolor": "#2a3f5f",
           "arrowhead": 0,
           "arrowwidth": 1
          },
          "autotypenumbers": "strict",
          "coloraxis": {
           "colorbar": {
            "outlinewidth": 0,
            "ticks": ""
           }
          },
          "colorscale": {
           "diverging": [
            [
             0,
             "#8e0152"
            ],
            [
             0.1,
             "#c51b7d"
            ],
            [
             0.2,
             "#de77ae"
            ],
            [
             0.3,
             "#f1b6da"
            ],
            [
             0.4,
             "#fde0ef"
            ],
            [
             0.5,
             "#f7f7f7"
            ],
            [
             0.6,
             "#e6f5d0"
            ],
            [
             0.7,
             "#b8e186"
            ],
            [
             0.8,
             "#7fbc41"
            ],
            [
             0.9,
             "#4d9221"
            ],
            [
             1,
             "#276419"
            ]
           ],
           "sequential": [
            [
             0,
             "#0d0887"
            ],
            [
             0.1111111111111111,
             "#46039f"
            ],
            [
             0.2222222222222222,
             "#7201a8"
            ],
            [
             0.3333333333333333,
             "#9c179e"
            ],
            [
             0.4444444444444444,
             "#bd3786"
            ],
            [
             0.5555555555555556,
             "#d8576b"
            ],
            [
             0.6666666666666666,
             "#ed7953"
            ],
            [
             0.7777777777777778,
             "#fb9f3a"
            ],
            [
             0.8888888888888888,
             "#fdca26"
            ],
            [
             1,
             "#f0f921"
            ]
           ],
           "sequentialminus": [
            [
             0,
             "#0d0887"
            ],
            [
             0.1111111111111111,
             "#46039f"
            ],
            [
             0.2222222222222222,
             "#7201a8"
            ],
            [
             0.3333333333333333,
             "#9c179e"
            ],
            [
             0.4444444444444444,
             "#bd3786"
            ],
            [
             0.5555555555555556,
             "#d8576b"
            ],
            [
             0.6666666666666666,
             "#ed7953"
            ],
            [
             0.7777777777777778,
             "#fb9f3a"
            ],
            [
             0.8888888888888888,
             "#fdca26"
            ],
            [
             1,
             "#f0f921"
            ]
           ]
          },
          "colorway": [
           "#636efa",
           "#EF553B",
           "#00cc96",
           "#ab63fa",
           "#FFA15A",
           "#19d3f3",
           "#FF6692",
           "#B6E880",
           "#FF97FF",
           "#FECB52"
          ],
          "font": {
           "color": "#2a3f5f"
          },
          "geo": {
           "bgcolor": "white",
           "lakecolor": "white",
           "landcolor": "#E5ECF6",
           "showlakes": true,
           "showland": true,
           "subunitcolor": "white"
          },
          "hoverlabel": {
           "align": "left"
          },
          "hovermode": "closest",
          "mapbox": {
           "style": "light"
          },
          "paper_bgcolor": "white",
          "plot_bgcolor": "#E5ECF6",
          "polar": {
           "angularaxis": {
            "gridcolor": "white",
            "linecolor": "white",
            "ticks": ""
           },
           "bgcolor": "#E5ECF6",
           "radialaxis": {
            "gridcolor": "white",
            "linecolor": "white",
            "ticks": ""
           }
          },
          "scene": {
           "xaxis": {
            "backgroundcolor": "#E5ECF6",
            "gridcolor": "white",
            "gridwidth": 2,
            "linecolor": "white",
            "showbackground": true,
            "ticks": "",
            "zerolinecolor": "white"
           },
           "yaxis": {
            "backgroundcolor": "#E5ECF6",
            "gridcolor": "white",
            "gridwidth": 2,
            "linecolor": "white",
            "showbackground": true,
            "ticks": "",
            "zerolinecolor": "white"
           },
           "zaxis": {
            "backgroundcolor": "#E5ECF6",
            "gridcolor": "white",
            "gridwidth": 2,
            "linecolor": "white",
            "showbackground": true,
            "ticks": "",
            "zerolinecolor": "white"
           }
          },
          "shapedefaults": {
           "line": {
            "color": "#2a3f5f"
           }
          },
          "ternary": {
           "aaxis": {
            "gridcolor": "white",
            "linecolor": "white",
            "ticks": ""
           },
           "baxis": {
            "gridcolor": "white",
            "linecolor": "white",
            "ticks": ""
           },
           "bgcolor": "#E5ECF6",
           "caxis": {
            "gridcolor": "white",
            "linecolor": "white",
            "ticks": ""
           }
          },
          "title": {
           "x": 0.05
          },
          "xaxis": {
           "automargin": true,
           "gridcolor": "white",
           "linecolor": "white",
           "ticks": "",
           "title": {
            "standoff": 15
           },
           "zerolinecolor": "white",
           "zerolinewidth": 2
          },
          "yaxis": {
           "automargin": true,
           "gridcolor": "white",
           "linecolor": "white",
           "ticks": "",
           "title": {
            "standoff": 15
           },
           "zerolinecolor": "white",
           "zerolinewidth": 2
          }
         }
        },
        "title": {
         "text": "Number of Gas Transmission Line Incidents in Past 10 Years by State"
        },
        "xaxis": {
         "anchor": "y",
         "domain": [
          0,
          1
         ],
         "title": {
          "text": "No of Incidents"
         }
        },
        "yaxis": {
         "anchor": "x",
         "domain": [
          0,
          1
         ],
         "title": {
          "text": "Incident Year"
         }
        }
       }
      }
     },
     "metadata": {},
     "output_type": "display_data"
    }
   ],
   "source": [
    "#plotting using plotly:\n",
    "\n",
    "# #trying with plotly express\n",
    "fig = px.bar(data_frame=grouped_Year_State, y = 'Incident Year', x = 'No of Incidents',\n",
    "            color = 'Incident State', orientation='h', \n",
    "            color_discrete_sequence= px.colors.sequential.Electric,\n",
    "            title='Number of Gas Transmission Line Incidents in Past 10 Years by State') #remove latitude form pipe)\n",
    "\n",
    "fig.update_layout(showlegend=False)\n",
    "fig.show()\n"
   ]
  },
  {
   "cell_type": "markdown",
   "metadata": {},
   "source": [
    "Good reference for the colour pallets. Only the sequential one works here. \n",
    "- dir(px.colors.qualitative)\n",
    "- dir(px.colors.diverging)\n",
    "- dir(px.colors.sequential)"
   ]
  },
  {
   "cell_type": "markdown",
   "metadata": {},
   "source": [
    "## Having a look at the Injuries, Fatalities and Cuases of the transmission incidents"
   ]
  },
  {
   "cell_type": "code",
   "execution_count": 9,
   "metadata": {},
   "outputs": [
    {
     "name": "stdout",
     "output_type": "stream",
     "text": [
      "The fatality count is:\n",
      "0    1495\n",
      "1      11\n",
      "2       4\n",
      "4       1\n",
      "8       1\n",
      "Name: FATAL, dtype: int64\n",
      "\n",
      "\n",
      "The injury count is:\n",
      "0     1479\n",
      "1       22\n",
      "2        5\n",
      "4        2\n",
      "6        1\n",
      "13       1\n",
      "51       1\n",
      "7        1\n",
      "Name: INJURE, dtype: int64\n"
     ]
    }
   ],
   "source": [
    "print('The fatality count is:')\n",
    "print(HGL_trans_acc['FATAL'].value_counts())\n",
    "print(\"\\n\")\n",
    "print('The injury count is:')\n",
    "print(HGL_trans_acc['INJURE'].value_counts())"
   ]
  },
  {
   "cell_type": "code",
   "execution_count": 10,
   "metadata": {},
   "outputs": [
    {
     "data": {
      "text/html": [
       "<div>\n",
       "<style scoped>\n",
       "    .dataframe tbody tr th:only-of-type {\n",
       "        vertical-align: middle;\n",
       "    }\n",
       "\n",
       "    .dataframe tbody tr th {\n",
       "        vertical-align: top;\n",
       "    }\n",
       "\n",
       "    .dataframe thead th {\n",
       "        text-align: right;\n",
       "    }\n",
       "</style>\n",
       "<table border=\"1\" class=\"dataframe\">\n",
       "  <thead>\n",
       "    <tr style=\"text-align: right;\">\n",
       "      <th></th>\n",
       "      <th>Accident Cause</th>\n",
       "      <th>Details</th>\n",
       "      <th>REPORT_RECEIVED_DATE</th>\n",
       "      <th>IYEAR</th>\n",
       "      <th>Number of Incidents</th>\n",
       "      <th>NAME</th>\n",
       "      <th>OPERATOR_STATE_ABBREVIATION</th>\n",
       "      <th>LOCATION_LATITUDE</th>\n",
       "      <th>LOCATION_LONGITUDE</th>\n",
       "      <th>COMMODITY_RELEASED_TYPE</th>\n",
       "      <th>UNINTENTIONAL_RELEASE</th>\n",
       "      <th>INTENTIONAL_RELEASE</th>\n",
       "      <th>ACCOMPANYING_LIQUID</th>\n",
       "      <th>FATALITY_IND</th>\n",
       "      <th>NUM_EMP_FATALITIES</th>\n",
       "      <th>NUM_CONTR_FATALITIES</th>\n",
       "      <th>NUM_ER_FATALITIES</th>\n",
       "      <th>NUM_WORKER_FATALITIES</th>\n",
       "      <th>NUM_GP_FATALITIES</th>\n",
       "      <th>FATAL</th>\n",
       "      <th>INJURY_IND</th>\n",
       "      <th>NUM_EMP_INJURIES</th>\n",
       "      <th>NUM_CONTR_INJURIES</th>\n",
       "      <th>NUM_ER_INJURIES</th>\n",
       "      <th>NUM_WORKER_INJURIES</th>\n",
       "      <th>NUM_GP_INJURIES</th>\n",
       "      <th>INJURE</th>\n",
       "      <th>GAS_CONSUMED_BY_FIRE_IN_MCF</th>\n",
       "      <th>EXPLODE_IND</th>\n",
       "      <th>INCIDENT_AREA_TYPE</th>\n",
       "      <th>SYSTEM_PART_INVOLVED</th>\n",
       "      <th>INSTALLATION_YEAR</th>\n",
       "      <th>ITEM_INVOLVED</th>\n",
       "      <th>PIPE_TYPE</th>\n",
       "      <th>PIPE_DIAMETER</th>\n",
       "      <th>PIPE_WALL_THICKNESS</th>\n",
       "      <th>PIPE_SMYS</th>\n",
       "      <th>PIPE_SPECIFICATION</th>\n",
       "      <th>PIPE_SEAM_TYPE</th>\n",
       "      <th>PIPE_MANUFACTURER</th>\n",
       "      <th>PIPE_COATING_TYPE</th>\n",
       "      <th>PIPE_COATING_DETAILS</th>\n",
       "      <th>COATING_APPLIED_IND</th>\n",
       "      <th>MATERIAL_INVOLVED</th>\n",
       "      <th>RELEASE_TYPE</th>\n",
       "      <th>LEAK_TYPE</th>\n",
       "      <th>RELEASE_TYPE_DETAILS</th>\n",
       "      <th>EST_COST_OPER_PAID</th>\n",
       "      <th>EST_COST_UNINTENTIONAL_RELEASE</th>\n",
       "      <th>EST_COST_INTENTIONAL_RELEASE</th>\n",
       "      <th>EST_COST_PROP_DAMAGE</th>\n",
       "      <th>EST_COST_EMERGENCY</th>\n",
       "      <th>EST_COST_OTHER</th>\n",
       "      <th>EST_COST_OTHER_DETAILS</th>\n",
       "      <th>GAS_COST_IN_MCF</th>\n",
       "      <th>NUM_PERSONS_HOSP_NOT_OVNGHT</th>\n",
       "      <th>NUM_INJURED_TREATED_BY_EMT</th>\n",
       "      <th>NUM_RESIDENT_BUILDING_AFFCTD</th>\n",
       "      <th>NUM_BUSINESS_BUILDING_AFFCTD</th>\n",
       "      <th>ACCIDENT_PSIG</th>\n",
       "      <th>GAS_FLOW_IN_PIPE_IN_MCF</th>\n",
       "    </tr>\n",
       "  </thead>\n",
       "  <tbody>\n",
       "    <tr>\n",
       "      <th>0</th>\n",
       "      <td>Corrosion Failure</td>\n",
       "      <td>External corrosion</td>\n",
       "      <td>104</td>\n",
       "      <td>104</td>\n",
       "      <td>104</td>\n",
       "      <td>104</td>\n",
       "      <td>104</td>\n",
       "      <td>104</td>\n",
       "      <td>104</td>\n",
       "      <td>102</td>\n",
       "      <td>104</td>\n",
       "      <td>97</td>\n",
       "      <td>94</td>\n",
       "      <td>104</td>\n",
       "      <td>0</td>\n",
       "      <td>0</td>\n",
       "      <td>0</td>\n",
       "      <td>0</td>\n",
       "      <td>0</td>\n",
       "      <td>104</td>\n",
       "      <td>104</td>\n",
       "      <td>3</td>\n",
       "      <td>3</td>\n",
       "      <td>3</td>\n",
       "      <td>3</td>\n",
       "      <td>3</td>\n",
       "      <td>104</td>\n",
       "      <td>3</td>\n",
       "      <td>81</td>\n",
       "      <td>87</td>\n",
       "      <td>104</td>\n",
       "      <td>102</td>\n",
       "      <td>104</td>\n",
       "      <td>97</td>\n",
       "      <td>98</td>\n",
       "      <td>98</td>\n",
       "      <td>97</td>\n",
       "      <td>98</td>\n",
       "      <td>98</td>\n",
       "      <td>97</td>\n",
       "      <td>98</td>\n",
       "      <td>16</td>\n",
       "      <td>25</td>\n",
       "      <td>104</td>\n",
       "      <td>104</td>\n",
       "      <td>69</td>\n",
       "      <td>0</td>\n",
       "      <td>104</td>\n",
       "      <td>104</td>\n",
       "      <td>103</td>\n",
       "      <td>104</td>\n",
       "      <td>104</td>\n",
       "      <td>103</td>\n",
       "      <td>23</td>\n",
       "      <td>26</td>\n",
       "      <td>26</td>\n",
       "      <td>26</td>\n",
       "      <td>26</td>\n",
       "      <td>26</td>\n",
       "      <td>104</td>\n",
       "      <td>26</td>\n",
       "    </tr>\n",
       "    <tr>\n",
       "      <th>1</th>\n",
       "      <td>Corrosion Failure</td>\n",
       "      <td>Internal corrosion</td>\n",
       "      <td>183</td>\n",
       "      <td>183</td>\n",
       "      <td>183</td>\n",
       "      <td>183</td>\n",
       "      <td>183</td>\n",
       "      <td>183</td>\n",
       "      <td>183</td>\n",
       "      <td>181</td>\n",
       "      <td>183</td>\n",
       "      <td>168</td>\n",
       "      <td>164</td>\n",
       "      <td>183</td>\n",
       "      <td>0</td>\n",
       "      <td>0</td>\n",
       "      <td>0</td>\n",
       "      <td>0</td>\n",
       "      <td>0</td>\n",
       "      <td>183</td>\n",
       "      <td>183</td>\n",
       "      <td>0</td>\n",
       "      <td>0</td>\n",
       "      <td>0</td>\n",
       "      <td>0</td>\n",
       "      <td>0</td>\n",
       "      <td>183</td>\n",
       "      <td>3</td>\n",
       "      <td>155</td>\n",
       "      <td>68</td>\n",
       "      <td>183</td>\n",
       "      <td>179</td>\n",
       "      <td>183</td>\n",
       "      <td>163</td>\n",
       "      <td>171</td>\n",
       "      <td>171</td>\n",
       "      <td>171</td>\n",
       "      <td>171</td>\n",
       "      <td>171</td>\n",
       "      <td>169</td>\n",
       "      <td>171</td>\n",
       "      <td>88</td>\n",
       "      <td>29</td>\n",
       "      <td>183</td>\n",
       "      <td>183</td>\n",
       "      <td>154</td>\n",
       "      <td>0</td>\n",
       "      <td>183</td>\n",
       "      <td>183</td>\n",
       "      <td>183</td>\n",
       "      <td>183</td>\n",
       "      <td>183</td>\n",
       "      <td>182</td>\n",
       "      <td>33</td>\n",
       "      <td>31</td>\n",
       "      <td>31</td>\n",
       "      <td>31</td>\n",
       "      <td>31</td>\n",
       "      <td>31</td>\n",
       "      <td>183</td>\n",
       "      <td>31</td>\n",
       "    </tr>\n",
       "    <tr>\n",
       "      <th>2</th>\n",
       "      <td>Equipment Failure</td>\n",
       "      <td>Compressor or compressor-related equipment</td>\n",
       "      <td>31</td>\n",
       "      <td>31</td>\n",
       "      <td>31</td>\n",
       "      <td>31</td>\n",
       "      <td>31</td>\n",
       "      <td>31</td>\n",
       "      <td>31</td>\n",
       "      <td>29</td>\n",
       "      <td>31</td>\n",
       "      <td>31</td>\n",
       "      <td>30</td>\n",
       "      <td>31</td>\n",
       "      <td>0</td>\n",
       "      <td>0</td>\n",
       "      <td>0</td>\n",
       "      <td>0</td>\n",
       "      <td>0</td>\n",
       "      <td>31</td>\n",
       "      <td>31</td>\n",
       "      <td>1</td>\n",
       "      <td>1</td>\n",
       "      <td>1</td>\n",
       "      <td>1</td>\n",
       "      <td>1</td>\n",
       "      <td>31</td>\n",
       "      <td>0</td>\n",
       "      <td>26</td>\n",
       "      <td>31</td>\n",
       "      <td>31</td>\n",
       "      <td>28</td>\n",
       "      <td>31</td>\n",
       "      <td>0</td>\n",
       "      <td>0</td>\n",
       "      <td>0</td>\n",
       "      <td>0</td>\n",
       "      <td>0</td>\n",
       "      <td>0</td>\n",
       "      <td>0</td>\n",
       "      <td>0</td>\n",
       "      <td>0</td>\n",
       "      <td>0</td>\n",
       "      <td>31</td>\n",
       "      <td>31</td>\n",
       "      <td>9</td>\n",
       "      <td>22</td>\n",
       "      <td>31</td>\n",
       "      <td>31</td>\n",
       "      <td>31</td>\n",
       "      <td>31</td>\n",
       "      <td>31</td>\n",
       "      <td>31</td>\n",
       "      <td>8</td>\n",
       "      <td>5</td>\n",
       "      <td>5</td>\n",
       "      <td>5</td>\n",
       "      <td>5</td>\n",
       "      <td>5</td>\n",
       "      <td>31</td>\n",
       "      <td>5</td>\n",
       "    </tr>\n",
       "  </tbody>\n",
       "</table>\n",
       "</div>"
      ],
      "text/plain": [
       "      Accident Cause                                     Details  \\\n",
       "0  Corrosion Failure                          External corrosion   \n",
       "1  Corrosion Failure                          Internal corrosion   \n",
       "2  Equipment Failure  Compressor or compressor-related equipment   \n",
       "\n",
       "   REPORT_RECEIVED_DATE  IYEAR  Number of Incidents  NAME  \\\n",
       "0                   104    104                  104   104   \n",
       "1                   183    183                  183   183   \n",
       "2                    31     31                   31    31   \n",
       "\n",
       "   OPERATOR_STATE_ABBREVIATION  LOCATION_LATITUDE  LOCATION_LONGITUDE  \\\n",
       "0                          104                104                 104   \n",
       "1                          183                183                 183   \n",
       "2                           31                 31                  31   \n",
       "\n",
       "   COMMODITY_RELEASED_TYPE  UNINTENTIONAL_RELEASE  INTENTIONAL_RELEASE  \\\n",
       "0                      102                    104                   97   \n",
       "1                      181                    183                  168   \n",
       "2                       29                     31                   31   \n",
       "\n",
       "   ACCOMPANYING_LIQUID  FATALITY_IND  NUM_EMP_FATALITIES  \\\n",
       "0                   94           104                   0   \n",
       "1                  164           183                   0   \n",
       "2                   30            31                   0   \n",
       "\n",
       "   NUM_CONTR_FATALITIES  NUM_ER_FATALITIES  NUM_WORKER_FATALITIES  \\\n",
       "0                     0                  0                      0   \n",
       "1                     0                  0                      0   \n",
       "2                     0                  0                      0   \n",
       "\n",
       "   NUM_GP_FATALITIES  FATAL  INJURY_IND  NUM_EMP_INJURIES  NUM_CONTR_INJURIES  \\\n",
       "0                  0    104         104                 3                   3   \n",
       "1                  0    183         183                 0                   0   \n",
       "2                  0     31          31                 1                   1   \n",
       "\n",
       "   NUM_ER_INJURIES  NUM_WORKER_INJURIES  NUM_GP_INJURIES  INJURE  \\\n",
       "0                3                    3                3     104   \n",
       "1                0                    0                0     183   \n",
       "2                1                    1                1      31   \n",
       "\n",
       "   GAS_CONSUMED_BY_FIRE_IN_MCF  EXPLODE_IND  INCIDENT_AREA_TYPE  \\\n",
       "0                            3           81                  87   \n",
       "1                            3          155                  68   \n",
       "2                            0           26                  31   \n",
       "\n",
       "   SYSTEM_PART_INVOLVED  INSTALLATION_YEAR  ITEM_INVOLVED  PIPE_TYPE  \\\n",
       "0                   104                102            104         97   \n",
       "1                   183                179            183        163   \n",
       "2                    31                 28             31          0   \n",
       "\n",
       "   PIPE_DIAMETER  PIPE_WALL_THICKNESS  PIPE_SMYS  PIPE_SPECIFICATION  \\\n",
       "0             98                   98         97                  98   \n",
       "1            171                  171        171                 171   \n",
       "2              0                    0          0                   0   \n",
       "\n",
       "   PIPE_SEAM_TYPE  PIPE_MANUFACTURER  PIPE_COATING_TYPE  PIPE_COATING_DETAILS  \\\n",
       "0              98                 97                 98                    16   \n",
       "1             171                169                171                    88   \n",
       "2               0                  0                  0                     0   \n",
       "\n",
       "   COATING_APPLIED_IND  MATERIAL_INVOLVED  RELEASE_TYPE  LEAK_TYPE  \\\n",
       "0                   25                104           104         69   \n",
       "1                   29                183           183        154   \n",
       "2                    0                 31            31          9   \n",
       "\n",
       "   RELEASE_TYPE_DETAILS  EST_COST_OPER_PAID  EST_COST_UNINTENTIONAL_RELEASE  \\\n",
       "0                     0                 104                             104   \n",
       "1                     0                 183                             183   \n",
       "2                    22                  31                              31   \n",
       "\n",
       "   EST_COST_INTENTIONAL_RELEASE  EST_COST_PROP_DAMAGE  EST_COST_EMERGENCY  \\\n",
       "0                           103                   104                 104   \n",
       "1                           183                   183                 183   \n",
       "2                            31                    31                  31   \n",
       "\n",
       "   EST_COST_OTHER  EST_COST_OTHER_DETAILS  GAS_COST_IN_MCF  \\\n",
       "0             103                      23               26   \n",
       "1             182                      33               31   \n",
       "2              31                       8                5   \n",
       "\n",
       "   NUM_PERSONS_HOSP_NOT_OVNGHT  NUM_INJURED_TREATED_BY_EMT  \\\n",
       "0                           26                          26   \n",
       "1                           31                          31   \n",
       "2                            5                           5   \n",
       "\n",
       "   NUM_RESIDENT_BUILDING_AFFCTD  NUM_BUSINESS_BUILDING_AFFCTD  ACCIDENT_PSIG  \\\n",
       "0                            26                            26            104   \n",
       "1                            31                            31            183   \n",
       "2                             5                             5             31   \n",
       "\n",
       "   GAS_FLOW_IN_PIPE_IN_MCF  \n",
       "0                       26  \n",
       "1                       31  \n",
       "2                        5  "
      ]
     },
     "execution_count": 10,
     "metadata": {},
     "output_type": "execute_result"
    }
   ],
   "source": [
    "Acc_Cause = HGL_trans_acc.groupby(['CAUSE','CAUSE_DETAILS']).count().reset_index()\n",
    "Acc_Cause.rename(columns = {'REPORT_NUMBER':'Number of Incidents','CAUSE':'Accident Cause', 'CAUSE_DETAILS':'Details'}, inplace=True) #each incident has a report number so its count is incident count\n",
    "\n",
    "Acc_Cause['Accident Cause'] = Acc_Cause['Accident Cause'].str.lower().str.title()\n",
    "Acc_Cause['Details'] = Acc_Cause['Details'].str.lower().str.capitalize()\n",
    "\n",
    "Acc_Cause.head(3)\n"
   ]
  },
  {
   "cell_type": "code",
   "execution_count": 11,
   "metadata": {},
   "outputs": [
    {
     "data": {
      "application/vnd.plotly.v1+json": {
       "config": {
        "plotlyServerURL": "https://plot.ly"
       },
       "data": [
        {
         "alignmentgroup": "True",
         "hovertemplate": "Details=External corrosion<br>Number of Incidents=%{x}<extra></extra>",
         "legendgroup": "External corrosion",
         "marker": {
          "color": "rgb(3, 5, 18)",
          "pattern": {
           "shape": ""
          }
         },
         "name": "External corrosion",
         "offsetgroup": "External corrosion",
         "orientation": "h",
         "showlegend": true,
         "textposition": "auto",
         "type": "bar",
         "x": [
          104
         ],
         "xaxis": "x",
         "y": [
          "Corrosion Failure"
         ],
         "yaxis": "y"
        },
        {
         "alignmentgroup": "True",
         "hovertemplate": "Details=Internal corrosion<br>Number of Incidents=%{x}<extra></extra>",
         "legendgroup": "Internal corrosion",
         "marker": {
          "color": "rgb(25, 25, 51)",
          "pattern": {
           "shape": ""
          }
         },
         "name": "Internal corrosion",
         "offsetgroup": "Internal corrosion",
         "orientation": "h",
         "showlegend": true,
         "textposition": "auto",
         "type": "bar",
         "x": [
          183
         ],
         "xaxis": "x",
         "y": [
          "Corrosion Failure"
         ],
         "yaxis": "y"
        },
        {
         "alignmentgroup": "True",
         "hovertemplate": "Details=Compressor or compressor-related equipment<br>Number of Incidents=%{x}<extra></extra>",
         "legendgroup": "Compressor or compressor-related equipment",
         "marker": {
          "color": "rgb(44, 42, 87)",
          "pattern": {
           "shape": ""
          }
         },
         "name": "Compressor or compressor-related equipment",
         "offsetgroup": "Compressor or compressor-related equipment",
         "orientation": "h",
         "showlegend": true,
         "textposition": "auto",
         "type": "bar",
         "x": [
          31
         ],
         "xaxis": "x",
         "y": [
          "Equipment Failure"
         ],
         "yaxis": "y"
        },
        {
         "alignmentgroup": "True",
         "hovertemplate": "Details=Defective or loose tubing or fitting<br>Number of Incidents=%{x}<extra></extra>",
         "legendgroup": "Defective or loose tubing or fitting",
         "marker": {
          "color": "rgb(58, 60, 125)",
          "pattern": {
           "shape": ""
          }
         },
         "name": "Defective or loose tubing or fitting",
         "offsetgroup": "Defective or loose tubing or fitting",
         "orientation": "h",
         "showlegend": true,
         "textposition": "auto",
         "type": "bar",
         "x": [
          12
         ],
         "xaxis": "x",
         "y": [
          "Equipment Failure"
         ],
         "yaxis": "y"
        },
        {
         "alignmentgroup": "True",
         "hovertemplate": "Details=Failure of equipment body (except compressor), vessel plate, or other material<br>Number of Incidents=%{x}<extra></extra>",
         "legendgroup": "Failure of equipment body (except compressor), vessel plate, or other material",
         "marker": {
          "color": "rgb(62, 83, 160)",
          "pattern": {
           "shape": ""
          }
         },
         "name": "Failure of equipment body (except compressor), vessel plate, or other material",
         "offsetgroup": "Failure of equipment body (except compressor), vessel plate, or other material",
         "orientation": "h",
         "showlegend": true,
         "textposition": "auto",
         "type": "bar",
         "x": [
          13
         ],
         "xaxis": "x",
         "y": [
          "Equipment Failure"
         ],
         "yaxis": "y"
        },
        {
         "alignmentgroup": "True",
         "hovertemplate": "Details=Malfunction of control/relief equipment<br>Number of Incidents=%{x}<extra></extra>",
         "legendgroup": "Malfunction of control/relief equipment",
         "marker": {
          "color": "rgb(62, 109, 178)",
          "pattern": {
           "shape": ""
          }
         },
         "name": "Malfunction of control/relief equipment",
         "offsetgroup": "Malfunction of control/relief equipment",
         "orientation": "h",
         "showlegend": true,
         "textposition": "auto",
         "type": "bar",
         "x": [
          318
         ],
         "xaxis": "x",
         "y": [
          "Equipment Failure"
         ],
         "yaxis": "y"
        },
        {
         "alignmentgroup": "True",
         "hovertemplate": "Details=Non-threaded connection failure<br>Number of Incidents=%{x}<extra></extra>",
         "legendgroup": "Non-threaded connection failure",
         "marker": {
          "color": "rgb(72, 134, 187)",
          "pattern": {
           "shape": ""
          }
         },
         "name": "Non-threaded connection failure",
         "offsetgroup": "Non-threaded connection failure",
         "orientation": "h",
         "showlegend": true,
         "textposition": "auto",
         "type": "bar",
         "x": [
          37
         ],
         "xaxis": "x",
         "y": [
          "Equipment Failure"
         ],
         "yaxis": "y"
        },
        {
         "alignmentgroup": "True",
         "hovertemplate": "Details=Other equipment failure<br>Number of Incidents=%{x}<extra></extra>",
         "legendgroup": "Other equipment failure",
         "marker": {
          "color": "rgb(89, 159, 196)",
          "pattern": {
           "shape": ""
          }
         },
         "name": "Other equipment failure",
         "offsetgroup": "Other equipment failure",
         "orientation": "h",
         "showlegend": true,
         "textposition": "auto",
         "type": "bar",
         "x": [
          43
         ],
         "xaxis": "x",
         "y": [
          "Equipment Failure"
         ],
         "yaxis": "y"
        },
        {
         "alignmentgroup": "True",
         "hovertemplate": "Details=Threaded connection/coupling failure<br>Number of Incidents=%{x}<extra></extra>",
         "legendgroup": "Threaded connection/coupling failure",
         "marker": {
          "color": "rgb(114, 184, 205)",
          "pattern": {
           "shape": ""
          }
         },
         "name": "Threaded connection/coupling failure",
         "offsetgroup": "Threaded connection/coupling failure",
         "orientation": "h",
         "showlegend": true,
         "textposition": "auto",
         "type": "bar",
         "x": [
          56
         ],
         "xaxis": "x",
         "y": [
          "Equipment Failure"
         ],
         "yaxis": "y"
        },
        {
         "alignmentgroup": "True",
         "hovertemplate": "Details=Excavation damage by operator (first party)<br>Number of Incidents=%{x}<extra></extra>",
         "legendgroup": "Excavation damage by operator (first party)",
         "marker": {
          "color": "rgb(149, 207, 216)",
          "pattern": {
           "shape": ""
          }
         },
         "name": "Excavation damage by operator (first party)",
         "offsetgroup": "Excavation damage by operator (first party)",
         "orientation": "h",
         "showlegend": true,
         "textposition": "auto",
         "type": "bar",
         "x": [
          5
         ],
         "xaxis": "x",
         "y": [
          "Excavation Damage"
         ],
         "yaxis": "y"
        },
        {
         "alignmentgroup": "True",
         "hovertemplate": "Details=Excavation damage by operator's contractor (second party)<br>Number of Incidents=%{x}<extra></extra>",
         "legendgroup": "Excavation damage by operator's contractor (second party)",
         "marker": {
          "color": "rgb(192, 229, 232)",
          "pattern": {
           "shape": ""
          }
         },
         "name": "Excavation damage by operator's contractor (second party)",
         "offsetgroup": "Excavation damage by operator's contractor (second party)",
         "orientation": "h",
         "showlegend": true,
         "textposition": "auto",
         "type": "bar",
         "x": [
          21
         ],
         "xaxis": "x",
         "y": [
          "Excavation Damage"
         ],
         "yaxis": "y"
        },
        {
         "alignmentgroup": "True",
         "hovertemplate": "Details=Excavation damage by third party<br>Number of Incidents=%{x}<extra></extra>",
         "legendgroup": "Excavation damage by third party",
         "marker": {
          "color": "rgb(234, 252, 253)",
          "pattern": {
           "shape": ""
          }
         },
         "name": "Excavation damage by third party",
         "offsetgroup": "Excavation damage by third party",
         "orientation": "h",
         "showlegend": true,
         "textposition": "auto",
         "type": "bar",
         "x": [
          132
         ],
         "xaxis": "x",
         "y": [
          "Excavation Damage"
         ],
         "yaxis": "y"
        },
        {
         "alignmentgroup": "True",
         "hovertemplate": "Details=Previous damage due to excavation activity<br>Number of Incidents=%{x}<extra></extra>",
         "legendgroup": "Previous damage due to excavation activity",
         "marker": {
          "color": "rgb(3, 5, 18)",
          "pattern": {
           "shape": ""
          }
         },
         "name": "Previous damage due to excavation activity",
         "offsetgroup": "Previous damage due to excavation activity",
         "orientation": "h",
         "showlegend": true,
         "textposition": "auto",
         "type": "bar",
         "x": [
          19
         ],
         "xaxis": "x",
         "y": [
          "Excavation Damage"
         ],
         "yaxis": "y"
        },
        {
         "alignmentgroup": "True",
         "hovertemplate": "Details=Damage by operator or operator's contractor not related to excavation and not due to motorized vehicle/equipment damage<br>Number of Incidents=%{x}<extra></extra>",
         "legendgroup": "Damage by operator or operator's contractor not related to excavation and not due to motorized vehicle/equipment damage",
         "marker": {
          "color": "rgb(25, 25, 51)",
          "pattern": {
           "shape": ""
          }
         },
         "name": "Damage by operator or operator's contractor not related to excavation and not due to motorized vehicle/equipment damage",
         "offsetgroup": "Damage by operator or operator's contractor not related to excavation and not due to motorized vehicle/equipment damage",
         "orientation": "h",
         "showlegend": true,
         "textposition": "auto",
         "type": "bar",
         "x": [
          6
         ],
         "xaxis": "x",
         "y": [
          "Incorrect Operation"
         ],
         "yaxis": "y"
        },
        {
         "alignmentgroup": "True",
         "hovertemplate": "Details=Equipment not installed properly<br>Number of Incidents=%{x}<extra></extra>",
         "legendgroup": "Equipment not installed properly",
         "marker": {
          "color": "rgb(44, 42, 87)",
          "pattern": {
           "shape": ""
          }
         },
         "name": "Equipment not installed properly",
         "offsetgroup": "Equipment not installed properly",
         "orientation": "h",
         "showlegend": true,
         "textposition": "auto",
         "type": "bar",
         "x": [
          10
         ],
         "xaxis": "x",
         "y": [
          "Incorrect Operation"
         ],
         "yaxis": "y"
        },
        {
         "alignmentgroup": "True",
         "hovertemplate": "Details=Other incorrect operation <br>Number of Incidents=%{x}<extra></extra>",
         "legendgroup": "Other incorrect operation ",
         "marker": {
          "color": "rgb(58, 60, 125)",
          "pattern": {
           "shape": ""
          }
         },
         "name": "Other incorrect operation ",
         "offsetgroup": "Other incorrect operation ",
         "orientation": "h",
         "showlegend": true,
         "textposition": "auto",
         "type": "bar",
         "x": [
          49
         ],
         "xaxis": "x",
         "y": [
          "Incorrect Operation"
         ],
         "yaxis": "y"
        },
        {
         "alignmentgroup": "True",
         "hovertemplate": "Details=Pipeline or equipment overpressured<br>Number of Incidents=%{x}<extra></extra>",
         "legendgroup": "Pipeline or equipment overpressured",
         "marker": {
          "color": "rgb(62, 83, 160)",
          "pattern": {
           "shape": ""
          }
         },
         "name": "Pipeline or equipment overpressured",
         "offsetgroup": "Pipeline or equipment overpressured",
         "orientation": "h",
         "showlegend": true,
         "textposition": "auto",
         "type": "bar",
         "x": [
          7
         ],
         "xaxis": "x",
         "y": [
          "Incorrect Operation"
         ],
         "yaxis": "y"
        },
        {
         "alignmentgroup": "True",
         "hovertemplate": "Details=Valve left or placed in wrong position, but not resulting in an overpressure<br>Number of Incidents=%{x}<extra></extra>",
         "legendgroup": "Valve left or placed in wrong position, but not resulting in an overpressure",
         "marker": {
          "color": "rgb(62, 109, 178)",
          "pattern": {
           "shape": ""
          }
         },
         "name": "Valve left or placed in wrong position, but not resulting in an overpressure",
         "offsetgroup": "Valve left or placed in wrong position, but not resulting in an overpressure",
         "orientation": "h",
         "showlegend": true,
         "textposition": "auto",
         "type": "bar",
         "x": [
          23
         ],
         "xaxis": "x",
         "y": [
          "Incorrect Operation"
         ],
         "yaxis": "y"
        },
        {
         "alignmentgroup": "True",
         "hovertemplate": "Details=Wrong equipment specified or installed<br>Number of Incidents=%{x}<extra></extra>",
         "legendgroup": "Wrong equipment specified or installed",
         "marker": {
          "color": "rgb(72, 134, 187)",
          "pattern": {
           "shape": ""
          }
         },
         "name": "Wrong equipment specified or installed",
         "offsetgroup": "Wrong equipment specified or installed",
         "orientation": "h",
         "showlegend": true,
         "textposition": "auto",
         "type": "bar",
         "x": [
          5
         ],
         "xaxis": "x",
         "y": [
          "Incorrect Operation"
         ],
         "yaxis": "y"
        },
        {
         "alignmentgroup": "True",
         "hovertemplate": "Details=Design-, construction-, installation-, or fabrication-related<br>Number of Incidents=%{x}<extra></extra>",
         "legendgroup": "Design-, construction-, installation-, or fabrication-related",
         "marker": {
          "color": "rgb(89, 159, 196)",
          "pattern": {
           "shape": ""
          }
         },
         "name": "Design-, construction-, installation-, or fabrication-related",
         "offsetgroup": "Design-, construction-, installation-, or fabrication-related",
         "orientation": "h",
         "showlegend": true,
         "textposition": "auto",
         "type": "bar",
         "x": [
          97
         ],
         "xaxis": "x",
         "y": [
          "Material Failure Of Pipe Or Weld"
         ],
         "yaxis": "y"
        },
        {
         "alignmentgroup": "True",
         "hovertemplate": "Details=Environmental cracking-related<br>Number of Incidents=%{x}<extra></extra>",
         "legendgroup": "Environmental cracking-related",
         "marker": {
          "color": "rgb(114, 184, 205)",
          "pattern": {
           "shape": ""
          }
         },
         "name": "Environmental cracking-related",
         "offsetgroup": "Environmental cracking-related",
         "orientation": "h",
         "showlegend": true,
         "textposition": "auto",
         "type": "bar",
         "x": [
          27
         ],
         "xaxis": "x",
         "y": [
          "Material Failure Of Pipe Or Weld"
         ],
         "yaxis": "y"
        },
        {
         "alignmentgroup": "True",
         "hovertemplate": "Details=Original manufacturing-related (not girth weld or other welds formed in the field)<br>Number of Incidents=%{x}<extra></extra>",
         "legendgroup": "Original manufacturing-related (not girth weld or other welds formed in the field)",
         "marker": {
          "color": "rgb(149, 207, 216)",
          "pattern": {
           "shape": ""
          }
         },
         "name": "Original manufacturing-related (not girth weld or other welds formed in the field)",
         "offsetgroup": "Original manufacturing-related (not girth weld or other welds formed in the field)",
         "orientation": "h",
         "showlegend": true,
         "textposition": "auto",
         "type": "bar",
         "x": [
          39
         ],
         "xaxis": "x",
         "y": [
          "Material Failure Of Pipe Or Weld"
         ],
         "yaxis": "y"
        },
        {
         "alignmentgroup": "True",
         "hovertemplate": "Details=Earth movement, not due to heavy rains/floods<br>Number of Incidents=%{x}<extra></extra>",
         "legendgroup": "Earth movement, not due to heavy rains/floods",
         "marker": {
          "color": "rgb(192, 229, 232)",
          "pattern": {
           "shape": ""
          }
         },
         "name": "Earth movement, not due to heavy rains/floods",
         "offsetgroup": "Earth movement, not due to heavy rains/floods",
         "orientation": "h",
         "showlegend": true,
         "textposition": "auto",
         "type": "bar",
         "x": [
          19
         ],
         "xaxis": "x",
         "y": [
          "Natural Force Damage"
         ],
         "yaxis": "y"
        },
        {
         "alignmentgroup": "True",
         "hovertemplate": "Details=Heavy rains/floods<br>Number of Incidents=%{x}<extra></extra>",
         "legendgroup": "Heavy rains/floods",
         "marker": {
          "color": "rgb(234, 252, 253)",
          "pattern": {
           "shape": ""
          }
         },
         "name": "Heavy rains/floods",
         "offsetgroup": "Heavy rains/floods",
         "orientation": "h",
         "showlegend": true,
         "textposition": "auto",
         "type": "bar",
         "x": [
          18
         ],
         "xaxis": "x",
         "y": [
          "Natural Force Damage"
         ],
         "yaxis": "y"
        },
        {
         "alignmentgroup": "True",
         "hovertemplate": "Details=High winds<br>Number of Incidents=%{x}<extra></extra>",
         "legendgroup": "High winds",
         "marker": {
          "color": "rgb(3, 5, 18)",
          "pattern": {
           "shape": ""
          }
         },
         "name": "High winds",
         "offsetgroup": "High winds",
         "orientation": "h",
         "showlegend": true,
         "textposition": "auto",
         "type": "bar",
         "x": [
          5
         ],
         "xaxis": "x",
         "y": [
          "Natural Force Damage"
         ],
         "yaxis": "y"
        },
        {
         "alignmentgroup": "True",
         "hovertemplate": "Details=Lightning<br>Number of Incidents=%{x}<extra></extra>",
         "legendgroup": "Lightning",
         "marker": {
          "color": "rgb(25, 25, 51)",
          "pattern": {
           "shape": ""
          }
         },
         "name": "Lightning",
         "offsetgroup": "Lightning",
         "orientation": "h",
         "showlegend": true,
         "textposition": "auto",
         "type": "bar",
         "x": [
          18
         ],
         "xaxis": "x",
         "y": [
          "Natural Force Damage"
         ],
         "yaxis": "y"
        },
        {
         "alignmentgroup": "True",
         "hovertemplate": "Details=Other natural force damage<br>Number of Incidents=%{x}<extra></extra>",
         "legendgroup": "Other natural force damage",
         "marker": {
          "color": "rgb(44, 42, 87)",
          "pattern": {
           "shape": ""
          }
         },
         "name": "Other natural force damage",
         "offsetgroup": "Other natural force damage",
         "orientation": "h",
         "showlegend": true,
         "textposition": "auto",
         "type": "bar",
         "x": [
          17
         ],
         "xaxis": "x",
         "y": [
          "Natural Force Damage"
         ],
         "yaxis": "y"
        },
        {
         "alignmentgroup": "True",
         "hovertemplate": "Details=Snow/ice impact or accumulation<br>Number of Incidents=%{x}<extra></extra>",
         "legendgroup": "Snow/ice impact or accumulation",
         "marker": {
          "color": "rgb(58, 60, 125)",
          "pattern": {
           "shape": ""
          }
         },
         "name": "Snow/ice impact or accumulation",
         "offsetgroup": "Snow/ice impact or accumulation",
         "orientation": "h",
         "showlegend": true,
         "textposition": "auto",
         "type": "bar",
         "x": [
          1
         ],
         "xaxis": "x",
         "y": [
          "Natural Force Damage"
         ],
         "yaxis": "y"
        },
        {
         "alignmentgroup": "True",
         "hovertemplate": "Details=Temperature<br>Number of Incidents=%{x}<extra></extra>",
         "legendgroup": "Temperature",
         "marker": {
          "color": "rgb(62, 83, 160)",
          "pattern": {
           "shape": ""
          }
         },
         "name": "Temperature",
         "offsetgroup": "Temperature",
         "orientation": "h",
         "showlegend": true,
         "textposition": "auto",
         "type": "bar",
         "x": [
          34
         ],
         "xaxis": "x",
         "y": [
          "Natural Force Damage"
         ],
         "yaxis": "y"
        },
        {
         "alignmentgroup": "True",
         "hovertemplate": "Details=Miscellaneous<br>Number of Incidents=%{x}<extra></extra>",
         "legendgroup": "Miscellaneous",
         "marker": {
          "color": "rgb(62, 109, 178)",
          "pattern": {
           "shape": ""
          }
         },
         "name": "Miscellaneous",
         "offsetgroup": "Miscellaneous",
         "orientation": "h",
         "showlegend": true,
         "textposition": "auto",
         "type": "bar",
         "x": [
          34
         ],
         "xaxis": "x",
         "y": [
          "Other Incident Cause"
         ],
         "yaxis": "y"
        },
        {
         "alignmentgroup": "True",
         "hovertemplate": "Details=Unknown<br>Number of Incidents=%{x}<extra></extra>",
         "legendgroup": "Unknown",
         "marker": {
          "color": "rgb(72, 134, 187)",
          "pattern": {
           "shape": ""
          }
         },
         "name": "Unknown",
         "offsetgroup": "Unknown",
         "orientation": "h",
         "showlegend": true,
         "textposition": "auto",
         "type": "bar",
         "x": [
          34
         ],
         "xaxis": "x",
         "y": [
          "Other Incident Cause"
         ],
         "yaxis": "y"
        },
        {
         "alignmentgroup": "True",
         "hovertemplate": "Details=Damage by boats, barges, drilling rigs, or other maritime equipment or vessels set adrift or which have otherwise lost their mooring<br>Number of Incidents=%{x}<extra></extra>",
         "legendgroup": "Damage by boats, barges, drilling rigs, or other maritime equipment or vessels set adrift or which have otherwise lost their mooring",
         "marker": {
          "color": "rgb(89, 159, 196)",
          "pattern": {
           "shape": ""
          }
         },
         "name": "Damage by boats, barges, drilling rigs, or other maritime equipment or vessels set adrift or which have otherwise lost their mooring",
         "offsetgroup": "Damage by boats, barges, drilling rigs, or other maritime equipment or vessels set adrift or which have otherwise lost their mooring",
         "orientation": "h",
         "showlegend": true,
         "textposition": "auto",
         "type": "bar",
         "x": [
          2
         ],
         "xaxis": "x",
         "y": [
          "Other Outside Force Damage"
         ],
         "yaxis": "y"
        },
        {
         "alignmentgroup": "True",
         "hovertemplate": "Details=Damage by car, truck, or other motorized vehicle/equipment not engaged in excavation<br>Number of Incidents=%{x}<extra></extra>",
         "legendgroup": "Damage by car, truck, or other motorized vehicle/equipment not engaged in excavation",
         "marker": {
          "color": "rgb(114, 184, 205)",
          "pattern": {
           "shape": ""
          }
         },
         "name": "Damage by car, truck, or other motorized vehicle/equipment not engaged in excavation",
         "offsetgroup": "Damage by car, truck, or other motorized vehicle/equipment not engaged in excavation",
         "orientation": "h",
         "showlegend": true,
         "textposition": "auto",
         "type": "bar",
         "x": [
          46
         ],
         "xaxis": "x",
         "y": [
          "Other Outside Force Damage"
         ],
         "yaxis": "y"
        },
        {
         "alignmentgroup": "True",
         "hovertemplate": "Details=Electrical arcing from other equipment or facility<br>Number of Incidents=%{x}<extra></extra>",
         "legendgroup": "Electrical arcing from other equipment or facility",
         "marker": {
          "color": "rgb(149, 207, 216)",
          "pattern": {
           "shape": ""
          }
         },
         "name": "Electrical arcing from other equipment or facility",
         "offsetgroup": "Electrical arcing from other equipment or facility",
         "orientation": "h",
         "showlegend": true,
         "textposition": "auto",
         "type": "bar",
         "x": [
          5
         ],
         "xaxis": "x",
         "y": [
          "Other Outside Force Damage"
         ],
         "yaxis": "y"
        },
        {
         "alignmentgroup": "True",
         "hovertemplate": "Details=Intentional damage<br>Number of Incidents=%{x}<extra></extra>",
         "legendgroup": "Intentional damage",
         "marker": {
          "color": "rgb(192, 229, 232)",
          "pattern": {
           "shape": ""
          }
         },
         "name": "Intentional damage",
         "offsetgroup": "Intentional damage",
         "orientation": "h",
         "showlegend": true,
         "textposition": "auto",
         "type": "bar",
         "x": [
          1
         ],
         "xaxis": "x",
         "y": [
          "Other Outside Force Damage"
         ],
         "yaxis": "y"
        },
        {
         "alignmentgroup": "True",
         "hovertemplate": "Details=Nearby industrial, man-made, or other fire/explosion as primary cause of incident<br>Number of Incidents=%{x}<extra></extra>",
         "legendgroup": "Nearby industrial, man-made, or other fire/explosion as primary cause of incident",
         "marker": {
          "color": "rgb(234, 252, 253)",
          "pattern": {
           "shape": ""
          }
         },
         "name": "Nearby industrial, man-made, or other fire/explosion as primary cause of incident",
         "offsetgroup": "Nearby industrial, man-made, or other fire/explosion as primary cause of incident",
         "orientation": "h",
         "showlegend": true,
         "textposition": "auto",
         "type": "bar",
         "x": [
          7
         ],
         "xaxis": "x",
         "y": [
          "Other Outside Force Damage"
         ],
         "yaxis": "y"
        },
        {
         "alignmentgroup": "True",
         "hovertemplate": "Details=Other outside force damage<br>Number of Incidents=%{x}<extra></extra>",
         "legendgroup": "Other outside force damage",
         "marker": {
          "color": "rgb(3, 5, 18)",
          "pattern": {
           "shape": ""
          }
         },
         "name": "Other outside force damage",
         "offsetgroup": "Other outside force damage",
         "orientation": "h",
         "showlegend": true,
         "textposition": "auto",
         "type": "bar",
         "x": [
          22
         ],
         "xaxis": "x",
         "y": [
          "Other Outside Force Damage"
         ],
         "yaxis": "y"
        },
        {
         "alignmentgroup": "True",
         "hovertemplate": "Details=Previous mechanical damage not related to excavation<br>Number of Incidents=%{x}<extra></extra>",
         "legendgroup": "Previous mechanical damage not related to excavation",
         "marker": {
          "color": "rgb(25, 25, 51)",
          "pattern": {
           "shape": ""
          }
         },
         "name": "Previous mechanical damage not related to excavation",
         "offsetgroup": "Previous mechanical damage not related to excavation",
         "orientation": "h",
         "showlegend": true,
         "textposition": "auto",
         "type": "bar",
         "x": [
          1
         ],
         "xaxis": "x",
         "y": [
          "Other Outside Force Damage"
         ],
         "yaxis": "y"
        },
        {
         "alignmentgroup": "True",
         "hovertemplate": "Details=Routine or normal fishing or other maritime activity not engaged in excavation<br>Number of Incidents=%{x}<extra></extra>",
         "legendgroup": "Routine or normal fishing or other maritime activity not engaged in excavation",
         "marker": {
          "color": "rgb(44, 42, 87)",
          "pattern": {
           "shape": ""
          }
         },
         "name": "Routine or normal fishing or other maritime activity not engaged in excavation",
         "offsetgroup": "Routine or normal fishing or other maritime activity not engaged in excavation",
         "orientation": "h",
         "showlegend": true,
         "textposition": "auto",
         "type": "bar",
         "x": [
          11
         ],
         "xaxis": "x",
         "y": [
          "Other Outside Force Damage"
         ],
         "yaxis": "y"
        }
       ],
       "layout": {
        "barmode": "relative",
        "legend": {
         "title": {
          "text": "Details"
         },
         "tracegroupgap": 0
        },
        "showlegend": false,
        "template": {
         "data": {
          "bar": [
           {
            "error_x": {
             "color": "#2a3f5f"
            },
            "error_y": {
             "color": "#2a3f5f"
            },
            "marker": {
             "line": {
              "color": "#E5ECF6",
              "width": 0.5
             },
             "pattern": {
              "fillmode": "overlay",
              "size": 10,
              "solidity": 0.2
             }
            },
            "type": "bar"
           }
          ],
          "barpolar": [
           {
            "marker": {
             "line": {
              "color": "#E5ECF6",
              "width": 0.5
             },
             "pattern": {
              "fillmode": "overlay",
              "size": 10,
              "solidity": 0.2
             }
            },
            "type": "barpolar"
           }
          ],
          "carpet": [
           {
            "aaxis": {
             "endlinecolor": "#2a3f5f",
             "gridcolor": "white",
             "linecolor": "white",
             "minorgridcolor": "white",
             "startlinecolor": "#2a3f5f"
            },
            "baxis": {
             "endlinecolor": "#2a3f5f",
             "gridcolor": "white",
             "linecolor": "white",
             "minorgridcolor": "white",
             "startlinecolor": "#2a3f5f"
            },
            "type": "carpet"
           }
          ],
          "choropleth": [
           {
            "colorbar": {
             "outlinewidth": 0,
             "ticks": ""
            },
            "type": "choropleth"
           }
          ],
          "contour": [
           {
            "colorbar": {
             "outlinewidth": 0,
             "ticks": ""
            },
            "colorscale": [
             [
              0,
              "#0d0887"
             ],
             [
              0.1111111111111111,
              "#46039f"
             ],
             [
              0.2222222222222222,
              "#7201a8"
             ],
             [
              0.3333333333333333,
              "#9c179e"
             ],
             [
              0.4444444444444444,
              "#bd3786"
             ],
             [
              0.5555555555555556,
              "#d8576b"
             ],
             [
              0.6666666666666666,
              "#ed7953"
             ],
             [
              0.7777777777777778,
              "#fb9f3a"
             ],
             [
              0.8888888888888888,
              "#fdca26"
             ],
             [
              1,
              "#f0f921"
             ]
            ],
            "type": "contour"
           }
          ],
          "contourcarpet": [
           {
            "colorbar": {
             "outlinewidth": 0,
             "ticks": ""
            },
            "type": "contourcarpet"
           }
          ],
          "heatmap": [
           {
            "colorbar": {
             "outlinewidth": 0,
             "ticks": ""
            },
            "colorscale": [
             [
              0,
              "#0d0887"
             ],
             [
              0.1111111111111111,
              "#46039f"
             ],
             [
              0.2222222222222222,
              "#7201a8"
             ],
             [
              0.3333333333333333,
              "#9c179e"
             ],
             [
              0.4444444444444444,
              "#bd3786"
             ],
             [
              0.5555555555555556,
              "#d8576b"
             ],
             [
              0.6666666666666666,
              "#ed7953"
             ],
             [
              0.7777777777777778,
              "#fb9f3a"
             ],
             [
              0.8888888888888888,
              "#fdca26"
             ],
             [
              1,
              "#f0f921"
             ]
            ],
            "type": "heatmap"
           }
          ],
          "heatmapgl": [
           {
            "colorbar": {
             "outlinewidth": 0,
             "ticks": ""
            },
            "colorscale": [
             [
              0,
              "#0d0887"
             ],
             [
              0.1111111111111111,
              "#46039f"
             ],
             [
              0.2222222222222222,
              "#7201a8"
             ],
             [
              0.3333333333333333,
              "#9c179e"
             ],
             [
              0.4444444444444444,
              "#bd3786"
             ],
             [
              0.5555555555555556,
              "#d8576b"
             ],
             [
              0.6666666666666666,
              "#ed7953"
             ],
             [
              0.7777777777777778,
              "#fb9f3a"
             ],
             [
              0.8888888888888888,
              "#fdca26"
             ],
             [
              1,
              "#f0f921"
             ]
            ],
            "type": "heatmapgl"
           }
          ],
          "histogram": [
           {
            "marker": {
             "pattern": {
              "fillmode": "overlay",
              "size": 10,
              "solidity": 0.2
             }
            },
            "type": "histogram"
           }
          ],
          "histogram2d": [
           {
            "colorbar": {
             "outlinewidth": 0,
             "ticks": ""
            },
            "colorscale": [
             [
              0,
              "#0d0887"
             ],
             [
              0.1111111111111111,
              "#46039f"
             ],
             [
              0.2222222222222222,
              "#7201a8"
             ],
             [
              0.3333333333333333,
              "#9c179e"
             ],
             [
              0.4444444444444444,
              "#bd3786"
             ],
             [
              0.5555555555555556,
              "#d8576b"
             ],
             [
              0.6666666666666666,
              "#ed7953"
             ],
             [
              0.7777777777777778,
              "#fb9f3a"
             ],
             [
              0.8888888888888888,
              "#fdca26"
             ],
             [
              1,
              "#f0f921"
             ]
            ],
            "type": "histogram2d"
           }
          ],
          "histogram2dcontour": [
           {
            "colorbar": {
             "outlinewidth": 0,
             "ticks": ""
            },
            "colorscale": [
             [
              0,
              "#0d0887"
             ],
             [
              0.1111111111111111,
              "#46039f"
             ],
             [
              0.2222222222222222,
              "#7201a8"
             ],
             [
              0.3333333333333333,
              "#9c179e"
             ],
             [
              0.4444444444444444,
              "#bd3786"
             ],
             [
              0.5555555555555556,
              "#d8576b"
             ],
             [
              0.6666666666666666,
              "#ed7953"
             ],
             [
              0.7777777777777778,
              "#fb9f3a"
             ],
             [
              0.8888888888888888,
              "#fdca26"
             ],
             [
              1,
              "#f0f921"
             ]
            ],
            "type": "histogram2dcontour"
           }
          ],
          "mesh3d": [
           {
            "colorbar": {
             "outlinewidth": 0,
             "ticks": ""
            },
            "type": "mesh3d"
           }
          ],
          "parcoords": [
           {
            "line": {
             "colorbar": {
              "outlinewidth": 0,
              "ticks": ""
             }
            },
            "type": "parcoords"
           }
          ],
          "pie": [
           {
            "automargin": true,
            "type": "pie"
           }
          ],
          "scatter": [
           {
            "marker": {
             "colorbar": {
              "outlinewidth": 0,
              "ticks": ""
             }
            },
            "type": "scatter"
           }
          ],
          "scatter3d": [
           {
            "line": {
             "colorbar": {
              "outlinewidth": 0,
              "ticks": ""
             }
            },
            "marker": {
             "colorbar": {
              "outlinewidth": 0,
              "ticks": ""
             }
            },
            "type": "scatter3d"
           }
          ],
          "scattercarpet": [
           {
            "marker": {
             "colorbar": {
              "outlinewidth": 0,
              "ticks": ""
             }
            },
            "type": "scattercarpet"
           }
          ],
          "scattergeo": [
           {
            "marker": {
             "colorbar": {
              "outlinewidth": 0,
              "ticks": ""
             }
            },
            "type": "scattergeo"
           }
          ],
          "scattergl": [
           {
            "marker": {
             "colorbar": {
              "outlinewidth": 0,
              "ticks": ""
             }
            },
            "type": "scattergl"
           }
          ],
          "scattermapbox": [
           {
            "marker": {
             "colorbar": {
              "outlinewidth": 0,
              "ticks": ""
             }
            },
            "type": "scattermapbox"
           }
          ],
          "scatterpolar": [
           {
            "marker": {
             "colorbar": {
              "outlinewidth": 0,
              "ticks": ""
             }
            },
            "type": "scatterpolar"
           }
          ],
          "scatterpolargl": [
           {
            "marker": {
             "colorbar": {
              "outlinewidth": 0,
              "ticks": ""
             }
            },
            "type": "scatterpolargl"
           }
          ],
          "scatterternary": [
           {
            "marker": {
             "colorbar": {
              "outlinewidth": 0,
              "ticks": ""
             }
            },
            "type": "scatterternary"
           }
          ],
          "surface": [
           {
            "colorbar": {
             "outlinewidth": 0,
             "ticks": ""
            },
            "colorscale": [
             [
              0,
              "#0d0887"
             ],
             [
              0.1111111111111111,
              "#46039f"
             ],
             [
              0.2222222222222222,
              "#7201a8"
             ],
             [
              0.3333333333333333,
              "#9c179e"
             ],
             [
              0.4444444444444444,
              "#bd3786"
             ],
             [
              0.5555555555555556,
              "#d8576b"
             ],
             [
              0.6666666666666666,
              "#ed7953"
             ],
             [
              0.7777777777777778,
              "#fb9f3a"
             ],
             [
              0.8888888888888888,
              "#fdca26"
             ],
             [
              1,
              "#f0f921"
             ]
            ],
            "type": "surface"
           }
          ],
          "table": [
           {
            "cells": {
             "fill": {
              "color": "#EBF0F8"
             },
             "line": {
              "color": "white"
             }
            },
            "header": {
             "fill": {
              "color": "#C8D4E3"
             },
             "line": {
              "color": "white"
             }
            },
            "type": "table"
           }
          ]
         },
         "layout": {
          "annotationdefaults": {
           "arrowcolor": "#2a3f5f",
           "arrowhead": 0,
           "arrowwidth": 1
          },
          "autotypenumbers": "strict",
          "coloraxis": {
           "colorbar": {
            "outlinewidth": 0,
            "ticks": ""
           }
          },
          "colorscale": {
           "diverging": [
            [
             0,
             "#8e0152"
            ],
            [
             0.1,
             "#c51b7d"
            ],
            [
             0.2,
             "#de77ae"
            ],
            [
             0.3,
             "#f1b6da"
            ],
            [
             0.4,
             "#fde0ef"
            ],
            [
             0.5,
             "#f7f7f7"
            ],
            [
             0.6,
             "#e6f5d0"
            ],
            [
             0.7,
             "#b8e186"
            ],
            [
             0.8,
             "#7fbc41"
            ],
            [
             0.9,
             "#4d9221"
            ],
            [
             1,
             "#276419"
            ]
           ],
           "sequential": [
            [
             0,
             "#0d0887"
            ],
            [
             0.1111111111111111,
             "#46039f"
            ],
            [
             0.2222222222222222,
             "#7201a8"
            ],
            [
             0.3333333333333333,
             "#9c179e"
            ],
            [
             0.4444444444444444,
             "#bd3786"
            ],
            [
             0.5555555555555556,
             "#d8576b"
            ],
            [
             0.6666666666666666,
             "#ed7953"
            ],
            [
             0.7777777777777778,
             "#fb9f3a"
            ],
            [
             0.8888888888888888,
             "#fdca26"
            ],
            [
             1,
             "#f0f921"
            ]
           ],
           "sequentialminus": [
            [
             0,
             "#0d0887"
            ],
            [
             0.1111111111111111,
             "#46039f"
            ],
            [
             0.2222222222222222,
             "#7201a8"
            ],
            [
             0.3333333333333333,
             "#9c179e"
            ],
            [
             0.4444444444444444,
             "#bd3786"
            ],
            [
             0.5555555555555556,
             "#d8576b"
            ],
            [
             0.6666666666666666,
             "#ed7953"
            ],
            [
             0.7777777777777778,
             "#fb9f3a"
            ],
            [
             0.8888888888888888,
             "#fdca26"
            ],
            [
             1,
             "#f0f921"
            ]
           ]
          },
          "colorway": [
           "#636efa",
           "#EF553B",
           "#00cc96",
           "#ab63fa",
           "#FFA15A",
           "#19d3f3",
           "#FF6692",
           "#B6E880",
           "#FF97FF",
           "#FECB52"
          ],
          "font": {
           "color": "#2a3f5f"
          },
          "geo": {
           "bgcolor": "white",
           "lakecolor": "white",
           "landcolor": "#E5ECF6",
           "showlakes": true,
           "showland": true,
           "subunitcolor": "white"
          },
          "hoverlabel": {
           "align": "left"
          },
          "hovermode": "closest",
          "mapbox": {
           "style": "light"
          },
          "paper_bgcolor": "white",
          "plot_bgcolor": "#E5ECF6",
          "polar": {
           "angularaxis": {
            "gridcolor": "white",
            "linecolor": "white",
            "ticks": ""
           },
           "bgcolor": "#E5ECF6",
           "radialaxis": {
            "gridcolor": "white",
            "linecolor": "white",
            "ticks": ""
           }
          },
          "scene": {
           "xaxis": {
            "backgroundcolor": "#E5ECF6",
            "gridcolor": "white",
            "gridwidth": 2,
            "linecolor": "white",
            "showbackground": true,
            "ticks": "",
            "zerolinecolor": "white"
           },
           "yaxis": {
            "backgroundcolor": "#E5ECF6",
            "gridcolor": "white",
            "gridwidth": 2,
            "linecolor": "white",
            "showbackground": true,
            "ticks": "",
            "zerolinecolor": "white"
           },
           "zaxis": {
            "backgroundcolor": "#E5ECF6",
            "gridcolor": "white",
            "gridwidth": 2,
            "linecolor": "white",
            "showbackground": true,
            "ticks": "",
            "zerolinecolor": "white"
           }
          },
          "shapedefaults": {
           "line": {
            "color": "#2a3f5f"
           }
          },
          "ternary": {
           "aaxis": {
            "gridcolor": "white",
            "linecolor": "white",
            "ticks": ""
           },
           "baxis": {
            "gridcolor": "white",
            "linecolor": "white",
            "ticks": ""
           },
           "bgcolor": "#E5ECF6",
           "caxis": {
            "gridcolor": "white",
            "linecolor": "white",
            "ticks": ""
           }
          },
          "title": {
           "x": 0.05
          },
          "xaxis": {
           "automargin": true,
           "gridcolor": "white",
           "linecolor": "white",
           "ticks": "",
           "title": {
            "standoff": 15
           },
           "zerolinecolor": "white",
           "zerolinewidth": 2
          },
          "yaxis": {
           "automargin": true,
           "gridcolor": "white",
           "linecolor": "white",
           "ticks": "",
           "title": {
            "standoff": 15
           },
           "zerolinecolor": "white",
           "zerolinewidth": 2
          }
         }
        },
        "title": {
         "text": "Causes of Gas Transmission Line Incidents in Past 10 Years"
        },
        "xaxis": {
         "anchor": "y",
         "domain": [
          0,
          1
         ],
         "title": {
          "text": "Number of Incidents"
         }
        },
        "yaxis": {
         "anchor": "x",
         "domain": [
          0,
          1
         ],
         "title": {
          "text": "Accident Cause"
         }
        }
       }
      }
     },
     "metadata": {},
     "output_type": "display_data"
    }
   ],
   "source": [
    "\n",
    "# #trying with plotly express\n",
    "fig = px.bar(data_frame=Acc_Cause, y = 'Accident Cause', x = 'Number of Incidents', color = 'Details',\n",
    "            color_discrete_sequence= px.colors.sequential.ice, orientation='h', \n",
    "            title='Causes of Gas Transmission Line Incidents in Past 10 Years',hover_data={'Accident Cause':False}) #remove latitude form pipe)\n",
    "fig.update_layout(showlegend=False)\n",
    "fig.show()\n"
   ]
  },
  {
   "cell_type": "markdown",
   "metadata": {},
   "source": [
    "# Incidents in the Gas Distribution Network "
   ]
  },
  {
   "cell_type": "code",
   "execution_count": 12,
   "metadata": {},
   "outputs": [
    {
     "data": {
      "text/plain": [
       "(1314, 466)"
      ]
     },
     "execution_count": 12,
     "metadata": {},
     "output_type": "execute_result"
    }
   ],
   "source": [
    "# Working on Gas Distribution Accidents now:\n",
    "#changed encoding by saving as csv file again, tab delimited\n",
    "Gas_Dist_Accidents = pd.read_csv('data/incident_gas_distribution_jan2010_present.csv',low_memory=False) \n",
    "Gas_Dist_Accidents.sample(2)\n",
    "Gas_Dist_Accidents.shape\n"
   ]
  },
  {
   "cell_type": "code",
   "execution_count": 13,
   "metadata": {},
   "outputs": [
    {
     "data": {
      "text/html": [
       "<div>\n",
       "<style scoped>\n",
       "    .dataframe tbody tr th:only-of-type {\n",
       "        vertical-align: middle;\n",
       "    }\n",
       "\n",
       "    .dataframe tbody tr th {\n",
       "        vertical-align: top;\n",
       "    }\n",
       "\n",
       "    .dataframe thead th {\n",
       "        text-align: right;\n",
       "    }\n",
       "</style>\n",
       "<table border=\"1\" class=\"dataframe\">\n",
       "  <thead>\n",
       "    <tr style=\"text-align: right;\">\n",
       "      <th></th>\n",
       "      <th>REPORT_RECEIVED_DATE</th>\n",
       "      <th>IYEAR</th>\n",
       "      <th>NAME</th>\n",
       "      <th>LOCATION_STREET_ADDRESS</th>\n",
       "      <th>LOCATION_CITY_NAME</th>\n",
       "      <th>LOCATION_COUNTY_NAME</th>\n",
       "      <th>LOCATION_STATE_ABBREVIATION</th>\n",
       "      <th>LOCATION_POSTAL_CODE</th>\n",
       "      <th>LOCATION_LATITUDE</th>\n",
       "      <th>LOCATION_LONGITUDE</th>\n",
       "      <th>COMMODITY_RELEASED_TYPE</th>\n",
       "      <th>UNINTENTIONAL_RELEASE</th>\n",
       "      <th>INTENTIONAL_RELEASE</th>\n",
       "      <th>FATALITY_IND</th>\n",
       "      <th>NUM_EMP_FATALITIES</th>\n",
       "      <th>NUM_CONTR_FATALITIES</th>\n",
       "      <th>NUM_ER_FATALITIES</th>\n",
       "      <th>NUM_WORKER_FATALITIES</th>\n",
       "      <th>NUM_GP_FATALITIES</th>\n",
       "      <th>FATAL</th>\n",
       "      <th>INJURY_IND</th>\n",
       "      <th>NUM_EMP_INJURIES</th>\n",
       "      <th>NUM_CONTR_INJURIES</th>\n",
       "      <th>NUM_ER_INJURIES</th>\n",
       "      <th>NUM_WORKER_INJURIES</th>\n",
       "      <th>NUM_GP_INJURIES</th>\n",
       "      <th>INJURE</th>\n",
       "      <th>IGNITE_IND</th>\n",
       "      <th>IGNITE_DATETIME</th>\n",
       "      <th>HOW_EXTINGUISHED</th>\n",
       "      <th>GAS_CONSUMED_BY_FIRE_IN_MCF</th>\n",
       "      <th>EXPLODE_IND</th>\n",
       "      <th>NUM_PUB_EVACUATED</th>\n",
       "      <th>INCIDENT_AREA_TYPE</th>\n",
       "      <th>INCIDENT_AREA_SUBTYPE</th>\n",
       "      <th>INCIDENT_AREA_DETAILS</th>\n",
       "      <th>MATERIAL_INVOLVED</th>\n",
       "      <th>MATERIAL_DETAILS</th>\n",
       "      <th>RELEASE_TYPE</th>\n",
       "      <th>PUNCTURE_AXIAL</th>\n",
       "      <th>PUNCTURE_CIRCUM</th>\n",
       "      <th>CLASS_LOCATION_TYPE</th>\n",
       "      <th>EST_COST_OPER_PAID</th>\n",
       "      <th>EST_COST_PROP_DAMAGE</th>\n",
       "      <th>EST_COST_EMERGENCY</th>\n",
       "      <th>EST_COST_OTHER</th>\n",
       "      <th>GAS_COST_IN_MCF</th>\n",
       "      <th>EST_COST_UNINTENTIONAL_RELEASE</th>\n",
       "      <th>EST_COST_INTENTIONAL_RELEASE</th>\n",
       "      <th>CAUSE_DETAILS</th>\n",
       "      <th>CAUSE</th>\n",
       "    </tr>\n",
       "  </thead>\n",
       "  <tbody>\n",
       "    <tr>\n",
       "      <th>215</th>\n",
       "      <td>1/03/2020</td>\n",
       "      <td>2019</td>\n",
       "      <td>PHILADELPHIA GAS WORKS</td>\n",
       "      <td>1435 S. 8TH STREET</td>\n",
       "      <td>PHILADELPHIA</td>\n",
       "      <td>PHILADELPHIA</td>\n",
       "      <td>PA</td>\n",
       "      <td>19147</td>\n",
       "      <td>39.930770</td>\n",
       "      <td>-75.157868</td>\n",
       "      <td>NATURAL GAS</td>\n",
       "      <td>10.0</td>\n",
       "      <td>NaN</td>\n",
       "      <td>YES</td>\n",
       "      <td>0.0</td>\n",
       "      <td>0.0</td>\n",
       "      <td>0.0</td>\n",
       "      <td>0.0</td>\n",
       "      <td>2.0</td>\n",
       "      <td>2</td>\n",
       "      <td>NO</td>\n",
       "      <td>NaN</td>\n",
       "      <td>NaN</td>\n",
       "      <td>NaN</td>\n",
       "      <td>NaN</td>\n",
       "      <td>NaN</td>\n",
       "      <td>0</td>\n",
       "      <td>YES</td>\n",
       "      <td>NaN</td>\n",
       "      <td>NaN</td>\n",
       "      <td>NaN</td>\n",
       "      <td>YES</td>\n",
       "      <td>60.0</td>\n",
       "      <td>UNDERGROUND</td>\n",
       "      <td>UNDER PAVEMENT</td>\n",
       "      <td>NaN</td>\n",
       "      <td>CAST/WROUGHT IRON</td>\n",
       "      <td>NaN</td>\n",
       "      <td>RUPTURE</td>\n",
       "      <td>NaN</td>\n",
       "      <td>NaN</td>\n",
       "      <td>CLASS 4 LOCATION</td>\n",
       "      <td>1375900.0</td>\n",
       "      <td>1000.0</td>\n",
       "      <td>40000.0</td>\n",
       "      <td>0.0</td>\n",
       "      <td>NaN</td>\n",
       "      <td>20.0</td>\n",
       "      <td>NaN</td>\n",
       "      <td>OTHER OUTSIDE FORCE DAMAGE</td>\n",
       "      <td>OTHER OUTSIDE FORCE DAMAGE</td>\n",
       "    </tr>\n",
       "    <tr>\n",
       "      <th>1060</th>\n",
       "      <td>3/13/2012</td>\n",
       "      <td>2012</td>\n",
       "      <td>METROPOLITAN UTILITIES DISTRICT</td>\n",
       "      <td>4213 S 37TH STREET</td>\n",
       "      <td>OMAHA</td>\n",
       "      <td>DOUGLAS</td>\n",
       "      <td>NE</td>\n",
       "      <td>68107</td>\n",
       "      <td>41.218051</td>\n",
       "      <td>-95.968372</td>\n",
       "      <td>NATURAL GAS</td>\n",
       "      <td>NaN</td>\n",
       "      <td>NaN</td>\n",
       "      <td>NO</td>\n",
       "      <td>NaN</td>\n",
       "      <td>NaN</td>\n",
       "      <td>NaN</td>\n",
       "      <td>NaN</td>\n",
       "      <td>NaN</td>\n",
       "      <td>0</td>\n",
       "      <td>NO</td>\n",
       "      <td>NaN</td>\n",
       "      <td>NaN</td>\n",
       "      <td>NaN</td>\n",
       "      <td>NaN</td>\n",
       "      <td>NaN</td>\n",
       "      <td>0</td>\n",
       "      <td>YES</td>\n",
       "      <td>NaN</td>\n",
       "      <td>NaN</td>\n",
       "      <td>NaN</td>\n",
       "      <td>YES</td>\n",
       "      <td>0.0</td>\n",
       "      <td>ABOVEGROUND</td>\n",
       "      <td>INSIDE A BUILDING</td>\n",
       "      <td>NaN</td>\n",
       "      <td>STEEL</td>\n",
       "      <td>NaN</td>\n",
       "      <td>LEAK</td>\n",
       "      <td>NaN</td>\n",
       "      <td>NaN</td>\n",
       "      <td>CLASS 1 LOCATION</td>\n",
       "      <td>50000.0</td>\n",
       "      <td>2000.0</td>\n",
       "      <td>0.0</td>\n",
       "      <td>0.0</td>\n",
       "      <td>NaN</td>\n",
       "      <td>1000.0</td>\n",
       "      <td>NaN</td>\n",
       "      <td>INTENTIONAL DAMAGE</td>\n",
       "      <td>OTHER OUTSIDE FORCE DAMAGE</td>\n",
       "    </tr>\n",
       "    <tr>\n",
       "      <th>758</th>\n",
       "      <td>3/26/2015</td>\n",
       "      <td>2015</td>\n",
       "      <td>PACIFIC GAS &amp; ELECTRIC CO</td>\n",
       "      <td>ELK-GROVE FLORIN RD AND GERBER RD</td>\n",
       "      <td>SACRAMENTO</td>\n",
       "      <td>SACRAMENTO</td>\n",
       "      <td>CA</td>\n",
       "      <td>95829</td>\n",
       "      <td>38.481793</td>\n",
       "      <td>-121.367310</td>\n",
       "      <td>NATURAL GAS</td>\n",
       "      <td>293.0</td>\n",
       "      <td>NaN</td>\n",
       "      <td>NO</td>\n",
       "      <td>NaN</td>\n",
       "      <td>NaN</td>\n",
       "      <td>NaN</td>\n",
       "      <td>NaN</td>\n",
       "      <td>NaN</td>\n",
       "      <td>0</td>\n",
       "      <td>NO</td>\n",
       "      <td>NaN</td>\n",
       "      <td>NaN</td>\n",
       "      <td>NaN</td>\n",
       "      <td>NaN</td>\n",
       "      <td>NaN</td>\n",
       "      <td>0</td>\n",
       "      <td>NO</td>\n",
       "      <td>NaN</td>\n",
       "      <td>NaN</td>\n",
       "      <td>NaN</td>\n",
       "      <td>NO</td>\n",
       "      <td>0.0</td>\n",
       "      <td>UNDERGROUND</td>\n",
       "      <td>UNDER SOIL</td>\n",
       "      <td>NaN</td>\n",
       "      <td>PLASTIC</td>\n",
       "      <td>NaN</td>\n",
       "      <td>MECHANICAL PUNCTURE</td>\n",
       "      <td>1.0</td>\n",
       "      <td>1.0</td>\n",
       "      <td>CLASS 3 LOCATION</td>\n",
       "      <td>0.0</td>\n",
       "      <td>163600.0</td>\n",
       "      <td>0.0</td>\n",
       "      <td>0.0</td>\n",
       "      <td>NaN</td>\n",
       "      <td>1260.0</td>\n",
       "      <td>NaN</td>\n",
       "      <td>EXCAVATION DAMAGE BY THIRD PARTY</td>\n",
       "      <td>EXCAVATION DAMAGE</td>\n",
       "    </tr>\n",
       "  </tbody>\n",
       "</table>\n",
       "</div>"
      ],
      "text/plain": [
       "     REPORT_RECEIVED_DATE  IYEAR                             NAME  \\\n",
       "215             1/03/2020   2019           PHILADELPHIA GAS WORKS   \n",
       "1060            3/13/2012   2012  METROPOLITAN UTILITIES DISTRICT   \n",
       "758             3/26/2015   2015        PACIFIC GAS & ELECTRIC CO   \n",
       "\n",
       "                LOCATION_STREET_ADDRESS LOCATION_CITY_NAME  \\\n",
       "215                  1435 S. 8TH STREET       PHILADELPHIA   \n",
       "1060                 4213 S 37TH STREET              OMAHA   \n",
       "758   ELK-GROVE FLORIN RD AND GERBER RD         SACRAMENTO   \n",
       "\n",
       "     LOCATION_COUNTY_NAME LOCATION_STATE_ABBREVIATION LOCATION_POSTAL_CODE  \\\n",
       "215          PHILADELPHIA                          PA                19147   \n",
       "1060              DOUGLAS                          NE                68107   \n",
       "758            SACRAMENTO                          CA                95829   \n",
       "\n",
       "      LOCATION_LATITUDE  LOCATION_LONGITUDE COMMODITY_RELEASED_TYPE  \\\n",
       "215           39.930770          -75.157868             NATURAL GAS   \n",
       "1060          41.218051          -95.968372             NATURAL GAS   \n",
       "758           38.481793         -121.367310             NATURAL GAS   \n",
       "\n",
       "      UNINTENTIONAL_RELEASE  INTENTIONAL_RELEASE FATALITY_IND  \\\n",
       "215                    10.0                  NaN          YES   \n",
       "1060                    NaN                  NaN           NO   \n",
       "758                   293.0                  NaN           NO   \n",
       "\n",
       "      NUM_EMP_FATALITIES  NUM_CONTR_FATALITIES  NUM_ER_FATALITIES  \\\n",
       "215                  0.0                   0.0                0.0   \n",
       "1060                 NaN                   NaN                NaN   \n",
       "758                  NaN                   NaN                NaN   \n",
       "\n",
       "      NUM_WORKER_FATALITIES  NUM_GP_FATALITIES  FATAL INJURY_IND  \\\n",
       "215                     0.0                2.0      2         NO   \n",
       "1060                    NaN                NaN      0         NO   \n",
       "758                     NaN                NaN      0         NO   \n",
       "\n",
       "      NUM_EMP_INJURIES  NUM_CONTR_INJURIES  NUM_ER_INJURIES  \\\n",
       "215                NaN                 NaN              NaN   \n",
       "1060               NaN                 NaN              NaN   \n",
       "758                NaN                 NaN              NaN   \n",
       "\n",
       "      NUM_WORKER_INJURIES  NUM_GP_INJURIES  INJURE IGNITE_IND IGNITE_DATETIME  \\\n",
       "215                   NaN              NaN       0        YES             NaN   \n",
       "1060                  NaN              NaN       0        YES             NaN   \n",
       "758                   NaN              NaN       0         NO             NaN   \n",
       "\n",
       "     HOW_EXTINGUISHED  GAS_CONSUMED_BY_FIRE_IN_MCF EXPLODE_IND  \\\n",
       "215               NaN                          NaN         YES   \n",
       "1060              NaN                          NaN         YES   \n",
       "758               NaN                          NaN          NO   \n",
       "\n",
       "      NUM_PUB_EVACUATED INCIDENT_AREA_TYPE INCIDENT_AREA_SUBTYPE  \\\n",
       "215                60.0        UNDERGROUND        UNDER PAVEMENT   \n",
       "1060                0.0        ABOVEGROUND     INSIDE A BUILDING   \n",
       "758                 0.0        UNDERGROUND            UNDER SOIL   \n",
       "\n",
       "     INCIDENT_AREA_DETAILS  MATERIAL_INVOLVED MATERIAL_DETAILS  \\\n",
       "215                    NaN  CAST/WROUGHT IRON              NaN   \n",
       "1060                   NaN              STEEL              NaN   \n",
       "758                    NaN            PLASTIC              NaN   \n",
       "\n",
       "             RELEASE_TYPE  PUNCTURE_AXIAL  PUNCTURE_CIRCUM  \\\n",
       "215               RUPTURE             NaN              NaN   \n",
       "1060                 LEAK             NaN              NaN   \n",
       "758   MECHANICAL PUNCTURE             1.0              1.0   \n",
       "\n",
       "     CLASS_LOCATION_TYPE  EST_COST_OPER_PAID  EST_COST_PROP_DAMAGE  \\\n",
       "215     CLASS 4 LOCATION           1375900.0                1000.0   \n",
       "1060    CLASS 1 LOCATION             50000.0                2000.0   \n",
       "758     CLASS 3 LOCATION                 0.0              163600.0   \n",
       "\n",
       "      EST_COST_EMERGENCY  EST_COST_OTHER  GAS_COST_IN_MCF  \\\n",
       "215              40000.0             0.0              NaN   \n",
       "1060                 0.0             0.0              NaN   \n",
       "758                  0.0             0.0              NaN   \n",
       "\n",
       "      EST_COST_UNINTENTIONAL_RELEASE  EST_COST_INTENTIONAL_RELEASE  \\\n",
       "215                             20.0                           NaN   \n",
       "1060                          1000.0                           NaN   \n",
       "758                           1260.0                           NaN   \n",
       "\n",
       "                         CAUSE_DETAILS                       CAUSE  \n",
       "215         OTHER OUTSIDE FORCE DAMAGE  OTHER OUTSIDE FORCE DAMAGE  \n",
       "1060                INTENTIONAL DAMAGE  OTHER OUTSIDE FORCE DAMAGE  \n",
       "758   EXCAVATION DAMAGE BY THIRD PARTY           EXCAVATION DAMAGE  "
      ]
     },
     "execution_count": 13,
     "metadata": {},
     "output_type": "execute_result"
    }
   ],
   "source": [
    "req_clmns =  []\n",
    "with open('data/Gas_Dist_required_columns.txt') as f: #importing the list of required columns form the text file\n",
    "    lines = f.readlines()\n",
    "f.close()\n",
    "for l in lines:\n",
    "    req_clmns.append(l.strip()) #getting rid of the \"\\n\" escape character\n",
    "Gas_Dist_Acc = Gas_Dist_Accidents[req_clmns]\n",
    "\n",
    "Gas_Dist_Acc.shape\n",
    "Gas_Dist_Acc.sample(3)"
   ]
  },
  {
   "cell_type": "markdown",
   "metadata": {},
   "source": [
    "There is an outlier in the longitude column (large negative number), so we find it and drop that whole row so we can do the plotting "
   ]
  },
  {
   "cell_type": "code",
   "execution_count": 14,
   "metadata": {},
   "outputs": [
    {
     "name": "stderr",
     "output_type": "stream",
     "text": [
      "C:\\Users\\Ramin\\AppData\\Local\\Temp\\ipykernel_1632\\970168688.py:2: SettingWithCopyWarning:\n",
      "\n",
      "\n",
      "A value is trying to be set on a copy of a slice from a DataFrame\n",
      "\n",
      "See the caveats in the documentation: https://pandas.pydata.org/pandas-docs/stable/user_guide/indexing.html#returning-a-view-versus-a-copy\n",
      "\n"
     ]
    },
    {
     "data": {
      "text/plain": [
       "(1313, 51)"
      ]
     },
     "execution_count": 14,
     "metadata": {},
     "output_type": "execute_result"
    }
   ],
   "source": [
    "drop_row_index = Gas_Dist_Acc['LOCATION_LONGITUDE'].idxmin() #getting the row index for the minimum oulier \n",
    "Gas_Dist_Acc.drop(Gas_Dist_Acc.index[drop_row_index], inplace = True)\n",
    "Gas_Dist_Acc.shape #So we dropped one row"
   ]
  },
  {
   "cell_type": "markdown",
   "metadata": {},
   "source": [
    "Lets try plotting the incident locations again"
   ]
  },
  {
   "cell_type": "code",
   "execution_count": 15,
   "metadata": {},
   "outputs": [
    {
     "name": "stdout",
     "output_type": "stream",
     "text": [
      "<class 'pandas.core.series.Series'>\n",
      "Int64Index: 1313 entries, 0 to 1313\n",
      "Series name: IYEAR\n",
      "Non-Null Count  Dtype\n",
      "--------------  -----\n",
      "1313 non-null   int64\n",
      "dtypes: int64(1)\n",
      "memory usage: 20.5 KB\n"
     ]
    }
   ],
   "source": [
    "Gas_Dist_Acc[\"IYEAR\"].info()"
   ]
  },
  {
   "cell_type": "code",
   "execution_count": 16,
   "metadata": {},
   "outputs": [
    {
     "data": {
      "application/vnd.plotly.v1+json": {
       "config": {
        "plotlyServerURL": "https://plot.ly"
       },
       "data": [
        {
         "lat": [
          39.00109,
          42.28157,
          34.95438,
          31.14115952,
          40.67355,
          39.2018171,
          41.99251,
          40.439621,
          39.281937,
          30.35105,
          34.97731,
          42.67834,
          40.8186061,
          38.932673,
          47.20414,
          35.057065,
          40.48334,
          38.94813,
          44.361722,
          39.070664,
          42.48993,
          33.1411569,
          31.441874,
          40.678626,
          44.07769794,
          42.99606,
          33.861299,
          38.883132,
          30.37995,
          47.813426,
          41.39615,
          30.142049,
          39.774932,
          36.68630315,
          34.368962,
          35.14925,
          41.732585,
          38.65029,
          35.6803838,
          42.2924734,
          42.42682,
          33.32135,
          37.325993,
          32.40987,
          35.376639,
          41.95415,
          40.0144098,
          36.711178,
          46.05344525,
          33.813098,
          41.45906,
          30.00217,
          38.94855244,
          38.811646,
          37.750002,
          34.12315,
          37.75,
          42.4916507,
          34.770622,
          46.28317076,
          42.20228,
          42.4845752,
          41.21948,
          35.927711,
          40.8473585,
          41.83222459,
          39.4005646,
          41.0148748,
          34.730237,
          42.290927,
          42.47862,
          34.040663,
          33.936905,
          41.515507,
          39.236957,
          41.653824,
          39.048505,
          42.341091,
          40.156496,
          48.3929,
          34.124885,
          30.03052778,
          33.866843,
          43.31130675,
          37.63863,
          33.42151,
          37.3454759,
          28.2382138,
          42.68862,
          34.151299,
          41.59512,
          36.840245,
          34.84964,
          38.45199,
          40.33907,
          35.5571,
          39.410421,
          38.64508,
          35.095437,
          43.80773,
          41.651319,
          34.050989,
          40.455345,
          32.902339,
          41.095368,
          30.092136,
          37.124201,
          33.919659,
          26.54792,
          42.95756,
          42.46618,
          43.16177787,
          42.89379,
          41.21095,
          27.4737805,
          35.228647,
          34.09499,
          38.45443,
          41.1293734,
          32.84759,
          33.561626,
          42.10411,
          40.636734,
          41.04099,
          35.151289,
          40.864375,
          34.131038,
          40.052244,
          40.362638,
          26.32707,
          41.04610177,
          39.222719,
          44.57308,
          38.550153,
          42.5046454,
          43.82347,
          39.638382,
          33.00731805,
          32.73388311,
          32.94559754,
          39.6166369,
          35.3235023,
          30.7500017,
          33.747426,
          42.221879,
          40.395384,
          35.068473,
          42.541453,
          40.813258,
          40.175262,
          35.908167,
          32.035638,
          40.60268006,
          40.8488456,
          33.04269314,
          35.134278,
          34.022791,
          35.563724,
          40.892459,
          35.236768,
          32.753253,
          38.95707,
          40.1212107,
          44.903122,
          35.3476,
          40.887121,
          39.244543,
          47.19080341,
          36.13821,
          40.996875,
          32.244389,
          34.866436,
          35.7995286,
          41.283554,
          30.1759,
          34.109949,
          43.80576,
          41.588735,
          35.44681,
          44.920019,
          34.090417,
          36.4867,
          40.399493,
          34.021335,
          32.69147696,
          36.161536,
          42.5555,
          40.6096116,
          35.26942143,
          33.05693,
          31.12097,
          27.96178,
          37.04427,
          39.310081,
          39.192124,
          39.024972,
          29.2126156,
          41.6371981,
          33.754582,
          40.612236,
          36.14814,
          34.551563,
          32.73449576,
          43.49656495,
          34.057975,
          40.695799,
          40.646379,
          40.7407324,
          33.747189,
          32.57850952,
          42.39258,
          39.99765,
          38.876062,
          39.93077,
          38.796653,
          40.758888,
          35.14693,
          32.82939889,
          26.2459503,
          37.127205,
          42.44997512,
          40.9164844,
          35.355617,
          48.4227516,
          39.856809,
          28.6616313,
          45.3835169,
          45.77285,
          35.82937,
          41.479437,
          36.41281,
          42.90156,
          40.332339,
          33.414436,
          33.90801,
          47.13890119,
          37.507892,
          42.332072,
          32.80855,
          35.98396,
          45.775836,
          34.920003,
          44.927657,
          47.703736,
          32.454706,
          41.51014,
          42.92207986,
          25.8025931,
          32.78918,
          33.95882,
          42.697083,
          34.25578635,
          39.179792,
          42.24795,
          48.94293791,
          41.29049,
          40.643509,
          30.389624,
          38.607125,
          39.543774,
          39.191001,
          39.700831,
          41.191679,
          35.1817,
          43.335524,
          32.734161,
          43.15782,
          41.60566,
          43.957957,
          42.747073,
          43.47672,
          42.694087,
          40.163007,
          42.010326,
          33.921168,
          27.75983,
          27.3261803,
          33.008034,
          44.8729794,
          40.39623262,
          33.597365,
          34.043235,
          35.620212,
          36.59283,
          33.459478,
          33.46452,
          33.680462,
          44.6952068,
          36.599561,
          40.61877,
          35.770212,
          28.4249337,
          29.36546,
          39.11662,
          40.530747,
          32.33212,
          35.43325,
          34.01256,
          36.13286,
          40.146025,
          41.11904,
          42.690709,
          26.5001998,
          38.41920853,
          43.075637,
          33.97081,
          39.422037,
          44.7454237,
          39.517837,
          38.635086,
          39.69741,
          43.453624,
          44.620435,
          44.715935,
          36.11406,
          35.59599,
          40.2841,
          39.48781,
          40.0162101,
          29.33,
          39.977699,
          39.784836,
          36.7331,
          47.093572,
          40.817461,
          42.686456,
          40.548839,
          36.352845,
          40.712043,
          38.81815,
          30.660434,
          38.902275,
          40.586376,
          44.06407,
          46.85863,
          33.51822,
          32.2178,
          33.93537,
          37.781899,
          32.7319078,
          41.43026,
          42.620444,
          38.75909,
          41.38932,
          32.813889,
          33.498349,
          35.574758,
          47.465604,
          46.80183,
          40.758381,
          35.863588,
          39.097184,
          38.48131,
          34.828607,
          32.07746361,
          42.310703,
          38.600054,
          46.0052,
          29.51632,
          32.70225,
          38.607848,
          42.342155,
          40.79198,
          40.24815,
          34.242078,
          32.82089613,
          38.120566,
          35.09698,
          42.479251,
          34.176875,
          39.66669,
          35.195236,
          40.091926,
          41.57965,
          39.778656,
          46.920087,
          41.190709,
          42.16171,
          30.1848,
          42.997306,
          35.261048,
          43.881404,
          41.289142,
          31.171145,
          39.058136,
          40.293443,
          36.22191,
          34.865142,
          41.73243,
          32.75876,
          42.6970057,
          33.470207,
          41.4228291,
          39.172587,
          47.46361,
          41.918146,
          31.036907,
          41.25732,
          41.43362,
          40.57992,
          36.5761,
          38.785644,
          32.87923,
          35.17504,
          39.10005,
          43.18331,
          40.7090818,
          42.680238,
          36.08204,
          36.13234,
          39.272676,
          42.39583,
          33.42206,
          40.727042,
          42.122087,
          41.115336,
          42.63454,
          41.884938,
          42.637704,
          36.31315,
          35.707755,
          30.52648,
          33.795252,
          38.215802,
          32.73395668,
          34.7186781,
          34.278506,
          38.52153,
          31.88333,
          32.8157,
          36.1176,
          37.869219,
          37.613331,
          29.90064,
          39.534873,
          37.331404,
          44.077564,
          34.022936,
          41.2407615,
          40.7851556,
          32.868106,
          40.6732956,
          41.511057,
          45.470957,
          32.74607,
          29.963473,
          34.11119,
          40.5864732,
          35.236628,
          43.0955314,
          40.117316,
          40.31906,
          36.0881,
          38.945987,
          42.715755,
          34.44606,
          35.9194,
          32.8511,
          42.2893068,
          33.72657,
          43.051734,
          41.24539978,
          33.466092,
          33.41276,
          33.32378,
          40.797129,
          35.27515,
          29.549072,
          40.7406859,
          34.241614,
          40.03575,
          37.734279,
          40.86163,
          39.633933,
          37.47661389,
          30.423614,
          37.6672,
          41.737495,
          33.576644,
          40.06891,
          35.33238897,
          38.426845,
          40.63016,
          32.76861,
          34.297784,
          42.8178,
          42.441053,
          36.03489,
          36.03787,
          32.7914,
          30.35303,
          41.817045,
          26.382656,
          38.077466,
          33.983077,
          30.078014,
          39.01507,
          35.61239,
          39.489406,
          43.049037,
          41.42824,
          44.946042,
          34.501136,
          42.734004,
          38.190379,
          38.96345,
          40.491176,
          33.90539,
          41.7305439,
          40.946678,
          33.50884,
          33.93333,
          38.025655,
          39.99802,
          40.347,
          39.221466,
          34.16021,
          47.521368,
          38.843024,
          33.55278,
          39.724889,
          41.711483,
          39.822591,
          32.902032,
          32.506237,
          40.057931,
          48.492939,
          34.14168,
          33.43812,
          38.522463,
          34.152476,
          40.28656,
          41.6997572,
          40.264,
          40.741895,
          41.813932,
          32.75828,
          40.51139,
          26.429885,
          40.9831423,
          32.78189,
          40.900325,
          40.747104,
          37.2831,
          40.6136543,
          36.5181,
          32.313615,
          45.04997,
          39.743558,
          34.37586,
          42.767656,
          29.56291,
          38.664614,
          34.04138,
          47.405795,
          42.37612,
          46.6016247,
          34.13882,
          43.81091,
          39.09511,
          44.66117,
          40.761704,
          46.75156,
          39.954324,
          39.63788,
          40.74782,
          36.0387,
          33.843129,
          41.630913,
          43.644039,
          39.9460732,
          28.055878,
          36.7943684,
          44.808694,
          40.556604,
          37.325732,
          40.63849,
          34.246887,
          36.80512,
          35.94208,
          42.4275728,
          33.812904,
          40.8243619,
          45.526403,
          39.936713,
          41.620039,
          36.018809,
          38.927672,
          36.21789,
          40.883197,
          40.683504,
          38.79811,
          26.325352,
          41.555628,
          34.107492,
          39.89194,
          38.748834,
          40.871339,
          29.996969,
          39.523879,
          41.62146,
          32.74378,
          36.884045,
          37.85146,
          30.007778,
          38.804261,
          39.4406,
          38.998431,
          36.31452,
          38.54835,
          36.855325,
          35.17246,
          40.416981,
          42.808176,
          33.63905,
          34.17725,
          32.488265,
          36.18097,
          27.172346,
          37.07272,
          37.36045,
          34.15533,
          42.425929,
          42.293083,
          43.025673,
          38.45693,
          37.79479,
          42.6281,
          30.68552,
          42.369644,
          33.76217014,
          38.047465,
          38.4818111,
          42.05839,
          33.811634,
          39.284661,
          40.6986,
          40.86841,
          34.07168,
          41.25695,
          40.41304,
          34.803601,
          29.920002,
          40.674182,
          39.317028,
          32.96057,
          39.66683,
          37.860282,
          36.2618845,
          32.07963,
          29.56082,
          38.24229,
          47.690159,
          39.738278,
          47.534412,
          29.75525,
          34.687412,
          38.629945,
          34.12523,
          42.200444,
          40.48225405,
          40.69559,
          38.646504,
          43.18643,
          40.71739,
          43.056667,
          38.51881,
          37.8297311,
          42.240728,
          40.26187,
          39.973308,
          41.255766,
          34.23735,
          35.596363,
          40.86503531,
          40.747862,
          42.9336,
          42.210076,
          32.8302374,
          38.469277,
          41.879769,
          40.463555,
          39.08694,
          39.43055556,
          37.983035,
          40.578385,
          38.55578319,
          36.532058,
          36.086333,
          42.90061,
          34.176842,
          39.20951,
          32.34912,
          39.501151,
          39.661005,
          43.147486,
          32.29973,
          37.3602052,
          47.34156,
          32.7148,
          34.02732,
          39.09483,
          42.742308,
          28.97743,
          44.722822,
          33.18951,
          44.844427,
          33.533912,
          33.87888,
          40.713783,
          40.399639,
          39.213154,
          35.429724,
          38.0250737,
          37.59002,
          42.551879,
          35.114495,
          47.580534,
          45.01106,
          44.370098,
          40.662012,
          40.901488,
          29.787447,
          43.012721,
          36.769017,
          41.76875301,
          40.744034,
          34.803601,
          37.984481,
          47.980522,
          34.10379,
          40.243747,
          42.651527,
          27.316655,
          40.756831,
          34.05188,
          42.96816,
          45.136,
          40.713783,
          34.829886,
          33.757011,
          40.027082,
          37.098066,
          46.26445,
          38.98462,
          42.6012386,
          36.042,
          40.685314,
          39.05099,
          42.331424,
          32.73761,
          38.48179267,
          26.351202,
          39.685893,
          42.845262,
          42.188512,
          42.93507,
          42.030736,
          42.104731,
          42.55498,
          40.072335,
          40.907022,
          42.5730468,
          42.22634,
          35.4359,
          29.835381,
          35.99701,
          34.065478,
          33.760091,
          37.6322916,
          37.3264805,
          48.271908,
          31.982191,
          37.76591,
          32.34174,
          33.24877,
          32.727443,
          39.2002,
          39.83037,
          30.4484895,
          41.414137,
          41.698583,
          39.701624,
          38.816387,
          35.02201,
          40.20874,
          41.469832,
          41.3590019,
          29.60675,
          37.299287,
          33.05555,
          30.459133,
          37.334882,
          29.93081,
          26.710577,
          41.582431,
          47.17952,
          38.144527,
          40.632374,
          40.06565,
          41.967313,
          42.312144,
          36.19584,
          36.2065424,
          42.158912,
          40.70302259,
          37.379565,
          30.87625,
          44.43551,
          37.908733,
          38.01632,
          36.06031,
          39.0815362,
          37.485431,
          34.76994416,
          38.1762914,
          41.749864,
          36.61555,
          33.168687,
          40.05645,
          42.8079,
          35.298215,
          42.407942,
          33.607372,
          42.882085,
          32.71534,
          36.77407,
          37.297058,
          39.98106,
          35.498425,
          40.77201,
          31.7587198,
          35.2065,
          37.9872528,
          37.758036,
          42.725605,
          39.07343,
          33.46044,
          45.04689,
          37.338551,
          34.1508,
          37.315744,
          41.033958,
          42.675428,
          42.150384,
          40.668152,
          42.208528,
          47.562271,
          43.128632,
          42.916603,
          38.746189,
          42.440755,
          38.440628,
          35.029177,
          40.799726,
          36.16656,
          40.27527,
          36.559244,
          42.678464,
          46.4335,
          39.296749,
          42.64765,
          34.08131,
          27.679884,
          40.2885,
          33.33881,
          45.410759,
          38.60611,
          38.35225,
          39.92752,
          42.49951,
          40.595881,
          42.696793,
          29.47893,
          37.5768,
          42.484299,
          33.74404,
          43.434911,
          39.77971,
          42.325644,
          32.842312,
          33.54152,
          33.832421,
          47.33157,
          29.62098,
          39.697635,
          40.841234,
          40.634961,
          42.352282,
          34.11289,
          29.656481,
          39.28271,
          33.49541,
          36.713365,
          33.58864,
          40.699594,
          29.600463,
          38.941703,
          42.260076,
          42.01983,
          42.2425631,
          42.024798,
          47.03937773,
          38.85453,
          43.9874,
          36.052497,
          40.436247,
          37.77151,
          34.01404,
          42.51515,
          41.896209,
          27.605655,
          45.163983,
          40.03211,
          34.575791,
          39.05935,
          43.177701,
          29.55188,
          37.41031,
          38.687976,
          40.967746,
          40.39461,
          32.45059,
          37.271008,
          36.19568,
          29.987406,
          37.66074,
          40.595676,
          41.087078,
          33.576211,
          41.5503,
          40.8342275,
          31.389349,
          41.6789,
          32.190917,
          37.70833,
          41.704081,
          41.6356,
          40.88891,
          33.7882,
          35.40481,
          37.37821,
          29.97825,
          47.68826996,
          37.632738,
          41.605892,
          41.6008,
          40.7079967,
          35.487738,
          41.03323,
          40.367527,
          39.0836,
          41.537557,
          36.809411,
          40.874818,
          37.8755,
          29.79999,
          40.85807,
          42.527098,
          39.040734,
          40.482119,
          40.05111,
          41.910158,
          41.703615,
          42.584906,
          41.41754,
          36.097244,
          41.12043,
          39.091901,
          33.61885,
          40.476659,
          36.469147,
          34.74227,
          37.191143,
          41.070181,
          47.232115,
          33.0463,
          40.814695,
          35.374107,
          30.315239,
          32.34882,
          39.823959,
          33.817803,
          29.212384,
          48.196065,
          42.10668,
          40.9887674,
          46.42374,
          37.333513,
          42.26288,
          42.5742,
          44.00571201,
          40.64082,
          40.58025,
          40.677355,
          40.734333,
          42.34731,
          43.26759,
          42.533976,
          39.0108333,
          29.47446,
          40.8301779,
          34.139668,
          40.770543,
          27.734063,
          40.74992,
          26.76273,
          33.707586,
          40.898975,
          27.79235,
          41.503408,
          35.71412,
          35.43983,
          34.083346,
          34.130389,
          40.147621,
          40.7016,
          38.654723,
          40.802053,
          37.708333,
          38.74721,
          37.83563,
          44.725788,
          41.04342,
          39.038275,
          41.817075,
          41.090652,
          33.789462,
          38.90999,
          37.72621,
          37.72221,
          34.268648,
          36.6842,
          37.29691,
          42.73236,
          41.60969499,
          40.69168,
          40.114943,
          44.98683,
          38.92603,
          47.662222,
          37.54541,
          35.5350894,
          37.76461,
          41.271642,
          41.50293,
          39.391726,
          40.871372,
          41.218051,
          41.06938,
          41.0964221,
          36.197239,
          42.3832652,
          31.78078,
          39.281787,
          34.03382,
          44.480445,
          39.15944,
          39.0333333,
          42.39893,
          40.845582,
          41.205345,
          41.139192,
          30.3375,
          37.481657,
          42.8303,
          29.948651,
          40.000706,
          28.49454,
          33.673618,
          38.10537,
          38.787087,
          36.17176,
          41.77141,
          39.75647,
          35.24256,
          38.2978,
          39.2701769,
          45.51289039,
          36.00706,
          40.0084,
          41.2115065,
          27.72763,
          42.96297,
          41.036919,
          36.32798,
          42.407864,
          40.927382,
          47.7182699,
          43.22585,
          30.081846,
          39.64268,
          47.518956,
          42.87703,
          40.703518,
          36.71125,
          37.33701,
          40.98452,
          33.755744,
          37.77259,
          27.68275,
          42.679202,
          27.795335,
          38.636331,
          46.192946,
          40.017804,
          37.3006,
          45.084365,
          45.097431,
          39.7,
          39.255215,
          42.820279,
          32.80772,
          36.14512,
          46.569211,
          41.246044,
          35.26549,
          38.22929,
          44.96277,
          45.801152,
          40.728042,
          47.57274,
          40.723948,
          39.35888934,
          41.9163798,
          40.719386,
          29.963382,
          40.6652,
          36.12345,
          47.33258,
          45.02228,
          39.05235,
          39.854736,
          35.10729,
          41.0191609,
          36.79412,
          38.79919,
          42.16134,
          39.70728,
          41.71070031,
          35.26534,
          40.37217,
          40.796536,
          44.29011,
          44.95584,
          40.7334946,
          42.0986111,
          40.815656,
          39.34868,
          39.28364474,
          41.4822,
          33.77388,
          41.43011,
          41.4906679,
          35.96392859,
          38.99176,
          39.1969739,
          39.36596,
          42.2697,
          30.455744,
          40.60709,
          43.32491,
          35.593432,
          41.84811,
          39.10195372,
          34,
          38.3335,
          38.725169,
          40.7202674,
          42.912954,
          41.7431,
          42.6,
          40.8191886,
          38.94869,
          40.026622,
          40.879437,
          32.618367,
          38.69176,
          37.6659,
          39.740515,
          38.80943,
          33.37117,
          41.5095,
          38.84606,
          42.287791,
          39.43855,
          29.210117,
          41.5831655,
          38.88067,
          40.805669,
          41.83488,
          38.210025,
          40.887987,
          41.670832,
          38.96176,
          30.2791833,
          41.095645,
          41.68797,
          39.7479,
          40.810353,
          42.24113,
          39.44099,
          40.90677,
          45.66203267,
          34.6118,
          41.644834,
          42.43825,
          43.1321423,
          42.750461,
          47.68005653,
          37.9959,
          41.67507,
          40.72945,
          41.212557,
          39.756837,
          44.2901,
          30.52762,
          37.79,
          40.723422,
          31.7094593,
          39.34519444,
          39.81258,
          41.20049,
          44.75364,
          33.487142,
          42.97495,
          38.7521235,
          38.9092,
          40.38601,
          41.292013,
          42.18004,
          37.36941,
          35.179613,
          41.525199,
          33.98678,
          32.90867,
          39.04272,
          37.56499,
          34.11529,
          33.783125,
          36.16131,
          38.52971,
          36.04843,
          29.88414,
          36.64449,
          35.13179,
          40.0709,
          40.45291,
          39.156051,
          43.65361,
          37.341508,
          40.948871,
          41.940448,
          37.92844,
          42.66279,
          41.85975,
          32.7908,
          38.28953,
          48.36786,
          39.06433,
          30.720014,
          40.39501,
          39.99159,
          37.6375,
          40.41451,
          34.49312,
          45.09051,
          38.0964,
          40.87962,
          35.45715,
          39.066895,
          35.53268,
          31.67165,
          41.87809,
          28.3555,
          41.23509,
          40.35894,
          44.91285,
          34.10934,
          36.7435,
          42.03668,
          29.74993,
          39.72825,
          41.72931,
          37.93188,
          41.0237,
          38.5373,
          37.44182,
          36.90101,
          44.9096,
          32.8541,
          34.80663,
          42.5267815,
          41.4765,
          33.893734,
          40.51114,
          42.3688146,
          42.06137,
          38.77112,
          40.7732,
          35.23153
         ],
         "lon": [
          -77.05131,
          -85.57218,
          -82.466539,
          -97.34459203,
          -74.009,
          -106.8607683,
          -71.48644,
          -79.899509,
          -76.704405,
          -97.58847,
          -79.23282,
          -83.30903,
          -73.8955749,
          -80.83713,
          -120.98314,
          -80.593644,
          -104.98375,
          -76.89004,
          -89.094372,
          -94.588428,
          -83.14136,
          -96.6793497,
          -88.197026,
          -73.895864,
          -103.237473,
          -83.73677,
          -79.092041,
          -76.759413,
          -91.277763,
          -116.880287,
          -88.944209,
          -96.382068,
          -86.23243,
          -121.6773487,
          -83.804188,
          -79.00925,
          -87.87868,
          -77.32773,
          -105.9243061,
          -83.1425552,
          -71.45641,
          -111.92575,
          -121.911497,
          -87.020595,
          -89.74427,
          -77.442767,
          -75.3265299,
          -76.273372,
          -118.3787914,
          -84.354187,
          -81.64961,
          -91.49558,
          -80.87228056,
          -77.64578,
          -81.137488,
          -84.392014,
          -81.81667,
          -90.7506735,
          -86.829577,
          -119.0877897,
          -83.26569,
          -91.4585804,
          -73.10062,
          -94.185636,
          -96.6822531,
          -87.79326145,
          -76.7124795,
          -74.034904,
          -92.418769,
          -85.577437,
          -75.54291,
          -118.475559,
          -118.148063,
          -88.23533,
          -85.950161,
          -83.695416,
          -77.119242,
          -83.060799,
          -74.099283,
          -107.0867,
          -118.378316,
          -95.56555556,
          -84.18238,
          -112.0653728,
          -82.25288,
          -112.06494,
          -82.8681908,
          -82.3615656,
          -84.27692,
          -118.604681,
          -70.60605,
          -76.137112,
          -92.11634,
          -77.1425,
          -76.42664,
          -77.597708,
          -75.032218,
          -121.30848,
          -106.614959,
          -76.0193,
          -83.548099,
          -118.238064,
          -79.97899,
          -79.985598,
          -75.326474,
          -96.072948,
          -76.532021,
          -84.291118,
          -80.04302,
          -86.01317,
          -83.02023,
          -77.70871212,
          -83.6506,
          -95.99487,
          -82.5704721,
          -80.915775,
          -118.14232,
          -82.54555,
          -81.6344553,
          -96.80673,
          -86.814843,
          -80.100425,
          -73.743665,
          -79.50848,
          -85.27097,
          -97.616653,
          -84.758134,
          -86.9062382,
          -80.188425,
          -98.28078,
          -88.87215095,
          -84.356968,
          -92.59186,
          -82.613676,
          -90.6738271,
          -96.70168,
          -79.981814,
          -96.68221731,
          -97.35241204,
          -96.62117925,
          -106.9500181,
          -94.3421119,
          -86.481265,
          -116.996123,
          -122.817256,
          -84.184434,
          -81.648205,
          -83.786951,
          -96.671531,
          -80.298543,
          -78.960356,
          -81.072418,
          -112.45469,
          -73.9637356,
          -96.80544499,
          -117.929436,
          -118.503475,
          -121.082395,
          -80.856872,
          -80.829397,
          -117.103524,
          -95.2521699,
          -75.307121,
          -93.130992,
          -80.56077,
          -74.011547,
          -94.590304,
          -122.2937847,
          -115.19848,
          -85.145068,
          -80.999985,
          -92.405425,
          -78.6303226,
          -80.527737,
          -93.2244,
          -84.52452,
          -84.386069,
          -85.848918,
          -97.54797,
          -92.944151,
          -118.374357,
          -119.2803,
          -79.145934,
          -101.527029,
          -97.06108939,
          -96.226041,
          -89.011268,
          -111.9375194,
          -80.84736417,
          -97.01127,
          -97.8713,
          -82.461629,
          -93.253877,
          -84.464813,
          -106.826324,
          -77.391685,
          -82.0860112,
          -87.1205648,
          -84.481799,
          -73.993575,
          -95.87196,
          -77.925285,
          -96.82257394,
          -112.0548281,
          -118.275783,
          -82.562557,
          -88.774788,
          -74.061145,
          -84.306022,
          -97.35308635,
          -83.23674,
          -83.0346,
          -77.010649,
          -75.157868,
          -77.325328,
          -74.048278,
          -97.6528,
          -96.95211393,
          -80.2533146,
          -88.757613,
          -83.05853222,
          -81.7632056,
          -94.208762,
          -122.3292046,
          -88.92265,
          -81.3989182,
          -94.7132776,
          -108.49718,
          -83.59339,
          -81.483215,
          -119.13352,
          -77.41969,
          -74.788795,
          -82.039988,
          -88.00915,
          -119.2785201,
          -77.184236,
          -72.645019,
          -96.96016,
          -78.89859,
          -92.68384,
          -82.445493,
          -93.604123,
          -122.343314,
          -83.620262,
          -79.69914,
          -112.8494916,
          -80.1265346,
          -117.254457,
          -112.7118,
          -71.163293,
          -88.97626144,
          -93.895058,
          -83.48686,
          -122.4406627,
          -82.78316,
          -73.704015,
          -97.74646,
          -90.585885,
          -119.876894,
          -76.818052,
          -91.153452,
          -73.889588,
          -85.2233,
          -84.463756,
          -117.14834,
          -77.559743,
          -73.86486,
          -94.797298,
          -73.681105,
          -84.069948,
          -83.200648,
          -80.252453,
          -88.267074,
          -84.464255,
          -98.07167,
          -80.3242468,
          -117.046997,
          -93.4568951,
          -111.7461374,
          -117.211516,
          -83.973394,
          -117.811741,
          -82.18895,
          -104.506227,
          -111.92604,
          -84.530696,
          -93.2368961,
          -94.449958,
          -73.722643,
          -91.62532,
          -81.6198238,
          -95.08938,
          -94.561447,
          -74.417316,
          -90.26573,
          -80.60115,
          -117.50705,
          -96.04744,
          -104.974903,
          -81.45703,
          -83.304207,
          -81.8541729,
          -88.99169922,
          -86.202413,
          -117.7502,
          -86.400087,
          -93.263215,
          -111.582155,
          -90.432765,
          -105.25469,
          -76.533052,
          -93.452157,
          -93.398632,
          -115.13796,
          -78.54286,
          -76.6544,
          -106.04119,
          -74.3101675,
          -98.51689,
          -74.261813,
          -76.672373,
          -97.04424,
          -104.758935,
          -91.160774,
          -83.124073,
          -80.245529,
          -79.697152,
          -73.968144,
          -120.02029,
          -97.69123,
          -76.845593,
          -111.648972,
          -92.48856,
          -96.76805,
          -86.81965,
          -110.83233,
          -83.978842,
          -122.454401,
          -97.2451167,
          -81.79026,
          -83.272313,
          -82.98471,
          -82.35938,
          -96.846389,
          -99.687506,
          -82.502529,
          -121.996208,
          -96.80138,
          -73.856754,
          -101.965062,
          -76.81826,
          -120.84966,
          -102.370766,
          -81.080208,
          -88.14511,
          -90.273915,
          -112.5157,
          -98.68695,
          -96.55512,
          -90.246456,
          -82.998826,
          -73.97437,
          -74.73595,
          -119.157956,
          -97.02651041,
          -122.579743,
          -78.08936,
          -83.250207,
          -118.120736,
          -104.8264,
          -88.243384,
          -74.219957,
          -87.23865,
          -121.576107,
          -122.568257,
          -95.97409,
          -83.40306,
          -97.7597,
          -83.554559,
          -80.841056,
          -84.488004,
          -96.22908,
          -84.740584,
          -94.909503,
          -80.031659,
          -115.32369,
          -82.307992,
          -122.63827,
          -97.69826,
          -71.17532,
          -117.076163,
          -97.3417571,
          -78.127344,
          -111.31722,
          -87.689201,
          -82.74689,
          -77.27101,
          -81.80123,
          -122.427875,
          -84.19916,
          -121.318716,
          -96.94119,
          -107.815644,
          -94.564111,
          -89.21366,
          -73.95123819,
          -83.207376,
          -96.03574,
          -115.16353,
          -76.608326,
          -83.484014,
          -82.028664,
          -73.953387,
          -83.179768,
          -95.954891,
          -83.087184,
          -71.066969,
          -83.18579,
          -96.463191,
          -119.82419,
          -96.71029,
          -84.294737,
          -85.5912,
          -97.09631264,
          -81.6378851,
          -118.604442,
          -106.10621,
          -102.30167,
          -97.17772,
          -96.11907,
          -122.248805,
          -122.392387,
          -90.3881,
          -119.804895,
          -121.937411,
          -103.150081,
          -84.2617,
          -73.986778,
          -82.49163333,
          -96.859732,
          -73.5181833,
          -81.450219,
          -98.490929,
          -97.09763,
          -90.07146,
          -118.21657,
          -73.9868439,
          -101.724335,
          -75.1975277,
          -85.5998397,
          -74.0379,
          -115.32332,
          -94.386923,
          -71.174819,
          -119.65253,
          -85.039,
          -96.9504,
          -71.117988,
          -116.943,
          -83.679589,
          -75.86124569,
          -84.048312,
          -111.64512,
          -105.65083,
          -81.634377,
          -120.65664,
          -98.461436,
          -73.928386,
          -85.266947,
          -82.97868,
          -122.425643,
          -73.906349,
          -86.328748,
          -121.9383551,
          -90.116869,
          -121.2787,
          -83.724526,
          -84.270017,
          -75.175333,
          -81.91716979,
          -122.551837,
          -111.807,
          -96.81201,
          -84.240202,
          -84.6056,
          -83.144726,
          -115.1102,
          -80.33379,
          -96.8285,
          -98.08693,
          -88.205295,
          -80.077226,
          -122.233758,
          -118.334,
          -94.076806,
          -95.59237,
          -95.5809,
          -119.753343,
          -83.517821,
          -82.0614,
          -93.205926,
          -84.869833,
          -84.660759,
          -121.321087,
          -94.63854,
          -122.295546,
          -117.22782,
          -71.2852426,
          -74.146751,
          -112.20291,
          -116.89109,
          -122.028485,
          -76.37392,
          -83.767,
          -106.349158,
          -118.59018,
          -122.31218,
          -94.519512,
          -112.20351,
          -122.104321,
          -87.7139,
          -104.924223,
          -97.041499,
          -84.96249,
          -105.031261,
          -122.333826,
          -117.59341,
          -112.22179,
          -90.319661,
          -109.973736,
          -84.125627,
          -71.4669849,
          -85.692,
          -73.989308,
          -71.406001,
          -97.32871,
          -80.22867,
          -81.779997,
          -73.7850393,
          -96.79212,
          -98.339731,
          -73.894374,
          -107.1009,
          -74.11528,
          -119.58656,
          -90.862901,
          -123.5014,
          -85.43199,
          -84.94043,
          -114.463375,
          -95.82322,
          -121.13603,
          -117.67053,
          -120.332825,
          -83.05348,
          -120.5304217,
          -117.85605,
          -116.687843,
          -121.67211,
          -111.10896,
          -73.980295,
          -88.45619,
          -83.075861,
          -79.97714,
          -73.860639,
          -94.2553,
          -117.742001,
          -87.950473,
          -116.499927,
          -75.2189365,
          -80.618263,
          -119.86177,
          -106.974187,
          -90.033663,
          -121.913024,
          -73.947208,
          -111.321156,
          -79.37849,
          -86.65972,
          -71.0235477,
          -84.354262,
          -73.9528411,
          -122.698367,
          -83.76686999,
          -88.129629,
          -101.827624,
          -104.830791,
          -115.15418,
          -73.905976,
          -73.967724,
          -97.61291,
          -81.762512,
          -87.370272,
          -83.878376,
          -105.76639,
          -77.448281,
          -80.885325,
          -92.280062,
          -77.01525,
          -80.3256,
          -117.25346,
          -76.408695,
          -101.8998325,
          -89.254444,
          -90.554903,
          -87.42311,
          -77.001087,
          -119.30276,
          -122.47375,
          -101.214839,
          -106.559818,
          -74.123134,
          -70.889677,
          -86.5687,
          -118.61455,
          -93.749549,
          -115.328,
          -82.479968,
          -120.86202,
          -121.83937,
          -118.38139,
          -83.104056,
          -83.17532,
          -83.07737,
          -81.49815,
          -80.30133,
          -83.69,
          -97.71607,
          -83.020507,
          -84.41702914,
          -97.36116704,
          -121.368765,
          -87.866109,
          -84.312419,
          -89.883213,
          -75.3927,
          -82.30799,
          -118.30192,
          -111.94786,
          -79.84341,
          -92.368787,
          -95.089766,
          -74.102086,
          -84.505248,
          -97.24778,
          -75.488681,
          -122.124958,
          -79.8553128,
          -96.47521,
          -95.81327,
          -81.52948,
          -122.355652,
          -77.091946,
          -122.34774,
          -95.46023,
          -118.13067,
          -90.194248,
          -94.11923,
          -83.483266,
          -106.8241032,
          -73.992042,
          -77.277534,
          -112.296287,
          -74.00694,
          -77.629766,
          -83.84138,
          -122.2217097,
          -83.144992,
          -75.086326,
          -86.032889,
          -95.930814,
          -118.91729,
          -97.646919,
          -73.9034028,
          -73.938941,
          -72.2781,
          -83.32151,
          -109.7514824,
          -90.348257,
          -70.931013,
          -81.0021,
          -94.51118,
          -91.07305556,
          -121.299697,
          -73.989348,
          -121.4873185,
          -89.058866,
          -95.761478,
          -78.66199,
          -84.795813,
          -76.89771,
          -96.78448,
          -104.718929,
          -75.514218,
          -83.881753,
          -97.04576,
          -121.9963574,
          -122.39379,
          -117.10982,
          -118.5016,
          -94.55277,
          -84.537508,
          -95.98214,
          -93.1410609,
          -87.55012,
          -93.387056,
          -84.308789,
          -117.65042,
          -73.828299,
          -79.858406,
          -94.479094,
          -101.16921,
          -121.3456191,
          -122.032807,
          -83.180369,
          -85.264042,
          -122.1489,
          -99.96047,
          -84.772122,
          -73.919579,
          -82.589641,
          -95.310475,
          -83.654125,
          -76.013322,
          -93.45639186,
          -96.648896,
          -92.368787,
          -86.711864,
          -122.182205,
          -118.32954,
          -82.861975,
          -84.53009,
          -80.373502,
          -73.969595,
          -118.062,
          -84.081998,
          -90.3428,
          -73.828299,
          -87.689174,
          -84.734502,
          -83.057943,
          -94.476095,
          -96.05534,
          -104.76484,
          -71.185445,
          -84.26687,
          -73.983327,
          -95.740186,
          -83.14834,
          -96.65918,
          -121.3673103,
          -80.115319,
          -74.269918,
          -71.392025,
          -71.152043,
          -70.82003,
          -70.738945,
          -70.759835,
          -83.45174,
          -75.19776,
          -72.361801,
          -71.4042069,
          -84.39365,
          -97.33745,
          -95.533681,
          -114.93314,
          -117.989361,
          -87.1863975,
          -122.4183799,
          -121.8183325,
          -116.556563,
          -102.1121304,
          -122.21141,
          -90.27477,
          -111.63506,
          -96.683248,
          -86.06731,
          -104.92417,
          -97.8057337,
          -75.625221,
          -87.676177,
          -75.692135,
          -94.512043,
          -89.84539,
          -85.38235,
          -75.608954,
          -73.738288,
          -95.792358,
          -121.956275,
          -89.6013,
          -90.123614,
          -121.892209,
          -95.71052,
          -80.042052,
          -87.173083,
          -113.48519,
          -87.2101,
          -74.142818,
          -82.46498,
          -88.730729,
          -85.579072,
          -115.1068,
          -121.134979,
          -79.391295,
          -81.43497065,
          -121.899979,
          -90.00519,
          -92.641726,
          -122.097246,
          -84.55332,
          -115.11143,
          -94.5759609,
          -94.023752,
          -92.26350222,
          -122.3025574,
          -87.568608,
          -79.39871,
          -96.907977,
          -82.4079,
          -73.93872,
          -106.590738,
          -82.957011,
          -117.927783,
          -85.829144,
          -117.11181,
          -76.1807,
          -120.452655,
          -75.81461,
          -97.636646,
          -97.052311,
          -106.4869314,
          -102.07238,
          -121.852895,
          -122.445381,
          -82.884546,
          -95.673023,
          -112.16915,
          -93.05544,
          -121.786256,
          -118.63572,
          -120.476306,
          -73.86543,
          -71.223979,
          -77.055112,
          -73.855376,
          -88.002067,
          -122.66911,
          -83.694108,
          -82.631324,
          -77.092148,
          -82.991686,
          -90.30054,
          -85.362655,
          -73.943401,
          -115.1556,
          -74.83299,
          -121.916774,
          -83.389884,
          -120.414,
          -76.579084,
          -84.512992,
          -117.68963,
          -97.37217,
          -87.25223,
          -111.74895,
          -111.013908,
          -90.20825,
          -77.5537833,
          -75.17276,
          -88.27437,
          -74.102582,
          -84.672486,
          -98.43526,
          -97.2813,
          -71.276802,
          -116.97504,
          -84.163717,
          -105.11002,
          -71.716733,
          -97.209967,
          -86.72377,
          -82.138102,
          -94.60835,
          -95.30391,
          -85.446315,
          -73.841374,
          -74.028953,
          -88.066404,
          -117.97437,
          -81.644806,
          -80.96579,
          -117.1107,
          -110.246344,
          -112.22937,
          -73.826303,
          -95.464665,
          -79.949524,
          -79.710279,
          -97.42717,
          -96.9837372,
          -88.271677,
          -91.6677917,
          -94.70529,
          -84.48115,
          -95.965218,
          -79.253229,
          -122.13561,
          -117.34374,
          -71.241569,
          -71.520863,
          -97.222936,
          -84.933007,
          -75.32882,
          -112.441977,
          -76.887289,
          -83.654776,
          -98.37176,
          -120.85351,
          -121.061657,
          -73.736322,
          -74.313117,
          -97.00451,
          -121.848892,
          -115.07869,
          -95.338885,
          -118.88844,
          -73.793539,
          -73.931658,
          -83.175854,
          -81.5837,
          -73.851659,
          -82.138102,
          -83.58924,
          -82.623689,
          -97.28805,
          -73.882583,
          -83.52742,
          -73.860669,
          -117.96869,
          -118.99131,
          -121.83101,
          -90.065316,
          -117.3931186,
          -77.585855,
          -87.337194,
          -111.836,
          -74.0035268,
          -120.669109,
          -73.77553,
          -74.656705,
          -108.56056,
          -73.024394,
          -119.76611,
          -73.056839,
          -122.2737,
          -95.258148,
          -97.997968,
          -83.19306,
          -94.598063,
          -78.424708,
          -105.22583,
          -71.265726,
          -73.902029,
          -71.7894,
          -73.368561,
          -115.14579,
          -83.17673,
          -84.462267,
          -97.14789,
          -78.435917,
          -86.651952,
          -86.58928,
          -88.759725,
          -73.800082,
          -122.463065,
          -96.98908,
          -73.894013,
          -97.556865,
          -97.536654,
          -106.8312,
          -75.052967,
          -117.887265,
          -95.39894,
          -101.304379,
          -72.589386,
          -73.8087485,
          -117.02699,
          -85.333451,
          -77.78879,
          -71.7903,
          -122.9104377,
          -73.591245,
          -74.21993,
          -73.406815,
          -73.628959,
          -71.54964,
          -86.36114,
          -71.501589,
          -95.6819444,
          -98.62625,
          -73.869565,
          -118.379288,
          -74.229907,
          -97.38411,
          -74.24354,
          -80.05291,
          -116.242673,
          -73.846185,
          -97.44733,
          -109.458665,
          -105.944521,
          -87.29021,
          -117.724146,
          -118.025013,
          -83.096366,
          -86.8714,
          -90.281959,
          -73.19725,
          -97.3,
          -121.29941,
          -94.71851,
          -93.556488,
          -73.80153,
          -76.6732055,
          -71.335288,
          -73.917915,
          -116.431907,
          -77.02786,
          -122.40301,
          -121.74511,
          -86.075097,
          -121.6618,
          -122.00521,
          -112.879093,
          -93.88878899,
          -74.24858,
          -82.437077,
          -93.241719,
          -77.03064,
          -122.143113,
          -122.36571,
          -98.6800844,
          -120.83821,
          -96.24395,
          -81.48168,
          -76.738363,
          -73.916494,
          -95.968372,
          -73.800167,
          -73.8024256,
          -86.319842,
          -70.9914725,
          -106.31386,
          -76.657506,
          -118.20324,
          -103.812254,
          -96.62944,
          -95.7538333,
          -83.25644,
          -73.9360559,
          -73.980909,
          -73.765009,
          -97.73361,
          -100.842365,
          -73.91655,
          -95.389665,
          -80.25642,
          -82.5551,
          -84.460849,
          -85.66293,
          -84.370505,
          -94.18351,
          -87.74121,
          -84.18146,
          -96.24546,
          -85.79506,
          -76.59675143,
          -122.9770225,
          -115.11393,
          -76.3583,
          -73.8756739,
          -97.413674,
          -85.73494,
          -73.778912,
          -119.68401,
          -82.91242,
          -73.779546,
          -122.322723,
          -86.23800001,
          -95.630501,
          -119.73048,
          -122.625644,
          -74.04329,
          -73.700831,
          -107.99254,
          -122.02891,
          -74.28336,
          -84.729459,
          -87.9343,
          -97.37949,
          -73.846482,
          -97.39966,
          -90.530507,
          -93.761349,
          -98.068415,
          -77.2618,
          -93.295627,
          -93.334117,
          -105.103,
          -77.274962,
          -83.26156,
          -97.44253,
          -85.525387,
          -90.917795,
          -96.0143324,
          -80.59923,
          -104.62515,
          -93.229839,
          -108.551448,
          -73.980236,
          -122.339778,
          -73.819954,
          -76.67928892,
          -88.3167764,
          -89.329475,
          -90.080429,
          -74.21737,
          -83.16789,
          -118.685117,
          -93.226879,
          -76.94492,
          -75.391891,
          -89.97421,
          -73.693895,
          -75.99687,
          -77.61574,
          -95.79342,
          -105.0007,
          -81.2337373,
          -118.90854,
          -80.34421,
          -73.937428,
          -94.43977,
          -93.16957,
          -73.9932039,
          -75.9183333,
          -73.888379,
          -120.10775,
          -76.87815903,
          -81.6261,
          -118.03905,
          -82.06786,
          -87.6709175,
          -79.0491377,
          -76.92526,
          -76.73837859,
          -77.17566,
          -83.1541,
          -91.163762,
          -75.48794,
          -76.41104,
          -105.212779,
          -72.60319,
          -76.81643218,
          -82,
          -75.6322,
          -90.27523,
          -73.7554868,
          -76.4932571,
          -81.2744,
          -72.38,
          -73.9522576,
          -76.94807,
          -75.042423,
          -73.917542,
          -90.040897,
          -90.275,
          -120.9157,
          -75.613266,
          -76.98805,
          -86.66799,
          -74.20715,
          -77.13995,
          -83.384096,
          -119.757737,
          -90.050133,
          -88.9080725,
          -77.42052,
          -73.96438,
          -90.16831,
          -90.390337,
          -73.8604007,
          -87.654722,
          -76.96484,
          -87.68415,
          -73.802806,
          -83.49829,
          -90.24753,
          -73.88104,
          -71.13693,
          -84.2193,
          -73.819407,
          -122.6356286,
          -86.06668,
          -88.612042,
          -96.36933,
          -77.3910167,
          -84.547737,
          -116.8069518,
          -121.8391,
          -86.25078,
          -106.278968,
          -95.997656,
          -75.517246,
          -94.4397,
          -84.12823,
          -97.629,
          -92.872749,
          -83.652757,
          -95.10539167,
          -85.13606,
          -96.24264,
          -93.275893,
          -82.072715,
          -83.639305,
          -121.2880059,
          -76.9321,
          -122.27781,
          -96.033921,
          -122.66162,
          -122.14601,
          -106.682288,
          -81.562186,
          -118.25964,
          -117.14829,
          -77.17866,
          -77.38374,
          -84.33882,
          -84.342363,
          -115.15177,
          -121.46589,
          -85.25952,
          -95.46865,
          -79.36426,
          -119.45341,
          -122.1624,
          -122.30559,
          -89.475194,
          -83.94444,
          -82.452554,
          -73.702631,
          -87.885422,
          -121.30614,
          -83.61297,
          -87.744903,
          -79.9461,
          -85.63128,
          -114.18395,
          -76.85888,
          -88.15109,
          -80.366364,
          -75.38002,
          -120.9416,
          -74.59403,
          -84.91118,
          -93.299,
          -85.58459,
          -74.1748,
          -97.523294,
          -84.276334,
          -106.19313,
          -97.10032,
          -87.63693,
          -80.7141,
          -89.93011,
          -111.73885,
          -93.33624,
          -109.8601,
          -108.3338,
          -87.94307,
          -94.84157,
          -105.03351,
          -86.27531,
          -121.26133,
          -80.5988,
          -121.4608,
          -77.46601,
          -111.45333,
          -93.1852,
          -96.99403,
          -87.67568,
          -71.0940244,
          -81.7421,
          -98.529339,
          -74.40806,
          -71.2392235,
          -88.26303,
          -90.22929,
          -124.1528,
          -101.81651
         ],
         "marker": {
          "autocolorscale": false,
          "cmax": 2022,
          "cmin": 2010,
          "color": [
           2022,
           2022,
           2022,
           2022,
           2022,
           2022,
           2022,
           2022,
           2022,
           2022,
           2022,
           2022,
           2022,
           2022,
           2022,
           2022,
           2021,
           2021,
           2021,
           2021,
           2021,
           2021,
           2021,
           2021,
           2021,
           2021,
           2021,
           2021,
           2021,
           2021,
           2021,
           2021,
           2021,
           2021,
           2021,
           2021,
           2021,
           2021,
           2021,
           2021,
           2021,
           2021,
           2021,
           2021,
           2021,
           2021,
           2021,
           2021,
           2021,
           2021,
           2021,
           2021,
           2021,
           2021,
           2021,
           2021,
           2021,
           2021,
           2021,
           2021,
           2021,
           2021,
           2021,
           2021,
           2021,
           2021,
           2021,
           2021,
           2021,
           2021,
           2021,
           2021,
           2021,
           2021,
           2021,
           2021,
           2021,
           2021,
           2021,
           2021,
           2021,
           2021,
           2021,
           2021,
           2021,
           2021,
           2021,
           2021,
           2021,
           2021,
           2021,
           2021,
           2021,
           2021,
           2021,
           2021,
           2021,
           2021,
           2021,
           2021,
           2021,
           2021,
           2021,
           2021,
           2020,
           2020,
           2020,
           2020,
           2020,
           2020,
           2020,
           2020,
           2020,
           2020,
           2020,
           2020,
           2020,
           2020,
           2020,
           2020,
           2020,
           2020,
           2020,
           2020,
           2020,
           2020,
           2020,
           2020,
           2020,
           2020,
           2020,
           2020,
           2020,
           2020,
           2020,
           2020,
           2020,
           2020,
           2020,
           2020,
           2020,
           2020,
           2020,
           2020,
           2020,
           2020,
           2020,
           2020,
           2020,
           2020,
           2020,
           2020,
           2020,
           2020,
           2020,
           2020,
           2020,
           2020,
           2020,
           2020,
           2020,
           2020,
           2020,
           2020,
           2020,
           2020,
           2020,
           2020,
           2020,
           2020,
           2020,
           2020,
           2020,
           2020,
           2020,
           2020,
           2020,
           2020,
           2020,
           2020,
           2020,
           2020,
           2020,
           2020,
           2020,
           2020,
           2020,
           2020,
           2020,
           2020,
           2020,
           2020,
           2020,
           2020,
           2020,
           2020,
           2020,
           2020,
           2020,
           2020,
           2020,
           2020,
           2020,
           2020,
           2020,
           2020,
           2020,
           2020,
           2020,
           2020,
           2020,
           2019,
           2019,
           2019,
           2019,
           2019,
           2019,
           2019,
           2019,
           2019,
           2019,
           2019,
           2019,
           2019,
           2019,
           2019,
           2019,
           2019,
           2019,
           2019,
           2019,
           2019,
           2019,
           2019,
           2019,
           2019,
           2019,
           2019,
           2019,
           2019,
           2019,
           2019,
           2019,
           2019,
           2019,
           2019,
           2019,
           2019,
           2019,
           2019,
           2019,
           2019,
           2019,
           2019,
           2019,
           2019,
           2019,
           2019,
           2019,
           2019,
           2019,
           2019,
           2019,
           2019,
           2019,
           2019,
           2019,
           2019,
           2019,
           2019,
           2019,
           2019,
           2019,
           2019,
           2019,
           2019,
           2019,
           2019,
           2019,
           2019,
           2019,
           2019,
           2019,
           2019,
           2019,
           2019,
           2019,
           2019,
           2019,
           2019,
           2019,
           2019,
           2019,
           2019,
           2019,
           2019,
           2019,
           2019,
           2019,
           2019,
           2019,
           2019,
           2019,
           2019,
           2019,
           2019,
           2019,
           2019,
           2019,
           2019,
           2019,
           2019,
           2019,
           2019,
           2019,
           2019,
           2019,
           2019,
           2019,
           2019,
           2019,
           2019,
           2019,
           2019,
           2019,
           2019,
           2019,
           2019,
           2019,
           2019,
           2019,
           2019,
           2019,
           2019,
           2019,
           2019,
           2019,
           2019,
           2019,
           2019,
           2019,
           2019,
           2019,
           2019,
           2019,
           2019,
           2019,
           2019,
           2019,
           2019,
           2018,
           2018,
           2018,
           2018,
           2018,
           2018,
           2018,
           2018,
           2018,
           2018,
           2018,
           2018,
           2018,
           2018,
           2018,
           2018,
           2018,
           2018,
           2018,
           2018,
           2018,
           2018,
           2018,
           2018,
           2018,
           2018,
           2018,
           2018,
           2018,
           2018,
           2018,
           2018,
           2018,
           2018,
           2018,
           2018,
           2018,
           2018,
           2018,
           2018,
           2018,
           2018,
           2018,
           2018,
           2018,
           2018,
           2018,
           2018,
           2018,
           2018,
           2018,
           2018,
           2018,
           2018,
           2018,
           2018,
           2018,
           2018,
           2018,
           2018,
           2018,
           2018,
           2018,
           2018,
           2018,
           2018,
           2018,
           2018,
           2018,
           2018,
           2018,
           2018,
           2018,
           2018,
           2018,
           2018,
           2018,
           2018,
           2018,
           2018,
           2018,
           2018,
           2018,
           2018,
           2018,
           2018,
           2018,
           2018,
           2018,
           2018,
           2018,
           2018,
           2018,
           2018,
           2018,
           2018,
           2018,
           2018,
           2018,
           2018,
           2018,
           2018,
           2018,
           2018,
           2018,
           2018,
           2018,
           2018,
           2017,
           2017,
           2017,
           2017,
           2017,
           2017,
           2017,
           2017,
           2017,
           2017,
           2017,
           2017,
           2017,
           2017,
           2017,
           2017,
           2017,
           2017,
           2017,
           2017,
           2017,
           2017,
           2017,
           2017,
           2017,
           2017,
           2017,
           2017,
           2017,
           2017,
           2017,
           2017,
           2017,
           2017,
           2017,
           2017,
           2017,
           2017,
           2017,
           2017,
           2017,
           2017,
           2017,
           2017,
           2017,
           2017,
           2017,
           2017,
           2017,
           2017,
           2017,
           2017,
           2017,
           2017,
           2017,
           2017,
           2017,
           2017,
           2017,
           2017,
           2017,
           2017,
           2017,
           2017,
           2017,
           2017,
           2017,
           2017,
           2017,
           2017,
           2017,
           2017,
           2017,
           2017,
           2017,
           2017,
           2017,
           2017,
           2017,
           2017,
           2017,
           2017,
           2017,
           2017,
           2017,
           2017,
           2017,
           2017,
           2017,
           2017,
           2017,
           2017,
           2017,
           2017,
           2017,
           2017,
           2017,
           2017,
           2017,
           2017,
           2017,
           2017,
           2016,
           2016,
           2016,
           2016,
           2016,
           2016,
           2016,
           2016,
           2016,
           2016,
           2016,
           2016,
           2016,
           2016,
           2016,
           2016,
           2016,
           2016,
           2016,
           2016,
           2016,
           2016,
           2016,
           2016,
           2016,
           2016,
           2016,
           2016,
           2016,
           2016,
           2016,
           2016,
           2016,
           2016,
           2016,
           2016,
           2016,
           2016,
           2016,
           2016,
           2016,
           2016,
           2016,
           2016,
           2016,
           2016,
           2016,
           2016,
           2016,
           2016,
           2016,
           2016,
           2016,
           2016,
           2016,
           2016,
           2016,
           2016,
           2016,
           2016,
           2016,
           2016,
           2016,
           2016,
           2016,
           2016,
           2016,
           2016,
           2016,
           2016,
           2016,
           2016,
           2016,
           2016,
           2016,
           2016,
           2016,
           2016,
           2016,
           2016,
           2016,
           2016,
           2016,
           2016,
           2016,
           2016,
           2016,
           2016,
           2016,
           2016,
           2016,
           2016,
           2016,
           2016,
           2016,
           2016,
           2016,
           2016,
           2016,
           2016,
           2016,
           2016,
           2016,
           2016,
           2016,
           2016,
           2016,
           2016,
           2016,
           2016,
           2016,
           2016,
           2016,
           2016,
           2015,
           2015,
           2015,
           2015,
           2015,
           2015,
           2015,
           2015,
           2015,
           2015,
           2015,
           2015,
           2015,
           2015,
           2015,
           2015,
           2015,
           2015,
           2015,
           2015,
           2015,
           2015,
           2015,
           2015,
           2015,
           2015,
           2015,
           2015,
           2015,
           2015,
           2015,
           2015,
           2015,
           2015,
           2015,
           2015,
           2015,
           2015,
           2015,
           2015,
           2015,
           2015,
           2015,
           2015,
           2015,
           2015,
           2015,
           2015,
           2015,
           2015,
           2015,
           2015,
           2015,
           2015,
           2015,
           2015,
           2015,
           2015,
           2015,
           2015,
           2015,
           2015,
           2015,
           2015,
           2015,
           2015,
           2015,
           2015,
           2015,
           2015,
           2015,
           2015,
           2015,
           2015,
           2015,
           2015,
           2015,
           2015,
           2015,
           2015,
           2015,
           2015,
           2015,
           2015,
           2015,
           2015,
           2015,
           2015,
           2015,
           2015,
           2015,
           2015,
           2015,
           2015,
           2015,
           2015,
           2015,
           2015,
           2015,
           2014,
           2014,
           2014,
           2014,
           2014,
           2014,
           2014,
           2014,
           2014,
           2014,
           2014,
           2014,
           2014,
           2014,
           2014,
           2014,
           2014,
           2014,
           2014,
           2014,
           2014,
           2014,
           2014,
           2014,
           2014,
           2014,
           2014,
           2014,
           2014,
           2014,
           2014,
           2014,
           2014,
           2014,
           2014,
           2014,
           2014,
           2014,
           2014,
           2014,
           2014,
           2014,
           2014,
           2014,
           2014,
           2014,
           2014,
           2014,
           2014,
           2014,
           2014,
           2014,
           2014,
           2014,
           2014,
           2014,
           2014,
           2014,
           2014,
           2014,
           2014,
           2014,
           2014,
           2014,
           2014,
           2014,
           2014,
           2014,
           2014,
           2014,
           2014,
           2014,
           2014,
           2014,
           2014,
           2014,
           2014,
           2014,
           2014,
           2014,
           2014,
           2014,
           2014,
           2014,
           2014,
           2014,
           2014,
           2014,
           2014,
           2014,
           2014,
           2014,
           2014,
           2014,
           2014,
           2014,
           2014,
           2014,
           2014,
           2014,
           2014,
           2014,
           2014,
           2014,
           2014,
           2013,
           2013,
           2013,
           2013,
           2013,
           2013,
           2013,
           2013,
           2013,
           2013,
           2013,
           2013,
           2013,
           2013,
           2013,
           2013,
           2013,
           2013,
           2013,
           2013,
           2013,
           2013,
           2013,
           2013,
           2013,
           2013,
           2013,
           2013,
           2013,
           2013,
           2013,
           2013,
           2013,
           2013,
           2013,
           2013,
           2013,
           2013,
           2013,
           2013,
           2013,
           2013,
           2013,
           2013,
           2013,
           2013,
           2013,
           2013,
           2013,
           2013,
           2013,
           2013,
           2013,
           2013,
           2013,
           2013,
           2013,
           2013,
           2013,
           2013,
           2013,
           2013,
           2013,
           2013,
           2013,
           2013,
           2013,
           2013,
           2013,
           2013,
           2013,
           2013,
           2013,
           2013,
           2013,
           2013,
           2013,
           2013,
           2013,
           2013,
           2013,
           2013,
           2013,
           2013,
           2013,
           2013,
           2013,
           2013,
           2013,
           2013,
           2013,
           2013,
           2013,
           2013,
           2013,
           2013,
           2013,
           2013,
           2013,
           2013,
           2013,
           2012,
           2012,
           2012,
           2012,
           2012,
           2012,
           2012,
           2012,
           2012,
           2012,
           2012,
           2012,
           2012,
           2012,
           2012,
           2012,
           2012,
           2012,
           2012,
           2012,
           2012,
           2012,
           2012,
           2012,
           2012,
           2012,
           2012,
           2012,
           2012,
           2012,
           2012,
           2012,
           2012,
           2012,
           2012,
           2012,
           2012,
           2012,
           2012,
           2012,
           2012,
           2012,
           2012,
           2012,
           2012,
           2012,
           2012,
           2012,
           2012,
           2012,
           2012,
           2012,
           2012,
           2012,
           2012,
           2012,
           2012,
           2012,
           2012,
           2012,
           2012,
           2012,
           2012,
           2012,
           2012,
           2012,
           2012,
           2012,
           2012,
           2012,
           2012,
           2012,
           2012,
           2012,
           2012,
           2012,
           2012,
           2012,
           2012,
           2012,
           2012,
           2012,
           2012,
           2012,
           2012,
           2012,
           2012,
           2011,
           2011,
           2011,
           2011,
           2011,
           2011,
           2011,
           2011,
           2011,
           2011,
           2011,
           2011,
           2011,
           2011,
           2011,
           2011,
           2011,
           2011,
           2011,
           2011,
           2011,
           2011,
           2011,
           2011,
           2011,
           2011,
           2011,
           2011,
           2011,
           2011,
           2011,
           2011,
           2011,
           2011,
           2011,
           2011,
           2011,
           2011,
           2011,
           2011,
           2011,
           2011,
           2011,
           2011,
           2011,
           2011,
           2011,
           2011,
           2011,
           2011,
           2011,
           2011,
           2011,
           2011,
           2011,
           2011,
           2011,
           2011,
           2011,
           2011,
           2011,
           2011,
           2011,
           2011,
           2011,
           2011,
           2011,
           2011,
           2011,
           2011,
           2011,
           2011,
           2011,
           2011,
           2011,
           2011,
           2011,
           2011,
           2011,
           2011,
           2011,
           2011,
           2011,
           2011,
           2011,
           2011,
           2011,
           2011,
           2011,
           2011,
           2011,
           2011,
           2011,
           2011,
           2011,
           2011,
           2011,
           2011,
           2011,
           2011,
           2011,
           2011,
           2011,
           2011,
           2011,
           2011,
           2011,
           2011,
           2011,
           2011,
           2011,
           2011,
           2011,
           2011,
           2011,
           2011,
           2010,
           2010,
           2010,
           2010,
           2010,
           2010,
           2010,
           2010,
           2010,
           2010,
           2010,
           2010,
           2010,
           2010,
           2010,
           2010,
           2010,
           2010,
           2010,
           2010,
           2010,
           2010,
           2010,
           2010,
           2010,
           2010,
           2010,
           2010,
           2010,
           2010,
           2010,
           2010,
           2010,
           2010,
           2010,
           2010,
           2010,
           2010,
           2010,
           2010,
           2010,
           2010,
           2010,
           2010,
           2010,
           2010,
           2010,
           2010,
           2010,
           2010,
           2010,
           2010,
           2010,
           2010,
           2010,
           2010,
           2010,
           2010,
           2010,
           2010,
           2010,
           2010,
           2010,
           2010,
           2010,
           2010,
           2010,
           2010,
           2010,
           2010,
           2010,
           2010,
           2010,
           2010,
           2010,
           2010,
           2010,
           2010,
           2010,
           2010,
           2010,
           2010,
           2010,
           2010,
           2010,
           2010,
           2010,
           2010,
           2010,
           2010,
           2010,
           2010,
           2010,
           2010,
           2010,
           2010,
           2010,
           2010,
           2010,
           2010,
           2010,
           2010,
           2010,
           2010,
           2010,
           2010,
           2010,
           2010,
           2010,
           2010,
           2010,
           2010,
           2010,
           2010,
           2010,
           2010,
           2010,
           2010,
           2010
          ],
          "colorbar": {
           "title": {
            "text": "Incident Year"
           }
          },
          "colorscale": [
           [
            0,
            "rgb(247,252,245)"
           ],
           [
            0.125,
            "rgb(229,245,224)"
           ],
           [
            0.25,
            "rgb(199,233,192)"
           ],
           [
            0.375,
            "rgb(161,217,155)"
           ],
           [
            0.5,
            "rgb(116,196,118)"
           ],
           [
            0.625,
            "rgb(65,171,93)"
           ],
           [
            0.75,
            "rgb(35,139,69)"
           ],
           [
            0.875,
            "rgb(0,109,44)"
           ],
           [
            1,
            "rgb(0,68,27)"
           ]
          ],
          "line": {
           "color": "rgba(102, 102, 102)",
           "width": 1
          },
          "opacity": 0.8,
          "reversescale": true,
          "size": 8,
          "symbol": "triangle-up"
         },
         "mode": "markers",
         "text": [
          "Silver Spring, MD, Cause: Other incident cause, 2022",
          "Kalamazoo, MI, Cause: Other outside force damage, 2022",
          "Travelers Rest, SC, Cause: Excavation damage, 2022",
          "Temple, TX, Cause: Excavation damage, 2022",
          "Brooklyn, NY, Cause: Other incident cause, 2022",
          "Aspen, CO, Cause: Other incident cause, 2022",
          "Woonsocket, RI, Cause: Material failure of pipe or weld, 2022",
          "Pittsburgh, PA, Cause: Other outside force damage, 2022",
          "Baltimore, MD, Cause: Material failure of pipe or weld, 2022",
          "Manor, TX, Cause: Other outside force damage, 2022",
          "Raeford, NC, Cause: Corrosion failure, 2022",
          "Pontiac, MI, Cause: Other outside force damage, 2022",
          "Bronx, NY, Cause: Other incident cause, 2022",
          "Glenville, WV, Cause: Equipment failure, 2022",
          "Cle Elum, WA, Cause: Natural force damage, 2022",
          "Monroe, NC, Cause: Excavation damage, 2022",
          "Windsor, CO, Cause: Excavation damage, 2021",
          "Hyattsville, MD, Cause: Other outside force damage, 2021",
          "Waupaca, WI, Cause: Other outside force damage, 2021",
          "Kansas City, MO, Cause: Excavation damage, 2021",
          "Royal Oak, MI, Cause: Excavation damage, 2021",
          "Allen, TX, Cause: Other outside force damage, 2021",
          "Chatom, AL, Cause: Incorrect operation, 2021",
          "Brooklyn, NY, Cause: Other incident cause, 2021",
          "Rapid City, SD, Cause: Excavation damage, 2021",
          "Flint, MI, Cause: Other outside force damage, 2021",
          "Conway, SC, Cause: Excavation damage, 2021",
          "Upper Marlboro, MD, Cause: Excavation damage, 2021",
          "Addis, LA, Cause: Incorrect operation, 2021",
          "Rathdrum, ID, Cause: Excavation damage, 2021",
          "Ottawa, IL, Cause: Natural force damage, 2021",
          "Brenham, TX, Cause: Excavation damage, 2021",
          "Indianapolis, IN, Cause: Other outside force damage, 2021",
          "Salinas, CA, Cause: Excavation damage, 2021",
          "Gainesville, GA, Cause: Natural force damage, 2021",
          "Fort Bragg, NC, Cause: Excavation damage, 2021",
          "Willow Springs, IL, Cause: Excavation damage, 2021",
          "Woodbridge, VA, Cause: Other outside force damage, 2021",
          "Santa Fe, NM, Cause: Incorrect operation, 2021",
          "Detroit, MI, Cause: Other outside force damage, 2021",
          "Maynard, MA, Cause: Other incident cause, 2021",
          "Chandler, AZ, Cause: Material failure of pipe or weld, 2021",
          "San Jose, CA, Cause: Excavation damage, 2021",
          "Selma, AL, Cause: Incorrect operation, 2021",
          "Millington, TN, Cause: Excavation damage, 2021",
          "Knoxville, PA, Cause: Natural force damage, 2021",
          "Bryn Mawr, PA, Cause: Other outside force damage, 2021",
          "Chesapeake, VA, Cause: Excavation damage, 2021",
          "College Place, WA, Cause: Other outside force damage, 2021",
          "Atlanta, GA, Cause: Other outside force damage, 2021",
          "Cleveland, OH, Cause: Corrosion failure, 2021",
          "New Iberia, LA, Cause: Excavation damage, 2021",
          "Glenville, WV, Cause: Excavation damage, 2021",
          "Haymarket, VA, Cause: Excavation damage, 2021",
          "Beaver, WV, Cause: Excavation damage, 2021",
          "Woodstock, GA, Cause: Excavation damage, 2021",
          "Davin, WV, Cause: Other incident cause, 2021",
          "Dubuque, IA, Cause: Other outside force damage, 2021",
          "Harvest, AL, Cause: Excavation damage, 2021",
          "Pasco, WA, Cause: Excavation damage, 2021",
          "Taylor, MI, Cause: Excavation damage, 2021",
          "Manchester, IA, Cause: Other outside force damage, 2021",
          "Milford, CT, Cause: Other outside force damage, 2021",
          "West Fork, AR, Cause: Other outside force damage, 2021",
          "Lincoln, NE, Cause: Excavation damage, 2021",
          "Berwyn, IL, Cause: Excavation damage, 2021",
          "Pikesville, MD, Cause: Incorrect operation, 2021",
          "Hillsdale, NJ, Cause: Excavation damage, 2021",
          "Little Rock, AR, Cause: Excavation damage, 2021",
          "Kalamazoo, MI, Cause: Excavation damage, 2021",
          "Norwich, NY, Cause: Other outside force damage, 2021",
          "San Monica, CA, Cause: Excavation damage, 2021",
          "Downey, CA, Cause: Excavation damage, 2021",
          "Shorewood, IL, Cause: Other incident cause, 2021",
          "Columbus, IN, Cause: Excavation damage, 2021",
          "Toledo, OH, Cause: Excavation damage, 2021",
          "North Bethesda, MD, Cause: Excavation damage, 2021",
          "Highland Park, MI, Cause: Other outside force damage, 2021",
          "Wall, NJ, Cause: Other outside force damage, 2021",
          "Hinsdale, MT, Cause: Corrosion failure, 2021",
          "Studio City, CA, Cause: Excavation damage, 2021",
          "Spring, TX, Cause: Excavation damage, 2021",
          "Tucker, GA, Cause: Other outside force damage, 2021",
          "Goshen, ID, Cause: Equipment failure, 2021",
          "Toler, KY, Cause: Corrosion failure, 2021",
          "Phoenix, AZ, Cause: Other outside force damage, 2021",
          "Pippa Passes, KY, Cause: Excavation damage, 2021",
          "Wesley Chapel, FL, Cause: Excavation damage, 2021",
          "Williamston, MI, Cause: Corrosion failure, 2021",
          "Woodland Hills, CA, Cause: Excavation damage, 2021",
          "Falmouth, MA, Cause: Other incident cause, 2021",
          "Virginia Beach, VA, Cause: Other incident cause, 2021",
          "Jacksonville, AR, Cause: Other outside force damage, 2021",
          "Springfield, VA, Cause: Material failure of pipe or weld, 2021",
          "Lebanon, PA, Cause: Other outside force damage, 2021",
          "Farmville, NC, Cause: Excavation damage, 2021",
          "Millville, NJ, Cause: Other outside force damage, 2021",
          "Carmichael, CA, Cause: Other outside force damage, 2021",
          "Albuquerque, NM, Cause: Equipment failure, 2021",
          "Adams, NY, Cause: Other outside force damage, 2021",
          "Toledo, OH, Cause: Excavation damage, 2021",
          "Los Angeles, CA, Cause: Excavation damage, 2021",
          "Pittsburgh, PA, Cause: Material failure of pipe or weld, 2021",
          "North Charleston, SC, Cause: Excavation damage, 2021",
          "Swiftwater, PA, Cause: Other incident cause, 2020",
          "Hempstead, TX, Cause: Other outside force damage, 2020",
          "City Of Newport News, VA, Cause: Natural force damage, 2020",
          "Dunwoody, GA, Cause: Excavation damage, 2020",
          "Manalapan, FL, Cause: Other outside force damage, 2020",
          "Allendale, MI, Cause: Other outside force damage, 2020",
          "Warren, MI, Cause: Excavation damage, 2020",
          "Gates, NY, Cause: Other outside force damage, 2020",
          "Grand Blanc, MI, Cause: Excavation damage, 2020",
          "Omaha, NE, Cause: Other outside force damage, 2020",
          "Bradenton, FL, Cause: Excavation damage, 2020",
          "Charlotte, NC, Cause: Excavation damage, 2020",
          "Alhambra, CA, Cause: Other outside force damage, 2020",
          "South Point, OH, Cause: Incorrect operation, 2020",
          "Akron, OH, Cause: Excavation damage, 2020",
          "Dallas, TX, Cause: Material failure of pipe or weld, 2020",
          "Birmingham, AL, Cause: Incorrect operation, 2020",
          "Erie, PA, Cause: Excavation damage, 2020",
          "Lawrence, NY, Cause: Other incident cause, 2020",
          "Rimersburg, PA, Cause: Material failure of pipe or weld, 2020",
          "Chattanooga, TN, Cause: Excavation damage, 2020",
          "York, NE, Cause: Other outside force damage, 2020",
          "Cartersville, GA, Cause: Excavation damage, 2020",
          "Crawfordsville, IN, Cause: Material failure of pipe or weld, 2020",
          "South Fayette Twp, PA, Cause: Excavation damage, 2020",
          "Mcallen, TX, Cause: Excavation damage, 2020",
          "Ancona, IL, Cause: Incorrect operation, 2020",
          "Montgomery, OH, Cause: Excavation damage, 2020",
          "Oakdale, MN, Cause: Incorrect operation, 2020",
          "Kitts Hill, OH, Cause: Incorrect operation, 2020",
          "Dubuque, IA, Cause: Excavation damage, 2020",
          "Dell Rapids, SD, Cause: Excavation damage, 2020",
          "Westover, WV, Cause: Incorrect operation, 2020",
          "Plano, TX, Cause: Excavation damage, 2020",
          "Fort Worth, TX, Cause: Excavation damage, 2020",
          "Garland, TX, Cause: Excavation damage, 2020",
          "Gypsum, CO, Cause: Excavation damage, 2020",
          "Fort Smith, AR, Cause: Equipment failure, 2020",
          "Crestview, FL, Cause: Other outside force damage, 2020",
          "Hemet, CA, Cause: Other outside force damage, 2020",
          "Talent, OR, Cause: Other outside force damage, 2020",
          "Anna, OH, Cause: Other incident cause, 2020",
          "Gaffney, SC, Cause: Natural force damage, 2020",
          "Brighton, MI, Cause: Equipment failure, 2020",
          "Lincoln, NE, Cause: Corrosion failure, 2020",
          "New Brighton, PA, Cause: Other outside force damage, 2020",
          "Durham, NC, Cause: Excavation damage, 2020",
          "Savannah, GA, Cause: Natural force damage, 2020",
          "Grantsville, UT, Cause: Other incident cause, 2020",
          "Bronx, NY, Cause: Other outside force damage, 2020",
          "Plano, TX, Cause: Excavation damage, 2020",
          "California City, CA, Cause: Other incident cause, 2020",
          "Santa Monica, CA, Cause: Other outside force damage, 2020",
          "Cambria, CA, Cause: Other outside force damage, 2020",
          "Salem, OH, Cause: Excavation damage, 2020",
          "Charlotte, NC, Cause: Excavation damage, 2020",
          "San Diego, CA, Cause: Excavation damage, 2020",
          "Lawrence, KS, Cause: Incorrect operation, 2020",
          "Plymouth Meeting, PA, Cause: Other outside force damage, 2020",
          "Mendota Heights, MN, Cause: Natural force damage, 2020",
          "Concord, NC, Cause: Excavation damage, 2020",
          "Teaneck, NJ, Cause: Incorrect operation, 2020",
          "Kansas City, MO, Cause: Excavation damage, 2020",
          "Puyallup, WA, Cause: Excavation damage, 2020",
          "Las Vegas, NV, Cause: Other outside force damage, 2020",
          "Fort Wayne, IN, Cause: Excavation damage, 2020",
          "Bluffton, SC, Cause: Natural force damage, 2020",
          "Maumelle, AR, Cause: Excavation damage, 2020",
          "Raleigh, NC, Cause: Other incident cause, 2020",
          "Bloomfield Township, OH, Cause: Other outside force damage, 2020",
          "Lake Charles, LA, Cause: Other outside force damage, 2020",
          "Woodstock, GA, Cause: Excavation damage, 2020",
          "Edenville Township, MI, Cause: Natural force damage, 2020",
          "Goshen, IN, Cause: Incorrect operation, 2020",
          "Oklahoma City, OK, Cause: Excavation damage, 2020",
          "Woodbury, MN, Cause: Excavation damage, 2020",
          "West Hollywood, CA, Cause: Excavation damage, 2020",
          "Cutler, CA, Cause: Excavation damage, 2020",
          "Robinson, PA, Cause: Incorrect operation, 2020",
          "Not Within A Municipality, TX, Cause: Excavation damage, 2020",
          "Grand Prairie, TX, Cause: Material failure of pipe or weld, 2020",
          "Sand Springs, OK, Cause: Excavation damage, 2020",
          "Beloit, WI, Cause: Other outside force damage, 2020",
          "West Jordan, UT, Cause: Excavation damage, 2020",
          "Charlotte, NC, Cause: Excavation damage, 2020",
          "Lewisville, TX, Cause: Other outside force damage, 2020",
          "Copperas Cove, TX, Cause: Equipment failure, 2020",
          "Tampa, FL, Cause: Other outside force damage, 2020",
          "Ozark, MO, Cause: Excavation damage, 2020",
          "West Chester, OH, Cause: Other outside force damage, 2020",
          "Aspen, CO, Cause: Natural force damage, 2020",
          "Potomac Falls, VA, Cause: Excavation damage, 2020",
          "Ocala, FL, Cause: Excavation damage, 2020",
          "Burns Harbor, IN, Cause: Equipment failure, 2020",
          "Atlanta, GA, Cause: Excavation damage, 2020",
          "Brooklyn, NY, Cause: Incorrect operation, 2020",
          "Tulsa, OK, Cause: Excavation damage, 2020",
          "Burgaw, NC, Cause: Excavation damage, 2020",
          "Dallas, TX, Cause: Excavation damage, 2020",
          "Idaho Falls, ID, Cause: Excavation damage, 2020",
          "Los Angeles, CA, Cause: Corrosion failure, 2020",
          "Mansfield, OH, Cause: Material failure of pipe or weld, 2020",
          "Lexington, IL, Cause: Natural force damage, 2020",
          "Jersey City, NJ, Cause: Material failure of pipe or weld, 2020",
          "Atlanta, GA, Cause: Excavation damage, 2020",
          "Crowley, TX, Cause: Excavation damage, 2020",
          "Detroit, MI, Cause: Other outside force damage, 2020",
          "Columbus, OH, Cause: Other outside force damage, 2019",
          "Not Within A Municipality, DC, Cause: Excavation damage, 2019",
          "Philadelphia, PA, Cause: Other outside force damage, 2019",
          "Fairfax Station, VA, Cause: Other outside force damage, 2019",
          "North Bergen, NJ, Cause: Incorrect operation, 2019",
          "Blanchard, OK, Cause: Excavation damage, 2019",
          "Irving, TX, Cause: Excavation damage, 2019",
          "Coral Springs, FL, Cause: Excavation damage, 2019",
          "West Paducah, KY, Cause: Excavation damage, 2019",
          "Warren, MI, Cause: Other incident cause, 2019",
          "Rittman, OH, Cause: Other outside force damage, 2019",
          "Lavaca, AR, Cause: Other incident cause, 2019",
          "Mount Vernon, WA, Cause: Other outside force damage, 2019",
          "Decatur, IL, Cause: Other outside force damage, 2019",
          "Altamonte Springs, FL, Cause: Excavation damage, 2019",
          "Paynesville, MN, Cause: Excavation damage, 2019",
          "Billings, MT, Cause: Other outside force damage, 2019",
          "Sevierville, TN, Cause: Other outside force damage, 2019",
          "Pepper Pike, OH, Cause: Material failure of pipe or weld, 2019",
          "Woodlake, CA, Cause: Excavation damage, 2019",
          "Bloomfield, NY, Cause: Other outside force damage, 2019",
          "Pennington, NJ, Cause: Excavation damage, 2019",
          "Augusta, GA, Cause: Other outside force damage, 2019",
          "Beaverton, AL, Cause: Other outside force damage, 2019",
          "Moses Lake, WA, Cause: Excavation damage, 2019",
          "New Kent, VA, Cause: Excavation damage, 2019",
          "Northampton, MA, Cause: Other outside force damage, 2019",
          "Irving, TX, Cause: Excavation damage, 2019",
          "Durham, NC, Cause: Other outside force damage, 2019",
          "Grantsburg, WI, Cause: Excavation damage, 2019",
          "Greenville, SC, Cause: Other outside force damage, 2019",
          "Excelsior, MN, Cause: Other outside force damage, 2019",
          "Seattle, WA, Cause: Excavation damage, 2019",
          "Not Within A Municipality, GA, Cause: Other outside force damage, 2019",
          "Cornplanter Township, PA, Cause: Other outside force damage, 2019",
          "Aberdeen, ID, Cause: Other outside force damage, 2019",
          "Miami Beach, FL, Cause: Excavation damage, 2019",
          "San Diego, CA, Cause: Excavation damage, 2019",
          "Wickenburg, AZ, Cause: Other outside force damage, 2019",
          "Lawrence, MA, Cause: Other outside force damage, 2019",
          "Pontotoc, MS, Cause: Incorrect operation, 2019",
          "Lexington, MO, Cause: Other outside force damage, 2019",
          "Van Buren Township, MI, Cause: Equipment failure, 2019",
          "Lynden, WA, Cause: Other outside force damage, 2019",
          "Bellevue, OH, Cause: Equipment failure, 2019",
          "Hewlett, NY, Cause: Excavation damage, 2019",
          "Austin, TX, Cause: Incorrect operation, 2019",
          "Ballwin, MO, Cause: Corrosion failure, 2019",
          "Reno, NV, Cause: Other outside force damage, 2019",
          "Columbia, MD, Cause: Other outside force damage, 2019",
          "Kinderhook, IL, Cause: Other outside force damage, 2019",
          "Croton-On-Hudson, NY, Cause: Other outside force damage, 2019",
          "Hixson, TN, Cause: Material failure of pipe or weld, 2019",
          "Mount Pleasant, MI, Cause: Other outside force damage, 2019",
          "San Diego, CA, Cause: Excavation damage, 2019",
          "Rochester, NY, Cause: Other outside force damage, 2019",
          "Wappingers Falls, NY, Cause: Excavation damage, 2019",
          "Butterfield, MN, Cause: Natural force damage, 2019",
          "Troy, NY, Cause: Excavation damage, 2019",
          "Saginaw, MI, Cause: Excavation damage, 2019",
          "Rochester Hills, MI, Cause: Excavation damage, 2019",
          "Washington, PA, Cause: Incorrect operation, 2019",
          "Elgin, IL, Cause: Incorrect operation, 2019",
          "Marietta, GA, Cause: Incorrect operation, 2019",
          "Alice, TX, Cause: Other incident cause, 2019",
          "Port St Lucie, FL, Cause: Excavation damage, 2019",
          "Poway, CA, Cause: Other outside force damage, 2019",
          "Eden Prairie, MN, Cause: Natural force damage, 2019",
          "Pleasant Grove, UT, Cause: Other outside force damage, 2019",
          "Murrieta, CA, Cause: Excavation damage, 2019",
          "Lawrenceville, GA, Cause: Natural force damage, 2019",
          "Inyokern, CA, Cause: Natural force damage, 2019",
          "Bristol, TN, Cause: Incorrect operation, 2019",
          "Roswell, NM, Cause: Material failure of pipe or weld, 2019",
          "Scottsdale, AZ, Cause: Excavation damage, 2019",
          "Atlanta, GA, Cause: Excavation damage, 2019",
          "Lakeville, MN, Cause: Natural force damage, 2019",
          "Lanagan, MO, Cause: Natural force damage, 2019",
          "Lawrence, MA, Cause: Other outside force damage, 2019",
          "Batesville, AR, Cause: Excavation damage, 2019",
          "Winter Garden, FL, Cause: Excavation damage, 2019",
          "Santa Fe, TX, Cause: Incorrect operation, 2019",
          "Kansas City, MO, Cause: Other outside force damage, 2019",
          "Piscataway, NJ, Cause: Excavation damage, 2019",
          "Jackson, MS, Cause: Other outside force damage, 2019",
          "Concord, NC, Cause: Other outside force damage, 2019",
          "Jurupa Valley, CA, Cause: Excavation damage, 2019",
          "Tulsa, OK, Cause: Other outside force damage, 2019",
          "Frederick, CO, Cause: Excavation damage, 2019",
          "Cuyahoga Falls, OH, Cause: Other outside force damage, 2019",
          "Auburn Hills, MI, Cause: Excavation damage, 2019",
          "Ft Myers, FL, Cause: Excavation damage, 2019",
          "Dix, IL, Cause: Excavation damage, 2019",
          "Spring Lake, MI, Cause: Excavation damage, 2019",
          "Chino Hills, CA, Cause: Excavation damage, 2019",
          "Martinsville, IN, Cause: Incorrect operation, 2019",
          "Burnsville, MN, Cause: Other outside force damage, 2019",
          "Moroni, UT, Cause: Other incident cause, 2019",
          "Frontenac, MO, Cause: Natural force damage, 2019",
          "Golden, CO, Cause: Excavation damage, 2019",
          "Oswego City, NY, Cause: Incorrect operation, 2019",
          "Prior Lake, MN, Cause: Natural force damage, 2019",
          "Prior Lake, MN, Cause: Natural force damage, 2019",
          "Las Vegas, NV, Cause: Excavation damage, 2019",
          "Durham, NC, Cause: Excavation damage, 2019",
          "Derry, PA, Cause: Excavation damage, 2019",
          "Breckenridge, CO, Cause: Other outside force damage, 2019",
          "Manchester, NJ, Cause: Excavation damage, 2019",
          "San Antonio, TX, Cause: Material failure of pipe or weld, 2019",
          "Berkeley Township, NJ, Cause: Other outside force damage, 2019",
          "Shrewsbury, PA, Cause: Excavation damage, 2019",
          "Ponca City, OK, Cause: Material failure of pipe or weld, 2019",
          "Glendive, MT, Cause: Material failure of pipe or weld, 2019",
          "West Burlington, IA, Cause: Excavation damage, 2019",
          "Rochester, MI, Cause: Corrosion failure, 2019",
          "Moon Township, PA, Cause: Natural force damage, 2019",
          "Reidsville, NC, Cause: Excavation damage, 2019",
          "Brooklyn, NY, Cause: Excavation damage, 2019",
          "South Lake Tahoe, CA, Cause: Other outside force damage, 2019",
          "Georgetown, TX, Cause: Material failure of pipe or weld, 2019",
          "Largo, MD, Cause: Excavation damage, 2019",
          "Alta, UT, Cause: Other outside force damage, 2019",
          "Rochester, MN, Cause: Other outside force damage, 2019",
          "Moorhead, MN, Cause: Other outside force damage, 2019",
          "Birmingham, AL, Cause: Excavation damage, 2019",
          "Tucson, AZ, Cause: Excavation damage, 2019",
          "Lawrenceville, GA, Cause: Other outside force damage, 2019",
          "San Francisco, CA, Cause: Excavation damage, 2019",
          "Fort Worth, TX, Cause: Excavation damage, 2019",
          "Cleveland, OH, Cause: Material failure of pipe or weld, 2019",
          "Pontiac, MI, Cause: Material failure of pipe or weld, 2019",
          "Portsmouth, OH, Cause: Corrosion failure, 2019",
          "Vermilion, OH, Cause: Other outside force damage, 2019",
          "Dallas, TX, Cause: Excavation damage, 2019",
          "Rhineland, TX, Cause: Excavation damage, 2019",
          "Asheville, NC, Cause: Incorrect operation, 2019",
          "Issaquah, WA, Cause: Other outside force damage, 2019",
          "Fargo, ND, Cause: Other outside force damage, 2019",
          "New York, NY, Cause: Other outside force damage, 2019",
          "Dumas, TX, Cause: Other incident cause, 2018",
          "Laurel, MD, Cause: Other incident cause, 2018",
          "Plymouth, CA, Cause: Excavation damage, 2018",
          "Hereford, TX, Cause: Other outside force damage, 2018",
          "Savannah, GA, Cause: Excavation damage, 2018",
          "Wauconda, IL, Cause: Excavation damage, 2018",
          "Saint Louis, MO, Cause: Corrosion failure, 2018",
          "Butte, MT, Cause: Excavation damage, 2018",
          "San Antonio, TX, Cause: Material failure of pipe or weld, 2018",
          "Mesquite, TX, Cause: Other outside force damage, 2018",
          "Saint Louis, MO, Cause: Corrosion failure, 2018",
          "Detroit, MI, Cause: Excavation damage, 2018",
          "New York, NY, Cause: Other outside force damage, 2018",
          "Lawrence Twp., NJ, Cause: Other incident cause, 2018",
          "Oxnard, CA, Cause: Material failure of pipe or weld, 2018",
          "Irving, TX, Cause: Excavation damage, 2018",
          "Novato, CA, Cause: Excavation damage, 2018",
          "Durham, NC, Cause: Excavation damage, 2018",
          "Southfield, MI, Cause: Excavation damage, 2018",
          "Pasadena, CA, Cause: Material failure of pipe or weld, 2018",
          "Aurora, CO, Cause: Excavation damage, 2018",
          "Savannah, TN, Cause: Incorrect operation, 2018",
          "Lakewood, NJ, Cause: Excavation damage, 2018",
          "Lake Station, IN, Cause: Equipment failure, 2018",
          "Paradise, CA, Cause: Other outside force damage, 2018",
          "Yelm, WA, Cause: Excavation damage, 2018",
          "Bellevue, NE, Cause: Other outside force damage, 2018",
          "New Boston, MI, Cause: Excavation damage, 2018",
          "Austin, TX, Cause: Excavation damage, 2018",
          "Davison, MI, Cause: Other outside force damage, 2018",
          "Charlotte, NC, Cause: Excavation damage, 2018",
          "Beaverton, MI, Cause: Other outside force damage, 2018",
          "Elkhorn, NE, Cause: Excavation damage, 2018",
          "Colquitt, GA, Cause: Natural force damage, 2018",
          "Not Within A Municipality, KS, Cause: Natural force damage, 2018",
          "Bethel Park, PA, Cause: Excavation damage, 2018",
          "Las Vegas, NV, Cause: Natural force damage, 2018",
          "Greenville, SC, Cause: Other outside force damage, 2018",
          "Yreka, CA, Cause: Excavation damage, 2018",
          "Hudson Oaks, TX, Cause: Excavation damage, 2018",
          "Lawrence, MA, Cause: Incorrect operation, 2018",
          "Temecula, CA, Cause: Excavation damage, 2018",
          "Columbus, NE, Cause: Other outside force damage, 2018",
          "Winchester, VA, Cause: Other outside force damage, 2018",
          "Great Falls, MT, Cause: Material failure of pipe or weld, 2018",
          "Chicago, IL, Cause: Excavation damage, 2018",
          "Homerville, GA, Cause: Excavation damage, 2018",
          "Jersey Shore, PA, Cause: Excavation damage, 2018",
          "Cleveland, OH, Cause: Material failure of pipe or weld, 2018",
          "Redding, CA, Cause: Other outside force damage, 2018",
          "Jellico, TN, Cause: Other outside force damage, 2018",
          "Roseville, CA, Cause: Equipment failure, 2018",
          "Irving, TX, Cause: Excavation damage, 2018",
          "Grants, NM, Cause: Incorrect operation, 2018",
          "Kansas City, MO, Cause: Incorrect operation, 2018",
          "Sun Prairie, WI, Cause: Excavation damage, 2018",
          "Brooklyn, NY, Cause: Other outside force damage, 2018",
          "Rochester Hills, MI, Cause: Excavation damage, 2018",
          "Tulsa, OK, Cause: Excavation damage, 2018",
          "Las Vegas, NV, Cause: Other outside force damage, 2018",
          "Baltimore, MD, Cause: Material failure of pipe or weld, 2018",
          "Northville, MI, Cause: Excavation damage, 2018",
          "Augusta, GA, Cause: Other outside force damage, 2018",
          "Brooklyn, NY, Cause: Other outside force damage, 2018",
          "Trenton, MI, Cause: Other outside force damage, 2018",
          "Bellevue, NE, Cause: Natural force damage, 2018",
          "Shelby Township, MI, Cause: Natural force damage, 2018",
          "Taunton, MA, Cause: Excavation damage, 2018",
          "Rochester Hills, MI, Cause: Other outside force damage, 2018",
          "Cleveland, OK, Cause: Incorrect operation, 2018",
          "Lost Hills, CA, Cause: Incorrect operation, 2018",
          "Caldwell, TX, Cause: Material failure of pipe or weld, 2018",
          "Decatur, GA, Cause: Other outside force damage, 2018",
          "Louisville, KY, Cause: Excavation damage, 2018",
          "Arlington, TX, Cause: Incorrect operation, 2018",
          "Union, SC, Cause: Other outside force damage, 2018",
          "Chatsworth, CA, Cause: Excavation damage, 2018",
          "Salida, CO, Cause: Material failure of pipe or weld, 2018",
          "Odessa, TX, Cause: Excavation damage, 2018",
          "Hurst, TX, Cause: Other outside force damage, 2018",
          "Sand Springs, OK, Cause: Excavation damage, 2018",
          "Berkeley, CA, Cause: Excavation damage, 2018",
          "South San Francisco, CA, Cause: Excavation damage, 2018",
          "Boutte, LA, Cause: Excavation damage, 2018",
          "Reno, NV, Cause: Excavation damage, 2018",
          "San Jose, CA, Cause: Corrosion failure, 2018",
          "Rapid City, SD, Cause: Other outside force damage, 2018",
          "Johns Creek, GA, Cause: Excavation damage, 2018",
          "Stony Point, NY, Cause: Other outside force damage, 2018",
          "Mansfield, OH, Cause: Other incident cause, 2018",
          "Dallas, TX, Cause: Excavation damage, 2018",
          "Little Falls, NY, Cause: Other incident cause, 2018",
          "Mayfield Heights, OH, Cause: Natural force damage, 2018",
          "Aberdeen, SD, Cause: Other outside force damage, 2018",
          "Arlington, TX, Cause: Excavation damage, 2018",
          "New Orleans, LA, Cause: Incorrect operation, 2018",
          "Los Angeles, CA, Cause: Corrosion failure, 2018",
          "Brooklyn, NY, Cause: Natural force damage, 2018",
          "Amarillo, TX, Cause: Other outside force damage, 2018",
          "Utica, NY, Cause: Material failure of pipe or weld, 2018",
          "Anderson, IN, Cause: Excavation damage, 2018",
          "Fort Monmouth, NJ, Cause: Excavation damage, 2018",
          "Las Vegas, NV, Cause: Material failure of pipe or weld, 2018",
          "Lee'S Summit, MO, Cause: Other incident cause, 2018",
          "Lawrence, MA, Cause: Other incident cause, 2018",
          "Montecito, CA, Cause: Natural force damage, 2018",
          "Crossville, TN, Cause: Excavation damage, 2018",
          "Irving, TX, Cause: Material failure of pipe or weld, 2018",
          "Boston, MA, Cause: Natural force damage, 2017",
          "Hemet, CA, Cause: Other outside force damage, 2017",
          "Flint, MI, Cause: Equipment failure, 2017",
          "Wilkes-Barre, PA, Cause: Incorrect operation, 2017",
          "Mcdonough, GA, Cause: Material failure of pipe or weld, 2017",
          "Mesa, AZ, Cause: Excavation damage, 2017",
          "Ruidoso, NM, Cause: Excavation damage, 2017",
          "North Lawrenece, OH, Cause: Other outside force damage, 2017",
          "San Luis Obispo, CA, Cause: Other outside force damage, 2017",
          "San Antonio, TX, Cause: Material failure of pipe or weld, 2017",
          "New York, NY, Cause: Incorrect operation, 2017",
          "Rome, GA, Cause: Other outside force damage, 2017",
          "Columbus, OH, Cause: Corrosion failure, 2017",
          "San Francisco, CA, Cause: Incorrect operation, 2017",
          "New York, NY, Cause: Other outside force damage, 2017",
          "Camby, IN, Cause: Excavation damage, 2017",
          "Fremont, CA, Cause: Excavation damage, 2017",
          "Covington, LA, Cause: Incorrect operation, 2017",
          "Tracy, CA, Cause: Other outside force damage, 2017",
          "Ottawa Lake, MI, Cause: Excavation damage, 2017",
          "Rex, GA, Cause: Other outside force damage, 2017",
          "Philadelphia, PA, Cause: Incorrect operation, 2017",
          "Forest City, NC, Cause: Incorrect operation, 2017",
          "Kenwood, CA, Cause: Other outside force damage, 2017",
          "Cottonwood Heights, UT, Cause: Excavation damage, 2017",
          "Dallas, TX, Cause: Excavation damage, 2017",
          "Ball Ground, GA, Cause: Excavation damage, 2017",
          "Lansing, MI, Cause: Equipment failure, 2017",
          "Detroit, MI, Cause: Other incident cause, 2017",
          "Henderson, NV, Cause: Material failure of pipe or weld, 2017",
          "Winston-Salem, NC, Cause: Other outside force damage, 2017",
          "Dallas, TX, Cause: Equipment failure, 2017",
          "Spicewood, TX, Cause: Incorrect operation, 2017",
          "Warrenville, IL, Cause: Excavation damage, 2017",
          "Boca Raton, FL, Cause: Other outside force damage, 2017",
          "Vallejo, CA, Cause: Excavation damage, 2017",
          "Los Angeles, CA, Cause: Equipment failure, 2017",
          "Vidor, TX, Cause: Other outside force damage, 2017",
          "Topeka, KS, Cause: Other incident cause, 2017",
          "Not Within A Municipality, OK, Cause: Natural force damage, 2017",
          "Reno, NV, Cause: Other outside force damage, 2017",
          "Davison, MI, Cause: Other outside force damage, 2017",
          "Avon, OH, Cause: Excavation damage, 2017",
          "Minneapolis, MN, Cause: Incorrect operation, 2017",
          "Calhoun, GA, Cause: Excavation damage, 2017",
          "Lansing, MI, Cause: Other outside force damage, 2017",
          "Acampo, CA, Cause: Excavation damage, 2017",
          "Prarie Village, KS, Cause: Natural force damage, 2017",
          "Redding, CA, Cause: Excavation damage, 2017",
          "Moreno Valley, CA, Cause: Other outside force damage, 2017",
          "Warren, RI, Cause: Excavation damage, 2017",
          "Fair Lawn Borough, NJ, Cause: Other outside force damage, 2017",
          "Glendale, AZ, Cause: Other outside force damage, 2017",
          "Banning, CA, Cause: Other outside force damage, 2017",
          "Concord, CA, Cause: Excavation damage, 2017",
          "Millersville, PA, Cause: Material failure of pipe or weld, 2017",
          "Bellefontaine, OH, Cause: Excavation damage, 2017",
          "Leadville, CO, Cause: Other outside force damage, 2017",
          "Woodland Hills, CA, Cause: Excavation damage, 2017",
          "Seattle, WA, Cause: Material failure of pipe or weld, 2017",
          "Grandview, MO, Cause: Excavation damage, 2017",
          "Glendale, AZ, Cause: Other outside force damage, 2017",
          "Orland, CA, Cause: Other outside force damage, 2017",
          "Chicago, IL, Cause: Excavation damage, 2017",
          "Commerce City, CO, Cause: Natural force damage, 2017",
          "Grapevine, TX, Cause: Excavation damage, 2017",
          "Columbus, GA, Cause: Other outside force damage, 2017",
          "Not Within A Municipality, CO, Cause: Excavation damage, 2017",
          "Burlington, WA, Cause: Equipment failure, 2017",
          "Rancho Cucamonga, CA, Cause: Material failure of pipe or weld, 2017",
          "Phoenix, AZ, Cause: Other outside force damage, 2017",
          "Saint Louis, MO, Cause: Excavation damage, 2017",
          "Lakeside, AZ, Cause: Other outside force damage, 2017",
          "Sidney, OH, Cause: Other outside force damage, 2017",
          "Warwick, RI, Cause: Other outside force damage, 2017",
          "Alexandria, IN, Cause: Other outside force damage, 2017",
          "New York, NY, Cause: Excavation damage, 2017",
          "Providence, RI, Cause: Material failure of pipe or weld, 2017",
          "Fort Worth, TX, Cause: Excavation damage, 2017",
          "Coraopolis, PA, Cause: Other incident cause, 2017",
          "Estero, FL, Cause: Other outside force damage, 2017",
          "New Rochelle, NY, Cause: Other outside force damage, 2017",
          "Dallas, TX, Cause: Excavation damage, 2017",
          "Grand Island, NE, Cause: Other outside force damage, 2017",
          "Jackson Heights, NY, Cause: Excavation damage, 2017",
          "Pagosa Springs, CO, Cause: Other outside force damage, 2017",
          "Staten Island, NY, Cause: Equipment failure, 2017",
          "Kingsburg, CA, Cause: Other outside force damage, 2017",
          "Vicksburg, MS, Cause: Incorrect operation, 2017",
          "Willamina, OR, Cause: Material failure of pipe or weld, 2017",
          "Mays, IN, Cause: Material failure of pipe or weld, 2017",
          "Adairsville, GA, Cause: Incorrect operation, 2017",
          "Jerome, ID, Cause: Equipment failure, 2017",
          "Rosenberg, TX, Cause: Excavation damage, 2017",
          "Folsom, CA, Cause: Equipment failure, 2017",
          "Ontario, CA, Cause: Material failure of pipe or weld, 2017",
          "Wenatchee, WA, Cause: Material failure of pipe or weld, 2017",
          "Detroit, MI, Cause: Excavation damage, 2017",
          "Yakima, WA, Cause: Natural force damage, 2017",
          "Glendora, CA, Cause: Other outside force damage, 2017",
          "Not Within A Municipality, ID, Cause: Equipment failure, 2017",
          "Yuba City, CA, Cause: Material failure of pipe or weld, 2017",
          "West Yellowstone, MT, Cause: Other outside force damage, 2016",
          "New York, NY, Cause: Other outside force damage, 2016",
          "L' Anse, MI, Cause: Other outside force damage, 2016",
          "Columbus, OH, Cause: Excavation damage, 2016",
          "Westover, WV, Cause: Excavation damage, 2016",
          "Corona, NY, Cause: Other outside force damage, 2016",
          "Farmington, AR, Cause: Other outside force damage, 2016",
          "Anaheim, CA, Cause: Material failure of pipe or weld, 2016",
          "Homer Glen, IL, Cause: Material failure of pipe or weld, 2016",
          "Not Within A Municipality, ID, Cause: Equipment failure, 2016",
          "Philadelphia, PA, Cause: Other outside force damage, 2016",
          "Melbourne, FL, Cause: Excavation damage, 2016",
          "Fresno, CA, Cause: Excavation damage, 2016",
          "Sheridan, WY, Cause: Excavation damage, 2016",
          "Canton, IL, Cause: Excavation damage, 2016",
          "San Jose, CA, Cause: Excavation damage, 2016",
          "Brooklyn, NY, Cause: Excavation damage, 2016",
          "Payson, AZ, Cause: Natural force damage, 2016",
          "Chatham, VA, Cause: Excavation damage, 2016",
          "Nolensville, TN, Cause: Equipment failure, 2016",
          "Revere, MA, Cause: Excavation damage, 2016",
          "Atlanta, GA, Cause: Other outside force damage, 2016",
          "New York, NY, Cause: Other outside force damage, 2016",
          "Portland, OR, Cause: Excavation damage, 2016",
          "Springfield, OH, Cause: Material failure of pipe or weld, 2016",
          "Romeoville, IL, Cause: Excavation damage, 2016",
          "Sunray, TX, Cause: Other incident cause, 2016",
          "Colorado Springs, CO, Cause: Excavation damage, 2016",
          "North Las Vegas, NV, Cause: Excavation damage, 2016",
          "New York, NY, Cause: Other incident cause, 2016",
          "Brooklyn, NY, Cause: Excavation damage, 2016",
          "Salina, KS, Cause: Excavation damage, 2016",
          "Bonita Springs, FL, Cause: Excavation damage, 2016",
          "Gary, IN, Cause: Excavation damage, 2016",
          "Buford, GA, Cause: Incorrect operation, 2016",
          "Winter Park, CO, Cause: Corrosion failure, 2016",
          "Manassas, VA, Cause: Excavation damage, 2016",
          "Salem, OH, Cause: Other outside force damage, 2016",
          "Kaplan, LA, Cause: Other outside force damage, 2016",
          "New Oxford, PA, Cause: Other outside force damage, 2016",
          "Conneaut Lake, PA, Cause: Excavation damage, 2016",
          "San Diego, CA, Cause: Other incident cause, 2016",
          "Suffolk, VA, Cause: Other outside force damage, 2016",
          "Not Within A Municipality, KS, Cause: Excavation damage, 2016",
          "New Orleans, LA, Cause: Material failure of pipe or weld, 2016",
          "Saint Charles, MO, Cause: Excavation damage, 2016",
          "Terre Haute, IN, Cause: Other outside force damage, 2016",
          "Silver Spring, MD, Cause: Other incident cause, 2016",
          "Visalia, CA, Cause: Other outside force damage, 2016",
          "Deer Park, CA, Cause: Incorrect operation, 2016",
          "Hooker, OK, Cause: Other incident cause, 2016",
          "Albuquerque, NM, Cause: Excavation damage, 2016",
          "Middletown, NJ, Cause: Incorrect operation, 2016",
          "Newburyport, MA, Cause: Excavation damage, 2016",
          "Trussville, AL, Cause: Excavation damage, 2016",
          "Woodland Hills, CA, Cause: Excavation damage, 2016",
          "Shreveport, LA, Cause: Other outside force damage, 2016",
          "Las Vegas, NV, Cause: Excavation damage, 2016",
          "Osprey, FL, Cause: Other outside force damage, 2016",
          "Los Banos, CA, Cause: Equipment failure, 2016",
          "San Jose, CA, Cause: Excavation damage, 2016",
          "Los Angeles, CA, Cause: Other outside force damage, 2016",
          "Detroit, MI, Cause: Other incident cause, 2016",
          "Melvindale, MI, Cause: Other outside force damage, 2016",
          "Imlay City, MI, Cause: Excavation damage, 2016",
          "Elkview, WV, Cause: Natural force damage, 2016",
          "White Sulphur Springs, WV, Cause: Natural force damage, 2016",
          "Hartland, MI, Cause: Other outside force damage, 2016",
          "Georgetown, TX, Cause: Excavation damage, 2016",
          "Detroit, MI, Cause: Other outside force damage, 2016",
          "Atlanta, GA, Cause: Excavation damage, 2016",
          "Newton, KS, Cause: Incorrect operation, 2016",
          "Sacramento, CA, Cause: Excavation damage, 2016",
          "Des Plaines, IL, Cause: Other outside force damage, 2016",
          "Decatur, GA, Cause: Excavation damage, 2016",
          "Carlinville, IL, Cause: Excavation damage, 2016",
          "Bath, PA, Cause: Excavation damage, 2016",
          "Ashland, OH, Cause: Other incident cause, 2016",
          "Los Angeles, CA, Cause: Other outside force damage, 2016",
          "Ogden, UT, Cause: Excavation damage, 2016",
          "Forest Hills, PA, Cause: Other incident cause, 2016",
          "North Little Rock, AR, Cause: Incorrect operation, 2016",
          "Crosby, TX, Cause: Excavation damage, 2016",
          "Bayonne, NJ, Cause: Incorrect operation, 2016",
          "Fairfield, OH, Cause: Excavation damage, 2016",
          "Keller, TX, Cause: Other outside force damage, 2016",
          "Pennsville, NJ, Cause: Other outside force damage, 2016",
          "Moraga, CA, Cause: Natural force damage, 2016",
          "Summerfield, NC, Cause: Incorrect operation, 2016",
          "Corsicana, TX, Cause: Material failure of pipe or weld, 2016",
          "Rosenberg, TX, Cause: Excavation damage, 2016",
          "Belle, WV, Cause: Other incident cause, 2016",
          "Seattle, WA, Cause: Other outside force damage, 2016",
          "Littlestown, PA, Cause: Material failure of pipe or weld, 2016",
          "Seattle, WA, Cause: Other outside force damage, 2016",
          "Houston, TX, Cause: Excavation damage, 2016",
          "Lancaster, CA, Cause: Other outside force damage, 2016",
          "Saint Louis, MO, Cause: Material failure of pipe or weld, 2016",
          "Arkadelphia, AR, Cause: Other outside force damage, 2016",
          "Belleville, MI, Cause: Excavation damage, 2016",
          "Steamboat Springs, CO, Cause: Natural force damage, 2016",
          "Brooklyn, NY, Cause: Incorrect operation, 2016",
          "Woodbridge, VA, Cause: Corrosion failure, 2016",
          "Blackfoot, ID, Cause: Equipment failure, 2016",
          "New York, NY, Cause: Other outside force damage, 2016",
          "Henrietta, NY, Cause: Other outside force damage, 2016",
          "Mayslick, KY, Cause: Incorrect operation, 2016",
          "Oakland, CA, Cause: Other outside force damage, 2016",
          "Ecorse, MI, Cause: Material failure of pipe or weld, 2016",
          "Jamison, PA, Cause: Excavation damage, 2016",
          "Fishers, IN, Cause: Other outside force damage, 2016",
          "Omaha, NE, Cause: Excavation damage, 2016",
          "Camarillo, CA, Cause: Material failure of pipe or weld, 2016",
          "Oklahoma City, OK, Cause: Material failure of pipe or weld, 2016",
          "New York, NY, Cause: Other outside force damage, 2015",
          "New York, NY, Cause: Excavation damage, 2015",
          "Keene, NH, Cause: Equipment failure, 2015",
          "Romulus, MI, Cause: Excavation damage, 2015",
          "Thatcher, AZ, Cause: Equipment failure, 2015",
          "Mehlville, MO, Cause: Material failure of pipe or weld, 2015",
          "Lakeville, MA, Cause: Excavation damage, 2015",
          "Carrolton, OH, Cause: Excavation damage, 2015",
          "Kansas City, MO, Cause: Other outside force damage, 2015",
          "Louisiana, MO, Cause: Material failure of pipe or weld, 2015",
          "Stockton, CA, Cause: Other outside force damage, 2015",
          "Brooklyn, NY, Cause: Other incident cause, 2015",
          "Sacramento, CA, Cause: Excavation damage, 2015",
          "Lafayette, TN, Cause: Other incident cause, 2015",
          "Broken Arrow, OK, Cause: Excavation damage, 2015",
          "Lancaster, NY, Cause: Excavation damage, 2015",
          "Cartersville, GA, Cause: Incorrect operation, 2015",
          "Columbia, MD, Cause: Other outside force damage, 2015",
          "Waxahachie, TX, Cause: Excavation damage, 2015",
          "Parker, CO, Cause: Other outside force damage, 2015",
          "Pennsville, NJ, Cause: Excavation damage, 2015",
          "Montrose, MI, Cause: Natural force damage, 2015",
          "Maypearl, TX, Cause: Excavation damage, 2015",
          "Santa Clara, CA, Cause: Other outside force damage, 2015",
          "Bremerton, WA, Cause: Other outside force damage, 2015",
          "San Diego, CA, Cause: Other outside force damage, 2015",
          "Santa Monica, CA, Cause: Other outside force damage, 2015",
          "Kansas City, MO, Cause: Other incident cause, 2015",
          "Lansing, MI, Cause: Other outside force damage, 2015",
          "Bay City, TX, Cause: Excavation damage, 2015",
          "Rosemount, MN, Cause: Natural force damage, 2015",
          "Tuscaloosa, AL, Cause: Excavation damage, 2015",
          "Bloomington, MN, Cause: Natural force damage, 2015",
          "Jonesboro, GA, Cause: Incorrect operation, 2015",
          "Corona, CA, Cause: Excavation damage, 2015",
          "Queens, NY, Cause: Other incident cause, 2015",
          "North Braddock, PA, Cause: Other incident cause, 2015",
          "Pleasant Valley, MO, Cause: Excavation damage, 2015",
          "White Deer, TX, Cause: Other incident cause, 2015",
          "Stockton, CA, Cause: Other outside force damage, 2015",
          "Union City, CA, Cause: Other outside force damage, 2015",
          "Troy, MI, Cause: Excavation damage, 2015",
          "Chattanooga, TN, Cause: Excavation damage, 2015",
          "Bellevue, WA, Cause: Other outside force damage, 2015",
          "Gettysburg, SD, Cause: Excavation damage, 2015",
          "Lake Township, MI, Cause: Other outside force damage, 2015",
          "Brooklyn, NY, Cause: Other outside force damage, 2015",
          "Shelby, OH, Cause: Other outside force damage, 2015",
          "Houston, TX, Cause: Excavation damage, 2015",
          "Flint, MI, Cause: Excavation damage, 2015",
          "Virginia Beach, VA, Cause: Other outside force damage, 2015",
          "Not Within A Municipality, IA, Cause: Excavation damage, 2015",
          "Lincoln, NE, Cause: Natural force damage, 2015",
          "North Little Rock, AR, Cause: Natural force damage, 2015",
          "Tell City, IN, Cause: Excavation damage, 2015",
          "Everett, WA, Cause: Excavation damage, 2015",
          "Los Angeles, CA, Cause: Excavation damage, 2015",
          "Sunbury, OH, Cause: Excavation damage, 2015",
          "Holt, MI, Cause: Other outside force damage, 2015",
          "Port St Lucie, FL, Cause: Other outside force damage, 2015",
          "New York, NY, Cause: Equipment failure, 2015",
          "South El Monte, CA, Cause: Other outside force damage, 2015",
          "Corunna, MI, Cause: Other outside force damage, 2015",
          "Medford, WI, Cause: Excavation damage, 2015",
          "New York, NY, Cause: Other incident cause, 2015",
          "Florence, AL, Cause: Natural force damage, 2015",
          "Douglasville, GA, Cause: Excavation damage, 2015",
          "Upper Arlington, OH, Cause: Other incident cause, 2015",
          "Joplin, MO, Cause: Excavation damage, 2015",
          "Fergus Falls, MN, Cause: Equipment failure, 2015",
          "Colorado Springs, CO, Cause: Excavation damage, 2015",
          "Tewksbury, MA, Cause: Natural force damage, 2015",
          "Not Within A Municipality, TN, Cause: Excavation damage, 2015",
          "Brooklyn, NY, Cause: Other incident cause, 2015",
          "Topeka, KS, Cause: Excavation damage, 2015",
          "Detroit, MI, Cause: Natural force damage, 2015",
          "Dallas, TX, Cause: Excavation damage, 2015",
          "Sacramento, CA, Cause: Excavation damage, 2015",
          "Boca Raton, FL, Cause: Incorrect operation, 2015",
          "Stafford Township, NJ, Cause: Material failure of pipe or weld, 2015",
          "Providence, RI, Cause: Natural force damage, 2015",
          "Canton, MA, Cause: Other outside force damage, 2015",
          "Hampton, NH, Cause: Other incident cause, 2015",
          "Duxbury, MA, Cause: Other outside force damage, 2015",
          "Marshfield, MA, Cause: Other outside force damage, 2015",
          "Commerce Township, MI, Cause: Excavation damage, 2015",
          "Philadelphia, PA, Cause: Natural force damage, 2015",
          "Water Mill, NY, Cause: Other outside force damage, 2015",
          "Westford, MA, Cause: Natural force damage, 2015",
          "Jackson, MI, Cause: Natural force damage, 2015",
          "Midwest City, OK, Cause: Other outside force damage, 2015",
          "Houston, TX, Cause: Other outside force damage, 2015",
          "Henderson, NV, Cause: Material failure of pipe or weld, 2015",
          "Baldwin Park, CA, Cause: Other outside force damage, 2015",
          "Cordova, AL, Cause: Natural force damage, 2015",
          "San Bruno, CA, Cause: Other outside force damage, 2015",
          "San Jose, CA, Cause: Excavation damage, 2015",
          "Sandpoint, ID, Cause: Natural force damage, 2015",
          "Midland, TX, Cause: Excavation damage, 2015",
          "Oakland, CA, Cause: Corrosion failure, 2014",
          "Jackson, MS, Cause: Material failure of pipe or weld, 2014",
          "Queen Creek, AZ, Cause: Other outside force damage, 2014",
          "Dallas, TX, Cause: Other outside force damage, 2014",
          "Columbus, IN, Cause: Other outside force damage, 2014",
          "Commerce City, CO, Cause: Material failure of pipe or weld, 2014",
          "Austin, TX, Cause: Other incident cause, 2014",
          "Dunmore, PA, Cause: Other outside force damage, 2014",
          "Chicago, IL, Cause: Excavation damage, 2014",
          "Newark, DE, Cause: Other outside force damage, 2014",
          "Belton, MO, Cause: Excavation damage, 2014",
          "Memphis, TN, Cause: Incorrect operation, 2014",
          "Muncie, IN, Cause: Other outside force damage, 2014",
          "Dickson City, PA, Cause: Equipment failure, 2014",
          "Mahopac, NY, Cause: Other incident cause, 2014",
          "Rosenberg, TX, Cause: Other outside force damage, 2014",
          "San Jose, CA, Cause: Other outside force damage, 2014",
          "Kosciusko, MS, Cause: Equipment failure, 2014",
          "Covington, LA, Cause: Incorrect operation, 2014",
          "San Jose, CA, Cause: Excavation damage, 2014",
          "Cypress, TX, Cause: Excavation damage, 2014",
          "Palm Beach, FL, Cause: Other outside force damage, 2014",
          "Portage, IN, Cause: Natural force damage, 2014",
          "Seeley Lake, MT, Cause: Excavation damage, 2014",
          "Holland, IN, Cause: Excavation damage, 2014",
          "New York, NY, Cause: Other incident cause, 2014",
          "Newark, OH, Cause: Material failure of pipe or weld, 2014",
          "Dekalb, IL, Cause: Excavation damage, 2014",
          "Kalamazoo, MI, Cause: Excavation damage, 2014",
          "North Las Vegas, NV, Cause: Material failure of pipe or weld, 2014",
          "King City, CA, Cause: Other outside force damage, 2014",
          "Bemus Point, NY, Cause: Excavation damage, 2014",
          "East Sparta, OH, Cause: Corrosion failure, 2014",
          "San Jose, CA, Cause: Excavation damage, 2014",
          "Franklinton, LA, Cause: Other outside force damage, 2014",
          "Goodhue, MN, Cause: Incorrect operation, 2014",
          "Lafayette, CA, Cause: Excavation damage, 2014",
          "Lexington, KY, Cause: Other outside force damage, 2014",
          "Las Vegas, NV, Cause: Incorrect operation, 2014",
          "Kansas City, MO, Cause: Excavation damage, 2014",
          "Lockwood, MO, Cause: Excavation damage, 2014",
          "North Little Rock, AR, Cause: Excavation damage, 2014",
          "American Canyon, CA, Cause: Natural force damage, 2014",
          "Chicago, IL, Cause: Incorrect operation, 2014",
          "Danville, VA, Cause: Other outside force damage, 2014",
          "Little Elm, TX, Cause: Excavation damage, 2014",
          "Newark, OH, Cause: Other outside force damage, 2014",
          "Schenectady, NY, Cause: Other incident cause, 2014",
          "Rio Rancho, NM, Cause: Other incident cause, 2014",
          "Detroit, MI, Cause: Excavation damage, 2014",
          "Newport Beach, CA, Cause: Excavation damage, 2014",
          "Hudsonville, MI, Cause: Equipment failure, 2014",
          "San Diego, CA, Cause: Other outside force damage, 2014",
          "Virginia Beach, VA, Cause: Excavation damage, 2014",
          "Merced, CA, Cause: Other outside force damage, 2014",
          "Coatesville, PA, Cause: Incorrect operation, 2014",
          "Bethany, OK, Cause: Other outside force damage, 2014",
          "Milford, NE, Cause: Other outside force damage, 2014",
          "El Paso, TX, Cause: Other incident cause, 2014",
          "Bushland, TX, Cause: Natural force damage, 2014",
          "Antioch, CA, Cause: Excavation damage, 2014",
          "San Francisco, CA, Cause: Other outside force damage, 2014",
          "Ray Township, MI, Cause: Excavation damage, 2014",
          "Topeka, KS, Cause: Incorrect operation, 2014",
          "Phoenix, AZ, Cause: Other outside force damage, 2014",
          "Vadnais Heights, MN, Cause: Other outside force damage, 2014",
          "San Jose, CA, Cause: Excavation damage, 2014",
          "Calabasas, CA, Cause: Other outside force damage, 2014",
          "Merced, CA, Cause: Other outside force damage, 2014",
          "Town Of Greenburgh, NY, Cause: Other outside force damage, 2014",
          "Andover, MA, Cause: Excavation damage, 2014",
          "Corning, NY, Cause: Excavation damage, 2014",
          "Howard Beach, NY, Cause: Natural force damage, 2014",
          "Long Grove, IL, Cause: Other incident cause, 2014",
          "Bremerton, WA, Cause: Excavation damage, 2014",
          "Mt. Morris, MI, Cause: Other outside force damage, 2014",
          "Wales Township, MI, Cause: Other outside force damage, 2014",
          "Alexandria, VA, Cause: Other incident cause, 2014",
          "Detroit, MI, Cause: Other outside force damage, 2014",
          "St. Louis, MO, Cause: Other outside force damage, 2014",
          "Chattanooga, TN, Cause: Excavation damage, 2014",
          "New York, NY, Cause: Natural force damage, 2014",
          "Las Vegas, NV, Cause: Excavation damage, 2014",
          "Ewing, NJ, Cause: Excavation damage, 2014",
          "Carmel, CA, Cause: Incorrect operation, 2014",
          "Waterford, MI, Cause: Excavation damage, 2014",
          "Wapato, WA, Cause: Equipment failure, 2014",
          "Baltimore, MD, Cause: Other incident cause, 2014",
          "Holt, MI, Cause: Other outside force damage, 2014",
          "Montclair, CA, Cause: Other outside force damage, 2014",
          "Corpus Christi, TX, Cause: Material failure of pipe or weld, 2014",
          "Attica, IN, Cause: Material failure of pipe or weld, 2014",
          "Gilbert, AZ, Cause: Material failure of pipe or weld, 2014",
          "Bozeman, MT, Cause: Natural force damage, 2014",
          "St. Louis, MO, Cause: Excavation damage, 2014",
          "Fredericksburg, VA, Cause: Other outside force damage, 2014",
          "Philadelphia, PA, Cause: Natural force damage, 2014",
          "Twin Lakes, WI, Cause: Excavation damage, 2014",
          "Nyc, NY, Cause: Other incident cause, 2014",
          "Lansing, MI, Cause: Equipment failure, 2014",
          "Terrell Hills, TX, Cause: Other outside force damage, 2014",
          "Wichita, KS, Cause: Other outside force damage, 2014",
          "Westford, MA, Cause: Other incident cause, 2014",
          "Hemet, CA, Cause: Other outside force damage, 2014",
          "Hemlock, MI, Cause: Equipment failure, 2014",
          "Wheatridge, CO, Cause: Excavation damage, 2013",
          "Shrewsbury, MA, Cause: Incorrect operation, 2013",
          "North Richland Hills, TX, Cause: Material failure of pipe or weld, 2013",
          "Birmingham, AL, Cause: Other incident cause, 2013",
          "Snellville, GA, Cause: Natural force damage, 2013",
          "Not Within A Municipality, MN, Cause: Equipment failure, 2013",
          "Houston, TX, Cause: Excavation damage, 2013",
          "Rushville, IN, Cause: Excavation damage, 2013",
          "New York, NY, Cause: Material failure of pipe or weld, 2013",
          "Bay Ridge, NY, Cause: Other incident cause, 2013",
          "Hainesville, IL, Cause: Other outside force damage, 2013",
          "Irwindale, CA, Cause: Excavation damage, 2013",
          "Palatka, FL, Cause: Other outside force damage, 2013",
          "Pennsboro, WV, Cause: Other outside force damage, 2013",
          "Temecula, CA, Cause: Other outside force damage, 2013",
          "Kayenta, AZ, Cause: Other outside force damage, 2013",
          "Peoria, AZ, Cause: Excavation damage, 2013",
          "Richmond Hill, NY, Cause: Other outside force damage, 2013",
          "Houston, TX, Cause: Other outside force damage, 2013",
          "Belington, WV, Cause: Equipment failure, 2013",
          "Ripley, NY, Cause: Excavation damage, 2013",
          "Norfolk, NE, Cause: Other outside force damage, 2013",
          "Wayne, NE, Cause: Natural force damage, 2013",
          "Elgin, IL, Cause: Other outside force damage, 2013",
          "Two Harbors, MN, Cause: Excavation damage, 2013",
          "Overland Park, KS, Cause: Excavation damage, 2013",
          "Gladwin, MI, Cause: Material failure of pipe or weld, 2013",
          "Tulsa, OK, Cause: Excavation damage, 2013",
          "Blairsville, PA, Cause: Other outside force damage, 2013",
          "Oakland, CA, Cause: Other outside force damage, 2013",
          "Riverside, CA, Cause: Excavation damage, 2013",
          "Bedford, MA, Cause: Incorrect operation, 2013",
          "Smithfield, RI, Cause: Excavation damage, 2013",
          "Corpus Christi, TX, Cause: Excavation damage, 2013",
          "Boyne Falls, MI, Cause: Excavation damage, 2013",
          "Rosemont, PA, Cause: Excavation damage, 2013",
          "Prescott, AZ, Cause: Other outside force damage, 2013",
          "Beltsville, MD, Cause: Other incident cause, 2013",
          "Clio, MI, Cause: Excavation damage, 2013",
          "San Antonio, TX, Cause: Other outside force damage, 2013",
          "Hilmar, CA, Cause: Other outside force damage, 2013",
          "El Dorado Hills, CA, Cause: Excavation damage, 2013",
          "Village Of Mamaroneck, NY, Cause: Other outside force damage, 2013",
          "Old Bridge Township, NJ, Cause: Other outside force damage, 2013",
          "Grand Prairie, TX, Cause: Excavation damage, 2013",
          "San Jose, CA, Cause: Other outside force damage, 2013",
          "Las Vegas, NV, Cause: Material failure of pipe or weld, 2013",
          "Houston, TX, Cause: Excavation damage, 2013",
          "Mammoth Lakes, CA, Cause: Excavation damage, 2013",
          "Arverne, NY, Cause: Natural force damage, 2013",
          "Nyack, NY, Cause: Excavation damage, 2013",
          "Greensboro, GA, Cause: Incorrect operation, 2013",
          "Cleveland, OH, Cause: Corrosion failure, 2013",
          "New York, NY, Cause: Equipment failure, 2013",
          "Patterson, GA, Cause: Excavation damage, 2013",
          "Toledo, OH, Cause: Excavation damage, 2013",
          "Mount Vernon, GA, Cause: Material failure of pipe or weld, 2013",
          "Wichita, KS, Cause: Excavation damage, 2013",
          "Poughkeepsie, NY, Cause: Other outside force damage, 2013",
          "Toledo, OH, Cause: Other incident cause, 2013",
          "Bronx, NY, Cause: Other outside force damage, 2013",
          "Garden Grove, CA, Cause: Other outside force damage, 2013",
          "Bakersfield, CA, Cause: Excavation damage, 2013",
          "San Jose, CA, Cause: Excavation damage, 2013",
          "New Orleans, LA, Cause: Other incident cause, 2013",
          "Spokane, WA, Cause: Excavation damage, 2013",
          "Henrico, VA, Cause: Other outside force damage, 2013",
          "Gary, IN, Cause: Other outside force damage, 2013",
          "Hyrum, UT, Cause: Other outside force damage, 2013",
          "New York, NY, Cause: Other outside force damage, 2013",
          "Atascadero, CA, Cause: Other outside force damage, 2013",
          "White Plains, NY, Cause: Material failure of pipe or weld, 2013",
          "Princeton Township, NJ, Cause: Excavation damage, 2013",
          "Grand Junction, CO, Cause: Excavation damage, 2013",
          "Waterbury, CT, Cause: Other incident cause, 2013",
          "Fresno, CA, Cause: Excavation damage, 2013",
          "Selden, NY, Cause: Other outside force damage, 2013",
          "Berkeley, CA, Cause: Excavation damage, 2013",
          "Houston, TX, Cause: Other outside force damage, 2013",
          "Aurora, NE, Cause: Incorrect operation, 2013",
          "Royal Oak, MI, Cause: Excavation damage, 2013",
          "Kansas City, MO, Cause: Excavation damage, 2013",
          "Altoona, PA, Cause: Incorrect operation, 2013",
          "Boulder, CO, Cause: Natural force damage, 2013",
          "Attleboro, MA, Cause: Other outside force damage, 2013",
          "Poughkeepsie, NY, Cause: Material failure of pipe or weld, 2013",
          "Fitchburg, MA, Cause: Natural force damage, 2013",
          "Newtown, CT, Cause: Material failure of pipe or weld, 2013",
          "Las Vegas, NV, Cause: Equipment failure, 2013",
          "Tiffin, OH, Cause: Other incident cause, 2013",
          "Newport, KY, Cause: Natural force damage, 2013",
          "Gainesville, TX, Cause: Other outside force damage, 2013",
          "Altoona, PA, Cause: Equipment failure, 2013",
          "White House, TN, Cause: Other outside force damage, 2013",
          "Huntsville, AL, Cause: Other outside force damage, 2013",
          "Metropolis, IL, Cause: Equipment failure, 2013",
          "Town Of Greenburgh, NY, Cause: Material failure of pipe or weld, 2013",
          "Tacoma, WA, Cause: Other outside force damage, 2013",
          "Lewisville, TX, Cause: Excavation damage, 2013",
          "Bronx, NY, Cause: Equipment failure, 2013",
          "Oklahoma City, OK, Cause: Excavation damage, 2013",
          "Manor, TX, Cause: Other outside force damage, 2012",
          "Las Cruces, NM, Cause: Incorrect operation, 2012",
          "Laurel Springs, NJ, Cause: Natural force damage, 2012",
          "Anaheim, CA, Cause: Material failure of pipe or weld, 2012",
          "Houston, TX, Cause: Incorrect operation, 2012",
          "Minot, ND, Cause: Other outside force damage, 2012",
          "Springfield, MA, Cause: Incorrect operation, 2012",
          "Scarsdale, NY, Cause: Equipment failure, 2012",
          "Lewiston, ID, Cause: Excavation damage, 2012",
          "Campbellsville, KY, Cause: Other outside force damage, 2012",
          "Alfred, NY, Cause: Excavation damage, 2012",
          "Fitchburg, MA, Cause: Excavation damage, 2012",
          "Jasper, OR, Cause: Other outside force damage, 2012",
          "Freeport, NY, Cause: Other incident cause, 2012",
          "Carteret, NJ, Cause: Natural force damage, 2012",
          "Massapequa, NY, Cause: Other incident cause, 2012",
          "Garden City, NY, Cause: Natural force damage, 2012",
          "Marlborough, MA, Cause: Other outside force damage, 2012",
          "North Muskegon, MI, Cause: Other outside force damage, 2012",
          "Littleton, MA, Cause: Other outside force damage, 2012",
          "Topeka, KS, Cause: Other outside force damage, 2012",
          "San Antonio, TX, Cause: Other outside force damage, 2012",
          "Bronx, NY, Cause: Equipment failure, 2012",
          "Studio City, CA, Cause: Other outside force damage, 2012",
          "Orange, NJ, Cause: Other outside force damage, 2012",
          "Corpus Christi, TX, Cause: Excavation damage, 2012",
          "South Orange, NJ, Cause: Corrosion failure, 2012",
          "West Palm Beach, FL, Cause: Other outside force damage, 2012",
          "Indio, CA, Cause: Other outside force damage, 2012",
          "Bronx, NY, Cause: Equipment failure, 2012",
          "Corpus Christi, TX, Cause: Other outside force damage, 2012",
          "Green River, WY, Cause: Other outside force damage, 2012",
          "Santa Fe, NM, Cause: Material failure of pipe or weld, 2012",
          "Summertown, TN, Cause: Other outside force damage, 2012",
          "Claremont, CA, Cause: Other outside force damage, 2012",
          "Arcadia, CA, Cause: Other outside force damage, 2012",
          "Powell, OH, Cause: Other incident cause, 2012",
          "Chalmers, IN, Cause: Excavation damage, 2012",
          "St Louis, MO, Cause: Corrosion failure, 2012",
          "Central Islip, NY, Cause: Incorrect operation, 2012",
          "Wichita, KS, Cause: Excavation damage, 2012",
          "Roseville, CA, Cause: Other outside force damage, 2012",
          "Fort Scott, KS, Cause: Excavation damage, 2012",
          "Shakopee, MN, Cause: Other outside force damage, 2012",
          "Town Of Greenburgh, NY, Cause: Equipment failure, 2012",
          "Gambrills, MD, Cause: Excavation damage, 2012",
          "Seekonk, MA, Cause: Other outside force damage, 2012",
          "Nyack, NY, Cause: Other incident cause, 2012",
          "Rancho Mirage, CA, Cause: Other outside force damage, 2012",
          "Washington, DC, Cause: Incorrect operation, 2012",
          "San Francisco, CA, Cause: Other outside force damage, 2012",
          "Livermore, CA, Cause: Other outside force damage, 2012",
          "Kilpatrick, AL, Cause: Other outside force damage, 2012",
          "Salinas, CA, Cause: Other outside force damage, 2012",
          "San Jose, CA, Cause: Other outside force damage, 2012",
          "American Falls, ID, Cause: Incorrect operation, 2012",
          "Waukee, IA, Cause: Other incident cause, 2012",
          "Union, NJ, Cause: Incorrect operation, 2012",
          "Newark, OH, Cause: Corrosion failure, 2012",
          "Minneapolis, MN, Cause: Natural force damage, 2012",
          "Washington, DC, Cause: Other outside force damage, 2012",
          "Redmond, WA, Cause: Other outside force damage, 2012",
          "Hillsborough, CA, Cause: Material failure of pipe or weld, 2012",
          "Weatherford, OK, Cause: Excavation damage, 2012",
          "Oakdale, CA, Cause: Other outside force damage, 2012",
          "Omaha, NE, Cause: Equipment failure, 2012",
          "Lyndhurst, OH, Cause: Excavation damage, 2012",
          "Baltimore, MD, Cause: Other outside force damage, 2012",
          "New York, NY, Cause: Other outside force damage, 2012",
          "Omaha, NE, Cause: Other outside force damage, 2012",
          "Town Of Greenburgh, NY, Cause: Equipment failure, 2012",
          "Town Of Mt. Pleasant, NY, Cause: Equipment failure, 2012",
          "Lebanon, TN, Cause: Excavation damage, 2012",
          "Winthrop, MA, Cause: Other incident cause, 2012",
          "El Paso, TX, Cause: Material failure of pipe or weld, 2012",
          "Baltimore, MD, Cause: Excavation damage, 2012",
          "Los Angeles, CA, Cause: Other outside force damage, 2012",
          "Spearfish, SD, Cause: Other outside force damage, 2012",
          "Manhattan, KS, Cause: Excavation damage, 2012",
          "Topeka, KS, Cause: Excavation damage, 2012",
          "Detroit, MI, Cause: Other outside force damage, 2012",
          "New York, NY, Cause: Other outside force damage, 2012",
          "West Haverstraw, NY, Cause: Excavation damage, 2012",
          "Mount Pleasant, NY, Cause: Other outside force damage, 2012",
          "Austin, TX, Cause: Natural force damage, 2012",
          "Sublette, KS, Cause: Excavation damage, 2012",
          "Schenectady, NY, Cause: Other incident cause, 2012",
          "Houston, TX, Cause: Material failure of pipe or weld, 2011",
          "Washington, PA, Cause: Excavation damage, 2011",
          "Spring Hill, FL, Cause: Incorrect operation, 2011",
          "East Point, GA, Cause: Incorrect operation, 2011",
          "Lousiville, KY, Cause: Other outside force damage, 2011",
          "Butler, KY, Cause: Other outside force damage, 2011",
          "Springdale, AR, Cause: Other outside force damage, 2011",
          "Chicago, IL, Cause: Other outside force damage, 2011",
          "Fairborn, OH, Cause: Excavation damage, 2011",
          "Wetumka, OK, Cause: Excavation damage, 2011",
          "New Albany, IN, Cause: Excavation damage, 2011",
          "Baltimore, MD, Cause: Excavation damage, 2011",
          "Hillsboro, OR, Cause: Other outside force damage, 2011",
          "Henderson, NV, Cause: Excavation damage, 2011",
          "Millersville, PA, Cause: Excavation damage, 2011",
          "Croton, NY, Cause: Other incident cause, 2011",
          "Corpu Christi, TX, Cause: Corrosion failure, 2011",
          "Grand Rapids, MI, Cause: Incorrect operation, 2011",
          "White Plains, NY, Cause: Equipment failure, 2011",
          "Hanford, CA, Cause: Other outside force damage, 2011",
          "Grosse Pointe Farms, MI, Cause: Corrosion failure, 2011",
          "New Rochelle, NY, Cause: Other incident cause, 2011",
          "Seattle, WA, Cause: Other outside force damage, 2011",
          "Muskegon, MI, Cause: Other outside force damage, 2011",
          "Tomball, TX, Cause: Other outside force damage, 2011",
          "Sparks, NV, Cause: Incorrect operation, 2011",
          "Port Orchard, WA, Cause: Other outside force damage, 2011",
          "Rotterdam Junction, NY, Cause: Natural force damage, 2011",
          "Elmont, NY, Cause: Other incident cause, 2011",
          "Bloomfield, NM, Cause: Excavation damage, 2011",
          "Cupertino, CA, Cause: Material failure of pipe or weld, 2011",
          "Pompton Lakes, NJ, Cause: Natural force damage, 2011",
          "Douglasville, GA, Cause: Equipment failure, 2011",
          "Uniontown, KY, Cause: Other outside force damage, 2011",
          "Corpus Christi, TX, Cause: Excavation damage, 2011",
          "Albany, NY, Cause: Excavation damage, 2011",
          "Corpus Christi, TX, Cause: Excavation damage, 2011",
          "Chesterfield, MO, Cause: Other outside force damage, 2011",
          "Garrison, MN, Cause: Other incident cause, 2011",
          "Superior, NE, Cause: Equipment failure, 2011",
          "Richmond, VA, Cause: Other outside force damage, 2011",
          "Brooklyn Center, MN, Cause: Natural force damage, 2011",
          "Brooklyn Park, MN, Cause: Natural force damage, 2011",
          "Lakewood, CO, Cause: Excavation damage, 2011",
          "Clarksburg, MD, Cause: Excavation damage, 2011",
          "Oxford, MI, Cause: Excavation damage, 2011",
          "Lake Worth, TX, Cause: Excavation damage, 2011",
          "Cookeville, TN, Cause: Other outside force damage, 2011",
          "Ashland, WI, Cause: Natural force damage, 2011",
          "Omaha, NE, Cause: Natural force damage, 2011",
          "Concord, NC, Cause: Other outside force damage, 2011",
          "Pueblo, CO, Cause: Excavation damage, 2011",
          "Minneapolis, MN, Cause: Incorrect operation, 2011",
          "Billings, MT, Cause: Natural force damage, 2011",
          "New York, NY, Cause: Incorrect operation, 2011",
          "Seattle, WA, Cause: Excavation damage, 2011",
          "New York, NY, Cause: Other outside force damage, 2011",
          "Baltimore, MD, Cause: Other outside force damage, 2011",
          "St. Charles, IL, Cause: Other outside force damage, 2011",
          "Eureka, IL, Cause: Excavation damage, 2011",
          "New Orleans, LA, Cause: Other incident cause, 2011",
          "Elizabeth, NJ, Cause: Excavation damage, 2011",
          "Morristown, TN, Cause: Excavation damage, 2011",
          "Odessa, WA, Cause: Material failure of pipe or weld, 2011",
          "St. Anthony, MN, Cause: Excavation damage, 2011",
          "Beltsville, MD, Cause: Other outside force damage, 2011",
          "Brookhaven, PA, Cause: Incorrect operation, 2011",
          "Memphis, TN, Cause: Other outside force damage, 2011",
          "Town Of Harrison, NY, Cause: Equipment failure, 2011",
          "Virginia Beach, VA, Cause: Excavation damage, 2011",
          "Gainesville, VA, Cause: Excavation damage, 2011",
          "Mapleton, IA, Cause: Natural force damage, 2011",
          "Denver, CO, Cause: Excavation damage, 2011",
          "Painesville, OH, Cause: Excavation damage, 2011",
          "Lamont, CA, Cause: Other outside force damage, 2011",
          "East Livierpool, OH, Cause: Other outside force damage, 2011",
          "New York, NY, Cause: Other outside force damage, 2011",
          "New Ulm, MN, Cause: Natural force damage, 2011",
          "Saint Paul, MN, Cause: Incorrect operation, 2011",
          "New York, NY, Cause: Incorrect operation, 2011",
          "Binghamton, NY, Cause: Material failure of pipe or weld, 2011",
          "New York, NY, Cause: Other outside force damage, 2011",
          "Truckee, CA, Cause: Material failure of pipe or weld, 2011",
          "Ellicott City, MD, Cause: Other outside force damage, 2011",
          "Cleveland, OH, Cause: Other incident cause, 2011",
          "Garden Grove, CA, Cause: Excavation damage, 2011",
          "Avon, OH, Cause: Excavation damage, 2011",
          "Park Forest, IL, Cause: Excavation damage, 2011",
          "Chapel Hill, NC, Cause: Incorrect operation, 2011",
          "College Park, MD, Cause: Other outside force damage, 2011",
          "Elkridge, MD, Cause: Other outside force damage, 2011",
          "Mount Airy, MD, Cause: Excavation damage, 2011",
          "Detroit, MI, Cause: Natural force damage, 2011",
          "Baton Rouge, LA, Cause: Other incident cause, 2011",
          "Allentown, PA, Cause: Natural force damage, 2011",
          "Fulton, NY, Cause: Natural force damage, 2011",
          "Las Vegas, NM, Cause: Other incident cause, 2011",
          "South Windsor, CT, Cause: Other incident cause, 2011",
          "Laurel, MD, Cause: Other outside force damage, 2011",
          "Seneca, SC, Cause: Excavation damage, 2011",
          "Fruitland, MD, Cause: Other outside force damage, 2011",
          "Country Club Hills, MO, Cause: Other outside force damage, 2011",
          "New York, NY, Cause: Material failure of pipe or weld, 2011",
          "Horseheads, NY, Cause: Excavation damage, 2011",
          "Fairport Harbor, OH, Cause: Equipment failure, 2011",
          "West Springfield, MA, Cause: Other incident cause, 2011",
          "New York, NY, Cause: Equipment failure, 2011",
          "Hyattsville, MD, Cause: Other outside force damage, 2011",
          "Philadelphia, PA, Cause: Material failure of pipe or weld, 2011",
          "New York, NY, Cause: Corrosion failure, 2011",
          "Canton, MS, Cause: Corrosion failure, 2011",
          "Pine Lawn, MO, Cause: Other outside force damage, 2011",
          "Modesto, CA, Cause: Other outside force damage, 2011",
          "Elesmere, DE, Cause: Other outside force damage, 2011",
          "Oxon Hill, MD, Cause: Other outside force damage, 2011",
          "Birmingham, AL, Cause: Material failure of pipe or weld, 2011",
          "Montgomery, NY, Cause: Excavation damage, 2010",
          "Falls Church, VA, Cause: Other outside force damage, 2010",
          "Wayne, MI, Cause: Other incident cause, 2010",
          "Reno, NV, Cause: Corrosion failure, 2010",
          "Grand Isle, LA, Cause: Incorrect operation, 2010",
          "Earlville, IL, Cause: Other outside force damage, 2010",
          "Chantilly, VA, Cause: Other incident cause, 2010",
          "New York, NY, Cause: Other incident cause, 2010",
          "Fulton, IL, Cause: Other outside force damage, 2010",
          "Crystal City, MO, Cause: Other outside force damage, 2010",
          "New York, NY, Cause: Other incident cause, 2010",
          "Chicago, IL, Cause: Other incident cause, 2010",
          "Hyattsville, MD, Cause: Other outside force damage, 2010",
          "Gulf Shores, AL, Cause: Excavation damage, 2010",
          "Mount Pleasant, NY, Cause: Equipment failure, 2010",
          "Toledo, OH, Cause: Other outside force damage, 2010",
          "Jacksonville, IL, Cause: Other outside force damage, 2010",
          "Bronx, NY, Cause: Other outside force damage, 2010",
          "Hyde Park, MA, Cause: Excavation damage, 2010",
          "Lebanon, OH, Cause: Incorrect operation, 2010",
          "Mount Vernon, NY, Cause: Equipment failure, 2010",
          "Vancouver, WA, Cause: Other outside force damage, 2010",
          "Scottsboro, AL, Cause: Other outside force damage, 2010",
          "Sandwich, IL, Cause: Other outside force damage, 2010",
          "Sioux City, IA, Cause: Incorrect operation, 2010",
          "Greece, NY, Cause: Other incident cause, 2010",
          "Lansing, MI, Cause: Other incident cause, 2010",
          "Coeur D'Alene, ID, Cause: Other outside force damage, 2010",
          "Antioch, CA, Cause: Other outside force damage, 2010",
          "South Bend, IN, Cause: Excavation damage, 2010",
          "Walden, CO, Cause: Incorrect operation, 2010",
          "Omaha, NE, Cause: Other outside force damage, 2010",
          "Wilmington, DE, Cause: Natural force damage, 2010",
          "New Ulm, MN, Cause: Natural force damage, 2010",
          "Cairo, GA, Cause: Incorrect operation, 2010",
          "Andale, KS, Cause: Incorrect operation, 2010",
          "Centerville, IA, Cause: Other outside force damage, 2010",
          "Ashburn, GA, Cause: Other incident cause, 2010",
          "Easton, KS, Cause: Incorrect operation, 2010",
          "Pershing, IN, Cause: Material failure of pipe or weld, 2010",
          "Omaha, NE, Cause: Other outside force damage, 2010",
          "Burnsville, MN, Cause: Natural force damage, 2010",
          "Augusta, GA, Cause: Excavation damage, 2010",
          "Burton, MI, Cause: Other incident cause, 2010",
          "Roseville, CA, Cause: Material failure of pipe or weld, 2010",
          "Washington, DC, Cause: Other outside force damage, 2010",
          "Cottonwood, CA, Cause: Other outside force damage, 2010",
          "Omaha, NE, Cause: Other outside force damage, 2010",
          "Ashland, OR, Cause: Other outside force damage, 2010",
          "Los Altos, CA, Cause: Excavation damage, 2010",
          "Albuquerque, NM, Cause: Other incident cause, 2010",
          "Cleveland Heights, OH, Cause: Corrosion failure, 2010",
          "Los Angeles, CA, Cause: Other outside force damage, 2010",
          "San Diego, CA, Cause: Other outside force damage, 2010",
          "Silver Spring, MD, Cause: Other outside force damage, 2010",
          "Henrico, VA, Cause: Other outside force damage, 2010",
          "Milton, GA, Cause: Excavation damage, 2010",
          "Atlanta, GA, Cause: Excavation damage, 2010",
          "Las Vegas, NV, Cause: Excavation damage, 2010",
          "Sacramento, CA, Cause: Other outside force damage, 2010",
          "Monterey, TN, Cause: Excavation damage, 2010",
          "Houston, TX, Cause: Other outside force damage, 2010",
          "Danville, VA, Cause: Excavation damage, 2010",
          "Taft, CA, Cause: Other outside force damage, 2010",
          "Gerber, CA, Cause: Other outside force damage, 2010",
          "Anderson, CA, Cause: Other outside force damage, 2010",
          "Schram City, IL, Cause: Excavation damage, 2010",
          "Kawkawlin, MI, Cause: Other outside force damage, 2010",
          "Martin, KY, Cause: Excavation damage, 2010",
          "Village Of Mamaroneck, NY, Cause: Other incident cause, 2010",
          "Franklin Park, IL, Cause: Excavation damage, 2010",
          "Stockton, CA, Cause: Other outside force damage, 2010",
          "Highland, MI, Cause: Other outside force damage, 2010",
          "Cicero, IL, Cause: Corrosion failure, 2010",
          "Charleston, SC, Cause: Other outside force damage, 2010",
          "Louisville, KY, Cause: Other outside force damage, 2010",
          "Columbia Falls, MT, Cause: Excavation damage, 2010",
          "Laurel, MD, Cause: Other outside force damage, 2010",
          "Mobile, AL, Cause: Other outside force damage, 2010",
          "Burgettstown, PA, Cause: Excavation damage, 2010",
          "Newtown Square, PA, Cause: Excavation damage, 2010",
          "Modesto, CA, Cause: Other outside force damage, 2010",
          "Franklin Township, NJ, Cause: Excavation damage, 2010",
          "Calhoun, GA, Cause: Other incident cause, 2010",
          "Brooklyn Park, MN, Cause: Natural force damage, 2010",
          "Louisville, KY, Cause: Other outside force damage, 2010",
          "Clifton City, NJ, Cause: Excavation damage, 2010",
          "Oklahoma City, OK, Cause: Excavation damage, 2010",
          "Withamsville, OH, Cause: Incorrect operation, 2010",
          "Los Alamos, NM, Cause: Other outside force damage, 2010",
          "Elm Mott, TX, Cause: Other outside force damage, 2010",
          "Chicago, IL, Cause: Material failure of pipe or weld, 2010",
          "Cocoa, FL, Cause: Equipment failure, 2010",
          "Kewanee, IL, Cause: Natural force damage, 2010",
          "Pleasant Grove, UT, Cause: Other outside force damage, 2010",
          "Edina, MN, Cause: Excavation damage, 2010",
          "Pinetop, AZ, Cause: Natural force damage, 2010",
          "Kirtland, NM, Cause: Other outside force damage, 2010",
          "Mount Prospect, IL, Cause: Corrosion failure, 2010",
          "Beach City, TX, Cause: Other outside force damage, 2010",
          "Denver, CO, Cause: Excavation damage, 2010",
          "South Bend, IN, Cause: Excavation damage, 2010",
          "Stockton, CA, Cause: Other outside force damage, 2010",
          "Poland, OH, Cause: Other incident cause, 2010",
          "Sacramento, CA, Cause: Other outside force damage, 2010",
          "Richmond, VA, Cause: Other outside force damage, 2010",
          "Page, AZ, Cause: Excavation damage, 2010",
          "Saint Paul, MN, Cause: Other outside force damage, 2010",
          "Irving, TX, Cause: Other incident cause, 2010",
          "Florence, AL, Cause: Other outside force damage, 2010",
          "Reading, MA, Cause: Natural force damage, 2010",
          "Cleveland, OH, Cause: Other outside force damage, 2010",
          "Wichita Falls, TX, Cause: Material failure of pipe or weld, 2010",
          "Edison, NJ, Cause: Natural force damage, 2010",
          "Waltham, MA, Cause: Incorrect operation, 2010",
          "Elgin, IL, Cause: Material failure of pipe or weld, 2010",
          "Spanish Lake, MO, Cause: Other outside force damage, 2010",
          "Eureka, CA, Cause: Natural force damage, 2010",
          "Amarillo, TX, Cause: Corrosion failure, 2010"
         ],
         "type": "scattergeo"
        }
       ],
       "layout": {
        "geo": {
         "scope": "usa"
        },
        "margin": {
         "b": 0,
         "l": 0,
         "r": 0,
         "t": 0
        },
        "template": {
         "data": {
          "bar": [
           {
            "error_x": {
             "color": "#2a3f5f"
            },
            "error_y": {
             "color": "#2a3f5f"
            },
            "marker": {
             "line": {
              "color": "#E5ECF6",
              "width": 0.5
             },
             "pattern": {
              "fillmode": "overlay",
              "size": 10,
              "solidity": 0.2
             }
            },
            "type": "bar"
           }
          ],
          "barpolar": [
           {
            "marker": {
             "line": {
              "color": "#E5ECF6",
              "width": 0.5
             },
             "pattern": {
              "fillmode": "overlay",
              "size": 10,
              "solidity": 0.2
             }
            },
            "type": "barpolar"
           }
          ],
          "carpet": [
           {
            "aaxis": {
             "endlinecolor": "#2a3f5f",
             "gridcolor": "white",
             "linecolor": "white",
             "minorgridcolor": "white",
             "startlinecolor": "#2a3f5f"
            },
            "baxis": {
             "endlinecolor": "#2a3f5f",
             "gridcolor": "white",
             "linecolor": "white",
             "minorgridcolor": "white",
             "startlinecolor": "#2a3f5f"
            },
            "type": "carpet"
           }
          ],
          "choropleth": [
           {
            "colorbar": {
             "outlinewidth": 0,
             "ticks": ""
            },
            "type": "choropleth"
           }
          ],
          "contour": [
           {
            "colorbar": {
             "outlinewidth": 0,
             "ticks": ""
            },
            "colorscale": [
             [
              0,
              "#0d0887"
             ],
             [
              0.1111111111111111,
              "#46039f"
             ],
             [
              0.2222222222222222,
              "#7201a8"
             ],
             [
              0.3333333333333333,
              "#9c179e"
             ],
             [
              0.4444444444444444,
              "#bd3786"
             ],
             [
              0.5555555555555556,
              "#d8576b"
             ],
             [
              0.6666666666666666,
              "#ed7953"
             ],
             [
              0.7777777777777778,
              "#fb9f3a"
             ],
             [
              0.8888888888888888,
              "#fdca26"
             ],
             [
              1,
              "#f0f921"
             ]
            ],
            "type": "contour"
           }
          ],
          "contourcarpet": [
           {
            "colorbar": {
             "outlinewidth": 0,
             "ticks": ""
            },
            "type": "contourcarpet"
           }
          ],
          "heatmap": [
           {
            "colorbar": {
             "outlinewidth": 0,
             "ticks": ""
            },
            "colorscale": [
             [
              0,
              "#0d0887"
             ],
             [
              0.1111111111111111,
              "#46039f"
             ],
             [
              0.2222222222222222,
              "#7201a8"
             ],
             [
              0.3333333333333333,
              "#9c179e"
             ],
             [
              0.4444444444444444,
              "#bd3786"
             ],
             [
              0.5555555555555556,
              "#d8576b"
             ],
             [
              0.6666666666666666,
              "#ed7953"
             ],
             [
              0.7777777777777778,
              "#fb9f3a"
             ],
             [
              0.8888888888888888,
              "#fdca26"
             ],
             [
              1,
              "#f0f921"
             ]
            ],
            "type": "heatmap"
           }
          ],
          "heatmapgl": [
           {
            "colorbar": {
             "outlinewidth": 0,
             "ticks": ""
            },
            "colorscale": [
             [
              0,
              "#0d0887"
             ],
             [
              0.1111111111111111,
              "#46039f"
             ],
             [
              0.2222222222222222,
              "#7201a8"
             ],
             [
              0.3333333333333333,
              "#9c179e"
             ],
             [
              0.4444444444444444,
              "#bd3786"
             ],
             [
              0.5555555555555556,
              "#d8576b"
             ],
             [
              0.6666666666666666,
              "#ed7953"
             ],
             [
              0.7777777777777778,
              "#fb9f3a"
             ],
             [
              0.8888888888888888,
              "#fdca26"
             ],
             [
              1,
              "#f0f921"
             ]
            ],
            "type": "heatmapgl"
           }
          ],
          "histogram": [
           {
            "marker": {
             "pattern": {
              "fillmode": "overlay",
              "size": 10,
              "solidity": 0.2
             }
            },
            "type": "histogram"
           }
          ],
          "histogram2d": [
           {
            "colorbar": {
             "outlinewidth": 0,
             "ticks": ""
            },
            "colorscale": [
             [
              0,
              "#0d0887"
             ],
             [
              0.1111111111111111,
              "#46039f"
             ],
             [
              0.2222222222222222,
              "#7201a8"
             ],
             [
              0.3333333333333333,
              "#9c179e"
             ],
             [
              0.4444444444444444,
              "#bd3786"
             ],
             [
              0.5555555555555556,
              "#d8576b"
             ],
             [
              0.6666666666666666,
              "#ed7953"
             ],
             [
              0.7777777777777778,
              "#fb9f3a"
             ],
             [
              0.8888888888888888,
              "#fdca26"
             ],
             [
              1,
              "#f0f921"
             ]
            ],
            "type": "histogram2d"
           }
          ],
          "histogram2dcontour": [
           {
            "colorbar": {
             "outlinewidth": 0,
             "ticks": ""
            },
            "colorscale": [
             [
              0,
              "#0d0887"
             ],
             [
              0.1111111111111111,
              "#46039f"
             ],
             [
              0.2222222222222222,
              "#7201a8"
             ],
             [
              0.3333333333333333,
              "#9c179e"
             ],
             [
              0.4444444444444444,
              "#bd3786"
             ],
             [
              0.5555555555555556,
              "#d8576b"
             ],
             [
              0.6666666666666666,
              "#ed7953"
             ],
             [
              0.7777777777777778,
              "#fb9f3a"
             ],
             [
              0.8888888888888888,
              "#fdca26"
             ],
             [
              1,
              "#f0f921"
             ]
            ],
            "type": "histogram2dcontour"
           }
          ],
          "mesh3d": [
           {
            "colorbar": {
             "outlinewidth": 0,
             "ticks": ""
            },
            "type": "mesh3d"
           }
          ],
          "parcoords": [
           {
            "line": {
             "colorbar": {
              "outlinewidth": 0,
              "ticks": ""
             }
            },
            "type": "parcoords"
           }
          ],
          "pie": [
           {
            "automargin": true,
            "type": "pie"
           }
          ],
          "scatter": [
           {
            "marker": {
             "colorbar": {
              "outlinewidth": 0,
              "ticks": ""
             }
            },
            "type": "scatter"
           }
          ],
          "scatter3d": [
           {
            "line": {
             "colorbar": {
              "outlinewidth": 0,
              "ticks": ""
             }
            },
            "marker": {
             "colorbar": {
              "outlinewidth": 0,
              "ticks": ""
             }
            },
            "type": "scatter3d"
           }
          ],
          "scattercarpet": [
           {
            "marker": {
             "colorbar": {
              "outlinewidth": 0,
              "ticks": ""
             }
            },
            "type": "scattercarpet"
           }
          ],
          "scattergeo": [
           {
            "marker": {
             "colorbar": {
              "outlinewidth": 0,
              "ticks": ""
             }
            },
            "type": "scattergeo"
           }
          ],
          "scattergl": [
           {
            "marker": {
             "colorbar": {
              "outlinewidth": 0,
              "ticks": ""
             }
            },
            "type": "scattergl"
           }
          ],
          "scattermapbox": [
           {
            "marker": {
             "colorbar": {
              "outlinewidth": 0,
              "ticks": ""
             }
            },
            "type": "scattermapbox"
           }
          ],
          "scatterpolar": [
           {
            "marker": {
             "colorbar": {
              "outlinewidth": 0,
              "ticks": ""
             }
            },
            "type": "scatterpolar"
           }
          ],
          "scatterpolargl": [
           {
            "marker": {
             "colorbar": {
              "outlinewidth": 0,
              "ticks": ""
             }
            },
            "type": "scatterpolargl"
           }
          ],
          "scatterternary": [
           {
            "marker": {
             "colorbar": {
              "outlinewidth": 0,
              "ticks": ""
             }
            },
            "type": "scatterternary"
           }
          ],
          "surface": [
           {
            "colorbar": {
             "outlinewidth": 0,
             "ticks": ""
            },
            "colorscale": [
             [
              0,
              "#0d0887"
             ],
             [
              0.1111111111111111,
              "#46039f"
             ],
             [
              0.2222222222222222,
              "#7201a8"
             ],
             [
              0.3333333333333333,
              "#9c179e"
             ],
             [
              0.4444444444444444,
              "#bd3786"
             ],
             [
              0.5555555555555556,
              "#d8576b"
             ],
             [
              0.6666666666666666,
              "#ed7953"
             ],
             [
              0.7777777777777778,
              "#fb9f3a"
             ],
             [
              0.8888888888888888,
              "#fdca26"
             ],
             [
              1,
              "#f0f921"
             ]
            ],
            "type": "surface"
           }
          ],
          "table": [
           {
            "cells": {
             "fill": {
              "color": "#EBF0F8"
             },
             "line": {
              "color": "white"
             }
            },
            "header": {
             "fill": {
              "color": "#C8D4E3"
             },
             "line": {
              "color": "white"
             }
            },
            "type": "table"
           }
          ]
         },
         "layout": {
          "annotationdefaults": {
           "arrowcolor": "#2a3f5f",
           "arrowhead": 0,
           "arrowwidth": 1
          },
          "autotypenumbers": "strict",
          "coloraxis": {
           "colorbar": {
            "outlinewidth": 0,
            "ticks": ""
           }
          },
          "colorscale": {
           "diverging": [
            [
             0,
             "#8e0152"
            ],
            [
             0.1,
             "#c51b7d"
            ],
            [
             0.2,
             "#de77ae"
            ],
            [
             0.3,
             "#f1b6da"
            ],
            [
             0.4,
             "#fde0ef"
            ],
            [
             0.5,
             "#f7f7f7"
            ],
            [
             0.6,
             "#e6f5d0"
            ],
            [
             0.7,
             "#b8e186"
            ],
            [
             0.8,
             "#7fbc41"
            ],
            [
             0.9,
             "#4d9221"
            ],
            [
             1,
             "#276419"
            ]
           ],
           "sequential": [
            [
             0,
             "#0d0887"
            ],
            [
             0.1111111111111111,
             "#46039f"
            ],
            [
             0.2222222222222222,
             "#7201a8"
            ],
            [
             0.3333333333333333,
             "#9c179e"
            ],
            [
             0.4444444444444444,
             "#bd3786"
            ],
            [
             0.5555555555555556,
             "#d8576b"
            ],
            [
             0.6666666666666666,
             "#ed7953"
            ],
            [
             0.7777777777777778,
             "#fb9f3a"
            ],
            [
             0.8888888888888888,
             "#fdca26"
            ],
            [
             1,
             "#f0f921"
            ]
           ],
           "sequentialminus": [
            [
             0,
             "#0d0887"
            ],
            [
             0.1111111111111111,
             "#46039f"
            ],
            [
             0.2222222222222222,
             "#7201a8"
            ],
            [
             0.3333333333333333,
             "#9c179e"
            ],
            [
             0.4444444444444444,
             "#bd3786"
            ],
            [
             0.5555555555555556,
             "#d8576b"
            ],
            [
             0.6666666666666666,
             "#ed7953"
            ],
            [
             0.7777777777777778,
             "#fb9f3a"
            ],
            [
             0.8888888888888888,
             "#fdca26"
            ],
            [
             1,
             "#f0f921"
            ]
           ]
          },
          "colorway": [
           "#636efa",
           "#EF553B",
           "#00cc96",
           "#ab63fa",
           "#FFA15A",
           "#19d3f3",
           "#FF6692",
           "#B6E880",
           "#FF97FF",
           "#FECB52"
          ],
          "font": {
           "color": "#2a3f5f"
          },
          "geo": {
           "bgcolor": "white",
           "lakecolor": "white",
           "landcolor": "#E5ECF6",
           "showlakes": true,
           "showland": true,
           "subunitcolor": "white"
          },
          "hoverlabel": {
           "align": "left"
          },
          "hovermode": "closest",
          "mapbox": {
           "style": "light"
          },
          "paper_bgcolor": "white",
          "plot_bgcolor": "#E5ECF6",
          "polar": {
           "angularaxis": {
            "gridcolor": "white",
            "linecolor": "white",
            "ticks": ""
           },
           "bgcolor": "#E5ECF6",
           "radialaxis": {
            "gridcolor": "white",
            "linecolor": "white",
            "ticks": ""
           }
          },
          "scene": {
           "xaxis": {
            "backgroundcolor": "#E5ECF6",
            "gridcolor": "white",
            "gridwidth": 2,
            "linecolor": "white",
            "showbackground": true,
            "ticks": "",
            "zerolinecolor": "white"
           },
           "yaxis": {
            "backgroundcolor": "#E5ECF6",
            "gridcolor": "white",
            "gridwidth": 2,
            "linecolor": "white",
            "showbackground": true,
            "ticks": "",
            "zerolinecolor": "white"
           },
           "zaxis": {
            "backgroundcolor": "#E5ECF6",
            "gridcolor": "white",
            "gridwidth": 2,
            "linecolor": "white",
            "showbackground": true,
            "ticks": "",
            "zerolinecolor": "white"
           }
          },
          "shapedefaults": {
           "line": {
            "color": "#2a3f5f"
           }
          },
          "ternary": {
           "aaxis": {
            "gridcolor": "white",
            "linecolor": "white",
            "ticks": ""
           },
           "baxis": {
            "gridcolor": "white",
            "linecolor": "white",
            "ticks": ""
           },
           "bgcolor": "#E5ECF6",
           "caxis": {
            "gridcolor": "white",
            "linecolor": "white",
            "ticks": ""
           }
          },
          "title": {
           "x": 0.05
          },
          "xaxis": {
           "automargin": true,
           "gridcolor": "white",
           "linecolor": "white",
           "ticks": "",
           "title": {
            "standoff": 15
           },
           "zerolinecolor": "white",
           "zerolinewidth": 2
          },
          "yaxis": {
           "automargin": true,
           "gridcolor": "white",
           "linecolor": "white",
           "ticks": "",
           "title": {
            "standoff": 15
           },
           "zerolinecolor": "white",
           "zerolinewidth": 2
          }
         }
        },
        "title": {
         "text": "Gas distribution line incidents in the last 10 years"
        }
       }
      }
     },
     "metadata": {},
     "output_type": "display_data"
    }
   ],
   "source": [
    "# I have discovered some outliers that fall outside the continental USA, so I will explude those: \n",
    "Gas_Dist_Acc = Gas_Dist_Acc[(-140<Gas_Dist_Acc['LOCATION_LONGITUDE']) & (Gas_Dist_Acc['LOCATION_LONGITUDE']<-50)]\n",
    "Gas_Dist_Acc = Gas_Dist_Acc[Gas_Dist_Acc['LOCATION_LATITUDE']<50]\n",
    "\n",
    "#Formatting  \n",
    "Gas_Dist_Acc['hover_text'] = Gas_Dist_Acc[\"LOCATION_CITY_NAME\"].str.title()+\", \"+ Gas_Dist_Acc[\"LOCATION_STATE_ABBREVIATION\"]+ \", \"+\"Cause: \"+Gas_Dist_Acc['CAUSE'].str.lower().str.capitalize()+\", \" + Gas_Dist_Acc[\"IYEAR\"].astype(str)\n",
    "\n",
    "fig = go.Figure(data = go.Scattergeo(\n",
    "                    lat=Gas_Dist_Acc.LOCATION_LATITUDE, lon=Gas_Dist_Acc.LOCATION_LONGITUDE,\n",
    "                    text=Gas_Dist_Acc['hover_text'], \n",
    "                    mode = 'markers',\n",
    "                   marker = dict(\n",
    "                    size = 8,\n",
    "                    opacity = 0.8,\n",
    "                    reversescale = True,\n",
    "                    autocolorscale = False,\n",
    "                    symbol = 'triangle-up',\n",
    "                    line = dict(\n",
    "                        width=1,\n",
    "                        color='rgba(102, 102, 102)'\n",
    "                    ),\n",
    "                    colorscale = 'greens',\n",
    "                    cmin = 2010,\n",
    "                    color = Gas_Dist_Acc.IYEAR,\n",
    "                    cmax = Gas_Dist_Acc.IYEAR.max(),\n",
    "                    colorbar_title=\"Incident Year\")))\n",
    "\n",
    "fig.update_layout(\n",
    "        title = 'Gas distribution line incidents in the last 10 years',\n",
    "        geo_scope='usa'\n",
    "    )\n",
    "\n",
    "fig.update_layout(margin={\"r\":0,\"t\":0,\"l\":0,\"b\":0})\n",
    "fig.show()"
   ]
  },
  {
   "cell_type": "code",
   "execution_count": 17,
   "metadata": {},
   "outputs": [
    {
     "data": {
      "application/vnd.plotly.v1+json": {
       "config": {
        "plotlyServerURL": "https://plot.ly"
       },
       "data": [
        {
         "customdata": [
          [
           "MISCELLANEOUS",
           2022
          ],
          [
           "EROSION OF SUPPORT DUE TO OTHER UTILITIES",
           2022
          ],
          [
           "EXCAVATION DAMAGE BY THIRD PARTY",
           2022
          ],
          [
           "EXCAVATION DAMAGE BY THIRD PARTY",
           2022
          ],
          [
           "UNKNOWN",
           2022
          ],
          [
           "MISCELLANEOUS",
           2022
          ],
          [
           "BUTT WELD",
           2022
          ],
          [
           "OTHER OUTSIDE FORCE DAMAGE",
           2022
          ],
          [
           "OTHER PIPE, WELD, OR JOINT FAILURE",
           2022
          ],
          [
           "DAMAGE BY CAR, TRUCK, OR OTHER MOTORIZED VEHICLE/EQUIPMENT NOT ENGAGED IN EXCAVATION",
           2022
          ],
          [
           "EXTERNAL CORROSION",
           2022
          ],
          [
           "NEARBY INDUSTRIAL, MAN-MADE, OR OTHER FIRE/EXPLOSION AS PRIMARY CAUSE OF INCIDENT",
           2022
          ],
          [
           "UNKNOWN",
           2022
          ],
          [
           "MALFUNCTION OF CONTROL/RELIEF EQUIPMENT",
           2022
          ],
          [
           "SNOW/ICE IMPACT OR ACCUMULATION",
           2022
          ],
          [
           "EXCAVATION DAMAGE BY THIRD PARTY",
           2022
          ],
          [
           "EXCAVATION DAMAGE BY THIRD PARTY",
           2021
          ],
          [
           "ELECTRICAL ARCING FROM OTHER EQUIPMENT OR FACILITY",
           2021
          ],
          [
           "DAMAGE BY CAR, TRUCK, OR OTHER MOTORIZED VEHICLE/EQUIPMENT NOT ENGAGED IN EXCAVATION",
           2021
          ],
          [
           "EXCAVATION DAMAGE BY THIRD PARTY",
           2021
          ],
          [
           "EXCAVATION DAMAGE BY THIRD PARTY",
           2021
          ],
          [
           "DAMAGE BY CAR, TRUCK, OR OTHER MOTORIZED VEHICLE/EQUIPMENT NOT ENGAGED IN EXCAVATION",
           2021
          ],
          [
           "OTHER INCORRECT OPERATION ",
           2021
          ],
          [
           "UNKNOWN",
           2021
          ],
          [
           "EXCAVATION DAMAGE BY THIRD PARTY",
           2021
          ],
          [
           "NEARBY INDUSTRIAL, MAN-MADE, OR OTHER FIRE/EXPLOSION AS PRIMARY CAUSE OF INCIDENT",
           2021
          ],
          [
           "EXCAVATION DAMAGE BY THIRD PARTY",
           2021
          ],
          [
           "EXCAVATION DAMAGE BY THIRD PARTY",
           2021
          ],
          [
           "EQUIPMENT NOT INSTALLED PROPERLY",
           2021
          ],
          [
           "EXCAVATION DAMAGE BY THIRD PARTY",
           2021
          ],
          [
           "LIGHTNING",
           2021
          ],
          [
           "EXCAVATION DAMAGE BY THIRD PARTY",
           2021
          ],
          [
           "OTHER OUTSIDE FORCE DAMAGE",
           2021
          ],
          [
           "EXCAVATION DAMAGE BY THIRD PARTY",
           2021
          ],
          [
           "LIGHTNING",
           2021
          ],
          [
           "EXCAVATION DAMAGE BY THIRD PARTY",
           2021
          ],
          [
           "EXCAVATION DAMAGE BY THIRD PARTY",
           2021
          ],
          [
           "DAMAGE BY CAR, TRUCK, OR OTHER MOTORIZED VEHICLE/EQUIPMENT NOT ENGAGED IN EXCAVATION",
           2021
          ],
          [
           "OTHER INCORRECT OPERATION ",
           2021
          ],
          [
           "OTHER OUTSIDE FORCE DAMAGE",
           2021
          ],
          [
           "UNKNOWN",
           2021
          ],
          [
           "BODY OF PIPE",
           2021
          ],
          [
           "EXCAVATION DAMAGE BY THIRD PARTY",
           2021
          ],
          [
           "EQUIPMENT NOT INSTALLED PROPERLY",
           2021
          ],
          [
           "EXCAVATION DAMAGE BY THIRD PARTY",
           2021
          ],
          [
           "HEAVY RAINS/FLOODS",
           2021
          ],
          [
           "EROSION OF SUPPORT DUE TO OTHER UTILITIES",
           2021
          ],
          [
           "EXCAVATION DAMAGE BY THIRD PARTY",
           2021
          ],
          [
           "NEARBY INDUSTRIAL, MAN-MADE, OR OTHER FIRE/EXPLOSION AS PRIMARY CAUSE OF INCIDENT",
           2021
          ],
          [
           "NEARBY INDUSTRIAL, MAN-MADE, OR OTHER FIRE/EXPLOSION AS PRIMARY CAUSE OF INCIDENT",
           2021
          ],
          [
           "EXTERNAL CORROSION",
           2021
          ],
          [
           "EXCAVATION DAMAGE BY OPERATOR'S CONTRACTOR (SECOND PARTY)",
           2021
          ],
          [
           "EXCAVATION DAMAGE BY THIRD PARTY",
           2021
          ],
          [
           "EXCAVATION DAMAGE BY THIRD PARTY",
           2021
          ],
          [
           "PREVIOUS DAMAGE DUE TO EXCAVATION ACTIVITY",
           2021
          ],
          [
           "EXCAVATION DAMAGE BY THIRD PARTY",
           2021
          ],
          [
           "UNKNOWN",
           2021
          ],
          [
           "DAMAGE BY CAR, TRUCK, OR OTHER MOTORIZED VEHICLE/EQUIPMENT NOT ENGAGED IN EXCAVATION",
           2021
          ],
          [
           "EXCAVATION DAMAGE BY THIRD PARTY",
           2021
          ],
          [
           "EXCAVATION DAMAGE BY THIRD PARTY",
           2021
          ],
          [
           "EXCAVATION DAMAGE BY OPERATOR (FIRST PARTY)",
           2021
          ],
          [
           "NEARBY INDUSTRIAL, MAN-MADE, OR OTHER FIRE/EXPLOSION AS PRIMARY CAUSE OF INCIDENT",
           2021
          ],
          [
           "DAMAGE BY CAR, TRUCK, OR OTHER MOTORIZED VEHICLE/EQUIPMENT NOT ENGAGED IN EXCAVATION",
           2021
          ],
          [
           "DAMAGE BY CAR, TRUCK, OR OTHER MOTORIZED VEHICLE/EQUIPMENT NOT ENGAGED IN EXCAVATION",
           2021
          ],
          [
           "EXCAVATION DAMAGE BY THIRD PARTY",
           2021
          ],
          [
           "EXCAVATION DAMAGE BY THIRD PARTY",
           2021
          ],
          [
           "OTHER INCORRECT OPERATION ",
           2021
          ],
          [
           "EXCAVATION DAMAGE BY OPERATOR'S CONTRACTOR (SECOND PARTY)",
           2021
          ],
          [
           "EXCAVATION DAMAGE BY THIRD PARTY",
           2021
          ],
          [
           "EXCAVATION DAMAGE BY THIRD PARTY",
           2021
          ],
          [
           "ELECTRICAL ARCING FROM OTHER EQUIPMENT OR FACILITY",
           2021
          ],
          [
           "EXCAVATION DAMAGE BY THIRD PARTY",
           2021
          ],
          [
           "EXCAVATION DAMAGE BY THIRD PARTY",
           2021
          ],
          [
           "UNKNOWN",
           2021
          ],
          [
           "EXCAVATION DAMAGE BY THIRD PARTY",
           2021
          ],
          [
           "EXCAVATION DAMAGE BY THIRD PARTY",
           2021
          ],
          [
           "EXCAVATION DAMAGE BY THIRD PARTY",
           2021
          ],
          [
           "DAMAGE BY CAR, TRUCK, OR OTHER MOTORIZED VEHICLE/EQUIPMENT NOT ENGAGED IN EXCAVATION",
           2021
          ],
          [
           "ELECTRICAL ARCING FROM OTHER EQUIPMENT OR FACILITY",
           2021
          ],
          [
           "EXTERNAL CORROSION",
           2021
          ],
          [
           "EXCAVATION DAMAGE BY THIRD PARTY",
           2021
          ],
          [
           "EXCAVATION DAMAGE BY THIRD PARTY",
           2021
          ],
          [
           "DAMAGE BY CAR, TRUCK, OR OTHER MOTORIZED VEHICLE/EQUIPMENT NOT ENGAGED IN EXCAVATION",
           2021
          ],
          [
           "MALFUNCTION OF CONTROL/RELIEF EQUIPMENT",
           2021
          ],
          [
           "EXTERNAL CORROSION",
           2021
          ],
          [
           "INTENTIONAL DAMAGE",
           2021
          ],
          [
           "PREVIOUS DAMAGE DUE TO EXCAVATION ACTIVITY",
           2021
          ],
          [
           "EXCAVATION DAMAGE BY THIRD PARTY",
           2021
          ],
          [
           "EXTERNAL CORROSION",
           2021
          ],
          [
           "EXCAVATION DAMAGE BY THIRD PARTY",
           2021
          ],
          [
           "UNKNOWN",
           2021
          ],
          [
           "UNKNOWN",
           2021
          ],
          [
           "DAMAGE BY CAR, TRUCK, OR OTHER MOTORIZED VEHICLE/EQUIPMENT NOT ENGAGED IN EXCAVATION",
           2021
          ],
          [
           "FUSION JOINT",
           2021
          ],
          [
           "OTHER OUTSIDE FORCE DAMAGE",
           2021
          ],
          [
           "EXCAVATION DAMAGE BY THIRD PARTY",
           2021
          ],
          [
           "INTENTIONAL DAMAGE",
           2021
          ],
          [
           "OTHER OUTSIDE FORCE DAMAGE",
           2021
          ],
          [
           "VALVE",
           2021
          ],
          [
           "ELECTRICAL ARCING FROM OTHER EQUIPMENT OR FACILITY",
           2021
          ],
          [
           "EXCAVATION DAMAGE BY THIRD PARTY",
           2021
          ],
          [
           "EXCAVATION DAMAGE BY THIRD PARTY",
           2021
          ],
          [
           "FUSION JOINT",
           2021
          ],
          [
           "EXCAVATION DAMAGE BY THIRD PARTY",
           2021
          ],
          [
           "UNKNOWN",
           2020
          ],
          [
           "INTENTIONAL DAMAGE",
           2020
          ],
          [
           "EARTH MOVEMENT, NOT DUE TO HEAVY RAINS/FLOODS",
           2020
          ],
          [
           "EXCAVATION DAMAGE BY THIRD PARTY",
           2020
          ],
          [
           "DAMAGE BY CAR, TRUCK, OR OTHER MOTORIZED VEHICLE/EQUIPMENT NOT ENGAGED IN EXCAVATION",
           2020
          ],
          [
           "DAMAGE BY CAR, TRUCK, OR OTHER MOTORIZED VEHICLE/EQUIPMENT NOT ENGAGED IN EXCAVATION",
           2020
          ],
          [
           "EXCAVATION DAMAGE BY THIRD PARTY",
           2020
          ],
          [
           "NEARBY INDUSTRIAL, MAN-MADE, OR OTHER FIRE/EXPLOSION AS PRIMARY CAUSE OF INCIDENT",
           2020
          ],
          [
           "EXCAVATION DAMAGE BY THIRD PARTY",
           2020
          ],
          [
           "INTENTIONAL DAMAGE",
           2020
          ],
          [
           "EXCAVATION DAMAGE BY THIRD PARTY",
           2020
          ],
          [
           "EXCAVATION DAMAGE BY THIRD PARTY",
           2020
          ],
          [
           "ELECTRICAL ARCING FROM OTHER EQUIPMENT OR FACILITY",
           2020
          ],
          [
           "OTHER INCORRECT OPERATION ",
           2020
          ],
          [
           "EXCAVATION DAMAGE BY THIRD PARTY",
           2020
          ],
          [
           "FUSION JOINT",
           2020
          ],
          [
           "OTHER INCORRECT OPERATION ",
           2020
          ],
          [
           "EXCAVATION DAMAGE BY THIRD PARTY",
           2020
          ],
          [
           "MISCELLANEOUS",
           2020
          ],
          [
           "FUSION JOINT",
           2020
          ],
          [
           "EXCAVATION DAMAGE BY THIRD PARTY",
           2020
          ],
          [
           "DAMAGE BY CAR, TRUCK, OR OTHER MOTORIZED VEHICLE/EQUIPMENT NOT ENGAGED IN EXCAVATION",
           2020
          ],
          [
           "EXCAVATION DAMAGE BY THIRD PARTY",
           2020
          ],
          [
           "BODY OF PIPE",
           2020
          ],
          [
           "EXCAVATION DAMAGE BY THIRD PARTY",
           2020
          ],
          [
           "EXCAVATION DAMAGE BY THIRD PARTY",
           2020
          ],
          [
           "OTHER INCORRECT OPERATION ",
           2020
          ],
          [
           "EXCAVATION DAMAGE BY THIRD PARTY",
           2020
          ],
          [
           "VALVE LEFT OR PLACED IN WRONG POSITION, BUT NOT RESULTING IN AN OVERPRESSURE",
           2020
          ],
          [
           "PIPELINE OR EQUIPMENT OVERPRESSURED",
           2020
          ],
          [
           "EXCAVATION DAMAGE BY THIRD PARTY",
           2020
          ],
          [
           "EXCAVATION DAMAGE BY THIRD PARTY",
           2020
          ],
          [
           "OTHER INCORRECT OPERATION ",
           2020
          ],
          [
           "EXCAVATION DAMAGE BY THIRD PARTY",
           2020
          ],
          [
           "EXCAVATION DAMAGE BY THIRD PARTY",
           2020
          ],
          [
           "EXCAVATION DAMAGE BY THIRD PARTY",
           2020
          ],
          [
           "EXCAVATION DAMAGE BY THIRD PARTY",
           2020
          ],
          [
           "VALVE",
           2020
          ],
          [
           "ELECTRICAL ARCING FROM OTHER EQUIPMENT OR FACILITY",
           2020
          ],
          [
           "OTHER OUTSIDE FORCE DAMAGE",
           2020
          ],
          [
           "NEARBY INDUSTRIAL, MAN-MADE, OR OTHER FIRE/EXPLOSION AS PRIMARY CAUSE OF INCIDENT",
           2020
          ],
          [
           "UNKNOWN",
           2020
          ],
          [
           "OTHER NATURAL FORCE DAMAGE",
           2020
          ],
          [
           "NON-THREADED CONNECTION FAILURE",
           2020
          ],
          [
           "EXTERNAL CORROSION",
           2020
          ],
          [
           "DAMAGE BY CAR, TRUCK, OR OTHER MOTORIZED VEHICLE/EQUIPMENT NOT ENGAGED IN EXCAVATION",
           2020
          ],
          [
           "EXCAVATION DAMAGE BY THIRD PARTY",
           2020
          ],
          [
           "LIGHTNING",
           2020
          ],
          [
           "UNKNOWN",
           2020
          ],
          [
           "NEARBY INDUSTRIAL, MAN-MADE, OR OTHER FIRE/EXPLOSION AS PRIMARY CAUSE OF INCIDENT",
           2020
          ],
          [
           "EXCAVATION DAMAGE BY THIRD PARTY",
           2020
          ],
          [
           "UNKNOWN",
           2020
          ],
          [
           "ELECTRICAL ARCING FROM OTHER EQUIPMENT OR FACILITY",
           2020
          ],
          [
           "DAMAGE BY CAR, TRUCK, OR OTHER MOTORIZED VEHICLE/EQUIPMENT NOT ENGAGED IN EXCAVATION",
           2020
          ],
          [
           "EXCAVATION DAMAGE BY THIRD PARTY",
           2020
          ],
          [
           "EXCAVATION DAMAGE BY THIRD PARTY",
           2020
          ],
          [
           "EXCAVATION DAMAGE BY OPERATOR'S CONTRACTOR (SECOND PARTY)",
           2020
          ],
          [
           "DAMAGE BY OPERATOR OR OPERATOR'S CONTRACTOR NOT RELATED TO EXCAVATION AND NOT DUE TO MOTORIZED VEHICLE/EQUIPMENT DAMAGE",
           2020
          ],
          [
           "ELECTRICAL ARCING FROM OTHER EQUIPMENT OR FACILITY",
           2020
          ],
          [
           "LIGHTNING",
           2020
          ],
          [
           "EXCAVATION DAMAGE BY THIRD PARTY",
           2020
          ],
          [
           "OTHER INCORRECT OPERATION ",
           2020
          ],
          [
           "EXCAVATION DAMAGE BY THIRD PARTY",
           2020
          ],
          [
           "EXCAVATION DAMAGE BY THIRD PARTY",
           2020
          ],
          [
           "OTHER OUTSIDE FORCE DAMAGE",
           2020
          ],
          [
           "EXCAVATION DAMAGE BY THIRD PARTY",
           2020
          ],
          [
           "HIGH WINDS",
           2020
          ],
          [
           "EXCAVATION DAMAGE BY THIRD PARTY",
           2020
          ],
          [
           "UNKNOWN",
           2020
          ],
          [
           "DAMAGE BY CAR, TRUCK, OR OTHER MOTORIZED VEHICLE/EQUIPMENT NOT ENGAGED IN EXCAVATION",
           2020
          ],
          [
           "DAMAGE BY CAR, TRUCK, OR OTHER MOTORIZED VEHICLE/EQUIPMENT NOT ENGAGED IN EXCAVATION",
           2020
          ],
          [
           "EXCAVATION DAMAGE BY THIRD PARTY",
           2020
          ],
          [
           "HEAVY RAINS/FLOODS",
           2020
          ],
          [
           "WRONG EQUIPMENT SPECIFIED OR INSTALLED",
           2020
          ],
          [
           "EXCAVATION DAMAGE BY THIRD PARTY",
           2020
          ],
          [
           "EXCAVATION DAMAGE BY THIRD PARTY",
           2020
          ],
          [
           "EXCAVATION DAMAGE BY THIRD PARTY",
           2020
          ],
          [
           "EXCAVATION DAMAGE BY OPERATOR (FIRST PARTY)",
           2020
          ],
          [
           "PIPELINE OR EQUIPMENT OVERPRESSURED",
           2020
          ],
          [
           "EXCAVATION DAMAGE BY THIRD PARTY",
           2020
          ],
          [
           "FUSION JOINT",
           2020
          ],
          [
           "EXCAVATION DAMAGE BY THIRD PARTY",
           2020
          ],
          [
           "DAMAGE BY CAR, TRUCK, OR OTHER MOTORIZED VEHICLE/EQUIPMENT NOT ENGAGED IN EXCAVATION",
           2020
          ],
          [
           "EXCAVATION DAMAGE BY THIRD PARTY",
           2020
          ],
          [
           "EXCAVATION DAMAGE BY THIRD PARTY",
           2020
          ],
          [
           "DAMAGE BY CAR, TRUCK, OR OTHER MOTORIZED VEHICLE/EQUIPMENT NOT ENGAGED IN EXCAVATION",
           2020
          ],
          [
           "THREADED CONNECTION FAILURE",
           2020
          ],
          [
           "OTHER OUTSIDE FORCE DAMAGE",
           2020
          ],
          [
           "EXCAVATION DAMAGE BY THIRD PARTY",
           2020
          ],
          [
           "DAMAGE BY CAR, TRUCK, OR OTHER MOTORIZED VEHICLE/EQUIPMENT NOT ENGAGED IN EXCAVATION",
           2020
          ],
          [
           "OTHER NATURAL FORCE DAMAGE",
           2020
          ],
          [
           "EXCAVATION DAMAGE BY THIRD PARTY",
           2020
          ],
          [
           "EXCAVATION DAMAGE BY THIRD PARTY",
           2020
          ],
          [
           "THREADED CONNECTION FAILURE",
           2020
          ],
          [
           "EXCAVATION DAMAGE BY THIRD PARTY",
           2020
          ],
          [
           "DAMAGE BY OPERATOR OR OPERATOR'S CONTRACTOR NOT RELATED TO EXCAVATION AND NOT DUE TO MOTORIZED VEHICLE/EQUIPMENT DAMAGE",
           2020
          ],
          [
           "EXCAVATION DAMAGE BY THIRD PARTY",
           2020
          ],
          [
           "EXCAVATION DAMAGE BY THIRD PARTY",
           2020
          ],
          [
           "EXCAVATION DAMAGE BY THIRD PARTY",
           2020
          ],
          [
           "PREVIOUS DAMAGE DUE TO EXCAVATION ACTIVITY",
           2020
          ],
          [
           "EXTERNAL CORROSION",
           2020
          ],
          [
           "MECHANICAL JOINT FAILURE",
           2020
          ],
          [
           "LIGHTNING",
           2020
          ],
          [
           "OTHER PIPE, WELD, OR JOINT FAILURE",
           2020
          ],
          [
           "EXCAVATION DAMAGE BY THIRD PARTY",
           2020
          ],
          [
           "EXCAVATION DAMAGE BY OPERATOR'S CONTRACTOR (SECOND PARTY)",
           2020
          ],
          [
           "INTENTIONAL DAMAGE",
           2020
          ],
          [
           "DAMAGE BY CAR, TRUCK, OR OTHER MOTORIZED VEHICLE/EQUIPMENT NOT ENGAGED IN EXCAVATION",
           2019
          ],
          [
           "EXCAVATION DAMAGE BY THIRD PARTY",
           2019
          ],
          [
           "OTHER OUTSIDE FORCE DAMAGE",
           2019
          ],
          [
           "DAMAGE BY CAR, TRUCK, OR OTHER MOTORIZED VEHICLE/EQUIPMENT NOT ENGAGED IN EXCAVATION",
           2019
          ],
          [
           "PIPELINE OR EQUIPMENT OVERPRESSURED",
           2019
          ],
          [
           "EXCAVATION DAMAGE BY THIRD PARTY",
           2019
          ],
          [
           "EXCAVATION DAMAGE BY THIRD PARTY",
           2019
          ],
          [
           "EXCAVATION DAMAGE BY THIRD PARTY",
           2019
          ],
          [
           "EXCAVATION DAMAGE BY THIRD PARTY",
           2019
          ],
          [
           "UNKNOWN",
           2019
          ],
          [
           "DAMAGE BY CAR, TRUCK, OR OTHER MOTORIZED VEHICLE/EQUIPMENT NOT ENGAGED IN EXCAVATION",
           2019
          ],
          [
           "UNKNOWN",
           2019
          ],
          [
           "NEARBY INDUSTRIAL, MAN-MADE, OR OTHER FIRE/EXPLOSION AS PRIMARY CAUSE OF INCIDENT",
           2019
          ],
          [
           "DAMAGE BY CAR, TRUCK, OR OTHER MOTORIZED VEHICLE/EQUIPMENT NOT ENGAGED IN EXCAVATION",
           2019
          ],
          [
           "EXCAVATION DAMAGE BY THIRD PARTY",
           2019
          ],
          [
           "EXCAVATION DAMAGE BY THIRD PARTY",
           2019
          ],
          [
           "OTHER OUTSIDE FORCE DAMAGE",
           2019
          ],
          [
           "DAMAGE BY CAR, TRUCK, OR OTHER MOTORIZED VEHICLE/EQUIPMENT NOT ENGAGED IN EXCAVATION",
           2019
          ],
          [
           "BUTT WELD",
           2019
          ],
          [
           "EXCAVATION DAMAGE BY THIRD PARTY",
           2019
          ],
          [
           "DAMAGE BY CAR, TRUCK, OR OTHER MOTORIZED VEHICLE/EQUIPMENT NOT ENGAGED IN EXCAVATION",
           2019
          ],
          [
           "EXCAVATION DAMAGE BY THIRD PARTY",
           2019
          ],
          [
           "ELECTRICAL ARCING FROM OTHER EQUIPMENT OR FACILITY",
           2019
          ],
          [
           "DAMAGE BY CAR, TRUCK, OR OTHER MOTORIZED VEHICLE/EQUIPMENT NOT ENGAGED IN EXCAVATION",
           2019
          ],
          [
           "EXCAVATION DAMAGE BY THIRD PARTY",
           2019
          ],
          [
           "EXCAVATION DAMAGE BY THIRD PARTY",
           2019
          ],
          [
           "ELECTRICAL ARCING FROM OTHER EQUIPMENT OR FACILITY",
           2019
          ],
          [
           "EXCAVATION DAMAGE BY THIRD PARTY",
           2019
          ],
          [
           "INTENTIONAL DAMAGE",
           2019
          ],
          [
           "EXCAVATION DAMAGE BY THIRD PARTY",
           2019
          ],
          [
           "DAMAGE BY CAR, TRUCK, OR OTHER MOTORIZED VEHICLE/EQUIPMENT NOT ENGAGED IN EXCAVATION",
           2019
          ],
          [
           "NEARBY INDUSTRIAL, MAN-MADE, OR OTHER FIRE/EXPLOSION AS PRIMARY CAUSE OF INCIDENT",
           2019
          ],
          [
           "EXCAVATION DAMAGE BY THIRD PARTY",
           2019
          ],
          [
           "DAMAGE BY CAR, TRUCK, OR OTHER MOTORIZED VEHICLE/EQUIPMENT NOT ENGAGED IN EXCAVATION",
           2019
          ],
          [
           "DAMAGE BY CAR, TRUCK, OR OTHER MOTORIZED VEHICLE/EQUIPMENT NOT ENGAGED IN EXCAVATION",
           2019
          ],
          [
           "DAMAGE BY CAR, TRUCK, OR OTHER MOTORIZED VEHICLE/EQUIPMENT NOT ENGAGED IN EXCAVATION",
           2019
          ],
          [
           "EXCAVATION DAMAGE BY THIRD PARTY",
           2019
          ],
          [
           "EXCAVATION DAMAGE BY THIRD PARTY",
           2019
          ],
          [
           "DAMAGE BY CAR, TRUCK, OR OTHER MOTORIZED VEHICLE/EQUIPMENT NOT ENGAGED IN EXCAVATION",
           2019
          ],
          [
           "OTHER OUTSIDE FORCE DAMAGE",
           2019
          ],
          [
           "WRONG EQUIPMENT SPECIFIED OR INSTALLED",
           2019
          ],
          [
           "DAMAGE BY CAR, TRUCK, OR OTHER MOTORIZED VEHICLE/EQUIPMENT NOT ENGAGED IN EXCAVATION",
           2019
          ],
          [
           "MALFUNCTION OF CONTROL/RELIEF EQUIPMENT",
           2019
          ],
          [
           "DAMAGE BY CAR, TRUCK, OR OTHER MOTORIZED VEHICLE/EQUIPMENT NOT ENGAGED IN EXCAVATION",
           2019
          ],
          [
           "MALFUNCTION OF CONTROL/RELIEF EQUIPMENT",
           2019
          ],
          [
           "EXCAVATION DAMAGE BY THIRD PARTY",
           2019
          ],
          [
           "OTHER INCORRECT OPERATION ",
           2019
          ],
          [
           "EXTERNAL CORROSION",
           2019
          ],
          [
           "DAMAGE BY CAR, TRUCK, OR OTHER MOTORIZED VEHICLE/EQUIPMENT NOT ENGAGED IN EXCAVATION",
           2019
          ],
          [
           "ELECTRICAL ARCING FROM OTHER EQUIPMENT OR FACILITY",
           2019
          ],
          [
           "DAMAGE BY CAR, TRUCK, OR OTHER MOTORIZED VEHICLE/EQUIPMENT NOT ENGAGED IN EXCAVATION",
           2019
          ],
          [
           "NEARBY INDUSTRIAL, MAN-MADE, OR OTHER FIRE/EXPLOSION AS PRIMARY CAUSE OF INCIDENT",
           2019
          ],
          [
           "BODY OF PIPE",
           2019
          ],
          [
           "DAMAGE BY CAR, TRUCK, OR OTHER MOTORIZED VEHICLE/EQUIPMENT NOT ENGAGED IN EXCAVATION",
           2019
          ],
          [
           "EXCAVATION DAMAGE BY THIRD PARTY",
           2019
          ],
          [
           "INTENTIONAL DAMAGE",
           2019
          ],
          [
           "EXCAVATION DAMAGE BY THIRD PARTY",
           2019
          ],
          [
           "HIGH WINDS",
           2019
          ],
          [
           "EXCAVATION DAMAGE BY OPERATOR (FIRST PARTY)",
           2019
          ],
          [
           "EXCAVATION DAMAGE BY THIRD PARTY",
           2019
          ],
          [
           "EXCAVATION DAMAGE BY THIRD PARTY",
           2019
          ],
          [
           "OTHER INCORRECT OPERATION ",
           2019
          ],
          [
           "DAMAGE BY OPERATOR OR OPERATOR'S CONTRACTOR NOT RELATED TO EXCAVATION AND NOT DUE TO MOTORIZED VEHICLE/EQUIPMENT DAMAGE",
           2019
          ],
          [
           "DAMAGE BY OPERATOR OR OPERATOR'S CONTRACTOR NOT RELATED TO EXCAVATION AND NOT DUE TO MOTORIZED VEHICLE/EQUIPMENT DAMAGE",
           2019
          ],
          [
           "MISCELLANEOUS",
           2019
          ],
          [
           "EXCAVATION DAMAGE BY THIRD PARTY",
           2019
          ],
          [
           "NEARBY INDUSTRIAL, MAN-MADE, OR OTHER FIRE/EXPLOSION AS PRIMARY CAUSE OF INCIDENT",
           2019
          ],
          [
           "LIGHTNING",
           2019
          ],
          [
           "DAMAGE BY CAR, TRUCK, OR OTHER MOTORIZED VEHICLE/EQUIPMENT NOT ENGAGED IN EXCAVATION",
           2019
          ],
          [
           "EXCAVATION DAMAGE BY THIRD PARTY",
           2019
          ],
          [
           "LIGHTNING",
           2019
          ],
          [
           "EARTH MOVEMENT, NOT DUE TO HEAVY RAINS/FLOODS",
           2019
          ],
          [
           "OTHER INCORRECT OPERATION ",
           2019
          ],
          [
           "FUSION JOINT",
           2019
          ],
          [
           "EXCAVATION DAMAGE BY THIRD PARTY",
           2019
          ],
          [
           "EXCAVATION DAMAGE BY THIRD PARTY",
           2019
          ],
          [
           "LIGHTNING",
           2019
          ],
          [
           "HEAVY RAINS/FLOODS",
           2019
          ],
          [
           "INTENTIONAL DAMAGE",
           2019
          ],
          [
           "EXCAVATION DAMAGE BY THIRD PARTY",
           2019
          ],
          [
           "EXCAVATION DAMAGE BY THIRD PARTY",
           2019
          ],
          [
           "VALVE LEFT OR PLACED IN WRONG POSITION, BUT NOT RESULTING IN AN OVERPRESSURE",
           2019
          ],
          [
           "OTHER OUTSIDE FORCE DAMAGE",
           2019
          ],
          [
           "EXCAVATION DAMAGE BY THIRD PARTY",
           2019
          ],
          [
           "DAMAGE BY CAR, TRUCK, OR OTHER MOTORIZED VEHICLE/EQUIPMENT NOT ENGAGED IN EXCAVATION",
           2019
          ],
          [
           "ELECTRICAL ARCING FROM OTHER EQUIPMENT OR FACILITY",
           2019
          ],
          [
           "EXCAVATION DAMAGE BY THIRD PARTY",
           2019
          ],
          [
           "DAMAGE BY CAR, TRUCK, OR OTHER MOTORIZED VEHICLE/EQUIPMENT NOT ENGAGED IN EXCAVATION",
           2019
          ],
          [
           "EXCAVATION DAMAGE BY THIRD PARTY",
           2019
          ],
          [
           "DAMAGE BY CAR, TRUCK, OR OTHER MOTORIZED VEHICLE/EQUIPMENT NOT ENGAGED IN EXCAVATION",
           2019
          ],
          [
           "EXCAVATION DAMAGE BY OPERATOR (FIRST PARTY)",
           2019
          ],
          [
           "EXCAVATION DAMAGE BY THIRD PARTY",
           2019
          ],
          [
           "EXCAVATION DAMAGE BY OPERATOR'S CONTRACTOR (SECOND PARTY)",
           2019
          ],
          [
           "EXCAVATION DAMAGE BY THIRD PARTY",
           2019
          ],
          [
           "EXCAVATION DAMAGE BY THIRD PARTY",
           2019
          ],
          [
           "OTHER INCORRECT OPERATION ",
           2019
          ],
          [
           "NEARBY INDUSTRIAL, MAN-MADE, OR OTHER FIRE/EXPLOSION AS PRIMARY CAUSE OF INCIDENT",
           2019
          ],
          [
           "UNKNOWN",
           2019
          ],
          [
           "LIGHTNING",
           2019
          ],
          [
           "EXCAVATION DAMAGE BY THIRD PARTY",
           2019
          ],
          [
           "VALVE LEFT OR PLACED IN WRONG POSITION, BUT NOT RESULTING IN AN OVERPRESSURE",
           2019
          ],
          [
           "LIGHTNING",
           2019
          ],
          [
           "LIGHTNING",
           2019
          ],
          [
           "EXCAVATION DAMAGE BY THIRD PARTY",
           2019
          ],
          [
           "EXCAVATION DAMAGE BY THIRD PARTY",
           2019
          ],
          [
           "EXCAVATION DAMAGE BY THIRD PARTY",
           2019
          ],
          [
           "OTHER OUTSIDE FORCE DAMAGE",
           2019
          ],
          [
           "EXCAVATION DAMAGE BY OPERATOR'S CONTRACTOR (SECOND PARTY)",
           2019
          ],
          [
           "MECHANICAL JOINT FAILURE",
           2019
          ],
          [
           "NEARBY INDUSTRIAL, MAN-MADE, OR OTHER FIRE/EXPLOSION AS PRIMARY CAUSE OF INCIDENT",
           2019
          ],
          [
           "EXCAVATION DAMAGE BY THIRD PARTY",
           2019
          ],
          [
           "OTHER PIPE, WELD, OR JOINT FAILURE",
           2019
          ],
          [
           "MECHANICAL JOINT FAILURE",
           2019
          ],
          [
           "EXCAVATION DAMAGE BY THIRD PARTY",
           2019
          ],
          [
           "EXTERNAL CORROSION",
           2019
          ],
          [
           "HEAVY RAINS/FLOODS",
           2019
          ],
          [
           "EXCAVATION DAMAGE BY OPERATOR'S CONTRACTOR (SECOND PARTY)",
           2019
          ],
          [
           "EXCAVATION DAMAGE BY THIRD PARTY",
           2019
          ],
          [
           "OTHER OUTSIDE FORCE DAMAGE",
           2019
          ],
          [
           "FUSION JOINT",
           2019
          ],
          [
           "EXCAVATION DAMAGE BY THIRD PARTY",
           2019
          ],
          [
           "OTHER OUTSIDE FORCE DAMAGE",
           2019
          ],
          [
           "DAMAGE BY CAR, TRUCK, OR OTHER MOTORIZED VEHICLE/EQUIPMENT NOT ENGAGED IN EXCAVATION",
           2019
          ],
          [
           "DAMAGE BY CAR, TRUCK, OR OTHER MOTORIZED VEHICLE/EQUIPMENT NOT ENGAGED IN EXCAVATION",
           2019
          ],
          [
           "EXCAVATION DAMAGE BY THIRD PARTY",
           2019
          ],
          [
           "EXCAVATION DAMAGE BY THIRD PARTY",
           2019
          ],
          [
           "DAMAGE BY CAR, TRUCK, OR OTHER MOTORIZED VEHICLE/EQUIPMENT NOT ENGAGED IN EXCAVATION",
           2019
          ],
          [
           "EXCAVATION DAMAGE BY THIRD PARTY",
           2019
          ],
          [
           "EXCAVATION DAMAGE BY THIRD PARTY",
           2019
          ],
          [
           "MECHANICAL JOINT FAILURE",
           2019
          ],
          [
           "BODY OF PIPE",
           2019
          ],
          [
           "EXTERNAL CORROSION",
           2019
          ],
          [
           "DAMAGE BY CAR, TRUCK, OR OTHER MOTORIZED VEHICLE/EQUIPMENT NOT ENGAGED IN EXCAVATION",
           2019
          ],
          [
           "EXCAVATION DAMAGE BY THIRD PARTY",
           2019
          ],
          [
           "EXCAVATION DAMAGE BY THIRD PARTY",
           2019
          ],
          [
           "DAMAGE BY OPERATOR OR OPERATOR'S CONTRACTOR NOT RELATED TO EXCAVATION AND NOT DUE TO MOTORIZED VEHICLE/EQUIPMENT DAMAGE",
           2019
          ],
          [
           "ELECTRICAL ARCING FROM OTHER EQUIPMENT OR FACILITY",
           2019
          ],
          [
           "OTHER OUTSIDE FORCE DAMAGE",
           2019
          ],
          [
           "OTHER OUTSIDE FORCE DAMAGE",
           2019
          ],
          [
           "UNKNOWN",
           2018
          ],
          [
           "UNKNOWN",
           2018
          ],
          [
           "EXCAVATION DAMAGE BY THIRD PARTY",
           2018
          ],
          [
           "DAMAGE BY CAR, TRUCK, OR OTHER MOTORIZED VEHICLE/EQUIPMENT NOT ENGAGED IN EXCAVATION",
           2018
          ],
          [
           "EXCAVATION DAMAGE BY THIRD PARTY",
           2018
          ],
          [
           "EXCAVATION DAMAGE BY THIRD PARTY",
           2018
          ],
          [
           "EXTERNAL CORROSION",
           2018
          ],
          [
           "EXCAVATION DAMAGE BY THIRD PARTY",
           2018
          ],
          [
           "FUSION JOINT",
           2018
          ],
          [
           "DAMAGE BY CAR, TRUCK, OR OTHER MOTORIZED VEHICLE/EQUIPMENT NOT ENGAGED IN EXCAVATION",
           2018
          ],
          [
           "EXTERNAL CORROSION",
           2018
          ],
          [
           "EXCAVATION DAMAGE BY THIRD PARTY",
           2018
          ],
          [
           "ELECTRICAL ARCING FROM OTHER EQUIPMENT OR FACILITY",
           2018
          ],
          [
           "MISCELLANEOUS",
           2018
          ],
          [
           "BODY OF PIPE",
           2018
          ],
          [
           "EXCAVATION DAMAGE BY THIRD PARTY",
           2018
          ],
          [
           "EXCAVATION DAMAGE BY THIRD PARTY",
           2018
          ],
          [
           "EXCAVATION DAMAGE BY THIRD PARTY",
           2018
          ],
          [
           "EXCAVATION DAMAGE BY THIRD PARTY",
           2018
          ],
          [
           "FUSION JOINT",
           2018
          ],
          [
           "EXCAVATION DAMAGE BY THIRD PARTY",
           2018
          ],
          [
           "OTHER INCORRECT OPERATION ",
           2018
          ],
          [
           "EXCAVATION DAMAGE BY THIRD PARTY",
           2018
          ],
          [
           "NON-THREADED CONNECTION FAILURE",
           2018
          ],
          [
           "NEARBY INDUSTRIAL, MAN-MADE, OR OTHER FIRE/EXPLOSION AS PRIMARY CAUSE OF INCIDENT",
           2018
          ],
          [
           "EXCAVATION DAMAGE BY THIRD PARTY",
           2018
          ],
          [
           "DAMAGE BY CAR, TRUCK, OR OTHER MOTORIZED VEHICLE/EQUIPMENT NOT ENGAGED IN EXCAVATION",
           2018
          ],
          [
           "EXCAVATION DAMAGE BY THIRD PARTY",
           2018
          ],
          [
           "PREVIOUS DAMAGE DUE TO EXCAVATION ACTIVITY",
           2018
          ],
          [
           "NEARBY INDUSTRIAL, MAN-MADE, OR OTHER FIRE/EXPLOSION AS PRIMARY CAUSE OF INCIDENT",
           2018
          ],
          [
           "EXCAVATION DAMAGE BY THIRD PARTY",
           2018
          ],
          [
           "DAMAGE BY CAR, TRUCK, OR OTHER MOTORIZED VEHICLE/EQUIPMENT NOT ENGAGED IN EXCAVATION",
           2018
          ],
          [
           "EXCAVATION DAMAGE BY THIRD PARTY",
           2018
          ],
          [
           "HIGH WINDS",
           2018
          ],
          [
           "EARTH MOVEMENT, NOT DUE TO HEAVY RAINS/FLOODS",
           2018
          ],
          [
           "EXCAVATION DAMAGE BY THIRD PARTY",
           2018
          ],
          [
           "TEMPERATURE",
           2018
          ],
          [
           "OTHER OUTSIDE FORCE DAMAGE",
           2018
          ],
          [
           "EXCAVATION DAMAGE BY THIRD PARTY",
           2018
          ],
          [
           "EXCAVATION DAMAGE BY THIRD PARTY",
           2018
          ],
          [
           "PIPELINE OR EQUIPMENT OVERPRESSURED",
           2018
          ],
          [
           "EXCAVATION DAMAGE BY THIRD PARTY",
           2018
          ],
          [
           "DAMAGE BY CAR, TRUCK, OR OTHER MOTORIZED VEHICLE/EQUIPMENT NOT ENGAGED IN EXCAVATION",
           2018
          ],
          [
           "OTHER OUTSIDE FORCE DAMAGE",
           2018
          ],
          [
           "FUSION JOINT",
           2018
          ],
          [
           "EXCAVATION DAMAGE BY THIRD PARTY",
           2018
          ],
          [
           "EXCAVATION DAMAGE BY THIRD PARTY",
           2018
          ],
          [
           "EXCAVATION DAMAGE BY OPERATOR'S CONTRACTOR (SECOND PARTY)",
           2018
          ],
          [
           "MECHANICAL JOINT FAILURE",
           2018
          ],
          [
           "NEARBY INDUSTRIAL, MAN-MADE, OR OTHER FIRE/EXPLOSION AS PRIMARY CAUSE OF INCIDENT",
           2018
          ],
          [
           "DAMAGE BY CAR, TRUCK, OR OTHER MOTORIZED VEHICLE/EQUIPMENT NOT ENGAGED IN EXCAVATION",
           2018
          ],
          [
           "MALFUNCTION OF CONTROL/RELIEF EQUIPMENT",
           2018
          ],
          [
           "EXCAVATION DAMAGE BY OPERATOR'S CONTRACTOR (SECOND PARTY)",
           2018
          ],
          [
           "OTHER INCORRECT OPERATION ",
           2018
          ],
          [
           "OTHER INCORRECT OPERATION ",
           2018
          ],
          [
           "EXCAVATION DAMAGE BY THIRD PARTY",
           2018
          ],
          [
           "OTHER OUTSIDE FORCE DAMAGE",
           2018
          ],
          [
           "EXCAVATION DAMAGE BY THIRD PARTY",
           2018
          ],
          [
           "EXCAVATION DAMAGE BY THIRD PARTY",
           2018
          ],
          [
           "OTHER OUTSIDE FORCE DAMAGE",
           2018
          ],
          [
           "OTHER PIPE, WELD, OR JOINT FAILURE",
           2018
          ],
          [
           "EXCAVATION DAMAGE BY THIRD PARTY",
           2018
          ],
          [
           "DAMAGE BY CAR, TRUCK, OR OTHER MOTORIZED VEHICLE/EQUIPMENT NOT ENGAGED IN EXCAVATION",
           2018
          ],
          [
           "PREVIOUS MECHANICAL DAMAGE NOT RELATED TO EXCAVATION",
           2018
          ],
          [
           "DAMAGE BY CAR, TRUCK, OR OTHER MOTORIZED VEHICLE/EQUIPMENT NOT ENGAGED IN EXCAVATION",
           2018
          ],
          [
           "LIGHTNING",
           2018
          ],
          [
           "LIGHTNING",
           2018
          ],
          [
           "EXCAVATION DAMAGE BY THIRD PARTY",
           2018
          ],
          [
           "OTHER OUTSIDE FORCE DAMAGE",
           2018
          ],
          [
           "OTHER INCORRECT OPERATION ",
           2018
          ],
          [
           "OTHER INCORRECT OPERATION ",
           2018
          ],
          [
           "MECHANICAL JOINT FAILURE",
           2018
          ],
          [
           "OTHER OUTSIDE FORCE DAMAGE",
           2018
          ],
          [
           "EXCAVATION DAMAGE BY THIRD PARTY",
           2018
          ],
          [
           "OTHER INCORRECT OPERATION ",
           2018
          ],
          [
           "INTENTIONAL DAMAGE",
           2018
          ],
          [
           "EXCAVATION DAMAGE BY THIRD PARTY",
           2018
          ],
          [
           "BODY OF PIPE",
           2018
          ],
          [
           "EXCAVATION DAMAGE BY OPERATOR'S CONTRACTOR (SECOND PARTY)",
           2018
          ],
          [
           "DAMAGE BY CAR, TRUCK, OR OTHER MOTORIZED VEHICLE/EQUIPMENT NOT ENGAGED IN EXCAVATION",
           2018
          ],
          [
           "EXCAVATION DAMAGE BY THIRD PARTY",
           2018
          ],
          [
           "EXCAVATION DAMAGE BY THIRD PARTY",
           2018
          ],
          [
           "EXCAVATION DAMAGE BY THIRD PARTY",
           2018
          ],
          [
           "EXCAVATION DAMAGE BY OPERATOR'S CONTRACTOR (SECOND PARTY)",
           2018
          ],
          [
           "EXCAVATION DAMAGE BY OPERATOR'S CONTRACTOR (SECOND PARTY)",
           2018
          ],
          [
           "INTERNAL CORROSION",
           2018
          ],
          [
           "DAMAGE BY CAR, TRUCK, OR OTHER MOTORIZED VEHICLE/EQUIPMENT NOT ENGAGED IN EXCAVATION",
           2018
          ],
          [
           "EXCAVATION DAMAGE BY THIRD PARTY",
           2018
          ],
          [
           "DAMAGE BY CAR, TRUCK, OR OTHER MOTORIZED VEHICLE/EQUIPMENT NOT ENGAGED IN EXCAVATION",
           2018
          ],
          [
           "UNKNOWN",
           2018
          ],
          [
           "PREVIOUS DAMAGE DUE TO EXCAVATION ACTIVITY",
           2018
          ],
          [
           "UNKNOWN",
           2018
          ],
          [
           "TEMPERATURE",
           2018
          ],
          [
           "OTHER OUTSIDE FORCE DAMAGE",
           2018
          ],
          [
           "EXCAVATION DAMAGE BY THIRD PARTY",
           2018
          ],
          [
           "DAMAGE BY OPERATOR OR OPERATOR'S CONTRACTOR NOT RELATED TO EXCAVATION AND NOT DUE TO MOTORIZED VEHICLE/EQUIPMENT DAMAGE",
           2018
          ],
          [
           "EXTERNAL CORROSION",
           2018
          ],
          [
           "TEMPERATURE",
           2018
          ],
          [
           "DAMAGE BY CAR, TRUCK, OR OTHER MOTORIZED VEHICLE/EQUIPMENT NOT ENGAGED IN EXCAVATION",
           2018
          ],
          [
           "MECHANICAL JOINT FAILURE",
           2018
          ],
          [
           "PREVIOUS DAMAGE DUE TO EXCAVATION ACTIVITY",
           2018
          ],
          [
           "EXCAVATION DAMAGE BY THIRD PARTY",
           2018
          ],
          [
           "FUSION JOINT",
           2018
          ],
          [
           "UNKNOWN",
           2018
          ],
          [
           "UNKNOWN",
           2018
          ],
          [
           "HEAVY RAINS/FLOODS",
           2018
          ],
          [
           "PREVIOUS DAMAGE DUE TO EXCAVATION ACTIVITY",
           2018
          ],
          [
           "MECHANICAL JOINT FAILURE",
           2018
          ],
          [
           "OTHER NATURAL FORCE DAMAGE",
           2017
          ],
          [
           "INTENTIONAL DAMAGE",
           2017
          ],
          [
           "MALFUNCTION OF CONTROL/RELIEF EQUIPMENT",
           2017
          ],
          [
           "WRONG EQUIPMENT SPECIFIED OR INSTALLED",
           2017
          ],
          [
           "MECHANICAL JOINT FAILURE",
           2017
          ],
          [
           "EXCAVATION DAMAGE BY OPERATOR'S CONTRACTOR (SECOND PARTY)",
           2017
          ],
          [
           "EXCAVATION DAMAGE BY THIRD PARTY",
           2017
          ],
          [
           "DAMAGE BY CAR, TRUCK, OR OTHER MOTORIZED VEHICLE/EQUIPMENT NOT ENGAGED IN EXCAVATION",
           2017
          ],
          [
           "ELECTRICAL ARCING FROM OTHER EQUIPMENT OR FACILITY",
           2017
          ],
          [
           "FUSION JOINT",
           2017
          ],
          [
           "OTHER INCORRECT OPERATION ",
           2017
          ],
          [
           "DAMAGE BY CAR, TRUCK, OR OTHER MOTORIZED VEHICLE/EQUIPMENT NOT ENGAGED IN EXCAVATION",
           2017
          ],
          [
           "EXTERNAL CORROSION",
           2017
          ],
          [
           "OTHER INCORRECT OPERATION ",
           2017
          ],
          [
           "NEARBY INDUSTRIAL, MAN-MADE, OR OTHER FIRE/EXPLOSION AS PRIMARY CAUSE OF INCIDENT",
           2017
          ],
          [
           "EXCAVATION DAMAGE BY THIRD PARTY",
           2017
          ],
          [
           "EXCAVATION DAMAGE BY THIRD PARTY",
           2017
          ],
          [
           "OTHER INCORRECT OPERATION ",
           2017
          ],
          [
           "DAMAGE BY CAR, TRUCK, OR OTHER MOTORIZED VEHICLE/EQUIPMENT NOT ENGAGED IN EXCAVATION",
           2017
          ],
          [
           "EXCAVATION DAMAGE BY THIRD PARTY",
           2017
          ],
          [
           "DAMAGE BY CAR, TRUCK, OR OTHER MOTORIZED VEHICLE/EQUIPMENT NOT ENGAGED IN EXCAVATION",
           2017
          ],
          [
           "EQUIPMENT NOT INSTALLED PROPERLY",
           2017
          ],
          [
           "OTHER INCORRECT OPERATION ",
           2017
          ],
          [
           "NEARBY INDUSTRIAL, MAN-MADE, OR OTHER FIRE/EXPLOSION AS PRIMARY CAUSE OF INCIDENT",
           2017
          ],
          [
           "EXCAVATION DAMAGE BY THIRD PARTY",
           2017
          ],
          [
           "EXCAVATION DAMAGE BY THIRD PARTY",
           2017
          ],
          [
           "EXCAVATION DAMAGE BY THIRD PARTY",
           2017
          ],
          [
           "MALFUNCTION OF CONTROL/RELIEF EQUIPMENT",
           2017
          ],
          [
           "UNKNOWN",
           2017
          ],
          [
           "BODY OF PIPE",
           2017
          ],
          [
           "OTHER OUTSIDE FORCE DAMAGE",
           2017
          ],
          [
           "OTHER EQUIPMENT FAILURE",
           2017
          ],
          [
           "OTHER INCORRECT OPERATION ",
           2017
          ],
          [
           "EXCAVATION DAMAGE BY THIRD PARTY",
           2017
          ],
          [
           "OTHER OUTSIDE FORCE DAMAGE",
           2017
          ],
          [
           "EXCAVATION DAMAGE BY OPERATOR (FIRST PARTY)",
           2017
          ],
          [
           "OTHER EQUIPMENT FAILURE",
           2017
          ],
          [
           "DAMAGE BY BOATS, BARGES, DRILLING RIGS, OR OTHER MARITIME EQUIPMENT OR VESSELS SET ADRIFT OR WHICH HAVE OTHERWISE LOST THEIR MOORING",
           2017
          ],
          [
           "MISCELLANEOUS",
           2017
          ],
          [
           "LIGHTNING",
           2017
          ],
          [
           "DAMAGE BY CAR, TRUCK, OR OTHER MOTORIZED VEHICLE/EQUIPMENT NOT ENGAGED IN EXCAVATION",
           2017
          ],
          [
           "OTHER OUTSIDE FORCE DAMAGE",
           2017
          ],
          [
           "EXCAVATION DAMAGE BY THIRD PARTY",
           2017
          ],
          [
           "OTHER INCORRECT OPERATION ",
           2017
          ],
          [
           "EXCAVATION DAMAGE BY THIRD PARTY",
           2017
          ],
          [
           "NEARBY INDUSTRIAL, MAN-MADE, OR OTHER FIRE/EXPLOSION AS PRIMARY CAUSE OF INCIDENT",
           2017
          ],
          [
           "EXCAVATION DAMAGE BY THIRD PARTY",
           2017
          ],
          [
           "LIGHTNING",
           2017
          ],
          [
           "EXCAVATION DAMAGE BY OPERATOR (FIRST PARTY)",
           2017
          ],
          [
           "DAMAGE BY CAR, TRUCK, OR OTHER MOTORIZED VEHICLE/EQUIPMENT NOT ENGAGED IN EXCAVATION",
           2017
          ],
          [
           "EXCAVATION DAMAGE BY THIRD PARTY",
           2017
          ],
          [
           "ELECTRICAL ARCING FROM OTHER EQUIPMENT OR FACILITY",
           2017
          ],
          [
           "DAMAGE BY CAR, TRUCK, OR OTHER MOTORIZED VEHICLE/EQUIPMENT NOT ENGAGED IN EXCAVATION",
           2017
          ],
          [
           "NEARBY INDUSTRIAL, MAN-MADE, OR OTHER FIRE/EXPLOSION AS PRIMARY CAUSE OF INCIDENT",
           2017
          ],
          [
           "EXCAVATION DAMAGE BY OPERATOR (FIRST PARTY)",
           2017
          ],
          [
           "MECHANICAL JOINT FAILURE",
           2017
          ],
          [
           "EXCAVATION DAMAGE BY THIRD PARTY",
           2017
          ],
          [
           "DAMAGE BY CAR, TRUCK, OR OTHER MOTORIZED VEHICLE/EQUIPMENT NOT ENGAGED IN EXCAVATION",
           2017
          ],
          [
           "EXCAVATION DAMAGE BY THIRD PARTY",
           2017
          ],
          [
           "OTHER PIPE, WELD, OR JOINT FAILURE",
           2017
          ],
          [
           "EXCAVATION DAMAGE BY THIRD PARTY",
           2017
          ],
          [
           "DAMAGE BY CAR, TRUCK, OR OTHER MOTORIZED VEHICLE/EQUIPMENT NOT ENGAGED IN EXCAVATION",
           2017
          ],
          [
           "DAMAGE BY CAR, TRUCK, OR OTHER MOTORIZED VEHICLE/EQUIPMENT NOT ENGAGED IN EXCAVATION",
           2017
          ],
          [
           "EXCAVATION DAMAGE BY THIRD PARTY",
           2017
          ],
          [
           "OTHER NATURAL FORCE DAMAGE",
           2017
          ],
          [
           "EXCAVATION DAMAGE BY OPERATOR'S CONTRACTOR (SECOND PARTY)",
           2017
          ],
          [
           "DAMAGE BY CAR, TRUCK, OR OTHER MOTORIZED VEHICLE/EQUIPMENT NOT ENGAGED IN EXCAVATION",
           2017
          ],
          [
           "EXCAVATION DAMAGE BY THIRD PARTY",
           2017
          ],
          [
           "MALFUNCTION OF CONTROL/RELIEF EQUIPMENT",
           2017
          ],
          [
           "OTHER PIPE, WELD, OR JOINT FAILURE",
           2017
          ],
          [
           "DAMAGE BY CAR, TRUCK, OR OTHER MOTORIZED VEHICLE/EQUIPMENT NOT ENGAGED IN EXCAVATION",
           2017
          ],
          [
           "EXCAVATION DAMAGE BY THIRD PARTY",
           2017
          ],
          [
           "DAMAGE BY CAR, TRUCK, OR OTHER MOTORIZED VEHICLE/EQUIPMENT NOT ENGAGED IN EXCAVATION",
           2017
          ],
          [
           "DAMAGE BY CAR, TRUCK, OR OTHER MOTORIZED VEHICLE/EQUIPMENT NOT ENGAGED IN EXCAVATION",
           2017
          ],
          [
           "DAMAGE BY CAR, TRUCK, OR OTHER MOTORIZED VEHICLE/EQUIPMENT NOT ENGAGED IN EXCAVATION",
           2017
          ],
          [
           "DAMAGE BY CAR, TRUCK, OR OTHER MOTORIZED VEHICLE/EQUIPMENT NOT ENGAGED IN EXCAVATION",
           2017
          ],
          [
           "EXCAVATION DAMAGE BY THIRD PARTY",
           2017
          ],
          [
           "MECHANICAL JOINT FAILURE",
           2017
          ],
          [
           "EXCAVATION DAMAGE BY THIRD PARTY",
           2017
          ],
          [
           "UNKNOWN",
           2017
          ],
          [
           "NEARBY INDUSTRIAL, MAN-MADE, OR OTHER FIRE/EXPLOSION AS PRIMARY CAUSE OF INCIDENT",
           2017
          ],
          [
           "NEARBY INDUSTRIAL, MAN-MADE, OR OTHER FIRE/EXPLOSION AS PRIMARY CAUSE OF INCIDENT",
           2017
          ],
          [
           "EXCAVATION DAMAGE BY THIRD PARTY",
           2017
          ],
          [
           "DAMAGE BY CAR, TRUCK, OR OTHER MOTORIZED VEHICLE/EQUIPMENT NOT ENGAGED IN EXCAVATION",
           2017
          ],
          [
           "EXCAVATION DAMAGE BY THIRD PARTY",
           2017
          ],
          [
           "OTHER OUTSIDE FORCE DAMAGE",
           2017
          ],
          [
           "MALFUNCTION OF CONTROL/RELIEF EQUIPMENT",
           2017
          ],
          [
           "OTHER OUTSIDE FORCE DAMAGE",
           2017
          ],
          [
           "OTHER INCORRECT OPERATION ",
           2017
          ],
          [
           "FILLET WELD",
           2017
          ],
          [
           "BODY OF PIPE",
           2017
          ],
          [
           "DAMAGE BY OPERATOR OR OPERATOR'S CONTRACTOR NOT RELATED TO EXCAVATION AND NOT DUE TO MOTORIZED VEHICLE/EQUIPMENT DAMAGE",
           2017
          ],
          [
           "MALFUNCTION OF CONTROL/RELIEF EQUIPMENT",
           2017
          ],
          [
           "EXCAVATION DAMAGE BY OPERATOR'S CONTRACTOR (SECOND PARTY)",
           2017
          ],
          [
           "MALFUNCTION OF CONTROL/RELIEF EQUIPMENT",
           2017
          ],
          [
           "OTHER PIPE, WELD, OR JOINT FAILURE",
           2017
          ],
          [
           "BUTT WELD",
           2017
          ],
          [
           "EXCAVATION DAMAGE BY THIRD PARTY",
           2017
          ],
          [
           "TEMPERATURE",
           2017
          ],
          [
           "ELECTRICAL ARCING FROM OTHER EQUIPMENT OR FACILITY",
           2017
          ],
          [
           "MALFUNCTION OF CONTROL/RELIEF EQUIPMENT",
           2017
          ],
          [
           "FUSION JOINT",
           2017
          ],
          [
           "OTHER OUTSIDE FORCE DAMAGE",
           2016
          ],
          [
           "ELECTRICAL ARCING FROM OTHER EQUIPMENT OR FACILITY",
           2016
          ],
          [
           "DAMAGE BY CAR, TRUCK, OR OTHER MOTORIZED VEHICLE/EQUIPMENT NOT ENGAGED IN EXCAVATION",
           2016
          ],
          [
           "EXCAVATION DAMAGE BY THIRD PARTY",
           2016
          ],
          [
           "EXCAVATION DAMAGE BY THIRD PARTY",
           2016
          ],
          [
           "ELECTRICAL ARCING FROM OTHER EQUIPMENT OR FACILITY",
           2016
          ],
          [
           "DAMAGE BY CAR, TRUCK, OR OTHER MOTORIZED VEHICLE/EQUIPMENT NOT ENGAGED IN EXCAVATION",
           2016
          ],
          [
           "BODY OF PIPE",
           2016
          ],
          [
           "BODY OF PIPE",
           2016
          ],
          [
           "MALFUNCTION OF CONTROL/RELIEF EQUIPMENT",
           2016
          ],
          [
           "ELECTRICAL ARCING FROM OTHER EQUIPMENT OR FACILITY",
           2016
          ],
          [
           "EXCAVATION DAMAGE BY THIRD PARTY",
           2016
          ],
          [
           "EXCAVATION DAMAGE BY THIRD PARTY",
           2016
          ],
          [
           "EXCAVATION DAMAGE BY THIRD PARTY",
           2016
          ],
          [
           "EXCAVATION DAMAGE BY THIRD PARTY",
           2016
          ],
          [
           "EXCAVATION DAMAGE BY THIRD PARTY",
           2016
          ],
          [
           "EXCAVATION DAMAGE BY THIRD PARTY",
           2016
          ],
          [
           "OTHER NATURAL FORCE DAMAGE",
           2016
          ],
          [
           "PREVIOUS DAMAGE DUE TO EXCAVATION ACTIVITY",
           2016
          ],
          [
           "OTHER EQUIPMENT FAILURE",
           2016
          ],
          [
           "EXCAVATION DAMAGE BY THIRD PARTY",
           2016
          ],
          [
           "NEARBY INDUSTRIAL, MAN-MADE, OR OTHER FIRE/EXPLOSION AS PRIMARY CAUSE OF INCIDENT",
           2016
          ],
          [
           "NEARBY INDUSTRIAL, MAN-MADE, OR OTHER FIRE/EXPLOSION AS PRIMARY CAUSE OF INCIDENT",
           2016
          ],
          [
           "EXCAVATION DAMAGE BY THIRD PARTY",
           2016
          ],
          [
           "MECHANICAL JOINT FAILURE",
           2016
          ],
          [
           "EXCAVATION DAMAGE BY THIRD PARTY",
           2016
          ],
          [
           "MISCELLANEOUS",
           2016
          ],
          [
           "PREVIOUS DAMAGE DUE TO EXCAVATION ACTIVITY",
           2016
          ],
          [
           "EXCAVATION DAMAGE BY THIRD PARTY",
           2016
          ],
          [
           "UNKNOWN",
           2016
          ],
          [
           "EXCAVATION DAMAGE BY THIRD PARTY",
           2016
          ],
          [
           "EXCAVATION DAMAGE BY THIRD PARTY",
           2016
          ],
          [
           "EXCAVATION DAMAGE BY THIRD PARTY",
           2016
          ],
          [
           "EXCAVATION DAMAGE BY THIRD PARTY",
           2016
          ],
          [
           "EQUIPMENT NOT INSTALLED PROPERLY",
           2016
          ],
          [
           "EXTERNAL CORROSION",
           2016
          ],
          [
           "EXCAVATION DAMAGE BY THIRD PARTY",
           2016
          ],
          [
           "DAMAGE BY CAR, TRUCK, OR OTHER MOTORIZED VEHICLE/EQUIPMENT NOT ENGAGED IN EXCAVATION",
           2016
          ],
          [
           "DAMAGE BY CAR, TRUCK, OR OTHER MOTORIZED VEHICLE/EQUIPMENT NOT ENGAGED IN EXCAVATION",
           2016
          ],
          [
           "DAMAGE BY CAR, TRUCK, OR OTHER MOTORIZED VEHICLE/EQUIPMENT NOT ENGAGED IN EXCAVATION",
           2016
          ],
          [
           "EXCAVATION DAMAGE BY THIRD PARTY",
           2016
          ],
          [
           "UNKNOWN",
           2016
          ],
          [
           "OTHER OUTSIDE FORCE DAMAGE",
           2016
          ],
          [
           "EXCAVATION DAMAGE BY THIRD PARTY",
           2016
          ],
          [
           "MECHANICAL JOINT FAILURE",
           2016
          ],
          [
           "EXCAVATION DAMAGE BY THIRD PARTY",
           2016
          ],
          [
           "DAMAGE BY CAR, TRUCK, OR OTHER MOTORIZED VEHICLE/EQUIPMENT NOT ENGAGED IN EXCAVATION",
           2016
          ],
          [
           "UNKNOWN",
           2016
          ],
          [
           "NEARBY INDUSTRIAL, MAN-MADE, OR OTHER FIRE/EXPLOSION AS PRIMARY CAUSE OF INCIDENT",
           2016
          ],
          [
           "DAMAGE BY OPERATOR OR OPERATOR'S CONTRACTOR NOT RELATED TO EXCAVATION AND NOT DUE TO MOTORIZED VEHICLE/EQUIPMENT DAMAGE",
           2016
          ],
          [
           "MISCELLANEOUS",
           2016
          ],
          [
           "EXCAVATION DAMAGE BY THIRD PARTY",
           2016
          ],
          [
           "OTHER INCORRECT OPERATION ",
           2016
          ],
          [
           "EXCAVATION DAMAGE BY THIRD PARTY",
           2016
          ],
          [
           "EXCAVATION DAMAGE BY THIRD PARTY",
           2016
          ],
          [
           "EXCAVATION DAMAGE BY THIRD PARTY",
           2016
          ],
          [
           "OTHER OUTSIDE FORCE DAMAGE",
           2016
          ],
          [
           "EXCAVATION DAMAGE BY OPERATOR (FIRST PARTY)",
           2016
          ],
          [
           "NEARBY INDUSTRIAL, MAN-MADE, OR OTHER FIRE/EXPLOSION AS PRIMARY CAUSE OF INCIDENT",
           2016
          ],
          [
           "MALFUNCTION OF CONTROL/RELIEF EQUIPMENT",
           2016
          ],
          [
           "EXCAVATION DAMAGE BY OPERATOR (FIRST PARTY)",
           2016
          ],
          [
           "NEARBY INDUSTRIAL, MAN-MADE, OR OTHER FIRE/EXPLOSION AS PRIMARY CAUSE OF INCIDENT",
           2016
          ],
          [
           "UNKNOWN",
           2016
          ],
          [
           "DAMAGE BY CAR, TRUCK, OR OTHER MOTORIZED VEHICLE/EQUIPMENT NOT ENGAGED IN EXCAVATION",
           2016
          ],
          [
           "EXCAVATION DAMAGE BY THIRD PARTY",
           2016
          ],
          [
           "HEAVY RAINS/FLOODS",
           2016
          ],
          [
           "HEAVY RAINS/FLOODS",
           2016
          ],
          [
           "DAMAGE BY CAR, TRUCK, OR OTHER MOTORIZED VEHICLE/EQUIPMENT NOT ENGAGED IN EXCAVATION",
           2016
          ],
          [
           "EXCAVATION DAMAGE BY THIRD PARTY",
           2016
          ],
          [
           "DAMAGE BY CAR, TRUCK, OR OTHER MOTORIZED VEHICLE/EQUIPMENT NOT ENGAGED IN EXCAVATION",
           2016
          ],
          [
           "EXCAVATION DAMAGE BY THIRD PARTY",
           2016
          ],
          [
           "OTHER INCORRECT OPERATION ",
           2016
          ],
          [
           "EXCAVATION DAMAGE BY THIRD PARTY",
           2016
          ],
          [
           "OTHER OUTSIDE FORCE DAMAGE",
           2016
          ],
          [
           "EXCAVATION DAMAGE BY THIRD PARTY",
           2016
          ],
          [
           "EXCAVATION DAMAGE BY THIRD PARTY",
           2016
          ],
          [
           "EXCAVATION DAMAGE BY THIRD PARTY",
           2016
          ],
          [
           "UNKNOWN",
           2016
          ],
          [
           "NEARBY INDUSTRIAL, MAN-MADE, OR OTHER FIRE/EXPLOSION AS PRIMARY CAUSE OF INCIDENT",
           2016
          ],
          [
           "EXCAVATION DAMAGE BY THIRD PARTY",
           2016
          ],
          [
           "UNKNOWN",
           2016
          ],
          [
           "WRONG EQUIPMENT SPECIFIED OR INSTALLED",
           2016
          ],
          [
           "EXCAVATION DAMAGE BY THIRD PARTY",
           2016
          ],
          [
           "OTHER INCORRECT OPERATION ",
           2016
          ],
          [
           "EXCAVATION DAMAGE BY THIRD PARTY",
           2016
          ],
          [
           "DAMAGE BY CAR, TRUCK, OR OTHER MOTORIZED VEHICLE/EQUIPMENT NOT ENGAGED IN EXCAVATION",
           2016
          ],
          [
           "DAMAGE BY CAR, TRUCK, OR OTHER MOTORIZED VEHICLE/EQUIPMENT NOT ENGAGED IN EXCAVATION",
           2016
          ],
          [
           "HEAVY RAINS/FLOODS",
           2016
          ],
          [
           "DAMAGE BY OPERATOR OR OPERATOR'S CONTRACTOR NOT RELATED TO EXCAVATION AND NOT DUE TO MOTORIZED VEHICLE/EQUIPMENT DAMAGE",
           2016
          ],
          [
           "FUSION JOINT",
           2016
          ],
          [
           "EXCAVATION DAMAGE BY THIRD PARTY",
           2016
          ],
          [
           "MISCELLANEOUS",
           2016
          ],
          [
           "OTHER OUTSIDE FORCE DAMAGE",
           2016
          ],
          [
           "MECHANICAL JOINT FAILURE",
           2016
          ],
          [
           "DAMAGE BY CAR, TRUCK, OR OTHER MOTORIZED VEHICLE/EQUIPMENT NOT ENGAGED IN EXCAVATION",
           2016
          ],
          [
           "EXCAVATION DAMAGE BY THIRD PARTY",
           2016
          ],
          [
           "DAMAGE BY CAR, TRUCK, OR OTHER MOTORIZED VEHICLE/EQUIPMENT NOT ENGAGED IN EXCAVATION",
           2016
          ],
          [
           "BODY OF PIPE",
           2016
          ],
          [
           "DAMAGE BY CAR, TRUCK, OR OTHER MOTORIZED VEHICLE/EQUIPMENT NOT ENGAGED IN EXCAVATION",
           2016
          ],
          [
           "EXCAVATION DAMAGE BY THIRD PARTY",
           2016
          ],
          [
           "OTHER NATURAL FORCE DAMAGE",
           2016
          ],
          [
           "EQUIPMENT NOT INSTALLED PROPERLY",
           2016
          ],
          [
           "EXTERNAL CORROSION",
           2016
          ],
          [
           "MALFUNCTION OF CONTROL/RELIEF EQUIPMENT",
           2016
          ],
          [
           "DAMAGE BY CAR, TRUCK, OR OTHER MOTORIZED VEHICLE/EQUIPMENT NOT ENGAGED IN EXCAVATION",
           2016
          ],
          [
           "DAMAGE BY CAR, TRUCK, OR OTHER MOTORIZED VEHICLE/EQUIPMENT NOT ENGAGED IN EXCAVATION",
           2016
          ],
          [
           "OTHER INCORRECT OPERATION ",
           2016
          ],
          [
           "NEARBY INDUSTRIAL, MAN-MADE, OR OTHER FIRE/EXPLOSION AS PRIMARY CAUSE OF INCIDENT",
           2016
          ],
          [
           "BODY OF PIPE",
           2016
          ],
          [
           "EXCAVATION DAMAGE BY THIRD PARTY",
           2016
          ],
          [
           "ELECTRICAL ARCING FROM OTHER EQUIPMENT OR FACILITY",
           2016
          ],
          [
           "EXCAVATION DAMAGE BY THIRD PARTY",
           2016
          ],
          [
           "BODY OF PIPE",
           2016
          ],
          [
           "FUSION JOINT",
           2016
          ],
          [
           "OTHER OUTSIDE FORCE DAMAGE",
           2015
          ],
          [
           "EXCAVATION DAMAGE BY THIRD PARTY",
           2015
          ],
          [
           "MALFUNCTION OF CONTROL/RELIEF EQUIPMENT",
           2015
          ],
          [
           "EXCAVATION DAMAGE BY THIRD PARTY",
           2015
          ],
          [
           "MALFUNCTION OF CONTROL/RELIEF EQUIPMENT",
           2015
          ],
          [
           "FUSION JOINT",
           2015
          ],
          [
           "EXCAVATION DAMAGE BY THIRD PARTY",
           2015
          ],
          [
           "EXCAVATION DAMAGE BY THIRD PARTY",
           2015
          ],
          [
           "DAMAGE BY CAR, TRUCK, OR OTHER MOTORIZED VEHICLE/EQUIPMENT NOT ENGAGED IN EXCAVATION",
           2015
          ],
          [
           "MECHANICAL JOINT FAILURE",
           2015
          ],
          [
           "NEARBY INDUSTRIAL, MAN-MADE, OR OTHER FIRE/EXPLOSION AS PRIMARY CAUSE OF INCIDENT",
           2015
          ],
          [
           "MISCELLANEOUS",
           2015
          ],
          [
           "EXCAVATION DAMAGE BY THIRD PARTY",
           2015
          ],
          [
           "MISCELLANEOUS",
           2015
          ],
          [
           "EXCAVATION DAMAGE BY OPERATOR'S CONTRACTOR (SECOND PARTY)",
           2015
          ],
          [
           "EXCAVATION DAMAGE BY THIRD PARTY",
           2015
          ],
          [
           "OTHER INCORRECT OPERATION ",
           2015
          ],
          [
           "DAMAGE BY CAR, TRUCK, OR OTHER MOTORIZED VEHICLE/EQUIPMENT NOT ENGAGED IN EXCAVATION",
           2015
          ],
          [
           "EXCAVATION DAMAGE BY THIRD PARTY",
           2015
          ],
          [
           "NEARBY INDUSTRIAL, MAN-MADE, OR OTHER FIRE/EXPLOSION AS PRIMARY CAUSE OF INCIDENT",
           2015
          ],
          [
           "EXCAVATION DAMAGE BY OPERATOR'S CONTRACTOR (SECOND PARTY)",
           2015
          ],
          [
           "LIGHTNING",
           2015
          ],
          [
           "EXCAVATION DAMAGE BY THIRD PARTY",
           2015
          ],
          [
           "DAMAGE BY CAR, TRUCK, OR OTHER MOTORIZED VEHICLE/EQUIPMENT NOT ENGAGED IN EXCAVATION",
           2015
          ],
          [
           "OTHER OUTSIDE FORCE DAMAGE",
           2015
          ],
          [
           "NEARBY INDUSTRIAL, MAN-MADE, OR OTHER FIRE/EXPLOSION AS PRIMARY CAUSE OF INCIDENT",
           2015
          ],
          [
           "DAMAGE BY CAR, TRUCK, OR OTHER MOTORIZED VEHICLE/EQUIPMENT NOT ENGAGED IN EXCAVATION",
           2015
          ],
          [
           "MISCELLANEOUS",
           2015
          ],
          [
           "DAMAGE BY CAR, TRUCK, OR OTHER MOTORIZED VEHICLE/EQUIPMENT NOT ENGAGED IN EXCAVATION",
           2015
          ],
          [
           "EXCAVATION DAMAGE BY THIRD PARTY",
           2015
          ],
          [
           "LIGHTNING",
           2015
          ],
          [
           "EXCAVATION DAMAGE BY THIRD PARTY",
           2015
          ],
          [
           "LIGHTNING",
           2015
          ],
          [
           "DAMAGE BY OPERATOR OR OPERATOR'S CONTRACTOR NOT RELATED TO EXCAVATION AND NOT DUE TO MOTORIZED VEHICLE/EQUIPMENT DAMAGE",
           2015
          ],
          [
           "EXCAVATION DAMAGE BY THIRD PARTY",
           2015
          ],
          [
           "MISCELLANEOUS",
           2015
          ],
          [
           "MISCELLANEOUS",
           2015
          ],
          [
           "EXCAVATION DAMAGE BY THIRD PARTY",
           2015
          ],
          [
           "MISCELLANEOUS",
           2015
          ],
          [
           "DAMAGE BY CAR, TRUCK, OR OTHER MOTORIZED VEHICLE/EQUIPMENT NOT ENGAGED IN EXCAVATION",
           2015
          ],
          [
           "NEARBY INDUSTRIAL, MAN-MADE, OR OTHER FIRE/EXPLOSION AS PRIMARY CAUSE OF INCIDENT",
           2015
          ],
          [
           "EXCAVATION DAMAGE BY THIRD PARTY",
           2015
          ],
          [
           "EXCAVATION DAMAGE BY THIRD PARTY",
           2015
          ],
          [
           "OTHER OUTSIDE FORCE DAMAGE",
           2015
          ],
          [
           "PREVIOUS DAMAGE DUE TO EXCAVATION ACTIVITY",
           2015
          ],
          [
           "OTHER OUTSIDE FORCE DAMAGE",
           2015
          ],
          [
           "OTHER OUTSIDE FORCE DAMAGE",
           2015
          ],
          [
           "DAMAGE BY CAR, TRUCK, OR OTHER MOTORIZED VEHICLE/EQUIPMENT NOT ENGAGED IN EXCAVATION",
           2015
          ],
          [
           "EXCAVATION DAMAGE BY THIRD PARTY",
           2015
          ],
          [
           "EXCAVATION DAMAGE BY THIRD PARTY",
           2015
          ],
          [
           "DAMAGE BY CAR, TRUCK, OR OTHER MOTORIZED VEHICLE/EQUIPMENT NOT ENGAGED IN EXCAVATION",
           2015
          ],
          [
           "EXCAVATION DAMAGE BY THIRD PARTY",
           2015
          ],
          [
           "LIGHTNING",
           2015
          ],
          [
           "HEAVY RAINS/FLOODS",
           2015
          ],
          [
           "EXCAVATION DAMAGE BY THIRD PARTY",
           2015
          ],
          [
           "EXCAVATION DAMAGE BY THIRD PARTY",
           2015
          ],
          [
           "EXCAVATION DAMAGE BY THIRD PARTY",
           2015
          ],
          [
           "EXCAVATION DAMAGE BY THIRD PARTY",
           2015
          ],
          [
           "DAMAGE BY CAR, TRUCK, OR OTHER MOTORIZED VEHICLE/EQUIPMENT NOT ENGAGED IN EXCAVATION",
           2015
          ],
          [
           "DAMAGE BY CAR, TRUCK, OR OTHER MOTORIZED VEHICLE/EQUIPMENT NOT ENGAGED IN EXCAVATION",
           2015
          ],
          [
           "NON-THREADED CONNECTION FAILURE",
           2015
          ],
          [
           "OTHER OUTSIDE FORCE DAMAGE",
           2015
          ],
          [
           "DAMAGE BY CAR, TRUCK, OR OTHER MOTORIZED VEHICLE/EQUIPMENT NOT ENGAGED IN EXCAVATION",
           2015
          ],
          [
           "EXCAVATION DAMAGE BY THIRD PARTY",
           2015
          ],
          [
           "MISCELLANEOUS",
           2015
          ],
          [
           "LIGHTNING",
           2015
          ],
          [
           "EXCAVATION DAMAGE BY THIRD PARTY",
           2015
          ],
          [
           "MISCELLANEOUS",
           2015
          ],
          [
           "EXCAVATION DAMAGE BY THIRD PARTY",
           2015
          ],
          [
           "THREADED CONNECTION FAILURE",
           2015
          ],
          [
           "EXCAVATION DAMAGE BY THIRD PARTY",
           2015
          ],
          [
           "TEMPERATURE",
           2015
          ],
          [
           "EXCAVATION DAMAGE BY THIRD PARTY",
           2015
          ],
          [
           "MISCELLANEOUS",
           2015
          ],
          [
           "EXCAVATION DAMAGE BY THIRD PARTY",
           2015
          ],
          [
           "TEMPERATURE",
           2015
          ],
          [
           "PREVIOUS DAMAGE DUE TO EXCAVATION ACTIVITY",
           2015
          ],
          [
           "EXCAVATION DAMAGE BY THIRD PARTY",
           2015
          ],
          [
           "OTHER INCORRECT OPERATION ",
           2015
          ],
          [
           "BUTT WELD",
           2015
          ],
          [
           "TEMPERATURE",
           2015
          ],
          [
           "OTHER OUTSIDE FORCE DAMAGE",
           2015
          ],
          [
           "MISCELLANEOUS",
           2015
          ],
          [
           "OTHER OUTSIDE FORCE DAMAGE",
           2015
          ],
          [
           "OTHER OUTSIDE FORCE DAMAGE",
           2015
          ],
          [
           "EXCAVATION DAMAGE BY THIRD PARTY",
           2015
          ],
          [
           "TEMPERATURE",
           2015
          ],
          [
           "OTHER OUTSIDE FORCE DAMAGE",
           2015
          ],
          [
           "TEMPERATURE",
           2015
          ],
          [
           "TEMPERATURE",
           2015
          ],
          [
           "DAMAGE BY CAR, TRUCK, OR OTHER MOTORIZED VEHICLE/EQUIPMENT NOT ENGAGED IN EXCAVATION",
           2015
          ],
          [
           "DAMAGE BY CAR, TRUCK, OR OTHER MOTORIZED VEHICLE/EQUIPMENT NOT ENGAGED IN EXCAVATION",
           2015
          ],
          [
           "BODY OF PIPE",
           2015
          ],
          [
           "ELECTRICAL ARCING FROM OTHER EQUIPMENT OR FACILITY",
           2015
          ],
          [
           "EARTH MOVEMENT, NOT DUE TO HEAVY RAINS/FLOODS",
           2015
          ],
          [
           "DAMAGE BY CAR, TRUCK, OR OTHER MOTORIZED VEHICLE/EQUIPMENT NOT ENGAGED IN EXCAVATION",
           2015
          ],
          [
           "EXCAVATION DAMAGE BY THIRD PARTY",
           2015
          ],
          [
           "TEMPERATURE",
           2015
          ],
          [
           "PREVIOUS DAMAGE DUE TO EXCAVATION ACTIVITY",
           2015
          ],
          [
           "EXTERNAL CORROSION",
           2014
          ],
          [
           "MECHANICAL JOINT FAILURE",
           2014
          ],
          [
           "DAMAGE BY CAR, TRUCK, OR OTHER MOTORIZED VEHICLE/EQUIPMENT NOT ENGAGED IN EXCAVATION",
           2014
          ],
          [
           "DAMAGE BY CAR, TRUCK, OR OTHER MOTORIZED VEHICLE/EQUIPMENT NOT ENGAGED IN EXCAVATION",
           2014
          ],
          [
           "DAMAGE BY CAR, TRUCK, OR OTHER MOTORIZED VEHICLE/EQUIPMENT NOT ENGAGED IN EXCAVATION",
           2014
          ],
          [
           "MECHANICAL JOINT FAILURE",
           2014
          ],
          [
           "MISCELLANEOUS",
           2014
          ],
          [
           "OTHER OUTSIDE FORCE DAMAGE",
           2014
          ],
          [
           "EXCAVATION DAMAGE BY THIRD PARTY",
           2014
          ],
          [
           "DAMAGE BY CAR, TRUCK, OR OTHER MOTORIZED VEHICLE/EQUIPMENT NOT ENGAGED IN EXCAVATION",
           2014
          ],
          [
           "EXCAVATION DAMAGE BY THIRD PARTY",
           2014
          ],
          [
           "OTHER INCORRECT OPERATION ",
           2014
          ],
          [
           "ELECTRICAL ARCING FROM OTHER EQUIPMENT OR FACILITY",
           2014
          ],
          [
           "MALFUNCTION OF CONTROL/RELIEF EQUIPMENT",
           2014
          ],
          [
           "MISCELLANEOUS",
           2014
          ],
          [
           "OTHER OUTSIDE FORCE DAMAGE",
           2014
          ],
          [
           "DAMAGE BY CAR, TRUCK, OR OTHER MOTORIZED VEHICLE/EQUIPMENT NOT ENGAGED IN EXCAVATION",
           2014
          ],
          [
           "MALFUNCTION OF CONTROL/RELIEF EQUIPMENT",
           2014
          ],
          [
           "OTHER INCORRECT OPERATION ",
           2014
          ],
          [
           "EXCAVATION DAMAGE BY THIRD PARTY",
           2014
          ],
          [
           "EXCAVATION DAMAGE BY THIRD PARTY",
           2014
          ],
          [
           "ELECTRICAL ARCING FROM OTHER EQUIPMENT OR FACILITY",
           2014
          ],
          [
           "OTHER NATURAL FORCE DAMAGE",
           2014
          ],
          [
           "EXCAVATION DAMAGE BY THIRD PARTY",
           2014
          ],
          [
           "EXCAVATION DAMAGE BY OPERATOR'S CONTRACTOR (SECOND PARTY)",
           2014
          ],
          [
           "MISCELLANEOUS",
           2014
          ],
          [
           "MECHANICAL JOINT FAILURE",
           2014
          ],
          [
           "EXCAVATION DAMAGE BY THIRD PARTY",
           2014
          ],
          [
           "EXCAVATION DAMAGE BY THIRD PARTY",
           2014
          ],
          [
           "OTHER PIPE, WELD, OR JOINT FAILURE",
           2014
          ],
          [
           "NEARBY INDUSTRIAL, MAN-MADE, OR OTHER FIRE/EXPLOSION AS PRIMARY CAUSE OF INCIDENT",
           2014
          ],
          [
           "EXCAVATION DAMAGE BY THIRD PARTY",
           2014
          ],
          [
           "INTERNAL CORROSION",
           2014
          ],
          [
           "EXCAVATION DAMAGE BY THIRD PARTY",
           2014
          ],
          [
           "DAMAGE BY CAR, TRUCK, OR OTHER MOTORIZED VEHICLE/EQUIPMENT NOT ENGAGED IN EXCAVATION",
           2014
          ],
          [
           "VALVE LEFT OR PLACED IN WRONG POSITION, BUT NOT RESULTING IN AN OVERPRESSURE",
           2014
          ],
          [
           "EXCAVATION DAMAGE BY THIRD PARTY",
           2014
          ],
          [
           "DAMAGE BY CAR, TRUCK, OR OTHER MOTORIZED VEHICLE/EQUIPMENT NOT ENGAGED IN EXCAVATION",
           2014
          ],
          [
           "OTHER INCORRECT OPERATION ",
           2014
          ],
          [
           "EXCAVATION DAMAGE BY THIRD PARTY",
           2014
          ],
          [
           "EXCAVATION DAMAGE BY THIRD PARTY",
           2014
          ],
          [
           "EXCAVATION DAMAGE BY OPERATOR'S CONTRACTOR (SECOND PARTY)",
           2014
          ],
          [
           "EARTH MOVEMENT, NOT DUE TO HEAVY RAINS/FLOODS",
           2014
          ],
          [
           "EQUIPMENT NOT INSTALLED PROPERLY",
           2014
          ],
          [
           "DAMAGE BY CAR, TRUCK, OR OTHER MOTORIZED VEHICLE/EQUIPMENT NOT ENGAGED IN EXCAVATION",
           2014
          ],
          [
           "EXCAVATION DAMAGE BY THIRD PARTY",
           2014
          ],
          [
           "DAMAGE BY CAR, TRUCK, OR OTHER MOTORIZED VEHICLE/EQUIPMENT NOT ENGAGED IN EXCAVATION",
           2014
          ],
          [
           "MISCELLANEOUS",
           2014
          ],
          [
           "UNKNOWN",
           2014
          ],
          [
           "EXCAVATION DAMAGE BY OPERATOR (FIRST PARTY)",
           2014
          ],
          [
           "EXCAVATION DAMAGE BY THIRD PARTY",
           2014
          ],
          [
           "MALFUNCTION OF CONTROL/RELIEF EQUIPMENT",
           2014
          ],
          [
           "DAMAGE BY CAR, TRUCK, OR OTHER MOTORIZED VEHICLE/EQUIPMENT NOT ENGAGED IN EXCAVATION",
           2014
          ],
          [
           "EXCAVATION DAMAGE BY THIRD PARTY",
           2014
          ],
          [
           "ELECTRICAL ARCING FROM OTHER EQUIPMENT OR FACILITY",
           2014
          ],
          [
           "PIPELINE OR EQUIPMENT OVERPRESSURED",
           2014
          ],
          [
           "DAMAGE BY CAR, TRUCK, OR OTHER MOTORIZED VEHICLE/EQUIPMENT NOT ENGAGED IN EXCAVATION",
           2014
          ],
          [
           "DAMAGE BY CAR, TRUCK, OR OTHER MOTORIZED VEHICLE/EQUIPMENT NOT ENGAGED IN EXCAVATION",
           2014
          ],
          [
           "MISCELLANEOUS",
           2014
          ],
          [
           "LIGHTNING",
           2014
          ],
          [
           "EXCAVATION DAMAGE BY THIRD PARTY",
           2014
          ],
          [
           "INTENTIONAL DAMAGE",
           2014
          ],
          [
           "EXCAVATION DAMAGE BY THIRD PARTY",
           2014
          ],
          [
           "OTHER INCORRECT OPERATION ",
           2014
          ],
          [
           "DAMAGE BY CAR, TRUCK, OR OTHER MOTORIZED VEHICLE/EQUIPMENT NOT ENGAGED IN EXCAVATION",
           2014
          ],
          [
           "DAMAGE BY CAR, TRUCK, OR OTHER MOTORIZED VEHICLE/EQUIPMENT NOT ENGAGED IN EXCAVATION",
           2014
          ],
          [
           "EXCAVATION DAMAGE BY THIRD PARTY",
           2014
          ],
          [
           "DAMAGE BY CAR, TRUCK, OR OTHER MOTORIZED VEHICLE/EQUIPMENT NOT ENGAGED IN EXCAVATION",
           2014
          ],
          [
           "DAMAGE BY CAR, TRUCK, OR OTHER MOTORIZED VEHICLE/EQUIPMENT NOT ENGAGED IN EXCAVATION",
           2014
          ],
          [
           "NEARBY INDUSTRIAL, MAN-MADE, OR OTHER FIRE/EXPLOSION AS PRIMARY CAUSE OF INCIDENT",
           2014
          ],
          [
           "EXCAVATION DAMAGE BY THIRD PARTY",
           2014
          ],
          [
           "EXCAVATION DAMAGE BY THIRD PARTY",
           2014
          ],
          [
           "HEAVY RAINS/FLOODS",
           2014
          ],
          [
           "MISCELLANEOUS",
           2014
          ],
          [
           "EXCAVATION DAMAGE BY THIRD PARTY",
           2014
          ],
          [
           "DAMAGE BY CAR, TRUCK, OR OTHER MOTORIZED VEHICLE/EQUIPMENT NOT ENGAGED IN EXCAVATION",
           2014
          ],
          [
           "ELECTRICAL ARCING FROM OTHER EQUIPMENT OR FACILITY",
           2014
          ],
          [
           "UNKNOWN",
           2014
          ],
          [
           "INTENTIONAL DAMAGE",
           2014
          ],
          [
           "DAMAGE BY CAR, TRUCK, OR OTHER MOTORIZED VEHICLE/EQUIPMENT NOT ENGAGED IN EXCAVATION",
           2014
          ],
          [
           "EXCAVATION DAMAGE BY THIRD PARTY",
           2014
          ],
          [
           "EARTH MOVEMENT, NOT DUE TO HEAVY RAINS/FLOODS",
           2014
          ],
          [
           "EXCAVATION DAMAGE BY THIRD PARTY",
           2014
          ],
          [
           "EXCAVATION DAMAGE BY THIRD PARTY",
           2014
          ],
          [
           "OTHER INCORRECT OPERATION ",
           2014
          ],
          [
           "PREVIOUS DAMAGE DUE TO EXCAVATION ACTIVITY",
           2014
          ],
          [
           "MALFUNCTION OF CONTROL/RELIEF EQUIPMENT",
           2014
          ],
          [
           "UNKNOWN",
           2014
          ],
          [
           "OTHER OUTSIDE FORCE DAMAGE",
           2014
          ],
          [
           "OTHER OUTSIDE FORCE DAMAGE",
           2014
          ],
          [
           "BUTT WELD",
           2014
          ],
          [
           "OTHER PIPE, WELD, OR JOINT FAILURE",
           2014
          ],
          [
           "BODY OF PIPE",
           2014
          ],
          [
           "OTHER NATURAL FORCE DAMAGE",
           2014
          ],
          [
           "EXCAVATION DAMAGE BY THIRD PARTY",
           2014
          ],
          [
           "OTHER OUTSIDE FORCE DAMAGE",
           2014
          ],
          [
           "TEMPERATURE",
           2014
          ],
          [
           "PREVIOUS DAMAGE DUE TO EXCAVATION ACTIVITY",
           2014
          ],
          [
           "MISCELLANEOUS",
           2014
          ],
          [
           "MALFUNCTION OF CONTROL/RELIEF EQUIPMENT",
           2014
          ],
          [
           "OTHER OUTSIDE FORCE DAMAGE",
           2014
          ],
          [
           "DAMAGE BY CAR, TRUCK, OR OTHER MOTORIZED VEHICLE/EQUIPMENT NOT ENGAGED IN EXCAVATION",
           2014
          ],
          [
           "MISCELLANEOUS",
           2014
          ],
          [
           "ELECTRICAL ARCING FROM OTHER EQUIPMENT OR FACILITY",
           2014
          ],
          [
           "MALFUNCTION OF CONTROL/RELIEF EQUIPMENT",
           2014
          ],
          [
           "EXCAVATION DAMAGE BY THIRD PARTY",
           2013
          ],
          [
           "EQUIPMENT NOT INSTALLED PROPERLY",
           2013
          ],
          [
           "FUSION JOINT",
           2013
          ],
          [
           "UNKNOWN",
           2013
          ],
          [
           "LIGHTNING",
           2013
          ],
          [
           "MALFUNCTION OF CONTROL/RELIEF EQUIPMENT",
           2013
          ],
          [
           "EXCAVATION DAMAGE BY THIRD PARTY",
           2013
          ],
          [
           "EXCAVATION DAMAGE BY THIRD PARTY",
           2013
          ],
          [
           "BODY OF PIPE",
           2013
          ],
          [
           "MISCELLANEOUS",
           2013
          ],
          [
           "DAMAGE BY CAR, TRUCK, OR OTHER MOTORIZED VEHICLE/EQUIPMENT NOT ENGAGED IN EXCAVATION",
           2013
          ],
          [
           "EXCAVATION DAMAGE BY OPERATOR'S CONTRACTOR (SECOND PARTY)",
           2013
          ],
          [
           "DAMAGE BY CAR, TRUCK, OR OTHER MOTORIZED VEHICLE/EQUIPMENT NOT ENGAGED IN EXCAVATION",
           2013
          ],
          [
           "NEARBY INDUSTRIAL, MAN-MADE, OR OTHER FIRE/EXPLOSION AS PRIMARY CAUSE OF INCIDENT",
           2013
          ],
          [
           "DAMAGE BY CAR, TRUCK, OR OTHER MOTORIZED VEHICLE/EQUIPMENT NOT ENGAGED IN EXCAVATION",
           2013
          ],
          [
           "INTENTIONAL DAMAGE",
           2013
          ],
          [
           "EXCAVATION DAMAGE BY THIRD PARTY",
           2013
          ],
          [
           "NEARBY INDUSTRIAL, MAN-MADE, OR OTHER FIRE/EXPLOSION AS PRIMARY CAUSE OF INCIDENT",
           2013
          ],
          [
           "DAMAGE BY CAR, TRUCK, OR OTHER MOTORIZED VEHICLE/EQUIPMENT NOT ENGAGED IN EXCAVATION",
           2013
          ],
          [
           "MALFUNCTION OF CONTROL/RELIEF EQUIPMENT",
           2013
          ],
          [
           "EXCAVATION DAMAGE BY THIRD PARTY",
           2013
          ],
          [
           "DAMAGE BY CAR, TRUCK, OR OTHER MOTORIZED VEHICLE/EQUIPMENT NOT ENGAGED IN EXCAVATION",
           2013
          ],
          [
           "HIGH WINDS",
           2013
          ],
          [
           "DAMAGE BY CAR, TRUCK, OR OTHER MOTORIZED VEHICLE/EQUIPMENT NOT ENGAGED IN EXCAVATION",
           2013
          ],
          [
           "EXCAVATION DAMAGE BY THIRD PARTY",
           2013
          ],
          [
           "EXCAVATION DAMAGE BY OPERATOR (FIRST PARTY)",
           2013
          ],
          [
           "FUSION JOINT",
           2013
          ],
          [
           "EXCAVATION DAMAGE BY THIRD PARTY",
           2013
          ],
          [
           "DAMAGE BY CAR, TRUCK, OR OTHER MOTORIZED VEHICLE/EQUIPMENT NOT ENGAGED IN EXCAVATION",
           2013
          ],
          [
           "DAMAGE BY CAR, TRUCK, OR OTHER MOTORIZED VEHICLE/EQUIPMENT NOT ENGAGED IN EXCAVATION",
           2013
          ],
          [
           "EXCAVATION DAMAGE BY THIRD PARTY",
           2013
          ],
          [
           "OTHER INCORRECT OPERATION ",
           2013
          ],
          [
           "EXCAVATION DAMAGE BY THIRD PARTY",
           2013
          ],
          [
           "EXCAVATION DAMAGE BY THIRD PARTY",
           2013
          ],
          [
           "EXCAVATION DAMAGE BY THIRD PARTY",
           2013
          ],
          [
           "EXCAVATION DAMAGE BY THIRD PARTY",
           2013
          ],
          [
           "OTHER OUTSIDE FORCE DAMAGE",
           2013
          ],
          [
           "UNKNOWN",
           2013
          ],
          [
           "EXCAVATION DAMAGE BY THIRD PARTY",
           2013
          ],
          [
           "DAMAGE BY CAR, TRUCK, OR OTHER MOTORIZED VEHICLE/EQUIPMENT NOT ENGAGED IN EXCAVATION",
           2013
          ],
          [
           "NEARBY INDUSTRIAL, MAN-MADE, OR OTHER FIRE/EXPLOSION AS PRIMARY CAUSE OF INCIDENT",
           2013
          ],
          [
           "EXCAVATION DAMAGE BY THIRD PARTY",
           2013
          ],
          [
           "ELECTRICAL ARCING FROM OTHER EQUIPMENT OR FACILITY",
           2013
          ],
          [
           "OTHER OUTSIDE FORCE DAMAGE",
           2013
          ],
          [
           "EXCAVATION DAMAGE BY THIRD PARTY",
           2013
          ],
          [
           "DAMAGE BY CAR, TRUCK, OR OTHER MOTORIZED VEHICLE/EQUIPMENT NOT ENGAGED IN EXCAVATION",
           2013
          ],
          [
           "OTHER PIPE, WELD, OR JOINT FAILURE",
           2013
          ],
          [
           "EXCAVATION DAMAGE BY THIRD PARTY",
           2013
          ],
          [
           "EXCAVATION DAMAGE BY THIRD PARTY",
           2013
          ],
          [
           "HEAVY RAINS/FLOODS",
           2013
          ],
          [
           "EXCAVATION DAMAGE BY THIRD PARTY",
           2013
          ],
          [
           "OTHER INCORRECT OPERATION ",
           2013
          ],
          [
           "EXTERNAL CORROSION",
           2013
          ],
          [
           "VALVE",
           2013
          ],
          [
           "EXCAVATION DAMAGE BY THIRD PARTY",
           2013
          ],
          [
           "EXCAVATION DAMAGE BY THIRD PARTY",
           2013
          ],
          [
           "MECHANICAL JOINT FAILURE",
           2013
          ],
          [
           "EXCAVATION DAMAGE BY THIRD PARTY",
           2013
          ],
          [
           "DAMAGE BY CAR, TRUCK, OR OTHER MOTORIZED VEHICLE/EQUIPMENT NOT ENGAGED IN EXCAVATION",
           2013
          ],
          [
           "UNKNOWN",
           2013
          ],
          [
           "NEARBY INDUSTRIAL, MAN-MADE, OR OTHER FIRE/EXPLOSION AS PRIMARY CAUSE OF INCIDENT",
           2013
          ],
          [
           "DAMAGE BY CAR, TRUCK, OR OTHER MOTORIZED VEHICLE/EQUIPMENT NOT ENGAGED IN EXCAVATION",
           2013
          ],
          [
           "EXCAVATION DAMAGE BY THIRD PARTY",
           2013
          ],
          [
           "EXCAVATION DAMAGE BY OPERATOR (FIRST PARTY)",
           2013
          ],
          [
           "MISCELLANEOUS",
           2013
          ],
          [
           "EXCAVATION DAMAGE BY THIRD PARTY",
           2013
          ],
          [
           "NEARBY INDUSTRIAL, MAN-MADE, OR OTHER FIRE/EXPLOSION AS PRIMARY CAUSE OF INCIDENT",
           2013
          ],
          [
           "DAMAGE BY CAR, TRUCK, OR OTHER MOTORIZED VEHICLE/EQUIPMENT NOT ENGAGED IN EXCAVATION",
           2013
          ],
          [
           "NEARBY INDUSTRIAL, MAN-MADE, OR OTHER FIRE/EXPLOSION AS PRIMARY CAUSE OF INCIDENT",
           2013
          ],
          [
           "ELECTRICAL ARCING FROM OTHER EQUIPMENT OR FACILITY",
           2013
          ],
          [
           "OTHER OUTSIDE FORCE DAMAGE",
           2013
          ],
          [
           "MECHANICAL JOINT FAILURE",
           2013
          ],
          [
           "EXCAVATION DAMAGE BY THIRD PARTY",
           2013
          ],
          [
           "EXCAVATION DAMAGE BY THIRD PARTY",
           2013
          ],
          [
           "MISCELLANEOUS",
           2013
          ],
          [
           "EXCAVATION DAMAGE BY THIRD PARTY",
           2013
          ],
          [
           "DAMAGE BY CAR, TRUCK, OR OTHER MOTORIZED VEHICLE/EQUIPMENT NOT ENGAGED IN EXCAVATION",
           2013
          ],
          [
           "EXCAVATION DAMAGE BY THIRD PARTY",
           2013
          ],
          [
           "OTHER OUTSIDE FORCE DAMAGE",
           2013
          ],
          [
           "EQUIPMENT NOT INSTALLED PROPERLY",
           2013
          ],
          [
           "EXCAVATION DAMAGE BY OPERATOR (FIRST PARTY)",
           2013
          ],
          [
           "EXCAVATION DAMAGE BY THIRD PARTY",
           2013
          ],
          [
           "OTHER INCORRECT OPERATION ",
           2013
          ],
          [
           "EARTH MOVEMENT, NOT DUE TO HEAVY RAINS/FLOODS",
           2013
          ],
          [
           "OTHER OUTSIDE FORCE DAMAGE",
           2013
          ],
          [
           "BUTT WELD",
           2013
          ],
          [
           "EARTH MOVEMENT, NOT DUE TO HEAVY RAINS/FLOODS",
           2013
          ],
          [
           "OTHER PIPE, WELD, OR JOINT FAILURE",
           2013
          ],
          [
           "THREADED CONNECTION FAILURE",
           2013
          ],
          [
           "UNKNOWN",
           2013
          ],
          [
           "OTHER NATURAL FORCE DAMAGE",
           2013
          ],
          [
           "DAMAGE BY CAR, TRUCK, OR OTHER MOTORIZED VEHICLE/EQUIPMENT NOT ENGAGED IN EXCAVATION",
           2013
          ],
          [
           "MALFUNCTION OF CONTROL/RELIEF EQUIPMENT",
           2013
          ],
          [
           "DAMAGE BY CAR, TRUCK, OR OTHER MOTORIZED VEHICLE/EQUIPMENT NOT ENGAGED IN EXCAVATION",
           2013
          ],
          [
           "DAMAGE BY CAR, TRUCK, OR OTHER MOTORIZED VEHICLE/EQUIPMENT NOT ENGAGED IN EXCAVATION",
           2013
          ],
          [
           "MALFUNCTION OF CONTROL/RELIEF EQUIPMENT",
           2013
          ],
          [
           "MECHANICAL JOINT FAILURE",
           2013
          ],
          [
           "OTHER OUTSIDE FORCE DAMAGE",
           2013
          ],
          [
           "EXCAVATION DAMAGE BY THIRD PARTY",
           2013
          ],
          [
           "VALVE",
           2013
          ],
          [
           "EXCAVATION DAMAGE BY THIRD PARTY",
           2013
          ],
          [
           "NEARBY INDUSTRIAL, MAN-MADE, OR OTHER FIRE/EXPLOSION AS PRIMARY CAUSE OF INCIDENT",
           2012
          ],
          [
           "OTHER INCORRECT OPERATION ",
           2012
          ],
          [
           "OTHER NATURAL FORCE DAMAGE",
           2012
          ],
          [
           "BODY OF PIPE",
           2012
          ],
          [
           "OTHER INCORRECT OPERATION ",
           2012
          ],
          [
           "DAMAGE BY CAR, TRUCK, OR OTHER MOTORIZED VEHICLE/EQUIPMENT NOT ENGAGED IN EXCAVATION",
           2012
          ],
          [
           "DAMAGE BY OPERATOR OR OPERATOR'S CONTRACTOR NOT RELATED TO EXCAVATION AND NOT DUE TO MOTORIZED VEHICLE/EQUIPMENT DAMAGE",
           2012
          ],
          [
           "VALVE",
           2012
          ],
          [
           "EXCAVATION DAMAGE BY THIRD PARTY",
           2012
          ],
          [
           "DAMAGE BY CAR, TRUCK, OR OTHER MOTORIZED VEHICLE/EQUIPMENT NOT ENGAGED IN EXCAVATION",
           2012
          ],
          [
           "EXCAVATION DAMAGE BY THIRD PARTY",
           2012
          ],
          [
           "EXCAVATION DAMAGE BY THIRD PARTY",
           2012
          ],
          [
           "DAMAGE BY CAR, TRUCK, OR OTHER MOTORIZED VEHICLE/EQUIPMENT NOT ENGAGED IN EXCAVATION",
           2012
          ],
          [
           "UNKNOWN",
           2012
          ],
          [
           "HEAVY RAINS/FLOODS",
           2012
          ],
          [
           "UNKNOWN",
           2012
          ],
          [
           "OTHER NATURAL FORCE DAMAGE",
           2012
          ],
          [
           "INTENTIONAL DAMAGE",
           2012
          ],
          [
           "ELECTRICAL ARCING FROM OTHER EQUIPMENT OR FACILITY",
           2012
          ],
          [
           "INTENTIONAL DAMAGE",
           2012
          ],
          [
           "DAMAGE BY CAR, TRUCK, OR OTHER MOTORIZED VEHICLE/EQUIPMENT NOT ENGAGED IN EXCAVATION",
           2012
          ],
          [
           "NEARBY INDUSTRIAL, MAN-MADE, OR OTHER FIRE/EXPLOSION AS PRIMARY CAUSE OF INCIDENT",
           2012
          ],
          [
           "VALVE",
           2012
          ],
          [
           "DAMAGE BY CAR, TRUCK, OR OTHER MOTORIZED VEHICLE/EQUIPMENT NOT ENGAGED IN EXCAVATION",
           2012
          ],
          [
           "INTENTIONAL DAMAGE",
           2012
          ],
          [
           "EXCAVATION DAMAGE BY THIRD PARTY",
           2012
          ],
          [
           "EXTERNAL CORROSION",
           2012
          ],
          [
           "OTHER OUTSIDE FORCE DAMAGE",
           2012
          ],
          [
           "NEARBY INDUSTRIAL, MAN-MADE, OR OTHER FIRE/EXPLOSION AS PRIMARY CAUSE OF INCIDENT",
           2012
          ],
          [
           "VALVE",
           2012
          ],
          [
           "DAMAGE BY CAR, TRUCK, OR OTHER MOTORIZED VEHICLE/EQUIPMENT NOT ENGAGED IN EXCAVATION",
           2012
          ],
          [
           "DAMAGE BY CAR, TRUCK, OR OTHER MOTORIZED VEHICLE/EQUIPMENT NOT ENGAGED IN EXCAVATION",
           2012
          ],
          [
           "FUSION JOINT",
           2012
          ],
          [
           "DAMAGE BY CAR, TRUCK, OR OTHER MOTORIZED VEHICLE/EQUIPMENT NOT ENGAGED IN EXCAVATION",
           2012
          ],
          [
           "OTHER OUTSIDE FORCE DAMAGE",
           2012
          ],
          [
           "ELECTRICAL ARCING FROM OTHER EQUIPMENT OR FACILITY",
           2012
          ],
          [
           "UNKNOWN",
           2012
          ],
          [
           "EXCAVATION DAMAGE BY THIRD PARTY",
           2012
          ],
          [
           "EXTERNAL CORROSION",
           2012
          ],
          [
           "VALVE LEFT OR PLACED IN WRONG POSITION, BUT NOT RESULTING IN AN OVERPRESSURE",
           2012
          ],
          [
           "EXCAVATION DAMAGE BY THIRD PARTY",
           2012
          ],
          [
           "NEARBY INDUSTRIAL, MAN-MADE, OR OTHER FIRE/EXPLOSION AS PRIMARY CAUSE OF INCIDENT",
           2012
          ],
          [
           "EXCAVATION DAMAGE BY THIRD PARTY",
           2012
          ],
          [
           "PREVIOUS MECHANICAL DAMAGE NOT RELATED TO EXCAVATION",
           2012
          ],
          [
           "NON-THREADED CONNECTION FAILURE",
           2012
          ],
          [
           "EXCAVATION DAMAGE BY THIRD PARTY",
           2012
          ],
          [
           "DAMAGE BY CAR, TRUCK, OR OTHER MOTORIZED VEHICLE/EQUIPMENT NOT ENGAGED IN EXCAVATION",
           2012
          ],
          [
           "MISCELLANEOUS",
           2012
          ],
          [
           "OTHER OUTSIDE FORCE DAMAGE",
           2012
          ],
          [
           "DAMAGE BY OPERATOR OR OPERATOR'S CONTRACTOR NOT RELATED TO EXCAVATION AND NOT DUE TO MOTORIZED VEHICLE/EQUIPMENT DAMAGE",
           2012
          ],
          [
           "OTHER OUTSIDE FORCE DAMAGE",
           2012
          ],
          [
           "NEARBY INDUSTRIAL, MAN-MADE, OR OTHER FIRE/EXPLOSION AS PRIMARY CAUSE OF INCIDENT",
           2012
          ],
          [
           "DAMAGE BY CAR, TRUCK, OR OTHER MOTORIZED VEHICLE/EQUIPMENT NOT ENGAGED IN EXCAVATION",
           2012
          ],
          [
           "NEARBY INDUSTRIAL, MAN-MADE, OR OTHER FIRE/EXPLOSION AS PRIMARY CAUSE OF INCIDENT",
           2012
          ],
          [
           "ELECTRICAL ARCING FROM OTHER EQUIPMENT OR FACILITY",
           2012
          ],
          [
           "VALVE LEFT OR PLACED IN WRONG POSITION, BUT NOT RESULTING IN AN OVERPRESSURE",
           2012
          ],
          [
           "MISCELLANEOUS",
           2012
          ],
          [
           "OTHER INCORRECT OPERATION ",
           2012
          ],
          [
           "EXTERNAL CORROSION",
           2012
          ],
          [
           "LIGHTNING",
           2012
          ],
          [
           "NEARBY INDUSTRIAL, MAN-MADE, OR OTHER FIRE/EXPLOSION AS PRIMARY CAUSE OF INCIDENT",
           2012
          ],
          [
           "DAMAGE BY CAR, TRUCK, OR OTHER MOTORIZED VEHICLE/EQUIPMENT NOT ENGAGED IN EXCAVATION",
           2012
          ],
          [
           "BUTT WELD",
           2012
          ],
          [
           "EXCAVATION DAMAGE BY THIRD PARTY",
           2012
          ],
          [
           "DAMAGE BY CAR, TRUCK, OR OTHER MOTORIZED VEHICLE/EQUIPMENT NOT ENGAGED IN EXCAVATION",
           2012
          ],
          [
           "MALFUNCTION OF CONTROL/RELIEF EQUIPMENT",
           2012
          ],
          [
           "EXCAVATION DAMAGE BY THIRD PARTY",
           2012
          ],
          [
           "DAMAGE BY CAR, TRUCK, OR OTHER MOTORIZED VEHICLE/EQUIPMENT NOT ENGAGED IN EXCAVATION",
           2012
          ],
          [
           "ELECTRICAL ARCING FROM OTHER EQUIPMENT OR FACILITY",
           2012
          ],
          [
           "INTENTIONAL DAMAGE",
           2012
          ],
          [
           "NON-THREADED CONNECTION FAILURE",
           2012
          ],
          [
           "NON-THREADED CONNECTION FAILURE",
           2012
          ],
          [
           "EXCAVATION DAMAGE BY THIRD PARTY",
           2012
          ],
          [
           "MISCELLANEOUS",
           2012
          ],
          [
           "OTHER PIPE, WELD, OR JOINT FAILURE",
           2012
          ],
          [
           "EXCAVATION DAMAGE BY THIRD PARTY",
           2012
          ],
          [
           "OTHER OUTSIDE FORCE DAMAGE",
           2012
          ],
          [
           "DAMAGE BY CAR, TRUCK, OR OTHER MOTORIZED VEHICLE/EQUIPMENT NOT ENGAGED IN EXCAVATION",
           2012
          ],
          [
           "EXCAVATION DAMAGE BY THIRD PARTY",
           2012
          ],
          [
           "EXCAVATION DAMAGE BY THIRD PARTY",
           2012
          ],
          [
           "DAMAGE BY CAR, TRUCK, OR OTHER MOTORIZED VEHICLE/EQUIPMENT NOT ENGAGED IN EXCAVATION",
           2012
          ],
          [
           "ELECTRICAL ARCING FROM OTHER EQUIPMENT OR FACILITY",
           2012
          ],
          [
           "EXCAVATION DAMAGE BY THIRD PARTY",
           2012
          ],
          [
           "NEARBY INDUSTRIAL, MAN-MADE, OR OTHER FIRE/EXPLOSION AS PRIMARY CAUSE OF INCIDENT",
           2012
          ],
          [
           "OTHER NATURAL FORCE DAMAGE",
           2012
          ],
          [
           "PREVIOUS DAMAGE DUE TO EXCAVATION ACTIVITY",
           2012
          ],
          [
           "MISCELLANEOUS",
           2012
          ],
          [
           "BODY OF PIPE",
           2011
          ],
          [
           "EXCAVATION DAMAGE BY THIRD PARTY",
           2011
          ],
          [
           "VALVE LEFT OR PLACED IN WRONG POSITION, BUT NOT RESULTING IN AN OVERPRESSURE",
           2011
          ],
          [
           "VALVE LEFT OR PLACED IN WRONG POSITION, BUT NOT RESULTING IN AN OVERPRESSURE",
           2011
          ],
          [
           "OTHER OUTSIDE FORCE DAMAGE",
           2011
          ],
          [
           "NEARBY INDUSTRIAL, MAN-MADE, OR OTHER FIRE/EXPLOSION AS PRIMARY CAUSE OF INCIDENT",
           2011
          ],
          [
           "DAMAGE BY CAR, TRUCK, OR OTHER MOTORIZED VEHICLE/EQUIPMENT NOT ENGAGED IN EXCAVATION",
           2011
          ],
          [
           "OTHER OUTSIDE FORCE DAMAGE",
           2011
          ],
          [
           "EXCAVATION DAMAGE BY THIRD PARTY",
           2011
          ],
          [
           "EXCAVATION DAMAGE BY THIRD PARTY",
           2011
          ],
          [
           "EXCAVATION DAMAGE BY OPERATOR'S CONTRACTOR (SECOND PARTY)",
           2011
          ],
          [
           "EXCAVATION DAMAGE BY THIRD PARTY",
           2011
          ],
          [
           "NEARBY INDUSTRIAL, MAN-MADE, OR OTHER FIRE/EXPLOSION AS PRIMARY CAUSE OF INCIDENT",
           2011
          ],
          [
           "EXCAVATION DAMAGE BY THIRD PARTY",
           2011
          ],
          [
           "EXCAVATION DAMAGE BY THIRD PARTY",
           2011
          ],
          [
           "MISCELLANEOUS",
           2011
          ],
          [
           "EXTERNAL CORROSION",
           2011
          ],
          [
           "OTHER INCORRECT OPERATION ",
           2011
          ],
          [
           "NON-THREADED CONNECTION FAILURE",
           2011
          ],
          [
           "ELECTRICAL ARCING FROM OTHER EQUIPMENT OR FACILITY",
           2011
          ],
          [
           "EXTERNAL CORROSION",
           2011
          ],
          [
           "MISCELLANEOUS",
           2011
          ],
          [
           "ELECTRICAL ARCING FROM OTHER EQUIPMENT OR FACILITY",
           2011
          ],
          [
           "DAMAGE BY CAR, TRUCK, OR OTHER MOTORIZED VEHICLE/EQUIPMENT NOT ENGAGED IN EXCAVATION",
           2011
          ],
          [
           "DAMAGE BY CAR, TRUCK, OR OTHER MOTORIZED VEHICLE/EQUIPMENT NOT ENGAGED IN EXCAVATION",
           2011
          ],
          [
           "EQUIPMENT NOT INSTALLED PROPERLY",
           2011
          ],
          [
           "DAMAGE BY CAR, TRUCK, OR OTHER MOTORIZED VEHICLE/EQUIPMENT NOT ENGAGED IN EXCAVATION",
           2011
          ],
          [
           "HEAVY RAINS/FLOODS",
           2011
          ],
          [
           "MISCELLANEOUS",
           2011
          ],
          [
           "EXCAVATION DAMAGE BY THIRD PARTY",
           2011
          ],
          [
           "MECHANICAL JOINT FAILURE",
           2011
          ],
          [
           "HEAVY RAINS/FLOODS",
           2011
          ],
          [
           "THREADED CONNECTION FAILURE",
           2011
          ],
          [
           "DAMAGE BY CAR, TRUCK, OR OTHER MOTORIZED VEHICLE/EQUIPMENT NOT ENGAGED IN EXCAVATION",
           2011
          ],
          [
           "EXCAVATION DAMAGE BY THIRD PARTY",
           2011
          ],
          [
           "EXCAVATION DAMAGE BY THIRD PARTY",
           2011
          ],
          [
           "EXCAVATION DAMAGE BY THIRD PARTY",
           2011
          ],
          [
           "OTHER OUTSIDE FORCE DAMAGE",
           2011
          ],
          [
           "UNKNOWN",
           2011
          ],
          [
           "MALFUNCTION OF CONTROL/RELIEF EQUIPMENT",
           2011
          ],
          [
           "NEARBY INDUSTRIAL, MAN-MADE, OR OTHER FIRE/EXPLOSION AS PRIMARY CAUSE OF INCIDENT",
           2011
          ],
          [
           "LIGHTNING",
           2011
          ],
          [
           "LIGHTNING",
           2011
          ],
          [
           "EXCAVATION DAMAGE BY THIRD PARTY",
           2011
          ],
          [
           "EXCAVATION DAMAGE BY OPERATOR'S CONTRACTOR (SECOND PARTY)",
           2011
          ],
          [
           "EXCAVATION DAMAGE BY THIRD PARTY",
           2011
          ],
          [
           "EXCAVATION DAMAGE BY THIRD PARTY",
           2011
          ],
          [
           "NEARBY INDUSTRIAL, MAN-MADE, OR OTHER FIRE/EXPLOSION AS PRIMARY CAUSE OF INCIDENT",
           2011
          ],
          [
           "LIGHTNING",
           2011
          ],
          [
           "LIGHTNING",
           2011
          ],
          [
           "OTHER OUTSIDE FORCE DAMAGE",
           2011
          ],
          [
           "EXCAVATION DAMAGE BY THIRD PARTY",
           2011
          ],
          [
           "OTHER INCORRECT OPERATION ",
           2011
          ],
          [
           "HEAVY RAINS/FLOODS",
           2011
          ],
          [
           "DAMAGE BY OPERATOR OR OPERATOR'S CONTRACTOR NOT RELATED TO EXCAVATION AND NOT DUE TO MOTORIZED VEHICLE/EQUIPMENT DAMAGE",
           2011
          ],
          [
           "EXCAVATION DAMAGE BY THIRD PARTY",
           2011
          ],
          [
           "ELECTRICAL ARCING FROM OTHER EQUIPMENT OR FACILITY",
           2011
          ],
          [
           "NEARBY INDUSTRIAL, MAN-MADE, OR OTHER FIRE/EXPLOSION AS PRIMARY CAUSE OF INCIDENT",
           2011
          ],
          [
           "NEARBY INDUSTRIAL, MAN-MADE, OR OTHER FIRE/EXPLOSION AS PRIMARY CAUSE OF INCIDENT",
           2011
          ],
          [
           "EXCAVATION DAMAGE BY THIRD PARTY",
           2011
          ],
          [
           "MISCELLANEOUS",
           2011
          ],
          [
           "EXCAVATION DAMAGE BY THIRD PARTY",
           2011
          ],
          [
           "EXCAVATION DAMAGE BY THIRD PARTY",
           2011
          ],
          [
           "BODY OF PIPE",
           2011
          ],
          [
           "EXCAVATION DAMAGE BY OPERATOR'S CONTRACTOR (SECOND PARTY)",
           2011
          ],
          [
           "NEARBY INDUSTRIAL, MAN-MADE, OR OTHER FIRE/EXPLOSION AS PRIMARY CAUSE OF INCIDENT",
           2011
          ],
          [
           "DAMAGE BY OPERATOR OR OPERATOR'S CONTRACTOR NOT RELATED TO EXCAVATION AND NOT DUE TO MOTORIZED VEHICLE/EQUIPMENT DAMAGE",
           2011
          ],
          [
           "DAMAGE BY CAR, TRUCK, OR OTHER MOTORIZED VEHICLE/EQUIPMENT NOT ENGAGED IN EXCAVATION",
           2011
          ],
          [
           "NON-THREADED CONNECTION FAILURE",
           2011
          ],
          [
           "EXCAVATION DAMAGE BY THIRD PARTY",
           2011
          ],
          [
           "EXCAVATION DAMAGE BY THIRD PARTY",
           2011
          ],
          [
           "HIGH WINDS",
           2011
          ],
          [
           "EXCAVATION DAMAGE BY THIRD PARTY",
           2011
          ],
          [
           "EXCAVATION DAMAGE BY THIRD PARTY",
           2011
          ],
          [
           "OTHER OUTSIDE FORCE DAMAGE",
           2011
          ],
          [
           "DAMAGE BY CAR, TRUCK, OR OTHER MOTORIZED VEHICLE/EQUIPMENT NOT ENGAGED IN EXCAVATION",
           2011
          ],
          [
           "OTHER OUTSIDE FORCE DAMAGE",
           2011
          ],
          [
           "HEAVY RAINS/FLOODS",
           2011
          ],
          [
           "EQUIPMENT NOT INSTALLED PROPERLY",
           2011
          ],
          [
           "OTHER INCORRECT OPERATION ",
           2011
          ],
          [
           "MECHANICAL JOINT FAILURE",
           2011
          ],
          [
           "OTHER OUTSIDE FORCE DAMAGE",
           2011
          ],
          [
           "MECHANICAL JOINT FAILURE",
           2011
          ],
          [
           "NEARBY INDUSTRIAL, MAN-MADE, OR OTHER FIRE/EXPLOSION AS PRIMARY CAUSE OF INCIDENT",
           2011
          ],
          [
           "UNKNOWN",
           2011
          ],
          [
           "EXCAVATION DAMAGE BY THIRD PARTY",
           2011
          ],
          [
           "EXCAVATION DAMAGE BY THIRD PARTY",
           2011
          ],
          [
           "EXCAVATION DAMAGE BY THIRD PARTY",
           2011
          ],
          [
           "OTHER INCORRECT OPERATION ",
           2011
          ],
          [
           "NEARBY INDUSTRIAL, MAN-MADE, OR OTHER FIRE/EXPLOSION AS PRIMARY CAUSE OF INCIDENT",
           2011
          ],
          [
           "NEARBY INDUSTRIAL, MAN-MADE, OR OTHER FIRE/EXPLOSION AS PRIMARY CAUSE OF INCIDENT",
           2011
          ],
          [
           "EXCAVATION DAMAGE BY THIRD PARTY",
           2011
          ],
          [
           "TEMPERATURE",
           2011
          ],
          [
           "MISCELLANEOUS",
           2011
          ],
          [
           "TEMPERATURE",
           2011
          ],
          [
           "OTHER NATURAL FORCE DAMAGE",
           2011
          ],
          [
           "UNKNOWN",
           2011
          ],
          [
           "MISCELLANEOUS",
           2011
          ],
          [
           "DAMAGE BY CAR, TRUCK, OR OTHER MOTORIZED VEHICLE/EQUIPMENT NOT ENGAGED IN EXCAVATION",
           2011
          ],
          [
           "EXCAVATION DAMAGE BY THIRD PARTY",
           2011
          ],
          [
           "NEARBY INDUSTRIAL, MAN-MADE, OR OTHER FIRE/EXPLOSION AS PRIMARY CAUSE OF INCIDENT",
           2011
          ],
          [
           "DAMAGE BY CAR, TRUCK, OR OTHER MOTORIZED VEHICLE/EQUIPMENT NOT ENGAGED IN EXCAVATION",
           2011
          ],
          [
           "MECHANICAL JOINT FAILURE",
           2011
          ],
          [
           "EXCAVATION DAMAGE BY THIRD PARTY",
           2011
          ],
          [
           "MALFUNCTION OF CONTROL/RELIEF EQUIPMENT",
           2011
          ],
          [
           "MISCELLANEOUS",
           2011
          ],
          [
           "VALVE",
           2011
          ],
          [
           "NEARBY INDUSTRIAL, MAN-MADE, OR OTHER FIRE/EXPLOSION AS PRIMARY CAUSE OF INCIDENT",
           2011
          ],
          [
           "BODY OF PIPE",
           2011
          ],
          [
           "EXTERNAL CORROSION",
           2011
          ],
          [
           "EXTERNAL CORROSION",
           2011
          ],
          [
           "PREVIOUS MECHANICAL DAMAGE NOT RELATED TO EXCAVATION",
           2011
          ],
          [
           "OTHER OUTSIDE FORCE DAMAGE",
           2011
          ],
          [
           "DAMAGE BY CAR, TRUCK, OR OTHER MOTORIZED VEHICLE/EQUIPMENT NOT ENGAGED IN EXCAVATION",
           2011
          ],
          [
           "NEARBY INDUSTRIAL, MAN-MADE, OR OTHER FIRE/EXPLOSION AS PRIMARY CAUSE OF INCIDENT",
           2011
          ],
          [
           "MECHANICAL JOINT FAILURE",
           2011
          ],
          [
           "EXCAVATION DAMAGE BY THIRD PARTY",
           2010
          ],
          [
           "NEARBY INDUSTRIAL, MAN-MADE, OR OTHER FIRE/EXPLOSION AS PRIMARY CAUSE OF INCIDENT",
           2010
          ],
          [
           "UNKNOWN",
           2010
          ],
          [
           "EXTERNAL CORROSION",
           2010
          ],
          [
           "OTHER INCORRECT OPERATION ",
           2010
          ],
          [
           "DAMAGE BY CAR, TRUCK, OR OTHER MOTORIZED VEHICLE/EQUIPMENT NOT ENGAGED IN EXCAVATION",
           2010
          ],
          [
           "UNKNOWN",
           2010
          ],
          [
           "MISCELLANEOUS",
           2010
          ],
          [
           "DAMAGE BY CAR, TRUCK, OR OTHER MOTORIZED VEHICLE/EQUIPMENT NOT ENGAGED IN EXCAVATION",
           2010
          ],
          [
           "DAMAGE BY CAR, TRUCK, OR OTHER MOTORIZED VEHICLE/EQUIPMENT NOT ENGAGED IN EXCAVATION",
           2010
          ],
          [
           "MISCELLANEOUS",
           2010
          ],
          [
           "MISCELLANEOUS",
           2010
          ],
          [
           "NEARBY INDUSTRIAL, MAN-MADE, OR OTHER FIRE/EXPLOSION AS PRIMARY CAUSE OF INCIDENT",
           2010
          ],
          [
           "EXCAVATION DAMAGE BY THIRD PARTY",
           2010
          ],
          [
           "NON-THREADED CONNECTION FAILURE",
           2010
          ],
          [
           "ELECTRICAL ARCING FROM OTHER EQUIPMENT OR FACILITY",
           2010
          ],
          [
           "NEARBY INDUSTRIAL, MAN-MADE, OR OTHER FIRE/EXPLOSION AS PRIMARY CAUSE OF INCIDENT",
           2010
          ],
          [
           "DAMAGE BY CAR, TRUCK, OR OTHER MOTORIZED VEHICLE/EQUIPMENT NOT ENGAGED IN EXCAVATION",
           2010
          ],
          [
           "EXCAVATION DAMAGE BY THIRD PARTY",
           2010
          ],
          [
           "OTHER INCORRECT OPERATION ",
           2010
          ],
          [
           "NON-THREADED CONNECTION FAILURE",
           2010
          ],
          [
           "DAMAGE BY CAR, TRUCK, OR OTHER MOTORIZED VEHICLE/EQUIPMENT NOT ENGAGED IN EXCAVATION",
           2010
          ],
          [
           "DAMAGE BY CAR, TRUCK, OR OTHER MOTORIZED VEHICLE/EQUIPMENT NOT ENGAGED IN EXCAVATION",
           2010
          ],
          [
           "DAMAGE BY CAR, TRUCK, OR OTHER MOTORIZED VEHICLE/EQUIPMENT NOT ENGAGED IN EXCAVATION",
           2010
          ],
          [
           "VALVE LEFT OR PLACED IN WRONG POSITION, BUT NOT RESULTING IN AN OVERPRESSURE",
           2010
          ],
          [
           "MISCELLANEOUS",
           2010
          ],
          [
           "MISCELLANEOUS",
           2010
          ],
          [
           "DAMAGE BY CAR, TRUCK, OR OTHER MOTORIZED VEHICLE/EQUIPMENT NOT ENGAGED IN EXCAVATION",
           2010
          ],
          [
           "NEARBY INDUSTRIAL, MAN-MADE, OR OTHER FIRE/EXPLOSION AS PRIMARY CAUSE OF INCIDENT",
           2010
          ],
          [
           "EXCAVATION DAMAGE BY OPERATOR'S CONTRACTOR (SECOND PARTY)",
           2010
          ],
          [
           "DAMAGE BY OPERATOR OR OPERATOR'S CONTRACTOR NOT RELATED TO EXCAVATION AND NOT DUE TO MOTORIZED VEHICLE/EQUIPMENT DAMAGE",
           2010
          ],
          [
           "DAMAGE BY CAR, TRUCK, OR OTHER MOTORIZED VEHICLE/EQUIPMENT NOT ENGAGED IN EXCAVATION",
           2010
          ],
          [
           "HEAVY RAINS/FLOODS",
           2010
          ],
          [
           "HEAVY RAINS/FLOODS",
           2010
          ],
          [
           "DAMAGE BY OPERATOR OR OPERATOR'S CONTRACTOR NOT RELATED TO EXCAVATION AND NOT DUE TO MOTORIZED VEHICLE/EQUIPMENT DAMAGE",
           2010
          ],
          [
           "OTHER INCORRECT OPERATION ",
           2010
          ],
          [
           "ELECTRICAL ARCING FROM OTHER EQUIPMENT OR FACILITY",
           2010
          ],
          [
           "MISCELLANEOUS",
           2010
          ],
          [
           "EQUIPMENT NOT INSTALLED PROPERLY",
           2010
          ],
          [
           "FUSION JOINT",
           2010
          ],
          [
           "OTHER OUTSIDE FORCE DAMAGE",
           2010
          ],
          [
           "LIGHTNING",
           2010
          ],
          [
           "EXCAVATION DAMAGE BY THIRD PARTY",
           2010
          ],
          [
           "MISCELLANEOUS",
           2010
          ],
          [
           "BODY OF PIPE",
           2010
          ],
          [
           "NEARBY INDUSTRIAL, MAN-MADE, OR OTHER FIRE/EXPLOSION AS PRIMARY CAUSE OF INCIDENT",
           2010
          ],
          [
           "NEARBY INDUSTRIAL, MAN-MADE, OR OTHER FIRE/EXPLOSION AS PRIMARY CAUSE OF INCIDENT",
           2010
          ],
          [
           "DAMAGE BY CAR, TRUCK, OR OTHER MOTORIZED VEHICLE/EQUIPMENT NOT ENGAGED IN EXCAVATION",
           2010
          ],
          [
           "NEARBY INDUSTRIAL, MAN-MADE, OR OTHER FIRE/EXPLOSION AS PRIMARY CAUSE OF INCIDENT",
           2010
          ],
          [
           "EXCAVATION DAMAGE BY THIRD PARTY",
           2010
          ],
          [
           "UNKNOWN",
           2010
          ],
          [
           "EXTERNAL CORROSION",
           2010
          ],
          [
           "NEARBY INDUSTRIAL, MAN-MADE, OR OTHER FIRE/EXPLOSION AS PRIMARY CAUSE OF INCIDENT",
           2010
          ],
          [
           "DAMAGE BY CAR, TRUCK, OR OTHER MOTORIZED VEHICLE/EQUIPMENT NOT ENGAGED IN EXCAVATION",
           2010
          ],
          [
           "NEARBY INDUSTRIAL, MAN-MADE, OR OTHER FIRE/EXPLOSION AS PRIMARY CAUSE OF INCIDENT",
           2010
          ],
          [
           "NEARBY INDUSTRIAL, MAN-MADE, OR OTHER FIRE/EXPLOSION AS PRIMARY CAUSE OF INCIDENT",
           2010
          ],
          [
           "EXCAVATION DAMAGE BY THIRD PARTY",
           2010
          ],
          [
           "EXCAVATION DAMAGE BY OPERATOR'S CONTRACTOR (SECOND PARTY)",
           2010
          ],
          [
           "PREVIOUS DAMAGE DUE TO EXCAVATION ACTIVITY",
           2010
          ],
          [
           "NEARBY INDUSTRIAL, MAN-MADE, OR OTHER FIRE/EXPLOSION AS PRIMARY CAUSE OF INCIDENT",
           2010
          ],
          [
           "EXCAVATION DAMAGE BY THIRD PARTY",
           2010
          ],
          [
           "DAMAGE BY CAR, TRUCK, OR OTHER MOTORIZED VEHICLE/EQUIPMENT NOT ENGAGED IN EXCAVATION",
           2010
          ],
          [
           "EXCAVATION DAMAGE BY THIRD PARTY",
           2010
          ],
          [
           "NEARBY INDUSTRIAL, MAN-MADE, OR OTHER FIRE/EXPLOSION AS PRIMARY CAUSE OF INCIDENT",
           2010
          ],
          [
           "NEARBY INDUSTRIAL, MAN-MADE, OR OTHER FIRE/EXPLOSION AS PRIMARY CAUSE OF INCIDENT",
           2010
          ],
          [
           "INTENTIONAL DAMAGE",
           2010
          ],
          [
           "EXCAVATION DAMAGE BY THIRD PARTY",
           2010
          ],
          [
           "OTHER OUTSIDE FORCE DAMAGE",
           2010
          ],
          [
           "EXCAVATION DAMAGE BY THIRD PARTY",
           2010
          ],
          [
           "UNKNOWN",
           2010
          ],
          [
           "EXCAVATION DAMAGE BY THIRD PARTY",
           2010
          ],
          [
           "NEARBY INDUSTRIAL, MAN-MADE, OR OTHER FIRE/EXPLOSION AS PRIMARY CAUSE OF INCIDENT",
           2010
          ],
          [
           "DAMAGE BY CAR, TRUCK, OR OTHER MOTORIZED VEHICLE/EQUIPMENT NOT ENGAGED IN EXCAVATION",
           2010
          ],
          [
           "EXTERNAL CORROSION",
           2010
          ],
          [
           "NEARBY INDUSTRIAL, MAN-MADE, OR OTHER FIRE/EXPLOSION AS PRIMARY CAUSE OF INCIDENT",
           2010
          ],
          [
           "NEARBY INDUSTRIAL, MAN-MADE, OR OTHER FIRE/EXPLOSION AS PRIMARY CAUSE OF INCIDENT",
           2010
          ],
          [
           "EXCAVATION DAMAGE BY THIRD PARTY",
           2010
          ],
          [
           "NEARBY INDUSTRIAL, MAN-MADE, OR OTHER FIRE/EXPLOSION AS PRIMARY CAUSE OF INCIDENT",
           2010
          ],
          [
           "OTHER OUTSIDE FORCE DAMAGE",
           2010
          ],
          [
           "EXCAVATION DAMAGE BY THIRD PARTY",
           2010
          ],
          [
           "EXCAVATION DAMAGE BY THIRD PARTY",
           2010
          ],
          [
           "OTHER OUTSIDE FORCE DAMAGE",
           2010
          ],
          [
           "EXCAVATION DAMAGE BY THIRD PARTY",
           2010
          ],
          [
           "MISCELLANEOUS",
           2010
          ],
          [
           "LIGHTNING",
           2010
          ],
          [
           "NEARBY INDUSTRIAL, MAN-MADE, OR OTHER FIRE/EXPLOSION AS PRIMARY CAUSE OF INCIDENT",
           2010
          ],
          [
           "EXCAVATION DAMAGE BY THIRD PARTY",
           2010
          ],
          [
           "EXCAVATION DAMAGE BY THIRD PARTY",
           2010
          ],
          [
           "OTHER INCORRECT OPERATION ",
           2010
          ],
          [
           "DAMAGE BY CAR, TRUCK, OR OTHER MOTORIZED VEHICLE/EQUIPMENT NOT ENGAGED IN EXCAVATION",
           2010
          ],
          [
           "DAMAGE BY CAR, TRUCK, OR OTHER MOTORIZED VEHICLE/EQUIPMENT NOT ENGAGED IN EXCAVATION",
           2010
          ],
          [
           "MECHANICAL JOINT FAILURE",
           2010
          ],
          [
           "NON-THREADED CONNECTION FAILURE",
           2010
          ],
          [
           "TEMPERATURE",
           2010
          ],
          [
           "NEARBY INDUSTRIAL, MAN-MADE, OR OTHER FIRE/EXPLOSION AS PRIMARY CAUSE OF INCIDENT",
           2010
          ],
          [
           "EXCAVATION DAMAGE BY THIRD PARTY",
           2010
          ],
          [
           "OTHER NATURAL FORCE DAMAGE",
           2010
          ],
          [
           "DAMAGE BY CAR, TRUCK, OR OTHER MOTORIZED VEHICLE/EQUIPMENT NOT ENGAGED IN EXCAVATION",
           2010
          ],
          [
           "EXTERNAL CORROSION",
           2010
          ],
          [
           "OTHER OUTSIDE FORCE DAMAGE",
           2010
          ],
          [
           "EXCAVATION DAMAGE BY OPERATOR'S CONTRACTOR (SECOND PARTY)",
           2010
          ],
          [
           "EXCAVATION DAMAGE BY THIRD PARTY",
           2010
          ],
          [
           "OTHER OUTSIDE FORCE DAMAGE",
           2010
          ],
          [
           "UNKNOWN",
           2010
          ],
          [
           "INTENTIONAL DAMAGE",
           2010
          ],
          [
           "NEARBY INDUSTRIAL, MAN-MADE, OR OTHER FIRE/EXPLOSION AS PRIMARY CAUSE OF INCIDENT",
           2010
          ],
          [
           "EXCAVATION DAMAGE BY THIRD PARTY",
           2010
          ],
          [
           "OTHER OUTSIDE FORCE DAMAGE",
           2010
          ],
          [
           "UNKNOWN",
           2010
          ],
          [
           "DAMAGE BY CAR, TRUCK, OR OTHER MOTORIZED VEHICLE/EQUIPMENT NOT ENGAGED IN EXCAVATION",
           2010
          ],
          [
           "TEMPERATURE",
           2010
          ],
          [
           "INTENTIONAL DAMAGE",
           2010
          ],
          [
           "OTHER PIPE, WELD, OR JOINT FAILURE",
           2010
          ],
          [
           "EARTH MOVEMENT, NOT DUE TO HEAVY RAINS/FLOODS",
           2010
          ],
          [
           "OTHER INCORRECT OPERATION ",
           2010
          ],
          [
           "BODY OF PIPE",
           2010
          ],
          [
           "OTHER OUTSIDE FORCE DAMAGE",
           2010
          ],
          [
           "EARTH MOVEMENT, NOT DUE TO HEAVY RAINS/FLOODS",
           2010
          ],
          [
           "EXTERNAL CORROSION",
           2010
          ]
         ],
         "hovertemplate": "<b>%{hovertext}</b><br><br>LOCATION_LATITUDE=%{lat}<br>LOCATION_LONGITUDE=%{lon}<br>CAUSE_DETAILS=%{customdata[0]}<br>IYEAR=%{customdata[1]}<extra></extra>",
         "hovertext": [
          "SILVER SPRING",
          "KALAMAZOO",
          "TRAVELERS REST",
          "TEMPLE",
          "BROOKLYN",
          "ASPEN",
          "WOONSOCKET",
          "PITTSBURGH",
          "BALTIMORE",
          "MANOR",
          "RAEFORD",
          "PONTIAC",
          "BRONX",
          "GLENVILLE",
          "CLE ELUM",
          "MONROE",
          "WINDSOR",
          "HYATTSVILLE",
          "WAUPACA",
          "KANSAS CITY",
          "ROYAL OAK",
          "ALLEN",
          "CHATOM",
          "BROOKLYN",
          "RAPID CITY",
          "FLINT",
          "CONWAY",
          "UPPER MARLBORO",
          "ADDIS",
          "RATHDRUM",
          "OTTAWA",
          "BRENHAM",
          "INDIANAPOLIS",
          "SALINAS",
          "GAINESVILLE",
          "FORT BRAGG",
          "WILLOW SPRINGS",
          "WOODBRIDGE",
          "SANTA FE",
          "DETROIT",
          "MAYNARD",
          "CHANDLER",
          "SAN JOSE",
          "SELMA",
          "MILLINGTON",
          "KNOXVILLE",
          "BRYN MAWR",
          "CHESAPEAKE",
          "COLLEGE PLACE",
          "ATLANTA",
          "CLEVELAND",
          "NEW IBERIA",
          "GLENVILLE",
          "HAYMARKET",
          "BEAVER",
          "WOODSTOCK",
          "DAVIN",
          "DUBUQUE",
          "HARVEST",
          "PASCO",
          "TAYLOR",
          "MANCHESTER",
          "MILFORD",
          "WEST FORK",
          "LINCOLN",
          "BERWYN",
          "PIKESVILLE",
          "HILLSDALE",
          "LITTLE ROCK",
          "KALAMAZOO",
          "NORWICH",
          "SAN MONICA",
          "DOWNEY",
          "SHOREWOOD",
          "COLUMBUS",
          "TOLEDO",
          "NORTH BETHESDA",
          "HIGHLAND PARK",
          "WALL",
          "HINSDALE",
          "STUDIO CITY",
          "SPRING",
          "TUCKER",
          "GOSHEN",
          "TOLER",
          "PHOENIX",
          "PIPPA PASSES",
          "WESLEY CHAPEL",
          "WILLIAMSTON",
          "WOODLAND HILLS",
          "FALMOUTH",
          "VIRGINIA BEACH",
          "JACKSONVILLE",
          "SPRINGFIELD",
          "LEBANON",
          "FARMVILLE",
          "MILLVILLE",
          "CARMICHAEL",
          "ALBUQUERQUE",
          "ADAMS",
          "TOLEDO",
          "LOS ANGELES",
          "PITTSBURGH",
          "NORTH CHARLESTON",
          "SWIFTWATER",
          "HEMPSTEAD",
          "CITY OF NEWPORT NEWS",
          "DUNWOODY",
          "MANALAPAN",
          "ALLENDALE",
          "WARREN",
          "GATES",
          "GRAND BLANC",
          "OMAHA",
          "BRADENTON",
          "CHARLOTTE",
          "ALHAMBRA",
          "SOUTH POINT",
          "AKRON",
          "DALLAS",
          "BIRMINGHAM",
          "ERIE",
          "LAWRENCE",
          "RIMERSBURG",
          "CHATTANOOGA",
          "YORK",
          "CARTERSVILLE",
          "CRAWFORDSVILLE",
          "SOUTH FAYETTE TWP",
          "MCALLEN",
          "ANCONA",
          "MONTGOMERY",
          "OAKDALE",
          "KITTS HILL",
          "DUBUQUE",
          "DELL RAPIDS",
          "WESTOVER",
          "PLANO",
          "FORT WORTH",
          "GARLAND",
          "GYPSUM",
          "FORT SMITH",
          "CRESTVIEW",
          "HEMET",
          "TALENT",
          "ANNA",
          "GAFFNEY",
          "BRIGHTON",
          "LINCOLN",
          "NEW BRIGHTON",
          "DURHAM",
          "SAVANNAH",
          "GRANTSVILLE",
          "BRONX",
          "PLANO",
          "CALIFORNIA CITY",
          "SANTA MONICA",
          "CAMBRIA",
          "SALEM",
          "CHARLOTTE",
          "SAN DIEGO",
          "LAWRENCE",
          "PLYMOUTH MEETING",
          "MENDOTA HEIGHTS",
          "CONCORD",
          "TEANECK",
          "KANSAS CITY",
          "PUYALLUP",
          "LAS VEGAS",
          "FORT WAYNE",
          "BLUFFTON",
          "MAUMELLE",
          "RALEIGH",
          "BLOOMFIELD TOWNSHIP",
          "LAKE CHARLES",
          "WOODSTOCK",
          "EDENVILLE TOWNSHIP",
          "GOSHEN",
          "OKLAHOMA CITY",
          "WOODBURY",
          "WEST HOLLYWOOD",
          "CUTLER",
          "ROBINSON",
          "Not Within a Municipality",
          "GRAND PRAIRIE",
          "SAND SPRINGS",
          "BELOIT",
          "WEST JORDAN",
          "CHARLOTTE",
          "LEWISVILLE",
          "COPPERAS COVE",
          "TAMPA",
          "OZARK",
          "WEST CHESTER",
          "ASPEN",
          "POTOMAC FALLS",
          "OCALA",
          "BURNS HARBOR",
          "ATLANTA",
          "BROOKLYN",
          "TULSA",
          "BURGAW",
          "DALLAS",
          "IDAHO FALLS",
          "LOS ANGELES",
          "MANSFIELD",
          "LEXINGTON",
          "JERSEY CITY",
          "ATLANTA",
          "CROWLEY",
          "DETROIT",
          "COLUMBUS",
          "Not Within a Municipality",
          "PHILADELPHIA",
          "FAIRFAX STATION",
          "NORTH BERGEN",
          "BLANCHARD",
          "IRVING",
          "CORAL SPRINGS",
          "WEST PADUCAH",
          "WARREN",
          "RITTMAN",
          "LAVACA",
          "MOUNT VERNON",
          "DECATUR",
          "ALTAMONTE SPRINGS",
          "PAYNESVILLE",
          "BILLINGS",
          "SEVIERVILLE",
          "PEPPER PIKE",
          "WOODLAKE",
          "BLOOMFIELD",
          "PENNINGTON",
          "AUGUSTA",
          "BEAVERTON",
          "MOSES LAKE",
          "NEW KENT",
          "NORTHAMPTON",
          "IRVING",
          "DURHAM",
          "GRANTSBURG",
          "GREENVILLE",
          "EXCELSIOR",
          "SEATTLE",
          "Not Within a Municipality",
          "CORNPLANTER TOWNSHIP",
          "ABERDEEN",
          "MIAMI BEACH",
          "SAN DIEGO",
          "WICKENBURG",
          "LAWRENCE",
          "PONTOTOC",
          "LEXINGTON",
          "VAN BUREN TOWNSHIP",
          "LYNDEN",
          "BELLEVUE",
          "HEWLETT",
          "AUSTIN",
          "BALLWIN",
          "RENO",
          "COLUMBIA",
          "KINDERHOOK",
          "CROTON-ON-HUDSON",
          "HIXSON",
          "MOUNT PLEASANT",
          "SAN DIEGO",
          "ROCHESTER",
          "WAPPINGERS FALLS",
          "BUTTERFIELD",
          "TROY",
          "SAGINAW",
          "ROCHESTER HILLS",
          "WASHINGTON",
          "ELGIN",
          "MARIETTA",
          "ALICE",
          "PORT ST LUCIE",
          "POWAY",
          "EDEN PRAIRIE",
          "PLEASANT GROVE",
          "MURRIETA",
          "LAWRENCEVILLE",
          "INYOKERN",
          "BRISTOL",
          "ROSWELL",
          "SCOTTSDALE",
          "ATLANTA",
          "LAKEVILLE",
          "LANAGAN",
          "LAWRENCE",
          "BATESVILLE",
          "WINTER GARDEN",
          "SANTA FE",
          "KANSAS CITY",
          "PISCATAWAY",
          "JACKSON",
          "CONCORD",
          "JURUPA VALLEY",
          "TULSA",
          "FREDERICK",
          "CUYAHOGA FALLS",
          "AUBURN HILLS",
          "FT MYERS",
          "DIX",
          "SPRING LAKE",
          "CHINO HILLS",
          "MARTINSVILLE",
          "BURNSVILLE",
          "MORONI",
          "FRONTENAC",
          "GOLDEN",
          "OSWEGO CITY",
          "PRIOR LAKE",
          "PRIOR LAKE",
          "LAS VEGAS",
          "DURHAM",
          "DERRY",
          "BRECKENRIDGE",
          "MANCHESTER",
          "SAN ANTONIO",
          "BERKELEY TOWNSHIP",
          "SHREWSBURY",
          "PONCA CITY",
          "GLENDIVE",
          "WEST BURLINGTON",
          "ROCHESTER",
          "MOON TOWNSHIP",
          "REIDSVILLE",
          "BROOKLYN",
          "SOUTH LAKE TAHOE",
          "GEORGETOWN",
          "LARGO",
          "ALTA",
          "ROCHESTER",
          "MOORHEAD",
          "BIRMINGHAM",
          "TUCSON",
          "LAWRENCEVILLE",
          "SAN FRANCISCO",
          "FORT WORTH",
          "CLEVELAND",
          "PONTIAC",
          "PORTSMOUTH",
          "VERMILION",
          "DALLAS",
          "RHINELAND",
          "ASHEVILLE",
          "ISSAQUAH",
          "FARGO",
          "NEW YORK",
          "DUMAS",
          "LAUREL",
          "PLYMOUTH",
          "HEREFORD",
          "SAVANNAH",
          "WAUCONDA",
          "SAINT LOUIS",
          "BUTTE",
          "SAN ANTONIO",
          "MESQUITE",
          "SAINT LOUIS",
          "DETROIT",
          "NEW YORK",
          "LAWRENCE TWP.",
          "OXNARD",
          "IRVING",
          "NOVATO",
          "DURHAM",
          "SOUTHFIELD",
          "PASADENA",
          "AURORA",
          "SAVANNAH",
          "LAKEWOOD",
          "LAKE STATION",
          "PARADISE",
          "YELM",
          "BELLEVUE",
          "NEW BOSTON",
          "AUSTIN",
          "DAVISON",
          "CHARLOTTE",
          "BEAVERTON",
          "ELKHORN",
          "COLQUITT",
          "Not Within a Municipality",
          "BETHEL PARK",
          "LAS VEGAS",
          "GREENVILLE",
          "YREKA",
          "HUDSON OAKS",
          "LAWRENCE",
          "TEMECULA",
          "COLUMBUS",
          "WINCHESTER",
          "GREAT FALLS",
          "CHICAGO",
          "HOMERVILLE",
          "JERSEY SHORE",
          "CLEVELAND",
          "REDDING",
          "JELLICO",
          "ROSEVILLE",
          "IRVING",
          "GRANTS",
          "KANSAS CITY",
          "SUN PRAIRIE",
          "BROOKLYN",
          "ROCHESTER HILLS",
          "TULSA",
          "LAS VEGAS",
          "BALTIMORE",
          "NORTHVILLE",
          "AUGUSTA",
          "BROOKLYN",
          "TRENTON",
          "BELLEVUE",
          "SHELBY TOWNSHIP",
          "TAUNTON",
          "ROCHESTER HILLS",
          "CLEVELAND",
          "LOST HILLS",
          "CALDWELL",
          "DECATUR",
          "LOUISVILLE",
          "ARLINGTON",
          "UNION",
          "CHATSWORTH",
          "SALIDA",
          "ODESSA",
          "HURST",
          "SAND SPRINGS",
          "BERKELEY",
          "SOUTH SAN FRANCISCO",
          "BOUTTE",
          "RENO",
          "SAN JOSE",
          "RAPID CITY",
          "JOHNS CREEK",
          "STONY POINT",
          "MANSFIELD",
          "DALLAS",
          "LITTLE FALLS",
          "MAYFIELD HEIGHTS",
          "ABERDEEN",
          "ARLINGTON",
          "NEW ORLEANS",
          "LOS ANGELES",
          "BROOKLYN",
          "AMARILLO",
          "UTICA",
          "ANDERSON",
          "FORT MONMOUTH",
          "LAS VEGAS",
          "LEE'S SUMMIT",
          "LAWRENCE",
          "MONTECITO",
          "CROSSVILLE",
          "IRVING",
          "BOSTON",
          "HEMET",
          "FLINT",
          "WILKES-BARRE",
          "MCDONOUGH",
          "MESA",
          "RUIDOSO",
          "NORTH LAWRENECE",
          "SAN LUIS OBISPO",
          "SAN ANTONIO",
          "NEW YORK",
          "ROME",
          "COLUMBUS",
          "SAN FRANCISCO",
          "NEW YORK",
          "CAMBY",
          "FREMONT",
          "COVINGTON",
          "TRACY",
          "OTTAWA LAKE",
          "REX",
          "PHILADELPHIA",
          "FOREST CITY",
          "KENWOOD",
          "COTTONWOOD HEIGHTS",
          "DALLAS",
          "BALL GROUND",
          "LANSING",
          "DETROIT",
          "HENDERSON",
          "WINSTON-SALEM",
          "DALLAS",
          "SPICEWOOD",
          "WARRENVILLE",
          "BOCA RATON",
          "VALLEJO",
          "LOS ANGELES",
          "VIDOR",
          "TOPEKA",
          "Not Within a Municipality",
          "RENO",
          "DAVISON",
          "AVON",
          "MINNEAPOLIS",
          "CALHOUN",
          "LANSING",
          "ACAMPO",
          "PRARIE VILLAGE",
          "REDDING",
          "MORENO VALLEY",
          "WARREN",
          "FAIR LAWN BOROUGH",
          "GLENDALE",
          "BANNING",
          "CONCORD",
          "MILLERSVILLE",
          "BELLEFONTAINE",
          "LEADVILLE",
          "WOODLAND HILLS",
          "SEATTLE",
          "GRANDVIEW",
          "GLENDALE",
          "ORLAND",
          "CHICAGO",
          "COMMERCE CITY",
          "GRAPEVINE",
          "COLUMBUS",
          "Not Within a Municipality",
          "BURLINGTON",
          "RANCHO CUCAMONGA",
          "PHOENIX",
          "SAINT LOUIS",
          "LAKESIDE",
          "SIDNEY",
          "WARWICK",
          "ALEXANDRIA",
          "NEW YORK",
          "PROVIDENCE",
          "FORT WORTH",
          "CORAOPOLIS",
          "ESTERO",
          "NEW ROCHELLE",
          "DALLAS",
          "GRAND ISLAND",
          "JACKSON HEIGHTS",
          "PAGOSA SPRINGS",
          "STATEN ISLAND",
          "KINGSBURG",
          "VICKSBURG",
          "WILLAMINA",
          "MAYS",
          "ADAIRSVILLE",
          "JEROME",
          "ROSENBERG",
          "FOLSOM",
          "ONTARIO",
          "WENATCHEE",
          "DETROIT",
          "YAKIMA",
          "GLENDORA",
          "Not Within a Municipality",
          "YUBA CITY",
          "WEST YELLOWSTONE",
          "NEW YORK",
          "L' ANSE",
          "COLUMBUS",
          "WESTOVER",
          "CORONA",
          "FARMINGTON",
          "ANAHEIM",
          "HOMER GLEN",
          "Not Within a Municipality",
          "PHILADELPHIA",
          "MELBOURNE",
          "FRESNO",
          "SHERIDAN",
          "CANTON",
          "SAN JOSE",
          "BROOKLYN",
          "PAYSON",
          "CHATHAM",
          "NOLENSVILLE",
          "REVERE",
          "ATLANTA",
          "NEW YORK",
          "PORTLAND",
          "SPRINGFIELD",
          "ROMEOVILLE",
          "SUNRAY",
          "COLORADO SPRINGS",
          "NORTH LAS VEGAS",
          "NEW YORK",
          "BROOKLYN",
          "SALINA",
          "BONITA SPRINGS",
          "GARY",
          "BUFORD",
          "WINTER PARK",
          "MANASSAS",
          "SALEM",
          "KAPLAN",
          "NEW OXFORD",
          "CONNEAUT LAKE",
          "SAN DIEGO",
          "SUFFOLK",
          "Not Within a Municipality",
          "NEW ORLEANS",
          "SAINT CHARLES",
          "TERRE HAUTE",
          "SILVER SPRING",
          "VISALIA",
          "DEER PARK",
          "HOOKER",
          "ALBUQUERQUE",
          "MIDDLETOWN",
          "NEWBURYPORT",
          "TRUSSVILLE",
          "WOODLAND HILLS",
          "SHREVEPORT",
          "LAS VEGAS",
          "OSPREY",
          "LOS BANOS",
          "SAN JOSE",
          "LOS ANGELES",
          "DETROIT",
          "MELVINDALE",
          "IMLAY CITY",
          "ELKVIEW",
          "WHITE SULPHUR SPRINGS",
          "HARTLAND",
          "GEORGETOWN",
          "DETROIT",
          "ATLANTA",
          "NEWTON",
          "SACRAMENTO",
          "DES PLAINES",
          "DECATUR",
          "CARLINVILLE",
          "BATH",
          "ASHLAND",
          "LOS ANGELES",
          "OGDEN",
          "FOREST HILLS",
          "NORTH LITTLE ROCK",
          "CROSBY",
          "BAYONNE",
          "FAIRFIELD",
          "KELLER",
          "PENNSVILLE",
          "MORAGA",
          "SUMMERFIELD",
          "CORSICANA",
          "ROSENBERG",
          "BELLE",
          "SEATTLE",
          "LITTLESTOWN",
          "SEATTLE",
          "HOUSTON",
          "LANCASTER",
          "SAINT LOUIS",
          "ARKADELPHIA",
          "BELLEVILLE",
          "STEAMBOAT SPRINGS",
          "BROOKLYN",
          "WOODBRIDGE",
          "BLACKFOOT",
          "NEW YORK",
          "HENRIETTA",
          "MAYSLICK",
          "OAKLAND",
          "ECORSE",
          "JAMISON",
          "FISHERS",
          "OMAHA",
          "CAMARILLO",
          "OKLAHOMA CITY",
          "NEW YORK",
          "NEW YORK",
          "KEENE",
          "ROMULUS",
          "THATCHER",
          "MEHLVILLE",
          "LAKEVILLE",
          "CARROLTON",
          "KANSAS CITY",
          "LOUISIANA",
          "STOCKTON",
          "BROOKLYN",
          "SACRAMENTO",
          "LAFAYETTE",
          "BROKEN ARROW",
          "LANCASTER",
          "CARTERSVILLE",
          "COLUMBIA",
          "WAXAHACHIE",
          "PARKER",
          "PENNSVILLE",
          "MONTROSE",
          "MAYPEARL",
          "SANTA CLARA",
          "BREMERTON",
          "SAN DIEGO",
          "SANTA MONICA",
          "KANSAS CITY",
          "LANSING",
          "BAY CITY",
          "ROSEMOUNT",
          "TUSCALOOSA",
          "BLOOMINGTON",
          "JONESBORO",
          "CORONA",
          "QUEENS",
          "NORTH BRADDOCK",
          "PLEASANT VALLEY",
          "WHITE DEER",
          "STOCKTON",
          "UNION CITY",
          "TROY",
          "CHATTANOOGA",
          "BELLEVUE",
          "GETTYSBURG",
          "LAKE TOWNSHIP",
          "BROOKLYN",
          "SHELBY",
          "HOUSTON",
          "FLINT",
          "VIRGINIA BEACH",
          "Not Within a Municipality",
          "LINCOLN",
          "NORTH LITTLE ROCK",
          "TELL CITY",
          "EVERETT",
          "LOS ANGELES",
          "SUNBURY",
          "HOLT",
          "PORT ST LUCIE",
          "NEW YORK",
          "SOUTH EL MONTE",
          "CORUNNA",
          "MEDFORD",
          "NEW YORK",
          "FLORENCE",
          "DOUGLASVILLE",
          "UPPER ARLINGTON",
          "JOPLIN",
          "FERGUS FALLS",
          "COLORADO SPRINGS",
          "TEWKSBURY",
          "Not Within a Municipality",
          "BROOKLYN",
          "TOPEKA",
          "DETROIT",
          "DALLAS",
          "SACRAMENTO",
          "BOCA RATON",
          "STAFFORD TOWNSHIP",
          "PROVIDENCE",
          "CANTON",
          "HAMPTON",
          "DUXBURY",
          "MARSHFIELD",
          "COMMERCE TOWNSHIP",
          "PHILADELPHIA",
          "WATER MILL",
          "WESTFORD",
          "JACKSON",
          "MIDWEST CITY",
          "HOUSTON",
          "HENDERSON",
          "BALDWIN PARK",
          "CORDOVA",
          "SAN BRUNO",
          "SAN JOSE",
          "SANDPOINT",
          "MIDLAND",
          "OAKLAND",
          "JACKSON",
          "QUEEN CREEK",
          "DALLAS",
          "COLUMBUS",
          "COMMERCE CITY",
          "AUSTIN",
          "DUNMORE",
          "CHICAGO",
          "NEWARK",
          "BELTON",
          "MEMPHIS",
          "MUNCIE",
          "DICKSON CITY",
          "MAHOPAC",
          "ROSENBERG",
          "SAN JOSE",
          "KOSCIUSKO",
          "COVINGTON",
          "SAN JOSE",
          "CYPRESS",
          "PALM BEACH",
          "PORTAGE",
          "SEELEY LAKE",
          "HOLLAND",
          "NEW YORK",
          "NEWARK",
          "DEKALB",
          "KALAMAZOO",
          "NORTH LAS VEGAS",
          "KING CITY",
          "BEMUS POINT",
          "EAST SPARTA",
          "SAN JOSE",
          "FRANKLINTON",
          "GOODHUE",
          "LAFAYETTE",
          "LEXINGTON",
          "LAS VEGAS",
          "KANSAS CITY",
          "LOCKWOOD",
          "NORTH LITTLE ROCK",
          "AMERICAN CANYON",
          "CHICAGO",
          "DANVILLE",
          "LITTLE ELM",
          "NEWARK",
          "SCHENECTADY",
          "RIO RANCHO",
          "DETROIT",
          "NEWPORT BEACH",
          "HUDSONVILLE",
          "SAN DIEGO",
          "VIRGINIA BEACH",
          "MERCED",
          "COATESVILLE",
          "BETHANY",
          "MILFORD",
          "EL PASO",
          "BUSHLAND",
          "ANTIOCH",
          "SAN FRANCISCO",
          "RAY TOWNSHIP",
          "TOPEKA",
          "PHOENIX",
          "VADNAIS HEIGHTS",
          "SAN JOSE",
          "CALABASAS",
          "MERCED",
          "TOWN OF GREENBURGH",
          "ANDOVER",
          "CORNING",
          "HOWARD BEACH",
          "LONG GROVE",
          "BREMERTON",
          "MT. MORRIS",
          "WALES TOWNSHIP",
          "ALEXANDRIA",
          "DETROIT",
          "ST. LOUIS",
          "CHATTANOOGA",
          "NEW YORK",
          "LAS VEGAS",
          "EWING",
          "CARMEL",
          "WATERFORD",
          "WAPATO",
          "BALTIMORE",
          "HOLT",
          "MONTCLAIR",
          "CORPUS CHRISTI",
          "ATTICA",
          "GILBERT",
          "BOZEMAN",
          "ST. LOUIS",
          "FREDERICKSBURG",
          "PHILADELPHIA",
          "TWIN LAKES",
          "NYC",
          "LANSING",
          "TERRELL HILLS",
          "WICHITA",
          "WESTFORD",
          "HEMET",
          "HEMLOCK",
          "WHEATRIDGE",
          "SHREWSBURY",
          "NORTH RICHLAND HILLS",
          "BIRMINGHAM",
          "SNELLVILLE",
          "Not Within a Municipality",
          "HOUSTON",
          "RUSHVILLE",
          "NEW YORK",
          "BAY RIDGE",
          "HAINESVILLE",
          "IRWINDALE",
          "PALATKA",
          "PENNSBORO",
          "TEMECULA",
          "KAYENTA",
          "PEORIA",
          "RICHMOND HILL",
          "HOUSTON",
          "BELINGTON",
          "RIPLEY",
          "NORFOLK",
          "WAYNE",
          "ELGIN",
          "TWO HARBORS",
          "OVERLAND PARK",
          "GLADWIN",
          "TULSA",
          "BLAIRSVILLE",
          "OAKLAND",
          "RIVERSIDE",
          "BEDFORD",
          "SMITHFIELD",
          "CORPUS CHRISTI",
          "BOYNE FALLS",
          "ROSEMONT",
          "PRESCOTT",
          "BELTSVILLE",
          "CLIO",
          "SAN ANTONIO",
          "HILMAR",
          "EL DORADO HILLS",
          "VILLAGE OF MAMARONECK",
          "OLD BRIDGE TOWNSHIP",
          "GRAND PRAIRIE",
          "SAN JOSE",
          "LAS VEGAS",
          "HOUSTON",
          "MAMMOTH LAKES",
          "ARVERNE",
          "NYACK",
          "GREENSBORO",
          "CLEVELAND",
          "NEW YORK",
          "PATTERSON",
          "TOLEDO",
          "MOUNT VERNON",
          "WICHITA",
          "POUGHKEEPSIE",
          "TOLEDO",
          "BRONX",
          "GARDEN GROVE",
          "BAKERSFIELD",
          "SAN JOSE",
          "NEW ORLEANS",
          "SPOKANE",
          "HENRICO",
          "GARY",
          "HYRUM",
          "NEW YORK",
          "ATASCADERO",
          "WHITE PLAINS",
          "PRINCETON TOWNSHIP",
          "GRAND JUNCTION",
          "WATERBURY",
          "FRESNO",
          "SELDEN",
          "BERKELEY",
          "HOUSTON",
          "AURORA",
          "ROYAL OAK",
          "KANSAS CITY",
          "ALTOONA",
          "BOULDER",
          "ATTLEBORO",
          "POUGHKEEPSIE",
          "FITCHBURG",
          "NEWTOWN",
          "LAS VEGAS",
          "TIFFIN",
          "NEWPORT",
          "GAINESVILLE",
          "ALTOONA",
          "WHITE HOUSE",
          "HUNTSVILLE",
          "METROPOLIS",
          "TOWN OF GREENBURGH",
          "TACOMA",
          "LEWISVILLE",
          "BRONX",
          "OKLAHOMA CITY",
          "MANOR",
          "LAS CRUCES",
          "LAUREL SPRINGS",
          "ANAHEIM",
          "HOUSTON",
          "MINOT",
          "SPRINGFIELD",
          "SCARSDALE",
          "LEWISTON",
          "CAMPBELLSVILLE",
          "ALFRED",
          "FITCHBURG",
          "JASPER",
          "FREEPORT",
          "CARTERET",
          "MASSAPEQUA",
          "GARDEN CITY",
          "MARLBOROUGH",
          "NORTH MUSKEGON",
          "LITTLETON",
          "TOPEKA",
          "SAN ANTONIO",
          "BRONX",
          "STUDIO CITY",
          "ORANGE",
          "CORPUS CHRISTI",
          "SOUTH ORANGE",
          "WEST PALM BEACH",
          "INDIO",
          "BRONX",
          "CORPUS CHRISTI",
          "GREEN RIVER",
          "SANTA FE",
          "SUMMERTOWN",
          "CLAREMONT",
          "ARCADIA",
          "POWELL",
          "CHALMERS",
          "ST LOUIS",
          "CENTRAL ISLIP",
          "WICHITA",
          "ROSEVILLE",
          "FORT SCOTT",
          "SHAKOPEE",
          "TOWN OF GREENBURGH",
          "GAMBRILLS",
          "SEEKONK",
          "NYACK",
          "RANCHO MIRAGE",
          "WASHINGTON",
          "SAN FRANCISCO",
          "LIVERMORE",
          "KILPATRICK",
          "SALINAS",
          "SAN JOSE",
          "AMERICAN FALLS",
          "WAUKEE",
          "UNION",
          "NEWARK",
          "MINNEAPOLIS",
          "WASHINGTON",
          "REDMOND",
          "HILLSBOROUGH",
          "WEATHERFORD",
          "OAKDALE",
          "OMAHA",
          "LYNDHURST",
          "BALTIMORE",
          "NEW YORK",
          "OMAHA",
          "TOWN OF GREENBURGH",
          "TOWN OF MT. PLEASANT",
          "LEBANON",
          "WINTHROP",
          "EL PASO",
          "BALTIMORE",
          "LOS ANGELES",
          "SPEARFISH",
          "MANHATTAN",
          "TOPEKA",
          "DETROIT",
          "NEW YORK",
          "WEST HAVERSTRAW",
          "MOUNT PLEASANT",
          "AUSTIN",
          "SUBLETTE",
          "SCHENECTADY",
          "HOUSTON",
          "WASHINGTON",
          "SPRING HILL",
          "EAST POINT",
          "LOUSIVILLE",
          "BUTLER",
          "SPRINGDALE",
          "CHICAGO",
          "FAIRBORN",
          "WETUMKA",
          "NEW ALBANY",
          "BALTIMORE",
          "HILLSBORO",
          "HENDERSON",
          "MILLERSVILLE",
          "CROTON",
          "CORPU CHRISTI",
          "GRAND RAPIDS",
          "WHITE PLAINS",
          "HANFORD",
          "GROSSE POINTE FARMS",
          "NEW ROCHELLE",
          "SEATTLE",
          "MUSKEGON",
          "TOMBALL",
          "SPARKS",
          "PORT ORCHARD",
          "ROTTERDAM JUNCTION",
          "ELMONT",
          "BLOOMFIELD",
          "CUPERTINO",
          "POMPTON LAKES",
          "DOUGLASVILLE",
          "UNIONTOWN",
          "CORPUS CHRISTI",
          "ALBANY",
          "CORPUS CHRISTI",
          "CHESTERFIELD",
          "GARRISON",
          "SUPERIOR",
          "RICHMOND",
          "BROOKLYN CENTER",
          "BROOKLYN PARK",
          "LAKEWOOD",
          "CLARKSBURG",
          "OXFORD",
          "LAKE WORTH",
          "COOKEVILLE",
          "ASHLAND",
          "OMAHA",
          "CONCORD",
          "PUEBLO",
          "MINNEAPOLIS",
          "BILLINGS",
          "NEW YORK",
          "SEATTLE",
          "NEW YORK",
          "BALTIMORE",
          "ST. CHARLES",
          "EUREKA",
          "NEW ORLEANS",
          "ELIZABETH",
          "MORRISTOWN",
          "ODESSA",
          "ST. ANTHONY",
          "BELTSVILLE",
          "BROOKHAVEN",
          "MEMPHIS",
          "TOWN OF HARRISON",
          "VIRGINIA BEACH",
          "GAINESVILLE",
          "MAPLETON",
          "DENVER",
          "PAINESVILLE",
          "LAMONT",
          "EAST LIVIERPOOL",
          "NEW YORK",
          "NEW ULM",
          "SAINT PAUL",
          "NEW YORK",
          "BINGHAMTON",
          "NEW YORK",
          "TRUCKEE",
          "ELLICOTT CITY",
          "CLEVELAND",
          "GARDEN GROVE",
          "AVON",
          "PARK FOREST",
          "CHAPEL HILL",
          "COLLEGE PARK",
          "ELKRIDGE",
          "MOUNT AIRY",
          "DETROIT",
          "BATON ROUGE",
          "ALLENTOWN",
          "FULTON",
          "LAS VEGAS",
          "SOUTH WINDSOR",
          "LAUREL",
          "SENECA",
          "FRUITLAND",
          "COUNTRY CLUB HILLS",
          "NEW YORK",
          "HORSEHEADS",
          "FAIRPORT HARBOR",
          "WEST SPRINGFIELD",
          "NEW YORK",
          "HYATTSVILLE",
          "PHILADELPHIA",
          "NEW YORK",
          "CANTON",
          "PINE LAWN",
          "MODESTO",
          "ELESMERE",
          "OXON HILL",
          "BIRMINGHAM",
          "MONTGOMERY",
          "FALLS CHURCH",
          "WAYNE",
          "RENO",
          "GRAND ISLE",
          "EARLVILLE",
          "CHANTILLY",
          "NEW YORK",
          "FULTON",
          "CRYSTAL CITY",
          "NEW YORK",
          "CHICAGO",
          "HYATTSVILLE",
          "GULF SHORES",
          "MOUNT PLEASANT",
          "TOLEDO",
          "JACKSONVILLE",
          "BRONX",
          "HYDE PARK",
          "LEBANON",
          "MOUNT VERNON",
          "VANCOUVER",
          "SCOTTSBORO",
          "SANDWICH",
          "SIOUX CITY",
          "GREECE",
          "LANSING",
          "COEUR D'ALENE",
          "ANTIOCH",
          "SOUTH BEND",
          "WALDEN",
          "OMAHA",
          "WILMINGTON",
          "NEW ULM",
          "CAIRO",
          "ANDALE",
          "CENTERVILLE",
          "ASHBURN",
          "EASTON",
          "PERSHING",
          "OMAHA",
          "BURNSVILLE",
          "AUGUSTA",
          "BURTON",
          "ROSEVILLE",
          "WASHINGTON",
          "COTTONWOOD",
          "OMAHA",
          "ASHLAND",
          "LOS ALTOS",
          "ALBUQUERQUE",
          "CLEVELAND HEIGHTS",
          "LOS ANGELES",
          "SAN DIEGO",
          "SILVER SPRING",
          "HENRICO",
          "MILTON",
          "ATLANTA",
          "LAS VEGAS",
          "SACRAMENTO",
          "MONTEREY",
          "HOUSTON",
          "DANVILLE",
          "TAFT",
          "GERBER",
          "ANDERSON",
          "SCHRAM CITY",
          "KAWKAWLIN",
          "MARTIN",
          "VILLAGE OF MAMARONECK",
          "FRANKLIN PARK",
          "STOCKTON",
          "HIGHLAND",
          "CICERO",
          "CHARLESTON",
          "LOUISVILLE",
          "COLUMBIA FALLS",
          "LAUREL",
          "MOBILE",
          "BURGETTSTOWN",
          "NEWTOWN SQUARE",
          "MODESTO",
          "FRANKLIN TOWNSHIP",
          "CALHOUN",
          "BROOKLYN PARK",
          "LOUISVILLE",
          "CLIFTON CITY",
          "OKLAHOMA CITY",
          "WITHAMSVILLE",
          "LOS ALAMOS",
          "ELM MOTT",
          "CHICAGO",
          "COCOA",
          "KEWANEE",
          "PLEASANT GROVE",
          "EDINA",
          "PINETOP",
          "KIRTLAND",
          "MOUNT PROSPECT",
          "BEACH CITY",
          "DENVER",
          "SOUTH BEND",
          "STOCKTON",
          "POLAND",
          "SACRAMENTO",
          "RICHMOND",
          "PAGE",
          "SAINT PAUL",
          "IRVING",
          "FLORENCE",
          "READING",
          "CLEVELAND",
          "WICHITA FALLS",
          "EDISON",
          "WALTHAM",
          "ELGIN",
          "SPANISH LAKE",
          "EUREKA",
          "AMARILLO"
         ],
         "lat": [
          39.00109,
          42.28157,
          34.95438,
          31.14115952,
          40.67355,
          39.2018171,
          41.99251,
          40.439621,
          39.281937,
          30.35105,
          34.97731,
          42.67834,
          40.8186061,
          38.932673,
          47.20414,
          35.057065,
          40.48334,
          38.94813,
          44.361722,
          39.070664,
          42.48993,
          33.1411569,
          31.441874,
          40.678626,
          44.07769794,
          42.99606,
          33.861299,
          38.883132,
          30.37995,
          47.813426,
          41.39615,
          30.142049,
          39.774932,
          36.68630315,
          34.368962,
          35.14925,
          41.732585,
          38.65029,
          35.6803838,
          42.2924734,
          42.42682,
          33.32135,
          37.325993,
          32.40987,
          35.376639,
          41.95415,
          40.0144098,
          36.711178,
          46.05344525,
          33.813098,
          41.45906,
          30.00217,
          38.94855244,
          38.811646,
          37.750002,
          34.12315,
          37.75,
          42.4916507,
          34.770622,
          46.28317076,
          42.20228,
          42.4845752,
          41.21948,
          35.927711,
          40.8473585,
          41.83222459,
          39.4005646,
          41.0148748,
          34.730237,
          42.290927,
          42.47862,
          34.040663,
          33.936905,
          41.515507,
          39.236957,
          41.653824,
          39.048505,
          42.341091,
          40.156496,
          48.3929,
          34.124885,
          30.03052778,
          33.866843,
          43.31130675,
          37.63863,
          33.42151,
          37.3454759,
          28.2382138,
          42.68862,
          34.151299,
          41.59512,
          36.840245,
          34.84964,
          38.45199,
          40.33907,
          35.5571,
          39.410421,
          38.64508,
          35.095437,
          43.80773,
          41.651319,
          34.050989,
          40.455345,
          32.902339,
          41.095368,
          30.092136,
          37.124201,
          33.919659,
          26.54792,
          42.95756,
          42.46618,
          43.16177787,
          42.89379,
          41.21095,
          27.4737805,
          35.228647,
          34.09499,
          38.45443,
          41.1293734,
          32.84759,
          33.561626,
          42.10411,
          40.636734,
          41.04099,
          35.151289,
          40.864375,
          34.131038,
          40.052244,
          40.362638,
          26.32707,
          41.04610177,
          39.222719,
          44.57308,
          38.550153,
          42.5046454,
          43.82347,
          39.638382,
          33.00731805,
          32.73388311,
          32.94559754,
          39.6166369,
          35.3235023,
          30.7500017,
          33.747426,
          42.221879,
          40.395384,
          35.068473,
          42.541453,
          40.813258,
          40.175262,
          35.908167,
          32.035638,
          40.60268006,
          40.8488456,
          33.04269314,
          35.134278,
          34.022791,
          35.563724,
          40.892459,
          35.236768,
          32.753253,
          38.95707,
          40.1212107,
          44.903122,
          35.3476,
          40.887121,
          39.244543,
          47.19080341,
          36.13821,
          40.996875,
          32.244389,
          34.866436,
          35.7995286,
          41.283554,
          30.1759,
          34.109949,
          43.80576,
          41.588735,
          35.44681,
          44.920019,
          34.090417,
          36.4867,
          40.399493,
          34.021335,
          32.69147696,
          36.161536,
          42.5555,
          40.6096116,
          35.26942143,
          33.05693,
          31.12097,
          27.96178,
          37.04427,
          39.310081,
          39.192124,
          39.024972,
          29.2126156,
          41.6371981,
          33.754582,
          40.612236,
          36.14814,
          34.551563,
          32.73449576,
          43.49656495,
          34.057975,
          40.695799,
          40.646379,
          40.7407324,
          33.747189,
          32.57850952,
          42.39258,
          39.99765,
          38.876062,
          39.93077,
          38.796653,
          40.758888,
          35.14693,
          32.82939889,
          26.2459503,
          37.127205,
          42.44997512,
          40.9164844,
          35.355617,
          48.4227516,
          39.856809,
          28.6616313,
          45.3835169,
          45.77285,
          35.82937,
          41.479437,
          36.41281,
          42.90156,
          40.332339,
          33.414436,
          33.90801,
          47.13890119,
          37.507892,
          42.332072,
          32.80855,
          35.98396,
          45.775836,
          34.920003,
          44.927657,
          47.703736,
          32.454706,
          41.51014,
          42.92207986,
          25.8025931,
          32.78918,
          33.95882,
          42.697083,
          34.25578635,
          39.179792,
          42.24795,
          48.94293791,
          41.29049,
          40.643509,
          30.389624,
          38.607125,
          39.543774,
          39.191001,
          39.700831,
          41.191679,
          35.1817,
          43.335524,
          32.734161,
          43.15782,
          41.60566,
          43.957957,
          42.747073,
          43.47672,
          42.694087,
          40.163007,
          42.010326,
          33.921168,
          27.75983,
          27.3261803,
          33.008034,
          44.8729794,
          40.39623262,
          33.597365,
          34.043235,
          35.620212,
          36.59283,
          33.459478,
          33.46452,
          33.680462,
          44.6952068,
          36.599561,
          40.61877,
          35.770212,
          28.4249337,
          29.36546,
          39.11662,
          40.530747,
          32.33212,
          35.43325,
          34.01256,
          36.13286,
          40.146025,
          41.11904,
          42.690709,
          26.5001998,
          38.41920853,
          43.075637,
          33.97081,
          39.422037,
          44.7454237,
          39.517837,
          38.635086,
          39.69741,
          43.453624,
          44.620435,
          44.715935,
          36.11406,
          35.59599,
          40.2841,
          39.48781,
          40.0162101,
          29.33,
          39.977699,
          39.784836,
          36.7331,
          47.093572,
          40.817461,
          42.686456,
          40.548839,
          36.352845,
          40.712043,
          38.81815,
          30.660434,
          38.902275,
          40.586376,
          44.06407,
          46.85863,
          33.51822,
          32.2178,
          33.93537,
          37.781899,
          32.7319078,
          41.43026,
          42.620444,
          38.75909,
          41.38932,
          32.813889,
          33.498349,
          35.574758,
          47.465604,
          46.80183,
          40.758381,
          35.863588,
          39.097184,
          38.48131,
          34.828607,
          32.07746361,
          42.310703,
          38.600054,
          46.0052,
          29.51632,
          32.70225,
          38.607848,
          42.342155,
          40.79198,
          40.24815,
          34.242078,
          32.82089613,
          38.120566,
          35.09698,
          42.479251,
          34.176875,
          39.66669,
          35.195236,
          40.091926,
          41.57965,
          39.778656,
          46.920087,
          41.190709,
          42.16171,
          30.1848,
          42.997306,
          35.261048,
          43.881404,
          41.289142,
          31.171145,
          39.058136,
          40.293443,
          36.22191,
          34.865142,
          41.73243,
          32.75876,
          42.6970057,
          33.470207,
          41.4228291,
          39.172587,
          47.46361,
          41.918146,
          31.036907,
          41.25732,
          41.43362,
          40.57992,
          36.5761,
          38.785644,
          32.87923,
          35.17504,
          39.10005,
          43.18331,
          40.7090818,
          42.680238,
          36.08204,
          36.13234,
          39.272676,
          42.39583,
          33.42206,
          40.727042,
          42.122087,
          41.115336,
          42.63454,
          41.884938,
          42.637704,
          36.31315,
          35.707755,
          30.52648,
          33.795252,
          38.215802,
          32.73395668,
          34.7186781,
          34.278506,
          38.52153,
          31.88333,
          32.8157,
          36.1176,
          37.869219,
          37.613331,
          29.90064,
          39.534873,
          37.331404,
          44.077564,
          34.022936,
          41.2407615,
          40.7851556,
          32.868106,
          40.6732956,
          41.511057,
          45.470957,
          32.74607,
          29.963473,
          34.11119,
          40.5864732,
          35.236628,
          43.0955314,
          40.117316,
          40.31906,
          36.0881,
          38.945987,
          42.715755,
          34.44606,
          35.9194,
          32.8511,
          42.2893068,
          33.72657,
          43.051734,
          41.24539978,
          33.466092,
          33.41276,
          33.32378,
          40.797129,
          35.27515,
          29.549072,
          40.7406859,
          34.241614,
          40.03575,
          37.734279,
          40.86163,
          39.633933,
          37.47661389,
          30.423614,
          37.6672,
          41.737495,
          33.576644,
          40.06891,
          35.33238897,
          38.426845,
          40.63016,
          32.76861,
          34.297784,
          42.8178,
          42.441053,
          36.03489,
          36.03787,
          32.7914,
          30.35303,
          41.817045,
          26.382656,
          38.077466,
          33.983077,
          30.078014,
          39.01507,
          35.61239,
          39.489406,
          43.049037,
          41.42824,
          44.946042,
          34.501136,
          42.734004,
          38.190379,
          38.96345,
          40.491176,
          33.90539,
          41.7305439,
          40.946678,
          33.50884,
          33.93333,
          38.025655,
          39.99802,
          40.347,
          39.221466,
          34.16021,
          47.521368,
          38.843024,
          33.55278,
          39.724889,
          41.711483,
          39.822591,
          32.902032,
          32.506237,
          40.057931,
          48.492939,
          34.14168,
          33.43812,
          38.522463,
          34.152476,
          40.28656,
          41.6997572,
          40.264,
          40.741895,
          41.813932,
          32.75828,
          40.51139,
          26.429885,
          40.9831423,
          32.78189,
          40.900325,
          40.747104,
          37.2831,
          40.6136543,
          36.5181,
          32.313615,
          45.04997,
          39.743558,
          34.37586,
          42.767656,
          29.56291,
          38.664614,
          34.04138,
          47.405795,
          42.37612,
          46.6016247,
          34.13882,
          43.81091,
          39.09511,
          44.66117,
          40.761704,
          46.75156,
          39.954324,
          39.63788,
          40.74782,
          36.0387,
          33.843129,
          41.630913,
          43.644039,
          39.9460732,
          28.055878,
          36.7943684,
          44.808694,
          40.556604,
          37.325732,
          40.63849,
          34.246887,
          36.80512,
          35.94208,
          42.4275728,
          33.812904,
          40.8243619,
          45.526403,
          39.936713,
          41.620039,
          36.018809,
          38.927672,
          36.21789,
          40.883197,
          40.683504,
          38.79811,
          26.325352,
          41.555628,
          34.107492,
          39.89194,
          38.748834,
          40.871339,
          29.996969,
          39.523879,
          41.62146,
          32.74378,
          36.884045,
          37.85146,
          30.007778,
          38.804261,
          39.4406,
          38.998431,
          36.31452,
          38.54835,
          36.855325,
          35.17246,
          40.416981,
          42.808176,
          33.63905,
          34.17725,
          32.488265,
          36.18097,
          27.172346,
          37.07272,
          37.36045,
          34.15533,
          42.425929,
          42.293083,
          43.025673,
          38.45693,
          37.79479,
          42.6281,
          30.68552,
          42.369644,
          33.76217014,
          38.047465,
          38.4818111,
          42.05839,
          33.811634,
          39.284661,
          40.6986,
          40.86841,
          34.07168,
          41.25695,
          40.41304,
          34.803601,
          29.920002,
          40.674182,
          39.317028,
          32.96057,
          39.66683,
          37.860282,
          36.2618845,
          32.07963,
          29.56082,
          38.24229,
          47.690159,
          39.738278,
          47.534412,
          29.75525,
          34.687412,
          38.629945,
          34.12523,
          42.200444,
          40.48225405,
          40.69559,
          38.646504,
          43.18643,
          40.71739,
          43.056667,
          38.51881,
          37.8297311,
          42.240728,
          40.26187,
          39.973308,
          41.255766,
          34.23735,
          35.596363,
          40.86503531,
          40.747862,
          42.9336,
          42.210076,
          32.8302374,
          38.469277,
          41.879769,
          40.463555,
          39.08694,
          39.43055556,
          37.983035,
          40.578385,
          38.55578319,
          36.532058,
          36.086333,
          42.90061,
          34.176842,
          39.20951,
          32.34912,
          39.501151,
          39.661005,
          43.147486,
          32.29973,
          37.3602052,
          47.34156,
          32.7148,
          34.02732,
          39.09483,
          42.742308,
          28.97743,
          44.722822,
          33.18951,
          44.844427,
          33.533912,
          33.87888,
          40.713783,
          40.399639,
          39.213154,
          35.429724,
          38.0250737,
          37.59002,
          42.551879,
          35.114495,
          47.580534,
          45.01106,
          44.370098,
          40.662012,
          40.901488,
          29.787447,
          43.012721,
          36.769017,
          41.76875301,
          40.744034,
          34.803601,
          37.984481,
          47.980522,
          34.10379,
          40.243747,
          42.651527,
          27.316655,
          40.756831,
          34.05188,
          42.96816,
          45.136,
          40.713783,
          34.829886,
          33.757011,
          40.027082,
          37.098066,
          46.26445,
          38.98462,
          42.6012386,
          36.042,
          40.685314,
          39.05099,
          42.331424,
          32.73761,
          38.48179267,
          26.351202,
          39.685893,
          42.845262,
          42.188512,
          42.93507,
          42.030736,
          42.104731,
          42.55498,
          40.072335,
          40.907022,
          42.5730468,
          42.22634,
          35.4359,
          29.835381,
          35.99701,
          34.065478,
          33.760091,
          37.6322916,
          37.3264805,
          48.271908,
          31.982191,
          37.76591,
          32.34174,
          33.24877,
          32.727443,
          39.2002,
          39.83037,
          30.4484895,
          41.414137,
          41.698583,
          39.701624,
          38.816387,
          35.02201,
          40.20874,
          41.469832,
          41.3590019,
          29.60675,
          37.299287,
          33.05555,
          30.459133,
          37.334882,
          29.93081,
          26.710577,
          41.582431,
          47.17952,
          38.144527,
          40.632374,
          40.06565,
          41.967313,
          42.312144,
          36.19584,
          36.2065424,
          42.158912,
          40.70302259,
          37.379565,
          30.87625,
          44.43551,
          37.908733,
          38.01632,
          36.06031,
          39.0815362,
          37.485431,
          34.76994416,
          38.1762914,
          41.749864,
          36.61555,
          33.168687,
          40.05645,
          42.8079,
          35.298215,
          42.407942,
          33.607372,
          42.882085,
          32.71534,
          36.77407,
          37.297058,
          39.98106,
          35.498425,
          40.77201,
          31.7587198,
          35.2065,
          37.9872528,
          37.758036,
          42.725605,
          39.07343,
          33.46044,
          45.04689,
          37.338551,
          34.1508,
          37.315744,
          41.033958,
          42.675428,
          42.150384,
          40.668152,
          42.208528,
          47.562271,
          43.128632,
          42.916603,
          38.746189,
          42.440755,
          38.440628,
          35.029177,
          40.799726,
          36.16656,
          40.27527,
          36.559244,
          42.678464,
          46.4335,
          39.296749,
          42.64765,
          34.08131,
          27.679884,
          40.2885,
          33.33881,
          45.410759,
          38.60611,
          38.35225,
          39.92752,
          42.49951,
          40.595881,
          42.696793,
          29.47893,
          37.5768,
          42.484299,
          33.74404,
          43.434911,
          39.77971,
          42.325644,
          32.842312,
          33.54152,
          33.832421,
          47.33157,
          29.62098,
          39.697635,
          40.841234,
          40.634961,
          42.352282,
          34.11289,
          29.656481,
          39.28271,
          33.49541,
          36.713365,
          33.58864,
          40.699594,
          29.600463,
          38.941703,
          42.260076,
          42.01983,
          42.2425631,
          42.024798,
          47.03937773,
          38.85453,
          43.9874,
          36.052497,
          40.436247,
          37.77151,
          34.01404,
          42.51515,
          41.896209,
          27.605655,
          45.163983,
          40.03211,
          34.575791,
          39.05935,
          43.177701,
          29.55188,
          37.41031,
          38.687976,
          40.967746,
          40.39461,
          32.45059,
          37.271008,
          36.19568,
          29.987406,
          37.66074,
          40.595676,
          41.087078,
          33.576211,
          41.5503,
          40.8342275,
          31.389349,
          41.6789,
          32.190917,
          37.70833,
          41.704081,
          41.6356,
          40.88891,
          33.7882,
          35.40481,
          37.37821,
          29.97825,
          47.68826996,
          37.632738,
          41.605892,
          41.6008,
          40.7079967,
          35.487738,
          41.03323,
          40.367527,
          39.0836,
          41.537557,
          36.809411,
          40.874818,
          37.8755,
          29.79999,
          40.85807,
          42.527098,
          39.040734,
          40.482119,
          40.05111,
          41.910158,
          41.703615,
          42.584906,
          41.41754,
          36.097244,
          41.12043,
          39.091901,
          33.61885,
          40.476659,
          36.469147,
          34.74227,
          37.191143,
          41.070181,
          47.232115,
          33.0463,
          40.814695,
          35.374107,
          30.315239,
          32.34882,
          39.823959,
          33.817803,
          29.212384,
          48.196065,
          42.10668,
          40.9887674,
          46.42374,
          37.333513,
          42.26288,
          42.5742,
          44.00571201,
          40.64082,
          40.58025,
          40.677355,
          40.734333,
          42.34731,
          43.26759,
          42.533976,
          39.0108333,
          29.47446,
          40.8301779,
          34.139668,
          40.770543,
          27.734063,
          40.74992,
          26.76273,
          33.707586,
          40.898975,
          27.79235,
          41.503408,
          35.71412,
          35.43983,
          34.083346,
          34.130389,
          40.147621,
          40.7016,
          38.654723,
          40.802053,
          37.708333,
          38.74721,
          37.83563,
          44.725788,
          41.04342,
          39.038275,
          41.817075,
          41.090652,
          33.789462,
          38.90999,
          37.72621,
          37.72221,
          34.268648,
          36.6842,
          37.29691,
          42.73236,
          41.60969499,
          40.69168,
          40.114943,
          44.98683,
          38.92603,
          47.662222,
          37.54541,
          35.5350894,
          37.76461,
          41.271642,
          41.50293,
          39.391726,
          40.871372,
          41.218051,
          41.06938,
          41.0964221,
          36.197239,
          42.3832652,
          31.78078,
          39.281787,
          34.03382,
          44.480445,
          39.15944,
          39.0333333,
          42.39893,
          40.845582,
          41.205345,
          41.139192,
          30.3375,
          37.481657,
          42.8303,
          29.948651,
          40.000706,
          28.49454,
          33.673618,
          38.10537,
          38.787087,
          36.17176,
          41.77141,
          39.75647,
          35.24256,
          38.2978,
          39.2701769,
          45.51289039,
          36.00706,
          40.0084,
          41.2115065,
          27.72763,
          42.96297,
          41.036919,
          36.32798,
          42.407864,
          40.927382,
          47.7182699,
          43.22585,
          30.081846,
          39.64268,
          47.518956,
          42.87703,
          40.703518,
          36.71125,
          37.33701,
          40.98452,
          33.755744,
          37.77259,
          27.68275,
          42.679202,
          27.795335,
          38.636331,
          46.192946,
          40.017804,
          37.3006,
          45.084365,
          45.097431,
          39.7,
          39.255215,
          42.820279,
          32.80772,
          36.14512,
          46.569211,
          41.246044,
          35.26549,
          38.22929,
          44.96277,
          45.801152,
          40.728042,
          47.57274,
          40.723948,
          39.35888934,
          41.9163798,
          40.719386,
          29.963382,
          40.6652,
          36.12345,
          47.33258,
          45.02228,
          39.05235,
          39.854736,
          35.10729,
          41.0191609,
          36.79412,
          38.79919,
          42.16134,
          39.70728,
          41.71070031,
          35.26534,
          40.37217,
          40.796536,
          44.29011,
          44.95584,
          40.7334946,
          42.0986111,
          40.815656,
          39.34868,
          39.28364474,
          41.4822,
          33.77388,
          41.43011,
          41.4906679,
          35.96392859,
          38.99176,
          39.1969739,
          39.36596,
          42.2697,
          30.455744,
          40.60709,
          43.32491,
          35.593432,
          41.84811,
          39.10195372,
          34,
          38.3335,
          38.725169,
          40.7202674,
          42.912954,
          41.7431,
          42.6,
          40.8191886,
          38.94869,
          40.026622,
          40.879437,
          32.618367,
          38.69176,
          37.6659,
          39.740515,
          38.80943,
          33.37117,
          41.5095,
          38.84606,
          42.287791,
          39.43855,
          29.210117,
          41.5831655,
          38.88067,
          40.805669,
          41.83488,
          38.210025,
          40.887987,
          41.670832,
          38.96176,
          30.2791833,
          41.095645,
          41.68797,
          39.7479,
          40.810353,
          42.24113,
          39.44099,
          40.90677,
          45.66203267,
          34.6118,
          41.644834,
          42.43825,
          43.1321423,
          42.750461,
          47.68005653,
          37.9959,
          41.67507,
          40.72945,
          41.212557,
          39.756837,
          44.2901,
          30.52762,
          37.79,
          40.723422,
          31.7094593,
          39.34519444,
          39.81258,
          41.20049,
          44.75364,
          33.487142,
          42.97495,
          38.7521235,
          38.9092,
          40.38601,
          41.292013,
          42.18004,
          37.36941,
          35.179613,
          41.525199,
          33.98678,
          32.90867,
          39.04272,
          37.56499,
          34.11529,
          33.783125,
          36.16131,
          38.52971,
          36.04843,
          29.88414,
          36.64449,
          35.13179,
          40.0709,
          40.45291,
          39.156051,
          43.65361,
          37.341508,
          40.948871,
          41.940448,
          37.92844,
          42.66279,
          41.85975,
          32.7908,
          38.28953,
          48.36786,
          39.06433,
          30.720014,
          40.39501,
          39.99159,
          37.6375,
          40.41451,
          34.49312,
          45.09051,
          38.0964,
          40.87962,
          35.45715,
          39.066895,
          35.53268,
          31.67165,
          41.87809,
          28.3555,
          41.23509,
          40.35894,
          44.91285,
          34.10934,
          36.7435,
          42.03668,
          29.74993,
          39.72825,
          41.72931,
          37.93188,
          41.0237,
          38.5373,
          37.44182,
          36.90101,
          44.9096,
          32.8541,
          34.80663,
          42.5267815,
          41.4765,
          33.893734,
          40.51114,
          42.3688146,
          42.06137,
          38.77112,
          40.7732,
          35.23153
         ],
         "legendgroup": "",
         "lon": [
          -77.05131,
          -85.57218,
          -82.466539,
          -97.34459203,
          -74.009,
          -106.8607683,
          -71.48644,
          -79.899509,
          -76.704405,
          -97.58847,
          -79.23282,
          -83.30903,
          -73.8955749,
          -80.83713,
          -120.98314,
          -80.593644,
          -104.98375,
          -76.89004,
          -89.094372,
          -94.588428,
          -83.14136,
          -96.6793497,
          -88.197026,
          -73.895864,
          -103.237473,
          -83.73677,
          -79.092041,
          -76.759413,
          -91.277763,
          -116.880287,
          -88.944209,
          -96.382068,
          -86.23243,
          -121.6773487,
          -83.804188,
          -79.00925,
          -87.87868,
          -77.32773,
          -105.9243061,
          -83.1425552,
          -71.45641,
          -111.92575,
          -121.911497,
          -87.020595,
          -89.74427,
          -77.442767,
          -75.3265299,
          -76.273372,
          -118.3787914,
          -84.354187,
          -81.64961,
          -91.49558,
          -80.87228056,
          -77.64578,
          -81.137488,
          -84.392014,
          -81.81667,
          -90.7506735,
          -86.829577,
          -119.0877897,
          -83.26569,
          -91.4585804,
          -73.10062,
          -94.185636,
          -96.6822531,
          -87.79326145,
          -76.7124795,
          -74.034904,
          -92.418769,
          -85.577437,
          -75.54291,
          -118.475559,
          -118.148063,
          -88.23533,
          -85.950161,
          -83.695416,
          -77.119242,
          -83.060799,
          -74.099283,
          -107.0867,
          -118.378316,
          -95.56555556,
          -84.18238,
          -112.0653728,
          -82.25288,
          -112.06494,
          -82.8681908,
          -82.3615656,
          -84.27692,
          -118.604681,
          -70.60605,
          -76.137112,
          -92.11634,
          -77.1425,
          -76.42664,
          -77.597708,
          -75.032218,
          -121.30848,
          -106.614959,
          -76.0193,
          -83.548099,
          -118.238064,
          -79.97899,
          -79.985598,
          -75.326474,
          -96.072948,
          -76.532021,
          -84.291118,
          -80.04302,
          -86.01317,
          -83.02023,
          -77.70871212,
          -83.6506,
          -95.99487,
          -82.5704721,
          -80.915775,
          -118.14232,
          -82.54555,
          -81.6344553,
          -96.80673,
          -86.814843,
          -80.100425,
          -73.743665,
          -79.50848,
          -85.27097,
          -97.616653,
          -84.758134,
          -86.9062382,
          -80.188425,
          -98.28078,
          -88.87215095,
          -84.356968,
          -92.59186,
          -82.613676,
          -90.6738271,
          -96.70168,
          -79.981814,
          -96.68221731,
          -97.35241204,
          -96.62117925,
          -106.9500181,
          -94.3421119,
          -86.481265,
          -116.996123,
          -122.817256,
          -84.184434,
          -81.648205,
          -83.786951,
          -96.671531,
          -80.298543,
          -78.960356,
          -81.072418,
          -112.45469,
          -73.9637356,
          -96.80544499,
          -117.929436,
          -118.503475,
          -121.082395,
          -80.856872,
          -80.829397,
          -117.103524,
          -95.2521699,
          -75.307121,
          -93.130992,
          -80.56077,
          -74.011547,
          -94.590304,
          -122.2937847,
          -115.19848,
          -85.145068,
          -80.999985,
          -92.405425,
          -78.6303226,
          -80.527737,
          -93.2244,
          -84.52452,
          -84.386069,
          -85.848918,
          -97.54797,
          -92.944151,
          -118.374357,
          -119.2803,
          -79.145934,
          -101.527029,
          -97.06108939,
          -96.226041,
          -89.011268,
          -111.9375194,
          -80.84736417,
          -97.01127,
          -97.8713,
          -82.461629,
          -93.253877,
          -84.464813,
          -106.826324,
          -77.391685,
          -82.0860112,
          -87.1205648,
          -84.481799,
          -73.993575,
          -95.87196,
          -77.925285,
          -96.82257394,
          -112.0548281,
          -118.275783,
          -82.562557,
          -88.774788,
          -74.061145,
          -84.306022,
          -97.35308635,
          -83.23674,
          -83.0346,
          -77.010649,
          -75.157868,
          -77.325328,
          -74.048278,
          -97.6528,
          -96.95211393,
          -80.2533146,
          -88.757613,
          -83.05853222,
          -81.7632056,
          -94.208762,
          -122.3292046,
          -88.92265,
          -81.3989182,
          -94.7132776,
          -108.49718,
          -83.59339,
          -81.483215,
          -119.13352,
          -77.41969,
          -74.788795,
          -82.039988,
          -88.00915,
          -119.2785201,
          -77.184236,
          -72.645019,
          -96.96016,
          -78.89859,
          -92.68384,
          -82.445493,
          -93.604123,
          -122.343314,
          -83.620262,
          -79.69914,
          -112.8494916,
          -80.1265346,
          -117.254457,
          -112.7118,
          -71.163293,
          -88.97626144,
          -93.895058,
          -83.48686,
          -122.4406627,
          -82.78316,
          -73.704015,
          -97.74646,
          -90.585885,
          -119.876894,
          -76.818052,
          -91.153452,
          -73.889588,
          -85.2233,
          -84.463756,
          -117.14834,
          -77.559743,
          -73.86486,
          -94.797298,
          -73.681105,
          -84.069948,
          -83.200648,
          -80.252453,
          -88.267074,
          -84.464255,
          -98.07167,
          -80.3242468,
          -117.046997,
          -93.4568951,
          -111.7461374,
          -117.211516,
          -83.973394,
          -117.811741,
          -82.18895,
          -104.506227,
          -111.92604,
          -84.530696,
          -93.2368961,
          -94.449958,
          -73.722643,
          -91.62532,
          -81.6198238,
          -95.08938,
          -94.561447,
          -74.417316,
          -90.26573,
          -80.60115,
          -117.50705,
          -96.04744,
          -104.974903,
          -81.45703,
          -83.304207,
          -81.8541729,
          -88.99169922,
          -86.202413,
          -117.7502,
          -86.400087,
          -93.263215,
          -111.582155,
          -90.432765,
          -105.25469,
          -76.533052,
          -93.452157,
          -93.398632,
          -115.13796,
          -78.54286,
          -76.6544,
          -106.04119,
          -74.3101675,
          -98.51689,
          -74.261813,
          -76.672373,
          -97.04424,
          -104.758935,
          -91.160774,
          -83.124073,
          -80.245529,
          -79.697152,
          -73.968144,
          -120.02029,
          -97.69123,
          -76.845593,
          -111.648972,
          -92.48856,
          -96.76805,
          -86.81965,
          -110.83233,
          -83.978842,
          -122.454401,
          -97.2451167,
          -81.79026,
          -83.272313,
          -82.98471,
          -82.35938,
          -96.846389,
          -99.687506,
          -82.502529,
          -121.996208,
          -96.80138,
          -73.856754,
          -101.965062,
          -76.81826,
          -120.84966,
          -102.370766,
          -81.080208,
          -88.14511,
          -90.273915,
          -112.5157,
          -98.68695,
          -96.55512,
          -90.246456,
          -82.998826,
          -73.97437,
          -74.73595,
          -119.157956,
          -97.02651041,
          -122.579743,
          -78.08936,
          -83.250207,
          -118.120736,
          -104.8264,
          -88.243384,
          -74.219957,
          -87.23865,
          -121.576107,
          -122.568257,
          -95.97409,
          -83.40306,
          -97.7597,
          -83.554559,
          -80.841056,
          -84.488004,
          -96.22908,
          -84.740584,
          -94.909503,
          -80.031659,
          -115.32369,
          -82.307992,
          -122.63827,
          -97.69826,
          -71.17532,
          -117.076163,
          -97.3417571,
          -78.127344,
          -111.31722,
          -87.689201,
          -82.74689,
          -77.27101,
          -81.80123,
          -122.427875,
          -84.19916,
          -121.318716,
          -96.94119,
          -107.815644,
          -94.564111,
          -89.21366,
          -73.95123819,
          -83.207376,
          -96.03574,
          -115.16353,
          -76.608326,
          -83.484014,
          -82.028664,
          -73.953387,
          -83.179768,
          -95.954891,
          -83.087184,
          -71.066969,
          -83.18579,
          -96.463191,
          -119.82419,
          -96.71029,
          -84.294737,
          -85.5912,
          -97.09631264,
          -81.6378851,
          -118.604442,
          -106.10621,
          -102.30167,
          -97.17772,
          -96.11907,
          -122.248805,
          -122.392387,
          -90.3881,
          -119.804895,
          -121.937411,
          -103.150081,
          -84.2617,
          -73.986778,
          -82.49163333,
          -96.859732,
          -73.5181833,
          -81.450219,
          -98.490929,
          -97.09763,
          -90.07146,
          -118.21657,
          -73.9868439,
          -101.724335,
          -75.1975277,
          -85.5998397,
          -74.0379,
          -115.32332,
          -94.386923,
          -71.174819,
          -119.65253,
          -85.039,
          -96.9504,
          -71.117988,
          -116.943,
          -83.679589,
          -75.86124569,
          -84.048312,
          -111.64512,
          -105.65083,
          -81.634377,
          -120.65664,
          -98.461436,
          -73.928386,
          -85.266947,
          -82.97868,
          -122.425643,
          -73.906349,
          -86.328748,
          -121.9383551,
          -90.116869,
          -121.2787,
          -83.724526,
          -84.270017,
          -75.175333,
          -81.91716979,
          -122.551837,
          -111.807,
          -96.81201,
          -84.240202,
          -84.6056,
          -83.144726,
          -115.1102,
          -80.33379,
          -96.8285,
          -98.08693,
          -88.205295,
          -80.077226,
          -122.233758,
          -118.334,
          -94.076806,
          -95.59237,
          -95.5809,
          -119.753343,
          -83.517821,
          -82.0614,
          -93.205926,
          -84.869833,
          -84.660759,
          -121.321087,
          -94.63854,
          -122.295546,
          -117.22782,
          -71.2852426,
          -74.146751,
          -112.20291,
          -116.89109,
          -122.028485,
          -76.37392,
          -83.767,
          -106.349158,
          -118.59018,
          -122.31218,
          -94.519512,
          -112.20351,
          -122.104321,
          -87.7139,
          -104.924223,
          -97.041499,
          -84.96249,
          -105.031261,
          -122.333826,
          -117.59341,
          -112.22179,
          -90.319661,
          -109.973736,
          -84.125627,
          -71.4669849,
          -85.692,
          -73.989308,
          -71.406001,
          -97.32871,
          -80.22867,
          -81.779997,
          -73.7850393,
          -96.79212,
          -98.339731,
          -73.894374,
          -107.1009,
          -74.11528,
          -119.58656,
          -90.862901,
          -123.5014,
          -85.43199,
          -84.94043,
          -114.463375,
          -95.82322,
          -121.13603,
          -117.67053,
          -120.332825,
          -83.05348,
          -120.5304217,
          -117.85605,
          -116.687843,
          -121.67211,
          -111.10896,
          -73.980295,
          -88.45619,
          -83.075861,
          -79.97714,
          -73.860639,
          -94.2553,
          -117.742001,
          -87.950473,
          -116.499927,
          -75.2189365,
          -80.618263,
          -119.86177,
          -106.974187,
          -90.033663,
          -121.913024,
          -73.947208,
          -111.321156,
          -79.37849,
          -86.65972,
          -71.0235477,
          -84.354262,
          -73.9528411,
          -122.698367,
          -83.76686999,
          -88.129629,
          -101.827624,
          -104.830791,
          -115.15418,
          -73.905976,
          -73.967724,
          -97.61291,
          -81.762512,
          -87.370272,
          -83.878376,
          -105.76639,
          -77.448281,
          -80.885325,
          -92.280062,
          -77.01525,
          -80.3256,
          -117.25346,
          -76.408695,
          -101.8998325,
          -89.254444,
          -90.554903,
          -87.42311,
          -77.001087,
          -119.30276,
          -122.47375,
          -101.214839,
          -106.559818,
          -74.123134,
          -70.889677,
          -86.5687,
          -118.61455,
          -93.749549,
          -115.328,
          -82.479968,
          -120.86202,
          -121.83937,
          -118.38139,
          -83.104056,
          -83.17532,
          -83.07737,
          -81.49815,
          -80.30133,
          -83.69,
          -97.71607,
          -83.020507,
          -84.41702914,
          -97.36116704,
          -121.368765,
          -87.866109,
          -84.312419,
          -89.883213,
          -75.3927,
          -82.30799,
          -118.30192,
          -111.94786,
          -79.84341,
          -92.368787,
          -95.089766,
          -74.102086,
          -84.505248,
          -97.24778,
          -75.488681,
          -122.124958,
          -79.8553128,
          -96.47521,
          -95.81327,
          -81.52948,
          -122.355652,
          -77.091946,
          -122.34774,
          -95.46023,
          -118.13067,
          -90.194248,
          -94.11923,
          -83.483266,
          -106.8241032,
          -73.992042,
          -77.277534,
          -112.296287,
          -74.00694,
          -77.629766,
          -83.84138,
          -122.2217097,
          -83.144992,
          -75.086326,
          -86.032889,
          -95.930814,
          -118.91729,
          -97.646919,
          -73.9034028,
          -73.938941,
          -72.2781,
          -83.32151,
          -109.7514824,
          -90.348257,
          -70.931013,
          -81.0021,
          -94.51118,
          -91.07305556,
          -121.299697,
          -73.989348,
          -121.4873185,
          -89.058866,
          -95.761478,
          -78.66199,
          -84.795813,
          -76.89771,
          -96.78448,
          -104.718929,
          -75.514218,
          -83.881753,
          -97.04576,
          -121.9963574,
          -122.39379,
          -117.10982,
          -118.5016,
          -94.55277,
          -84.537508,
          -95.98214,
          -93.1410609,
          -87.55012,
          -93.387056,
          -84.308789,
          -117.65042,
          -73.828299,
          -79.858406,
          -94.479094,
          -101.16921,
          -121.3456191,
          -122.032807,
          -83.180369,
          -85.264042,
          -122.1489,
          -99.96047,
          -84.772122,
          -73.919579,
          -82.589641,
          -95.310475,
          -83.654125,
          -76.013322,
          -93.45639186,
          -96.648896,
          -92.368787,
          -86.711864,
          -122.182205,
          -118.32954,
          -82.861975,
          -84.53009,
          -80.373502,
          -73.969595,
          -118.062,
          -84.081998,
          -90.3428,
          -73.828299,
          -87.689174,
          -84.734502,
          -83.057943,
          -94.476095,
          -96.05534,
          -104.76484,
          -71.185445,
          -84.26687,
          -73.983327,
          -95.740186,
          -83.14834,
          -96.65918,
          -121.3673103,
          -80.115319,
          -74.269918,
          -71.392025,
          -71.152043,
          -70.82003,
          -70.738945,
          -70.759835,
          -83.45174,
          -75.19776,
          -72.361801,
          -71.4042069,
          -84.39365,
          -97.33745,
          -95.533681,
          -114.93314,
          -117.989361,
          -87.1863975,
          -122.4183799,
          -121.8183325,
          -116.556563,
          -102.1121304,
          -122.21141,
          -90.27477,
          -111.63506,
          -96.683248,
          -86.06731,
          -104.92417,
          -97.8057337,
          -75.625221,
          -87.676177,
          -75.692135,
          -94.512043,
          -89.84539,
          -85.38235,
          -75.608954,
          -73.738288,
          -95.792358,
          -121.956275,
          -89.6013,
          -90.123614,
          -121.892209,
          -95.71052,
          -80.042052,
          -87.173083,
          -113.48519,
          -87.2101,
          -74.142818,
          -82.46498,
          -88.730729,
          -85.579072,
          -115.1068,
          -121.134979,
          -79.391295,
          -81.43497065,
          -121.899979,
          -90.00519,
          -92.641726,
          -122.097246,
          -84.55332,
          -115.11143,
          -94.5759609,
          -94.023752,
          -92.26350222,
          -122.3025574,
          -87.568608,
          -79.39871,
          -96.907977,
          -82.4079,
          -73.93872,
          -106.590738,
          -82.957011,
          -117.927783,
          -85.829144,
          -117.11181,
          -76.1807,
          -120.452655,
          -75.81461,
          -97.636646,
          -97.052311,
          -106.4869314,
          -102.07238,
          -121.852895,
          -122.445381,
          -82.884546,
          -95.673023,
          -112.16915,
          -93.05544,
          -121.786256,
          -118.63572,
          -120.476306,
          -73.86543,
          -71.223979,
          -77.055112,
          -73.855376,
          -88.002067,
          -122.66911,
          -83.694108,
          -82.631324,
          -77.092148,
          -82.991686,
          -90.30054,
          -85.362655,
          -73.943401,
          -115.1556,
          -74.83299,
          -121.916774,
          -83.389884,
          -120.414,
          -76.579084,
          -84.512992,
          -117.68963,
          -97.37217,
          -87.25223,
          -111.74895,
          -111.013908,
          -90.20825,
          -77.5537833,
          -75.17276,
          -88.27437,
          -74.102582,
          -84.672486,
          -98.43526,
          -97.2813,
          -71.276802,
          -116.97504,
          -84.163717,
          -105.11002,
          -71.716733,
          -97.209967,
          -86.72377,
          -82.138102,
          -94.60835,
          -95.30391,
          -85.446315,
          -73.841374,
          -74.028953,
          -88.066404,
          -117.97437,
          -81.644806,
          -80.96579,
          -117.1107,
          -110.246344,
          -112.22937,
          -73.826303,
          -95.464665,
          -79.949524,
          -79.710279,
          -97.42717,
          -96.9837372,
          -88.271677,
          -91.6677917,
          -94.70529,
          -84.48115,
          -95.965218,
          -79.253229,
          -122.13561,
          -117.34374,
          -71.241569,
          -71.520863,
          -97.222936,
          -84.933007,
          -75.32882,
          -112.441977,
          -76.887289,
          -83.654776,
          -98.37176,
          -120.85351,
          -121.061657,
          -73.736322,
          -74.313117,
          -97.00451,
          -121.848892,
          -115.07869,
          -95.338885,
          -118.88844,
          -73.793539,
          -73.931658,
          -83.175854,
          -81.5837,
          -73.851659,
          -82.138102,
          -83.58924,
          -82.623689,
          -97.28805,
          -73.882583,
          -83.52742,
          -73.860669,
          -117.96869,
          -118.99131,
          -121.83101,
          -90.065316,
          -117.3931186,
          -77.585855,
          -87.337194,
          -111.836,
          -74.0035268,
          -120.669109,
          -73.77553,
          -74.656705,
          -108.56056,
          -73.024394,
          -119.76611,
          -73.056839,
          -122.2737,
          -95.258148,
          -97.997968,
          -83.19306,
          -94.598063,
          -78.424708,
          -105.22583,
          -71.265726,
          -73.902029,
          -71.7894,
          -73.368561,
          -115.14579,
          -83.17673,
          -84.462267,
          -97.14789,
          -78.435917,
          -86.651952,
          -86.58928,
          -88.759725,
          -73.800082,
          -122.463065,
          -96.98908,
          -73.894013,
          -97.556865,
          -97.536654,
          -106.8312,
          -75.052967,
          -117.887265,
          -95.39894,
          -101.304379,
          -72.589386,
          -73.8087485,
          -117.02699,
          -85.333451,
          -77.78879,
          -71.7903,
          -122.9104377,
          -73.591245,
          -74.21993,
          -73.406815,
          -73.628959,
          -71.54964,
          -86.36114,
          -71.501589,
          -95.6819444,
          -98.62625,
          -73.869565,
          -118.379288,
          -74.229907,
          -97.38411,
          -74.24354,
          -80.05291,
          -116.242673,
          -73.846185,
          -97.44733,
          -109.458665,
          -105.944521,
          -87.29021,
          -117.724146,
          -118.025013,
          -83.096366,
          -86.8714,
          -90.281959,
          -73.19725,
          -97.3,
          -121.29941,
          -94.71851,
          -93.556488,
          -73.80153,
          -76.6732055,
          -71.335288,
          -73.917915,
          -116.431907,
          -77.02786,
          -122.40301,
          -121.74511,
          -86.075097,
          -121.6618,
          -122.00521,
          -112.879093,
          -93.88878899,
          -74.24858,
          -82.437077,
          -93.241719,
          -77.03064,
          -122.143113,
          -122.36571,
          -98.6800844,
          -120.83821,
          -96.24395,
          -81.48168,
          -76.738363,
          -73.916494,
          -95.968372,
          -73.800167,
          -73.8024256,
          -86.319842,
          -70.9914725,
          -106.31386,
          -76.657506,
          -118.20324,
          -103.812254,
          -96.62944,
          -95.7538333,
          -83.25644,
          -73.9360559,
          -73.980909,
          -73.765009,
          -97.73361,
          -100.842365,
          -73.91655,
          -95.389665,
          -80.25642,
          -82.5551,
          -84.460849,
          -85.66293,
          -84.370505,
          -94.18351,
          -87.74121,
          -84.18146,
          -96.24546,
          -85.79506,
          -76.59675143,
          -122.9770225,
          -115.11393,
          -76.3583,
          -73.8756739,
          -97.413674,
          -85.73494,
          -73.778912,
          -119.68401,
          -82.91242,
          -73.779546,
          -122.322723,
          -86.23800001,
          -95.630501,
          -119.73048,
          -122.625644,
          -74.04329,
          -73.700831,
          -107.99254,
          -122.02891,
          -74.28336,
          -84.729459,
          -87.9343,
          -97.37949,
          -73.846482,
          -97.39966,
          -90.530507,
          -93.761349,
          -98.068415,
          -77.2618,
          -93.295627,
          -93.334117,
          -105.103,
          -77.274962,
          -83.26156,
          -97.44253,
          -85.525387,
          -90.917795,
          -96.0143324,
          -80.59923,
          -104.62515,
          -93.229839,
          -108.551448,
          -73.980236,
          -122.339778,
          -73.819954,
          -76.67928892,
          -88.3167764,
          -89.329475,
          -90.080429,
          -74.21737,
          -83.16789,
          -118.685117,
          -93.226879,
          -76.94492,
          -75.391891,
          -89.97421,
          -73.693895,
          -75.99687,
          -77.61574,
          -95.79342,
          -105.0007,
          -81.2337373,
          -118.90854,
          -80.34421,
          -73.937428,
          -94.43977,
          -93.16957,
          -73.9932039,
          -75.9183333,
          -73.888379,
          -120.10775,
          -76.87815903,
          -81.6261,
          -118.03905,
          -82.06786,
          -87.6709175,
          -79.0491377,
          -76.92526,
          -76.73837859,
          -77.17566,
          -83.1541,
          -91.163762,
          -75.48794,
          -76.41104,
          -105.212779,
          -72.60319,
          -76.81643218,
          -82,
          -75.6322,
          -90.27523,
          -73.7554868,
          -76.4932571,
          -81.2744,
          -72.38,
          -73.9522576,
          -76.94807,
          -75.042423,
          -73.917542,
          -90.040897,
          -90.275,
          -120.9157,
          -75.613266,
          -76.98805,
          -86.66799,
          -74.20715,
          -77.13995,
          -83.384096,
          -119.757737,
          -90.050133,
          -88.9080725,
          -77.42052,
          -73.96438,
          -90.16831,
          -90.390337,
          -73.8604007,
          -87.654722,
          -76.96484,
          -87.68415,
          -73.802806,
          -83.49829,
          -90.24753,
          -73.88104,
          -71.13693,
          -84.2193,
          -73.819407,
          -122.6356286,
          -86.06668,
          -88.612042,
          -96.36933,
          -77.3910167,
          -84.547737,
          -116.8069518,
          -121.8391,
          -86.25078,
          -106.278968,
          -95.997656,
          -75.517246,
          -94.4397,
          -84.12823,
          -97.629,
          -92.872749,
          -83.652757,
          -95.10539167,
          -85.13606,
          -96.24264,
          -93.275893,
          -82.072715,
          -83.639305,
          -121.2880059,
          -76.9321,
          -122.27781,
          -96.033921,
          -122.66162,
          -122.14601,
          -106.682288,
          -81.562186,
          -118.25964,
          -117.14829,
          -77.17866,
          -77.38374,
          -84.33882,
          -84.342363,
          -115.15177,
          -121.46589,
          -85.25952,
          -95.46865,
          -79.36426,
          -119.45341,
          -122.1624,
          -122.30559,
          -89.475194,
          -83.94444,
          -82.452554,
          -73.702631,
          -87.885422,
          -121.30614,
          -83.61297,
          -87.744903,
          -79.9461,
          -85.63128,
          -114.18395,
          -76.85888,
          -88.15109,
          -80.366364,
          -75.38002,
          -120.9416,
          -74.59403,
          -84.91118,
          -93.299,
          -85.58459,
          -74.1748,
          -97.523294,
          -84.276334,
          -106.19313,
          -97.10032,
          -87.63693,
          -80.7141,
          -89.93011,
          -111.73885,
          -93.33624,
          -109.8601,
          -108.3338,
          -87.94307,
          -94.84157,
          -105.03351,
          -86.27531,
          -121.26133,
          -80.5988,
          -121.4608,
          -77.46601,
          -111.45333,
          -93.1852,
          -96.99403,
          -87.67568,
          -71.0940244,
          -81.7421,
          -98.529339,
          -74.40806,
          -71.2392235,
          -88.26303,
          -90.22929,
          -124.1528,
          -101.81651
         ],
         "marker": {
          "color": "red"
         },
         "mode": "markers",
         "name": "",
         "showlegend": false,
         "subplot": "mapbox",
         "type": "scattermapbox"
        }
       ],
       "layout": {
        "height": 600,
        "legend": {
         "tracegroupgap": 0
        },
        "mapbox": {
         "center": {
          "lat": 38.434900524427434,
          "lon": -92.29092358689462
         },
         "domain": {
          "x": [
           0,
           1
          ],
          "y": [
           0,
           1
          ]
         },
         "style": "open-street-map",
         "zoom": 3
        },
        "margin": {
         "b": 0,
         "l": 0,
         "r": 0,
         "t": 0
        },
        "template": {
         "data": {
          "bar": [
           {
            "error_x": {
             "color": "#2a3f5f"
            },
            "error_y": {
             "color": "#2a3f5f"
            },
            "marker": {
             "line": {
              "color": "#E5ECF6",
              "width": 0.5
             },
             "pattern": {
              "fillmode": "overlay",
              "size": 10,
              "solidity": 0.2
             }
            },
            "type": "bar"
           }
          ],
          "barpolar": [
           {
            "marker": {
             "line": {
              "color": "#E5ECF6",
              "width": 0.5
             },
             "pattern": {
              "fillmode": "overlay",
              "size": 10,
              "solidity": 0.2
             }
            },
            "type": "barpolar"
           }
          ],
          "carpet": [
           {
            "aaxis": {
             "endlinecolor": "#2a3f5f",
             "gridcolor": "white",
             "linecolor": "white",
             "minorgridcolor": "white",
             "startlinecolor": "#2a3f5f"
            },
            "baxis": {
             "endlinecolor": "#2a3f5f",
             "gridcolor": "white",
             "linecolor": "white",
             "minorgridcolor": "white",
             "startlinecolor": "#2a3f5f"
            },
            "type": "carpet"
           }
          ],
          "choropleth": [
           {
            "colorbar": {
             "outlinewidth": 0,
             "ticks": ""
            },
            "type": "choropleth"
           }
          ],
          "contour": [
           {
            "colorbar": {
             "outlinewidth": 0,
             "ticks": ""
            },
            "colorscale": [
             [
              0,
              "#0d0887"
             ],
             [
              0.1111111111111111,
              "#46039f"
             ],
             [
              0.2222222222222222,
              "#7201a8"
             ],
             [
              0.3333333333333333,
              "#9c179e"
             ],
             [
              0.4444444444444444,
              "#bd3786"
             ],
             [
              0.5555555555555556,
              "#d8576b"
             ],
             [
              0.6666666666666666,
              "#ed7953"
             ],
             [
              0.7777777777777778,
              "#fb9f3a"
             ],
             [
              0.8888888888888888,
              "#fdca26"
             ],
             [
              1,
              "#f0f921"
             ]
            ],
            "type": "contour"
           }
          ],
          "contourcarpet": [
           {
            "colorbar": {
             "outlinewidth": 0,
             "ticks": ""
            },
            "type": "contourcarpet"
           }
          ],
          "heatmap": [
           {
            "colorbar": {
             "outlinewidth": 0,
             "ticks": ""
            },
            "colorscale": [
             [
              0,
              "#0d0887"
             ],
             [
              0.1111111111111111,
              "#46039f"
             ],
             [
              0.2222222222222222,
              "#7201a8"
             ],
             [
              0.3333333333333333,
              "#9c179e"
             ],
             [
              0.4444444444444444,
              "#bd3786"
             ],
             [
              0.5555555555555556,
              "#d8576b"
             ],
             [
              0.6666666666666666,
              "#ed7953"
             ],
             [
              0.7777777777777778,
              "#fb9f3a"
             ],
             [
              0.8888888888888888,
              "#fdca26"
             ],
             [
              1,
              "#f0f921"
             ]
            ],
            "type": "heatmap"
           }
          ],
          "heatmapgl": [
           {
            "colorbar": {
             "outlinewidth": 0,
             "ticks": ""
            },
            "colorscale": [
             [
              0,
              "#0d0887"
             ],
             [
              0.1111111111111111,
              "#46039f"
             ],
             [
              0.2222222222222222,
              "#7201a8"
             ],
             [
              0.3333333333333333,
              "#9c179e"
             ],
             [
              0.4444444444444444,
              "#bd3786"
             ],
             [
              0.5555555555555556,
              "#d8576b"
             ],
             [
              0.6666666666666666,
              "#ed7953"
             ],
             [
              0.7777777777777778,
              "#fb9f3a"
             ],
             [
              0.8888888888888888,
              "#fdca26"
             ],
             [
              1,
              "#f0f921"
             ]
            ],
            "type": "heatmapgl"
           }
          ],
          "histogram": [
           {
            "marker": {
             "pattern": {
              "fillmode": "overlay",
              "size": 10,
              "solidity": 0.2
             }
            },
            "type": "histogram"
           }
          ],
          "histogram2d": [
           {
            "colorbar": {
             "outlinewidth": 0,
             "ticks": ""
            },
            "colorscale": [
             [
              0,
              "#0d0887"
             ],
             [
              0.1111111111111111,
              "#46039f"
             ],
             [
              0.2222222222222222,
              "#7201a8"
             ],
             [
              0.3333333333333333,
              "#9c179e"
             ],
             [
              0.4444444444444444,
              "#bd3786"
             ],
             [
              0.5555555555555556,
              "#d8576b"
             ],
             [
              0.6666666666666666,
              "#ed7953"
             ],
             [
              0.7777777777777778,
              "#fb9f3a"
             ],
             [
              0.8888888888888888,
              "#fdca26"
             ],
             [
              1,
              "#f0f921"
             ]
            ],
            "type": "histogram2d"
           }
          ],
          "histogram2dcontour": [
           {
            "colorbar": {
             "outlinewidth": 0,
             "ticks": ""
            },
            "colorscale": [
             [
              0,
              "#0d0887"
             ],
             [
              0.1111111111111111,
              "#46039f"
             ],
             [
              0.2222222222222222,
              "#7201a8"
             ],
             [
              0.3333333333333333,
              "#9c179e"
             ],
             [
              0.4444444444444444,
              "#bd3786"
             ],
             [
              0.5555555555555556,
              "#d8576b"
             ],
             [
              0.6666666666666666,
              "#ed7953"
             ],
             [
              0.7777777777777778,
              "#fb9f3a"
             ],
             [
              0.8888888888888888,
              "#fdca26"
             ],
             [
              1,
              "#f0f921"
             ]
            ],
            "type": "histogram2dcontour"
           }
          ],
          "mesh3d": [
           {
            "colorbar": {
             "outlinewidth": 0,
             "ticks": ""
            },
            "type": "mesh3d"
           }
          ],
          "parcoords": [
           {
            "line": {
             "colorbar": {
              "outlinewidth": 0,
              "ticks": ""
             }
            },
            "type": "parcoords"
           }
          ],
          "pie": [
           {
            "automargin": true,
            "type": "pie"
           }
          ],
          "scatter": [
           {
            "marker": {
             "colorbar": {
              "outlinewidth": 0,
              "ticks": ""
             }
            },
            "type": "scatter"
           }
          ],
          "scatter3d": [
           {
            "line": {
             "colorbar": {
              "outlinewidth": 0,
              "ticks": ""
             }
            },
            "marker": {
             "colorbar": {
              "outlinewidth": 0,
              "ticks": ""
             }
            },
            "type": "scatter3d"
           }
          ],
          "scattercarpet": [
           {
            "marker": {
             "colorbar": {
              "outlinewidth": 0,
              "ticks": ""
             }
            },
            "type": "scattercarpet"
           }
          ],
          "scattergeo": [
           {
            "marker": {
             "colorbar": {
              "outlinewidth": 0,
              "ticks": ""
             }
            },
            "type": "scattergeo"
           }
          ],
          "scattergl": [
           {
            "marker": {
             "colorbar": {
              "outlinewidth": 0,
              "ticks": ""
             }
            },
            "type": "scattergl"
           }
          ],
          "scattermapbox": [
           {
            "marker": {
             "colorbar": {
              "outlinewidth": 0,
              "ticks": ""
             }
            },
            "type": "scattermapbox"
           }
          ],
          "scatterpolar": [
           {
            "marker": {
             "colorbar": {
              "outlinewidth": 0,
              "ticks": ""
             }
            },
            "type": "scatterpolar"
           }
          ],
          "scatterpolargl": [
           {
            "marker": {
             "colorbar": {
              "outlinewidth": 0,
              "ticks": ""
             }
            },
            "type": "scatterpolargl"
           }
          ],
          "scatterternary": [
           {
            "marker": {
             "colorbar": {
              "outlinewidth": 0,
              "ticks": ""
             }
            },
            "type": "scatterternary"
           }
          ],
          "surface": [
           {
            "colorbar": {
             "outlinewidth": 0,
             "ticks": ""
            },
            "colorscale": [
             [
              0,
              "#0d0887"
             ],
             [
              0.1111111111111111,
              "#46039f"
             ],
             [
              0.2222222222222222,
              "#7201a8"
             ],
             [
              0.3333333333333333,
              "#9c179e"
             ],
             [
              0.4444444444444444,
              "#bd3786"
             ],
             [
              0.5555555555555556,
              "#d8576b"
             ],
             [
              0.6666666666666666,
              "#ed7953"
             ],
             [
              0.7777777777777778,
              "#fb9f3a"
             ],
             [
              0.8888888888888888,
              "#fdca26"
             ],
             [
              1,
              "#f0f921"
             ]
            ],
            "type": "surface"
           }
          ],
          "table": [
           {
            "cells": {
             "fill": {
              "color": "#EBF0F8"
             },
             "line": {
              "color": "white"
             }
            },
            "header": {
             "fill": {
              "color": "#C8D4E3"
             },
             "line": {
              "color": "white"
             }
            },
            "type": "table"
           }
          ]
         },
         "layout": {
          "annotationdefaults": {
           "arrowcolor": "#2a3f5f",
           "arrowhead": 0,
           "arrowwidth": 1
          },
          "autotypenumbers": "strict",
          "coloraxis": {
           "colorbar": {
            "outlinewidth": 0,
            "ticks": ""
           }
          },
          "colorscale": {
           "diverging": [
            [
             0,
             "#8e0152"
            ],
            [
             0.1,
             "#c51b7d"
            ],
            [
             0.2,
             "#de77ae"
            ],
            [
             0.3,
             "#f1b6da"
            ],
            [
             0.4,
             "#fde0ef"
            ],
            [
             0.5,
             "#f7f7f7"
            ],
            [
             0.6,
             "#e6f5d0"
            ],
            [
             0.7,
             "#b8e186"
            ],
            [
             0.8,
             "#7fbc41"
            ],
            [
             0.9,
             "#4d9221"
            ],
            [
             1,
             "#276419"
            ]
           ],
           "sequential": [
            [
             0,
             "#0d0887"
            ],
            [
             0.1111111111111111,
             "#46039f"
            ],
            [
             0.2222222222222222,
             "#7201a8"
            ],
            [
             0.3333333333333333,
             "#9c179e"
            ],
            [
             0.4444444444444444,
             "#bd3786"
            ],
            [
             0.5555555555555556,
             "#d8576b"
            ],
            [
             0.6666666666666666,
             "#ed7953"
            ],
            [
             0.7777777777777778,
             "#fb9f3a"
            ],
            [
             0.8888888888888888,
             "#fdca26"
            ],
            [
             1,
             "#f0f921"
            ]
           ],
           "sequentialminus": [
            [
             0,
             "#0d0887"
            ],
            [
             0.1111111111111111,
             "#46039f"
            ],
            [
             0.2222222222222222,
             "#7201a8"
            ],
            [
             0.3333333333333333,
             "#9c179e"
            ],
            [
             0.4444444444444444,
             "#bd3786"
            ],
            [
             0.5555555555555556,
             "#d8576b"
            ],
            [
             0.6666666666666666,
             "#ed7953"
            ],
            [
             0.7777777777777778,
             "#fb9f3a"
            ],
            [
             0.8888888888888888,
             "#fdca26"
            ],
            [
             1,
             "#f0f921"
            ]
           ]
          },
          "colorway": [
           "#636efa",
           "#EF553B",
           "#00cc96",
           "#ab63fa",
           "#FFA15A",
           "#19d3f3",
           "#FF6692",
           "#B6E880",
           "#FF97FF",
           "#FECB52"
          ],
          "font": {
           "color": "#2a3f5f"
          },
          "geo": {
           "bgcolor": "white",
           "lakecolor": "white",
           "landcolor": "#E5ECF6",
           "showlakes": true,
           "showland": true,
           "subunitcolor": "white"
          },
          "hoverlabel": {
           "align": "left"
          },
          "hovermode": "closest",
          "mapbox": {
           "style": "light"
          },
          "paper_bgcolor": "white",
          "plot_bgcolor": "#E5ECF6",
          "polar": {
           "angularaxis": {
            "gridcolor": "white",
            "linecolor": "white",
            "ticks": ""
           },
           "bgcolor": "#E5ECF6",
           "radialaxis": {
            "gridcolor": "white",
            "linecolor": "white",
            "ticks": ""
           }
          },
          "scene": {
           "xaxis": {
            "backgroundcolor": "#E5ECF6",
            "gridcolor": "white",
            "gridwidth": 2,
            "linecolor": "white",
            "showbackground": true,
            "ticks": "",
            "zerolinecolor": "white"
           },
           "yaxis": {
            "backgroundcolor": "#E5ECF6",
            "gridcolor": "white",
            "gridwidth": 2,
            "linecolor": "white",
            "showbackground": true,
            "ticks": "",
            "zerolinecolor": "white"
           },
           "zaxis": {
            "backgroundcolor": "#E5ECF6",
            "gridcolor": "white",
            "gridwidth": 2,
            "linecolor": "white",
            "showbackground": true,
            "ticks": "",
            "zerolinecolor": "white"
           }
          },
          "shapedefaults": {
           "line": {
            "color": "#2a3f5f"
           }
          },
          "ternary": {
           "aaxis": {
            "gridcolor": "white",
            "linecolor": "white",
            "ticks": ""
           },
           "baxis": {
            "gridcolor": "white",
            "linecolor": "white",
            "ticks": ""
           },
           "bgcolor": "#E5ECF6",
           "caxis": {
            "gridcolor": "white",
            "linecolor": "white",
            "ticks": ""
           }
          },
          "title": {
           "x": 0.05
          },
          "xaxis": {
           "automargin": true,
           "gridcolor": "white",
           "linecolor": "white",
           "ticks": "",
           "title": {
            "standoff": 15
           },
           "zerolinecolor": "white",
           "zerolinewidth": 2
          },
          "yaxis": {
           "automargin": true,
           "gridcolor": "white",
           "linecolor": "white",
           "ticks": "",
           "title": {
            "standoff": 15
           },
           "zerolinecolor": "white",
           "zerolinewidth": 2
          }
         }
        }
       }
      }
     },
     "metadata": {},
     "output_type": "display_data"
    }
   ],
   "source": [
    "#Using Scatter Mapbox for a different type of location plot\n",
    "\n",
    "fig = px.scatter_mapbox(Gas_Dist_Acc, lat=\"LOCATION_LATITUDE\", lon=\"LOCATION_LONGITUDE\", hover_name=\"LOCATION_CITY_NAME\",\n",
    "                    hover_data=[\"CAUSE_DETAILS\", \"IYEAR\"],\n",
    "                    color_discrete_sequence=[\"red\"], zoom=3, height=600)\n",
    "\n",
    "fig.update_layout(mapbox_style=\"open-street-map\")\n",
    "fig.update_layout(margin={\"r\":0,\"t\":0,\"l\":0,\"b\":0})\n",
    "fig.show()"
   ]
  },
  {
   "cell_type": "code",
   "execution_count": 43,
   "metadata": {},
   "outputs": [
    {
     "data": {
      "text/html": [
       "<div>\n",
       "<style scoped>\n",
       "    .dataframe tbody tr th:only-of-type {\n",
       "        vertical-align: middle;\n",
       "    }\n",
       "\n",
       "    .dataframe tbody tr th {\n",
       "        vertical-align: top;\n",
       "    }\n",
       "\n",
       "    .dataframe thead th {\n",
       "        text-align: right;\n",
       "    }\n",
       "</style>\n",
       "<table border=\"1\" class=\"dataframe\">\n",
       "  <thead>\n",
       "    <tr style=\"text-align: right;\">\n",
       "      <th></th>\n",
       "      <th>Incident Year</th>\n",
       "      <th>Incident State</th>\n",
       "      <th>REPORT_RECEIVED_DATE</th>\n",
       "      <th>No of Incidents</th>\n",
       "      <th>LOCATION_STREET_ADDRESS</th>\n",
       "      <th>LOCATION_CITY_NAME</th>\n",
       "      <th>LOCATION_COUNTY_NAME</th>\n",
       "      <th>LOCATION_POSTAL_CODE</th>\n",
       "      <th>LOCATION_LATITUDE</th>\n",
       "      <th>LOCATION_LONGITUDE</th>\n",
       "      <th>COMMODITY_RELEASED_TYPE</th>\n",
       "      <th>UNINTENTIONAL_RELEASE</th>\n",
       "      <th>INTENTIONAL_RELEASE</th>\n",
       "      <th>FATALITY_IND</th>\n",
       "      <th>NUM_EMP_FATALITIES</th>\n",
       "      <th>NUM_CONTR_FATALITIES</th>\n",
       "      <th>NUM_ER_FATALITIES</th>\n",
       "      <th>NUM_WORKER_FATALITIES</th>\n",
       "      <th>NUM_GP_FATALITIES</th>\n",
       "      <th>FATAL</th>\n",
       "      <th>INJURY_IND</th>\n",
       "      <th>NUM_EMP_INJURIES</th>\n",
       "      <th>NUM_CONTR_INJURIES</th>\n",
       "      <th>NUM_ER_INJURIES</th>\n",
       "      <th>NUM_WORKER_INJURIES</th>\n",
       "      <th>NUM_GP_INJURIES</th>\n",
       "      <th>INJURE</th>\n",
       "      <th>IGNITE_IND</th>\n",
       "      <th>IGNITE_DATETIME</th>\n",
       "      <th>HOW_EXTINGUISHED</th>\n",
       "      <th>GAS_CONSUMED_BY_FIRE_IN_MCF</th>\n",
       "      <th>EXPLODE_IND</th>\n",
       "      <th>NUM_PUB_EVACUATED</th>\n",
       "      <th>INCIDENT_AREA_TYPE</th>\n",
       "      <th>INCIDENT_AREA_SUBTYPE</th>\n",
       "      <th>INCIDENT_AREA_DETAILS</th>\n",
       "      <th>MATERIAL_INVOLVED</th>\n",
       "      <th>MATERIAL_DETAILS</th>\n",
       "      <th>RELEASE_TYPE</th>\n",
       "      <th>PUNCTURE_AXIAL</th>\n",
       "      <th>PUNCTURE_CIRCUM</th>\n",
       "      <th>CLASS_LOCATION_TYPE</th>\n",
       "      <th>EST_COST_OPER_PAID</th>\n",
       "      <th>EST_COST_PROP_DAMAGE</th>\n",
       "      <th>EST_COST_EMERGENCY</th>\n",
       "      <th>EST_COST_OTHER</th>\n",
       "      <th>GAS_COST_IN_MCF</th>\n",
       "      <th>EST_COST_UNINTENTIONAL_RELEASE</th>\n",
       "      <th>EST_COST_INTENTIONAL_RELEASE</th>\n",
       "      <th>CAUSE_DETAILS</th>\n",
       "      <th>CAUSE</th>\n",
       "      <th>hover_text</th>\n",
       "    </tr>\n",
       "  </thead>\n",
       "  <tbody>\n",
       "    <tr>\n",
       "      <th>392</th>\n",
       "      <td>2017</td>\n",
       "      <td>MS</td>\n",
       "      <td>1</td>\n",
       "      <td>1</td>\n",
       "      <td>1</td>\n",
       "      <td>1</td>\n",
       "      <td>1</td>\n",
       "      <td>1</td>\n",
       "      <td>1</td>\n",
       "      <td>1</td>\n",
       "      <td>1</td>\n",
       "      <td>1</td>\n",
       "      <td>0</td>\n",
       "      <td>1</td>\n",
       "      <td>0</td>\n",
       "      <td>0</td>\n",
       "      <td>0</td>\n",
       "      <td>0</td>\n",
       "      <td>0</td>\n",
       "      <td>1</td>\n",
       "      <td>1</td>\n",
       "      <td>0</td>\n",
       "      <td>0</td>\n",
       "      <td>0</td>\n",
       "      <td>0</td>\n",
       "      <td>0</td>\n",
       "      <td>1</td>\n",
       "      <td>1</td>\n",
       "      <td>0</td>\n",
       "      <td>0</td>\n",
       "      <td>0</td>\n",
       "      <td>1</td>\n",
       "      <td>1</td>\n",
       "      <td>1</td>\n",
       "      <td>1</td>\n",
       "      <td>0</td>\n",
       "      <td>1</td>\n",
       "      <td>1</td>\n",
       "      <td>1</td>\n",
       "      <td>0</td>\n",
       "      <td>0</td>\n",
       "      <td>1</td>\n",
       "      <td>1</td>\n",
       "      <td>1</td>\n",
       "      <td>1</td>\n",
       "      <td>1</td>\n",
       "      <td>0</td>\n",
       "      <td>1</td>\n",
       "      <td>0</td>\n",
       "      <td>1</td>\n",
       "      <td>1</td>\n",
       "      <td>1</td>\n",
       "    </tr>\n",
       "    <tr>\n",
       "      <th>351</th>\n",
       "      <td>2015</td>\n",
       "      <td>MD</td>\n",
       "      <td>1</td>\n",
       "      <td>1</td>\n",
       "      <td>1</td>\n",
       "      <td>1</td>\n",
       "      <td>1</td>\n",
       "      <td>1</td>\n",
       "      <td>1</td>\n",
       "      <td>1</td>\n",
       "      <td>1</td>\n",
       "      <td>1</td>\n",
       "      <td>0</td>\n",
       "      <td>1</td>\n",
       "      <td>0</td>\n",
       "      <td>0</td>\n",
       "      <td>0</td>\n",
       "      <td>0</td>\n",
       "      <td>0</td>\n",
       "      <td>1</td>\n",
       "      <td>1</td>\n",
       "      <td>0</td>\n",
       "      <td>0</td>\n",
       "      <td>0</td>\n",
       "      <td>0</td>\n",
       "      <td>0</td>\n",
       "      <td>1</td>\n",
       "      <td>1</td>\n",
       "      <td>0</td>\n",
       "      <td>0</td>\n",
       "      <td>0</td>\n",
       "      <td>1</td>\n",
       "      <td>1</td>\n",
       "      <td>1</td>\n",
       "      <td>1</td>\n",
       "      <td>0</td>\n",
       "      <td>1</td>\n",
       "      <td>0</td>\n",
       "      <td>1</td>\n",
       "      <td>0</td>\n",
       "      <td>0</td>\n",
       "      <td>1</td>\n",
       "      <td>1</td>\n",
       "      <td>1</td>\n",
       "      <td>1</td>\n",
       "      <td>1</td>\n",
       "      <td>0</td>\n",
       "      <td>1</td>\n",
       "      <td>0</td>\n",
       "      <td>1</td>\n",
       "      <td>1</td>\n",
       "      <td>1</td>\n",
       "    </tr>\n",
       "    <tr>\n",
       "      <th>227</th>\n",
       "      <td>2014</td>\n",
       "      <td>KS</td>\n",
       "      <td>2</td>\n",
       "      <td>2</td>\n",
       "      <td>2</td>\n",
       "      <td>2</td>\n",
       "      <td>2</td>\n",
       "      <td>2</td>\n",
       "      <td>2</td>\n",
       "      <td>2</td>\n",
       "      <td>2</td>\n",
       "      <td>2</td>\n",
       "      <td>0</td>\n",
       "      <td>2</td>\n",
       "      <td>0</td>\n",
       "      <td>0</td>\n",
       "      <td>0</td>\n",
       "      <td>0</td>\n",
       "      <td>0</td>\n",
       "      <td>2</td>\n",
       "      <td>2</td>\n",
       "      <td>1</td>\n",
       "      <td>1</td>\n",
       "      <td>1</td>\n",
       "      <td>1</td>\n",
       "      <td>1</td>\n",
       "      <td>2</td>\n",
       "      <td>2</td>\n",
       "      <td>0</td>\n",
       "      <td>0</td>\n",
       "      <td>0</td>\n",
       "      <td>2</td>\n",
       "      <td>2</td>\n",
       "      <td>2</td>\n",
       "      <td>2</td>\n",
       "      <td>0</td>\n",
       "      <td>2</td>\n",
       "      <td>0</td>\n",
       "      <td>2</td>\n",
       "      <td>0</td>\n",
       "      <td>0</td>\n",
       "      <td>2</td>\n",
       "      <td>2</td>\n",
       "      <td>2</td>\n",
       "      <td>2</td>\n",
       "      <td>2</td>\n",
       "      <td>0</td>\n",
       "      <td>2</td>\n",
       "      <td>0</td>\n",
       "      <td>2</td>\n",
       "      <td>2</td>\n",
       "      <td>2</td>\n",
       "    </tr>\n",
       "  </tbody>\n",
       "</table>\n",
       "</div>"
      ],
      "text/plain": [
       "     Incident Year Incident State  REPORT_RECEIVED_DATE  No of Incidents  \\\n",
       "392           2017             MS                     1                1   \n",
       "351           2015             MD                     1                1   \n",
       "227           2014             KS                     2                2   \n",
       "\n",
       "     LOCATION_STREET_ADDRESS  LOCATION_CITY_NAME  LOCATION_COUNTY_NAME  \\\n",
       "392                        1                   1                     1   \n",
       "351                        1                   1                     1   \n",
       "227                        2                   2                     2   \n",
       "\n",
       "     LOCATION_POSTAL_CODE  LOCATION_LATITUDE  LOCATION_LONGITUDE  \\\n",
       "392                     1                  1                   1   \n",
       "351                     1                  1                   1   \n",
       "227                     2                  2                   2   \n",
       "\n",
       "     COMMODITY_RELEASED_TYPE  UNINTENTIONAL_RELEASE  INTENTIONAL_RELEASE  \\\n",
       "392                        1                      1                    0   \n",
       "351                        1                      1                    0   \n",
       "227                        2                      2                    0   \n",
       "\n",
       "     FATALITY_IND  NUM_EMP_FATALITIES  NUM_CONTR_FATALITIES  \\\n",
       "392             1                   0                     0   \n",
       "351             1                   0                     0   \n",
       "227             2                   0                     0   \n",
       "\n",
       "     NUM_ER_FATALITIES  NUM_WORKER_FATALITIES  NUM_GP_FATALITIES  FATAL  \\\n",
       "392                  0                      0                  0      1   \n",
       "351                  0                      0                  0      1   \n",
       "227                  0                      0                  0      2   \n",
       "\n",
       "     INJURY_IND  NUM_EMP_INJURIES  NUM_CONTR_INJURIES  NUM_ER_INJURIES  \\\n",
       "392           1                 0                   0                0   \n",
       "351           1                 0                   0                0   \n",
       "227           2                 1                   1                1   \n",
       "\n",
       "     NUM_WORKER_INJURIES  NUM_GP_INJURIES  INJURE  IGNITE_IND  \\\n",
       "392                    0                0       1           1   \n",
       "351                    0                0       1           1   \n",
       "227                    1                1       2           2   \n",
       "\n",
       "     IGNITE_DATETIME  HOW_EXTINGUISHED  GAS_CONSUMED_BY_FIRE_IN_MCF  \\\n",
       "392                0                 0                            0   \n",
       "351                0                 0                            0   \n",
       "227                0                 0                            0   \n",
       "\n",
       "     EXPLODE_IND  NUM_PUB_EVACUATED  INCIDENT_AREA_TYPE  \\\n",
       "392            1                  1                   1   \n",
       "351            1                  1                   1   \n",
       "227            2                  2                   2   \n",
       "\n",
       "     INCIDENT_AREA_SUBTYPE  INCIDENT_AREA_DETAILS  MATERIAL_INVOLVED  \\\n",
       "392                      1                      0                  1   \n",
       "351                      1                      0                  1   \n",
       "227                      2                      0                  2   \n",
       "\n",
       "     MATERIAL_DETAILS  RELEASE_TYPE  PUNCTURE_AXIAL  PUNCTURE_CIRCUM  \\\n",
       "392                 1             1               0                0   \n",
       "351                 0             1               0                0   \n",
       "227                 0             2               0                0   \n",
       "\n",
       "     CLASS_LOCATION_TYPE  EST_COST_OPER_PAID  EST_COST_PROP_DAMAGE  \\\n",
       "392                    1                   1                     1   \n",
       "351                    1                   1                     1   \n",
       "227                    2                   2                     2   \n",
       "\n",
       "     EST_COST_EMERGENCY  EST_COST_OTHER  GAS_COST_IN_MCF  \\\n",
       "392                   1               1                0   \n",
       "351                   1               1                0   \n",
       "227                   2               2                0   \n",
       "\n",
       "     EST_COST_UNINTENTIONAL_RELEASE  EST_COST_INTENTIONAL_RELEASE  \\\n",
       "392                               1                             0   \n",
       "351                               1                             0   \n",
       "227                               2                             0   \n",
       "\n",
       "     CAUSE_DETAILS  CAUSE  hover_text  \n",
       "392              1      1           1  \n",
       "351              1      1           1  \n",
       "227              2      2           2  "
      ]
     },
     "execution_count": 43,
     "metadata": {},
     "output_type": "execute_result"
    }
   ],
   "source": [
    "grouped_Year_State = Gas_Dist_Acc.groupby(['IYEAR','LOCATION_STATE_ABBREVIATION']).count().sort_values(by = 'NAME',  ascending=False).reset_index()\n",
    "\n",
    "#creating a data frame as the output of the groupby. The product of the groupby is a series, \n",
    "# so you do a to_frame to get the df and then reset the index to get a proper index\n",
    "# The column NAME (1 on 1 relationship) can be our incident count so:\n",
    "\n",
    "grouped_Year_State.rename(columns = {'IYEAR':'Incident Year','LOCATION_STATE_ABBREVIATION':'Incident State', 'NAME':'No of Incidents'}, inplace=True)\n",
    "#Sorting based on year\n",
    "grouped_Year_State=grouped_Year_State.sort_values(\"Incident Year\") # Make sure you sort the time horizon column in ascending order\n",
    "\n",
    "grouped_Year_State.sample(3)\n",
    "\n"
   ]
  },
  {
   "cell_type": "code",
   "execution_count": 40,
   "metadata": {},
   "outputs": [
    {
     "name": "stdout",
     "output_type": "stream",
     "text": [
      "<class 'pandas.core.series.Series'>\n",
      "RangeIndex: 399 entries, 0 to 398\n",
      "Series name: Incident Year\n",
      "Non-Null Count  Dtype\n",
      "--------------  -----\n",
      "399 non-null    int64\n",
      "dtypes: int64(1)\n",
      "memory usage: 3.2 KB\n"
     ]
    }
   ],
   "source": [
    "grouped_Year_State['Incident Year'].info()"
   ]
  },
  {
   "cell_type": "code",
   "execution_count": 44,
   "metadata": {},
   "outputs": [
    {
     "data": {
      "application/vnd.plotly.v1+json": {
       "config": {
        "plotlyServerURL": "https://plot.ly"
       },
       "data": [
        {
         "alignmentgroup": "True",
         "hovertemplate": "Incident State=MD<br>No of Incidents=%{x}<br>Incident Year=%{y}<extra></extra>",
         "legendgroup": "MD",
         "marker": {
          "color": "#0508b8",
          "pattern": {
           "shape": ""
          }
         },
         "name": "MD",
         "offsetgroup": "MD",
         "orientation": "h",
         "showlegend": true,
         "textposition": "auto",
         "type": "bar",
         "x": [
          3,
          12,
          3,
          1,
          1,
          1,
          1,
          2,
          2,
          4,
          2
         ],
         "xaxis": "x",
         "y": [
          2010,
          2011,
          2012,
          2013,
          2014,
          2015,
          2016,
          2018,
          2019,
          2021,
          2022
         ],
         "yaxis": "y"
        },
        {
         "alignmentgroup": "True",
         "hovertemplate": "Incident State=DE<br>No of Incidents=%{x}<br>Incident Year=%{y}<extra></extra>",
         "legendgroup": "DE",
         "marker": {
          "color": "#1910d8",
          "pattern": {
           "shape": ""
          }
         },
         "name": "DE",
         "offsetgroup": "DE",
         "orientation": "h",
         "showlegend": true,
         "textposition": "auto",
         "type": "bar",
         "x": [
          1,
          1,
          1
         ],
         "xaxis": "x",
         "y": [
          2010,
          2011,
          2014
         ],
         "yaxis": "y"
        },
        {
         "alignmentgroup": "True",
         "hovertemplate": "Incident State=MA<br>No of Incidents=%{x}<br>Incident Year=%{y}<extra></extra>",
         "legendgroup": "MA",
         "marker": {
          "color": "#3c19f0",
          "pattern": {
           "shape": ""
          }
         },
         "name": "MA",
         "offsetgroup": "MA",
         "orientation": "h",
         "showlegend": true,
         "textposition": "auto",
         "type": "bar",
         "x": [
          3,
          1,
          6,
          4,
          2,
          6,
          2,
          1,
          3,
          3,
          2
         ],
         "xaxis": "x",
         "y": [
          2010,
          2011,
          2012,
          2013,
          2014,
          2015,
          2016,
          2017,
          2018,
          2019,
          2021
         ],
         "yaxis": "y"
        },
        {
         "alignmentgroup": "True",
         "hovertemplate": "Incident State=AZ<br>No of Incidents=%{x}<br>Incident Year=%{y}<extra></extra>",
         "legendgroup": "AZ",
         "marker": {
          "color": "#6b1cfb",
          "pattern": {
           "shape": ""
          }
         },
         "name": "AZ",
         "offsetgroup": "AZ",
         "orientation": "h",
         "showlegend": true,
         "textposition": "auto",
         "type": "bar",
         "x": [
          2,
          3,
          3,
          1,
          1,
          5,
          3,
          2
         ],
         "xaxis": "x",
         "y": [
          2010,
          2013,
          2014,
          2015,
          2016,
          2017,
          2019,
          2021
         ],
         "yaxis": "y"
        },
        {
         "alignmentgroup": "True",
         "hovertemplate": "Incident State=UT<br>No of Incidents=%{x}<br>Incident Year=%{y}<extra></extra>",
         "legendgroup": "UT",
         "marker": {
          "color": "#981cfd",
          "pattern": {
           "shape": ""
          }
         },
         "name": "UT",
         "offsetgroup": "UT",
         "orientation": "h",
         "showlegend": true,
         "textposition": "auto",
         "type": "bar",
         "x": [
          1,
          1,
          1,
          1,
          3,
          2
         ],
         "xaxis": "x",
         "y": [
          2010,
          2013,
          2016,
          2017,
          2019,
          2020
         ],
         "yaxis": "y"
        },
        {
         "alignmentgroup": "True",
         "hovertemplate": "Incident State=WA<br>No of Incidents=%{x}<br>Incident Year=%{y}<extra></extra>",
         "legendgroup": "WA",
         "marker": {
          "color": "#bf1cfd",
          "pattern": {
           "shape": ""
          }
         },
         "name": "WA",
         "offsetgroup": "WA",
         "orientation": "h",
         "showlegend": true,
         "textposition": "auto",
         "type": "bar",
         "x": [
          1,
          4,
          1,
          2,
          2,
          3,
          2,
          4,
          1,
          5,
          1,
          2,
          1
         ],
         "xaxis": "x",
         "y": [
          2010,
          2011,
          2012,
          2013,
          2014,
          2015,
          2016,
          2017,
          2018,
          2019,
          2020,
          2021,
          2022
         ],
         "yaxis": "y"
        },
        {
         "alignmentgroup": "True",
         "hovertemplate": "Incident State=MN<br>No of Incidents=%{x}<br>Incident Year=%{y}<extra></extra>",
         "legendgroup": "MN",
         "marker": {
          "color": "#dd2bfd",
          "pattern": {
           "shape": ""
          }
         },
         "name": "MN",
         "offsetgroup": "MN",
         "orientation": "h",
         "showlegend": true,
         "textposition": "auto",
         "type": "bar",
         "x": [
          5,
          7,
          2,
          2,
          2,
          3,
          1,
          10,
          3
         ],
         "xaxis": "x",
         "y": [
          2010,
          2011,
          2012,
          2013,
          2014,
          2015,
          2017,
          2019,
          2020
         ],
         "yaxis": "y"
        },
        {
         "alignmentgroup": "True",
         "hovertemplate": "Incident State=NY<br>No of Incidents=%{x}<br>Incident Year=%{y}<extra></extra>",
         "legendgroup": "NY",
         "marker": {
          "color": "#f246fe",
          "pattern": {
           "shape": ""
          }
         },
         "name": "NY",
         "offsetgroup": "NY",
         "orientation": "h",
         "showlegend": true,
         "textposition": "auto",
         "type": "bar",
         "x": [
          8,
          18,
          17,
          16,
          9,
          10,
          9,
          6,
          7,
          9,
          4,
          3,
          2
         ],
         "xaxis": "x",
         "y": [
          2010,
          2011,
          2012,
          2013,
          2014,
          2015,
          2016,
          2017,
          2018,
          2019,
          2020,
          2021,
          2022
         ],
         "yaxis": "y"
        },
        {
         "alignmentgroup": "True",
         "hovertemplate": "Incident State=MI<br>No of Incidents=%{x}<br>Incident Year=%{y}<extra></extra>",
         "legendgroup": "MI",
         "marker": {
          "color": "#fc67fd",
          "pattern": {
           "shape": ""
          }
         },
         "name": "MI",
         "offsetgroup": "MI",
         "orientation": "h",
         "showlegend": true,
         "textposition": "auto",
         "type": "bar",
         "x": [
          5,
          5,
          2,
          4,
          11,
          11,
          8,
          7,
          10,
          9,
          6,
          7,
          2
         ],
         "xaxis": "x",
         "y": [
          2010,
          2011,
          2012,
          2013,
          2014,
          2015,
          2016,
          2017,
          2018,
          2019,
          2020,
          2021,
          2022
         ],
         "yaxis": "y"
        },
        {
         "alignmentgroup": "True",
         "hovertemplate": "Incident State=VA<br>No of Incidents=%{x}<br>Incident Year=%{y}<extra></extra>",
         "legendgroup": "VA",
         "marker": {
          "color": "#fe88fc",
          "pattern": {
           "shape": ""
          }
         },
         "name": "VA",
         "offsetgroup": "VA",
         "orientation": "h",
         "showlegend": true,
         "textposition": "auto",
         "type": "bar",
         "x": [
          5,
          3,
          1,
          4,
          1,
          4,
          1,
          2,
          2,
          5
         ],
         "xaxis": "x",
         "y": [
          2010,
          2011,
          2013,
          2014,
          2015,
          2016,
          2018,
          2019,
          2020,
          2021
         ],
         "yaxis": "y"
        },
        {
         "alignmentgroup": "True",
         "hovertemplate": "Incident State=PA<br>No of Incidents=%{x}<br>Incident Year=%{y}<extra></extra>",
         "legendgroup": "PA",
         "marker": {
          "color": "#fea5fd",
          "pattern": {
           "shape": ""
          }
         },
         "name": "PA",
         "offsetgroup": "PA",
         "orientation": "h",
         "showlegend": true,
         "textposition": "auto",
         "type": "bar",
         "x": [
          2,
          5,
          4,
          4,
          2,
          7,
          4,
          2,
          6,
          7,
          4,
          1
         ],
         "xaxis": "x",
         "y": [
          2010,
          2011,
          2013,
          2014,
          2015,
          2016,
          2017,
          2018,
          2019,
          2020,
          2021,
          2022
         ],
         "yaxis": "y"
        },
        {
         "alignmentgroup": "True",
         "hovertemplate": "Incident State=NV<br>No of Incidents=%{x}<br>Incident Year=%{y}<extra></extra>",
         "legendgroup": "NV",
         "marker": {
          "color": "#febefe",
          "pattern": {
           "shape": ""
          }
         },
         "name": "NV",
         "offsetgroup": "NV",
         "orientation": "h",
         "showlegend": true,
         "textposition": "auto",
         "type": "bar",
         "x": [
          2,
          2,
          2,
          3,
          1,
          2,
          2,
          4,
          2,
          1
         ],
         "xaxis": "x",
         "y": [
          2010,
          2011,
          2013,
          2014,
          2015,
          2016,
          2017,
          2018,
          2019,
          2020
         ],
         "yaxis": "y"
        },
        {
         "alignmentgroup": "True",
         "hovertemplate": "Incident State=MO<br>No of Incidents=%{x}<br>Incident Year=%{y}<extra></extra>",
         "legendgroup": "MO",
         "marker": {
          "color": "#fec3fe",
          "pattern": {
           "shape": ""
          }
         },
         "name": "MO",
         "offsetgroup": "MO",
         "orientation": "h",
         "showlegend": true,
         "textposition": "auto",
         "type": "bar",
         "x": [
          2,
          3,
          1,
          1,
          5,
          6,
          2,
          2,
          4,
          5,
          2,
          1
         ],
         "xaxis": "x",
         "y": [
          2010,
          2011,
          2012,
          2013,
          2014,
          2015,
          2016,
          2017,
          2018,
          2019,
          2020,
          2021
         ],
         "yaxis": "y"
        },
        {
         "alignmentgroup": "True",
         "hovertemplate": "Incident State=KS<br>No of Incidents=%{x}<br>Incident Year=%{y}<extra></extra>",
         "legendgroup": "KS",
         "marker": {
          "color": "#0508b8",
          "pattern": {
           "shape": ""
          }
         },
         "name": "KS",
         "offsetgroup": "KS",
         "orientation": "h",
         "showlegend": true,
         "textposition": "auto",
         "type": "bar",
         "x": [
          2,
          6,
          2,
          2,
          1,
          3,
          2,
          1,
          1
         ],
         "xaxis": "x",
         "y": [
          2010,
          2012,
          2013,
          2014,
          2015,
          2016,
          2017,
          2018,
          2020
         ],
         "yaxis": "y"
        },
        {
         "alignmentgroup": "True",
         "hovertemplate": "Incident State=IA<br>No of Incidents=%{x}<br>Incident Year=%{y}<extra></extra>",
         "legendgroup": "IA",
         "marker": {
          "color": "#1910d8",
          "pattern": {
           "shape": ""
          }
         },
         "name": "IA",
         "offsetgroup": "IA",
         "orientation": "h",
         "showlegend": true,
         "textposition": "auto",
         "type": "bar",
         "x": [
          2,
          1,
          1,
          1,
          1,
          1,
          2
         ],
         "xaxis": "x",
         "y": [
          2010,
          2011,
          2012,
          2015,
          2019,
          2020,
          2021
         ],
         "yaxis": "y"
        },
        {
         "alignmentgroup": "True",
         "hovertemplate": "Incident State=CO<br>No of Incidents=%{x}<br>Incident Year=%{y}<extra></extra>",
         "legendgroup": "CO",
         "marker": {
          "color": "#3c19f0",
          "pattern": {
           "shape": ""
          }
         },
         "name": "CO",
         "offsetgroup": "CO",
         "orientation": "h",
         "showlegend": true,
         "textposition": "auto",
         "type": "bar",
         "x": [
          2,
          3,
          3,
          1,
          2,
          3,
          4,
          2,
          3,
          2,
          1,
          1
         ],
         "xaxis": "x",
         "y": [
          2010,
          2011,
          2013,
          2014,
          2015,
          2016,
          2017,
          2018,
          2019,
          2020,
          2021,
          2022
         ],
         "yaxis": "y"
        },
        {
         "alignmentgroup": "True",
         "hovertemplate": "Incident State=GA<br>No of Incidents=%{x}<br>Incident Year=%{y}<extra></extra>",
         "legendgroup": "GA",
         "marker": {
          "color": "#6b1cfb",
          "pattern": {
           "shape": ""
          }
         },
         "name": "GA",
         "offsetgroup": "GA",
         "orientation": "h",
         "showlegend": true,
         "textposition": "auto",
         "type": "bar",
         "x": [
          6,
          2,
          4,
          3,
          4,
          7,
          6,
          6,
          6,
          4
         ],
         "xaxis": "x",
         "y": [
          2010,
          2011,
          2013,
          2015,
          2016,
          2017,
          2018,
          2019,
          2020,
          2021
         ],
         "yaxis": "y"
        },
        {
         "alignmentgroup": "True",
         "hovertemplate": "Incident State=TX<br>No of Incidents=%{x}<br>Incident Year=%{y}<extra></extra>",
         "legendgroup": "TX",
         "marker": {
          "color": "#981cfd",
          "pattern": {
           "shape": ""
          }
         },
         "name": "TX",
         "offsetgroup": "TX",
         "orientation": "h",
         "showlegend": true,
         "textposition": "auto",
         "type": "bar",
         "x": [
          6,
          6,
          7,
          10,
          9,
          8,
          7,
          9,
          16,
          10,
          13,
          3,
          2
         ],
         "xaxis": "x",
         "y": [
          2010,
          2011,
          2012,
          2013,
          2014,
          2015,
          2016,
          2017,
          2018,
          2019,
          2020,
          2021,
          2022
         ],
         "yaxis": "y"
        },
        {
         "alignmentgroup": "True",
         "hovertemplate": "Incident State=TN<br>No of Incidents=%{x}<br>Incident Year=%{y}<extra></extra>",
         "legendgroup": "TN",
         "marker": {
          "color": "#bf1cfd",
          "pattern": {
           "shape": ""
          }
         },
         "name": "TN",
         "offsetgroup": "TN",
         "orientation": "h",
         "showlegend": true,
         "textposition": "auto",
         "type": "bar",
         "x": [
          1,
          3,
          2,
          1,
          2,
          3,
          1,
          3,
          3,
          1,
          1
         ],
         "xaxis": "x",
         "y": [
          2010,
          2011,
          2012,
          2013,
          2014,
          2015,
          2016,
          2018,
          2019,
          2020,
          2021
         ],
         "yaxis": "y"
        },
        {
         "alignmentgroup": "True",
         "hovertemplate": "Incident State=MT<br>No of Incidents=%{x}<br>Incident Year=%{y}<extra></extra>",
         "legendgroup": "MT",
         "marker": {
          "color": "#dd2bfd",
          "pattern": {
           "shape": ""
          }
         },
         "name": "MT",
         "offsetgroup": "MT",
         "orientation": "h",
         "showlegend": true,
         "textposition": "auto",
         "type": "bar",
         "x": [
          1,
          1,
          2,
          1,
          2,
          2,
          1
         ],
         "xaxis": "x",
         "y": [
          2010,
          2011,
          2014,
          2016,
          2018,
          2019,
          2021
         ],
         "yaxis": "y"
        },
        {
         "alignmentgroup": "True",
         "hovertemplate": "Incident State=DC<br>No of Incidents=%{x}<br>Incident Year=%{y}<extra></extra>",
         "legendgroup": "DC",
         "marker": {
          "color": "#f246fe",
          "pattern": {
           "shape": ""
          }
         },
         "name": "DC",
         "offsetgroup": "DC",
         "orientation": "h",
         "showlegend": true,
         "textposition": "auto",
         "type": "bar",
         "x": [
          1,
          2,
          1
         ],
         "xaxis": "x",
         "y": [
          2010,
          2012,
          2019
         ],
         "yaxis": "y"
        },
        {
         "alignmentgroup": "True",
         "hovertemplate": "Incident State=SC<br>No of Incidents=%{x}<br>Incident Year=%{y}<extra></extra>",
         "legendgroup": "SC",
         "marker": {
          "color": "#fc67fd",
          "pattern": {
           "shape": ""
          }
         },
         "name": "SC",
         "offsetgroup": "SC",
         "orientation": "h",
         "showlegend": true,
         "textposition": "auto",
         "type": "bar",
         "x": [
          1,
          1,
          2,
          1,
          2,
          2,
          1
         ],
         "xaxis": "x",
         "y": [
          2010,
          2011,
          2018,
          2019,
          2020,
          2021,
          2022
         ],
         "yaxis": "y"
        },
        {
         "alignmentgroup": "True",
         "hovertemplate": "Incident State=NE<br>No of Incidents=%{x}<br>Incident Year=%{y}<extra></extra>",
         "legendgroup": "NE",
         "marker": {
          "color": "#fe88fc",
          "pattern": {
           "shape": ""
          }
         },
         "name": "NE",
         "offsetgroup": "NE",
         "orientation": "h",
         "showlegend": true,
         "textposition": "auto",
         "type": "bar",
         "x": [
          3,
          2,
          2,
          3,
          1,
          1,
          1,
          1,
          4,
          3,
          1
         ],
         "xaxis": "x",
         "y": [
          2010,
          2011,
          2012,
          2013,
          2014,
          2015,
          2016,
          2017,
          2018,
          2020,
          2021
         ],
         "yaxis": "y"
        },
        {
         "alignmentgroup": "True",
         "hovertemplate": "Incident State=KY<br>No of Incidents=%{x}<br>Incident Year=%{y}<extra></extra>",
         "legendgroup": "KY",
         "marker": {
          "color": "#fea5fd",
          "pattern": {
           "shape": ""
          }
         },
         "name": "KY",
         "offsetgroup": "KY",
         "orientation": "h",
         "showlegend": true,
         "textposition": "auto",
         "type": "bar",
         "x": [
          3,
          3,
          1,
          1,
          1,
          1,
          1,
          1,
          2
         ],
         "xaxis": "x",
         "y": [
          2010,
          2011,
          2012,
          2013,
          2014,
          2016,
          2018,
          2019,
          2021
         ],
         "yaxis": "y"
        },
        {
         "alignmentgroup": "True",
         "hovertemplate": "Incident State=NM<br>No of Incidents=%{x}<br>Incident Year=%{y}<extra></extra>",
         "legendgroup": "NM",
         "marker": {
          "color": "#febefe",
          "pattern": {
           "shape": ""
          }
         },
         "name": "NM",
         "offsetgroup": "NM",
         "orientation": "h",
         "showlegend": true,
         "textposition": "auto",
         "type": "bar",
         "x": [
          3,
          2,
          2,
          1,
          1,
          1,
          1,
          1,
          2
         ],
         "xaxis": "x",
         "y": [
          2010,
          2011,
          2012,
          2014,
          2016,
          2017,
          2018,
          2019,
          2021
         ],
         "yaxis": "y"
        },
        {
         "alignmentgroup": "True",
         "hovertemplate": "Incident State=IN<br>No of Incidents=%{x}<br>Incident Year=%{y}<extra></extra>",
         "legendgroup": "IN",
         "marker": {
          "color": "#fec3fe",
          "pattern": {
           "shape": ""
          }
         },
         "name": "IN",
         "offsetgroup": "IN",
         "orientation": "h",
         "showlegend": true,
         "textposition": "auto",
         "type": "bar",
         "x": [
          3,
          1,
          1,
          2,
          5,
          1,
          3,
          3,
          2,
          1,
          4,
          2
         ],
         "xaxis": "x",
         "y": [
          2010,
          2011,
          2012,
          2013,
          2014,
          2015,
          2016,
          2017,
          2018,
          2019,
          2020,
          2021
         ],
         "yaxis": "y"
        },
        {
         "alignmentgroup": "True",
         "hovertemplate": "Incident State=NJ<br>No of Incidents=%{x}<br>Incident Year=%{y}<extra></extra>",
         "legendgroup": "NJ",
         "marker": {
          "color": "#0508b8",
          "pattern": {
           "shape": ""
          }
         },
         "name": "NJ",
         "offsetgroup": "NJ",
         "orientation": "h",
         "showlegend": true,
         "textposition": "auto",
         "type": "bar",
         "x": [
          3,
          2,
          5,
          2,
          1,
          2,
          3,
          1,
          3,
          5,
          2,
          3
         ],
         "xaxis": "x",
         "y": [
          2010,
          2011,
          2012,
          2013,
          2014,
          2015,
          2016,
          2017,
          2018,
          2019,
          2020,
          2021
         ],
         "yaxis": "y"
        },
        {
         "alignmentgroup": "True",
         "hovertemplate": "Incident State=CA<br>No of Incidents=%{x}<br>Incident Year=%{y}<extra></extra>",
         "legendgroup": "CA",
         "marker": {
          "color": "#1910d8",
          "pattern": {
           "shape": ""
          }
         },
         "name": "CA",
         "offsetgroup": "CA",
         "orientation": "h",
         "showlegend": true,
         "textposition": "auto",
         "type": "bar",
         "x": [
          15,
          6,
          14,
          14,
          18,
          14,
          16,
          21,
          16,
          10,
          9,
          8
         ],
         "xaxis": "x",
         "y": [
          2010,
          2011,
          2012,
          2013,
          2014,
          2015,
          2016,
          2017,
          2018,
          2019,
          2020,
          2021
         ],
         "yaxis": "y"
        },
        {
         "alignmentgroup": "True",
         "hovertemplate": "Incident State=ID<br>No of Incidents=%{x}<br>Incident Year=%{y}<extra></extra>",
         "legendgroup": "ID",
         "marker": {
          "color": "#3c19f0",
          "pattern": {
           "shape": ""
          }
         },
         "name": "ID",
         "offsetgroup": "ID",
         "orientation": "h",
         "showlegend": true,
         "textposition": "auto",
         "type": "bar",
         "x": [
          1,
          2,
          1,
          2,
          2,
          1,
          1,
          2
         ],
         "xaxis": "x",
         "y": [
          2010,
          2012,
          2015,
          2016,
          2017,
          2019,
          2020,
          2021
         ],
         "yaxis": "y"
        },
        {
         "alignmentgroup": "True",
         "hovertemplate": "Incident State=AL<br>No of Incidents=%{x}<br>Incident Year=%{y}<extra></extra>",
         "legendgroup": "AL",
         "marker": {
          "color": "#6b1cfb",
          "pattern": {
           "shape": ""
          }
         },
         "name": "AL",
         "offsetgroup": "AL",
         "orientation": "h",
         "showlegend": true,
         "textposition": "auto",
         "type": "bar",
         "x": [
          4,
          1,
          1,
          2,
          3,
          1,
          2,
          1,
          3
         ],
         "xaxis": "x",
         "y": [
          2010,
          2011,
          2012,
          2013,
          2015,
          2016,
          2019,
          2020,
          2021
         ],
         "yaxis": "y"
        },
        {
         "alignmentgroup": "True",
         "hovertemplate": "Incident State=OH<br>No of Incidents=%{x}<br>Incident Year=%{y}<extra></extra>",
         "legendgroup": "OH",
         "marker": {
          "color": "#981cfd",
          "pattern": {
           "shape": ""
          }
         },
         "name": "OH",
         "offsetgroup": "OH",
         "orientation": "h",
         "showlegend": true,
         "textposition": "auto",
         "type": "bar",
         "x": [
          6,
          6,
          3,
          4,
          3,
          4,
          5,
          5,
          3,
          8,
          9,
          3
         ],
         "xaxis": "x",
         "y": [
          2010,
          2011,
          2012,
          2013,
          2014,
          2015,
          2016,
          2017,
          2018,
          2019,
          2020,
          2021
         ],
         "yaxis": "y"
        },
        {
         "alignmentgroup": "True",
         "hovertemplate": "Incident State=OR<br>No of Incidents=%{x}<br>Incident Year=%{y}<extra></extra>",
         "legendgroup": "OR",
         "marker": {
          "color": "#bf1cfd",
          "pattern": {
           "shape": ""
          }
         },
         "name": "OR",
         "offsetgroup": "OR",
         "orientation": "h",
         "showlegend": true,
         "textposition": "auto",
         "type": "bar",
         "x": [
          1,
          1,
          1,
          1,
          1,
          1
         ],
         "xaxis": "x",
         "y": [
          2010,
          2011,
          2012,
          2016,
          2017,
          2020
         ],
         "yaxis": "y"
        },
        {
         "alignmentgroup": "True",
         "hovertemplate": "Incident State=LA<br>No of Incidents=%{x}<br>Incident Year=%{y}<extra></extra>",
         "legendgroup": "LA",
         "marker": {
          "color": "#dd2bfd",
          "pattern": {
           "shape": ""
          }
         },
         "name": "LA",
         "offsetgroup": "LA",
         "orientation": "h",
         "showlegend": true,
         "textposition": "auto",
         "type": "bar",
         "x": [
          1,
          2,
          1,
          2,
          3,
          1,
          2,
          1,
          2
         ],
         "xaxis": "x",
         "y": [
          2010,
          2011,
          2013,
          2014,
          2016,
          2017,
          2018,
          2020,
          2021
         ],
         "yaxis": "y"
        },
        {
         "alignmentgroup": "True",
         "hovertemplate": "Incident State=FL<br>No of Incidents=%{x}<br>Incident Year=%{y}<extra></extra>",
         "legendgroup": "FL",
         "marker": {
          "color": "#f246fe",
          "pattern": {
           "shape": ""
          }
         },
         "name": "FL",
         "offsetgroup": "FL",
         "orientation": "h",
         "showlegend": true,
         "textposition": "auto",
         "type": "bar",
         "x": [
          1,
          1,
          1,
          1,
          1,
          2,
          3,
          2,
          6,
          5,
          1
         ],
         "xaxis": "x",
         "y": [
          2010,
          2011,
          2012,
          2013,
          2014,
          2015,
          2016,
          2017,
          2019,
          2020,
          2021
         ],
         "yaxis": "y"
        },
        {
         "alignmentgroup": "True",
         "hovertemplate": "Incident State=OK<br>No of Incidents=%{x}<br>Incident Year=%{y}<extra></extra>",
         "legendgroup": "OK",
         "marker": {
          "color": "#fc67fd",
          "pattern": {
           "shape": ""
          }
         },
         "name": "OK",
         "offsetgroup": "OK",
         "orientation": "h",
         "showlegend": true,
         "textposition": "auto",
         "type": "bar",
         "x": [
          1,
          1,
          1,
          2,
          1,
          2,
          2,
          1,
          3,
          3,
          3
         ],
         "xaxis": "x",
         "y": [
          2010,
          2011,
          2012,
          2013,
          2014,
          2015,
          2016,
          2017,
          2018,
          2019,
          2020
         ],
         "yaxis": "y"
        },
        {
         "alignmentgroup": "True",
         "hovertemplate": "Incident State=IL<br>No of Incidents=%{x}<br>Incident Year=%{y}<extra></extra>",
         "legendgroup": "IL",
         "marker": {
          "color": "#fe88fc",
          "pattern": {
           "shape": ""
          }
         },
         "name": "IL",
         "offsetgroup": "IL",
         "orientation": "h",
         "showlegend": true,
         "textposition": "auto",
         "type": "bar",
         "x": [
          12,
          4,
          3,
          4,
          5,
          2,
          2,
          4,
          2,
          4
         ],
         "xaxis": "x",
         "y": [
          2010,
          2011,
          2013,
          2014,
          2016,
          2017,
          2018,
          2019,
          2020,
          2021
         ],
         "yaxis": "y"
        },
        {
         "alignmentgroup": "True",
         "hovertemplate": "Incident State=CT<br>No of Incidents=%{x}<br>Incident Year=%{y}<extra></extra>",
         "legendgroup": "CT",
         "marker": {
          "color": "#fea5fd",
          "pattern": {
           "shape": ""
          }
         },
         "name": "CT",
         "offsetgroup": "CT",
         "orientation": "h",
         "showlegend": true,
         "textposition": "auto",
         "type": "bar",
         "x": [
          1,
          2,
          1
         ],
         "xaxis": "x",
         "y": [
          2011,
          2013,
          2021
         ],
         "yaxis": "y"
        },
        {
         "alignmentgroup": "True",
         "hovertemplate": "Incident State=AR<br>No of Incidents=%{x}<br>Incident Year=%{y}<extra></extra>",
         "legendgroup": "AR",
         "marker": {
          "color": "#febefe",
          "pattern": {
           "shape": ""
          }
         },
         "name": "AR",
         "offsetgroup": "AR",
         "orientation": "h",
         "showlegend": true,
         "textposition": "auto",
         "type": "bar",
         "x": [
          1,
          1,
          1,
          3,
          2,
          2,
          3
         ],
         "xaxis": "x",
         "y": [
          2011,
          2014,
          2015,
          2016,
          2019,
          2020,
          2021
         ],
         "yaxis": "y"
        },
        {
         "alignmentgroup": "True",
         "hovertemplate": "Incident State=MS<br>No of Incidents=%{x}<br>Incident Year=%{y}<extra></extra>",
         "legendgroup": "MS",
         "marker": {
          "color": "#fec3fe",
          "pattern": {
           "shape": ""
          }
         },
         "name": "MS",
         "offsetgroup": "MS",
         "orientation": "h",
         "showlegend": true,
         "textposition": "auto",
         "type": "bar",
         "x": [
          1,
          2,
          1,
          2
         ],
         "xaxis": "x",
         "y": [
          2011,
          2014,
          2017,
          2019
         ],
         "yaxis": "y"
        },
        {
         "alignmentgroup": "True",
         "hovertemplate": "Incident State=NC<br>No of Incidents=%{x}<br>Incident Year=%{y}<extra></extra>",
         "legendgroup": "NC",
         "marker": {
          "color": "#0508b8",
          "pattern": {
           "shape": ""
          }
         },
         "name": "NC",
         "offsetgroup": "NC",
         "orientation": "h",
         "showlegend": true,
         "textposition": "auto",
         "type": "bar",
         "x": [
          2,
          1,
          2,
          2,
          5,
          7,
          2,
          2
         ],
         "xaxis": "x",
         "y": [
          2011,
          2016,
          2017,
          2018,
          2019,
          2020,
          2021,
          2022
         ],
         "yaxis": "y"
        },
        {
         "alignmentgroup": "True",
         "hovertemplate": "Incident State=WI<br>No of Incidents=%{x}<br>Incident Year=%{y}<extra></extra>",
         "legendgroup": "WI",
         "marker": {
          "color": "#1910d8",
          "pattern": {
           "shape": ""
          }
         },
         "name": "WI",
         "offsetgroup": "WI",
         "orientation": "h",
         "showlegend": true,
         "textposition": "auto",
         "type": "bar",
         "x": [
          1,
          1,
          1,
          1,
          1,
          1,
          1
         ],
         "xaxis": "x",
         "y": [
          2011,
          2014,
          2015,
          2018,
          2019,
          2020,
          2021
         ],
         "yaxis": "y"
        },
        {
         "alignmentgroup": "True",
         "hovertemplate": "Incident State=SD<br>No of Incidents=%{x}<br>Incident Year=%{y}<extra></extra>",
         "legendgroup": "SD",
         "marker": {
          "color": "#3c19f0",
          "pattern": {
           "shape": ""
          }
         },
         "name": "SD",
         "offsetgroup": "SD",
         "orientation": "h",
         "showlegend": true,
         "textposition": "auto",
         "type": "bar",
         "x": [
          1,
          1,
          2,
          1,
          1
         ],
         "xaxis": "x",
         "y": [
          2012,
          2015,
          2018,
          2020,
          2021
         ],
         "yaxis": "y"
        },
        {
         "alignmentgroup": "True",
         "hovertemplate": "Incident State=WY<br>No of Incidents=%{x}<br>Incident Year=%{y}<extra></extra>",
         "legendgroup": "WY",
         "marker": {
          "color": "#6b1cfb",
          "pattern": {
           "shape": ""
          }
         },
         "name": "WY",
         "offsetgroup": "WY",
         "orientation": "h",
         "showlegend": true,
         "textposition": "auto",
         "type": "bar",
         "x": [
          1,
          1
         ],
         "xaxis": "x",
         "y": [
          2012,
          2016
         ],
         "yaxis": "y"
        },
        {
         "alignmentgroup": "True",
         "hovertemplate": "Incident State=ND<br>No of Incidents=%{x}<br>Incident Year=%{y}<extra></extra>",
         "legendgroup": "ND",
         "marker": {
          "color": "#981cfd",
          "pattern": {
           "shape": ""
          }
         },
         "name": "ND",
         "offsetgroup": "ND",
         "orientation": "h",
         "showlegend": true,
         "textposition": "auto",
         "type": "bar",
         "x": [
          1,
          1
         ],
         "xaxis": "x",
         "y": [
          2012,
          2019
         ],
         "yaxis": "y"
        },
        {
         "alignmentgroup": "True",
         "hovertemplate": "Incident State=WV<br>No of Incidents=%{x}<br>Incident Year=%{y}<extra></extra>",
         "legendgroup": "WV",
         "marker": {
          "color": "#bf1cfd",
          "pattern": {
           "shape": ""
          }
         },
         "name": "WV",
         "offsetgroup": "WV",
         "orientation": "h",
         "showlegend": true,
         "textposition": "auto",
         "type": "bar",
         "x": [
          2,
          4,
          1,
          3,
          1
         ],
         "xaxis": "x",
         "y": [
          2013,
          2016,
          2020,
          2021,
          2022
         ],
         "yaxis": "y"
        },
        {
         "alignmentgroup": "True",
         "hovertemplate": "Incident State=RI<br>No of Incidents=%{x}<br>Incident Year=%{y}<extra></extra>",
         "legendgroup": "RI",
         "marker": {
          "color": "#dd2bfd",
          "pattern": {
           "shape": ""
          }
         },
         "name": "RI",
         "offsetgroup": "RI",
         "orientation": "h",
         "showlegend": true,
         "textposition": "auto",
         "type": "bar",
         "x": [
          1,
          1,
          3,
          1
         ],
         "xaxis": "x",
         "y": [
          2013,
          2015,
          2017,
          2022
         ],
         "yaxis": "y"
        },
        {
         "alignmentgroup": "True",
         "hovertemplate": "Incident State=NH<br>No of Incidents=%{x}<br>Incident Year=%{y}<extra></extra>",
         "legendgroup": "NH",
         "marker": {
          "color": "#f246fe",
          "pattern": {
           "shape": ""
          }
         },
         "name": "NH",
         "offsetgroup": "NH",
         "orientation": "h",
         "showlegend": true,
         "textposition": "auto",
         "type": "bar",
         "x": [
          2
         ],
         "xaxis": "x",
         "y": [
          2015
         ],
         "yaxis": "y"
        }
       ],
       "layout": {
        "barmode": "relative",
        "legend": {
         "title": {
          "text": "Incident State"
         },
         "tracegroupgap": 0
        },
        "showlegend": false,
        "template": {
         "data": {
          "bar": [
           {
            "error_x": {
             "color": "#2a3f5f"
            },
            "error_y": {
             "color": "#2a3f5f"
            },
            "marker": {
             "line": {
              "color": "#E5ECF6",
              "width": 0.5
             },
             "pattern": {
              "fillmode": "overlay",
              "size": 10,
              "solidity": 0.2
             }
            },
            "type": "bar"
           }
          ],
          "barpolar": [
           {
            "marker": {
             "line": {
              "color": "#E5ECF6",
              "width": 0.5
             },
             "pattern": {
              "fillmode": "overlay",
              "size": 10,
              "solidity": 0.2
             }
            },
            "type": "barpolar"
           }
          ],
          "carpet": [
           {
            "aaxis": {
             "endlinecolor": "#2a3f5f",
             "gridcolor": "white",
             "linecolor": "white",
             "minorgridcolor": "white",
             "startlinecolor": "#2a3f5f"
            },
            "baxis": {
             "endlinecolor": "#2a3f5f",
             "gridcolor": "white",
             "linecolor": "white",
             "minorgridcolor": "white",
             "startlinecolor": "#2a3f5f"
            },
            "type": "carpet"
           }
          ],
          "choropleth": [
           {
            "colorbar": {
             "outlinewidth": 0,
             "ticks": ""
            },
            "type": "choropleth"
           }
          ],
          "contour": [
           {
            "colorbar": {
             "outlinewidth": 0,
             "ticks": ""
            },
            "colorscale": [
             [
              0,
              "#0d0887"
             ],
             [
              0.1111111111111111,
              "#46039f"
             ],
             [
              0.2222222222222222,
              "#7201a8"
             ],
             [
              0.3333333333333333,
              "#9c179e"
             ],
             [
              0.4444444444444444,
              "#bd3786"
             ],
             [
              0.5555555555555556,
              "#d8576b"
             ],
             [
              0.6666666666666666,
              "#ed7953"
             ],
             [
              0.7777777777777778,
              "#fb9f3a"
             ],
             [
              0.8888888888888888,
              "#fdca26"
             ],
             [
              1,
              "#f0f921"
             ]
            ],
            "type": "contour"
           }
          ],
          "contourcarpet": [
           {
            "colorbar": {
             "outlinewidth": 0,
             "ticks": ""
            },
            "type": "contourcarpet"
           }
          ],
          "heatmap": [
           {
            "colorbar": {
             "outlinewidth": 0,
             "ticks": ""
            },
            "colorscale": [
             [
              0,
              "#0d0887"
             ],
             [
              0.1111111111111111,
              "#46039f"
             ],
             [
              0.2222222222222222,
              "#7201a8"
             ],
             [
              0.3333333333333333,
              "#9c179e"
             ],
             [
              0.4444444444444444,
              "#bd3786"
             ],
             [
              0.5555555555555556,
              "#d8576b"
             ],
             [
              0.6666666666666666,
              "#ed7953"
             ],
             [
              0.7777777777777778,
              "#fb9f3a"
             ],
             [
              0.8888888888888888,
              "#fdca26"
             ],
             [
              1,
              "#f0f921"
             ]
            ],
            "type": "heatmap"
           }
          ],
          "heatmapgl": [
           {
            "colorbar": {
             "outlinewidth": 0,
             "ticks": ""
            },
            "colorscale": [
             [
              0,
              "#0d0887"
             ],
             [
              0.1111111111111111,
              "#46039f"
             ],
             [
              0.2222222222222222,
              "#7201a8"
             ],
             [
              0.3333333333333333,
              "#9c179e"
             ],
             [
              0.4444444444444444,
              "#bd3786"
             ],
             [
              0.5555555555555556,
              "#d8576b"
             ],
             [
              0.6666666666666666,
              "#ed7953"
             ],
             [
              0.7777777777777778,
              "#fb9f3a"
             ],
             [
              0.8888888888888888,
              "#fdca26"
             ],
             [
              1,
              "#f0f921"
             ]
            ],
            "type": "heatmapgl"
           }
          ],
          "histogram": [
           {
            "marker": {
             "pattern": {
              "fillmode": "overlay",
              "size": 10,
              "solidity": 0.2
             }
            },
            "type": "histogram"
           }
          ],
          "histogram2d": [
           {
            "colorbar": {
             "outlinewidth": 0,
             "ticks": ""
            },
            "colorscale": [
             [
              0,
              "#0d0887"
             ],
             [
              0.1111111111111111,
              "#46039f"
             ],
             [
              0.2222222222222222,
              "#7201a8"
             ],
             [
              0.3333333333333333,
              "#9c179e"
             ],
             [
              0.4444444444444444,
              "#bd3786"
             ],
             [
              0.5555555555555556,
              "#d8576b"
             ],
             [
              0.6666666666666666,
              "#ed7953"
             ],
             [
              0.7777777777777778,
              "#fb9f3a"
             ],
             [
              0.8888888888888888,
              "#fdca26"
             ],
             [
              1,
              "#f0f921"
             ]
            ],
            "type": "histogram2d"
           }
          ],
          "histogram2dcontour": [
           {
            "colorbar": {
             "outlinewidth": 0,
             "ticks": ""
            },
            "colorscale": [
             [
              0,
              "#0d0887"
             ],
             [
              0.1111111111111111,
              "#46039f"
             ],
             [
              0.2222222222222222,
              "#7201a8"
             ],
             [
              0.3333333333333333,
              "#9c179e"
             ],
             [
              0.4444444444444444,
              "#bd3786"
             ],
             [
              0.5555555555555556,
              "#d8576b"
             ],
             [
              0.6666666666666666,
              "#ed7953"
             ],
             [
              0.7777777777777778,
              "#fb9f3a"
             ],
             [
              0.8888888888888888,
              "#fdca26"
             ],
             [
              1,
              "#f0f921"
             ]
            ],
            "type": "histogram2dcontour"
           }
          ],
          "mesh3d": [
           {
            "colorbar": {
             "outlinewidth": 0,
             "ticks": ""
            },
            "type": "mesh3d"
           }
          ],
          "parcoords": [
           {
            "line": {
             "colorbar": {
              "outlinewidth": 0,
              "ticks": ""
             }
            },
            "type": "parcoords"
           }
          ],
          "pie": [
           {
            "automargin": true,
            "type": "pie"
           }
          ],
          "scatter": [
           {
            "marker": {
             "colorbar": {
              "outlinewidth": 0,
              "ticks": ""
             }
            },
            "type": "scatter"
           }
          ],
          "scatter3d": [
           {
            "line": {
             "colorbar": {
              "outlinewidth": 0,
              "ticks": ""
             }
            },
            "marker": {
             "colorbar": {
              "outlinewidth": 0,
              "ticks": ""
             }
            },
            "type": "scatter3d"
           }
          ],
          "scattercarpet": [
           {
            "marker": {
             "colorbar": {
              "outlinewidth": 0,
              "ticks": ""
             }
            },
            "type": "scattercarpet"
           }
          ],
          "scattergeo": [
           {
            "marker": {
             "colorbar": {
              "outlinewidth": 0,
              "ticks": ""
             }
            },
            "type": "scattergeo"
           }
          ],
          "scattergl": [
           {
            "marker": {
             "colorbar": {
              "outlinewidth": 0,
              "ticks": ""
             }
            },
            "type": "scattergl"
           }
          ],
          "scattermapbox": [
           {
            "marker": {
             "colorbar": {
              "outlinewidth": 0,
              "ticks": ""
             }
            },
            "type": "scattermapbox"
           }
          ],
          "scatterpolar": [
           {
            "marker": {
             "colorbar": {
              "outlinewidth": 0,
              "ticks": ""
             }
            },
            "type": "scatterpolar"
           }
          ],
          "scatterpolargl": [
           {
            "marker": {
             "colorbar": {
              "outlinewidth": 0,
              "ticks": ""
             }
            },
            "type": "scatterpolargl"
           }
          ],
          "scatterternary": [
           {
            "marker": {
             "colorbar": {
              "outlinewidth": 0,
              "ticks": ""
             }
            },
            "type": "scatterternary"
           }
          ],
          "surface": [
           {
            "colorbar": {
             "outlinewidth": 0,
             "ticks": ""
            },
            "colorscale": [
             [
              0,
              "#0d0887"
             ],
             [
              0.1111111111111111,
              "#46039f"
             ],
             [
              0.2222222222222222,
              "#7201a8"
             ],
             [
              0.3333333333333333,
              "#9c179e"
             ],
             [
              0.4444444444444444,
              "#bd3786"
             ],
             [
              0.5555555555555556,
              "#d8576b"
             ],
             [
              0.6666666666666666,
              "#ed7953"
             ],
             [
              0.7777777777777778,
              "#fb9f3a"
             ],
             [
              0.8888888888888888,
              "#fdca26"
             ],
             [
              1,
              "#f0f921"
             ]
            ],
            "type": "surface"
           }
          ],
          "table": [
           {
            "cells": {
             "fill": {
              "color": "#EBF0F8"
             },
             "line": {
              "color": "white"
             }
            },
            "header": {
             "fill": {
              "color": "#C8D4E3"
             },
             "line": {
              "color": "white"
             }
            },
            "type": "table"
           }
          ]
         },
         "layout": {
          "annotationdefaults": {
           "arrowcolor": "#2a3f5f",
           "arrowhead": 0,
           "arrowwidth": 1
          },
          "autotypenumbers": "strict",
          "coloraxis": {
           "colorbar": {
            "outlinewidth": 0,
            "ticks": ""
           }
          },
          "colorscale": {
           "diverging": [
            [
             0,
             "#8e0152"
            ],
            [
             0.1,
             "#c51b7d"
            ],
            [
             0.2,
             "#de77ae"
            ],
            [
             0.3,
             "#f1b6da"
            ],
            [
             0.4,
             "#fde0ef"
            ],
            [
             0.5,
             "#f7f7f7"
            ],
            [
             0.6,
             "#e6f5d0"
            ],
            [
             0.7,
             "#b8e186"
            ],
            [
             0.8,
             "#7fbc41"
            ],
            [
             0.9,
             "#4d9221"
            ],
            [
             1,
             "#276419"
            ]
           ],
           "sequential": [
            [
             0,
             "#0d0887"
            ],
            [
             0.1111111111111111,
             "#46039f"
            ],
            [
             0.2222222222222222,
             "#7201a8"
            ],
            [
             0.3333333333333333,
             "#9c179e"
            ],
            [
             0.4444444444444444,
             "#bd3786"
            ],
            [
             0.5555555555555556,
             "#d8576b"
            ],
            [
             0.6666666666666666,
             "#ed7953"
            ],
            [
             0.7777777777777778,
             "#fb9f3a"
            ],
            [
             0.8888888888888888,
             "#fdca26"
            ],
            [
             1,
             "#f0f921"
            ]
           ],
           "sequentialminus": [
            [
             0,
             "#0d0887"
            ],
            [
             0.1111111111111111,
             "#46039f"
            ],
            [
             0.2222222222222222,
             "#7201a8"
            ],
            [
             0.3333333333333333,
             "#9c179e"
            ],
            [
             0.4444444444444444,
             "#bd3786"
            ],
            [
             0.5555555555555556,
             "#d8576b"
            ],
            [
             0.6666666666666666,
             "#ed7953"
            ],
            [
             0.7777777777777778,
             "#fb9f3a"
            ],
            [
             0.8888888888888888,
             "#fdca26"
            ],
            [
             1,
             "#f0f921"
            ]
           ]
          },
          "colorway": [
           "#636efa",
           "#EF553B",
           "#00cc96",
           "#ab63fa",
           "#FFA15A",
           "#19d3f3",
           "#FF6692",
           "#B6E880",
           "#FF97FF",
           "#FECB52"
          ],
          "font": {
           "color": "#2a3f5f"
          },
          "geo": {
           "bgcolor": "white",
           "lakecolor": "white",
           "landcolor": "#E5ECF6",
           "showlakes": true,
           "showland": true,
           "subunitcolor": "white"
          },
          "hoverlabel": {
           "align": "left"
          },
          "hovermode": "closest",
          "mapbox": {
           "style": "light"
          },
          "paper_bgcolor": "white",
          "plot_bgcolor": "#E5ECF6",
          "polar": {
           "angularaxis": {
            "gridcolor": "white",
            "linecolor": "white",
            "ticks": ""
           },
           "bgcolor": "#E5ECF6",
           "radialaxis": {
            "gridcolor": "white",
            "linecolor": "white",
            "ticks": ""
           }
          },
          "scene": {
           "xaxis": {
            "backgroundcolor": "#E5ECF6",
            "gridcolor": "white",
            "gridwidth": 2,
            "linecolor": "white",
            "showbackground": true,
            "ticks": "",
            "zerolinecolor": "white"
           },
           "yaxis": {
            "backgroundcolor": "#E5ECF6",
            "gridcolor": "white",
            "gridwidth": 2,
            "linecolor": "white",
            "showbackground": true,
            "ticks": "",
            "zerolinecolor": "white"
           },
           "zaxis": {
            "backgroundcolor": "#E5ECF6",
            "gridcolor": "white",
            "gridwidth": 2,
            "linecolor": "white",
            "showbackground": true,
            "ticks": "",
            "zerolinecolor": "white"
           }
          },
          "shapedefaults": {
           "line": {
            "color": "#2a3f5f"
           }
          },
          "ternary": {
           "aaxis": {
            "gridcolor": "white",
            "linecolor": "white",
            "ticks": ""
           },
           "baxis": {
            "gridcolor": "white",
            "linecolor": "white",
            "ticks": ""
           },
           "bgcolor": "#E5ECF6",
           "caxis": {
            "gridcolor": "white",
            "linecolor": "white",
            "ticks": ""
           }
          },
          "title": {
           "x": 0.05
          },
          "xaxis": {
           "automargin": true,
           "gridcolor": "white",
           "linecolor": "white",
           "ticks": "",
           "title": {
            "standoff": 15
           },
           "zerolinecolor": "white",
           "zerolinewidth": 2
          },
          "yaxis": {
           "automargin": true,
           "gridcolor": "white",
           "linecolor": "white",
           "ticks": "",
           "title": {
            "standoff": 15
           },
           "zerolinecolor": "white",
           "zerolinewidth": 2
          }
         }
        },
        "title": {
         "text": "Number of Gas Distribution Incidents in Past 10 Years by State"
        },
        "xaxis": {
         "anchor": "y",
         "domain": [
          0,
          1
         ],
         "title": {
          "text": "No of Incidents"
         }
        },
        "yaxis": {
         "anchor": "x",
         "domain": [
          0,
          1
         ],
         "title": {
          "text": "Incident Year"
         }
        }
       }
      }
     },
     "metadata": {},
     "output_type": "display_data"
    }
   ],
   "source": [
    "#plotting using plotly:\n",
    "\n",
    "# #trying with plotly express\n",
    "fig = px.bar(data_frame=grouped_Year_State, y = 'Incident Year', x = 'No of Incidents',\n",
    "            color = 'Incident State', orientation='h', \n",
    "            color_discrete_sequence= px.colors.sequential.Plotly3,\n",
    "            title='Number of Gas Distribution Incidents in Past 10 Years by State') #remove latitude form pipe)\n",
    "\n",
    "fig.update_layout(showlegend=False)\n",
    "fig.show()\n"
   ]
  },
  {
   "cell_type": "markdown",
   "metadata": {},
   "source": [
    "The above is not very telling and difficult to interpret even with the hover text. So we do a Chorlopleth Map for every year. "
   ]
  },
  {
   "cell_type": "markdown",
   "metadata": {},
   "source": [
    "### Animated Chorlopleth Map to understand the gas distribution incident data better.\n",
    "https://towardsdatascience.com/simplest-way-of-creating-a-choropleth-map-by-u-s-states-in-python-f359ada7735e"
   ]
  },
  {
   "cell_type": "code",
   "execution_count": 153,
   "metadata": {},
   "outputs": [
    {
     "data": {
      "application/vnd.plotly.v1+json": {
       "config": {
        "plotlyServerURL": "https://plot.ly"
       },
       "data": [
        {
         "coloraxis": "coloraxis",
         "geo": "geo",
         "hovertemplate": "Incident Year=2010<br>Incident State=%{location}<br>No of Incidents=%{z}<extra></extra>",
         "locationmode": "USA-states",
         "locations": [
          "MD",
          "DE",
          "MA",
          "AZ",
          "UT",
          "WA",
          "MN",
          "NY",
          "MI",
          "VA",
          "PA",
          "NV",
          "MO",
          "KS",
          "IA",
          "CO",
          "GA",
          "TX",
          "TN",
          "MT",
          "DC",
          "SC",
          "NE",
          "KY",
          "NM",
          "IN",
          "NJ",
          "CA",
          "ID",
          "AL",
          "OH",
          "OR",
          "LA",
          "FL",
          "OK",
          "IL"
         ],
         "name": "",
         "type": "choropleth",
         "z": [
          3,
          1,
          3,
          2,
          1,
          1,
          5,
          8,
          5,
          5,
          2,
          2,
          2,
          2,
          2,
          2,
          6,
          6,
          1,
          1,
          1,
          1,
          3,
          3,
          3,
          3,
          3,
          15,
          1,
          4,
          6,
          1,
          1,
          1,
          1,
          12
         ]
        }
       ],
       "frames": [
        {
         "data": [
          {
           "coloraxis": "coloraxis",
           "geo": "geo",
           "hovertemplate": "Incident Year=2010<br>Incident State=%{location}<br>No of Incidents=%{z}<extra></extra>",
           "locationmode": "USA-states",
           "locations": [
            "MD",
            "DE",
            "MA",
            "AZ",
            "UT",
            "WA",
            "MN",
            "NY",
            "MI",
            "VA",
            "PA",
            "NV",
            "MO",
            "KS",
            "IA",
            "CO",
            "GA",
            "TX",
            "TN",
            "MT",
            "DC",
            "SC",
            "NE",
            "KY",
            "NM",
            "IN",
            "NJ",
            "CA",
            "ID",
            "AL",
            "OH",
            "OR",
            "LA",
            "FL",
            "OK",
            "IL"
           ],
           "name": "",
           "type": "choropleth",
           "z": [
            3,
            1,
            3,
            2,
            1,
            1,
            5,
            8,
            5,
            5,
            2,
            2,
            2,
            2,
            2,
            2,
            6,
            6,
            1,
            1,
            1,
            1,
            3,
            3,
            3,
            3,
            3,
            15,
            1,
            4,
            6,
            1,
            1,
            1,
            1,
            12
           ]
          }
         ],
         "name": "2010"
        },
        {
         "data": [
          {
           "coloraxis": "coloraxis",
           "geo": "geo",
           "hovertemplate": "Incident Year=2011<br>Incident State=%{location}<br>No of Incidents=%{z}<extra></extra>",
           "locationmode": "USA-states",
           "locations": [
            "PA",
            "KY",
            "WA",
            "MI",
            "CO",
            "CA",
            "CT",
            "AR",
            "IL",
            "VA",
            "AL",
            "MO",
            "TX",
            "TN",
            "IA",
            "GA",
            "MN",
            "MD",
            "OK",
            "IN",
            "MS",
            "OR",
            "SC",
            "NE",
            "NC",
            "FL",
            "LA",
            "DE",
            "WI",
            "OH",
            "MA",
            "NJ",
            "NM",
            "NY",
            "NV",
            "MT"
           ],
           "name": "",
           "type": "choropleth",
           "z": [
            5,
            3,
            4,
            5,
            3,
            6,
            1,
            1,
            4,
            3,
            1,
            3,
            6,
            3,
            1,
            2,
            7,
            12,
            1,
            1,
            1,
            1,
            1,
            2,
            2,
            1,
            2,
            1,
            1,
            6,
            1,
            2,
            2,
            18,
            2,
            1
           ]
          }
         ],
         "name": "2011"
        },
        {
         "data": [
          {
           "coloraxis": "coloraxis",
           "geo": "geo",
           "hovertemplate": "Incident Year=2012<br>Incident State=%{location}<br>No of Incidents=%{z}<extra></extra>",
           "locationmode": "USA-states",
           "locations": [
            "TN",
            "CA",
            "WA",
            "MD",
            "OH",
            "AL",
            "FL",
            "NY",
            "IA",
            "KY",
            "MO",
            "ID",
            "NM",
            "OK",
            "MI",
            "SD",
            "WY",
            "NE",
            "OR",
            "KS",
            "MA",
            "IN",
            "TX",
            "MN",
            "ND",
            "DC",
            "NJ"
           ],
           "name": "",
           "type": "choropleth",
           "z": [
            2,
            14,
            1,
            3,
            3,
            1,
            1,
            17,
            1,
            1,
            1,
            2,
            2,
            1,
            2,
            1,
            1,
            2,
            1,
            6,
            6,
            1,
            7,
            2,
            1,
            2,
            5
           ]
          }
         ],
         "name": "2012"
        },
        {
         "data": [
          {
           "coloraxis": "coloraxis",
           "geo": "geo",
           "hovertemplate": "Incident Year=2013<br>Incident State=%{location}<br>No of Incidents=%{z}<extra></extra>",
           "locationmode": "USA-states",
           "locations": [
            "IL",
            "CO",
            "WV",
            "WA",
            "NJ",
            "NE",
            "MN",
            "KS",
            "CT",
            "TN",
            "UT",
            "VA",
            "AL",
            "IN",
            "NV",
            "OK",
            "AZ",
            "FL",
            "RI",
            "OH",
            "CA",
            "GA",
            "NY",
            "MO",
            "KY",
            "PA",
            "MI",
            "MD",
            "TX",
            "LA",
            "MA"
           ],
           "name": "",
           "type": "choropleth",
           "z": [
            3,
            3,
            2,
            2,
            2,
            3,
            2,
            2,
            2,
            1,
            1,
            1,
            2,
            2,
            2,
            2,
            3,
            1,
            1,
            4,
            14,
            4,
            16,
            1,
            1,
            4,
            4,
            1,
            10,
            1,
            4
           ]
          }
         ],
         "name": "2013"
        },
        {
         "data": [
          {
           "coloraxis": "coloraxis",
           "geo": "geo",
           "hovertemplate": "Incident Year=2014<br>Incident State=%{location}<br>No of Incidents=%{z}<extra></extra>",
           "locationmode": "USA-states",
           "locations": [
            "MA",
            "NM",
            "NJ",
            "NE",
            "AR",
            "KS",
            "WA",
            "MT",
            "MN",
            "VA",
            "MI",
            "AZ",
            "OK",
            "MS",
            "MD",
            "TN",
            "IL",
            "LA",
            "CO",
            "IN",
            "DE",
            "NY",
            "CA",
            "WI",
            "FL",
            "KY",
            "NV",
            "MO",
            "OH",
            "PA",
            "TX"
           ],
           "name": "",
           "type": "choropleth",
           "z": [
            2,
            1,
            1,
            1,
            1,
            2,
            2,
            2,
            2,
            4,
            11,
            3,
            1,
            2,
            1,
            2,
            4,
            2,
            1,
            5,
            1,
            9,
            18,
            1,
            1,
            1,
            3,
            5,
            3,
            4,
            9
           ]
          }
         ],
         "name": "2014"
        },
        {
         "data": [
          {
           "coloraxis": "coloraxis",
           "geo": "geo",
           "hovertemplate": "Incident Year=2015<br>Incident State=%{location}<br>No of Incidents=%{z}<extra></extra>",
           "locationmode": "USA-states",
           "locations": [
            "RI",
            "SD",
            "VA",
            "NV",
            "FL",
            "NY",
            "PA",
            "NE",
            "MA",
            "ID",
            "IA",
            "OK",
            "MI",
            "MO",
            "MN",
            "WA",
            "TN",
            "CA",
            "AZ",
            "AR",
            "OH",
            "TX",
            "GA",
            "CO",
            "IN",
            "AL",
            "WI",
            "KS",
            "NJ",
            "MD",
            "NH"
           ],
           "name": "",
           "type": "choropleth",
           "z": [
            1,
            1,
            1,
            1,
            2,
            10,
            2,
            1,
            6,
            1,
            1,
            2,
            11,
            6,
            3,
            3,
            3,
            14,
            1,
            1,
            4,
            8,
            3,
            2,
            1,
            3,
            1,
            1,
            2,
            1,
            2
           ]
          }
         ],
         "name": "2015"
        },
        {
         "data": [
          {
           "coloraxis": "coloraxis",
           "geo": "geo",
           "hovertemplate": "Incident Year=2016<br>Incident State=%{location}<br>No of Incidents=%{z}<extra></extra>",
           "locationmode": "USA-states",
           "locations": [
            "NC",
            "OH",
            "ID",
            "IL",
            "MI",
            "MO",
            "NM",
            "TX",
            "PA",
            "WY",
            "MA",
            "NV",
            "OR",
            "OK",
            "AZ",
            "NY",
            "KY",
            "WV",
            "TN",
            "FL",
            "CO",
            "NE",
            "GA",
            "AR",
            "MD",
            "WA",
            "UT",
            "KS",
            "LA",
            "IN",
            "CA",
            "VA",
            "AL",
            "MT",
            "NJ"
           ],
           "name": "",
           "type": "choropleth",
           "z": [
            1,
            5,
            2,
            5,
            8,
            2,
            1,
            7,
            7,
            1,
            2,
            2,
            1,
            2,
            1,
            9,
            1,
            4,
            1,
            3,
            3,
            1,
            4,
            3,
            1,
            2,
            1,
            3,
            3,
            3,
            16,
            4,
            1,
            1,
            3
           ]
          }
         ],
         "name": "2016"
        },
        {
         "data": [
          {
           "coloraxis": "coloraxis",
           "geo": "geo",
           "hovertemplate": "Incident Year=2017<br>Incident State=%{location}<br>No of Incidents=%{z}<extra></extra>",
           "locationmode": "USA-states",
           "locations": [
            "UT",
            "TX",
            "RI",
            "MI",
            "MN",
            "NJ",
            "NY",
            "IN",
            "GA",
            "NV",
            "OR",
            "NC",
            "MS",
            "MO",
            "PA",
            "KS",
            "OH",
            "WA",
            "IL",
            "ID",
            "LA",
            "AZ",
            "MA",
            "NE",
            "NM",
            "FL",
            "OK",
            "CO",
            "CA"
           ],
           "name": "",
           "type": "choropleth",
           "z": [
            1,
            9,
            3,
            7,
            1,
            1,
            6,
            3,
            7,
            2,
            1,
            2,
            1,
            2,
            4,
            2,
            5,
            4,
            2,
            2,
            1,
            5,
            1,
            1,
            1,
            2,
            1,
            4,
            21
           ]
          }
         ],
         "name": "2017"
        },
        {
         "data": [
          {
           "coloraxis": "coloraxis",
           "geo": "geo",
           "hovertemplate": "Incident Year=2018<br>Incident State=%{location}<br>No of Incidents=%{z}<extra></extra>",
           "locationmode": "USA-states",
           "locations": [
            "TX",
            "CA",
            "MI",
            "KY",
            "NV",
            "NJ",
            "TN",
            "LA",
            "MT",
            "NE",
            "NC",
            "OH",
            "SD",
            "SC",
            "WI",
            "OK",
            "VA",
            "IN",
            "IL",
            "CO",
            "MD",
            "PA",
            "MO",
            "KS",
            "GA",
            "MA",
            "NY",
            "WA",
            "NM"
           ],
           "name": "",
           "type": "choropleth",
           "z": [
            16,
            16,
            10,
            1,
            4,
            3,
            3,
            2,
            2,
            4,
            2,
            3,
            2,
            2,
            1,
            3,
            1,
            2,
            2,
            2,
            2,
            2,
            4,
            1,
            6,
            3,
            7,
            1,
            1
           ]
          }
         ],
         "name": "2018"
        },
        {
         "data": [
          {
           "coloraxis": "coloraxis",
           "geo": "geo",
           "hovertemplate": "Incident Year=2019<br>Incident State=%{location}<br>No of Incidents=%{z}<extra></extra>",
           "locationmode": "USA-states",
           "locations": [
            "NM",
            "ID",
            "KY",
            "ND",
            "WI",
            "SC",
            "IA",
            "DC",
            "MS",
            "VA",
            "MO",
            "AR",
            "NV",
            "NJ",
            "IL",
            "MT",
            "NC",
            "IN",
            "MA",
            "OK",
            "TN",
            "UT",
            "CO",
            "AZ",
            "MD",
            "WA",
            "AL",
            "FL",
            "PA",
            "GA",
            "CA",
            "OH",
            "MN",
            "TX",
            "MI",
            "NY"
           ],
           "name": "",
           "type": "choropleth",
           "z": [
            1,
            1,
            1,
            1,
            1,
            1,
            1,
            1,
            2,
            2,
            5,
            2,
            2,
            5,
            4,
            2,
            5,
            1,
            3,
            3,
            3,
            3,
            3,
            3,
            2,
            5,
            2,
            6,
            6,
            6,
            10,
            8,
            10,
            10,
            9,
            9
           ]
          }
         ],
         "name": "2019"
        },
        {
         "data": [
          {
           "coloraxis": "coloraxis",
           "geo": "geo",
           "hovertemplate": "Incident Year=2020<br>Incident State=%{location}<br>No of Incidents=%{z}<extra></extra>",
           "locationmode": "USA-states",
           "locations": [
            "GA",
            "SC",
            "LA",
            "TX",
            "NE",
            "OK",
            "IN",
            "OH",
            "FL",
            "CA",
            "NY",
            "PA",
            "IA",
            "NC",
            "AR",
            "AL",
            "MI",
            "MN",
            "CO",
            "NV",
            "WA",
            "WV",
            "MO",
            "KS",
            "ID",
            "VA",
            "TN",
            "UT",
            "NJ",
            "OR",
            "SD",
            "IL",
            "WI"
           ],
           "name": "",
           "type": "choropleth",
           "z": [
            6,
            2,
            1,
            13,
            3,
            3,
            4,
            9,
            5,
            9,
            4,
            7,
            1,
            7,
            2,
            1,
            6,
            3,
            2,
            1,
            1,
            1,
            2,
            1,
            1,
            2,
            1,
            2,
            2,
            1,
            1,
            2,
            1
           ]
          }
         ],
         "name": "2020"
        },
        {
         "data": [
          {
           "coloraxis": "coloraxis",
           "geo": "geo",
           "hovertemplate": "Incident Year=2021<br>Incident State=%{location}<br>No of Incidents=%{z}<extra></extra>",
           "locationmode": "USA-states",
           "locations": [
            "MI",
            "MD",
            "VA",
            "LA",
            "NM",
            "MT",
            "SD",
            "WI",
            "TN",
            "GA",
            "CT",
            "CO",
            "IN",
            "PA",
            "IA",
            "SC",
            "MA",
            "WA",
            "FL",
            "NC",
            "AZ",
            "AL",
            "AR",
            "MO",
            "ID",
            "TX",
            "OH",
            "NY",
            "WV",
            "KY",
            "NE",
            "IL",
            "NJ",
            "CA"
           ],
           "name": "",
           "type": "choropleth",
           "z": [
            7,
            4,
            5,
            2,
            2,
            1,
            1,
            1,
            1,
            4,
            1,
            1,
            2,
            4,
            2,
            2,
            2,
            2,
            1,
            2,
            2,
            3,
            3,
            1,
            2,
            3,
            3,
            3,
            3,
            2,
            1,
            4,
            3,
            8
           ]
          }
         ],
         "name": "2021"
        },
        {
         "data": [
          {
           "coloraxis": "coloraxis",
           "geo": "geo",
           "hovertemplate": "Incident Year=2022<br>Incident State=%{location}<br>No of Incidents=%{z}<extra></extra>",
           "locationmode": "USA-states",
           "locations": [
            "CO",
            "MD",
            "RI",
            "SC",
            "WA",
            "TX",
            "NY",
            "NC",
            "MI",
            "PA",
            "WV"
           ],
           "name": "",
           "type": "choropleth",
           "z": [
            1,
            2,
            1,
            1,
            1,
            2,
            2,
            2,
            2,
            1,
            1
           ]
          }
         ],
         "name": "2022"
        }
       ],
       "layout": {
        "coloraxis": {
         "colorbar": {
          "title": {
           "text": "No of Incidents"
          }
         },
         "colorscale": [
          [
           0,
           "rgb(243, 231, 155)"
          ],
          [
           0.16666666666666666,
           "rgb(250, 196, 132)"
          ],
          [
           0.3333333333333333,
           "rgb(248, 160, 126)"
          ],
          [
           0.5,
           "rgb(235, 127, 134)"
          ],
          [
           0.6666666666666666,
           "rgb(206, 102, 147)"
          ],
          [
           0.8333333333333334,
           "rgb(160, 89, 160)"
          ],
          [
           1,
           "rgb(92, 83, 165)"
          ]
         ]
        },
        "geo": {
         "center": {},
         "domain": {
          "x": [
           0,
           1
          ],
          "y": [
           0,
           1
          ]
         },
         "scope": "usa"
        },
        "legend": {
         "tracegroupgap": 0
        },
        "margin": {
         "b": 0,
         "l": 0,
         "r": 0,
         "t": 0
        },
        "sliders": [
         {
          "active": 0,
          "currentvalue": {
           "prefix": "Incident Year="
          },
          "len": 0.9,
          "pad": {
           "b": 10,
           "t": 60
          },
          "steps": [
           {
            "args": [
             [
              "2010"
             ],
             {
              "frame": {
               "duration": 0,
               "redraw": true
              },
              "fromcurrent": true,
              "mode": "immediate",
              "transition": {
               "duration": 0,
               "easing": "linear"
              }
             }
            ],
            "label": "2010",
            "method": "animate"
           },
           {
            "args": [
             [
              "2011"
             ],
             {
              "frame": {
               "duration": 0,
               "redraw": true
              },
              "fromcurrent": true,
              "mode": "immediate",
              "transition": {
               "duration": 0,
               "easing": "linear"
              }
             }
            ],
            "label": "2011",
            "method": "animate"
           },
           {
            "args": [
             [
              "2012"
             ],
             {
              "frame": {
               "duration": 0,
               "redraw": true
              },
              "fromcurrent": true,
              "mode": "immediate",
              "transition": {
               "duration": 0,
               "easing": "linear"
              }
             }
            ],
            "label": "2012",
            "method": "animate"
           },
           {
            "args": [
             [
              "2013"
             ],
             {
              "frame": {
               "duration": 0,
               "redraw": true
              },
              "fromcurrent": true,
              "mode": "immediate",
              "transition": {
               "duration": 0,
               "easing": "linear"
              }
             }
            ],
            "label": "2013",
            "method": "animate"
           },
           {
            "args": [
             [
              "2014"
             ],
             {
              "frame": {
               "duration": 0,
               "redraw": true
              },
              "fromcurrent": true,
              "mode": "immediate",
              "transition": {
               "duration": 0,
               "easing": "linear"
              }
             }
            ],
            "label": "2014",
            "method": "animate"
           },
           {
            "args": [
             [
              "2015"
             ],
             {
              "frame": {
               "duration": 0,
               "redraw": true
              },
              "fromcurrent": true,
              "mode": "immediate",
              "transition": {
               "duration": 0,
               "easing": "linear"
              }
             }
            ],
            "label": "2015",
            "method": "animate"
           },
           {
            "args": [
             [
              "2016"
             ],
             {
              "frame": {
               "duration": 0,
               "redraw": true
              },
              "fromcurrent": true,
              "mode": "immediate",
              "transition": {
               "duration": 0,
               "easing": "linear"
              }
             }
            ],
            "label": "2016",
            "method": "animate"
           },
           {
            "args": [
             [
              "2017"
             ],
             {
              "frame": {
               "duration": 0,
               "redraw": true
              },
              "fromcurrent": true,
              "mode": "immediate",
              "transition": {
               "duration": 0,
               "easing": "linear"
              }
             }
            ],
            "label": "2017",
            "method": "animate"
           },
           {
            "args": [
             [
              "2018"
             ],
             {
              "frame": {
               "duration": 0,
               "redraw": true
              },
              "fromcurrent": true,
              "mode": "immediate",
              "transition": {
               "duration": 0,
               "easing": "linear"
              }
             }
            ],
            "label": "2018",
            "method": "animate"
           },
           {
            "args": [
             [
              "2019"
             ],
             {
              "frame": {
               "duration": 0,
               "redraw": true
              },
              "fromcurrent": true,
              "mode": "immediate",
              "transition": {
               "duration": 0,
               "easing": "linear"
              }
             }
            ],
            "label": "2019",
            "method": "animate"
           },
           {
            "args": [
             [
              "2020"
             ],
             {
              "frame": {
               "duration": 0,
               "redraw": true
              },
              "fromcurrent": true,
              "mode": "immediate",
              "transition": {
               "duration": 0,
               "easing": "linear"
              }
             }
            ],
            "label": "2020",
            "method": "animate"
           },
           {
            "args": [
             [
              "2021"
             ],
             {
              "frame": {
               "duration": 0,
               "redraw": true
              },
              "fromcurrent": true,
              "mode": "immediate",
              "transition": {
               "duration": 0,
               "easing": "linear"
              }
             }
            ],
            "label": "2021",
            "method": "animate"
           },
           {
            "args": [
             [
              "2022"
             ],
             {
              "frame": {
               "duration": 0,
               "redraw": true
              },
              "fromcurrent": true,
              "mode": "immediate",
              "transition": {
               "duration": 0,
               "easing": "linear"
              }
             }
            ],
            "label": "2022",
            "method": "animate"
           }
          ],
          "x": 0.1,
          "xanchor": "left",
          "y": 0,
          "yanchor": "top"
         }
        ],
        "template": {
         "data": {
          "bar": [
           {
            "error_x": {
             "color": "#2a3f5f"
            },
            "error_y": {
             "color": "#2a3f5f"
            },
            "marker": {
             "line": {
              "color": "#E5ECF6",
              "width": 0.5
             },
             "pattern": {
              "fillmode": "overlay",
              "size": 10,
              "solidity": 0.2
             }
            },
            "type": "bar"
           }
          ],
          "barpolar": [
           {
            "marker": {
             "line": {
              "color": "#E5ECF6",
              "width": 0.5
             },
             "pattern": {
              "fillmode": "overlay",
              "size": 10,
              "solidity": 0.2
             }
            },
            "type": "barpolar"
           }
          ],
          "carpet": [
           {
            "aaxis": {
             "endlinecolor": "#2a3f5f",
             "gridcolor": "white",
             "linecolor": "white",
             "minorgridcolor": "white",
             "startlinecolor": "#2a3f5f"
            },
            "baxis": {
             "endlinecolor": "#2a3f5f",
             "gridcolor": "white",
             "linecolor": "white",
             "minorgridcolor": "white",
             "startlinecolor": "#2a3f5f"
            },
            "type": "carpet"
           }
          ],
          "choropleth": [
           {
            "colorbar": {
             "outlinewidth": 0,
             "ticks": ""
            },
            "type": "choropleth"
           }
          ],
          "contour": [
           {
            "colorbar": {
             "outlinewidth": 0,
             "ticks": ""
            },
            "colorscale": [
             [
              0,
              "#0d0887"
             ],
             [
              0.1111111111111111,
              "#46039f"
             ],
             [
              0.2222222222222222,
              "#7201a8"
             ],
             [
              0.3333333333333333,
              "#9c179e"
             ],
             [
              0.4444444444444444,
              "#bd3786"
             ],
             [
              0.5555555555555556,
              "#d8576b"
             ],
             [
              0.6666666666666666,
              "#ed7953"
             ],
             [
              0.7777777777777778,
              "#fb9f3a"
             ],
             [
              0.8888888888888888,
              "#fdca26"
             ],
             [
              1,
              "#f0f921"
             ]
            ],
            "type": "contour"
           }
          ],
          "contourcarpet": [
           {
            "colorbar": {
             "outlinewidth": 0,
             "ticks": ""
            },
            "type": "contourcarpet"
           }
          ],
          "heatmap": [
           {
            "colorbar": {
             "outlinewidth": 0,
             "ticks": ""
            },
            "colorscale": [
             [
              0,
              "#0d0887"
             ],
             [
              0.1111111111111111,
              "#46039f"
             ],
             [
              0.2222222222222222,
              "#7201a8"
             ],
             [
              0.3333333333333333,
              "#9c179e"
             ],
             [
              0.4444444444444444,
              "#bd3786"
             ],
             [
              0.5555555555555556,
              "#d8576b"
             ],
             [
              0.6666666666666666,
              "#ed7953"
             ],
             [
              0.7777777777777778,
              "#fb9f3a"
             ],
             [
              0.8888888888888888,
              "#fdca26"
             ],
             [
              1,
              "#f0f921"
             ]
            ],
            "type": "heatmap"
           }
          ],
          "heatmapgl": [
           {
            "colorbar": {
             "outlinewidth": 0,
             "ticks": ""
            },
            "colorscale": [
             [
              0,
              "#0d0887"
             ],
             [
              0.1111111111111111,
              "#46039f"
             ],
             [
              0.2222222222222222,
              "#7201a8"
             ],
             [
              0.3333333333333333,
              "#9c179e"
             ],
             [
              0.4444444444444444,
              "#bd3786"
             ],
             [
              0.5555555555555556,
              "#d8576b"
             ],
             [
              0.6666666666666666,
              "#ed7953"
             ],
             [
              0.7777777777777778,
              "#fb9f3a"
             ],
             [
              0.8888888888888888,
              "#fdca26"
             ],
             [
              1,
              "#f0f921"
             ]
            ],
            "type": "heatmapgl"
           }
          ],
          "histogram": [
           {
            "marker": {
             "pattern": {
              "fillmode": "overlay",
              "size": 10,
              "solidity": 0.2
             }
            },
            "type": "histogram"
           }
          ],
          "histogram2d": [
           {
            "colorbar": {
             "outlinewidth": 0,
             "ticks": ""
            },
            "colorscale": [
             [
              0,
              "#0d0887"
             ],
             [
              0.1111111111111111,
              "#46039f"
             ],
             [
              0.2222222222222222,
              "#7201a8"
             ],
             [
              0.3333333333333333,
              "#9c179e"
             ],
             [
              0.4444444444444444,
              "#bd3786"
             ],
             [
              0.5555555555555556,
              "#d8576b"
             ],
             [
              0.6666666666666666,
              "#ed7953"
             ],
             [
              0.7777777777777778,
              "#fb9f3a"
             ],
             [
              0.8888888888888888,
              "#fdca26"
             ],
             [
              1,
              "#f0f921"
             ]
            ],
            "type": "histogram2d"
           }
          ],
          "histogram2dcontour": [
           {
            "colorbar": {
             "outlinewidth": 0,
             "ticks": ""
            },
            "colorscale": [
             [
              0,
              "#0d0887"
             ],
             [
              0.1111111111111111,
              "#46039f"
             ],
             [
              0.2222222222222222,
              "#7201a8"
             ],
             [
              0.3333333333333333,
              "#9c179e"
             ],
             [
              0.4444444444444444,
              "#bd3786"
             ],
             [
              0.5555555555555556,
              "#d8576b"
             ],
             [
              0.6666666666666666,
              "#ed7953"
             ],
             [
              0.7777777777777778,
              "#fb9f3a"
             ],
             [
              0.8888888888888888,
              "#fdca26"
             ],
             [
              1,
              "#f0f921"
             ]
            ],
            "type": "histogram2dcontour"
           }
          ],
          "mesh3d": [
           {
            "colorbar": {
             "outlinewidth": 0,
             "ticks": ""
            },
            "type": "mesh3d"
           }
          ],
          "parcoords": [
           {
            "line": {
             "colorbar": {
              "outlinewidth": 0,
              "ticks": ""
             }
            },
            "type": "parcoords"
           }
          ],
          "pie": [
           {
            "automargin": true,
            "type": "pie"
           }
          ],
          "scatter": [
           {
            "marker": {
             "colorbar": {
              "outlinewidth": 0,
              "ticks": ""
             }
            },
            "type": "scatter"
           }
          ],
          "scatter3d": [
           {
            "line": {
             "colorbar": {
              "outlinewidth": 0,
              "ticks": ""
             }
            },
            "marker": {
             "colorbar": {
              "outlinewidth": 0,
              "ticks": ""
             }
            },
            "type": "scatter3d"
           }
          ],
          "scattercarpet": [
           {
            "marker": {
             "colorbar": {
              "outlinewidth": 0,
              "ticks": ""
             }
            },
            "type": "scattercarpet"
           }
          ],
          "scattergeo": [
           {
            "marker": {
             "colorbar": {
              "outlinewidth": 0,
              "ticks": ""
             }
            },
            "type": "scattergeo"
           }
          ],
          "scattergl": [
           {
            "marker": {
             "colorbar": {
              "outlinewidth": 0,
              "ticks": ""
             }
            },
            "type": "scattergl"
           }
          ],
          "scattermapbox": [
           {
            "marker": {
             "colorbar": {
              "outlinewidth": 0,
              "ticks": ""
             }
            },
            "type": "scattermapbox"
           }
          ],
          "scatterpolar": [
           {
            "marker": {
             "colorbar": {
              "outlinewidth": 0,
              "ticks": ""
             }
            },
            "type": "scatterpolar"
           }
          ],
          "scatterpolargl": [
           {
            "marker": {
             "colorbar": {
              "outlinewidth": 0,
              "ticks": ""
             }
            },
            "type": "scatterpolargl"
           }
          ],
          "scatterternary": [
           {
            "marker": {
             "colorbar": {
              "outlinewidth": 0,
              "ticks": ""
             }
            },
            "type": "scatterternary"
           }
          ],
          "surface": [
           {
            "colorbar": {
             "outlinewidth": 0,
             "ticks": ""
            },
            "colorscale": [
             [
              0,
              "#0d0887"
             ],
             [
              0.1111111111111111,
              "#46039f"
             ],
             [
              0.2222222222222222,
              "#7201a8"
             ],
             [
              0.3333333333333333,
              "#9c179e"
             ],
             [
              0.4444444444444444,
              "#bd3786"
             ],
             [
              0.5555555555555556,
              "#d8576b"
             ],
             [
              0.6666666666666666,
              "#ed7953"
             ],
             [
              0.7777777777777778,
              "#fb9f3a"
             ],
             [
              0.8888888888888888,
              "#fdca26"
             ],
             [
              1,
              "#f0f921"
             ]
            ],
            "type": "surface"
           }
          ],
          "table": [
           {
            "cells": {
             "fill": {
              "color": "#EBF0F8"
             },
             "line": {
              "color": "white"
             }
            },
            "header": {
             "fill": {
              "color": "#C8D4E3"
             },
             "line": {
              "color": "white"
             }
            },
            "type": "table"
           }
          ]
         },
         "layout": {
          "annotationdefaults": {
           "arrowcolor": "#2a3f5f",
           "arrowhead": 0,
           "arrowwidth": 1
          },
          "autotypenumbers": "strict",
          "coloraxis": {
           "colorbar": {
            "outlinewidth": 0,
            "ticks": ""
           }
          },
          "colorscale": {
           "diverging": [
            [
             0,
             "#8e0152"
            ],
            [
             0.1,
             "#c51b7d"
            ],
            [
             0.2,
             "#de77ae"
            ],
            [
             0.3,
             "#f1b6da"
            ],
            [
             0.4,
             "#fde0ef"
            ],
            [
             0.5,
             "#f7f7f7"
            ],
            [
             0.6,
             "#e6f5d0"
            ],
            [
             0.7,
             "#b8e186"
            ],
            [
             0.8,
             "#7fbc41"
            ],
            [
             0.9,
             "#4d9221"
            ],
            [
             1,
             "#276419"
            ]
           ],
           "sequential": [
            [
             0,
             "#0d0887"
            ],
            [
             0.1111111111111111,
             "#46039f"
            ],
            [
             0.2222222222222222,
             "#7201a8"
            ],
            [
             0.3333333333333333,
             "#9c179e"
            ],
            [
             0.4444444444444444,
             "#bd3786"
            ],
            [
             0.5555555555555556,
             "#d8576b"
            ],
            [
             0.6666666666666666,
             "#ed7953"
            ],
            [
             0.7777777777777778,
             "#fb9f3a"
            ],
            [
             0.8888888888888888,
             "#fdca26"
            ],
            [
             1,
             "#f0f921"
            ]
           ],
           "sequentialminus": [
            [
             0,
             "#0d0887"
            ],
            [
             0.1111111111111111,
             "#46039f"
            ],
            [
             0.2222222222222222,
             "#7201a8"
            ],
            [
             0.3333333333333333,
             "#9c179e"
            ],
            [
             0.4444444444444444,
             "#bd3786"
            ],
            [
             0.5555555555555556,
             "#d8576b"
            ],
            [
             0.6666666666666666,
             "#ed7953"
            ],
            [
             0.7777777777777778,
             "#fb9f3a"
            ],
            [
             0.8888888888888888,
             "#fdca26"
            ],
            [
             1,
             "#f0f921"
            ]
           ]
          },
          "colorway": [
           "#636efa",
           "#EF553B",
           "#00cc96",
           "#ab63fa",
           "#FFA15A",
           "#19d3f3",
           "#FF6692",
           "#B6E880",
           "#FF97FF",
           "#FECB52"
          ],
          "font": {
           "color": "#2a3f5f"
          },
          "geo": {
           "bgcolor": "white",
           "lakecolor": "white",
           "landcolor": "#E5ECF6",
           "showlakes": true,
           "showland": true,
           "subunitcolor": "white"
          },
          "hoverlabel": {
           "align": "left"
          },
          "hovermode": "closest",
          "mapbox": {
           "style": "light"
          },
          "paper_bgcolor": "white",
          "plot_bgcolor": "#E5ECF6",
          "polar": {
           "angularaxis": {
            "gridcolor": "white",
            "linecolor": "white",
            "ticks": ""
           },
           "bgcolor": "#E5ECF6",
           "radialaxis": {
            "gridcolor": "white",
            "linecolor": "white",
            "ticks": ""
           }
          },
          "scene": {
           "xaxis": {
            "backgroundcolor": "#E5ECF6",
            "gridcolor": "white",
            "gridwidth": 2,
            "linecolor": "white",
            "showbackground": true,
            "ticks": "",
            "zerolinecolor": "white"
           },
           "yaxis": {
            "backgroundcolor": "#E5ECF6",
            "gridcolor": "white",
            "gridwidth": 2,
            "linecolor": "white",
            "showbackground": true,
            "ticks": "",
            "zerolinecolor": "white"
           },
           "zaxis": {
            "backgroundcolor": "#E5ECF6",
            "gridcolor": "white",
            "gridwidth": 2,
            "linecolor": "white",
            "showbackground": true,
            "ticks": "",
            "zerolinecolor": "white"
           }
          },
          "shapedefaults": {
           "line": {
            "color": "#2a3f5f"
           }
          },
          "ternary": {
           "aaxis": {
            "gridcolor": "white",
            "linecolor": "white",
            "ticks": ""
           },
           "baxis": {
            "gridcolor": "white",
            "linecolor": "white",
            "ticks": ""
           },
           "bgcolor": "#E5ECF6",
           "caxis": {
            "gridcolor": "white",
            "linecolor": "white",
            "ticks": ""
           }
          },
          "title": {
           "x": 0.05
          },
          "xaxis": {
           "automargin": true,
           "gridcolor": "white",
           "linecolor": "white",
           "ticks": "",
           "title": {
            "standoff": 15
           },
           "zerolinecolor": "white",
           "zerolinewidth": 2
          },
          "yaxis": {
           "automargin": true,
           "gridcolor": "white",
           "linecolor": "white",
           "ticks": "",
           "title": {
            "standoff": 15
           },
           "zerolinecolor": "white",
           "zerolinewidth": 2
          }
         }
        },
        "updatemenus": [
         {
          "buttons": [
           {
            "args": [
             null,
             {
              "frame": {
               "duration": 500,
               "redraw": true
              },
              "fromcurrent": true,
              "mode": "immediate",
              "transition": {
               "duration": 500,
               "easing": "linear"
              }
             }
            ],
            "label": "&#9654;",
            "method": "animate"
           },
           {
            "args": [
             [
              null
             ],
             {
              "frame": {
               "duration": 0,
               "redraw": true
              },
              "fromcurrent": true,
              "mode": "immediate",
              "transition": {
               "duration": 0,
               "easing": "linear"
              }
             }
            ],
            "label": "&#9724;",
            "method": "animate"
           }
          ],
          "direction": "left",
          "pad": {
           "r": 10,
           "t": 70
          },
          "showactive": false,
          "type": "buttons",
          "x": 0.1,
          "xanchor": "right",
          "y": 0,
          "yanchor": "top"
         }
        ]
       }
      }
     },
     "metadata": {},
     "output_type": "display_data"
    }
   ],
   "source": [
    "import plotly.express as px\n",
    "fig = px.choropleth(grouped_Year_State,\n",
    "                    locations='Incident State', \n",
    "                    locationmode=\"USA-states\", \n",
    "                    scope=\"usa\",\n",
    "                    color='No of Incidents',\n",
    "                    color_continuous_scale=\"sunset\", \n",
    "                    animation_frame='Incident Year' #make sure 'Incident Year' is string type and sorted in ascending order\n",
    "                    )\n",
    "fig.update_layout(margin={\"r\":0,\"t\":0,\"l\":0,\"b\":0})\n",
    "\n",
    "fig.show()"
   ]
  },
  {
   "cell_type": "markdown",
   "metadata": {},
   "source": [
    "So in the geopandas states data frame the state abbreviation is 'STUSPS'. In the acc_state (accident by state) dataframe we have made, the state abbreviation is: Satates, \n",
    "we can merge these two and replace any NaN with zero for our heatmap.\n",
    "I got the instructions from here: https://medium.com/@m_vemuri/create-a-geographic-heat-map-of-the-city-of-toronto-in-python-cd2ae0f8be55"
   ]
  },
  {
   "cell_type": "markdown",
   "metadata": {},
   "source": [
    "## Having a look at the Injuries, Fatalities and Cuases of the transmission incidents"
   ]
  },
  {
   "cell_type": "code",
   "execution_count": 78,
   "metadata": {},
   "outputs": [
    {
     "name": "stdout",
     "output_type": "stream",
     "text": [
      "The fatality count is:\n",
      "0    1222\n",
      "1      64\n",
      "2      10\n",
      "3       2\n",
      "7       1\n",
      "8       1\n",
      "5       1\n",
      "Name: FATAL, dtype: int64\n",
      "\n",
      "\n",
      "The injury count is:\n",
      "0     1027\n",
      "1      182\n",
      "2       48\n",
      "3       17\n",
      "4       11\n",
      "6        6\n",
      "10       2\n",
      "5        2\n",
      "25       1\n",
      "33       1\n",
      "48       1\n",
      "8        1\n",
      "17       1\n",
      "7        1\n",
      "Name: INJURE, dtype: int64\n"
     ]
    }
   ],
   "source": [
    "print('The fatality count is:')\n",
    "print(Gas_Dist_Acc['FATAL'].value_counts())\n",
    "print(\"\\n\")\n",
    "print('The injury count is:')\n",
    "print(Gas_Dist_Acc['INJURE'].value_counts())"
   ]
  },
  {
   "cell_type": "code",
   "execution_count": 97,
   "metadata": {},
   "outputs": [
    {
     "data": {
      "text/plain": [
       "(311, 52)"
      ]
     },
     "execution_count": 97,
     "metadata": {},
     "output_type": "execute_result"
    }
   ],
   "source": [
    "Fatalities.shape"
   ]
  },
  {
   "cell_type": "markdown",
   "metadata": {},
   "source": [
    "The injury/fatality rate happens to be larger than the Gas Transmission lines injury/fatality, so this warrants a closer look. We combine the fatalities and the injuries into a new column \"Casualties\"."
   ]
  },
  {
   "cell_type": "code",
   "execution_count": 132,
   "metadata": {},
   "outputs": [
    {
     "data": {
      "text/html": [
       "<div>\n",
       "<style scoped>\n",
       "    .dataframe tbody tr th:only-of-type {\n",
       "        vertical-align: middle;\n",
       "    }\n",
       "\n",
       "    .dataframe tbody tr th {\n",
       "        vertical-align: top;\n",
       "    }\n",
       "\n",
       "    .dataframe thead th {\n",
       "        text-align: right;\n",
       "    }\n",
       "</style>\n",
       "<table border=\"1\" class=\"dataframe\">\n",
       "  <thead>\n",
       "    <tr style=\"text-align: right;\">\n",
       "      <th></th>\n",
       "      <th>State</th>\n",
       "      <th>Cause</th>\n",
       "      <th>IYEAR</th>\n",
       "      <th>LOCATION_LATITUDE</th>\n",
       "      <th>LOCATION_LONGITUDE</th>\n",
       "      <th>UNINTENTIONAL_RELEASE</th>\n",
       "      <th>INTENTIONAL_RELEASE</th>\n",
       "      <th>NUM_EMP_FATALITIES</th>\n",
       "      <th>NUM_CONTR_FATALITIES</th>\n",
       "      <th>NUM_ER_FATALITIES</th>\n",
       "      <th>NUM_WORKER_FATALITIES</th>\n",
       "      <th>NUM_GP_FATALITIES</th>\n",
       "      <th>Number_Fatalities</th>\n",
       "      <th>NUM_EMP_INJURIES</th>\n",
       "      <th>NUM_CONTR_INJURIES</th>\n",
       "      <th>NUM_ER_INJURIES</th>\n",
       "      <th>NUM_WORKER_INJURIES</th>\n",
       "      <th>NUM_GP_INJURIES</th>\n",
       "      <th>Number_Injuried</th>\n",
       "      <th>GAS_CONSUMED_BY_FIRE_IN_MCF</th>\n",
       "      <th>NUM_PUB_EVACUATED</th>\n",
       "      <th>PUNCTURE_AXIAL</th>\n",
       "      <th>PUNCTURE_CIRCUM</th>\n",
       "      <th>EST_COST_OPER_PAID</th>\n",
       "      <th>EST_COST_PROP_DAMAGE</th>\n",
       "      <th>EST_COST_EMERGENCY</th>\n",
       "      <th>EST_COST_OTHER</th>\n",
       "      <th>GAS_COST_IN_MCF</th>\n",
       "      <th>EST_COST_UNINTENTIONAL_RELEASE</th>\n",
       "      <th>EST_COST_INTENTIONAL_RELEASE</th>\n",
       "      <th>Casualties</th>\n",
       "    </tr>\n",
       "  </thead>\n",
       "  <tbody>\n",
       "    <tr>\n",
       "      <th>85</th>\n",
       "      <td>NJ</td>\n",
       "      <td>Material failure of pipe or weld</td>\n",
       "      <td>4035</td>\n",
       "      <td>80.426625</td>\n",
       "      <td>-148.331063</td>\n",
       "      <td>11802.0</td>\n",
       "      <td>0.0</td>\n",
       "      <td>0.0</td>\n",
       "      <td>0.0</td>\n",
       "      <td>0.0</td>\n",
       "      <td>0.0</td>\n",
       "      <td>0.0</td>\n",
       "      <td>0</td>\n",
       "      <td>2.0</td>\n",
       "      <td>0.0</td>\n",
       "      <td>0.0</td>\n",
       "      <td>0.0</td>\n",
       "      <td>1.0</td>\n",
       "      <td>3</td>\n",
       "      <td>0.0</td>\n",
       "      <td>2.0</td>\n",
       "      <td>0.0</td>\n",
       "      <td>0.0</td>\n",
       "      <td>374000.0</td>\n",
       "      <td>449363.0</td>\n",
       "      <td>297011.0</td>\n",
       "      <td>131921.0</td>\n",
       "      <td>0.0</td>\n",
       "      <td>18203.0</td>\n",
       "      <td>0.0</td>\n",
       "      <td>3</td>\n",
       "    </tr>\n",
       "    <tr>\n",
       "      <th>104</th>\n",
       "      <td>OK</td>\n",
       "      <td>Incorrect operation</td>\n",
       "      <td>2018</td>\n",
       "      <td>36.313150</td>\n",
       "      <td>-96.463191</td>\n",
       "      <td>67.5</td>\n",
       "      <td>0.0</td>\n",
       "      <td>0.0</td>\n",
       "      <td>0.0</td>\n",
       "      <td>0.0</td>\n",
       "      <td>0.0</td>\n",
       "      <td>0.0</td>\n",
       "      <td>0</td>\n",
       "      <td>2.0</td>\n",
       "      <td>0.0</td>\n",
       "      <td>0.0</td>\n",
       "      <td>0.0</td>\n",
       "      <td>0.0</td>\n",
       "      <td>2</td>\n",
       "      <td>0.0</td>\n",
       "      <td>50.0</td>\n",
       "      <td>0.0</td>\n",
       "      <td>0.0</td>\n",
       "      <td>0.0</td>\n",
       "      <td>1000.0</td>\n",
       "      <td>500.0</td>\n",
       "      <td>0.0</td>\n",
       "      <td>0.0</td>\n",
       "      <td>270.0</td>\n",
       "      <td>0.0</td>\n",
       "      <td>2</td>\n",
       "    </tr>\n",
       "    <tr>\n",
       "      <th>47</th>\n",
       "      <td>KY</td>\n",
       "      <td>Natural force damage</td>\n",
       "      <td>2013</td>\n",
       "      <td>39.091901</td>\n",
       "      <td>-84.462267</td>\n",
       "      <td>35.0</td>\n",
       "      <td>0.0</td>\n",
       "      <td>0.0</td>\n",
       "      <td>0.0</td>\n",
       "      <td>0.0</td>\n",
       "      <td>0.0</td>\n",
       "      <td>1.0</td>\n",
       "      <td>1</td>\n",
       "      <td>0.0</td>\n",
       "      <td>0.0</td>\n",
       "      <td>0.0</td>\n",
       "      <td>0.0</td>\n",
       "      <td>1.0</td>\n",
       "      <td>1</td>\n",
       "      <td>0.0</td>\n",
       "      <td>0.0</td>\n",
       "      <td>0.0</td>\n",
       "      <td>0.0</td>\n",
       "      <td>89200.0</td>\n",
       "      <td>45.0</td>\n",
       "      <td>1500.0</td>\n",
       "      <td>0.0</td>\n",
       "      <td>0.0</td>\n",
       "      <td>142.0</td>\n",
       "      <td>0.0</td>\n",
       "      <td>2</td>\n",
       "    </tr>\n",
       "  </tbody>\n",
       "</table>\n",
       "</div>"
      ],
      "text/plain": [
       "    State                             Cause  IYEAR  LOCATION_LATITUDE  \\\n",
       "85     NJ  Material failure of pipe or weld   4035          80.426625   \n",
       "104    OK               Incorrect operation   2018          36.313150   \n",
       "47     KY              Natural force damage   2013          39.091901   \n",
       "\n",
       "     LOCATION_LONGITUDE  UNINTENTIONAL_RELEASE  INTENTIONAL_RELEASE  \\\n",
       "85          -148.331063                11802.0                  0.0   \n",
       "104          -96.463191                   67.5                  0.0   \n",
       "47           -84.462267                   35.0                  0.0   \n",
       "\n",
       "     NUM_EMP_FATALITIES  NUM_CONTR_FATALITIES  NUM_ER_FATALITIES  \\\n",
       "85                  0.0                   0.0                0.0   \n",
       "104                 0.0                   0.0                0.0   \n",
       "47                  0.0                   0.0                0.0   \n",
       "\n",
       "     NUM_WORKER_FATALITIES  NUM_GP_FATALITIES  Number_Fatalities  \\\n",
       "85                     0.0                0.0                  0   \n",
       "104                    0.0                0.0                  0   \n",
       "47                     0.0                1.0                  1   \n",
       "\n",
       "     NUM_EMP_INJURIES  NUM_CONTR_INJURIES  NUM_ER_INJURIES  \\\n",
       "85                2.0                 0.0              0.0   \n",
       "104               2.0                 0.0              0.0   \n",
       "47                0.0                 0.0              0.0   \n",
       "\n",
       "     NUM_WORKER_INJURIES  NUM_GP_INJURIES  Number_Injuried  \\\n",
       "85                   0.0              1.0                3   \n",
       "104                  0.0              0.0                2   \n",
       "47                   0.0              1.0                1   \n",
       "\n",
       "     GAS_CONSUMED_BY_FIRE_IN_MCF  NUM_PUB_EVACUATED  PUNCTURE_AXIAL  \\\n",
       "85                           0.0                2.0             0.0   \n",
       "104                          0.0               50.0             0.0   \n",
       "47                           0.0                0.0             0.0   \n",
       "\n",
       "     PUNCTURE_CIRCUM  EST_COST_OPER_PAID  EST_COST_PROP_DAMAGE  \\\n",
       "85               0.0            374000.0              449363.0   \n",
       "104              0.0                 0.0                1000.0   \n",
       "47               0.0             89200.0                  45.0   \n",
       "\n",
       "     EST_COST_EMERGENCY  EST_COST_OTHER  GAS_COST_IN_MCF  \\\n",
       "85             297011.0        131921.0              0.0   \n",
       "104               500.0             0.0              0.0   \n",
       "47               1500.0             0.0              0.0   \n",
       "\n",
       "     EST_COST_UNINTENTIONAL_RELEASE  EST_COST_INTENTIONAL_RELEASE  Casualties  \n",
       "85                          18203.0                           0.0           3  \n",
       "104                           270.0                           0.0           2  \n",
       "47                            142.0                           0.0           2  "
      ]
     },
     "execution_count": 132,
     "metadata": {},
     "output_type": "execute_result"
    }
   ],
   "source": [
    "Casualties_by_State.sample(3)"
   ]
  },
  {
   "cell_type": "code",
   "execution_count": 130,
   "metadata": {},
   "outputs": [
    {
     "data": {
      "application/vnd.plotly.v1+json": {
       "config": {
        "plotlyServerURL": "https://plot.ly"
       },
       "data": [
        {
         "alignmentgroup": "True",
         "hovertemplate": "State=AL<br>Casualties=%{x}<br>Cause=%{y}<extra></extra>",
         "legendgroup": "AL",
         "marker": {
          "color": "rgb(3, 5, 18)",
          "pattern": {
           "shape": ""
          }
         },
         "name": "AL",
         "offsetgroup": "AL",
         "orientation": "h",
         "showlegend": true,
         "textposition": "auto",
         "type": "bar",
         "x": [
          1,
          1,
          2,
          2,
          6
         ],
         "xaxis": "x",
         "y": [
          "Excavation damage",
          "Incorrect operation",
          "Natural force damage",
          "Other incident cause",
          "Other outside force damage"
         ],
         "yaxis": "y"
        },
        {
         "alignmentgroup": "True",
         "hovertemplate": "State=AR<br>Casualties=%{x}<br>Cause=%{y}<extra></extra>",
         "legendgroup": "AR",
         "marker": {
          "color": "rgb(25, 25, 51)",
          "pattern": {
           "shape": ""
          }
         },
         "name": "AR",
         "offsetgroup": "AR",
         "orientation": "h",
         "showlegend": true,
         "textposition": "auto",
         "type": "bar",
         "x": [
          3,
          2
         ],
         "xaxis": "x",
         "y": [
          "Excavation damage",
          "Other outside force damage"
         ],
         "yaxis": "y"
        },
        {
         "alignmentgroup": "True",
         "hovertemplate": "State=AZ<br>Casualties=%{x}<br>Cause=%{y}<extra></extra>",
         "legendgroup": "AZ",
         "marker": {
          "color": "rgb(44, 42, 87)",
          "pattern": {
           "shape": ""
          }
         },
         "name": "AZ",
         "offsetgroup": "AZ",
         "orientation": "h",
         "showlegend": true,
         "textposition": "auto",
         "type": "bar",
         "x": [
          2,
          5,
          1,
          1
         ],
         "xaxis": "x",
         "y": [
          "Excavation damage",
          "Material failure of pipe or weld",
          "Natural force damage",
          "Other outside force damage"
         ],
         "yaxis": "y"
        },
        {
         "alignmentgroup": "True",
         "hovertemplate": "State=CA<br>Casualties=%{x}<br>Cause=%{y}<extra></extra>",
         "legendgroup": "CA",
         "marker": {
          "color": "rgb(58, 60, 125)",
          "pattern": {
           "shape": ""
          }
         },
         "name": "CA",
         "offsetgroup": "CA",
         "orientation": "h",
         "showlegend": true,
         "textposition": "auto",
         "type": "bar",
         "x": [
          2,
          2,
          3,
          6,
          19
         ],
         "xaxis": "x",
         "y": [
          "Corrosion failure",
          "Excavation damage",
          "Incorrect operation",
          "Material failure of pipe or weld",
          "Other outside force damage"
         ],
         "yaxis": "y"
        },
        {
         "alignmentgroup": "True",
         "hovertemplate": "State=CO<br>Casualties=%{x}<br>Cause=%{y}<extra></extra>",
         "legendgroup": "CO",
         "marker": {
          "color": "rgb(62, 83, 160)",
          "pattern": {
           "shape": ""
          }
         },
         "name": "CO",
         "offsetgroup": "CO",
         "orientation": "h",
         "showlegend": true,
         "textposition": "auto",
         "type": "bar",
         "x": [
          1,
          9,
          1,
          3,
          6,
          1
         ],
         "xaxis": "x",
         "y": [
          "Corrosion failure",
          "Excavation damage",
          "Incorrect operation",
          "Natural force damage",
          "Other incident cause",
          "Other outside force damage"
         ],
         "yaxis": "y"
        },
        {
         "alignmentgroup": "True",
         "hovertemplate": "State=CT<br>Casualties=%{x}<br>Cause=%{y}<extra></extra>",
         "legendgroup": "CT",
         "marker": {
          "color": "rgb(62, 109, 178)",
          "pattern": {
           "shape": ""
          }
         },
         "name": "CT",
         "offsetgroup": "CT",
         "orientation": "h",
         "showlegend": true,
         "textposition": "auto",
         "type": "bar",
         "x": [
          1
         ],
         "xaxis": "x",
         "y": [
          "Other outside force damage"
         ],
         "yaxis": "y"
        },
        {
         "alignmentgroup": "True",
         "hovertemplate": "State=DC<br>Casualties=%{x}<br>Cause=%{y}<extra></extra>",
         "legendgroup": "DC",
         "marker": {
          "color": "rgb(72, 134, 187)",
          "pattern": {
           "shape": ""
          }
         },
         "name": "DC",
         "offsetgroup": "DC",
         "orientation": "h",
         "showlegend": true,
         "textposition": "auto",
         "type": "bar",
         "x": [
          1
         ],
         "xaxis": "x",
         "y": [
          "Other outside force damage"
         ],
         "yaxis": "y"
        },
        {
         "alignmentgroup": "True",
         "hovertemplate": "State=FL<br>Casualties=%{x}<br>Cause=%{y}<extra></extra>",
         "legendgroup": "FL",
         "marker": {
          "color": "rgb(89, 159, 196)",
          "pattern": {
           "shape": ""
          }
         },
         "name": "FL",
         "offsetgroup": "FL",
         "orientation": "h",
         "showlegend": true,
         "textposition": "auto",
         "type": "bar",
         "x": [
          3,
          2,
          4
         ],
         "xaxis": "x",
         "y": [
          "Excavation damage",
          "Incorrect operation",
          "Other outside force damage"
         ],
         "yaxis": "y"
        },
        {
         "alignmentgroup": "True",
         "hovertemplate": "State=GA<br>Casualties=%{x}<br>Cause=%{y}<extra></extra>",
         "legendgroup": "GA",
         "marker": {
          "color": "rgb(114, 184, 205)",
          "pattern": {
           "shape": ""
          }
         },
         "name": "GA",
         "offsetgroup": "GA",
         "orientation": "h",
         "showlegend": true,
         "textposition": "auto",
         "type": "bar",
         "x": [
          1,
          7,
          3,
          3
         ],
         "xaxis": "x",
         "y": [
          "Equipment failure",
          "Excavation damage",
          "Incorrect operation",
          "Other outside force damage"
         ],
         "yaxis": "y"
        },
        {
         "alignmentgroup": "True",
         "hovertemplate": "State=IA<br>Casualties=%{x}<br>Cause=%{y}<extra></extra>",
         "legendgroup": "IA",
         "marker": {
          "color": "rgb(149, 207, 216)",
          "pattern": {
           "shape": ""
          }
         },
         "name": "IA",
         "offsetgroup": "IA",
         "orientation": "h",
         "showlegend": true,
         "textposition": "auto",
         "type": "bar",
         "x": [
          1,
          3
         ],
         "xaxis": "x",
         "y": [
          "Excavation damage",
          "Other outside force damage"
         ],
         "yaxis": "y"
        },
        {
         "alignmentgroup": "True",
         "hovertemplate": "State=IL<br>Casualties=%{x}<br>Cause=%{y}<extra></extra>",
         "legendgroup": "IL",
         "marker": {
          "color": "rgb(192, 229, 232)",
          "pattern": {
           "shape": ""
          }
         },
         "name": "IL",
         "offsetgroup": "IL",
         "orientation": "h",
         "showlegend": true,
         "textposition": "auto",
         "type": "bar",
         "x": [
          2,
          10,
          9,
          3,
          5
         ],
         "xaxis": "x",
         "y": [
          "Corrosion failure",
          "Excavation damage",
          "Material failure of pipe or weld",
          "Other incident cause",
          "Other outside force damage"
         ],
         "yaxis": "y"
        },
        {
         "alignmentgroup": "True",
         "hovertemplate": "State=IN<br>Casualties=%{x}<br>Cause=%{y}<extra></extra>",
         "legendgroup": "IN",
         "marker": {
          "color": "rgb(234, 252, 253)",
          "pattern": {
           "shape": ""
          }
         },
         "name": "IN",
         "offsetgroup": "IN",
         "orientation": "h",
         "showlegend": true,
         "textposition": "auto",
         "type": "bar",
         "x": [
          1,
          7,
          1,
          7
         ],
         "xaxis": "x",
         "y": [
          "Equipment failure",
          "Excavation damage",
          "Incorrect operation",
          "Other outside force damage"
         ],
         "yaxis": "y"
        },
        {
         "alignmentgroup": "True",
         "hovertemplate": "State=KS<br>Casualties=%{x}<br>Cause=%{y}<extra></extra>",
         "legendgroup": "KS",
         "marker": {
          "color": "rgb(3, 5, 18)",
          "pattern": {
           "shape": ""
          }
         },
         "name": "KS",
         "offsetgroup": "KS",
         "orientation": "h",
         "showlegend": true,
         "textposition": "auto",
         "type": "bar",
         "x": [
          5,
          4,
          1
         ],
         "xaxis": "x",
         "y": [
          "Excavation damage",
          "Incorrect operation",
          "Other incident cause"
         ],
         "yaxis": "y"
        },
        {
         "alignmentgroup": "True",
         "hovertemplate": "State=KY<br>Casualties=%{x}<br>Cause=%{y}<extra></extra>",
         "legendgroup": "KY",
         "marker": {
          "color": "rgb(25, 25, 51)",
          "pattern": {
           "shape": ""
          }
         },
         "name": "KY",
         "offsetgroup": "KY",
         "orientation": "h",
         "showlegend": true,
         "textposition": "auto",
         "type": "bar",
         "x": [
          3,
          1,
          2,
          1
         ],
         "xaxis": "x",
         "y": [
          "Excavation damage",
          "Incorrect operation",
          "Natural force damage",
          "Other outside force damage"
         ],
         "yaxis": "y"
        },
        {
         "alignmentgroup": "True",
         "hovertemplate": "State=LA<br>Casualties=%{x}<br>Cause=%{y}<extra></extra>",
         "legendgroup": "LA",
         "marker": {
          "color": "rgb(44, 42, 87)",
          "pattern": {
           "shape": ""
          }
         },
         "name": "LA",
         "offsetgroup": "LA",
         "orientation": "h",
         "showlegend": true,
         "textposition": "auto",
         "type": "bar",
         "x": [
          2,
          4,
          2,
          1,
          7
         ],
         "xaxis": "x",
         "y": [
          "Excavation damage",
          "Incorrect operation",
          "Material failure of pipe or weld",
          "Other incident cause",
          "Other outside force damage"
         ],
         "yaxis": "y"
        },
        {
         "alignmentgroup": "True",
         "hovertemplate": "State=MA<br>Casualties=%{x}<br>Cause=%{y}<extra></extra>",
         "legendgroup": "MA",
         "marker": {
          "color": "rgb(58, 60, 125)",
          "pattern": {
           "shape": ""
          }
         },
         "name": "MA",
         "offsetgroup": "MA",
         "orientation": "h",
         "showlegend": true,
         "textposition": "auto",
         "type": "bar",
         "x": [
          43,
          1,
          3,
          1
         ],
         "xaxis": "x",
         "y": [
          "Incorrect operation",
          "Natural force damage",
          "Other incident cause",
          "Other outside force damage"
         ],
         "yaxis": "y"
        },
        {
         "alignmentgroup": "True",
         "hovertemplate": "State=MD<br>Casualties=%{x}<br>Cause=%{y}<extra></extra>",
         "legendgroup": "MD",
         "marker": {
          "color": "rgb(62, 83, 160)",
          "pattern": {
           "shape": ""
          }
         },
         "name": "MD",
         "offsetgroup": "MD",
         "orientation": "h",
         "showlegend": true,
         "textposition": "auto",
         "type": "bar",
         "x": [
          2,
          2,
          54,
          7
         ],
         "xaxis": "x",
         "y": [
          "Incorrect operation",
          "Material failure of pipe or weld",
          "Other incident cause",
          "Other outside force damage"
         ],
         "yaxis": "y"
        },
        {
         "alignmentgroup": "True",
         "hovertemplate": "State=MI<br>Casualties=%{x}<br>Cause=%{y}<extra></extra>",
         "legendgroup": "MI",
         "marker": {
          "color": "rgb(62, 109, 178)",
          "pattern": {
           "shape": ""
          }
         },
         "name": "MI",
         "offsetgroup": "MI",
         "orientation": "h",
         "showlegend": true,
         "textposition": "auto",
         "type": "bar",
         "x": [
          1,
          9,
          1,
          3,
          5,
          25
         ],
         "xaxis": "x",
         "y": [
          "Corrosion failure",
          "Excavation damage",
          "Material failure of pipe or weld",
          "Natural force damage",
          "Other incident cause",
          "Other outside force damage"
         ],
         "yaxis": "y"
        },
        {
         "alignmentgroup": "True",
         "hovertemplate": "State=MN<br>Casualties=%{x}<br>Cause=%{y}<extra></extra>",
         "legendgroup": "MN",
         "marker": {
          "color": "rgb(72, 134, 187)",
          "pattern": {
           "shape": ""
          }
         },
         "name": "MN",
         "offsetgroup": "MN",
         "orientation": "h",
         "showlegend": true,
         "textposition": "auto",
         "type": "bar",
         "x": [
          5
         ],
         "xaxis": "x",
         "y": [
          "Incorrect operation"
         ],
         "yaxis": "y"
        },
        {
         "alignmentgroup": "True",
         "hovertemplate": "State=MO<br>Casualties=%{x}<br>Cause=%{y}<extra></extra>",
         "legendgroup": "MO",
         "marker": {
          "color": "rgb(89, 159, 196)",
          "pattern": {
           "shape": ""
          }
         },
         "name": "MO",
         "offsetgroup": "MO",
         "orientation": "h",
         "showlegend": true,
         "textposition": "auto",
         "type": "bar",
         "x": [
          5,
          1
         ],
         "xaxis": "x",
         "y": [
          "Excavation damage",
          "Incorrect operation"
         ],
         "yaxis": "y"
        },
        {
         "alignmentgroup": "True",
         "hovertemplate": "State=MS<br>Casualties=%{x}<br>Cause=%{y}<extra></extra>",
         "legendgroup": "MS",
         "marker": {
          "color": "rgb(114, 184, 205)",
          "pattern": {
           "shape": ""
          }
         },
         "name": "MS",
         "offsetgroup": "MS",
         "orientation": "h",
         "showlegend": true,
         "textposition": "auto",
         "type": "bar",
         "x": [
          2,
          1
         ],
         "xaxis": "x",
         "y": [
          "Corrosion failure",
          "Incorrect operation"
         ],
         "yaxis": "y"
        },
        {
         "alignmentgroup": "True",
         "hovertemplate": "State=MT<br>Casualties=%{x}<br>Cause=%{y}<extra></extra>",
         "legendgroup": "MT",
         "marker": {
          "color": "rgb(149, 207, 216)",
          "pattern": {
           "shape": ""
          }
         },
         "name": "MT",
         "offsetgroup": "MT",
         "orientation": "h",
         "showlegend": true,
         "textposition": "auto",
         "type": "bar",
         "x": [
          3,
          1,
          3
         ],
         "xaxis": "x",
         "y": [
          "Excavation damage",
          "Material failure of pipe or weld",
          "Other outside force damage"
         ],
         "yaxis": "y"
        },
        {
         "alignmentgroup": "True",
         "hovertemplate": "State=NC<br>Casualties=%{x}<br>Cause=%{y}<extra></extra>",
         "legendgroup": "NC",
         "marker": {
          "color": "rgb(192, 229, 232)",
          "pattern": {
           "shape": ""
          }
         },
         "name": "NC",
         "offsetgroup": "NC",
         "orientation": "h",
         "showlegend": true,
         "textposition": "auto",
         "type": "bar",
         "x": [
          7,
          2,
          1,
          1
         ],
         "xaxis": "x",
         "y": [
          "Excavation damage",
          "Incorrect operation",
          "Other incident cause",
          "Other outside force damage"
         ],
         "yaxis": "y"
        },
        {
         "alignmentgroup": "True",
         "hovertemplate": "State=NE<br>Casualties=%{x}<br>Cause=%{y}<extra></extra>",
         "legendgroup": "NE",
         "marker": {
          "color": "rgb(234, 252, 253)",
          "pattern": {
           "shape": ""
          }
         },
         "name": "NE",
         "offsetgroup": "NE",
         "orientation": "h",
         "showlegend": true,
         "textposition": "auto",
         "type": "bar",
         "x": [
          2,
          8
         ],
         "xaxis": "x",
         "y": [
          "Equipment failure",
          "Other outside force damage"
         ],
         "yaxis": "y"
        },
        {
         "alignmentgroup": "True",
         "hovertemplate": "State=NJ<br>Casualties=%{x}<br>Cause=%{y}<extra></extra>",
         "legendgroup": "NJ",
         "marker": {
          "color": "rgb(3, 5, 18)",
          "pattern": {
           "shape": ""
          }
         },
         "name": "NJ",
         "offsetgroup": "NJ",
         "orientation": "h",
         "showlegend": true,
         "textposition": "auto",
         "type": "bar",
         "x": [
          1,
          11,
          5,
          3,
          1,
          2
         ],
         "xaxis": "x",
         "y": [
          "Corrosion failure",
          "Excavation damage",
          "Incorrect operation",
          "Material failure of pipe or weld",
          "Other incident cause",
          "Other outside force damage"
         ],
         "yaxis": "y"
        },
        {
         "alignmentgroup": "True",
         "hovertemplate": "State=NM<br>Casualties=%{x}<br>Cause=%{y}<extra></extra>",
         "legendgroup": "NM",
         "marker": {
          "color": "rgb(25, 25, 51)",
          "pattern": {
           "shape": ""
          }
         },
         "name": "NM",
         "offsetgroup": "NM",
         "orientation": "h",
         "showlegend": true,
         "textposition": "auto",
         "type": "bar",
         "x": [
          1,
          2,
          1
         ],
         "xaxis": "x",
         "y": [
          "Incorrect operation",
          "Material failure of pipe or weld",
          "Other outside force damage"
         ],
         "yaxis": "y"
        },
        {
         "alignmentgroup": "True",
         "hovertemplate": "State=NY<br>Casualties=%{x}<br>Cause=%{y}<extra></extra>",
         "legendgroup": "NY",
         "marker": {
          "color": "rgb(44, 42, 87)",
          "pattern": {
           "shape": ""
          }
         },
         "name": "NY",
         "offsetgroup": "NY",
         "orientation": "h",
         "showlegend": true,
         "textposition": "auto",
         "type": "bar",
         "x": [
          1,
          14,
          3,
          58,
          16,
          7
         ],
         "xaxis": "x",
         "y": [
          "Equipment failure",
          "Excavation damage",
          "Incorrect operation",
          "Natural force damage",
          "Other incident cause",
          "Other outside force damage"
         ],
         "yaxis": "y"
        },
        {
         "alignmentgroup": "True",
         "hovertemplate": "State=OH<br>Casualties=%{x}<br>Cause=%{y}<extra></extra>",
         "legendgroup": "OH",
         "marker": {
          "color": "rgb(58, 60, 125)",
          "pattern": {
           "shape": ""
          }
         },
         "name": "OH",
         "offsetgroup": "OH",
         "orientation": "h",
         "showlegend": true,
         "textposition": "auto",
         "type": "bar",
         "x": [
          3,
          8,
          8,
          1,
          1,
          3
         ],
         "xaxis": "x",
         "y": [
          "Corrosion failure",
          "Excavation damage",
          "Incorrect operation",
          "Material failure of pipe or weld",
          "Other incident cause",
          "Other outside force damage"
         ],
         "yaxis": "y"
        },
        {
         "alignmentgroup": "True",
         "hovertemplate": "State=OK<br>Casualties=%{x}<br>Cause=%{y}<extra></extra>",
         "legendgroup": "OK",
         "marker": {
          "color": "rgb(62, 83, 160)",
          "pattern": {
           "shape": ""
          }
         },
         "name": "OK",
         "offsetgroup": "OK",
         "orientation": "h",
         "showlegend": true,
         "textposition": "auto",
         "type": "bar",
         "x": [
          6,
          2,
          3,
          2
         ],
         "xaxis": "x",
         "y": [
          "Excavation damage",
          "Incorrect operation",
          "Material failure of pipe or weld",
          "Other outside force damage"
         ],
         "yaxis": "y"
        },
        {
         "alignmentgroup": "True",
         "hovertemplate": "State=OR<br>Casualties=%{x}<br>Cause=%{y}<extra></extra>",
         "legendgroup": "OR",
         "marker": {
          "color": "rgb(62, 109, 178)",
          "pattern": {
           "shape": ""
          }
         },
         "name": "OR",
         "offsetgroup": "OR",
         "orientation": "h",
         "showlegend": true,
         "textposition": "auto",
         "type": "bar",
         "x": [
          1,
          1
         ],
         "xaxis": "x",
         "y": [
          "Excavation damage",
          "Other outside force damage"
         ],
         "yaxis": "y"
        },
        {
         "alignmentgroup": "True",
         "hovertemplate": "State=PA<br>Casualties=%{x}<br>Cause=%{y}<extra></extra>",
         "legendgroup": "PA",
         "marker": {
          "color": "rgb(72, 134, 187)",
          "pattern": {
           "shape": ""
          }
         },
         "name": "PA",
         "offsetgroup": "PA",
         "orientation": "h",
         "showlegend": true,
         "textposition": "auto",
         "type": "bar",
         "x": [
          2,
          4,
          10,
          9,
          3,
          5
         ],
         "xaxis": "x",
         "y": [
          "Excavation damage",
          "Incorrect operation",
          "Material failure of pipe or weld",
          "Natural force damage",
          "Other incident cause",
          "Other outside force damage"
         ],
         "yaxis": "y"
        },
        {
         "alignmentgroup": "True",
         "hovertemplate": "State=SC<br>Casualties=%{x}<br>Cause=%{y}<extra></extra>",
         "legendgroup": "SC",
         "marker": {
          "color": "rgb(89, 159, 196)",
          "pattern": {
           "shape": ""
          }
         },
         "name": "SC",
         "offsetgroup": "SC",
         "orientation": "h",
         "showlegend": true,
         "textposition": "auto",
         "type": "bar",
         "x": [
          2
         ],
         "xaxis": "x",
         "y": [
          "Other outside force damage"
         ],
         "yaxis": "y"
        },
        {
         "alignmentgroup": "True",
         "hovertemplate": "State=SD<br>Casualties=%{x}<br>Cause=%{y}<extra></extra>",
         "legendgroup": "SD",
         "marker": {
          "color": "rgb(114, 184, 205)",
          "pattern": {
           "shape": ""
          }
         },
         "name": "SD",
         "offsetgroup": "SD",
         "orientation": "h",
         "showlegend": true,
         "textposition": "auto",
         "type": "bar",
         "x": [
          1
         ],
         "xaxis": "x",
         "y": [
          "Excavation damage"
         ],
         "yaxis": "y"
        },
        {
         "alignmentgroup": "True",
         "hovertemplate": "State=TN<br>Casualties=%{x}<br>Cause=%{y}<extra></extra>",
         "legendgroup": "TN",
         "marker": {
          "color": "rgb(149, 207, 216)",
          "pattern": {
           "shape": ""
          }
         },
         "name": "TN",
         "offsetgroup": "TN",
         "orientation": "h",
         "showlegend": true,
         "textposition": "auto",
         "type": "bar",
         "x": [
          3,
          7,
          1,
          1,
          4
         ],
         "xaxis": "x",
         "y": [
          "Excavation damage",
          "Incorrect operation",
          "Material failure of pipe or weld",
          "Other incident cause",
          "Other outside force damage"
         ],
         "yaxis": "y"
        },
        {
         "alignmentgroup": "True",
         "hovertemplate": "State=TX<br>Casualties=%{x}<br>Cause=%{y}<extra></extra>",
         "legendgroup": "TX",
         "marker": {
          "color": "rgb(192, 229, 232)",
          "pattern": {
           "shape": ""
          }
         },
         "name": "TX",
         "offsetgroup": "TX",
         "orientation": "h",
         "showlegend": true,
         "textposition": "auto",
         "type": "bar",
         "x": [
          1,
          11,
          5,
          12,
          2,
          9,
          17
         ],
         "xaxis": "x",
         "y": [
          "Equipment failure",
          "Excavation damage",
          "Incorrect operation",
          "Material failure of pipe or weld",
          "Natural force damage",
          "Other incident cause",
          "Other outside force damage"
         ],
         "yaxis": "y"
        },
        {
         "alignmentgroup": "True",
         "hovertemplate": "State=VA<br>Casualties=%{x}<br>Cause=%{y}<extra></extra>",
         "legendgroup": "VA",
         "marker": {
          "color": "rgb(234, 252, 253)",
          "pattern": {
           "shape": ""
          }
         },
         "name": "VA",
         "offsetgroup": "VA",
         "orientation": "h",
         "showlegend": true,
         "textposition": "auto",
         "type": "bar",
         "x": [
          3,
          10
         ],
         "xaxis": "x",
         "y": [
          "Material failure of pipe or weld",
          "Other outside force damage"
         ],
         "yaxis": "y"
        },
        {
         "alignmentgroup": "True",
         "hovertemplate": "State=WA<br>Casualties=%{x}<br>Cause=%{y}<extra></extra>",
         "legendgroup": "WA",
         "marker": {
          "color": "rgb(3, 5, 18)",
          "pattern": {
           "shape": ""
          }
         },
         "name": "WA",
         "offsetgroup": "WA",
         "orientation": "h",
         "showlegend": true,
         "textposition": "auto",
         "type": "bar",
         "x": [
          1,
          7
         ],
         "xaxis": "x",
         "y": [
          "Excavation damage",
          "Other outside force damage"
         ],
         "yaxis": "y"
        },
        {
         "alignmentgroup": "True",
         "hovertemplate": "State=WI<br>Casualties=%{x}<br>Cause=%{y}<extra></extra>",
         "legendgroup": "WI",
         "marker": {
          "color": "rgb(25, 25, 51)",
          "pattern": {
           "shape": ""
          }
         },
         "name": "WI",
         "offsetgroup": "WI",
         "orientation": "h",
         "showlegend": true,
         "textposition": "auto",
         "type": "bar",
         "x": [
          2
         ],
         "xaxis": "x",
         "y": [
          "Excavation damage"
         ],
         "yaxis": "y"
        },
        {
         "alignmentgroup": "True",
         "hovertemplate": "State=WV<br>Casualties=%{x}<br>Cause=%{y}<extra></extra>",
         "legendgroup": "WV",
         "marker": {
          "color": "rgb(44, 42, 87)",
          "pattern": {
           "shape": ""
          }
         },
         "name": "WV",
         "offsetgroup": "WV",
         "orientation": "h",
         "showlegend": true,
         "textposition": "auto",
         "type": "bar",
         "x": [
          1,
          1,
          2,
          1
         ],
         "xaxis": "x",
         "y": [
          "Excavation damage",
          "Incorrect operation",
          "Other incident cause",
          "Other outside force damage"
         ],
         "yaxis": "y"
        }
       ],
       "layout": {
        "barmode": "relative",
        "legend": {
         "title": {
          "text": "State"
         },
         "tracegroupgap": 0
        },
        "showlegend": false,
        "template": {
         "data": {
          "bar": [
           {
            "error_x": {
             "color": "#2a3f5f"
            },
            "error_y": {
             "color": "#2a3f5f"
            },
            "marker": {
             "line": {
              "color": "#E5ECF6",
              "width": 0.5
             },
             "pattern": {
              "fillmode": "overlay",
              "size": 10,
              "solidity": 0.2
             }
            },
            "type": "bar"
           }
          ],
          "barpolar": [
           {
            "marker": {
             "line": {
              "color": "#E5ECF6",
              "width": 0.5
             },
             "pattern": {
              "fillmode": "overlay",
              "size": 10,
              "solidity": 0.2
             }
            },
            "type": "barpolar"
           }
          ],
          "carpet": [
           {
            "aaxis": {
             "endlinecolor": "#2a3f5f",
             "gridcolor": "white",
             "linecolor": "white",
             "minorgridcolor": "white",
             "startlinecolor": "#2a3f5f"
            },
            "baxis": {
             "endlinecolor": "#2a3f5f",
             "gridcolor": "white",
             "linecolor": "white",
             "minorgridcolor": "white",
             "startlinecolor": "#2a3f5f"
            },
            "type": "carpet"
           }
          ],
          "choropleth": [
           {
            "colorbar": {
             "outlinewidth": 0,
             "ticks": ""
            },
            "type": "choropleth"
           }
          ],
          "contour": [
           {
            "colorbar": {
             "outlinewidth": 0,
             "ticks": ""
            },
            "colorscale": [
             [
              0,
              "#0d0887"
             ],
             [
              0.1111111111111111,
              "#46039f"
             ],
             [
              0.2222222222222222,
              "#7201a8"
             ],
             [
              0.3333333333333333,
              "#9c179e"
             ],
             [
              0.4444444444444444,
              "#bd3786"
             ],
             [
              0.5555555555555556,
              "#d8576b"
             ],
             [
              0.6666666666666666,
              "#ed7953"
             ],
             [
              0.7777777777777778,
              "#fb9f3a"
             ],
             [
              0.8888888888888888,
              "#fdca26"
             ],
             [
              1,
              "#f0f921"
             ]
            ],
            "type": "contour"
           }
          ],
          "contourcarpet": [
           {
            "colorbar": {
             "outlinewidth": 0,
             "ticks": ""
            },
            "type": "contourcarpet"
           }
          ],
          "heatmap": [
           {
            "colorbar": {
             "outlinewidth": 0,
             "ticks": ""
            },
            "colorscale": [
             [
              0,
              "#0d0887"
             ],
             [
              0.1111111111111111,
              "#46039f"
             ],
             [
              0.2222222222222222,
              "#7201a8"
             ],
             [
              0.3333333333333333,
              "#9c179e"
             ],
             [
              0.4444444444444444,
              "#bd3786"
             ],
             [
              0.5555555555555556,
              "#d8576b"
             ],
             [
              0.6666666666666666,
              "#ed7953"
             ],
             [
              0.7777777777777778,
              "#fb9f3a"
             ],
             [
              0.8888888888888888,
              "#fdca26"
             ],
             [
              1,
              "#f0f921"
             ]
            ],
            "type": "heatmap"
           }
          ],
          "heatmapgl": [
           {
            "colorbar": {
             "outlinewidth": 0,
             "ticks": ""
            },
            "colorscale": [
             [
              0,
              "#0d0887"
             ],
             [
              0.1111111111111111,
              "#46039f"
             ],
             [
              0.2222222222222222,
              "#7201a8"
             ],
             [
              0.3333333333333333,
              "#9c179e"
             ],
             [
              0.4444444444444444,
              "#bd3786"
             ],
             [
              0.5555555555555556,
              "#d8576b"
             ],
             [
              0.6666666666666666,
              "#ed7953"
             ],
             [
              0.7777777777777778,
              "#fb9f3a"
             ],
             [
              0.8888888888888888,
              "#fdca26"
             ],
             [
              1,
              "#f0f921"
             ]
            ],
            "type": "heatmapgl"
           }
          ],
          "histogram": [
           {
            "marker": {
             "pattern": {
              "fillmode": "overlay",
              "size": 10,
              "solidity": 0.2
             }
            },
            "type": "histogram"
           }
          ],
          "histogram2d": [
           {
            "colorbar": {
             "outlinewidth": 0,
             "ticks": ""
            },
            "colorscale": [
             [
              0,
              "#0d0887"
             ],
             [
              0.1111111111111111,
              "#46039f"
             ],
             [
              0.2222222222222222,
              "#7201a8"
             ],
             [
              0.3333333333333333,
              "#9c179e"
             ],
             [
              0.4444444444444444,
              "#bd3786"
             ],
             [
              0.5555555555555556,
              "#d8576b"
             ],
             [
              0.6666666666666666,
              "#ed7953"
             ],
             [
              0.7777777777777778,
              "#fb9f3a"
             ],
             [
              0.8888888888888888,
              "#fdca26"
             ],
             [
              1,
              "#f0f921"
             ]
            ],
            "type": "histogram2d"
           }
          ],
          "histogram2dcontour": [
           {
            "colorbar": {
             "outlinewidth": 0,
             "ticks": ""
            },
            "colorscale": [
             [
              0,
              "#0d0887"
             ],
             [
              0.1111111111111111,
              "#46039f"
             ],
             [
              0.2222222222222222,
              "#7201a8"
             ],
             [
              0.3333333333333333,
              "#9c179e"
             ],
             [
              0.4444444444444444,
              "#bd3786"
             ],
             [
              0.5555555555555556,
              "#d8576b"
             ],
             [
              0.6666666666666666,
              "#ed7953"
             ],
             [
              0.7777777777777778,
              "#fb9f3a"
             ],
             [
              0.8888888888888888,
              "#fdca26"
             ],
             [
              1,
              "#f0f921"
             ]
            ],
            "type": "histogram2dcontour"
           }
          ],
          "mesh3d": [
           {
            "colorbar": {
             "outlinewidth": 0,
             "ticks": ""
            },
            "type": "mesh3d"
           }
          ],
          "parcoords": [
           {
            "line": {
             "colorbar": {
              "outlinewidth": 0,
              "ticks": ""
             }
            },
            "type": "parcoords"
           }
          ],
          "pie": [
           {
            "automargin": true,
            "type": "pie"
           }
          ],
          "scatter": [
           {
            "marker": {
             "colorbar": {
              "outlinewidth": 0,
              "ticks": ""
             }
            },
            "type": "scatter"
           }
          ],
          "scatter3d": [
           {
            "line": {
             "colorbar": {
              "outlinewidth": 0,
              "ticks": ""
             }
            },
            "marker": {
             "colorbar": {
              "outlinewidth": 0,
              "ticks": ""
             }
            },
            "type": "scatter3d"
           }
          ],
          "scattercarpet": [
           {
            "marker": {
             "colorbar": {
              "outlinewidth": 0,
              "ticks": ""
             }
            },
            "type": "scattercarpet"
           }
          ],
          "scattergeo": [
           {
            "marker": {
             "colorbar": {
              "outlinewidth": 0,
              "ticks": ""
             }
            },
            "type": "scattergeo"
           }
          ],
          "scattergl": [
           {
            "marker": {
             "colorbar": {
              "outlinewidth": 0,
              "ticks": ""
             }
            },
            "type": "scattergl"
           }
          ],
          "scattermapbox": [
           {
            "marker": {
             "colorbar": {
              "outlinewidth": 0,
              "ticks": ""
             }
            },
            "type": "scattermapbox"
           }
          ],
          "scatterpolar": [
           {
            "marker": {
             "colorbar": {
              "outlinewidth": 0,
              "ticks": ""
             }
            },
            "type": "scatterpolar"
           }
          ],
          "scatterpolargl": [
           {
            "marker": {
             "colorbar": {
              "outlinewidth": 0,
              "ticks": ""
             }
            },
            "type": "scatterpolargl"
           }
          ],
          "scatterternary": [
           {
            "marker": {
             "colorbar": {
              "outlinewidth": 0,
              "ticks": ""
             }
            },
            "type": "scatterternary"
           }
          ],
          "surface": [
           {
            "colorbar": {
             "outlinewidth": 0,
             "ticks": ""
            },
            "colorscale": [
             [
              0,
              "#0d0887"
             ],
             [
              0.1111111111111111,
              "#46039f"
             ],
             [
              0.2222222222222222,
              "#7201a8"
             ],
             [
              0.3333333333333333,
              "#9c179e"
             ],
             [
              0.4444444444444444,
              "#bd3786"
             ],
             [
              0.5555555555555556,
              "#d8576b"
             ],
             [
              0.6666666666666666,
              "#ed7953"
             ],
             [
              0.7777777777777778,
              "#fb9f3a"
             ],
             [
              0.8888888888888888,
              "#fdca26"
             ],
             [
              1,
              "#f0f921"
             ]
            ],
            "type": "surface"
           }
          ],
          "table": [
           {
            "cells": {
             "fill": {
              "color": "#EBF0F8"
             },
             "line": {
              "color": "white"
             }
            },
            "header": {
             "fill": {
              "color": "#C8D4E3"
             },
             "line": {
              "color": "white"
             }
            },
            "type": "table"
           }
          ]
         },
         "layout": {
          "annotationdefaults": {
           "arrowcolor": "#2a3f5f",
           "arrowhead": 0,
           "arrowwidth": 1
          },
          "autotypenumbers": "strict",
          "coloraxis": {
           "colorbar": {
            "outlinewidth": 0,
            "ticks": ""
           }
          },
          "colorscale": {
           "diverging": [
            [
             0,
             "#8e0152"
            ],
            [
             0.1,
             "#c51b7d"
            ],
            [
             0.2,
             "#de77ae"
            ],
            [
             0.3,
             "#f1b6da"
            ],
            [
             0.4,
             "#fde0ef"
            ],
            [
             0.5,
             "#f7f7f7"
            ],
            [
             0.6,
             "#e6f5d0"
            ],
            [
             0.7,
             "#b8e186"
            ],
            [
             0.8,
             "#7fbc41"
            ],
            [
             0.9,
             "#4d9221"
            ],
            [
             1,
             "#276419"
            ]
           ],
           "sequential": [
            [
             0,
             "#0d0887"
            ],
            [
             0.1111111111111111,
             "#46039f"
            ],
            [
             0.2222222222222222,
             "#7201a8"
            ],
            [
             0.3333333333333333,
             "#9c179e"
            ],
            [
             0.4444444444444444,
             "#bd3786"
            ],
            [
             0.5555555555555556,
             "#d8576b"
            ],
            [
             0.6666666666666666,
             "#ed7953"
            ],
            [
             0.7777777777777778,
             "#fb9f3a"
            ],
            [
             0.8888888888888888,
             "#fdca26"
            ],
            [
             1,
             "#f0f921"
            ]
           ],
           "sequentialminus": [
            [
             0,
             "#0d0887"
            ],
            [
             0.1111111111111111,
             "#46039f"
            ],
            [
             0.2222222222222222,
             "#7201a8"
            ],
            [
             0.3333333333333333,
             "#9c179e"
            ],
            [
             0.4444444444444444,
             "#bd3786"
            ],
            [
             0.5555555555555556,
             "#d8576b"
            ],
            [
             0.6666666666666666,
             "#ed7953"
            ],
            [
             0.7777777777777778,
             "#fb9f3a"
            ],
            [
             0.8888888888888888,
             "#fdca26"
            ],
            [
             1,
             "#f0f921"
            ]
           ]
          },
          "colorway": [
           "#636efa",
           "#EF553B",
           "#00cc96",
           "#ab63fa",
           "#FFA15A",
           "#19d3f3",
           "#FF6692",
           "#B6E880",
           "#FF97FF",
           "#FECB52"
          ],
          "font": {
           "color": "#2a3f5f"
          },
          "geo": {
           "bgcolor": "white",
           "lakecolor": "white",
           "landcolor": "#E5ECF6",
           "showlakes": true,
           "showland": true,
           "subunitcolor": "white"
          },
          "hoverlabel": {
           "align": "left"
          },
          "hovermode": "closest",
          "mapbox": {
           "style": "light"
          },
          "paper_bgcolor": "white",
          "plot_bgcolor": "#E5ECF6",
          "polar": {
           "angularaxis": {
            "gridcolor": "white",
            "linecolor": "white",
            "ticks": ""
           },
           "bgcolor": "#E5ECF6",
           "radialaxis": {
            "gridcolor": "white",
            "linecolor": "white",
            "ticks": ""
           }
          },
          "scene": {
           "xaxis": {
            "backgroundcolor": "#E5ECF6",
            "gridcolor": "white",
            "gridwidth": 2,
            "linecolor": "white",
            "showbackground": true,
            "ticks": "",
            "zerolinecolor": "white"
           },
           "yaxis": {
            "backgroundcolor": "#E5ECF6",
            "gridcolor": "white",
            "gridwidth": 2,
            "linecolor": "white",
            "showbackground": true,
            "ticks": "",
            "zerolinecolor": "white"
           },
           "zaxis": {
            "backgroundcolor": "#E5ECF6",
            "gridcolor": "white",
            "gridwidth": 2,
            "linecolor": "white",
            "showbackground": true,
            "ticks": "",
            "zerolinecolor": "white"
           }
          },
          "shapedefaults": {
           "line": {
            "color": "#2a3f5f"
           }
          },
          "ternary": {
           "aaxis": {
            "gridcolor": "white",
            "linecolor": "white",
            "ticks": ""
           },
           "baxis": {
            "gridcolor": "white",
            "linecolor": "white",
            "ticks": ""
           },
           "bgcolor": "#E5ECF6",
           "caxis": {
            "gridcolor": "white",
            "linecolor": "white",
            "ticks": ""
           }
          },
          "title": {
           "x": 0.05
          },
          "xaxis": {
           "automargin": true,
           "gridcolor": "white",
           "linecolor": "white",
           "ticks": "",
           "title": {
            "standoff": 15
           },
           "zerolinecolor": "white",
           "zerolinewidth": 2
          },
          "yaxis": {
           "automargin": true,
           "gridcolor": "white",
           "linecolor": "white",
           "ticks": "",
           "title": {
            "standoff": 15
           },
           "zerolinecolor": "white",
           "zerolinewidth": 2
          }
         }
        },
        "title": {
         "text": "Casualties of Gas Distribution Line Incidents in Past 10 Years"
        },
        "xaxis": {
         "anchor": "y",
         "domain": [
          0,
          1
         ],
         "title": {
          "text": "Casualties"
         }
        },
        "yaxis": {
         "anchor": "x",
         "domain": [
          0,
          1
         ],
         "title": {
          "text": "Cause"
         }
        }
       }
      }
     },
     "metadata": {},
     "output_type": "display_data"
    }
   ],
   "source": [
    "\n",
    "Casualties = Gas_Dist_Acc[(Gas_Dist_Acc['FATALITY_IND']=='YES')|(Gas_Dist_Acc['INJURY_IND']=='YES')]\n",
    "Casualties_by_State = Casualties.groupby(['LOCATION_STATE_ABBREVIATION', 'CAUSE']).sum()\n",
    "Casualties_by_State= Casualties_by_State.reset_index()\n",
    "Casualties_by_State.rename(columns = {'LOCATION_STATE_ABBREVIATION':'State',\n",
    "                                    'FATAL':'Number_Fatalities',\n",
    "                                    'CAUSE': 'Cause',\n",
    "                                    'INJURE':'Number_Injuried'}, inplace=True)\n",
    "\n",
    "\n",
    "Casualties_by_State['Cause'] = Casualties_by_State['Cause'].str.lower().str.capitalize()\n",
    "Casualties_by_State['Casualties'] = Casualties_by_State['Number_Fatalities']+Casualties_by_State['Number_Injuried']\n",
    "\n",
    "fig = px.bar(data_frame=Casualties_by_State, y = 'Cause', x = 'Casualties', color = 'State', #hover_data='CAUSE_DETAILS',\n",
    "            color_discrete_sequence= px.colors.sequential.ice, orientation='h', \n",
    "            title='Casualties of Gas Distribution Line Incidents in Past 10 Years')\n",
    "fig.update_layout(showlegend=False)\n",
    "fig.show()\n",
    "\n"
   ]
  },
  {
   "cell_type": "markdown",
   "metadata": {},
   "source": [
    "Using a map to show the worst States in terms of the total casualties in the last 10 years. "
   ]
  },
  {
   "cell_type": "code",
   "execution_count": 148,
   "metadata": {},
   "outputs": [],
   "source": [
    "Casualties_by_State =Casualties_by_State.groupby(['State']).sum().reset_index() #grouping based on States only for the heatmap"
   ]
  },
  {
   "cell_type": "code",
   "execution_count": 154,
   "metadata": {},
   "outputs": [
    {
     "data": {
      "application/vnd.plotly.v1+json": {
       "config": {
        "plotlyServerURL": "https://plot.ly"
       },
       "data": [
        {
         "coloraxis": "coloraxis",
         "geo": "geo",
         "hovertemplate": "State=%{location}<br>Casualties=%{z}<extra></extra>",
         "locationmode": "USA-states",
         "locations": [
          "AL",
          "AR",
          "AZ",
          "CA",
          "CO",
          "CT",
          "DC",
          "FL",
          "GA",
          "IA",
          "IL",
          "IN",
          "KS",
          "KY",
          "LA",
          "MA",
          "MD",
          "MI",
          "MN",
          "MO",
          "MS",
          "MT",
          "NC",
          "NE",
          "NJ",
          "NM",
          "NY",
          "OH",
          "OK",
          "OR",
          "PA",
          "SC",
          "SD",
          "TN",
          "TX",
          "VA",
          "WA",
          "WI",
          "WV"
         ],
         "name": "",
         "type": "choropleth",
         "z": [
          12,
          5,
          9,
          32,
          21,
          1,
          1,
          9,
          14,
          4,
          29,
          16,
          10,
          7,
          16,
          48,
          65,
          44,
          5,
          6,
          3,
          7,
          11,
          10,
          23,
          4,
          99,
          24,
          13,
          2,
          33,
          2,
          1,
          16,
          57,
          13,
          8,
          2,
          5
         ]
        }
       ],
       "layout": {
        "coloraxis": {
         "colorbar": {
          "title": {
           "text": "Casualties"
          }
         },
         "colorscale": [
          [
           0,
           "rgb(254, 252, 205)"
          ],
          [
           0.09090909090909091,
           "rgb(239, 225, 156)"
          ],
          [
           0.18181818181818182,
           "rgb(221, 201, 106)"
          ],
          [
           0.2727272727272727,
           "rgb(194, 182, 59)"
          ],
          [
           0.36363636363636365,
           "rgb(157, 167, 21)"
          ],
          [
           0.45454545454545453,
           "rgb(116, 153, 5)"
          ],
          [
           0.5454545454545454,
           "rgb(75, 138, 20)"
          ],
          [
           0.6363636363636364,
           "rgb(35, 121, 36)"
          ],
          [
           0.7272727272727273,
           "rgb(11, 100, 44)"
          ],
          [
           0.8181818181818182,
           "rgb(18, 78, 43)"
          ],
          [
           0.9090909090909091,
           "rgb(25, 56, 34)"
          ],
          [
           1,
           "rgb(23, 35, 18)"
          ]
         ]
        },
        "geo": {
         "center": {},
         "domain": {
          "x": [
           0,
           1
          ],
          "y": [
           0,
           1
          ]
         },
         "scope": "usa"
        },
        "legend": {
         "tracegroupgap": 0
        },
        "margin": {
         "b": 0,
         "l": 0,
         "r": 0,
         "t": 0
        },
        "template": {
         "data": {
          "bar": [
           {
            "error_x": {
             "color": "#2a3f5f"
            },
            "error_y": {
             "color": "#2a3f5f"
            },
            "marker": {
             "line": {
              "color": "#E5ECF6",
              "width": 0.5
             },
             "pattern": {
              "fillmode": "overlay",
              "size": 10,
              "solidity": 0.2
             }
            },
            "type": "bar"
           }
          ],
          "barpolar": [
           {
            "marker": {
             "line": {
              "color": "#E5ECF6",
              "width": 0.5
             },
             "pattern": {
              "fillmode": "overlay",
              "size": 10,
              "solidity": 0.2
             }
            },
            "type": "barpolar"
           }
          ],
          "carpet": [
           {
            "aaxis": {
             "endlinecolor": "#2a3f5f",
             "gridcolor": "white",
             "linecolor": "white",
             "minorgridcolor": "white",
             "startlinecolor": "#2a3f5f"
            },
            "baxis": {
             "endlinecolor": "#2a3f5f",
             "gridcolor": "white",
             "linecolor": "white",
             "minorgridcolor": "white",
             "startlinecolor": "#2a3f5f"
            },
            "type": "carpet"
           }
          ],
          "choropleth": [
           {
            "colorbar": {
             "outlinewidth": 0,
             "ticks": ""
            },
            "type": "choropleth"
           }
          ],
          "contour": [
           {
            "colorbar": {
             "outlinewidth": 0,
             "ticks": ""
            },
            "colorscale": [
             [
              0,
              "#0d0887"
             ],
             [
              0.1111111111111111,
              "#46039f"
             ],
             [
              0.2222222222222222,
              "#7201a8"
             ],
             [
              0.3333333333333333,
              "#9c179e"
             ],
             [
              0.4444444444444444,
              "#bd3786"
             ],
             [
              0.5555555555555556,
              "#d8576b"
             ],
             [
              0.6666666666666666,
              "#ed7953"
             ],
             [
              0.7777777777777778,
              "#fb9f3a"
             ],
             [
              0.8888888888888888,
              "#fdca26"
             ],
             [
              1,
              "#f0f921"
             ]
            ],
            "type": "contour"
           }
          ],
          "contourcarpet": [
           {
            "colorbar": {
             "outlinewidth": 0,
             "ticks": ""
            },
            "type": "contourcarpet"
           }
          ],
          "heatmap": [
           {
            "colorbar": {
             "outlinewidth": 0,
             "ticks": ""
            },
            "colorscale": [
             [
              0,
              "#0d0887"
             ],
             [
              0.1111111111111111,
              "#46039f"
             ],
             [
              0.2222222222222222,
              "#7201a8"
             ],
             [
              0.3333333333333333,
              "#9c179e"
             ],
             [
              0.4444444444444444,
              "#bd3786"
             ],
             [
              0.5555555555555556,
              "#d8576b"
             ],
             [
              0.6666666666666666,
              "#ed7953"
             ],
             [
              0.7777777777777778,
              "#fb9f3a"
             ],
             [
              0.8888888888888888,
              "#fdca26"
             ],
             [
              1,
              "#f0f921"
             ]
            ],
            "type": "heatmap"
           }
          ],
          "heatmapgl": [
           {
            "colorbar": {
             "outlinewidth": 0,
             "ticks": ""
            },
            "colorscale": [
             [
              0,
              "#0d0887"
             ],
             [
              0.1111111111111111,
              "#46039f"
             ],
             [
              0.2222222222222222,
              "#7201a8"
             ],
             [
              0.3333333333333333,
              "#9c179e"
             ],
             [
              0.4444444444444444,
              "#bd3786"
             ],
             [
              0.5555555555555556,
              "#d8576b"
             ],
             [
              0.6666666666666666,
              "#ed7953"
             ],
             [
              0.7777777777777778,
              "#fb9f3a"
             ],
             [
              0.8888888888888888,
              "#fdca26"
             ],
             [
              1,
              "#f0f921"
             ]
            ],
            "type": "heatmapgl"
           }
          ],
          "histogram": [
           {
            "marker": {
             "pattern": {
              "fillmode": "overlay",
              "size": 10,
              "solidity": 0.2
             }
            },
            "type": "histogram"
           }
          ],
          "histogram2d": [
           {
            "colorbar": {
             "outlinewidth": 0,
             "ticks": ""
            },
            "colorscale": [
             [
              0,
              "#0d0887"
             ],
             [
              0.1111111111111111,
              "#46039f"
             ],
             [
              0.2222222222222222,
              "#7201a8"
             ],
             [
              0.3333333333333333,
              "#9c179e"
             ],
             [
              0.4444444444444444,
              "#bd3786"
             ],
             [
              0.5555555555555556,
              "#d8576b"
             ],
             [
              0.6666666666666666,
              "#ed7953"
             ],
             [
              0.7777777777777778,
              "#fb9f3a"
             ],
             [
              0.8888888888888888,
              "#fdca26"
             ],
             [
              1,
              "#f0f921"
             ]
            ],
            "type": "histogram2d"
           }
          ],
          "histogram2dcontour": [
           {
            "colorbar": {
             "outlinewidth": 0,
             "ticks": ""
            },
            "colorscale": [
             [
              0,
              "#0d0887"
             ],
             [
              0.1111111111111111,
              "#46039f"
             ],
             [
              0.2222222222222222,
              "#7201a8"
             ],
             [
              0.3333333333333333,
              "#9c179e"
             ],
             [
              0.4444444444444444,
              "#bd3786"
             ],
             [
              0.5555555555555556,
              "#d8576b"
             ],
             [
              0.6666666666666666,
              "#ed7953"
             ],
             [
              0.7777777777777778,
              "#fb9f3a"
             ],
             [
              0.8888888888888888,
              "#fdca26"
             ],
             [
              1,
              "#f0f921"
             ]
            ],
            "type": "histogram2dcontour"
           }
          ],
          "mesh3d": [
           {
            "colorbar": {
             "outlinewidth": 0,
             "ticks": ""
            },
            "type": "mesh3d"
           }
          ],
          "parcoords": [
           {
            "line": {
             "colorbar": {
              "outlinewidth": 0,
              "ticks": ""
             }
            },
            "type": "parcoords"
           }
          ],
          "pie": [
           {
            "automargin": true,
            "type": "pie"
           }
          ],
          "scatter": [
           {
            "marker": {
             "colorbar": {
              "outlinewidth": 0,
              "ticks": ""
             }
            },
            "type": "scatter"
           }
          ],
          "scatter3d": [
           {
            "line": {
             "colorbar": {
              "outlinewidth": 0,
              "ticks": ""
             }
            },
            "marker": {
             "colorbar": {
              "outlinewidth": 0,
              "ticks": ""
             }
            },
            "type": "scatter3d"
           }
          ],
          "scattercarpet": [
           {
            "marker": {
             "colorbar": {
              "outlinewidth": 0,
              "ticks": ""
             }
            },
            "type": "scattercarpet"
           }
          ],
          "scattergeo": [
           {
            "marker": {
             "colorbar": {
              "outlinewidth": 0,
              "ticks": ""
             }
            },
            "type": "scattergeo"
           }
          ],
          "scattergl": [
           {
            "marker": {
             "colorbar": {
              "outlinewidth": 0,
              "ticks": ""
             }
            },
            "type": "scattergl"
           }
          ],
          "scattermapbox": [
           {
            "marker": {
             "colorbar": {
              "outlinewidth": 0,
              "ticks": ""
             }
            },
            "type": "scattermapbox"
           }
          ],
          "scatterpolar": [
           {
            "marker": {
             "colorbar": {
              "outlinewidth": 0,
              "ticks": ""
             }
            },
            "type": "scatterpolar"
           }
          ],
          "scatterpolargl": [
           {
            "marker": {
             "colorbar": {
              "outlinewidth": 0,
              "ticks": ""
             }
            },
            "type": "scatterpolargl"
           }
          ],
          "scatterternary": [
           {
            "marker": {
             "colorbar": {
              "outlinewidth": 0,
              "ticks": ""
             }
            },
            "type": "scatterternary"
           }
          ],
          "surface": [
           {
            "colorbar": {
             "outlinewidth": 0,
             "ticks": ""
            },
            "colorscale": [
             [
              0,
              "#0d0887"
             ],
             [
              0.1111111111111111,
              "#46039f"
             ],
             [
              0.2222222222222222,
              "#7201a8"
             ],
             [
              0.3333333333333333,
              "#9c179e"
             ],
             [
              0.4444444444444444,
              "#bd3786"
             ],
             [
              0.5555555555555556,
              "#d8576b"
             ],
             [
              0.6666666666666666,
              "#ed7953"
             ],
             [
              0.7777777777777778,
              "#fb9f3a"
             ],
             [
              0.8888888888888888,
              "#fdca26"
             ],
             [
              1,
              "#f0f921"
             ]
            ],
            "type": "surface"
           }
          ],
          "table": [
           {
            "cells": {
             "fill": {
              "color": "#EBF0F8"
             },
             "line": {
              "color": "white"
             }
            },
            "header": {
             "fill": {
              "color": "#C8D4E3"
             },
             "line": {
              "color": "white"
             }
            },
            "type": "table"
           }
          ]
         },
         "layout": {
          "annotationdefaults": {
           "arrowcolor": "#2a3f5f",
           "arrowhead": 0,
           "arrowwidth": 1
          },
          "autotypenumbers": "strict",
          "coloraxis": {
           "colorbar": {
            "outlinewidth": 0,
            "ticks": ""
           }
          },
          "colorscale": {
           "diverging": [
            [
             0,
             "#8e0152"
            ],
            [
             0.1,
             "#c51b7d"
            ],
            [
             0.2,
             "#de77ae"
            ],
            [
             0.3,
             "#f1b6da"
            ],
            [
             0.4,
             "#fde0ef"
            ],
            [
             0.5,
             "#f7f7f7"
            ],
            [
             0.6,
             "#e6f5d0"
            ],
            [
             0.7,
             "#b8e186"
            ],
            [
             0.8,
             "#7fbc41"
            ],
            [
             0.9,
             "#4d9221"
            ],
            [
             1,
             "#276419"
            ]
           ],
           "sequential": [
            [
             0,
             "#0d0887"
            ],
            [
             0.1111111111111111,
             "#46039f"
            ],
            [
             0.2222222222222222,
             "#7201a8"
            ],
            [
             0.3333333333333333,
             "#9c179e"
            ],
            [
             0.4444444444444444,
             "#bd3786"
            ],
            [
             0.5555555555555556,
             "#d8576b"
            ],
            [
             0.6666666666666666,
             "#ed7953"
            ],
            [
             0.7777777777777778,
             "#fb9f3a"
            ],
            [
             0.8888888888888888,
             "#fdca26"
            ],
            [
             1,
             "#f0f921"
            ]
           ],
           "sequentialminus": [
            [
             0,
             "#0d0887"
            ],
            [
             0.1111111111111111,
             "#46039f"
            ],
            [
             0.2222222222222222,
             "#7201a8"
            ],
            [
             0.3333333333333333,
             "#9c179e"
            ],
            [
             0.4444444444444444,
             "#bd3786"
            ],
            [
             0.5555555555555556,
             "#d8576b"
            ],
            [
             0.6666666666666666,
             "#ed7953"
            ],
            [
             0.7777777777777778,
             "#fb9f3a"
            ],
            [
             0.8888888888888888,
             "#fdca26"
            ],
            [
             1,
             "#f0f921"
            ]
           ]
          },
          "colorway": [
           "#636efa",
           "#EF553B",
           "#00cc96",
           "#ab63fa",
           "#FFA15A",
           "#19d3f3",
           "#FF6692",
           "#B6E880",
           "#FF97FF",
           "#FECB52"
          ],
          "font": {
           "color": "#2a3f5f"
          },
          "geo": {
           "bgcolor": "white",
           "lakecolor": "white",
           "landcolor": "#E5ECF6",
           "showlakes": true,
           "showland": true,
           "subunitcolor": "white"
          },
          "hoverlabel": {
           "align": "left"
          },
          "hovermode": "closest",
          "mapbox": {
           "style": "light"
          },
          "paper_bgcolor": "white",
          "plot_bgcolor": "#E5ECF6",
          "polar": {
           "angularaxis": {
            "gridcolor": "white",
            "linecolor": "white",
            "ticks": ""
           },
           "bgcolor": "#E5ECF6",
           "radialaxis": {
            "gridcolor": "white",
            "linecolor": "white",
            "ticks": ""
           }
          },
          "scene": {
           "xaxis": {
            "backgroundcolor": "#E5ECF6",
            "gridcolor": "white",
            "gridwidth": 2,
            "linecolor": "white",
            "showbackground": true,
            "ticks": "",
            "zerolinecolor": "white"
           },
           "yaxis": {
            "backgroundcolor": "#E5ECF6",
            "gridcolor": "white",
            "gridwidth": 2,
            "linecolor": "white",
            "showbackground": true,
            "ticks": "",
            "zerolinecolor": "white"
           },
           "zaxis": {
            "backgroundcolor": "#E5ECF6",
            "gridcolor": "white",
            "gridwidth": 2,
            "linecolor": "white",
            "showbackground": true,
            "ticks": "",
            "zerolinecolor": "white"
           }
          },
          "shapedefaults": {
           "line": {
            "color": "#2a3f5f"
           }
          },
          "ternary": {
           "aaxis": {
            "gridcolor": "white",
            "linecolor": "white",
            "ticks": ""
           },
           "baxis": {
            "gridcolor": "white",
            "linecolor": "white",
            "ticks": ""
           },
           "bgcolor": "#E5ECF6",
           "caxis": {
            "gridcolor": "white",
            "linecolor": "white",
            "ticks": ""
           }
          },
          "title": {
           "x": 0.05
          },
          "xaxis": {
           "automargin": true,
           "gridcolor": "white",
           "linecolor": "white",
           "ticks": "",
           "title": {
            "standoff": 15
           },
           "zerolinecolor": "white",
           "zerolinewidth": 2
          },
          "yaxis": {
           "automargin": true,
           "gridcolor": "white",
           "linecolor": "white",
           "ticks": "",
           "title": {
            "standoff": 15
           },
           "zerolinecolor": "white",
           "zerolinewidth": 2
          }
         }
        }
       }
      }
     },
     "metadata": {},
     "output_type": "display_data"
    }
   ],
   "source": [
    "#Plotting the heatmap\n",
    "fig = px.choropleth(Casualties_by_State,\n",
    "                    locations='State', \n",
    "                    locationmode=\"USA-states\", \n",
    "                    scope=\"usa\",\n",
    "                    color='Casualties',\n",
    "                    color_continuous_scale=\"speed\", \n",
    "                    )\n",
    "\n",
    "fig.update_layout(margin={\"r\":0,\"t\":0,\"l\":0,\"b\":0})\n",
    "\n",
    "fig.show()"
   ]
  }
 ],
 "metadata": {
  "kernelspec": {
   "display_name": "Python 3.9.12 ('.pipe_env')",
   "language": "python",
   "name": "python3"
  },
  "language_info": {
   "codemirror_mode": {
    "name": "ipython",
    "version": 3
   },
   "file_extension": ".py",
   "mimetype": "text/x-python",
   "name": "python",
   "nbconvert_exporter": "python",
   "pygments_lexer": "ipython3",
   "version": "3.9.13"
  },
  "orig_nbformat": 4,
  "vscode": {
   "interpreter": {
    "hash": "a505bc6d14c1f7462254554f1370e471aa58cc5f448996c4ec2dee09ebd38da2"
   }
  }
 },
 "nbformat": 4,
 "nbformat_minor": 2
}
