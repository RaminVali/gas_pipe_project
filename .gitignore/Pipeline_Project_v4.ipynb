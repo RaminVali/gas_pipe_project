{
 "cells": [
  {
   "cell_type": "markdown",
   "metadata": {},
   "source": [
    "# Exploring USA Gas Pipeline Accident Data\n",
    "\n",
    "The United States maintains over 3.2 million kilometers of natural gas distribution mains and pipelines, over 500,000 kilometers of gas transmission and gathering pipelines, over 180,000 kilometers hazardous liquid pipeline, and 114 active liquid natural gas plants that are connected to natural gas transmission and distribution systems [<sup>1</sup>](https://www.ncsl.org/research/energy/state-gas-pipelines.aspx#:~:text=The%20United%20States%20maintains%20about,gas%20transmission%20and%20distribution%20systems.). \n",
    "\n",
    "The pipeline system includes:\n",
    "\n",
    " * __Transmission lines__ to transport large quantities of natural gas or hazardous liquids over long distances from gathering lines or storage facilities to distribution centers, storage facilities, power plants, industrial customers and municipalities. Most transmission pipelines are located underground.\n",
    " \n",
    " * __Distribution lines__ to move gas to industrial customers. Smaller distribution lines connect businesses and homes. Distribution lines usually are installed in underground utility easements along streets. Gas pipeline *commodities* include natural gas, hydrogen gas, propane gas and synthetic gas. Almost all gas gathering lines are for natural gas. Distribution and transmission are mostly for natural gas, but include some propane and hydrogen.\n",
    " \n",
    "In this project we explore the incient data provided by the [Pipeline and Hazardous Materials Safety Administration](https://www.phmsa.dot.gov/data-and-statistics/pipeline/distribution-transmission-gathering-lng-and-liquid-accident-and-incident-data) to explore the locations, causes and asspcoated casualties of gas pipeline incidents in the United States over the last 10 years.We utilise [plotly](https://plotly.com/) to make interactive visualisations of the data. "
   ]
  },
  {
   "cell_type": "code",
   "execution_count": null,
   "metadata": {},
   "outputs": [],
   "source": [
    "#importing the \n",
    "import pandas as pd\n",
    "\n",
    "#import wget\n",
    "\n",
    "#plotty things\n",
    "import plotly\n",
    "import plotly.graph_objects as go\n",
    "import plotly.offline as pyo\n",
    "from plotly.offline import init_notebook_mode\n",
    "import plotly.express as px\n",
    "\n",
    "import pyproj\n",
    "\n",
    "#mappy things\n",
    "#import geopandas as gpd\n",
    "#import shapely.geometry # to make the interactive plotly pipe shapes work \n",
    "#from shapely.geometry import Point  #To display lat-long locations on the maps\n",
    "\n",
    "\n",
    "pd.options.display.max_columns = 999\n"
   ]
  },
  {
   "cell_type": "markdown",
   "metadata": {},
   "source": [
    "# Pipeline Geographical Locations \n",
    "The figures below show the geographical locations of the gas pipelines. The data associated with these can viwed by hovering over the individual shape. \n",
    "The pipeline representations are in three parts, the __Transmission lines__, the __Distribution lines__, and finally the __Gulf of Mexico lines__. "
   ]
  },
  {
   "cell_type": "code",
   "execution_count": null,
   "metadata": {},
   "outputs": [],
   "source": [
    "# Loading the converted shape files. The shape files have to be converted from their geometric multiline representations to lat/lon \n",
    "# representations of the two ends of each of the segments. The algorithem to do this is in the previous versions of the code in the github repository. \n",
    "# You can simply uncomment each cell and have the .pkl variable constructed again. It just takes a little bit fo time, hence the \n",
    "# loading of the variable to save time.  \n",
    "geo_df_trans = pd.read_pickle('geo_df_trans.pkl') #Gas transmission lines file\n",
    "geo_df = pd.read_pickle('geo_df.pkl') # Gas distribution lines file, its the largest\n",
    "geo_df_mx = pd.read_pickle('geo_df_mx.pkl') #Gas pipelines in the Gulf of Mexico"
   ]
  },
  {
   "cell_type": "code",
   "execution_count": null,
   "metadata": {},
   "outputs": [],
   "source": [
    "#Plotting the dataframe we made with lats, lons and names etc form the HGL, Inter/Intra and Gulf of Mexico shape files, \n",
    "# we manipulate the hoverdata to display what we like.\n",
    "\n",
    "\n",
    "# GULF OF MEXICO\n",
    "fig = px.line_geo(geo_df_mx,lat = geo_df_mx.lats, lon = geo_df_mx.lons, hover_name = geo_df_mx.Operator_Name, locationmode=\"USA-states\", scope=\"usa\",\n",
    "                 hover_data={'lats':False, #remove latitude form hover data\n",
    "                             'lons':False, #remove longitude form hover data\n",
    "                             'Category':False, #remove category from hover data\n",
    "                              },\n",
    "                              color = 'Category' )\n",
    "\n",
    "fig.update_traces(line_color='#8723e3', line_width=0.25) #updating the default lines used for HGL piepes\n",
    "\n",
    "\n",
    "# #--------------------------------------\n",
    "#Inter/Intra State Pipelines\n",
    "fig2 = px.line_geo(geo_df,lat = geo_df.lats, lon = geo_df.lons, hover_name = geo_df.Operator_Name, locationmode=\"USA-states\", scope=\"usa\",\n",
    "                 hover_data={'lats':False, #remove latitude form hover data\n",
    "                             'lons':False, #remove longitude form hover data\n",
    "                             'Category':False, #remove category from hover data\n",
    "                            },\n",
    "                               color = 'Category' )\n",
    "fig2.update_traces(line_color='#293d6e', line_width=0.25) #updating the default lines used for HGL piepes\n",
    "# #--------------------------------------\n",
    "\n",
    "#HGL Transmission Lines\n",
    "#plotting the shape file onto the USA map using plotly\n",
    "fig3 = px.line_geo(geo_df_trans,lat = geo_df_trans.lats, lon = geo_df_trans.lons, hover_name = geo_df_trans.Pipe_Name, locationmode=\"USA-states\", scope=\"usa\",\n",
    "                 hover_data={'lats':False, #remove latitude form hover data\n",
    "                             'lons':False, #remove longitude form hover data\n",
    "                             'Operator_Name': True, \n",
    "                             'Category':False, #remove category from hover data\n",
    "                            },\n",
    "                               color = 'Category')\n",
    "fig3.update_traces(line_color='#000000', line_width=.75) #updating the default lines used for HGL piepes\n",
    "#\n",
    "#Adding all the traces together in one map here\n",
    "fig.add_trace(fig2.data[0]) \n",
    "fig.add_trace(fig3.data[0]) \n",
    "# #--------------------------------------\n",
    "\n",
    "\n",
    "#fig.update_layout()\n",
    "fig.update_layout(title = 'USA Gas Pipelines',\n",
    "                  hovermode=\"closest\",\n",
    "                  margin={\"r\":0,\"t\":0,\"l\":0,\"b\":0},\n",
    "                  showlegend = True)\n",
    "\n",
    "\n",
    "fig.update_geos(\n",
    "    resolution=50,\n",
    "    showland=True, landcolor=\"#b1f699\",\n",
    "    showlakes=True, lakecolor=\"LightBlue\")\n",
    "\n",
    "fig.show()\n",
    "\n"
   ]
  },
  {
   "cell_type": "markdown",
   "metadata": {},
   "source": [
    "# Loading and Filtering the Gas Transmission Lines Incident Data\n",
    "\n",
    "Now that we have some knowledge about the location of the various types of gas pipelines, we take a closer look at the incident data associated with these.\n",
    "We start with the gas transmission pipelines. "
   ]
  },
  {
   "cell_type": "code",
   "execution_count": null,
   "metadata": {},
   "outputs": [],
   "source": [
    "#changed encoding by saving as csv file again, tab delimited\n",
    "HGL_trans_accidents = pd.read_csv('data/incident_gas_transmission_gathering_jan2010_present.csv',low_memory=False) \n",
    "HGL_trans_accidents.shape"
   ]
  },
  {
   "cell_type": "markdown",
   "metadata": {},
   "source": [
    "The data file we have has so many columns that are not useful, so I have made a .txt file of the columns required for our analysis. It is saved in the same directory."
   ]
  },
  {
   "cell_type": "code",
   "execution_count": null,
   "metadata": {},
   "outputs": [],
   "source": [
    "# Reading in the required columns form the text file. I have kept it as a text file so it is easy to modify for future uses. \n",
    "req_clmns = []\n",
    "\n",
    "#importing the list of required columns form the text file\n",
    "with open('data/Gas_Trans_required_columns.txt') as f: \n",
    "    lines = f.readlines()\n",
    "f.close()\n",
    "\n",
    "for l in lines:\n",
    "    req_clmns.append(l.strip()) #getting rid of the \"\\n\" escape character\n",
    "\n",
    "HGL_trans_acc = HGL_trans_accidents[req_clmns]\n",
    "# I have discovered some outliers that fall outside the continental USA, so I will explude those: \n",
    "HGL_trans_acc = HGL_trans_acc[(-140<HGL_trans_acc['LOCATION_LONGITUDE']) & (HGL_trans_acc['LOCATION_LONGITUDE']<-50)]\n",
    "HGL_trans_acc = HGL_trans_acc[HGL_trans_acc['LOCATION_LATITUDE']<50]\n",
    "\n",
    "HGL_trans_acc.shape # we moved from  625 columns to 61\n",
    "HGL_trans_acc.sample(3)\n"
   ]
  },
  {
   "cell_type": "code",
   "execution_count": null,
   "metadata": {},
   "outputs": [],
   "source": [
    "HGL_trans_acc.REPORT_NUMBER.unique"
   ]
  },
  {
   "cell_type": "markdown",
   "metadata": {},
   "source": [
    "# Exploring the Incident Data Using Plotly\n",
    "To do this we make a plotly bar plot with incident count, year and state"
   ]
  },
  {
   "cell_type": "code",
   "execution_count": null,
   "metadata": {},
   "outputs": [],
   "source": [
    "#Grouping the dataframe by year and then state counts, and sorting it.\n",
    "\n",
    "grouped_Year_State = HGL_trans_acc.groupby(['IYEAR','OPERATOR_STATE_ABBREVIATION']).count().sort_values(by = 'REPORT_NUMBER',  ascending=False).reset_index()\n",
    "grouped_Year_State.head()\n",
    "\n",
    "# The column report number (1 on 1 relationship) can be our incident count so:\n",
    "\n",
    "grouped_Year_State.rename(columns = {'IYEAR':'Incident Year','OPERATOR_STATE_ABBREVIATION':'Incident State', 'REPORT_NUMBER':'No of Incidents'}, inplace=True)\n",
    "grouped_Year_State.sample(3)\n",
    "grouped_Year_State['No of Incidents'].sum()"
   ]
  },
  {
   "cell_type": "code",
   "execution_count": null,
   "metadata": {},
   "outputs": [],
   "source": [
    "# Plotting the data using plotly:\n",
    "fig = px.bar(data_frame=grouped_Year_State, y = 'Incident Year', x = 'No of Incidents',\n",
    "            color = 'Incident State', orientation='h', \n",
    "            color_discrete_sequence= px.colors.sequential.deep_r,\n",
    "            title='Number of Gas Transmission Line Incidents in Past 10 Years by State') #remove latitude form pipe)\n",
    "\n",
    "fig.update_layout(showlegend=True)\n",
    "fig.show()\n"
   ]
  },
  {
   "cell_type": "markdown",
   "metadata": {},
   "source": [
    "Good reference for the colour pallets. Only the sequential one works here. \n",
    "- dir(px.colors.qualitative)\n",
    "- dir(px.colors.diverging)\n",
    "- dir(px.colors.sequential)"
   ]
  },
  {
   "cell_type": "markdown",
   "metadata": {},
   "source": [
    "## Exploring the Injuries, Fatalities and Cuases of Gas Transmission Line Incidents\n",
    "### Fatalities and Injuries"
   ]
  },
  {
   "cell_type": "code",
   "execution_count": null,
   "metadata": {},
   "outputs": [],
   "source": [
    "# Calculating the number of fatalities\n",
    "fatality = HGL_trans_acc['FATAL'].value_counts().reset_index()\n",
    "fatality.rename(columns={'index':'Fatalities'}, inplace = True)\n",
    "fatality['deaths'] = fatality['Fatalities']*fatality['FATAL']\n",
    "# print('The fatality count is:')\n",
    "# print(fatality['deaths'].sum())\n",
    "Deaths = fatality['deaths'].sum()\n",
    "\n",
    "# Calculating the number of injuries\n",
    "injury = HGL_trans_acc['INJURE'].value_counts().reset_index()\n",
    "injury.rename(columns={'index':'Injuries'}, inplace = True)\n",
    "injury['injuries'] = injury['Injuries']*injury['INJURE']\n",
    "# print('The injury count is:')\n",
    "# print(injury['injuries'].sum())\n",
    "\n",
    "Injuries = injury['injuries'].sum()\n",
    "\n",
    "data = {'Death':fatality['deaths'].sum(),'Injury':injury['injuries'].sum()}\n",
    "Casualties=pd.DataFrame(data,index=['Number of Casualties'])\n",
    "\n",
    "Casualties"
   ]
  },
  {
   "cell_type": "markdown",
   "metadata": {},
   "source": [
    "We can see that over the last 10 years, a total of 31 deaths and 117 injuries have occured. Given that the transmission lines are generally not in populated areas and are not very widespeard, this low count is expected. We will compare this with the far more extensive and widespread distribution netwrok.\n",
    "\n",
    "### Causes of the Gas Transmission Line Incidents"
   ]
  },
  {
   "cell_type": "code",
   "execution_count": null,
   "metadata": {},
   "outputs": [],
   "source": [
    "Acc_Cause = HGL_trans_acc.groupby(['CAUSE','CAUSE_DETAILS']).count().reset_index()\n",
    "Acc_Cause.rename(columns = {'REPORT_NUMBER':'Number of Incidents','CAUSE':'Accident Cause', 'CAUSE_DETAILS':'Details'}, inplace=True) #each incident has a report number so its count is incident count\n",
    "\n",
    "Acc_Cause['Accident Cause'] = Acc_Cause['Accident Cause'].str.lower().str.title()\n",
    "Acc_Cause['Details'] = Acc_Cause['Details'].str.lower().str.capitalize()\n",
    "\n",
    "Acc_Cause.head(3)\n"
   ]
  },
  {
   "cell_type": "code",
   "execution_count": null,
   "metadata": {},
   "outputs": [],
   "source": [
    "\n",
    "# #trying with plotly express\n",
    "fig = px.bar(data_frame=Acc_Cause, y = 'Accident Cause', x = 'Number of Incidents', color = 'Details',\n",
    "            color_discrete_sequence= px.colors.sequential.Bluyl_r, orientation='h', \n",
    "            title='Causes of Gas Transmission Line Incidents in Past 10 Years',hover_data={'Accident Cause':False}) #remove latitude form pipe)\n",
    "fig.update_layout(showlegend=False)\n",
    "fig.show()\n"
   ]
  },
  {
   "cell_type": "markdown",
   "metadata": {},
   "source": [
    "We can see that the main cause for the incidents is equiment failure followed by corrosion failure. To get a better understanding of the share of each incident cause we can use a pie chart:"
   ]
  },
  {
   "cell_type": "code",
   "execution_count": null,
   "metadata": {},
   "outputs": [],
   "source": [
    "fig = px.pie(Acc_Cause, values='Number of Incidents', names='Accident Cause',\n",
    "             color_discrete_sequence= px.colors.sequential.Bluyl,\n",
    "             title = 'Gas Distribution Indicent Cause Breakown')\n",
    "fig.show()"
   ]
  },
  {
   "cell_type": "markdown",
   "metadata": {},
   "source": [
    "# Incidents in the Gas Distribution Network "
   ]
  },
  {
   "cell_type": "code",
   "execution_count": null,
   "metadata": {},
   "outputs": [],
   "source": [
    "# Working on Gas Distribution Accidents now:\n",
    "#changed encoding by saving as csv file again, tab delimited\n",
    "Gas_Dist_Accidents = pd.read_csv('data/incident_gas_distribution_jan2010_present.csv',low_memory=False) \n",
    "Gas_Dist_Accidents.sample(2)\n",
    "Gas_Dist_Accidents.shape\n"
   ]
  },
  {
   "cell_type": "code",
   "execution_count": null,
   "metadata": {},
   "outputs": [],
   "source": [
    "req_clmns =  []\n",
    "with open('data/Gas_Dist_required_columns.txt') as f: #importing the list of required columns form the text file\n",
    "    lines = f.readlines()\n",
    "f.close()\n",
    "for l in lines:\n",
    "    req_clmns.append(l.strip()) #getting rid of the \"\\n\" escape character\n",
    "Gas_Dist_Acc = Gas_Dist_Accidents[req_clmns]\n",
    "\n",
    "Gas_Dist_Acc.shape\n",
    "Gas_Dist_Acc.sample(3)"
   ]
  },
  {
   "cell_type": "markdown",
   "metadata": {},
   "source": [
    "There is an outlier in the longitude column (large negative number), so we find it and drop that whole row so we can do the plotting "
   ]
  },
  {
   "cell_type": "code",
   "execution_count": null,
   "metadata": {},
   "outputs": [],
   "source": [
    "drop_row_index = Gas_Dist_Acc['LOCATION_LONGITUDE'].idxmin() #getting the row index for the minimum oulier \n",
    "Gas_Dist_Acc.drop(Gas_Dist_Acc.index[drop_row_index])\n",
    "Gas_Dist_Acc.shape #So we dropped one row"
   ]
  },
  {
   "cell_type": "markdown",
   "metadata": {},
   "source": [
    "Gas Distribution netwrok Incidents' Geographical Locations"
   ]
  },
  {
   "cell_type": "code",
   "execution_count": null,
   "metadata": {},
   "outputs": [],
   "source": [
    "# I have discovered some outliers that fall outside the continental USA, so I will explude those: \n",
    "Gas_Dist_Acc = Gas_Dist_Acc[(-140<Gas_Dist_Acc['LOCATION_LONGITUDE']) & (Gas_Dist_Acc['LOCATION_LONGITUDE']<-50)]\n",
    "Gas_Dist_Acc = Gas_Dist_Acc[Gas_Dist_Acc['LOCATION_LATITUDE']<50]\n",
    "\n",
    "#Formatting  the hovertext\n",
    "Gas_Dist_Acc['hover_text'] = Gas_Dist_Acc[\"LOCATION_CITY_NAME\"].str.title()+\", \"+ Gas_Dist_Acc[\"LOCATION_STATE_ABBREVIATION\"]+ \", \"+\"Cause: \"+Gas_Dist_Acc['CAUSE'].str.lower().str.capitalize()+\", \" + Gas_Dist_Acc[\"IYEAR\"].astype(str)\n",
    "\n",
    "fig = go.Figure(data = go.Scattergeo(\n",
    "                    lat=Gas_Dist_Acc.LOCATION_LATITUDE, lon=Gas_Dist_Acc.LOCATION_LONGITUDE,\n",
    "                    text=Gas_Dist_Acc['hover_text'], \n",
    "                    mode = 'markers',\n",
    "                    marker = dict(\n",
    "                    size = 4,\n",
    "                    opacity = 0.8,\n",
    "                    reversescale = True,\n",
    "                    autocolorscale = False,\n",
    "                    symbol = 'circle', \n",
    "                    line = dict(\n",
    "                        width=1,\n",
    "                        color='rgba(219, 15, 15)'\n",
    "                    ),\n",
    "                    colorscale = 'Hot_r',\n",
    "                    cmin = 2010,\n",
    "                    color = Gas_Dist_Acc.IYEAR,\n",
    "                    cmax = Gas_Dist_Acc.IYEAR.max(),\n",
    "                    colorbar_title=\"Incident Year\")))\n",
    "\n",
    "fig.update_layout(\n",
    "        title = 'Gas distribution line incidents in the last 10 years',\n",
    "        geo_scope='usa',\n",
    "        hovermode=\"closest\",\n",
    "        margin={\"r\":0,\"t\":0,\"l\":10,\"b\":0},\n",
    "        showlegend = True\n",
    "    )\n",
    "\n",
    "\n",
    "fig.update_geos(\n",
    "    resolution=50,\n",
    "    showland=True, landcolor=\"#b1f699\",\n",
    "    showlakes=True, lakecolor=\"LightBlue\")\n",
    "\n",
    "fig.show()\n"
   ]
  },
  {
   "cell_type": "code",
   "execution_count": null,
   "metadata": {},
   "outputs": [],
   "source": [
    "Gas_Dist_Acc.shape #So we dropped one row"
   ]
  },
  {
   "cell_type": "code",
   "execution_count": null,
   "metadata": {},
   "outputs": [],
   "source": [
    "#Using Scatter Mapbox for a different type of location plot\n",
    "\n",
    "fig = px.scatter_mapbox(Gas_Dist_Acc, lat=\"LOCATION_LATITUDE\", lon=\"LOCATION_LONGITUDE\", hover_name=\"LOCATION_CITY_NAME\",\n",
    "                    hover_data=[\"CAUSE_DETAILS\", \"IYEAR\"],\n",
    "                    color_discrete_sequence=[\"red\"], zoom=3, height=600)\n",
    "\n",
    "fig.update_layout(mapbox_style=\"open-street-map\")\n",
    "fig.update_layout(margin={\"r\":0,\"t\":0,\"l\":0,\"b\":0})\n",
    "fig.show()"
   ]
  },
  {
   "cell_type": "code",
   "execution_count": null,
   "metadata": {},
   "outputs": [],
   "source": [
    "grouped_Year_State = Gas_Dist_Acc.groupby(['IYEAR','LOCATION_STATE_ABBREVIATION']).count().sort_values(by = 'NAME',  ascending=False).reset_index()\n",
    "\n",
    "#creating a data frame as the output of the groupby. The product of the groupby is a series, \n",
    "# so you do a to_frame to get the df and then reset the index to get a proper index\n",
    "# The column NAME (1 on 1 relationship) can be our incident count so:\n",
    "\n",
    "grouped_Year_State.rename(columns = {'IYEAR':'Incident Year','LOCATION_STATE_ABBREVIATION':'Incident State', 'NAME':'No of Incidents'}, inplace=True)\n",
    "#Sorting based on year\n",
    "grouped_Year_State=grouped_Year_State.sort_values(\"Incident Year\") # Make sure you sort the time horizon column in ascending order\n",
    "\n",
    "grouped_Year_State.sample(3)\n",
    "\n"
   ]
  },
  {
   "cell_type": "code",
   "execution_count": null,
   "metadata": {},
   "outputs": [],
   "source": [
    "#plotting using plotly:\n",
    "\n",
    "# #trying with plotly express\n",
    "fig = px.bar(data_frame=grouped_Year_State, y ='No of Incidents' , x = 'Incident State',\n",
    "            color = 'Incident Year', orientation='v', \n",
    "            color_continuous_scale=px.colors.sequential.OrRd_r,\n",
    "            title='Number of Gas Distribution Incidents in Past 10 Years by State') #remove latitude form pipe)\n",
    "\n",
    "fig.update_layout(showlegend=True)\n",
    "fig.show()\n"
   ]
  },
  {
   "cell_type": "markdown",
   "metadata": {},
   "source": []
  },
  {
   "cell_type": "markdown",
   "metadata": {},
   "source": [
    "The above is not very telling and difficult to interpret even with the hover text. So we do a Chorlopleth Map for every year. "
   ]
  },
  {
   "cell_type": "markdown",
   "metadata": {},
   "source": [
    "### Animated Chorlopleth Map to understand the gas distribution incident data better.\n",
    "https://towardsdatascience.com/simplest-way-of-creating-a-choropleth-map-by-u-s-states-in-python-f359ada7735e"
   ]
  },
  {
   "cell_type": "code",
   "execution_count": null,
   "metadata": {},
   "outputs": [],
   "source": [
    "import plotly.express as px\n",
    "fig = px.choropleth(grouped_Year_State,\n",
    "                    locations='Incident State', \n",
    "                    locationmode=\"USA-states\", \n",
    "                    scope=\"usa\",\n",
    "                    color='No of Incidents',\n",
    "                    color_continuous_scale=\"agsunset_r\", \n",
    "                    animation_frame='Incident Year' #make sure 'Incident Year' is string type and sorted in ascending order\n",
    "                    )\n",
    "fig.update_layout(margin={\"r\":0,\"t\":0,\"l\":0,\"b\":0})\n",
    "\n",
    "fig.show()"
   ]
  },
  {
   "cell_type": "markdown",
   "metadata": {},
   "source": [
    "# Explorting the Injuries, Fatalities and Cuases of the Gas Transmission Netwrok Incidents\n",
    "## Fatalities and Injuries"
   ]
  },
  {
   "cell_type": "code",
   "execution_count": null,
   "metadata": {},
   "outputs": [],
   "source": [
    "# Calculating the number of fatalities\n",
    "fatality = Gas_Dist_Acc['FATAL'].value_counts().reset_index()\n",
    "fatality.rename(columns={'index':'Fatalities'}, inplace = True)\n",
    "fatality['deaths'] = fatality['Fatalities']*fatality['FATAL']\n",
    "print('The fatality count is:')\n",
    "print(fatality['deaths'].sum())\n",
    "\n",
    "# Calculating the number of injuries\n",
    "injury = Gas_Dist_Acc['INJURE'].value_counts().reset_index()\n",
    "injury.rename(columns={'index':'Injuries'}, inplace = True)\n",
    "injury['injuries'] = injury['Injuries']*injury['INJURE']\n",
    "print('The injury count is:')\n",
    "print(injury['injuries'].sum())"
   ]
  },
  {
   "cell_type": "markdown",
   "metadata": {},
   "source": [
    "The injury/fatality rate is larger than the Gas Transmission lines injury/fatality, so this warrants a closer look. We combine the fatalities and the injuries into a new column \"Casualties\". The reason for the larger number of casualties, is that the gas distribution netwrok has a considerable presence in locations with higher population densities. As a result, the casualties are higher when there is an incident. "
   ]
  },
  {
   "cell_type": "code",
   "execution_count": null,
   "metadata": {},
   "outputs": [],
   "source": [
    "\n",
    "Casualties = Gas_Dist_Acc[(Gas_Dist_Acc['FATALITY_IND']=='YES')|(Gas_Dist_Acc['INJURY_IND']=='YES')]\n",
    "Casualties_by_State = Casualties.groupby(['LOCATION_STATE_ABBREVIATION', 'CAUSE', 'CAUSE_DETAILS']).sum()\n",
    "Casualties_by_State= Casualties_by_State.reset_index()\n",
    "Casualties_by_State.rename(columns = {'LOCATION_STATE_ABBREVIATION':'State',\n",
    "                                    'FATAL':'Number_Fatalities',\n",
    "                                    'CAUSE': 'Cause',\n",
    "                                    'CAUSE_DETAILS': 'Cause Details',\n",
    "                                    'INJURE':'Number_Injuried'}, inplace=True)\n",
    "\n",
    "\n",
    "Casualties_by_State['Cause'] = Casualties_by_State['Cause'].str.lower().str.capitalize()\n",
    "Casualties_by_State['Cause Details'] = Casualties_by_State['Cause Details'].str.lower().str.capitalize()\n",
    "Casualties_by_State['Casualties'] = Casualties_by_State['Number_Fatalities']+Casualties_by_State['Number_Injuried']\n",
    "\n",
    "Casualties_by_State.sample(3)"
   ]
  },
  {
   "cell_type": "code",
   "execution_count": null,
   "metadata": {},
   "outputs": [],
   "source": [
    "\n",
    "fig = px.bar(data_frame=Casualties_by_State, y ='Casualties' , x ='State' , color ='Cause' , #hover_data='CAUSE_DETAILS',\n",
    "            color_discrete_sequence= px.colors.sequential.Jet, orientation='v',\n",
    "            hover_data={'Cause Details'},\n",
    "            title='Casualties of Gas Distribution Line Incidents in Past 10 Years')\n",
    "fig.update_layout(showlegend=True)\n",
    "fig.show()\n",
    "\n"
   ]
  },
  {
   "cell_type": "markdown",
   "metadata": {},
   "source": [
    "Using a map to show the worst States in terms of the total casualties in the last 10 years. "
   ]
  },
  {
   "cell_type": "code",
   "execution_count": null,
   "metadata": {},
   "outputs": [],
   "source": [
    "Casualties_by_State =Casualties_by_State.groupby(['State']).sum().reset_index() #grouping based on States only for the heatmap"
   ]
  },
  {
   "cell_type": "code",
   "execution_count": null,
   "metadata": {},
   "outputs": [],
   "source": [
    "#Plotting the heatmap\n",
    "fig = px.choropleth(Casualties_by_State,\n",
    "                    locations='State', \n",
    "                    locationmode=\"USA-states\", \n",
    "                    scope=\"usa\",\n",
    "                    color='Casualties',\n",
    "                    color_continuous_scale=\"speed\", \n",
    "                    )\n",
    "\n",
    "fig.update_layout(margin={\"r\":0,\"t\":0,\"l\":0,\"b\":0})\n",
    "\n",
    "fig.show()"
   ]
  },
  {
   "cell_type": "markdown",
   "metadata": {},
   "source": [
    "# Conclusions\n",
    "\n",
    "In this project we explored the incient data provided by the [Pipeline and Hazardous Materials Safety Administration (PHMSA)](https://www.phmsa.dot.gov/data-and-statistics/pipeline/distribution-transmission-gathering-lng-and-liquid-accident-and-incident-data) and found some insights related to the locations, causes and associated casualties of gas pipeline incidents in the United States over the last 10 years. We utilised [plotly](https://plotly.com/) to make interactive visualisations of the data to help us understand the available data better. \n",
    "\n",
    "Causes, casualties, and incident locations are inherently different between gas transmission and gas distribution pipelines. \n",
    "\n",
    "The former has less casualities as its not distributed among the areas wiht large population, natually the highest number of incidents occure in Texas, Oklahoma and Gulf of mexico where the transmission lines are more pervalent. The number of incidets per year is stead around 100 incidents. The major causes for gas transmission lines are equipment failure, mainly vause of malfunctioning control and releif equipment, followed by corrosion issues. \n",
    "\n",
    "Gas distribution pipeline incidents on the oter hand occure in the locations with much larger population dentisy. As a result their casualty rates are higher. The pipeline netwrok itself is much more widespread as well, contributing to the higher incident and casualty rate. California has the highest number of gas distribution incidents in the last 10 years followed by New York, however, in temrs of casualties, the State of New York has the highest number of casualties. The main cotrnobuter to the incidents resulting in casulties is natural foce damage due to earth movement.\n",
    "\n"
   ]
  }
 ],
 "metadata": {
  "kernelspec": {
   "display_name": "pipe-env",
   "language": "python",
   "name": "python3"
  },
  "language_info": {
   "codemirror_mode": {
    "name": "ipython",
    "version": 3
   },
   "file_extension": ".py",
   "mimetype": "text/x-python",
   "name": "python",
   "nbconvert_exporter": "python",
   "pygments_lexer": "ipython3",
   "version": "3.9.13"
  },
  "orig_nbformat": 4,
  "vscode": {
   "interpreter": {
    "hash": "e9b4a9b868d967ad1469bb10dcb5026682820492dc9f662bc661c76c133755b7"
   }
  }
 },
 "nbformat": 4,
 "nbformat_minor": 2
}
